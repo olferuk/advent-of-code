{
 "cells": [
  {
   "cell_type": "markdown",
   "id": "874ae039-c541-4cb8-b53f-6c7271c1537a",
   "metadata": {},
   "source": [
    "# Задача 1"
   ]
  },
  {
   "cell_type": "code",
   "execution_count": 3,
   "id": "81231585-3a8a-400c-a734-cccd6de48943",
   "metadata": {},
   "outputs": [],
   "source": [
    "data = \"()()(()()()(()()((()((()))((()((((()()((((()))()((((())(((((((()(((((((((()(((())(()()(()((()()(()(())(()((((()((()()()((((())((((((()(()(((()())(()((((()))())(())(()(()()))))))))((((((((((((()())()())())(())))(((()()()((((()(((()(()(()()(()(()()(()(((((((())(())(())())))((()())()((((()()((()))(((()()()())))(())))((((())(((()())(())(()))(()((((()())))())((()(())(((()((((()((()(())())))((()))()()(()(()))))((((((((()())((((()()((((()(()())(((((()(()())()))())(((()))()(()(()(()((((()(())(()))(((((()()(()()()(()(((())())(((()()(()()))(((()()(((())())(()(())())()()(())()()()((()(((()(())((()()((())()))((()()))((()()())((((()(()()(()(((()))()(()))))((()(((()()()))(()(((())()(()((()())(()(()()(()())(())()(((()(()())()((((()((()))))())()))((()()()()(())()())()()()((((()))))(()(((()()(((((((())()))()((((()((())()(()())(())()))(()(()())(((((((())))(((()))())))))()))())((())(()()((())()())()))))()((()()())(())((())((((()())())()()()(((()))())))()()))())(()()()(()((((((()()))())()))()(((()(((())((((()()()(()))())()()))))())()))())((())()())(((((())())((())())))(((())(((())(((((()(((((())(()(()())())(()(())(()))(()((((()))())()))))())))((()(()))))())))(((((())()))())()))))()))))(((()))()))))((()))((()((()(()(())()())))(()()()(())()))()((((())))))))(())(()((()()))(()))(()))(()((()))))))()()((((()()))()())()))))))()()()))(()((())(()))((()()()())()(((()((((())())))()((((()(()))))))())))()()())()))(()))))(()())()))))))((())))))))())()))()((())())))(()((()))()))(())))))(()))()())()()))((()(()))()()()()))))())()()))())(())()()))()))((()))))()()(()())))))()()()))((((()))()))))(()(())))(()())))((())())(()))()))))()())))()())()())))))))))()()))))())))((())((()))))())))(((()())))))))(()))()()))(()))()))))()())))))())((((()())))))))())))()()))))))))()))()))))()))))))(())))))))))())))))))))))))))())())((())))))))))()))((())))()))))))))())()(()))))))())))))()()()())()(()()()(()())(()))()()()(()())))())())))()))))())))))))()()()()())(())())()())()))))(()()()()()))))()))())())))((()())()())))()))()))))(()())))()))))))))(((()))()()))))))))))))))))))))(()))(()((()))())))())(()))(()(()(())))))()(()))()))()()))))))))))))()((()())(())())()(())))))())()())((()()))))(()()))))())()(())()))))))))))))))))))))()))(()(()())))))))()()((()))()))))))((())))()))))))))((()))())()()))())()()))((()))())))))))))))(()())()))(())((()(()()))(()())(())))()())(()(())()()))))()))()(()))))))(()))))))))))(()))())))))))))())))))())))(())))))()))))(())())))))))))()(()))))()())))())(()))()())))))))))))))())()()))))()))))))())))))()))))(())(()()()()((())()))())(()))((())()))())())(())(()()))))()))(())()()((())(())))(())))()))())))))))))()(((((())())))(())()))))(())))((()))()(((((((()))))()()))(())))))()(()))))(()()))()))())))))))(()())()))))))))())))(()))())()))(())()((())())()())())(()(()))))()))))))((()())(())()()(()())))()()))(())(())(()))())))()))(()))()()))((((()))))()))((()()()))))()))()))())))(()))()))))(())))()))())()(()))()())))())))))))())))())))()()))))))(()))())())))()))()()())())))))))))))))())))()))(()()))))())))())()(())))())))))))))))))))))()()())())))))()()()((()(()))()()(())()())()))()))))()()()))))))((()))))))))()(()(()((((((()()((()())))))))))))()))())))))((())())(()))())))())))))())()()())(())))())))()())())(())))))))()()(())))()))())))())())())()))))))))()))(()()()())())())))(())())))))))()()())()))))())))())()(())())))))))()())()))(()()(())())))()(()((()()((()()(((((())(()())()))(())()))(())))(())))))))()))()))((()))()))()))))))))()))))))))((()()())(()))(((()))(())))()))((())(((())))()())))())))))((())))))(())())((((((())())()(()))()(()((()())))((())()(()(()))))(())(()()())(())))())((()(((())())))(((()())())))())()(())())((((()()))))())((()))()()()()(())(((((((()()()((()))())(()())))(())())((((()()(()))))()((())))((())()))()(((()))())))()))((()(()))(())(()((((())((((()()(()()))(((())(()))))((((()(()))(())))))((()))(()))((()(((()(()))(()(()((()(())(()(()(()(()()((()))())(((())(()(()))))(()))()()))(())))(())()(((())(()))()((((()()))))())(()))))((())()((((()(((()))())())(((()))()())((())(())())(())()(())()(()()((((((()()))))()()(((()()))))()())()(((()(()))(()(()())(()(()))))(((((()(((())())))))(((((()((()()((())())((((((()(())(()()((()()()()()()()(()()))()(((()))()))(((((((())(((()((()())()((((())(((()(())))()((()(()()()((())((()())()))()))())))())((((((()))(()(()()()))(()((()(()(()))()((()(((()()()((())(((((())()(()))())())((()(())))(()(()())(())((())())())(((()()()(())))))())(()))))))()))))))())((()()()))((()((((((()))(((()((((()()()(((()))())()(()()(((()((()()()()())()()))()()()(()(())((()))))(()))())))))))()(()()(((((())()(()(((((()((()(()()())(()((((((((()((((((())()((((()()()((()((()((((((()))((())))))))())()))((()(()))()(()()(()((())((()()((((((((((((()())(()()()))((((()((((((())(()))())(()()((()()))()(((((((()((()()((((((()(((())))((())))((((((((()()(((((((())(((((()())(((())((())()((((()(((((((()(()(((()((((((()(((()(((((((((((()()((()()(()))((()()(((()(((())))((((())()(()(((())()(()(((())(((((((((((()))())))((((((())((()()((((()())())((((()()))((())(((((()(()()(()()()((())(()((()()((((()(((((()((()(()((((()())((((((()(((((()()(()(()((((())))(())(())(())((((()(()()((((()((((()()((()((((((())))(((((()))))()))(()((((((((()(((())())(((())))(()(()((())(((()((()()(((((()((()()(((())()(()))(((((((())(()(((((()))((()((()((()))(())())((((()((((())()(()))(((()(((((((((((((((())(((((((((()))(((()(()()()()((((((()((())()((((((((()(())(((((((((((()(()((())()((()()(()(()()((((()()((())(()((()()(()()((((()(((((((())))((((())(())()(((()()((()()((((()((()(((()((())(((()()()((((()((((()()(()(()((((((((())(()(((((())(()())(((((((()())()(()((((()((())(()()())((((()()(((()((((())(())(()()(((((((((()()))()(((())(()(()((((((())(()()())(()))()()(((()(((()((())(()(((((((()(()(()((()(((((()(()((()(()((((((()((((()()((((()(((()((())(()(()((()()((((()()(())()(())(((())(()((((((((()())(((((((((()(())()((((())))()))()()(((((()()((((((())(()()(((()(()(((((((()(()(((((((())(())((((()((()(())))((((()()())(()))((()())((((()(((((()(()(())(()(()()())(((((()(((((()((((()()((((((((()()))(()((((((())((((())()(()(((()()()(((()(()(())(())(((((()(())())((((())(())(()(((()(((((())((((())())((()(((((((()(((())(()(()))(((((((((()((()((()()(()((((())(((()((())((((())(()(((()(((()(()((((()(((())(()(((()(()()(()(()((()()(()())(())())((()(()(((()(((()(((()()(((((((((()(((((((((()()(((()(((()())((((()(()(((()()()((())((((((((((())(()(((()((((()())((((()((()))(((()()()(((((()(((((((())((()())(()((((())((((((((())(()((()((((((((((()()((()((()()))(((()())()())()(((()())()()(()(()(((((((())()))(())()))())()()((())()((()((((()((()((())(((((()((((((()(())))(()))())(((()))((()()(()(((()))((((())()(((()))))()(()(())()(((((())(()(()(())(())()((()()()((((()(())((()())(()(()))(()(()(()()(())()()(()((())()((()))))()))((()(()()()()((()())(()))())()(()(((((((((())())((()((()((((((())()((((())(((())((()(()()()((())(()((())(((()((((()()((()(()(((((())()))()((((((()))((())(((()()))(((())(())()))(((((((())(())())()(())(((((()))()((()))()(()()((()()()()()())(((((((\"\n"
   ]
  },
  {
   "cell_type": "markdown",
   "id": "a16716f7-a7cf-49bb-9bbe-2d123df05242",
   "metadata": {},
   "source": [
    "```python\n",
    "for i in range(len(data)):\n",
    "    data[i] # очередной символ\n",
    "\n",
    "for c in data:\n",
    "    c # очередной символ\n",
    "```"
   ]
  },
  {
   "cell_type": "code",
   "execution_count": 8,
   "id": "3253c3da-b724-4a23-a5d5-2449a2ed5432",
   "metadata": {},
   "outputs": [
    {
     "data": {
      "text/plain": [
       "280"
      ]
     },
     "execution_count": 8,
     "metadata": {},
     "output_type": "execute_result"
    }
   ],
   "source": [
    "floor = 0\n",
    "\n",
    "for c in data:\n",
    "    if c == \"(\":\n",
    "        floor += 1  # floor = floor + 1\n",
    "    # elif c == \")\":\n",
    "    else:\n",
    "        floor -= 1\n",
    "\n",
    "floor"
   ]
  },
  {
   "cell_type": "code",
   "execution_count": 9,
   "id": "4412aafb-ca41-43fa-8c39-7e872a3cf31d",
   "metadata": {},
   "outputs": [
    {
     "data": {
      "text/plain": [
       "1796"
      ]
     },
     "execution_count": 9,
     "metadata": {},
     "output_type": "execute_result"
    }
   ],
   "source": [
    "floor = 0\n",
    "\n",
    "for i in range(len(data)):\n",
    "    \n",
    "    c = data[i]\n",
    "    if c == \"(\":\n",
    "        floor += 1\n",
    "    elif c == ')':\n",
    "        floor -= 1\n",
    "    \n",
    "    if floor == -1:\n",
    "        stop_i = i\n",
    "        break\n",
    "\n",
    "stop_i"
   ]
  },
  {
   "cell_type": "markdown",
   "id": "3a3ce160-207f-45f0-9715-f6c0b4431560",
   "metadata": {},
   "source": [
    "----"
   ]
  },
  {
   "cell_type": "markdown",
   "id": "f0f9b926-501f-4dab-9526-d3dfeba2d2b4",
   "metadata": {},
   "source": [
    "# Задача 2"
   ]
  },
  {
   "cell_type": "code",
   "execution_count": 177,
   "id": "b3a83937-c90b-4be0-9c5c-982b98023ac1",
   "metadata": {},
   "outputs": [],
   "source": [
    "# from puzzles import load\n",
    "lines = \"\"\"скопируйте ваше условие сюда\"\"\""
   ]
  },
  {
   "cell_type": "raw",
   "id": "e4013551-e5f8-43ac-b737-05261ddeee8d",
   "metadata": {},
   "source": [
    "lines = load(2).strip().split(\"\\n\")"
   ]
  },
  {
   "cell_type": "markdown",
   "id": "e6d007b6-22f0-4a82-9021-13f45cdca755",
   "metadata": {
    "tags": []
   },
   "source": [
    "### Про непечатаемые служебные символы"
   ]
  },
  {
   "cell_type": "code",
   "execution_count": 25,
   "id": "032940d2-aaf8-4360-9abe-7d0afc7c6343",
   "metadata": {},
   "outputs": [
    {
     "name": "stdout",
     "output_type": "stream",
     "text": [
      "A\n",
      "B\n",
      "C\n"
     ]
    }
   ],
   "source": [
    "print(\"A\\nB\\nC\")"
   ]
  },
  {
   "cell_type": "markdown",
   "id": "88b98821-abde-43d3-ab3b-a17527bc2b70",
   "metadata": {
    "tags": []
   },
   "source": [
    "### Про list comrehension"
   ]
  },
  {
   "cell_type": "code",
   "execution_count": 29,
   "id": "73577b52-7642-407f-bc3b-50a5cc585f28",
   "metadata": {},
   "outputs": [
    {
     "name": "stdout",
     "output_type": "stream",
     "text": [
      "[3, 11, 24]\n"
     ]
    },
    {
     "data": {
      "text/plain": [
       "[3, 11, 24]"
      ]
     },
     "execution_count": 29,
     "metadata": {},
     "output_type": "execute_result"
    }
   ],
   "source": [
    "a = []\n",
    "for x in line.split('x'):\n",
    "    a.append(int(x))\n",
    "print(a)\n",
    "\n",
    "a = [int(x) for x in line.split('x')]\n",
    "a"
   ]
  },
  {
   "cell_type": "code",
   "execution_count": 32,
   "id": "86d956b8-874c-4edc-a2d4-0ee9c5430e2c",
   "metadata": {},
   "outputs": [
    {
     "name": "stdout",
     "output_type": "stream",
     "text": [
      "[24]\n"
     ]
    },
    {
     "data": {
      "text/plain": [
       "[24]"
      ]
     },
     "execution_count": 32,
     "metadata": {},
     "output_type": "execute_result"
    }
   ],
   "source": [
    "a = []\n",
    "for x in line.split('x'):\n",
    "    if int(x) % 2 == 0:\n",
    "        a.append(int(x))\n",
    "print(a)\n",
    "\n",
    "a = [int(qwe) for qwe in line.split('x') if int(qwe) % 2 == 0]\n",
    "a"
   ]
  },
  {
   "cell_type": "code",
   "execution_count": null,
   "id": "ba3bc054-eabc-424d-a9fc-1863573691e2",
   "metadata": {},
   "outputs": [],
   "source": [
    "a = []\n",
    "for x in line.split('x'):\n",
    "    if int(x) % 2 == 0:\n",
    "        a.append(int(x))\n",
    "    else:\n",
    "        a.append(-int(x))\n",
    "print(a)\n",
    "\n",
    "a = [(int(qwe) if int(qwe) % 2 == 0 else -int(qwe)) for qwe in line.split('x') if int(qwe) > 10]\n",
    "a"
   ]
  },
  {
   "cell_type": "markdown",
   "id": "a371709e-afcf-44cf-b4ce-3e6c3ab2a064",
   "metadata": {},
   "source": [
    "---"
   ]
  },
  {
   "cell_type": "code",
   "execution_count": 39,
   "id": "60e4b9c4-103b-40d1-8238-288269778a67",
   "metadata": {},
   "outputs": [
    {
     "data": {
      "text/plain": [
       "[1, 2, 0, 1, 2, 0]"
      ]
     },
     "execution_count": 39,
     "metadata": {},
     "output_type": "execute_result"
    }
   ],
   "source": [
    "[x%3 for x in [1,2,3,4,5,6]]"
   ]
  },
  {
   "cell_type": "code",
   "execution_count": 40,
   "id": "31f58cb5-ff0a-4c44-9e89-bdba9aef388b",
   "metadata": {},
   "outputs": [
    {
     "data": {
      "text/plain": [
       "{0, 1, 2}"
      ]
     },
     "execution_count": 40,
     "metadata": {},
     "output_type": "execute_result"
    }
   ],
   "source": [
    "{x%3 for x in [1,2,3,4,5,6]}"
   ]
  },
  {
   "cell_type": "code",
   "execution_count": 41,
   "id": "49b41b03-0a8f-4a33-88b8-fd863deca82b",
   "metadata": {},
   "outputs": [
    {
     "data": {
      "text/plain": [
       "{1: 1, 2: 2, 3: 0, 4: 1, 5: 2, 6: 0}"
      ]
     },
     "execution_count": 41,
     "metadata": {},
     "output_type": "execute_result"
    }
   ],
   "source": [
    "{x: x%3 for x in [1,2,3,4,5,6]}"
   ]
  },
  {
   "cell_type": "markdown",
   "id": "2cbea2a1-3ef3-48ce-97c7-1a820713dec8",
   "metadata": {},
   "source": [
    "---"
   ]
  },
  {
   "cell_type": "code",
   "execution_count": 57,
   "id": "f021e66a-4e37-46b1-a532-242fcbfdba57",
   "metadata": {},
   "outputs": [
    {
     "data": {
      "text/plain": [
       "1588178"
      ]
     },
     "execution_count": 57,
     "metadata": {},
     "output_type": "execute_result"
    }
   ],
   "source": [
    "total = 0\n",
    "\n",
    "for line in lines:\n",
    "    a, b, c = sorted([int(x) for x in line.split(\"x\")])\n",
    "    \n",
    "    S = 2*(a*b + b*c + c*a)\n",
    "    slack = a*b\n",
    "    \n",
    "    total += S + slack\n",
    "\n",
    "total"
   ]
  },
  {
   "cell_type": "code",
   "execution_count": 60,
   "id": "ec4ed51f-a5e9-4e26-9997-9c0dd1d7f139",
   "metadata": {},
   "outputs": [
    {
     "data": {
      "text/plain": [
       "3783758"
      ]
     },
     "execution_count": 60,
     "metadata": {},
     "output_type": "execute_result"
    }
   ],
   "source": [
    "total = 0\n",
    "\n",
    "for line in lines:\n",
    "    a, b, c = sorted([int(x) for x in line.split(\"x\")])\n",
    "    \n",
    "    S = 2*(a + b)\n",
    "    ribbon = a*b*c\n",
    "    \n",
    "    total += S + ribbon\n",
    "\n",
    "total"
   ]
  },
  {
   "cell_type": "markdown",
   "id": "6793ab66-2e24-438e-86c9-96e160103102",
   "metadata": {},
   "source": [
    "---\n",
    "# Задача 3"
   ]
  },
  {
   "cell_type": "code",
   "execution_count": 179,
   "id": "e65a914c-0a2c-4e9d-94cf-a6d203645011",
   "metadata": {},
   "outputs": [],
   "source": [
    "# s = load(3)\n",
    "s = \"<ваше условие>\""
   ]
  },
  {
   "cell_type": "markdown",
   "id": "bc794f85-038f-4808-b02c-00a9e4b40892",
   "metadata": {},
   "source": [
    "### Про mutable и immutable типы данных"
   ]
  },
  {
   "cell_type": "code",
   "execution_count": 69,
   "id": "0bb05eba-da08-40ac-a1c1-22a04441532f",
   "metadata": {},
   "outputs": [],
   "source": [
    "d = {1: 100}"
   ]
  },
  {
   "cell_type": "code",
   "execution_count": 70,
   "id": "c46b2d62-5500-4ba8-bdf7-e077d1123fff",
   "metadata": {},
   "outputs": [
    {
     "data": {
      "text/plain": [
       "100"
      ]
     },
     "execution_count": 70,
     "metadata": {},
     "output_type": "execute_result"
    }
   ],
   "source": [
    "d[1]"
   ]
  },
  {
   "cell_type": "code",
   "execution_count": 80,
   "id": "98ab17b2-e111-43d5-904f-cc40ffd42838",
   "metadata": {},
   "outputs": [],
   "source": [
    "t = (1,2,3)\n",
    "d = {t: \"Window\"}"
   ]
  },
  {
   "cell_type": "code",
   "execution_count": 85,
   "id": "d596a78f-3494-4a48-b62a-8b0b19f75bb2",
   "metadata": {},
   "outputs": [],
   "source": [
    "d[(1,2)] = (123,1)"
   ]
  },
  {
   "cell_type": "code",
   "execution_count": 86,
   "id": "b9ab2c69-24bb-447f-b536-2dd4aa094230",
   "metadata": {},
   "outputs": [
    {
     "data": {
      "text/plain": [
       "{(1, 2, 3): 'Window', (1, 2): (123, 1)}"
      ]
     },
     "execution_count": 86,
     "metadata": {},
     "output_type": "execute_result"
    }
   ],
   "source": [
    "d"
   ]
  },
  {
   "cell_type": "raw",
   "id": "d87ddc34-a397-43fa-b2b4-0f99d403f906",
   "metadata": {},
   "source": [
    "t.append(123)"
   ]
  },
  {
   "cell_type": "raw",
   "id": "e56b02af-4385-498d-a86a-cedc7834caca",
   "metadata": {},
   "source": [
    "t.insert(123)"
   ]
  },
  {
   "cell_type": "code",
   "execution_count": 84,
   "id": "40bd57e8-f32c-4e72-a7d9-483d31096f0f",
   "metadata": {},
   "outputs": [
    {
     "data": {
      "text/plain": [
       "'Window'"
      ]
     },
     "execution_count": 84,
     "metadata": {},
     "output_type": "execute_result"
    }
   ],
   "source": [
    "d[t]"
   ]
  },
  {
   "cell_type": "code",
   "execution_count": 77,
   "id": "86581de5-9cb2-43bb-9e19-2eca8ae18ca9",
   "metadata": {},
   "outputs": [],
   "source": [
    "t = [1, 2, 3]"
   ]
  },
  {
   "cell_type": "code",
   "execution_count": 78,
   "id": "106c6087-1114-41b8-b280-5f1a1c036584",
   "metadata": {},
   "outputs": [],
   "source": [
    "t.append(5)"
   ]
  },
  {
   "cell_type": "code",
   "execution_count": 79,
   "id": "549e616e-cd03-47f8-8079-70cbc5057ce3",
   "metadata": {},
   "outputs": [
    {
     "data": {
      "text/plain": [
       "[1, 2, 3, 5]"
      ]
     },
     "execution_count": 79,
     "metadata": {},
     "output_type": "execute_result"
    }
   ],
   "source": [
    "t"
   ]
  },
  {
   "cell_type": "code",
   "execution_count": null,
   "id": "c0f4b66d-a726-484f-a1ad-f1a36dd2329a",
   "metadata": {},
   "outputs": [],
   "source": [
    "t = (1,2,3)"
   ]
  },
  {
   "cell_type": "code",
   "execution_count": 73,
   "id": "b684883f-8be1-4c59-be11-cf868f61945b",
   "metadata": {},
   "outputs": [
    {
     "ename": "TypeError",
     "evalue": "unhashable type: 'list'",
     "output_type": "error",
     "traceback": [
      "\u001b[0;31m---------------------------------------------------------------------------\u001b[0m",
      "\u001b[0;31mTypeError\u001b[0m                                 Traceback (most recent call last)",
      "\u001b[0;32m/var/folders/x4/t1fx1l8s0f97y033bl0gpgcr0000gn/T/ipykernel_35786/2678729097.py\u001b[0m in \u001b[0;36m<module>\u001b[0;34m\u001b[0m\n\u001b[0;32m----> 1\u001b[0;31m \u001b[0md\u001b[0m \u001b[0;34m=\u001b[0m \u001b[0;34m{\u001b[0m\u001b[0;34m[\u001b[0m\u001b[0;36m1\u001b[0m\u001b[0;34m,\u001b[0m\u001b[0;36m2\u001b[0m\u001b[0;34m,\u001b[0m\u001b[0;36m3\u001b[0m\u001b[0;34m]\u001b[0m\u001b[0;34m:\u001b[0m \u001b[0;34m\"Window\"\u001b[0m\u001b[0;34m}\u001b[0m\u001b[0;34m\u001b[0m\u001b[0;34m\u001b[0m\u001b[0m\n\u001b[0m",
      "\u001b[0;31mTypeError\u001b[0m: unhashable type: 'list'"
     ]
    }
   ],
   "source": [
    "d = {[1,2,3]: \"Window\"}"
   ]
  },
  {
   "cell_type": "code",
   "execution_count": 112,
   "id": "cf92c9c0-cd94-453a-b36f-4193dfcb1dfe",
   "metadata": {},
   "outputs": [
    {
     "data": {
      "text/plain": [
       "[2, 2, 3]"
      ]
     },
     "execution_count": 112,
     "metadata": {},
     "output_type": "execute_result"
    }
   ],
   "source": [
    "s = [1,2,3]\n",
    "\n",
    "def f(x):\n",
    "    x[0] += 1\n",
    "\n",
    "f(s)\n",
    "\n",
    "s"
   ]
  },
  {
   "cell_type": "code",
   "execution_count": 118,
   "id": "76c3a29b-52cb-44c3-b9f4-ad991320f938",
   "metadata": {},
   "outputs": [
    {
     "data": {
      "text/plain": [
       "[1, 7, 25]"
      ]
     },
     "execution_count": 118,
     "metadata": {},
     "output_type": "execute_result"
    }
   ],
   "source": [
    "sorted(set([1,25,7,7,7,7,7,7]))"
   ]
  },
  {
   "cell_type": "code",
   "execution_count": 115,
   "id": "138aabf0-eba0-44bd-b406-547bb529d92c",
   "metadata": {},
   "outputs": [
    {
     "data": {
      "text/plain": [
       "((2, 2, 3), (1, 2, 3))"
      ]
     },
     "execution_count": 115,
     "metadata": {},
     "output_type": "execute_result"
    }
   ],
   "source": [
    "s = (1,2,3)\n",
    "\n",
    "def f(x):\n",
    "    # x[0] += 1\n",
    "    return (x[0] + 1, *x[1:])\n",
    "\n",
    "f(s), s\n",
    "\n",
    "# s"
   ]
  },
  {
   "cell_type": "code",
   "execution_count": 126,
   "id": "b9b285a9-c437-43c7-ae08-9e19e3bc1b94",
   "metadata": {},
   "outputs": [
    {
     "data": {
      "text/plain": [
       "True"
      ]
     },
     "execution_count": 126,
     "metadata": {},
     "output_type": "execute_result"
    }
   ],
   "source": [
    "(0,0) in visited"
   ]
  },
  {
   "cell_type": "markdown",
   "id": "66b871e5-1e82-4439-a0af-00e15121420c",
   "metadata": {},
   "source": [
    "---"
   ]
  },
  {
   "cell_type": "code",
   "execution_count": 124,
   "id": "b26c0c80-2a51-4673-85e8-8f29b0682649",
   "metadata": {},
   "outputs": [
    {
     "data": {
      "text/plain": [
       "2572"
      ]
     },
     "execution_count": 124,
     "metadata": {},
     "output_type": "execute_result"
    }
   ],
   "source": [
    "# tuple is immutable\n",
    "# list is mutable\n",
    "\n",
    "p = (0, 0)\n",
    "visited = { (0, 0) }\n",
    "\n",
    "directions = {\n",
    "    \"^\": (0, 1),\n",
    "    \"v\": (0, -1),\n",
    "    \">\": (1, 0),\n",
    "    \"<\": (-1, 0),\n",
    "}\n",
    "\n",
    "for d in s:\n",
    "    shift = directions[d]\n",
    "    p = (p[0] + shift[0], p[1] + shift[1])\n",
    "    visited.add(p)\n",
    "\n",
    "len(visited)"
   ]
  },
  {
   "cell_type": "markdown",
   "id": "3fd4b7b0-1172-4c07-987e-15c30c23ad55",
   "metadata": {},
   "source": [
    "Для визуализации запомним весь путь:"
   ]
  },
  {
   "cell_type": "code",
   "execution_count": 101,
   "id": "de4401f4-daa3-4a59-9935-4e47699fb01d",
   "metadata": {},
   "outputs": [],
   "source": [
    "p = [0, 0]\n",
    "path = [[0, 0]]\n",
    "\n",
    "for d in s:\n",
    "\n",
    "    if d == '^':\n",
    "        shift = (0, 1)\n",
    "    elif d == 'v':\n",
    "        shift = (0, -1)\n",
    "    elif d == '>':\n",
    "        shift = (1, 0)\n",
    "    elif d == '<':\n",
    "        shift = (-1, 0)\n",
    "    \n",
    "    p = [p[0] + shift[0], p[1] + shift[1]]\n",
    "    path.append(p)"
   ]
  },
  {
   "cell_type": "code",
   "execution_count": 103,
   "id": "45ddb634-b121-4be9-82fe-9bb779e600ad",
   "metadata": {},
   "outputs": [],
   "source": [
    "import matplotlib.pyplot as plt\n",
    "import numpy as np"
   ]
  },
  {
   "cell_type": "code",
   "execution_count": 104,
   "id": "07873f3d-7b21-4b90-9492-9bb5afc33f78",
   "metadata": {},
   "outputs": [],
   "source": [
    "path = np.array(path)"
   ]
  },
  {
   "cell_type": "code",
   "execution_count": 107,
   "id": "019f1f7b-1149-47cf-8d5a-6aed77229828",
   "metadata": {},
   "outputs": [
    {
     "data": {
      "text/plain": [
       "[<matplotlib.lines.Line2D at 0x7ff0019970d0>]"
      ]
     },
     "execution_count": 107,
     "metadata": {},
     "output_type": "execute_result"
    },
    {
     "data": {
      "image/png": "[encoded data removed]",
      "text/plain": [
       "<Figure size 1080x720 with 1 Axes>"
      ]
     },
     "metadata": {
      "needs_background": "light"
     },
     "output_type": "display_data"
    }
   ],
   "source": [
    "plt.figure(figsize=(15, 10))\n",
    "plt.plot(path[:,0],path[:,1])"
   ]
  },
  {
   "cell_type": "markdown",
   "id": "a8fa0592-b570-4420-95c7-e3d4a9c0fe98",
   "metadata": {},
   "source": [
    "---"
   ]
  },
  {
   "cell_type": "markdown",
   "id": "c3648538-2476-4f89-9023-5a2f68df8683",
   "metadata": {},
   "source": [
    "# Задача 4"
   ]
  },
  {
   "cell_type": "code",
   "execution_count": 129,
   "id": "86f9a27c-8041-414d-a5a4-03d5e6a4dcea",
   "metadata": {},
   "outputs": [],
   "source": [
    "import hashlib"
   ]
  },
  {
   "cell_type": "code",
   "execution_count": 131,
   "id": "34821580-b14f-4bbb-8645-4f2ba803575a",
   "metadata": {},
   "outputs": [
    {
     "data": {
      "text/plain": [
       "b'GeeksforGeeks'"
      ]
     },
     "execution_count": 131,
     "metadata": {},
     "output_type": "execute_result"
    }
   ],
   "source": [
    "b'GeeksforGeeks'"
   ]
  },
  {
   "cell_type": "markdown",
   "id": "bce8ea94-bf6d-401f-889f-2b22e2ea2e0f",
   "metadata": {},
   "source": [
    "### Про лямбда-функции"
   ]
  },
  {
   "cell_type": "code",
   "execution_count": null,
   "id": "84332a39-9438-46e5-8ee4-dd862b43f938",
   "metadata": {},
   "outputs": [],
   "source": [
    "# def add_two(x):\n",
    "#     return x + 2\n",
    "\n",
    "# df[\"my_column\"].apply(add_two)\n",
    "\n",
    "df[\"my_column\"].apply(lambda x: x + 2)"
   ]
  },
  {
   "cell_type": "markdown",
   "id": "fd87ab98-8a23-4a4e-aec6-3c6219bab55d",
   "metadata": {},
   "source": [
    "---"
   ]
  },
  {
   "cell_type": "code",
   "execution_count": null,
   "id": "1f287b5f-8bea-4691-86a1-8413a2407867",
   "metadata": {},
   "outputs": [],
   "source": [
    "# def get_hash(s):\n",
    "#     return hashlib.md5(s.encode()).hexdigest()\n",
    "\n",
    "get_hash = lambda s: hashlib.md5(s.encode()).hexdigest()"
   ]
  },
  {
   "cell_type": "code",
   "execution_count": 143,
   "id": "9b13927d-6919-4eb6-b3b5-973ca39d6e22",
   "metadata": {},
   "outputs": [
    {
     "name": "stdout",
     "output_type": "stream",
     "text": [
      "346386\n"
     ]
    }
   ],
   "source": [
    "for x in range(1000000):\n",
    "    s = get_hash(f\"iwrupvqb{x}\")\n",
    "    if s.startswith('00000'):\n",
    "        print(x)\n",
    "        break\n",
    "        "
   ]
  },
  {
   "cell_type": "code",
   "execution_count": 142,
   "id": "144f9d60-9a2c-48d8-88b8-bbe40de3523a",
   "metadata": {},
   "outputs": [
    {
     "data": {
      "text/plain": [
       "'4434779e32de00000c933838949a49bc'"
      ]
     },
     "execution_count": 142,
     "metadata": {},
     "output_type": "execute_result"
    }
   ],
   "source": [
    "hashlib.md5('iwrupvqb109119'.encode()).hexdigest()"
   ]
  },
  {
   "cell_type": "markdown",
   "id": "06cc6b1a-8118-4a75-820c-f6c78f123803",
   "metadata": {},
   "source": [
    "---"
   ]
  },
  {
   "cell_type": "markdown",
   "id": "1e7c1a16-5722-4334-8173-0b06c173aaea",
   "metadata": {},
   "source": [
    "# Задача 5"
   ]
  },
  {
   "cell_type": "code",
   "execution_count": 180,
   "id": "ff5efa17-9e3e-4c82-8b09-2662c37cb7a6",
   "metadata": {},
   "outputs": [],
   "source": [
    "# ss = load(5).strip().split(\"\\n\")\n",
    "ss = \"Ваше условие здесь\""
   ]
  },
  {
   "cell_type": "code",
   "execution_count": 146,
   "id": "a5f96800-b85c-4cd0-8aa0-229a06f01f7f",
   "metadata": {},
   "outputs": [],
   "source": [
    "vowels = \"aeiou\""
   ]
  },
  {
   "cell_type": "markdown",
   "id": "2f86cee2-5bce-4d13-9729-d11a63a0dcfe",
   "metadata": {},
   "source": [
    "### Про типы данных и zip"
   ]
  },
  {
   "cell_type": "code",
   "execution_count": 148,
   "id": "b92b8624-ffc3-4816-b2d3-d9e14c3cc2ae",
   "metadata": {},
   "outputs": [
    {
     "data": {
      "text/plain": [
       "1"
      ]
     },
     "execution_count": 148,
     "metadata": {},
     "output_type": "execute_result"
    }
   ],
   "source": [
    "int(True)"
   ]
  },
  {
   "cell_type": "code",
   "execution_count": 149,
   "id": "0cfab49a-1c2b-48cf-b9a7-9ed4b6395e37",
   "metadata": {},
   "outputs": [
    {
     "data": {
      "text/plain": [
       "0"
      ]
     },
     "execution_count": 149,
     "metadata": {},
     "output_type": "execute_result"
    }
   ],
   "source": [
    "int(False)"
   ]
  },
  {
   "cell_type": "code",
   "execution_count": 150,
   "id": "a5f037c9-0eec-4abe-9dc5-6e76e57cb808",
   "metadata": {},
   "outputs": [],
   "source": [
    "s = \"abcde\""
   ]
  },
  {
   "cell_type": "code",
   "execution_count": 154,
   "id": "2977ef1d-ec59-49fa-9b20-2c1e9f530e29",
   "metadata": {},
   "outputs": [
    {
     "data": {
      "text/plain": [
       "[('a', 'b'), ('b', 'c'), ('c', 'd'), ('d', 'e')]"
      ]
     },
     "execution_count": 154,
     "metadata": {},
     "output_type": "execute_result"
    }
   ],
   "source": [
    "list(zip(s, s[1:]))"
   ]
  },
  {
   "cell_type": "code",
   "execution_count": 153,
   "id": "276fd907-fdbe-4a7f-906d-71abace273f4",
   "metadata": {},
   "outputs": [
    {
     "data": {
      "text/plain": [
       "[('a', 1, 5)]"
      ]
     },
     "execution_count": 153,
     "metadata": {},
     "output_type": "execute_result"
    }
   ],
   "source": [
    "list(zip(\"abc\", [1,2,3], [5]))"
   ]
  },
  {
   "cell_type": "code",
   "execution_count": 161,
   "id": "b0ebe32e-1e84-4514-86d8-0b709702e08a",
   "metadata": {},
   "outputs": [
    {
     "data": {
      "text/plain": [
       "True"
      ]
     },
     "execution_count": 161,
     "metadata": {},
     "output_type": "execute_result"
    }
   ],
   "source": [
    "line = \"augknbfddgicrmopn\"\n",
    "not any([x in line for x in [\"ab\", \"cd\", \"pq\", \"xy\"]])"
   ]
  },
  {
   "cell_type": "markdown",
   "id": "d4710a86-9b99-41df-918f-ae8d53ca2703",
   "metadata": {},
   "source": [
    "---"
   ]
  },
  {
   "cell_type": "code",
   "execution_count": 162,
   "id": "32d0c370-b403-4e72-a416-599c87e3013b",
   "metadata": {},
   "outputs": [
    {
     "data": {
      "text/plain": [
       "255"
      ]
     },
     "execution_count": 162,
     "metadata": {},
     "output_type": "execute_result"
    }
   ],
   "source": [
    "num_nice = 0\n",
    "\n",
    "for line in ss:\n",
    "    \n",
    "    num_vowels = sum([int(c in vowels) for c in line])\n",
    "    has_passed_rule_1 = num_vowels >= 3\n",
    "\n",
    "    has_passed_rule_2 = any([a == b for a, b in zip(line, line[1:])])\n",
    "    \n",
    "    has_passed_rule_3 = not any([x in line for x in [\"ab\", \"cd\", \"pq\", \"xy\"]])\n",
    "    \n",
    "    is_nice = has_passed_rule_1 and has_passed_rule_2 and has_passed_rule_3\n",
    "    num_nice += int(is_nice)\n",
    "num_nice"
   ]
  },
  {
   "cell_type": "markdown",
   "id": "4e04c023-8486-4e7b-ac9f-8bcbf4437b08",
   "metadata": {},
   "source": [
    "* It contains a pair of any two letters that appears at least twice in the string without overlapping, like xyxy (xy) or aabcdefgaa (aa), but not like aaa (aa, but it overlaps).\n",
    "\n",
    "* It contains at least one letter which repeats with exactly one letter between them, like xyx, abcdefeghi (efe), or even aaa.\n"
   ]
  },
  {
   "cell_type": "code",
   "execution_count": 174,
   "id": "4e69e893-8dd7-4fdc-a368-b0115d4599a9",
   "metadata": {},
   "outputs": [
    {
     "data": {
      "text/plain": [
       "55"
      ]
     },
     "execution_count": 174,
     "metadata": {},
     "output_type": "execute_result"
    }
   ],
   "source": [
    "num_nice = 0\n",
    "\n",
    "for line in ss:\n",
    "    \n",
    "    has_passed_rule_1 = False\n",
    "    for i in range(len(line) - 1):\n",
    "        for j in range(i + 2, len(line) - 1):\n",
    "            a, b = line[i:i+2], line[j:j+2]\n",
    "            if a == b:\n",
    "                has_passed_rule_1 = True\n",
    "                break\n",
    "        if has_passed_rule_1:\n",
    "            break\n",
    "    \n",
    "    has_passed_rule_2 = any([line[i] == line[i+2] for i in range(len(line) - 2)])\n",
    "    \n",
    "    num_nice += int(has_passed_rule_1 and has_passed_rule_2)\n",
    "\n",
    "num_nice"
   ]
  }
 ],
 "metadata": {
  "kernelspec": {
   "display_name": "Python (DE)",
   "language": "python",
   "name": "python3"
  },
  "language_info": {
   "codemirror_mode": {
    "name": "ipython",
    "version": 3
   },
   "file_extension": ".py",
   "mimetype": "text/x-python",
   "name": "python",
   "nbconvert_exporter": "python",
   "pygments_lexer": "ipython3",
   "version": "3.7.12"
  }
 },
 "nbformat": 4,
 "nbformat_minor": 5
}
