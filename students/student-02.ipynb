{
 "cells": [
  {
   "cell_type": "code",
   "execution_count": 180,
   "id": "612f2ace-90b5-4855-9e67-d55b065a986d",
   "metadata": {},
   "outputs": [
    {
     "name": "stdout",
     "output_type": "stream",
     "text": [
      "The lab_black extension is already loaded. To reload it, use:\n",
      "  %reload_ext lab_black\n"
     ]
    }
   ],
   "source": [
    "%load_ext lab_black"
   ]
  },
  {
   "cell_type": "code",
   "execution_count": 181,
   "id": "640a75d0-2a51-4d0d-b872-3ab8a36c978a",
   "metadata": {},
   "outputs": [],
   "source": [
    "from puzzles import load"
   ]
  },
  {
   "cell_type": "code",
   "execution_count": 182,
   "id": "d57744f1-7bb8-4519-8a5f-4e8ba931818f",
   "metadata": {},
   "outputs": [],
   "source": [
    "import numpy as np"
   ]
  },
  {
   "cell_type": "markdown",
   "id": "918b6f28-ad7a-4f55-bee0-b1848b89aba5",
   "metadata": {},
   "source": [
    "---"
   ]
  },
  {
   "cell_type": "markdown",
   "id": "16c5ae9c-6297-41b6-8d7b-0149433c87df",
   "metadata": {},
   "source": [
    "# Решаем про бантики и обертки для подарков\n",
    "\n",
    "https://adventofcode.com/2015/day/2"
   ]
  },
  {
   "cell_type": "code",
   "execution_count": 183,
   "id": "3ed23f33-d5bf-4f01-83a0-5bb215548b5d",
   "metadata": {},
   "outputs": [],
   "source": [
    "A = np.array([l.split(\"x\") for l in load(2).strip().split(\"\\n\")]).astype(int)"
   ]
  },
  {
   "cell_type": "code",
   "execution_count": 184,
   "id": "c83811f2-b7b7-4942-b808-e204cf4f7f43",
   "metadata": {},
   "outputs": [
    {
     "data": {
      "text/plain": [
       "array([[ 72,  33, 264],\n",
       "       [247,  65,  95],\n",
       "       [ 27,   9, 243],\n",
       "       ...,\n",
       "       [ 45,  36, 180],\n",
       "       [408, 600, 425],\n",
       "       [154,  84,  66]])"
      ]
     },
     "execution_count": 184,
     "metadata": {},
     "output_type": "execute_result"
    }
   ],
   "source": [
    "S = A * np.roll(A, 1, axis=1)\n",
    "S"
   ]
  },
  {
   "cell_type": "code",
   "execution_count": 185,
   "id": "f509be69-28cd-4128-9e93-4a2a463e46e1",
   "metadata": {},
   "outputs": [
    {
     "data": {
      "text/plain": [
       "1588178"
      ]
     },
     "execution_count": 185,
     "metadata": {},
     "output_type": "execute_result"
    }
   ],
   "source": [
    "(S.sum(axis=1) * 2 + S.min(axis=1)).sum()"
   ]
  },
  {
   "cell_type": "markdown",
   "id": "1cd3921c-35a3-496a-8c30-160c4cbe3445",
   "metadata": {},
   "source": [
    "---"
   ]
  },
  {
   "cell_type": "code",
   "execution_count": 186,
   "id": "dc0b1452-c03a-41b8-bb05-9718ed50ed76",
   "metadata": {},
   "outputs": [
    {
     "data": {
      "text/plain": [
       "array([[ 3, 11],\n",
       "       [ 5, 13],\n",
       "       [ 1,  9],\n",
       "       ...,\n",
       "       [ 3, 12],\n",
       "       [17, 24],\n",
       "       [ 6, 11]])"
      ]
     },
     "execution_count": 186,
     "metadata": {},
     "output_type": "execute_result"
    }
   ],
   "source": [
    "As = np.sort(A, axis=1)[:, :2]\n",
    "As"
   ]
  },
  {
   "cell_type": "code",
   "execution_count": 187,
   "id": "e9605750-d4c6-442d-aa6e-04dff8218b18",
   "metadata": {},
   "outputs": [
    {
     "data": {
      "text/plain": [
       "3783758"
      ]
     },
     "execution_count": 187,
     "metadata": {},
     "output_type": "execute_result"
    }
   ],
   "source": [
    "(2 * As.sum(axis=1) + A.prod(axis=1)).sum()"
   ]
  },
  {
   "cell_type": "markdown",
   "id": "056027bd-3ec3-4d84-95c8-aa10b9516dcd",
   "metadata": {},
   "source": [
    "---"
   ]
  },
  {
   "cell_type": "markdown",
   "id": "d595f6a9-1828-4668-a20b-34399c272672",
   "metadata": {},
   "source": [
    "# Решаем задачу про [последовательность](https://en.wikipedia.org/wiki/Look-and-say_sequence)\n",
    "\n",
    "https://adventofcode.com/2015/day/10"
   ]
  },
  {
   "cell_type": "markdown",
   "id": "30e22b1c-2730-4e0c-96ef-31009eede18f",
   "metadata": {},
   "source": [
    "(run length encoding)"
   ]
  },
  {
   "cell_type": "code",
   "execution_count": 192,
   "id": "4f86ed14-ff8c-4a79-a246-9b069332a15f",
   "metadata": {},
   "outputs": [],
   "source": [
    "from itertools import groupby\n",
    "\n",
    "from tqdm import tqdm\n",
    "\n",
    "import itertools, functools"
   ]
  },
  {
   "cell_type": "code",
   "execution_count": 193,
   "id": "ea78c499-9a87-4d85-bc8d-94d3bc680a28",
   "metadata": {},
   "outputs": [
    {
     "name": "stderr",
     "output_type": "stream",
     "text": [
      "100%|███████████████████████████████████████████| 40/40 [00:01<00:00, 38.80it/s]\n"
     ]
    },
    {
     "data": {
      "text/plain": [
       "360154"
      ]
     },
     "execution_count": 193,
     "metadata": {},
     "output_type": "execute_result"
    }
   ],
   "source": [
    "p = load(10).strip()\n",
    "\n",
    "for _ in tqdm(range(40)):\n",
    "    p = \"\".join([f\"{len(list(group))}{item}\" for item, group in groupby(p)])\n",
    "\n",
    "len(p)"
   ]
  },
  {
   "cell_type": "code",
   "execution_count": 194,
   "id": "186cd8e7-24f2-4908-b68a-fea3058f4c74",
   "metadata": {},
   "outputs": [
    {
     "name": "stderr",
     "output_type": "stream",
     "text": [
      "100%|███████████████████████████████████████████| 50/50 [00:12<00:00,  4.14it/s]\n"
     ]
    },
    {
     "data": {
      "text/plain": [
       "5103798"
      ]
     },
     "execution_count": 194,
     "metadata": {},
     "output_type": "execute_result"
    }
   ],
   "source": [
    "p = load(10).strip()\n",
    "\n",
    "for _ in tqdm(range(50)):\n",
    "    p = \"\".join([f\"{len(list(group))}{item}\" for item, group in groupby(p)])\n",
    "\n",
    "len(p)"
   ]
  },
  {
   "cell_type": "markdown",
   "id": "f90e6329-3e8d-4658-9346-4a5a0564012d",
   "metadata": {},
   "source": [
    "----"
   ]
  },
  {
   "cell_type": "markdown",
   "id": "a94618bf-081c-420e-b819-5791199e2bf2",
   "metadata": {},
   "source": [
    "# Решаем задачку из мира jRPG"
   ]
  },
  {
   "cell_type": "markdown",
   "id": "36fc5613-34d8-4e8f-8b26-23dc0ce9a1c1",
   "metadata": {},
   "source": [
    "https://adventofcode.com/2015/day/21"
   ]
  },
  {
   "cell_type": "code",
   "execution_count": 195,
   "id": "19d22c84-3bd6-411d-98a7-190ce8ff7759",
   "metadata": {},
   "outputs": [
    {
     "data": {
      "text/plain": [
       "['Hit Points: 103', 'Damage: 9', 'Armor: 2']"
      ]
     },
     "execution_count": 195,
     "metadata": {},
     "output_type": "execute_result"
    }
   ],
   "source": [
    "load(21).strip().split(\"\\n\")"
   ]
  },
  {
   "cell_type": "raw",
   "id": "59526e0b-96ae-453a-befc-72f9aefacc5c",
   "metadata": {},
   "source": [
    "Weapons:    Cost  Damage  Armor\n",
    "Dagger        8     4       0\n",
    "Shortsword   10     5       0\n",
    "Warhammer    25     6       0\n",
    "Longsword    40     7       0\n",
    "Greataxe     74     8       0\n",
    "\n",
    "Armor:      Cost  Damage  Armor\n",
    "Leather      13     0       1\n",
    "Chainmail    31     0       2\n",
    "Splintmail   53     0       3\n",
    "Bandedmail   75     0       4\n",
    "Platemail   102     0       5\n",
    "\n",
    "Rings:      Cost  Damage  Armor\n",
    "Damage +1    25     1       0\n",
    "Damage +2    50     2       0\n",
    "Damage +3   100     3       0\n",
    "Defense +1   20     0       1\n",
    "Defense +2   40     0       2\n",
    "Defense +3   80     0       3"
   ]
  },
  {
   "cell_type": "markdown",
   "id": "61a7c2b6-3079-4abf-9086-a7d7c28a4fb9",
   "metadata": {},
   "source": [
    "---"
   ]
  },
  {
   "cell_type": "code",
   "execution_count": 197,
   "id": "576e5224-8b8e-4050-aea2-4ec4c33f1bdc",
   "metadata": {},
   "outputs": [],
   "source": [
    "from collections import namedtuple"
   ]
  },
  {
   "cell_type": "code",
   "execution_count": 198,
   "id": "4190ad63-7127-4373-9fae-ff5f8544e3b3",
   "metadata": {},
   "outputs": [],
   "source": [
    "Weapon = namedtuple(\"Weapon\", \"damage gold\")"
   ]
  },
  {
   "cell_type": "code",
   "execution_count": 199,
   "id": "4e686e7a-9bb8-4fd7-8de8-fdfd6d13635c",
   "metadata": {},
   "outputs": [
    {
     "data": {
      "text/plain": [
       "10"
      ]
     },
     "execution_count": 199,
     "metadata": {},
     "output_type": "execute_result"
    }
   ],
   "source": [
    "w = (10, 500)\n",
    "w[0]"
   ]
  },
  {
   "cell_type": "code",
   "execution_count": 200,
   "id": "4d2e1c90-afcc-420a-9dbd-f35133b58dff",
   "metadata": {},
   "outputs": [],
   "source": [
    "w = Weapon(damage=10, gold=500)"
   ]
  },
  {
   "cell_type": "code",
   "execution_count": 201,
   "id": "7335fba0-6c65-4ec2-86d0-1987ed501d68",
   "metadata": {},
   "outputs": [
    {
     "data": {
      "text/plain": [
       "10"
      ]
     },
     "execution_count": 201,
     "metadata": {},
     "output_type": "execute_result"
    }
   ],
   "source": [
    "w.damage"
   ]
  },
  {
   "cell_type": "code",
   "execution_count": 203,
   "id": "ea8283f8-3057-4b4d-9ff5-a041f39a9775",
   "metadata": {},
   "outputs": [],
   "source": [
    "from dataclasses import dataclass"
   ]
  },
  {
   "cell_type": "code",
   "execution_count": 117,
   "id": "ac5946e1-ff1d-4bbd-a495-e79f20b85d61",
   "metadata": {},
   "outputs": [],
   "source": [
    "@dataclass\n",
    "class Character:\n",
    "    max_hp: int\n",
    "    hp: int\n",
    "    damage: int\n",
    "    armor: int"
   ]
  },
  {
   "cell_type": "markdown",
   "id": "212278cd-a318-4fce-9c83-dc6769c83269",
   "metadata": {},
   "source": [
    "---"
   ]
  },
  {
   "cell_type": "code",
   "execution_count": 202,
   "id": "64c891f2-61d4-4cc8-90d5-b6af3b59cc89",
   "metadata": {},
   "outputs": [],
   "source": [
    "WEAPONS = [\n",
    "    [8, 4],\n",
    "    [10, 5],\n",
    "    [25, 6],\n",
    "    [40, 7],\n",
    "    [74, 8],\n",
    "]\n",
    "\n",
    "ARMOR = [\n",
    "    [0, 0],\n",
    "    [13, 1],\n",
    "    [31, 2],\n",
    "    [53, 3],\n",
    "    [75, 4],\n",
    "    [102, 5],\n",
    "]\n",
    "\n",
    "RINGS = [\n",
    "    [0, 0, 0],\n",
    "    [0, 0, 0],\n",
    "    [25, 1, 0],\n",
    "    [50, 2, 0],\n",
    "    [100, 3, 0],\n",
    "    [20, 0, 1],\n",
    "    [40, 0, 2],\n",
    "    [80, 0, 3],\n",
    "]"
   ]
  },
  {
   "cell_type": "code",
   "execution_count": 204,
   "id": "1601fbfd-ff82-424b-9546-60af701e04fd",
   "metadata": {},
   "outputs": [],
   "source": [
    "Character = namedtuple(\"Character\", \"hp damage armor\")"
   ]
  },
  {
   "cell_type": "code",
   "execution_count": 205,
   "id": "3fc74515-5988-4766-948b-c2b8c3207065",
   "metadata": {},
   "outputs": [],
   "source": [
    "def build_player(wid, aid, rids):\n",
    "    gw, damage = WEAPONS[wid]\n",
    "    ga, armor = ARMOR[aid]\n",
    "    gold = ga + gw\n",
    "\n",
    "    for r in rids:\n",
    "        g, dmg_add, arm_add = RINGS[r]\n",
    "        gold += g\n",
    "        damage += dmg_add\n",
    "        armor += arm_add\n",
    "\n",
    "    return gold, Character(hp=100, damage=damage, armor=armor)"
   ]
  },
  {
   "cell_type": "code",
   "execution_count": 206,
   "id": "d0b23282-728d-4af7-850f-6322c70a6e3e",
   "metadata": {},
   "outputs": [
    {
     "data": {
      "text/plain": [
       "(356, Character(hp=100, damage=11, armor=8))"
      ]
     },
     "execution_count": 206,
     "metadata": {},
     "output_type": "execute_result"
    }
   ],
   "source": [
    "build_player(-1, -1, [-4, -1])"
   ]
  },
  {
   "cell_type": "code",
   "execution_count": 207,
   "id": "8fae299b-e44e-4622-92ee-c6befcc770ba",
   "metadata": {},
   "outputs": [],
   "source": [
    "from itertools import product"
   ]
  },
  {
   "cell_type": "code",
   "execution_count": 209,
   "id": "62e1bf34-436b-4e0f-b82d-c0d95170c93c",
   "metadata": {},
   "outputs": [],
   "source": [
    "def is_battle_successful(player, boss):\n",
    "    player_hp = player.hp\n",
    "    boss_hp = boss.hp\n",
    "\n",
    "    while True:\n",
    "        boss_hp -= max(player.damage - boss.armor, 1)\n",
    "        if boss_hp <= 0:\n",
    "            return True\n",
    "\n",
    "        player_hp -= max(boss.damage - player.armor, 1)\n",
    "        if player_hp <= 0:\n",
    "            return False"
   ]
  },
  {
   "cell_type": "code",
   "execution_count": 210,
   "id": "c961e925-bab5-43fa-a4a4-d99ee531966a",
   "metadata": {},
   "outputs": [
    {
     "data": {
      "text/plain": [
       "(121, 201)"
      ]
     },
     "execution_count": 210,
     "metadata": {},
     "output_type": "execute_result"
    }
   ],
   "source": [
    "min_gold_spent = 1e9\n",
    "max_gold_spent = -1\n",
    "\n",
    "for wid, aid, rid1, rid2 in product(\n",
    "    range(len(WEAPONS)), range(len(ARMOR)), range(len(RINGS)), range(len(RINGS)),\n",
    "):\n",
    "    if rid1 == rid2:\n",
    "        continue\n",
    "\n",
    "    gold, player = build_player(wid, aid, [rid1, rid2])\n",
    "    success = is_battle_successful(player, boss)\n",
    "\n",
    "    if success and gold < min_gold_spent:\n",
    "        min_gold_spent = gold\n",
    "\n",
    "    if not success and gold > max_gold_spent:\n",
    "        max_gold_spent = gold\n",
    "\n",
    "min_gold_spent, max_gold_spent"
   ]
  },
  {
   "cell_type": "markdown",
   "id": "58beb6c7-bfca-479f-84c5-058c34aae2ec",
   "metadata": {},
   "source": [
    "---"
   ]
  },
  {
   "cell_type": "markdown",
   "id": "1a7c7fc4-6d37-44ea-a09d-e2ad8efd24a8",
   "metadata": {},
   "source": [
    "# Решаем [\"жизнь\" Конвея](https://en.wikipedia.org/wiki/Conway's_Game_of_Life)\n",
    "\n",
    "https://adventofcode.com/2015/day/18"
   ]
  },
  {
   "cell_type": "code",
   "execution_count": 155,
   "id": "45484043-8ada-4d63-816c-d7df82b3e83e",
   "metadata": {},
   "outputs": [],
   "source": [
    "A = np.array([[\".#\".index(c) for c in x] for x in load(18).strip().split(\"\\n\")])"
   ]
  },
  {
   "cell_type": "code",
   "execution_count": 157,
   "id": "a39e38e2-9fc8-4e6b-920b-434ae29a4efe",
   "metadata": {},
   "outputs": [],
   "source": [
    "def rule(k):\n",
    "    if k[1][1] == 1:\n",
    "        return int(k.sum() - 1 in [2, 3])\n",
    "    return int(k.sum() == 3)"
   ]
  },
  {
   "cell_type": "code",
   "execution_count": 171,
   "id": "a25b7a95-f4e7-4bf4-a657-ede96d28f547",
   "metadata": {},
   "outputs": [],
   "source": [
    "from tqdm import tqdm"
   ]
  },
  {
   "cell_type": "code",
   "execution_count": 175,
   "id": "fd7fe3b2-4a1c-4648-a279-0bddd6dfe6ec",
   "metadata": {},
   "outputs": [
    {
     "name": "stderr",
     "output_type": "stream",
     "text": [
      "100%|█████████████████████████████████████████| 100/100 [00:39<00:00,  2.55it/s]\n"
     ]
    }
   ],
   "source": [
    "A = np.array([[\".#\".index(c) for c in x] for x in load(18).strip().split(\"\\n\")])\n",
    "B = np.zeros_like(A)\n",
    "\n",
    "for _ in tqdm(range(100)):\n",
    "    Ap = np.pad(A, 1)\n",
    "    for i in range(1, len(Ap) - 1):\n",
    "        for j in range(1, len(Ap[0]) - 1):\n",
    "            B[i - 1, j - 1] = rule(Ap[i - 1 : i + 2, j - 1 : j + 2])\n",
    "    A = B"
   ]
  },
  {
   "cell_type": "code",
   "execution_count": 176,
   "id": "6aa11691-3964-424c-95f1-8d1713bef0be",
   "metadata": {},
   "outputs": [
    {
     "data": {
      "text/plain": [
       "814"
      ]
     },
     "execution_count": 176,
     "metadata": {},
     "output_type": "execute_result"
    }
   ],
   "source": [
    "A.sum()"
   ]
  },
  {
   "cell_type": "code",
   "execution_count": null,
   "id": "04c12e18-b25c-4f7c-bf9f-28b69d8aba72",
   "metadata": {},
   "outputs": [],
   "source": []
  }
 ],
 "metadata": {
  "kernelspec": {
   "display_name": "platy-segmentation",
   "language": "python",
   "name": "platy-segmentation"
  },
  "language_info": {
   "codemirror_mode": {
    "name": "ipython",
    "version": 3
   },
   "file_extension": ".py",
   "mimetype": "text/x-python",
   "name": "python",
   "nbconvert_exporter": "python",
   "pygments_lexer": "ipython3",
   "version": "3.9.6"
  }
 },
 "nbformat": 4,
 "nbformat_minor": 5
}
