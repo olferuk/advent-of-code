{
 "cells": [
  {
   "cell_type": "code",
   "execution_count": 57,
   "id": "2e56d2ca-b1a4-43bd-a4f4-a6d1a70cd88e",
   "metadata": {},
   "outputs": [
    {
     "name": "stdout",
     "output_type": "stream",
     "text": [
      "The lab_black extension is already loaded. To reload it, use:\n",
      "  %reload_ext lab_black\n"
     ]
    }
   ],
   "source": [
    "%load_ext lab_black\n",
    "\n",
    "from puzzles import load"
   ]
  },
  {
   "cell_type": "code",
   "execution_count": 58,
   "id": "f2263339-d589-4abd-9d72-f30ca3853ab2",
   "metadata": {},
   "outputs": [],
   "source": [
    "import numpy as np"
   ]
  },
  {
   "cell_type": "code",
   "execution_count": 59,
   "id": "3cc858ef-e7d8-42d4-b030-a9cac907c18e",
   "metadata": {},
   "outputs": [],
   "source": [
    "def step(A):\n",
    "    mi = A.argmax()\n",
    "    val = A[mi]\n",
    "    A[mi] = 0\n",
    "    i = (mi + 1) % len(A)\n",
    "    while val > 0:\n",
    "        A[i] += 1\n",
    "        val -= 1\n",
    "        i = (i + 1) % len(A)"
   ]
  },
  {
   "cell_type": "code",
   "execution_count": 63,
   "id": "8151924c-cf04-43cd-b796-1066b2e9f40f",
   "metadata": {},
   "outputs": [
    {
     "data": {
      "text/plain": [
       "12841"
      ]
     },
     "execution_count": 63,
     "metadata": {},
     "output_type": "execute_result"
    }
   ],
   "source": [
    "banks = np.array([int(x) for x in load(6).strip().split(\"\\t\")])\n",
    "states = set()\n",
    "n_steps = 0\n",
    "\n",
    "while True:\n",
    "    step(banks)\n",
    "    n_steps += 1\n",
    "    t = tuple(banks)\n",
    "    if t in states:\n",
    "        break\n",
    "    else:\n",
    "        states.add(t)\n",
    "n_steps"
   ]
  },
  {
   "cell_type": "markdown",
   "id": "b72cb73b-cacc-4cb6-9631-6fc881bc9404",
   "metadata": {},
   "source": [
    "---"
   ]
  },
  {
   "cell_type": "code",
   "execution_count": 66,
   "id": "1f529f05-6d6e-4db0-ae19-bda08a59035f",
   "metadata": {},
   "outputs": [
    {
     "data": {
      "text/plain": [
       "12841"
      ]
     },
     "execution_count": 66,
     "metadata": {},
     "output_type": "execute_result"
    }
   ],
   "source": [
    "banks = np.array([int(x) for x in load(6).strip().split(\"\\t\")])\n",
    "states = []  # set()\n",
    "n_steps = 0\n",
    "\n",
    "while True:\n",
    "    step(banks)\n",
    "    n_steps += 1\n",
    "    t = tuple(banks)\n",
    "    if t in states:\n",
    "        states.append(t)\n",
    "        break\n",
    "    else:\n",
    "        states.append(t)\n",
    "n_steps"
   ]
  },
  {
   "cell_type": "code",
   "execution_count": 67,
   "id": "47e57991-3253-4b89-9f65-a3a69e78f91c",
   "metadata": {},
   "outputs": [
    {
     "name": "stdout",
     "output_type": "stream",
     "text": [
      "4802\n",
      "12840\n"
     ]
    }
   ],
   "source": [
    "for i in range(len(states)):\n",
    "    if states[i] == states[-1]:\n",
    "        print(i)"
   ]
  },
  {
   "cell_type": "code",
   "execution_count": 68,
   "id": "a2bb011a-c4b3-4b26-ae0c-2f08ef61e895",
   "metadata": {},
   "outputs": [
    {
     "data": {
      "text/plain": [
       "8038"
      ]
     },
     "execution_count": 68,
     "metadata": {},
     "output_type": "execute_result"
    }
   ],
   "source": [
    "12840 - 4802"
   ]
  }
 ],
 "metadata": {
  "kernelspec": {
   "display_name": "platy-segmentation",
   "language": "python",
   "name": "platy-segmentation"
  },
  "language_info": {
   "codemirror_mode": {
    "name": "ipython",
    "version": 3
   },
   "file_extension": ".py",
   "mimetype": "text/x-python",
   "name": "python",
   "nbconvert_exporter": "python",
   "pygments_lexer": "ipython3",
   "version": "3.9.6"
  }
 },
 "nbformat": 4,
 "nbformat_minor": 5
}
