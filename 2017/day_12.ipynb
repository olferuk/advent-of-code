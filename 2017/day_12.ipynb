{
 "cells": [
  {
   "cell_type": "code",
   "execution_count": 34,
   "id": "c873e599-8f45-4244-8622-bbcce642db93",
   "metadata": {},
   "outputs": [
    {
     "name": "stdout",
     "output_type": "stream",
     "text": [
      "The lab_black extension is already loaded. To reload it, use:\n",
      "  %reload_ext lab_black\n"
     ]
    }
   ],
   "source": [
    "%load_ext lab_black\n",
    "\n",
    "from puzzles import load_lines, load"
   ]
  },
  {
   "cell_type": "code",
   "execution_count": 35,
   "id": "16f2b8dd-0fe9-45e6-838f-12b2c946f2bd",
   "metadata": {},
   "outputs": [],
   "source": [
    "class Node:\n",
    "    def __init__(self, number):\n",
    "        self.number = number\n",
    "        self.children = []\n",
    "        self.visited = False\n",
    "\n",
    "    def reset(self):\n",
    "        self.visited = False\n",
    "\n",
    "    def visit(self):\n",
    "        self.visited = True\n",
    "\n",
    "    def __repr__(self):\n",
    "        child_s = \", \".join([str(c.number) for c in self.children])\n",
    "        return f\"Node({self.number}, children=[{child_s}])\"\n",
    "\n",
    "\n",
    "def get_or_create(nodes, n):\n",
    "    node = nodes.get(n)\n",
    "    if node is None:\n",
    "        node = Node(n)\n",
    "        nodes[n] = node\n",
    "    return node"
   ]
  },
  {
   "cell_type": "code",
   "execution_count": 46,
   "id": "85f5ca36-28ba-4c38-bb5a-773f9f2bf927",
   "metadata": {},
   "outputs": [],
   "source": [
    "lines = \"\"\"0 <-> 2\n",
    "1 <-> 1\n",
    "2 <-> 0, 3, 4\n",
    "3 <-> 2, 4\n",
    "4 <-> 2, 3, 6\n",
    "5 <-> 6\n",
    "6 <-> 4, 5\"\"\".split(\n",
    "    \"\\n\"\n",
    ")\n",
    "lines = load_lines(12)\n",
    "\n",
    "all_nodes = {}\n",
    "\n",
    "for line in lines:\n",
    "    n, children = line.split(\" <-> \")\n",
    "    children = children.split(\", \")\n",
    "\n",
    "    n = int(n)\n",
    "    children = [int(x) for x in children]\n",
    "\n",
    "    node = get_or_create(all_nodes, n)\n",
    "\n",
    "    for child in children:\n",
    "        child_node = get_or_create(all_nodes, child)\n",
    "        node.children.append(child_node)"
   ]
  },
  {
   "cell_type": "code",
   "execution_count": 47,
   "id": "1765939a-ab10-4d8b-8b64-62fe378fe980",
   "metadata": {},
   "outputs": [],
   "source": [
    "for v in all_nodes.values():\n",
    "    v.reset()"
   ]
  },
  {
   "cell_type": "code",
   "execution_count": 48,
   "id": "9ba87351-069d-413c-a4d7-31cfbc823c86",
   "metadata": {},
   "outputs": [
    {
     "data": {
      "text/plain": [
       "128"
      ]
     },
     "execution_count": 48,
     "metadata": {},
     "output_type": "execute_result"
    }
   ],
   "source": [
    "queue = all_nodes[0].children[::]\n",
    "N = 0\n",
    "\n",
    "while len(queue) > 0:\n",
    "    node = queue.pop(0)\n",
    "    if not node.visited:\n",
    "        N += 1\n",
    "        node.visit()\n",
    "    queue.extend([n for n in node.children if not n.visited])\n",
    "N"
   ]
  },
  {
   "cell_type": "markdown",
   "id": "d8ec7dbd-f910-40ab-b6fc-1881b2b37cbe",
   "metadata": {},
   "source": [
    "---"
   ]
  },
  {
   "cell_type": "code",
   "execution_count": 51,
   "id": "22196ee1-ee62-4657-8fcf-f11e10c4973d",
   "metadata": {},
   "outputs": [],
   "source": [
    "for v in all_nodes.values():\n",
    "    v.reset()"
   ]
  },
  {
   "cell_type": "code",
   "execution_count": 53,
   "id": "e4966aa1-da69-42b0-9f0e-f29df024c97e",
   "metadata": {},
   "outputs": [
    {
     "data": {
      "text/plain": [
       "209"
      ]
     },
     "execution_count": 53,
     "metadata": {},
     "output_type": "execute_result"
    }
   ],
   "source": [
    "def new_root(first_time, nodes):\n",
    "    if first_time:\n",
    "        return nodes[0]\n",
    "    for x in nodes.values():\n",
    "        if not x.visited:\n",
    "            return x\n",
    "    return None\n",
    "\n",
    "\n",
    "M = 0\n",
    "first_time = True\n",
    "\n",
    "while not all([x.visited for x in all_nodes.values()]):\n",
    "    M += 1\n",
    "\n",
    "    root = new_root(first_time, all_nodes)\n",
    "    queue = root.children[::]\n",
    "    first_time = False\n",
    "\n",
    "    while len(queue) > 0:\n",
    "        node = queue.pop(0)\n",
    "        if not node.visited:\n",
    "            node.visit()\n",
    "        queue.extend([n for n in node.children if not n.visited])\n",
    "M"
   ]
  },
  {
   "cell_type": "code",
   "execution_count": null,
   "id": "cffbe662-7bf4-4e8f-99a6-39d526617b0a",
   "metadata": {},
   "outputs": [],
   "source": []
  }
 ],
 "metadata": {
  "kernelspec": {
   "display_name": "Python (DE)",
   "language": "python",
   "name": "python3"
  },
  "language_info": {
   "codemirror_mode": {
    "name": "ipython",
    "version": 3
   },
   "file_extension": ".py",
   "mimetype": "text/x-python",
   "name": "python",
   "nbconvert_exporter": "python",
   "pygments_lexer": "ipython3",
   "version": "3.7.12"
  }
 },
 "nbformat": 4,
 "nbformat_minor": 5
}
