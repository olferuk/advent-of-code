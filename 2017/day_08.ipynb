{
 "cells": [
  {
   "cell_type": "code",
   "execution_count": 1,
   "id": "5407e27f-65d3-4d38-81ed-e7a988a446be",
   "metadata": {},
   "outputs": [],
   "source": [
    "%load_ext lab_black\n",
    "\n",
    "from puzzles import load\n",
    "\n",
    "import numpy as np"
   ]
  },
  {
   "cell_type": "code",
   "execution_count": 7,
   "id": "87a09427-ee05-417c-aafc-6cc1502019a7",
   "metadata": {},
   "outputs": [],
   "source": [
    "def compare(var, cond, n):\n",
    "    if cond == \"<\":\n",
    "        return var < n\n",
    "    if cond == \"<=\":\n",
    "        return var <= n\n",
    "    if cond == \">\":\n",
    "        return var > n\n",
    "    if cond == \">=\":\n",
    "        return var >= n\n",
    "    if cond == \"==\":\n",
    "        return var == n\n",
    "    if cond == \"!=\":\n",
    "        return var != n\n",
    "    raise ValueError(f'Unknown operator \"{cond}\"')\n",
    "\n",
    "\n",
    "def perform(var, op, n):\n",
    "    if op == \"dec\":\n",
    "        return var - n\n",
    "    if op == \"inc\":\n",
    "        return var + n\n",
    "    raise ValueError(f'Unknown function \"{op}\"')"
   ]
  },
  {
   "cell_type": "code",
   "execution_count": 15,
   "id": "af1adf4f-d060-41ee-82ce-d25f7d82031d",
   "metadata": {},
   "outputs": [
    {
     "data": {
      "text/plain": [
       "(5215, 6419)"
      ]
     },
     "execution_count": 15,
     "metadata": {},
     "output_type": "execute_result"
    }
   ],
   "source": [
    "memory = {}\n",
    "\n",
    "max_val = -1\n",
    "\n",
    "for cmd in load(8).strip().split(\"\\n\"):\n",
    "    var, func, val, _, var_cnd, cond, val_comp = cmd.split()\n",
    "\n",
    "    if var_cnd not in memory:\n",
    "        memory[var_cnd] = 0\n",
    "    val_comp = int(val_comp)\n",
    "\n",
    "    if not compare(memory[var_cnd], cond, val_comp):\n",
    "        continue\n",
    "\n",
    "    if var not in memory:\n",
    "        memory[var] = 0\n",
    "    val = int(val)\n",
    "    memory[var] = perform(memory[var], func, val)\n",
    "\n",
    "    mm = np.max(list(memory.values()))\n",
    "    if mm > max_val:\n",
    "        max_val = mm\n",
    "\n",
    "np.max(list(memory.values())), max_val"
   ]
  }
 ],
 "metadata": {
  "kernelspec": {
   "display_name": "platy-segmentation",
   "language": "python",
   "name": "platy-segmentation"
  },
  "language_info": {
   "codemirror_mode": {
    "name": "ipython",
    "version": 3
   },
   "file_extension": ".py",
   "mimetype": "text/x-python",
   "name": "python",
   "nbconvert_exporter": "python",
   "pygments_lexer": "ipython3",
   "version": "3.9.6"
  }
 },
 "nbformat": 4,
 "nbformat_minor": 5
}
