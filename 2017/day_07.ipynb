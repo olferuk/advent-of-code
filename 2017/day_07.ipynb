{
 "cells": [
  {
   "cell_type": "code",
   "execution_count": 4,
   "id": "0538fd80-d3b1-4875-8ec1-95e359727fc4",
   "metadata": {},
   "outputs": [],
   "source": [
    "%load_ext lab_black\n",
    "\n",
    "from puzzles import load"
   ]
  },
  {
   "cell_type": "code",
   "execution_count": 42,
   "id": "3685b419-d3a9-458f-bb11-981d71d4851f",
   "metadata": {},
   "outputs": [],
   "source": [
    "class Node:\n",
    "    def __init__(self, s):\n",
    "        self.s = s\n",
    "        self.nodes = []\n",
    "\n",
    "    def __repr__(self):\n",
    "        return f\"Node(s={self.s}, num_nodes={len(self.nodes)})\""
   ]
  },
  {
   "cell_type": "code",
   "execution_count": 43,
   "id": "75ee82e1-9a2e-4fde-a848-d9eac5c49034",
   "metadata": {},
   "outputs": [
    {
     "data": {
      "text/plain": [
       "Node(s=gynfwly, num_nodes=7)"
      ]
     },
     "execution_count": 43,
     "metadata": {},
     "output_type": "execute_result"
    }
   ],
   "source": [
    "leaf_nodes = [line for line in load(7).strip().split(\"\\n\") if \"->\" not in line]\n",
    "all_nodes = {n.split()[0]: Node(n.split()[0]) for n in leaf_nodes}\n",
    "\n",
    "branch_nodes = [line for line in load(7).strip().split(\"\\n\") if \"->\" in line]\n",
    "\n",
    "while len(branch_nodes) > 0:\n",
    "    to_be_processed = []\n",
    "    for line in branch_nodes:\n",
    "        left, right = line.split(\" -> \")\n",
    "        if not all([x in all_nodes for x in right.split(\", \")]):\n",
    "            to_be_processed.append(line)\n",
    "            continue\n",
    "        name = left.split()[0]\n",
    "        n = Node(name)\n",
    "        all_nodes[name] = n\n",
    "        for x in right.split(\", \"):\n",
    "            n.nodes.append(all_nodes[x])\n",
    "    branch_nodes = to_be_processed\n",
    "n"
   ]
  },
  {
   "cell_type": "markdown",
   "id": "c5fd48de-1934-4347-95ab-3095bca6c783",
   "metadata": {},
   "source": [
    "---"
   ]
  },
  {
   "cell_type": "code",
   "execution_count": 5,
   "id": "5b5a8c3b-28ea-4d7b-b8e1-cbb20bd9bc4b",
   "metadata": {},
   "outputs": [],
   "source": [
    "class Node:\n",
    "    def __init__(self, s, w):\n",
    "        self.s = s\n",
    "        self.w = w\n",
    "        self.nodes = []\n",
    "        # self.cached_weight = None\n",
    "\n",
    "    def get_weight(self):\n",
    "        # if self.cached_weight:\n",
    "        #     return self.cached_weight\n",
    "        # self.cached_weight =\n",
    "        # return self.cached_weight\n",
    "        return self.w + sum([n.get_weight() for n in self.nodes])\n",
    "\n",
    "    def __repr__(self):\n",
    "        return f\"Node(s={self.s}, w={self.w}, num_nodes={len(self.nodes)})\""
   ]
  },
  {
   "cell_type": "code",
   "execution_count": 6,
   "id": "70dc8781-8ed5-464f-817f-d75690f06e15",
   "metadata": {},
   "outputs": [],
   "source": [
    "leaf_nodes = [line for line in load(7).strip().split(\"\\n\") if \"->\" not in line]\n",
    "all_nodes = {\n",
    "    n.split()[0]: Node(s=n.split()[0], w=int(n.split()[1][1:-1])) for n in leaf_nodes\n",
    "}\n",
    "\n",
    "branch_nodes = [line for line in load(7).strip().split(\"\\n\") if \"->\" in line]\n",
    "\n",
    "\n",
    "while len(branch_nodes) > 0:\n",
    "    to_be_processed = []\n",
    "    for line in branch_nodes:\n",
    "        left, right = line.split(\" -> \")\n",
    "        if not all([x in all_nodes for x in right.split(\", \")]):\n",
    "            to_be_processed.append(line)\n",
    "            continue\n",
    "        name = left.split()[0]\n",
    "        weight = int(left.split()[1][1:-1])\n",
    "        n = Node(name, weight)\n",
    "        all_nodes[name] = n\n",
    "        for x in right.split(\", \"):\n",
    "            n.nodes.append(all_nodes[x])\n",
    "    branch_nodes = to_be_processed\n",
    "\n",
    "for v in all_nodes.values():\n",
    "    v.get_weight()"
   ]
  },
  {
   "cell_type": "code",
   "execution_count": 14,
   "id": "7e6442db-4cf0-4c78-801e-f42065f9b6a6",
   "metadata": {},
   "outputs": [
    {
     "name": "stdout",
     "output_type": "stream",
     "text": [
      "Node(s=dkvzre, w=99, num_nodes=7)\t — \t2255\n",
      "Node(s=awufxne, w=2141, num_nodes=2)\t — \t2255\n",
      "Node(s=osbbt, w=1214, num_nodes=3)\t — \t2255\n",
      "Node(s=ycbgx, w=1531, num_nodes=3)\t — \t2260\n",
      "Node(s=wdjzjlk, w=1631, num_nodes=3)\t — \t2255\n"
     ]
    }
   ],
   "source": [
    "for x in n.nodes[-1].nodes[2].nodes:\n",
    "    print(f\"{x}\\t — \\t{x.get_weight()}\")"
   ]
  },
  {
   "cell_type": "code",
   "execution_count": 106,
   "id": "3d1b10ab-c0e5-4cae-a0e4-548b22c45392",
   "metadata": {},
   "outputs": [
    {
     "data": {
      "text/plain": [
       "1526"
      ]
     },
     "execution_count": 106,
     "metadata": {},
     "output_type": "execute_result"
    }
   ],
   "source": [
    "1531 - 5"
   ]
  }
 ],
 "metadata": {
  "kernelspec": {
   "display_name": "Python (DE)",
   "language": "python",
   "name": "python3"
  },
  "language_info": {
   "codemirror_mode": {
    "name": "ipython",
    "version": 3
   },
   "file_extension": ".py",
   "mimetype": "text/x-python",
   "name": "python",
   "nbconvert_exporter": "python",
   "pygments_lexer": "ipython3",
   "version": "3.7.12"
  }
 },
 "nbformat": 4,
 "nbformat_minor": 5
}
