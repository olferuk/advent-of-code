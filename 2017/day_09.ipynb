{
 "cells": [
  {
   "cell_type": "code",
   "execution_count": 3,
   "id": "7ed729bf-80ba-44b3-b716-fd3ed5502623",
   "metadata": {},
   "outputs": [
    {
     "name": "stdout",
     "output_type": "stream",
     "text": [
      "The lab_black extension is already loaded. To reload it, use:\n",
      "  %reload_ext lab_black\n"
     ]
    }
   ],
   "source": [
    "%load_ext lab_black\n",
    "\n",
    "from puzzles import load, load_lines"
   ]
  },
  {
   "cell_type": "code",
   "execution_count": 39,
   "id": "4330b74a-0971-4034-8217-02b52cc4b907",
   "metadata": {},
   "outputs": [],
   "source": [
    "def get_score(s):\n",
    "    stack = []\n",
    "    level = 0\n",
    "    total_score = 0\n",
    "    canceling = False\n",
    "    garbage = False\n",
    "    for c in s:\n",
    "        if c == \"{\":\n",
    "            if canceling:\n",
    "                canceling = False\n",
    "            else:\n",
    "                if garbage:\n",
    "                    continue\n",
    "                stack.append((\"{\", level))\n",
    "                level += 1\n",
    "        elif c == \"}\":\n",
    "            if canceling:\n",
    "                canceling = False\n",
    "            else:\n",
    "                if garbage:\n",
    "                    continue\n",
    "                if len(stack) == 0:\n",
    "                    continue\n",
    "                stack.pop()\n",
    "                total_score += level\n",
    "                level -= 1\n",
    "        elif c == \"<\":\n",
    "            if canceling:\n",
    "                canceling = False\n",
    "            else:\n",
    "                garbage = True\n",
    "        elif c == \">\":\n",
    "            if canceling:\n",
    "                canceling = False\n",
    "            else:\n",
    "                garbage = False\n",
    "        elif c == \"!\":\n",
    "            if canceling:\n",
    "                canceling = False\n",
    "            else:\n",
    "                canceling = True\n",
    "    return total_score"
   ]
  },
  {
   "cell_type": "code",
   "execution_count": 40,
   "id": "36ac9814-2539-4d82-b787-08d5c48c8af9",
   "metadata": {},
   "outputs": [],
   "source": [
    "for s, x in [\n",
    "    (\"{}\", 1),\n",
    "    (\"{{{}}}\", 6),\n",
    "    (\"{{},{},{}}\", 7),\n",
    "    (\"{{{},{},{{}}}}\", 16),\n",
    "    (\"{<a>,<a>,<a>,<a>}\", 1),\n",
    "    (\"{{<ab>},{<ab>},{<ab>},{<ab>}}\", 9),\n",
    "    (\"{{<!!>},{<!!>},{<!!>},{<!!>}}\", 9),\n",
    "    (\"{{<a!>},{<a!>},{<a!>},{<ab>}}\", 3),\n",
    "]:\n",
    "    assert get_score(s) == x, f\"\\nTest: {s}\\nGot {get_score(s)}, Should have got {x}\""
   ]
  },
  {
   "cell_type": "code",
   "execution_count": 41,
   "id": "2d77c687-6e0d-4c40-ab50-608b4d9293e0",
   "metadata": {},
   "outputs": [
    {
     "data": {
      "text/plain": [
       "4873"
      ]
     },
     "execution_count": 41,
     "metadata": {},
     "output_type": "execute_result"
    }
   ],
   "source": [
    "get_score(load(9).strip())"
   ]
  },
  {
   "cell_type": "code",
   "execution_count": null,
   "id": "56ffcc2e-530a-4560-94fa-7b18c531deb8",
   "metadata": {},
   "outputs": [],
   "source": []
  }
 ],
 "metadata": {
  "kernelspec": {
   "display_name": "platy-segmentation",
   "language": "python",
   "name": "platy-segmentation"
  },
  "language_info": {
   "codemirror_mode": {
    "name": "ipython",
    "version": 3
   },
   "file_extension": ".py",
   "mimetype": "text/x-python",
   "name": "python",
   "nbconvert_exporter": "python",
   "pygments_lexer": "ipython3",
   "version": "3.9.6"
  }
 },
 "nbformat": 4,
 "nbformat_minor": 5
}
