{
 "cells": [
  {
   "cell_type": "code",
   "execution_count": 1,
   "id": "c26c2d4d-6f31-4fed-9f96-68cb798d46a1",
   "metadata": {},
   "outputs": [],
   "source": [
    "%load_ext lab_black\n",
    "\n",
    "from puzzles import load, load_lines"
   ]
  },
  {
   "cell_type": "code",
   "execution_count": 3,
   "id": "c58df44c-c850-4570-9244-2bc496b1436f",
   "metadata": {},
   "outputs": [
    {
     "data": {
      "text/plain": [
       "['Generator A starts with 883', 'Generator B starts with 879']"
      ]
     },
     "execution_count": 3,
     "metadata": {},
     "output_type": "execute_result"
    }
   ],
   "source": [
    "load_lines(15)"
   ]
  },
  {
   "cell_type": "code",
   "execution_count": 9,
   "id": "612b92e0-5968-4923-9d65-721850588e86",
   "metadata": {},
   "outputs": [],
   "source": [
    "from tqdm import tqdm"
   ]
  },
  {
   "cell_type": "code",
   "execution_count": 10,
   "id": "90add4d0-025b-4f99-b992-fda8139f06db",
   "metadata": {},
   "outputs": [],
   "source": [
    "A = 883\n",
    "B = 879\n",
    "\n",
    "# A = 65\n",
    "# B = 8921\n",
    "\n",
    "n = 0\n",
    "for _ in tqdm(range(40_000_000)):\n",
    "    A = A * 16807 % 2147483647\n",
    "    B = B * 48271 % 2147483647\n",
    "    sa = f\"{A:b}\"[-16:]\n",
    "    sb = f\"{B:b}\"[-16:]\n",
    "    n += sa == sb\n",
    "\n",
    "n"
   ]
  },
  {
   "cell_type": "markdown",
   "id": "34ad1233-d992-4895-809e-a783bff016cb",
   "metadata": {},
   "source": [
    "609"
   ]
  },
  {
   "cell_type": "markdown",
   "id": "b501b24e-20c0-4155-90a6-9169a2a4366c",
   "metadata": {},
   "source": [
    "---"
   ]
  },
  {
   "cell_type": "code",
   "execution_count": 14,
   "id": "81644cac-4c19-4c81-b78c-59147f048819",
   "metadata": {},
   "outputs": [],
   "source": [
    "def gen(seed, m, mod, mdiv):\n",
    "    X = seed\n",
    "    while True:\n",
    "        X = X * m % mod\n",
    "        if X % mdiv != 0:\n",
    "            continue\n",
    "        yield X"
   ]
  },
  {
   "cell_type": "code",
   "execution_count": 19,
   "id": "a300f817-7f68-43c8-bec5-b278c6b8c016",
   "metadata": {},
   "outputs": [
    {
     "name": "stderr",
     "output_type": "stream",
     "text": [
      "100%|█████████████████████████████| 5000000/5000000 [00:29<00:00, 169226.45it/s]\n"
     ]
    },
    {
     "data": {
      "text/plain": [
       "253"
      ]
     },
     "execution_count": 19,
     "metadata": {},
     "output_type": "execute_result"
    }
   ],
   "source": [
    "gnA = gen(883, 16807, 2147483647, 4)\n",
    "gnB = gen(879, 48271, 2147483647, 8)\n",
    "\n",
    "n = 0\n",
    "for _ in tqdm(range(5_000_000)):\n",
    "    A, B = next(gnA), next(gnB)\n",
    "    sa = f\"{A:b}\"[-16:]\n",
    "    sb = f\"{B:b}\"[-16:]\n",
    "    n += sa == sb\n",
    "\n",
    "n"
   ]
  },
  {
   "cell_type": "code",
   "execution_count": null,
   "id": "b8b8dbce-eb4c-4d58-99c5-e894d6f0a73f",
   "metadata": {},
   "outputs": [],
   "source": []
  }
 ],
 "metadata": {
  "kernelspec": {
   "display_name": "platy-segmentation",
   "language": "python",
   "name": "platy-segmentation"
  },
  "language_info": {
   "codemirror_mode": {
    "name": "ipython",
    "version": 3
   },
   "file_extension": ".py",
   "mimetype": "text/x-python",
   "name": "python",
   "nbconvert_exporter": "python",
   "pygments_lexer": "ipython3",
   "version": "3.9.6"
  }
 },
 "nbformat": 4,
 "nbformat_minor": 5
}
