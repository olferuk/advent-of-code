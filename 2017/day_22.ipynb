{
 "cells": [
  {
   "cell_type": "code",
   "execution_count": 1,
   "id": "97bc0409-3c1a-4e1a-822b-3dd55a435772",
   "metadata": {},
   "outputs": [],
   "source": [
    "%load_ext lab_black\n",
    "\n",
    "from puzzles import load, load_lines"
   ]
  },
  {
   "cell_type": "code",
   "execution_count": 2,
   "id": "0f4ad857-28c9-4a3f-b095-a07d0b11542c",
   "metadata": {},
   "outputs": [],
   "source": [
    "import numpy as np"
   ]
  },
  {
   "cell_type": "markdown",
   "id": "36e1abe2-b9fd-42b5-9cc2-f61bd6f72db5",
   "metadata": {},
   "source": [
    "- If the current node is infected, it turns to its right. Otherwise, it turns to its left. (Turning is done in-place; the current node does not change.)\n",
    "- If the current node is clean, it becomes infected. Otherwise, it becomes cleaned. (This is done after the node is considered for the purposes of changing direction.)\n",
    "- The virus carrier moves forward one node in the direction it is facing."
   ]
  },
  {
   "cell_type": "code",
   "execution_count": 3,
   "id": "ec2bed24-16ed-4959-8808-357a471ff28a",
   "metadata": {},
   "outputs": [
    {
     "data": {
      "text/plain": [
       "5223"
      ]
     },
     "execution_count": 3,
     "metadata": {},
     "output_type": "execute_result"
    }
   ],
   "source": [
    "B = np.array([[\".#\".index(c) for c in line] for line in load_lines(22)])\n",
    "\n",
    "A = np.zeros([1001, 1001])\n",
    "\n",
    "cdt = A.shape[0] // 2, A.shape[1] // 2\n",
    "b = B.shape[0] // 2\n",
    "A[cdt[0] - b : cdt[0] + b + 1, cdt[1] - b : cdt[1] + b + 1] = B\n",
    "\n",
    "facings = np.array([[-1, 0], [0, 1], [1, 0], [0, -1]])\n",
    "direction = 0\n",
    "\n",
    "n_infections = 0\n",
    "\n",
    "for _ in range(10000):\n",
    "    if A[cdt[0], cdt[1]] == 1:\n",
    "        A[cdt[0], cdt[1]] = 0\n",
    "        direction = (direction + 1) % len(facings)\n",
    "    else:\n",
    "        n_infections += 1\n",
    "        A[cdt[0], cdt[1]] = 1\n",
    "        direction = (direction - 1) % len(facings)\n",
    "    cdt = cdt + facings[direction]\n",
    "\n",
    "n_infections"
   ]
  },
  {
   "cell_type": "code",
   "execution_count": 11,
   "id": "be2b79d8-11bc-4c13-900c-c6d5ebe68875",
   "metadata": {},
   "outputs": [],
   "source": [
    "from tqdm import tqdm\n",
    "\n",
    "import matplotlib.pyplot as plt"
   ]
  },
  {
   "cell_type": "code",
   "execution_count": 19,
   "id": "a340b46d-a447-41a7-b284-2b26f64c701f",
   "metadata": {},
   "outputs": [
    {
     "name": "stderr",
     "output_type": "stream",
     "text": [
      "100%|███████████████████████████████████████████████████████████████| 10000000/10000000 [01:28<00:00, 112789.05it/s]\n"
     ]
    },
    {
     "data": {
      "text/plain": [
       "2511456"
      ]
     },
     "execution_count": 19,
     "metadata": {},
     "output_type": "execute_result"
    }
   ],
   "source": [
    "states = \".W#F\"\n",
    "\n",
    "B = np.array([[states.index(c) for c in line] for line in load_lines(22)])\n",
    "# B = np.array([[0, 0, 2], [2, 0, 0], [0, 0, 0]])\n",
    "A = np.zeros([1001, 1001])\n",
    "\n",
    "cdt = A.shape[0] // 2, A.shape[1] // 2\n",
    "b = B.shape[0] // 2\n",
    "A[cdt[0] - b : cdt[0] + b + 1, cdt[1] - b : cdt[1] + b + 1] = B\n",
    "\n",
    "facings = np.array([[-1, 0], [0, 1], [1, 0], [0, -1]])\n",
    "direction = 0\n",
    "\n",
    "n_infections = 0\n",
    "\n",
    "for _ in tqdm(range(10000000)):\n",
    "\n",
    "    # Change direction\n",
    "    i = A[cdt[0], cdt[1]]\n",
    "    if i == states.index(\".\"):\n",
    "        direction = (direction - 1) % len(facings)\n",
    "    elif i == states.index(\"#\"):\n",
    "        direction = (direction + 1) % len(facings)\n",
    "    elif i == states.index(\"F\"):\n",
    "        direction = (direction + 2) % len(facings)\n",
    "\n",
    "    # Change state\n",
    "    A[cdt[0], cdt[1]] = (A[cdt[0], cdt[1]] + 1) % len(states)\n",
    "    if A[cdt[0], cdt[1]] == states.index(\"#\"):\n",
    "        n_infections += 1\n",
    "\n",
    "    # Move\n",
    "    cdt = cdt + facings[direction]\n",
    "\n",
    "    # plt.imshow(A, vmin=0, vmax=3)\n",
    "    # plt.colorbar()\n",
    "    # plt.show()\n",
    "\n",
    "n_infections"
   ]
  },
  {
   "cell_type": "code",
   "execution_count": null,
   "id": "a8a05d63-f931-4e0d-a9ab-b3ecc71f6315",
   "metadata": {},
   "outputs": [],
   "source": []
  }
 ],
 "metadata": {
  "kernelspec": {
   "display_name": "platy-segmentation",
   "language": "python",
   "name": "platy-segmentation"
  },
  "language_info": {
   "codemirror_mode": {
    "name": "ipython",
    "version": 3
   },
   "file_extension": ".py",
   "mimetype": "text/x-python",
   "name": "python",
   "nbconvert_exporter": "python",
   "pygments_lexer": "ipython3",
   "version": "3.9.6"
  }
 },
 "nbformat": 4,
 "nbformat_minor": 5
}
