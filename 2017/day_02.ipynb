{
 "cells": [
  {
   "cell_type": "code",
   "execution_count": 1,
   "id": "9f40ffd8-2b4e-4f2c-ac9d-d089ebb9fc7a",
   "metadata": {},
   "outputs": [],
   "source": [
    "%load_ext lab_black\n",
    "\n",
    "from puzzles import load"
   ]
  },
  {
   "cell_type": "code",
   "execution_count": 8,
   "id": "c42a8a7f-1cbb-4881-a3f4-a6b57a9f49be",
   "metadata": {},
   "outputs": [],
   "source": [
    "import numpy as np"
   ]
  },
  {
   "cell_type": "code",
   "execution_count": 11,
   "id": "869d292b-c29a-49df-8b95-99d9c433744f",
   "metadata": {},
   "outputs": [],
   "source": [
    "A = np.array([line.split() for line in load(2).strip().split(\"\\n\")]).astype(int)"
   ]
  },
  {
   "cell_type": "code",
   "execution_count": 13,
   "id": "6e454e82-d709-49cb-9421-39911a530042",
   "metadata": {},
   "outputs": [
    {
     "data": {
      "text/plain": [
       "32121"
      ]
     },
     "execution_count": 13,
     "metadata": {},
     "output_type": "execute_result"
    }
   ],
   "source": [
    "(A.max(axis=1) - A.min(axis=1)).sum()"
   ]
  },
  {
   "cell_type": "markdown",
   "id": "43f8aef1-de0f-413a-a141-337133935f90",
   "metadata": {},
   "source": [
    "---"
   ]
  },
  {
   "cell_type": "code",
   "execution_count": 14,
   "id": "32a1cda7-95ca-4cd6-917f-8a46edb94272",
   "metadata": {},
   "outputs": [],
   "source": [
    "A.sort()"
   ]
  },
  {
   "cell_type": "code",
   "execution_count": 16,
   "id": "b8e80078-9ea4-42f7-b795-0bcfa1a5ec0b",
   "metadata": {},
   "outputs": [],
   "source": [
    "xs = []\n",
    "for line in A:\n",
    "    found = False\n",
    "    for b in line[::-1]:\n",
    "        for a in line:\n",
    "            if b == a:\n",
    "                continue\n",
    "            if b / a - b // a < 1e-3:\n",
    "                xs.append(b // a)\n",
    "                found = True\n",
    "            if found:\n",
    "                break\n",
    "        if found:\n",
    "            break"
   ]
  },
  {
   "cell_type": "code",
   "execution_count": 18,
   "id": "d6862aa5-68af-4e52-a40d-61331b322eee",
   "metadata": {},
   "outputs": [
    {
     "data": {
      "text/plain": [
       "197"
      ]
     },
     "execution_count": 18,
     "metadata": {},
     "output_type": "execute_result"
    }
   ],
   "source": [
    "np.sum(xs)"
   ]
  }
 ],
 "metadata": {
  "kernelspec": {
   "display_name": "platy-segmentation",
   "language": "python",
   "name": "platy-segmentation"
  },
  "language_info": {
   "codemirror_mode": {
    "name": "ipython",
    "version": 3
   },
   "file_extension": ".py",
   "mimetype": "text/x-python",
   "name": "python",
   "nbconvert_exporter": "python",
   "pygments_lexer": "ipython3",
   "version": "3.9.6"
  }
 },
 "nbformat": 4,
 "nbformat_minor": 5
}
