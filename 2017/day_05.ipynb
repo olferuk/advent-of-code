{
 "cells": [
  {
   "cell_type": "code",
   "execution_count": 1,
   "id": "4b7e7a46-2372-4d36-9ad4-4ab30c839912",
   "metadata": {},
   "outputs": [],
   "source": [
    "%load_ext lab_black\n",
    "\n",
    "from puzzles import load"
   ]
  },
  {
   "cell_type": "code",
   "execution_count": 11,
   "id": "92ab3e7d-9822-4fc6-9704-09a43d6cf684",
   "metadata": {},
   "outputs": [
    {
     "data": {
      "text/plain": [
       "356945"
      ]
     },
     "execution_count": 11,
     "metadata": {},
     "output_type": "execute_result"
    }
   ],
   "source": [
    "cmds = [int(x) for x in load(5).strip().split(\"\\n\")]\n",
    "\n",
    "i = 0\n",
    "n_jumps = 0\n",
    "\n",
    "while True:\n",
    "    try:\n",
    "        j = i\n",
    "        i += cmds[i]\n",
    "        cmds[j] += 1\n",
    "        n_jumps += 1\n",
    "    except:\n",
    "        break\n",
    "\n",
    "n_jumps"
   ]
  },
  {
   "cell_type": "code",
   "execution_count": 14,
   "id": "29ccaeea-6250-45ad-836c-ec435ee112ca",
   "metadata": {},
   "outputs": [
    {
     "name": "stdout",
     "output_type": "stream",
     "text": [
      "28372145\n"
     ]
    }
   ],
   "source": [
    "cmds = [int(x) for x in load(5).strip().split(\"\\n\")]\n",
    "# cmds = [int(x) for x in \"0 3 0 1 -3\".split()]\n",
    "\n",
    "p = p_old = 0\n",
    "n_jumps = 0\n",
    "\n",
    "while True:\n",
    "    # print(cmds, p)\n",
    "    try:\n",
    "        p_old = p\n",
    "        s = cmds[p]\n",
    "        p += s\n",
    "        if s >= 3:\n",
    "            cmds[p_old] -= 1\n",
    "        else:\n",
    "            cmds[p_old] += 1\n",
    "        n_jumps += 1\n",
    "    except Exception:\n",
    "        break\n",
    "\n",
    "# print(cmds, p)\n",
    "print(n_jumps)"
   ]
  },
  {
   "cell_type": "code",
   "execution_count": null,
   "id": "12d6c124-a403-44fc-a6d9-43faf75db852",
   "metadata": {},
   "outputs": [],
   "source": []
  }
 ],
 "metadata": {
  "kernelspec": {
   "display_name": "Python 3 (ipykernel)",
   "language": "python",
   "name": "python3"
  },
  "language_info": {
   "codemirror_mode": {
    "name": "ipython",
    "version": 3
   },
   "file_extension": ".py",
   "mimetype": "text/x-python",
   "name": "python",
   "nbconvert_exporter": "python",
   "pygments_lexer": "ipython3",
   "version": "3.10.9"
  }
 },
 "nbformat": 4,
 "nbformat_minor": 5
}
