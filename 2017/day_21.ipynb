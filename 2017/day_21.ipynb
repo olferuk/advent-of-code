{
 "cells": [
  {
   "cell_type": "code",
   "execution_count": 61,
   "id": "58e4a742-acf1-40b0-a2f4-4c6610350e2d",
   "metadata": {},
   "outputs": [
    {
     "name": "stdout",
     "output_type": "stream",
     "text": [
      "The lab_black extension is already loaded. To reload it, use:\n",
      "  %reload_ext lab_black\n"
     ]
    }
   ],
   "source": [
    "%load_ext lab_black\n",
    "\n",
    "from puzzles import load, load_lines\n",
    "\n",
    "import numpy as np\n",
    "\n",
    "import matplotlib.pyplot as plt"
   ]
  },
  {
   "cell_type": "code",
   "execution_count": 62,
   "id": "988523dd-0750-4323-b20d-ac96177d9493",
   "metadata": {},
   "outputs": [],
   "source": [
    "parse = lambda s: np.array([[\".#\".index(c) for c in l] for l in s.split(\"/\")])\n",
    "to_tuple = lambda a: tuple(a.ravel())\n",
    "\n",
    "rules = {}\n",
    "\n",
    "for line in load_lines(21):\n",
    "    given, produces = line.split(\" => \")\n",
    "    given = parse(given)\n",
    "    produces = parse(produces)\n",
    "    rules[to_tuple(given)] = produces"
   ]
  },
  {
   "cell_type": "code",
   "execution_count": 63,
   "id": "54773e5f-6e02-4ef0-bb8e-e3fd8eb72e48",
   "metadata": {},
   "outputs": [],
   "source": [
    "def get_all_variants(A):\n",
    "    return (\n",
    "        A,\n",
    "        A[:, ::-1],\n",
    "        A[::-1],\n",
    "        A[::-1, ::-1],\n",
    "        A.T,\n",
    "        A.T[:, ::-1],\n",
    "        A.T[::-1],\n",
    "        A.T[::-1, ::-1],\n",
    "    )"
   ]
  },
  {
   "cell_type": "code",
   "execution_count": 64,
   "id": "f4dd3b5b-0116-4b33-b210-9e47a0f41ab1",
   "metadata": {},
   "outputs": [],
   "source": [
    "def produce(crop, rules):\n",
    "    for cr in get_all_variants(crop):\n",
    "        if to_tuple(cr) not in rules:\n",
    "            continue\n",
    "        return rules[to_tuple(cr)]"
   ]
  },
  {
   "cell_type": "code",
   "execution_count": 67,
   "id": "50c7806c-0bd9-497a-b1ff-04371ae94b3e",
   "metadata": {},
   "outputs": [
    {
     "data": {
      "text/plain": [
       "139"
      ]
     },
     "execution_count": 67,
     "metadata": {},
     "output_type": "execute_result"
    }
   ],
   "source": [
    "pattern = parse(\".#./..#/###\")\n",
    "\n",
    "for _ in range(5):\n",
    "    step_size = 2 if pattern.shape[0] % 2 == 0 else 3\n",
    "    pattern = np.concatenate(\n",
    "        [\n",
    "            np.concatenate(\n",
    "                [\n",
    "                    produce(pattern[i : i + step_size, j : j + step_size], rules)\n",
    "                    for j in range(0, pattern.shape[1], step_size)\n",
    "                ],\n",
    "                axis=1,\n",
    "            )\n",
    "            for i in range(0, pattern.shape[0], step_size)\n",
    "        ],\n",
    "        axis=0,\n",
    "    )\n",
    "pattern.sum()"
   ]
  },
  {
   "cell_type": "code",
   "execution_count": 74,
   "id": "e38898c5-d8f2-44b6-bc4e-a106b0e15090",
   "metadata": {},
   "outputs": [
    {
     "data": {
      "text/plain": [
       "1857134"
      ]
     },
     "execution_count": 74,
     "metadata": {},
     "output_type": "execute_result"
    }
   ],
   "source": [
    "pattern = parse(\".#./..#/###\")\n",
    "\n",
    "for _ in range(18):\n",
    "\n",
    "    step_size = 2 if pattern.shape[0] % 2 == 0 else 3\n",
    "    pattern = np.concatenate(\n",
    "        [\n",
    "            np.concatenate(\n",
    "                [\n",
    "                    produce(pattern[i : i + step_size, j : j + step_size], rules)\n",
    "                    for j in range(0, pattern.shape[1], step_size)\n",
    "                ],\n",
    "                axis=1,\n",
    "            )\n",
    "            for i in range(0, pattern.shape[0], step_size)\n",
    "        ],\n",
    "        axis=0,\n",
    "    )\n",
    "\n",
    "    # plt.figure(figsize=(18, 18))\n",
    "    # plt.imshow(pattern, cmap=\"summer\")\n",
    "    # plt.show()\n",
    "\n",
    "pattern.sum()"
   ]
  },
  {
   "cell_type": "markdown",
   "id": "06ee28d6-e429-40f6-b4da-7d3c413fb349",
   "metadata": {},
   "source": [
    "---"
   ]
  },
  {
   "cell_type": "code",
   "execution_count": 45,
   "id": "2d8c268d-9df1-4560-9ee1-f734f1d4e420",
   "metadata": {},
   "outputs": [
    {
     "data": {
      "image/png": "[encoded data removed]",
      "text/plain": [
       "<Figure size 432x288 with 4 Axes>"
      ]
     },
     "metadata": {
      "needs_background": "light"
     },
     "output_type": "display_data"
    },
    {
     "data": {
      "image/png": "[encoded data removed]",
      "text/plain": [
       "<Figure size 432x288 with 4 Axes>"
      ]
     },
     "metadata": {
      "needs_background": "light"
     },
     "output_type": "display_data"
    },
    {
     "data": {
      "image/png": "[encoded data removed]",
      "text/plain": [
       "<Figure size 432x288 with 1 Axes>"
      ]
     },
     "metadata": {
      "needs_background": "light"
     },
     "output_type": "display_data"
    }
   ],
   "source": [
    "pattern = parse(\".#./..#/###\")\n",
    "\n",
    "_, axs = plt.subplots(1, 4)\n",
    "axs[0].imshow(pattern)\n",
    "axs[1].imshow(pattern[:, ::-1])\n",
    "axs[2].imshow(pattern[::-1])\n",
    "axs[3].imshow(pattern[::-1, ::-1])\n",
    "axs[0].set_title(to_tuple(pattern) in rules)\n",
    "axs[1].set_title(to_tuple(pattern[:, ::-1]) in rules)\n",
    "axs[2].set_title(to_tuple(pattern[::-1]) in rules)\n",
    "axs[3].set_title(to_tuple(pattern[::-1, ::-1]) in rules)\n",
    "plt.show()\n",
    "\n",
    "_, axs = plt.subplots(1, 4)\n",
    "axs[0].imshow(pattern.T)\n",
    "axs[1].imshow(pattern.T[:, ::-1])\n",
    "axs[2].imshow(pattern.T[::-1])\n",
    "axs[3].imshow(pattern.T[::-1, ::-1])\n",
    "axs[0].set_title(to_tuple(pattern.T) in rules)\n",
    "axs[1].set_title(to_tuple(pattern.T[:, ::-1]) in rules)\n",
    "axs[2].set_title(to_tuple(pattern.T[::-1]) in rules)\n",
    "axs[3].set_title(to_tuple(pattern.T[::-1, ::-1]) in rules)\n",
    "plt.show()\n",
    "\n",
    "plt.imshow(rules[to_tuple(pattern.T[::-1, ::-1])])\n",
    "plt.show()"
   ]
  },
  {
   "cell_type": "code",
   "execution_count": null,
   "id": "9a704f06-a614-4153-bb7f-324f0ab508a3",
   "metadata": {},
   "outputs": [],
   "source": []
  }
 ],
 "metadata": {
  "kernelspec": {
   "display_name": "platy-segmentation",
   "language": "python",
   "name": "platy-segmentation"
  },
  "language_info": {
   "codemirror_mode": {
    "name": "ipython",
    "version": 3
   },
   "file_extension": ".py",
   "mimetype": "text/x-python",
   "name": "python",
   "nbconvert_exporter": "python",
   "pygments_lexer": "ipython3",
   "version": "3.9.6"
  }
 },
 "nbformat": 4,
 "nbformat_minor": 5
}
