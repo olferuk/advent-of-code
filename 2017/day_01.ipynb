{
 "cells": [
  {
   "cell_type": "code",
   "execution_count": 1,
   "id": "660bf83c-607f-4f49-af74-c9061189c0a3",
   "metadata": {},
   "outputs": [],
   "source": [
    "%load_ext lab_black\n",
    "\n",
    "from puzzles import load"
   ]
  },
  {
   "cell_type": "code",
   "execution_count": 16,
   "id": "3957cabe-ea45-4ab3-9827-68e177e95bce",
   "metadata": {},
   "outputs": [
    {
     "data": {
      "text/plain": [
       "1136"
      ]
     },
     "execution_count": 16,
     "metadata": {},
     "output_type": "execute_result"
    }
   ],
   "source": [
    "sum(\n",
    "    [int(a) if int(a == b) else 0 for a, b in zip(load(1).strip(), load(1).strip()[1:])]\n",
    ") + 5"
   ]
  },
  {
   "cell_type": "code",
   "execution_count": 17,
   "id": "e0c673b9-9ec5-4b2a-8457-e621d210ca05",
   "metadata": {},
   "outputs": [
    {
     "data": {
      "text/plain": [
       "1092"
      ]
     },
     "execution_count": 17,
     "metadata": {},
     "output_type": "execute_result"
    }
   ],
   "source": [
    "s = load(1).strip()\n",
    "\n",
    "sum([int(c) if c == s[(i + len(s) // 2) % len(s)] else 0 for i, c in enumerate(s)])"
   ]
  }
 ],
 "metadata": {
  "kernelspec": {
   "display_name": "platy-segmentation",
   "language": "python",
   "name": "platy-segmentation"
  },
  "language_info": {
   "codemirror_mode": {
    "name": "ipython",
    "version": 3
   },
   "file_extension": ".py",
   "mimetype": "text/x-python",
   "name": "python",
   "nbconvert_exporter": "python",
   "pygments_lexer": "ipython3",
   "version": "3.9.6"
  }
 },
 "nbformat": 4,
 "nbformat_minor": 5
}
