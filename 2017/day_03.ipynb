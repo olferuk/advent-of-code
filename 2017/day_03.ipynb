{
 "cells": [
  {
   "cell_type": "code",
   "execution_count": 1,
   "id": "74b4ca9b-15e0-45b1-9b88-333ed2ce814d",
   "metadata": {},
   "outputs": [],
   "source": [
    "%load_ext lab_black\n",
    "\n",
    "from puzzles import load"
   ]
  },
  {
   "cell_type": "code",
   "execution_count": 2,
   "id": "ac4a01fa-e31e-424a-ba4a-120d33ea811b",
   "metadata": {},
   "outputs": [
    {
     "data": {
      "text/plain": [
       "361527"
      ]
     },
     "execution_count": 2,
     "metadata": {},
     "output_type": "execute_result"
    }
   ],
   "source": [
    "D = 361527\n",
    "D"
   ]
  },
  {
   "cell_type": "code",
   "execution_count": 3,
   "id": "854e1926-0d2a-44c5-b198-cf173afc996a",
   "metadata": {},
   "outputs": [],
   "source": [
    "import numpy as np"
   ]
  },
  {
   "cell_type": "code",
   "execution_count": 64,
   "id": "ae3e1985-16df-4ff1-bc26-4e97c79eeba8",
   "metadata": {},
   "outputs": [],
   "source": [
    "N = 6\n",
    "\n",
    "A = np.zeros([2 * N + 1, 2 * N + 1], dtype=np.uint16)\n",
    "\n",
    "A[N, N] = 1\n",
    "\n",
    "for i, r in enumerate(range(1, 2 * N + 2, 2)):\n",
    "    A[N + i, N + i] = r**2\n",
    "    if i != 0:\n",
    "        A[N + i - 1, N + i] = (r - 2) ** 2 + 1\n",
    "        for j in range(N + i - 2, N - 1, -1):\n",
    "            A[j, N + i] = A[j + 1, N + i] + 1"
   ]
  },
  {
   "cell_type": "code",
   "execution_count": 112,
   "id": "221ca591-1d08-46b4-8dd6-e772cca9504e",
   "metadata": {},
   "outputs": [],
   "source": [
    "def nums_right(n):\n",
    "    return 4 * n**2 - 3 * n + 1\n",
    "\n",
    "\n",
    "def nums_up(n):\n",
    "    return 4 * (n + 1) ** 2 - 9 * (n + 1) + 6\n",
    "\n",
    "\n",
    "def nums_left(n):\n",
    "    return 4 * (n + 1) ** 2 - 7 * (n + 1) + 4\n",
    "\n",
    "\n",
    "def nums_down(n):\n",
    "    return 4 * n**2 + 3 * n + 1"
   ]
  },
  {
   "cell_type": "code",
   "execution_count": 116,
   "id": "11147c4a-7087-4efa-a439-214ea24f560a",
   "metadata": {},
   "outputs": [
    {
     "data": {
      "text/plain": [
       "361527"
      ]
     },
     "execution_count": 116,
     "metadata": {},
     "output_type": "execute_result"
    }
   ],
   "source": [
    "D"
   ]
  },
  {
   "cell_type": "code",
   "execution_count": 119,
   "id": "b35855cd-199a-4759-b660-597c37351e1b",
   "metadata": {},
   "outputs": [
    {
     "data": {
      "text/plain": [
       "326"
      ]
     },
     "execution_count": 119,
     "metadata": {},
     "output_type": "execute_result"
    }
   ],
   "source": [
    "301 + 25"
   ]
  },
  {
   "cell_type": "code",
   "execution_count": 117,
   "id": "bc0766ae-cf87-4ea5-a79b-6b611feddf9b",
   "metadata": {},
   "outputs": [
    {
     "data": {
      "text/plain": [
       "25"
      ]
     },
     "execution_count": 117,
     "metadata": {},
     "output_type": "execute_result"
    }
   ],
   "source": [
    "D - 361502"
   ]
  },
  {
   "cell_type": "code",
   "execution_count": 118,
   "id": "b713db17-fedf-4fbd-a0cd-c1fd77339991",
   "metadata": {},
   "outputs": [
    {
     "name": "stdout",
     "output_type": "stream",
     "text": [
      "0 \t 1 \t 1 \t 1 \t 1\n",
      "1 \t 2 \t 4 \t 6 \t 8\n",
      "2 \t 11 \t 15 \t 19 \t 23\n",
      "3 \t 28 \t 34 \t 40 \t 46\n",
      "4 \t 53 \t 61 \t 69 \t 77\n",
      "5 \t 86 \t 96 \t 106 \t 116\n",
      "6 \t 127 \t 139 \t 151 \t 163\n",
      "7 \t 176 \t 190 \t 204 \t 218\n",
      "8 \t 233 \t 249 \t 265 \t 281\n",
      "9 \t 298 \t 316 \t 334 \t 352\n"
     ]
    }
   ],
   "source": [
    "for n in range(10):\n",
    "    print(\n",
    "        n, \"\\t\", nums_right(n), \"\\t\", nums_up(n), \"\\t\", nums_left(n), \"\\t\", nums_down(n)\n",
    "    )"
   ]
  },
  {
   "cell_type": "code",
   "execution_count": 115,
   "id": "07b81671-ad14-45d7-a044-2c9145ba9902",
   "metadata": {},
   "outputs": [
    {
     "name": "stdout",
     "output_type": "stream",
     "text": [
      "300 \t 359101 \t 359701 \t 360301 \t 360901\n",
      "301 \t 361502 \t 362104 \t 362706 \t 363308\n",
      "302 \t 363911 \t 364515 \t 365119 \t 365723\n",
      "303 \t 366328 \t 366934 \t 367540 \t 368146\n",
      "304 \t 368753 \t 369361 \t 369969 \t 370577\n"
     ]
    }
   ],
   "source": [
    "for n in range(300, 305):\n",
    "    print(\n",
    "        n, \"\\t\", nums_right(n), \"\\t\", nums_up(n), \"\\t\", nums_left(n), \"\\t\", nums_down(n)\n",
    "    )"
   ]
  },
  {
   "cell_type": "markdown",
   "id": "9e286274-cb0e-4b51-add7-f829342c310d",
   "metadata": {},
   "source": [
    "---"
   ]
  },
  {
   "cell_type": "code",
   "execution_count": 14,
   "id": "57ba2525-25e1-4292-9d86-14e25e7a1e90",
   "metadata": {},
   "outputs": [],
   "source": [
    "def get_x(n):\n",
    "    if n == 1:\n",
    "        return 0\n",
    "    return get_x(n - 1) + int(np.sin(np.floor(np.sqrt(4 * n - 7)) * np.pi / 2))\n",
    "\n",
    "\n",
    "def get_y(n):\n",
    "    if n == 1:\n",
    "        return 0\n",
    "    return get_y(n - 1) + int(np.cos(np.floor(np.sqrt(4 * n - 7)) * np.pi / 2))"
   ]
  },
  {
   "cell_type": "code",
   "execution_count": 26,
   "id": "8e0a7db2-ecec-4d6d-b669-005960764c87",
   "metadata": {},
   "outputs": [
    {
     "name": "stdout",
     "output_type": "stream",
     "text": [
      "2 1 0\n",
      "3 1 -1\n",
      "4 0 -1\n",
      "5 -1 -1\n",
      "6 -1 0\n",
      "7 -1 1\n",
      "8 0 1\n",
      "9 1 1\n",
      "10 2 1\n",
      "11 2 0\n",
      "12 2 -1\n",
      "13 2 -2\n",
      "14 1 -2\n",
      "15 0 -2\n",
      "16 -1 -2\n",
      "17 -2 -2\n",
      "18 -2 -1\n",
      "19 -2 0\n",
      "20 -2 1\n",
      "21 -2 2\n",
      "22 -1 2\n",
      "23 0 2\n",
      "24 1 2\n"
     ]
    }
   ],
   "source": [
    "for n in range(2, 25):\n",
    "    print(n, get_x(n), get_y(n))"
   ]
  },
  {
   "cell_type": "code",
   "execution_count": 63,
   "id": "f2422e1a-3ab9-46d9-9d01-e05b4a42cc08",
   "metadata": {},
   "outputs": [
    {
     "name": "stdout",
     "output_type": "stream",
     "text": [
      "363010\n"
     ]
    }
   ],
   "source": [
    "S = 15\n",
    "A = np.zeros([2 * S + 1, 2 * S + 1], dtype=int)\n",
    "A[S, S] = 1\n",
    "\n",
    "n = 1\n",
    "while True:\n",
    "    n += 1\n",
    "    dx, dy = get_x(n), get_y(n)\n",
    "    A[S + dy, S + dx] = A[S + dy - 1 : S + dy + 2, S + dx - 1 : S + dx + 2].sum()\n",
    "    if A[S + dy, S + dx] > D:\n",
    "        print(A[S + dy, S + dx])\n",
    "        break"
   ]
  },
  {
   "cell_type": "code",
   "execution_count": 60,
   "id": "4c00c8f9-bffd-4660-8773-4c9526d17f07",
   "metadata": {},
   "outputs": [],
   "source": [
    "import matplotlib.pyplot as plt"
   ]
  },
  {
   "cell_type": "code",
   "execution_count": 62,
   "id": "ced93b16-9e03-44e9-9f05-0c87aa3219e5",
   "metadata": {},
   "outputs": [
    {
     "data": {
      "text/plain": [
       "<matplotlib.colorbar.Colorbar at 0x7fa0952b2390>"
      ]
     },
     "execution_count": 62,
     "metadata": {},
     "output_type": "execute_result"
    },
    {
     "data": {
      "image/png": "[encoded data removed]",
      "text/plain": [
       "<Figure size 432x288 with 2 Axes>"
      ]
     },
     "metadata": {
      "needs_background": "light"
     },
     "output_type": "display_data"
    }
   ],
   "source": [
    "plt.imshow(np.log1p(np.log1p(A[5:-5, 5:-5])))\n",
    "plt.colorbar()"
   ]
  },
  {
   "cell_type": "code",
   "execution_count": null,
   "id": "2fa3d9f6-aa5e-4fff-b82d-949969e385d0",
   "metadata": {},
   "outputs": [],
   "source": []
  }
 ],
 "metadata": {
  "kernelspec": {
   "display_name": "Python (DE)",
   "language": "python",
   "name": "python3"
  },
  "language_info": {
   "codemirror_mode": {
    "name": "ipython",
    "version": 3
   },
   "file_extension": ".py",
   "mimetype": "text/x-python",
   "name": "python",
   "nbconvert_exporter": "python",
   "pygments_lexer": "ipython3",
   "version": "3.7.12"
  }
 },
 "nbformat": 4,
 "nbformat_minor": 5
}
