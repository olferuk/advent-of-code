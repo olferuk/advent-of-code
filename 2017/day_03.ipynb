{
 "cells": [
  {
   "cell_type": "code",
   "execution_count": 6,
   "id": "74b4ca9b-15e0-45b1-9b88-333ed2ce814d",
   "metadata": {},
   "outputs": [
    {
     "name": "stdout",
     "output_type": "stream",
     "text": [
      "The lab_black extension is already loaded. To reload it, use:\n",
      "  %reload_ext lab_black\n"
     ]
    }
   ],
   "source": [
    "%load_ext lab_black\n",
    "\n",
    "from puzzles import load"
   ]
  },
  {
   "cell_type": "code",
   "execution_count": 7,
   "id": "ac4a01fa-e31e-424a-ba4a-120d33ea811b",
   "metadata": {},
   "outputs": [
    {
     "data": {
      "text/plain": [
       "361527"
      ]
     },
     "execution_count": 7,
     "metadata": {},
     "output_type": "execute_result"
    }
   ],
   "source": [
    "D = 361527\n",
    "D"
   ]
  },
  {
   "cell_type": "code",
   "execution_count": 8,
   "id": "ba06315f-0ca7-42d6-8d46-833d3cf420b3",
   "metadata": {},
   "outputs": [
    {
     "name": "stdout",
     "output_type": "stream",
     "text": [
      "Side: 601\n",
      "Starting number: 361202\n",
      "Dist from nrst side: 299\n"
     ]
    }
   ],
   "source": [
    "for x in range(1, 1000, 2):\n",
    "    if x ** 2 <= D <= (x + 1) ** 2:\n",
    "        print(f\"Side: {x}\")\n",
    "        print(f\"Starting number: {x**2 + 1}\")\n",
    "        print(f\"Dist from nrst side: {(x-2)//2}\")\n",
    "        break"
   ]
  },
  {
   "cell_type": "code",
   "execution_count": 10,
   "id": "bf04fb7f-f53a-46bc-8acc-344bec3a1ed0",
   "metadata": {},
   "outputs": [
    {
     "data": {
      "text/plain": [
       "627"
      ]
     },
     "execution_count": 10,
     "metadata": {},
     "output_type": "execute_result"
    }
   ],
   "source": [
    "601 + 26"
   ]
  },
  {
   "cell_type": "code",
   "execution_count": 19,
   "id": "71b80358-81ee-4380-9839-be5508ba6829",
   "metadata": {},
   "outputs": [
    {
     "data": {
      "text/plain": [
       "325"
      ]
     },
     "execution_count": 19,
     "metadata": {},
     "output_type": "execute_result"
    }
   ],
   "source": [
    "361527 - (601 ** 2 + 1)"
   ]
  },
  {
   "cell_type": "code",
   "execution_count": 9,
   "id": "e7f58816-fe20-4731-baa3-e4b3328203fc",
   "metadata": {},
   "outputs": [
    {
     "data": {
      "text/plain": [
       "26"
      ]
     },
     "execution_count": 9,
     "metadata": {},
     "output_type": "execute_result"
    }
   ],
   "source": [
    "325 - 299"
   ]
  },
  {
   "cell_type": "code",
   "execution_count": 1,
   "id": "f6608848-0dbd-48c9-8591-b0ab17efa739",
   "metadata": {},
   "outputs": [
    {
     "data": {
      "text/plain": [
       "2408"
      ]
     },
     "execution_count": 1,
     "metadata": {},
     "output_type": "execute_result"
    }
   ],
   "source": [
    "603**2 - 601**2"
   ]
  },
  {
   "cell_type": "code",
   "execution_count": 14,
   "id": "d5da9416-4844-4cf7-89ed-b400797a13c2",
   "metadata": {},
   "outputs": [],
   "source": [
    "dist = 625"
   ]
  },
  {
   "cell_type": "code",
   "execution_count": null,
   "id": "853b8a28-4181-4ad2-ac38-61a85530736b",
   "metadata": {},
   "outputs": [],
   "source": [
    "for k in range(1, dist + 1):\n",
    "    tops.append()"
   ]
  },
  {
   "cell_type": "code",
   "execution_count": 8,
   "id": "81249079-e999-4cd1-8164-d6184d155563",
   "metadata": {},
   "outputs": [
    {
     "data": {
      "text/plain": [
       "(361201, 361527, 362404)"
      ]
     },
     "execution_count": 8,
     "metadata": {},
     "output_type": "execute_result"
    }
   ],
   "source": [
    "601 ** 2, 361527, 602 ** 2"
   ]
  },
  {
   "cell_type": "code",
   "execution_count": 9,
   "id": "488815f9-8de7-4058-a067-f01ba3da8200",
   "metadata": {},
   "outputs": [],
   "source": [
    "d = 362404 - 361201"
   ]
  },
  {
   "cell_type": "code",
   "execution_count": 10,
   "id": "b62a4c95-a349-4494-a1a8-270aa90da944",
   "metadata": {},
   "outputs": [
    {
     "data": {
      "text/plain": [
       "1203"
      ]
     },
     "execution_count": 10,
     "metadata": {},
     "output_type": "execute_result"
    }
   ],
   "source": [
    "d"
   ]
  },
  {
   "cell_type": "code",
   "execution_count": 12,
   "id": "bc8fccbc-3e2c-4823-a21c-57b066d79da2",
   "metadata": {},
   "outputs": [
    {
     "data": {
      "text/plain": [
       "(361201,\n",
       " 361527,\n",
       " 361501.75,\n",
       " 361527,\n",
       " 361802.5,\n",
       " 361527,\n",
       " 362103.25,\n",
       " 361527,\n",
       " 362404)"
      ]
     },
     "execution_count": 12,
     "metadata": {},
     "output_type": "execute_result"
    }
   ],
   "source": [
    "# 361201, 361527, 361201 + d / 4.0, 361527, 361201 + 2 * d / 4.0, 361527, 361201 + 3 * d / 4.0, 361527, 361201 + d"
   ]
  },
  {
   "cell_type": "code",
   "execution_count": null,
   "id": "97747d39-9001-4f9e-9b36-810f92d6f84d",
   "metadata": {},
   "outputs": [],
   "source": []
  }
 ],
 "metadata": {
  "kernelspec": {
   "display_name": "platy-segmentation",
   "language": "python",
   "name": "platy-segmentation"
  },
  "language_info": {
   "codemirror_mode": {
    "name": "ipython",
    "version": 3
   },
   "file_extension": ".py",
   "mimetype": "text/x-python",
   "name": "python",
   "nbconvert_exporter": "python",
   "pygments_lexer": "ipython3",
   "version": "3.9.6"
  }
 },
 "nbformat": 4,
 "nbformat_minor": 5
}
