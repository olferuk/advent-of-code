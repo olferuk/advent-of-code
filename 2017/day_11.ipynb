{
 "cells": [
  {
   "cell_type": "code",
   "execution_count": 5,
   "id": "8634b009-3262-4e4d-8e57-cdbf67aa331b",
   "metadata": {},
   "outputs": [
    {
     "name": "stdout",
     "output_type": "stream",
     "text": [
      "The lab_black extension is already loaded. To reload it, use:\n",
      "  %reload_ext lab_black\n"
     ]
    }
   ],
   "source": [
    "%load_ext lab_black\n",
    "\n",
    "from puzzles import load"
   ]
  },
  {
   "cell_type": "code",
   "execution_count": 6,
   "id": "2eddaf44-b911-4dee-8ba1-6656a8f18a83",
   "metadata": {},
   "outputs": [],
   "source": [
    "def count_steps(movements):\n",
    "    # Initialize coordinates\n",
    "    x, y, z = 0, 0, 0\n",
    "\n",
    "    for move in movements:\n",
    "        if move == \"n\":\n",
    "            y += 1\n",
    "            z -= 1\n",
    "        elif move == \"nw\":\n",
    "            x -= 1\n",
    "            y += 1\n",
    "        elif move == \"ne\":\n",
    "            x += 1\n",
    "            z -= 1\n",
    "        elif move == \"s\":\n",
    "            y -= 1\n",
    "            z += 1\n",
    "        elif move == \"sw\":\n",
    "            x -= 1\n",
    "            z += 1\n",
    "        elif move == \"se\":\n",
    "            x += 1\n",
    "            y -= 1\n",
    "\n",
    "    # Calculate the distance (steps) from the starting point (0, 0, 0)\n",
    "    steps = (abs(x) + abs(y) + abs(z)) // 2\n",
    "\n",
    "    return steps"
   ]
  },
  {
   "cell_type": "code",
   "execution_count": 7,
   "id": "68e5e297-e398-4342-bd29-622cbb39ed94",
   "metadata": {},
   "outputs": [],
   "source": [
    "tokens = load(11).strip().split(\",\")"
   ]
  },
  {
   "cell_type": "code",
   "execution_count": 8,
   "id": "e9596a0b-1354-4855-ab9a-847030016f25",
   "metadata": {},
   "outputs": [
    {
     "data": {
      "text/plain": [
       "784"
      ]
     },
     "execution_count": 8,
     "metadata": {},
     "output_type": "execute_result"
    }
   ],
   "source": [
    "count_steps(tokens)"
   ]
  },
  {
   "cell_type": "markdown",
   "id": "0e002d82-4bad-4b56-8559-de0abff5fdea",
   "metadata": {},
   "source": [
    "---"
   ]
  },
  {
   "cell_type": "code",
   "execution_count": 12,
   "id": "74e2b7c3-89a7-41ff-98f5-127eece36d56",
   "metadata": {},
   "outputs": [],
   "source": [
    "def furthest(movements):\n",
    "    x, y, z = 0, 0, 0\n",
    "    max_distance = -1\n",
    "\n",
    "    for move in movements:\n",
    "        if move == \"n\":\n",
    "            y += 1\n",
    "            z -= 1\n",
    "        elif move == \"nw\":\n",
    "            x -= 1\n",
    "            y += 1\n",
    "        elif move == \"ne\":\n",
    "            x += 1\n",
    "            z -= 1\n",
    "        elif move == \"s\":\n",
    "            y -= 1\n",
    "            z += 1\n",
    "        elif move == \"sw\":\n",
    "            x -= 1\n",
    "            z += 1\n",
    "        elif move == \"se\":\n",
    "            x += 1\n",
    "            y -= 1\n",
    "\n",
    "        distance = (abs(x) + abs(y) + abs(z)) // 2\n",
    "\n",
    "        # Update maximum distance if needed\n",
    "        if distance > max_distance:\n",
    "            max_distance = distance\n",
    "    return max_distance"
   ]
  },
  {
   "cell_type": "code",
   "execution_count": 13,
   "id": "80619248-74cb-441c-821c-317e4c802e21",
   "metadata": {},
   "outputs": [],
   "source": [
    "tokens = load(11).strip().split(\",\")"
   ]
  },
  {
   "cell_type": "code",
   "execution_count": 14,
   "id": "1d655e3b-df0a-455a-b54f-c7f5d52daa8a",
   "metadata": {},
   "outputs": [
    {
     "data": {
      "text/plain": [
       "1558"
      ]
     },
     "execution_count": 14,
     "metadata": {},
     "output_type": "execute_result"
    }
   ],
   "source": [
    "furthest(tokens)"
   ]
  },
  {
   "cell_type": "code",
   "execution_count": null,
   "id": "5db210d2-aef5-453e-b22d-c6ef724fec1b",
   "metadata": {},
   "outputs": [],
   "source": []
  }
 ],
 "metadata": {
  "kernelspec": {
   "display_name": "Python 3 (ipykernel)",
   "language": "python",
   "name": "python3"
  },
  "language_info": {
   "codemirror_mode": {
    "name": "ipython",
    "version": 3
   },
   "file_extension": ".py",
   "mimetype": "text/x-python",
   "name": "python",
   "nbconvert_exporter": "python",
   "pygments_lexer": "ipython3",
   "version": "3.10.9"
  }
 },
 "nbformat": 4,
 "nbformat_minor": 5
}
