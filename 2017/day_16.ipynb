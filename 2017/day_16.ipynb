{
 "cells": [
  {
   "cell_type": "code",
   "execution_count": 1,
   "id": "b8f27abf-aaa9-445d-aa74-af825b413bf6",
   "metadata": {},
   "outputs": [],
   "source": [
    "%load_ext lab_black\n",
    "\n",
    "from puzzles import load, load_lines"
   ]
  },
  {
   "cell_type": "code",
   "execution_count": 24,
   "id": "1a00d561-d14e-4da6-93ec-b84c129f5b08",
   "metadata": {},
   "outputs": [
    {
     "data": {
      "text/plain": [
       "'jcobhadfnmpkglie'"
      ]
     },
     "execution_count": 24,
     "metadata": {},
     "output_type": "execute_result"
    }
   ],
   "source": [
    "s = [chr(ord(\"a\") + x) for x in range(16)]\n",
    "\n",
    "for line in load(16).strip().split(\",\"):\n",
    "    cmd, rest = line[0], line[1:]\n",
    "    if cmd == \"s\":\n",
    "        rest = int(rest)\n",
    "        s = s[-rest:] + s[:-rest]\n",
    "    else:\n",
    "        a, b = rest.split(\"/\")\n",
    "        if cmd == \"x\":\n",
    "            ca, cb = s[int(a)], s[int(b)]\n",
    "            s[int(a)] = cb\n",
    "            s[int(b)] = ca\n",
    "        elif cmd == \"p\":\n",
    "            ia, ib = s.index(a), s.index(b)\n",
    "            ca, cb = s[ia], s[ib]\n",
    "            s[ia] = cb\n",
    "            s[ib] = ca\n",
    "\n",
    "s = \"\".join(s)\n",
    "s"
   ]
  },
  {
   "cell_type": "markdown",
   "id": "615b270c-ac4f-44a4-a171-f6da7c4c03ca",
   "metadata": {},
   "source": [
    "---"
   ]
  },
  {
   "cell_type": "code",
   "execution_count": 41,
   "id": "3762c011-6562-4fe0-a139-5a5e1d178065",
   "metadata": {},
   "outputs": [],
   "source": [
    "from tqdm import tqdm"
   ]
  },
  {
   "cell_type": "code",
   "execution_count": 43,
   "id": "8db554b2-3936-4240-b917-ff45eba2967c",
   "metadata": {},
   "outputs": [
    {
     "data": {
      "text/plain": [
       "[5, 3, 1, 6, 15, 7, 12, 4, 14, 0, 11, 13, 9, 8, 2, 10]"
      ]
     },
     "execution_count": 43,
     "metadata": {},
     "output_type": "execute_result"
    }
   ],
   "source": [
    "# d = {i: s.index(chr(ord(\"a\") + i)) for i in range(16)}\n",
    "d = [s.index(chr(ord(\"a\") + i)) for i in range(16)]\n",
    "d"
   ]
  },
  {
   "cell_type": "code",
   "execution_count": 17,
   "id": "903375b3-ada1-412a-a82f-af0da46c26e0",
   "metadata": {},
   "outputs": [],
   "source": [
    "from collections import defaultdict"
   ]
  },
  {
   "cell_type": "code",
   "execution_count": 44,
   "id": "8a3f0864-eb6b-4ba7-8849-5cce46d6e643",
   "metadata": {},
   "outputs": [
    {
     "data": {
      "text/plain": [
       "defaultdict(<function __main__.<lambda>()>,\n",
       "            {0: [0, 5, 7, 4, 15, 10, 11, 13, 8, 14, 2, 1, 3, 6, 12, 9],\n",
       "             1: [1, 3, 6, 12, 9, 0, 5, 7, 4, 15, 10, 11, 13, 8, 14, 2],\n",
       "             2: [2, 1, 3, 6, 12, 9, 0, 5, 7, 4, 15, 10, 11, 13, 8, 14],\n",
       "             3: [3, 6, 12, 9, 0, 5, 7, 4, 15, 10, 11, 13, 8, 14, 2, 1],\n",
       "             4: [4, 15, 10, 11, 13, 8, 14, 2, 1, 3, 6, 12, 9, 0, 5, 7],\n",
       "             5: [5, 7, 4, 15, 10, 11, 13, 8, 14, 2, 1, 3, 6, 12, 9, 0],\n",
       "             6: [6, 12, 9, 0, 5, 7, 4, 15, 10, 11, 13, 8, 14, 2, 1, 3],\n",
       "             7: [7, 4, 15, 10, 11, 13, 8, 14, 2, 1, 3, 6, 12, 9, 0, 5],\n",
       "             8: [8, 14, 2, 1, 3, 6, 12, 9, 0, 5, 7, 4, 15, 10, 11, 13],\n",
       "             9: [9, 0, 5, 7, 4, 15, 10, 11, 13, 8, 14, 2, 1, 3, 6, 12],\n",
       "             10: [10, 11, 13, 8, 14, 2, 1, 3, 6, 12, 9, 0, 5, 7, 4, 15],\n",
       "             11: [11, 13, 8, 14, 2, 1, 3, 6, 12, 9, 0, 5, 7, 4, 15, 10],\n",
       "             12: [12, 9, 0, 5, 7, 4, 15, 10, 11, 13, 8, 14, 2, 1, 3, 6],\n",
       "             13: [13, 8, 14, 2, 1, 3, 6, 12, 9, 0, 5, 7, 4, 15, 10, 11],\n",
       "             14: [14, 2, 1, 3, 6, 12, 9, 0, 5, 7, 4, 15, 10, 11, 13, 8],\n",
       "             15: [15, 10, 11, 13, 8, 14, 2, 1, 3, 6, 12, 9, 0, 5, 7, 4]})"
      ]
     },
     "execution_count": 44,
     "metadata": {},
     "output_type": "execute_result"
    }
   ],
   "source": [
    "sequences = defaultdict(lambda: [])\n",
    "\n",
    "for i in range(16):\n",
    "    x = i\n",
    "\n",
    "    sequences[i].append(x)\n",
    "    while True:\n",
    "        x = d[x]\n",
    "        if x in sequences[i]:\n",
    "            break\n",
    "        sequences[i].append(x)\n",
    "\n",
    "sequences"
   ]
  },
  {
   "cell_type": "code",
   "execution_count": 49,
   "id": "ce66c182-3e5a-4cbc-8194-4ad9466a39e4",
   "metadata": {},
   "outputs": [
    {
     "data": {
      "text/plain": [
       "'moicfjbalgepdknh'"
      ]
     },
     "execution_count": 49,
     "metadata": {},
     "output_type": "execute_result"
    }
   ],
   "source": [
    "s = list(\"jcobhadfnmpkglie\")\n",
    "# s = [chr(ord(\"a\") + x) for x in range(16)]\n",
    "\n",
    "\"\".join([s[x] for x in [sequences[i][(1000000000 - 1) % 16] for i in range(16)]])"
   ]
  },
  {
   "cell_type": "raw",
   "id": "e3b2778b-a071-479e-947f-697766117c47",
   "metadata": {},
   "source": [
    "abcdefghijklmnop — нет\n",
    "jcobhadfnmpkglie — нет\n",
    "moicfjbalgepdknh — нет"
   ]
  },
  {
   "cell_type": "code",
   "execution_count": null,
   "id": "98dca3d0-5feb-4fea-a107-e00f040f25b8",
   "metadata": {},
   "outputs": [],
   "source": []
  }
 ],
 "metadata": {
  "kernelspec": {
   "display_name": "platy-segmentation",
   "language": "python",
   "name": "platy-segmentation"
  },
  "language_info": {
   "codemirror_mode": {
    "name": "ipython",
    "version": 3
   },
   "file_extension": ".py",
   "mimetype": "text/x-python",
   "name": "python",
   "nbconvert_exporter": "python",
   "pygments_lexer": "ipython3",
   "version": "3.9.6"
  }
 },
 "nbformat": 4,
 "nbformat_minor": 5
}
