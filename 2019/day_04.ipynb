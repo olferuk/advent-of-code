{
 "cells": [
  {
   "cell_type": "code",
   "execution_count": 1,
   "id": "81b21126-c794-4f2e-a5a9-82e1251da5aa",
   "metadata": {},
   "outputs": [],
   "source": [
    "%load_ext lab_black"
   ]
  },
  {
   "cell_type": "code",
   "execution_count": 4,
   "id": "c5f6dfdf-83ff-4e39-abf3-085c62348bfc",
   "metadata": {},
   "outputs": [
    {
     "data": {
      "text/plain": [
       "1625"
      ]
     },
     "execution_count": 4,
     "metadata": {},
     "output_type": "execute_result"
    }
   ],
   "source": [
    "n = 0\n",
    "for x in range(171309, 643603):\n",
    "    s = str(x)\n",
    "    if not any([a == b for a, b in zip(s, s[1:])]):\n",
    "        continue\n",
    "    if any([a > b for a, b in zip(s, s[1:])]):\n",
    "        continue\n",
    "    n += 1\n",
    "n"
   ]
  },
  {
   "cell_type": "markdown",
   "id": "2e4959c1-52fb-4eac-b8cf-1cf0857f099c",
   "metadata": {},
   "source": [
    "---"
   ]
  },
  {
   "cell_type": "code",
   "execution_count": 5,
   "id": "1b8e764f-5fd9-4138-8624-6f85aa8014b2",
   "metadata": {},
   "outputs": [],
   "source": [
    "from collections import Counter"
   ]
  },
  {
   "cell_type": "code",
   "execution_count": 6,
   "id": "863fb7bb-f419-4548-a23f-2cf1eda0fefb",
   "metadata": {},
   "outputs": [
    {
     "data": {
      "text/plain": [
       "1111"
      ]
     },
     "execution_count": 6,
     "metadata": {},
     "output_type": "execute_result"
    }
   ],
   "source": [
    "n = 0\n",
    "for x in range(171309, 643603):\n",
    "    s = str(x)\n",
    "    if 2 not in Counter(s).values():\n",
    "        continue\n",
    "    if any([a > b for a, b in zip(s, s[1:])]):\n",
    "        continue\n",
    "    n += 1\n",
    "n"
   ]
  }
 ],
 "metadata": {
  "kernelspec": {
   "display_name": "platy-segmentation",
   "language": "python",
   "name": "platy-segmentation"
  },
  "language_info": {
   "codemirror_mode": {
    "name": "ipython",
    "version": 3
   },
   "file_extension": ".py",
   "mimetype": "text/x-python",
   "name": "python",
   "nbconvert_exporter": "python",
   "pygments_lexer": "ipython3",
   "version": "3.9.6"
  }
 },
 "nbformat": 4,
 "nbformat_minor": 5
}
