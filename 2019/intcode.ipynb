{
 "cells": [
  {
   "cell_type": "code",
   "execution_count": 16,
   "id": "260a3e49-5e7a-4cae-875c-010526cba917",
   "metadata": {},
   "outputs": [
    {
     "name": "stdout",
     "output_type": "stream",
     "text": [
      "The lab_black extension is already loaded. To reload it, use:\n",
      "  %reload_ext lab_black\n"
     ]
    }
   ],
   "source": [
    "%load_ext lab_black\n",
    "\n",
    "from puzzles import load_lines, load\n",
    "\n",
    "from enum import Enum, IntEnum\n",
    "from collections import namedtuple\n",
    "\n",
    "\n",
    "class Pointer:\n",
    "    def __init__(self, n: int = 0):\n",
    "        self.n = n\n",
    "\n",
    "\n",
    "class Parameter(IntEnum):\n",
    "    REFERENCE = 0\n",
    "    VALUE = 1\n",
    "\n",
    "    def read(self, cmd, n):\n",
    "        return cmd[cmd[n]] if self.value == 0 else cmd[n]\n",
    "\n",
    "    def write(self, cmd, n, x):\n",
    "        if self.value == 0:\n",
    "            cmd[cmd[n]] = x\n",
    "        else:\n",
    "            cmd[n] = x\n",
    "\n",
    "\n",
    "Parameters = namedtuple(\"Parameters\", [\"first\", \"second\", \"third\"])\n",
    "\n",
    "\n",
    "def summate(codes, pointer, modes):\n",
    "    a = modes.first.read(codes, pointer.n + 1)\n",
    "    b = modes.second.read(codes, pointer.n + 2)\n",
    "    modes.third.write(codes, pointer.n + 3, a + b)\n",
    "    pointer.n += 4\n",
    "    return True\n",
    "\n",
    "\n",
    "def multiply(codes, pointer, modes):\n",
    "    a = modes.first.read(codes, pointer.n + 1)\n",
    "    b = modes.second.read(codes, pointer.n + 2)\n",
    "    modes.third.write(codes, pointer.n + 3, a * b)\n",
    "    pointer.n += 4\n",
    "    return True\n",
    "\n",
    "\n",
    "def inputs(codes, pointer, modes):\n",
    "    # Parameters that an instruction writes to will never be in immediate mode.\n",
    "    assert modes.first == Parameter.REFERENCE\n",
    "    x = int(input(\"Insert a number:\"))\n",
    "    modes.first.write(codes, pointer.n + 1, x)\n",
    "    pointer.n += 2\n",
    "    return True\n",
    "\n",
    "\n",
    "def outputs(codes, pointer, modes):\n",
    "    print(modes.first.read(codes, pointer.n + 1))\n",
    "    pointer.n += 2\n",
    "    return True\n",
    "\n",
    "\n",
    "def halt(codes, pointer, modes):\n",
    "    # print(\"halt\")\n",
    "    return False\n",
    "\n",
    "\n",
    "# def move(pointer, shift):\n",
    "#     pointer.n += shift\n",
    "\n",
    "\n",
    "def parse_opcode(codes, pointer):\n",
    "    code = f\"{codes[pointer.n]:05d}\"\n",
    "    op = CODES_POLICIES[int(code[-2:])]\n",
    "    modes = Parameters(*[Parameter(int(x)) for x in code[:3][::-1]])\n",
    "    return op, modes\n",
    "\n",
    "\n",
    "CODES_POLICIES = {\n",
    "    1: summate,\n",
    "    2: multiply,\n",
    "    3: inputs,\n",
    "    4: outputs,\n",
    "    99: halt,\n",
    "}\n",
    "\n",
    "\n",
    "def run_program(cds):\n",
    "    p = Pointer(0)\n",
    "    while True:\n",
    "        op, modes = parse_opcode(cds, p)\n",
    "        should_continue = op(cds, p, modes)\n",
    "        if not should_continue:\n",
    "            break\n",
    "    return cds"
   ]
  },
  {
   "cell_type": "code",
   "execution_count": 17,
   "id": "77443977-0eaa-4778-ace0-1d1ff7c29dfd",
   "metadata": {},
   "outputs": [
    {
     "data": {
      "text/plain": [
       "True"
      ]
     },
     "execution_count": 17,
     "metadata": {},
     "output_type": "execute_result"
    }
   ],
   "source": [
    "(\n",
    "    run_program([1, 9, 10, 3, 2, 3, 11, 0, 99, 30, 40, 50])\n",
    "    == [3500, 9, 10, 70, 2, 3, 11, 0, 99, 30, 40, 50]\n",
    ")"
   ]
  },
  {
   "cell_type": "code",
   "execution_count": 18,
   "id": "e81c6e63-b7c8-4ce0-b8e9-73fd0b1b7768",
   "metadata": {},
   "outputs": [
    {
     "data": {
      "text/plain": [
       "True"
      ]
     },
     "execution_count": 18,
     "metadata": {},
     "output_type": "execute_result"
    }
   ],
   "source": [
    "run_program([1, 0, 0, 0, 99]) == [2, 0, 0, 0, 99]"
   ]
  },
  {
   "cell_type": "code",
   "execution_count": 19,
   "id": "cf3925ec-1985-47a3-a08d-e2d953938f06",
   "metadata": {},
   "outputs": [
    {
     "data": {
      "text/plain": [
       "True"
      ]
     },
     "execution_count": 19,
     "metadata": {},
     "output_type": "execute_result"
    }
   ],
   "source": [
    "run_program([2, 3, 0, 3, 99]) == [2, 3, 0, 6, 99]"
   ]
  },
  {
   "cell_type": "code",
   "execution_count": 20,
   "id": "f4d9611e-24db-4b33-9cbd-603d722fb85d",
   "metadata": {},
   "outputs": [
    {
     "data": {
      "text/plain": [
       "True"
      ]
     },
     "execution_count": 20,
     "metadata": {},
     "output_type": "execute_result"
    }
   ],
   "source": [
    "run_program([2, 4, 4, 5, 99, 0]) == [2, 4, 4, 5, 99, 9801]"
   ]
  },
  {
   "cell_type": "code",
   "execution_count": 8,
   "id": "4ec44c14-66c8-4dc3-9391-fb83776d9d0b",
   "metadata": {},
   "outputs": [
    {
     "data": {
      "text/plain": [
       "True"
      ]
     },
     "execution_count": 8,
     "metadata": {},
     "output_type": "execute_result"
    }
   ],
   "source": [
    "run_program([1, 1, 1, 4, 99, 5, 6, 0, 99]) == [30, 1, 1, 4, 2, 5, 6, 0, 99]"
   ]
  },
  {
   "cell_type": "raw",
   "id": "d72ed2ba-bf6a-4720-94c7-159d07f2b689",
   "metadata": {},
   "source": [
    "run_program([3, 0, 4, 0, 99])"
   ]
  },
  {
   "cell_type": "code",
   "execution_count": 11,
   "id": "5b660574-a7f4-41ac-abde-25e8543dbbb6",
   "metadata": {},
   "outputs": [
    {
     "data": {
      "text/plain": [
       "[1101, 100, -1, 4, 99]"
      ]
     },
     "execution_count": 11,
     "metadata": {},
     "output_type": "execute_result"
    }
   ],
   "source": [
    "run_program([1101, 100, -1, 4, 0])"
   ]
  },
  {
   "cell_type": "code",
   "execution_count": 12,
   "id": "684de5e6-3f8f-4a71-baf0-700d2d915d2c",
   "metadata": {},
   "outputs": [
    {
     "name": "stdin",
     "output_type": "stream",
     "text": [
      "Insert a number: 1\n"
     ]
    },
    {
     "name": "stdout",
     "output_type": "stream",
     "text": [
      "0\n",
      "0\n",
      "0\n",
      "0\n",
      "0\n",
      "0\n",
      "0\n",
      "0\n",
      "0\n",
      "7566643\n"
     ]
    }
   ],
   "source": [
    "codes = [int(x) for x in load(5).strip().split(\",\")]\n",
    "_ = run_program(codes)"
   ]
  },
  {
   "cell_type": "markdown",
   "id": "8e9eb632-a770-48db-b6a7-0543fc844e3d",
   "metadata": {},
   "source": [
    "---"
   ]
  },
  {
   "cell_type": "code",
   "execution_count": 13,
   "id": "b7b076e4-3661-42aa-b238-1fb50cda8a0e",
   "metadata": {},
   "outputs": [
    {
     "name": "stdout",
     "output_type": "stream",
     "text": [
      "5741\n"
     ]
    }
   ],
   "source": [
    "full_stop = False\n",
    "\n",
    "for noun in range(0, 100):\n",
    "    if full_stop:\n",
    "        break\n",
    "\n",
    "    for verb in range(0, 100):\n",
    "        codes = [int(x) for x in load(2).strip().split(\",\")]\n",
    "        codes[1] = noun\n",
    "        codes[2] = verb\n",
    "        if run_program(codes)[0] == 19690720:\n",
    "            print(100 * noun + verb)\n",
    "            full_stop = True\n",
    "            break"
   ]
  },
  {
   "cell_type": "markdown",
   "id": "9f82790a-72ec-42ba-8ded-733d3ac23f45",
   "metadata": {},
   "source": [
    "---"
   ]
  },
  {
   "cell_type": "code",
   "execution_count": null,
   "id": "2d383490-0860-4f65-9502-8cc652fa4f58",
   "metadata": {},
   "outputs": [],
   "source": []
  },
  {
   "cell_type": "code",
   "execution_count": null,
   "id": "96fc337d-28c4-4fce-9a2a-001ea605af11",
   "metadata": {},
   "outputs": [],
   "source": []
  }
 ],
 "metadata": {
  "kernelspec": {
   "display_name": "Python (DE)",
   "language": "python",
   "name": "python3"
  },
  "language_info": {
   "codemirror_mode": {
    "name": "ipython",
    "version": 3
   },
   "file_extension": ".py",
   "mimetype": "text/x-python",
   "name": "python",
   "nbconvert_exporter": "python",
   "pygments_lexer": "ipython3",
   "version": "3.7.12"
  }
 },
 "nbformat": 4,
 "nbformat_minor": 5
}
