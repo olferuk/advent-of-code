{
 "cells": [
  {
   "cell_type": "code",
   "execution_count": 1,
   "id": "26b708a2-35ce-41b3-ad59-60adec9be0c6",
   "metadata": {},
   "outputs": [],
   "source": [
    "%load_ext lab_black"
   ]
  },
  {
   "cell_type": "code",
   "execution_count": 2,
   "id": "5d514bf5-922e-41ea-837c-0cce477ac154",
   "metadata": {},
   "outputs": [],
   "source": [
    "from puzzles import load"
   ]
  },
  {
   "cell_type": "code",
   "execution_count": 3,
   "id": "b8e3e4aa-7b30-4887-9db5-0443abfb49ce",
   "metadata": {},
   "outputs": [],
   "source": [
    "data = load(7)"
   ]
  }
 ],
 "metadata": {
  "kernelspec": {
   "display_name": "Python (DE)",
   "language": "python",
   "name": "python3"
  },
  "language_info": {
   "codemirror_mode": {
    "name": "ipython",
    "version": 3
   },
   "file_extension": ".py",
   "mimetype": "text/x-python",
   "name": "python",
   "nbconvert_exporter": "python",
   "pygments_lexer": "ipython3",
   "version": "3.7.12"
  }
 },
 "nbformat": 4,
 "nbformat_minor": 5
}
