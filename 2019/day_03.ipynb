{
 "cells": [
  {
   "cell_type": "code",
   "execution_count": 1,
   "id": "cfbf4ad4-cbe5-42b7-a5cd-5aa6990f5377",
   "metadata": {},
   "outputs": [],
   "source": [
    "%load_ext lab_black\n",
    "\n",
    "from puzzles import load_tokens"
   ]
  },
  {
   "cell_type": "code",
   "execution_count": 4,
   "id": "bd3cac08-96af-44ec-a5f9-93c6c3a2d81d",
   "metadata": {},
   "outputs": [],
   "source": [
    "import numpy as np"
   ]
  },
  {
   "cell_type": "code",
   "execution_count": 85,
   "id": "8faac995-9773-4867-af34-ae9b8718d596",
   "metadata": {},
   "outputs": [
    {
     "data": {
      "text/plain": [
       "245"
      ]
     },
     "execution_count": 85,
     "metadata": {},
     "output_type": "execute_result"
    }
   ],
   "source": [
    "c = np.array([0, 0])\n",
    "history = set()\n",
    "history.add((0, 0))\n",
    "\n",
    "directions = {\n",
    "    \"R\": np.array([0, 1]),\n",
    "    \"L\": np.array([0, -1]),\n",
    "    \"U\": np.array([-1, 0]),\n",
    "    \"D\": np.array([1, 0]),\n",
    "}\n",
    "\n",
    "min_dist = 1e9\n",
    "\n",
    "for wi, wire in enumerate(load_tokens(3, sep=\"\\n\")):\n",
    "\n",
    "    c = np.array([0, 0])\n",
    "\n",
    "    for side in wire.split(\",\"):\n",
    "        d, n = side[0], side[1:]\n",
    "        v = directions[d]\n",
    "        for _ in range(int(n)):\n",
    "            c += v\n",
    "\n",
    "            if wi == 0:\n",
    "                history.add(tuple(c.ravel()))\n",
    "\n",
    "            elif wi == 1 and tuple(c.ravel()) in history:\n",
    "                dist = abs(c[0]) + abs(c[1])\n",
    "                if dist < min_dist:\n",
    "                    min_dist = dist\n",
    "\n",
    "\n",
    "min_dist"
   ]
  },
  {
   "cell_type": "markdown",
   "id": "d19cca97-34da-4cb4-aa05-018a32fc7cbd",
   "metadata": {},
   "source": [
    "---"
   ]
  },
  {
   "cell_type": "code",
   "execution_count": 153,
   "id": "843c419b-a0e6-4f9c-9cf9-733cd69dac61",
   "metadata": {},
   "outputs": [],
   "source": [
    "def get_wire_coords(wire, directions):\n",
    "    c = np.array([0, 0])\n",
    "\n",
    "    for side in wire.split(\",\"):\n",
    "        d, n = side[0], side[1:]\n",
    "        v = directions[d]\n",
    "        for _ in range(int(n)):\n",
    "            c += v\n",
    "            yield c\n",
    "\n",
    "\n",
    "def process_wire(gen):\n",
    "    history = {}\n",
    "    n = 0\n",
    "    for x in gen:\n",
    "        t = tuple(x)\n",
    "        n += 1\n",
    "        history[t] = min(history.get(t, 1e9), n)\n",
    "    return history"
   ]
  },
  {
   "cell_type": "code",
   "execution_count": 154,
   "id": "4b7d8436-f5d4-4fcc-8e08-8a780f7891d1",
   "metadata": {},
   "outputs": [
    {
     "data": {
      "text/plain": [
       "48262"
      ]
     },
     "execution_count": 154,
     "metadata": {},
     "output_type": "execute_result"
    }
   ],
   "source": [
    "wireA, wireB = load_tokens(3, sep=\"\\n\")\n",
    "\n",
    "genA, genB = get_wire_coords(wireA, directions), get_wire_coords(wireB, directions)\n",
    "\n",
    "historyA, historyB = process_wire(genA), process_wire(genB)\n",
    "\n",
    "setA, setB = set(historyA.keys()), set(historyB.keys())\n",
    "\n",
    "np.min([historyA[p] + historyB[p] for p in setA & setB])"
   ]
  }
 ],
 "metadata": {
  "kernelspec": {
   "display_name": "platy-segmentation",
   "language": "python",
   "name": "platy-segmentation"
  },
  "language_info": {
   "codemirror_mode": {
    "name": "ipython",
    "version": 3
   },
   "file_extension": ".py",
   "mimetype": "text/x-python",
   "name": "python",
   "nbconvert_exporter": "python",
   "pygments_lexer": "ipython3",
   "version": "3.9.6"
  }
 },
 "nbformat": 4,
 "nbformat_minor": 5
}
