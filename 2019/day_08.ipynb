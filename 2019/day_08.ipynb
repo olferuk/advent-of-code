{
 "cells": [
  {
   "cell_type": "code",
   "execution_count": 7,
   "id": "4137addc-1d4c-415d-ab7a-0c263aff7d23",
   "metadata": {},
   "outputs": [
    {
     "name": "stdout",
     "output_type": "stream",
     "text": [
      "The lab_black extension is already loaded. To reload it, use:\n",
      "  %reload_ext lab_black\n"
     ]
    }
   ],
   "source": [
    "%load_ext lab_black\n",
    "\n",
    "from puzzles import load, load_lines, load_tokens\n",
    "\n",
    "import numpy as np"
   ]
  },
  {
   "cell_type": "code",
   "execution_count": 8,
   "id": "c81961dc-b73a-49a7-ac37-708897bf17ae",
   "metadata": {},
   "outputs": [],
   "source": [
    "s = load(8).strip()"
   ]
  },
  {
   "cell_type": "code",
   "execution_count": 11,
   "id": "bff4dc46-6320-42f1-a95c-e50095fa5aa2",
   "metadata": {},
   "outputs": [],
   "source": [
    "A = np.array(list(s)).reshape(-1, 6, 25).astype(int)"
   ]
  },
  {
   "cell_type": "code",
   "execution_count": 15,
   "id": "0729f871-0856-4ee2-af6e-1f6becbb9053",
   "metadata": {},
   "outputs": [
    {
     "data": {
      "text/plain": [
       "6"
      ]
     },
     "execution_count": 15,
     "metadata": {},
     "output_type": "execute_result"
    }
   ],
   "source": [
    "(A == 0).sum(axis=1).sum(axis=1).argmin()"
   ]
  },
  {
   "cell_type": "code",
   "execution_count": 17,
   "id": "94cdb239-68c5-4d87-b560-f64d7a317022",
   "metadata": {},
   "outputs": [
    {
     "data": {
      "text/plain": [
       "1441"
      ]
     },
     "execution_count": 17,
     "metadata": {},
     "output_type": "execute_result"
    }
   ],
   "source": [
    "(A[6] == 1).sum() * (A[6] == 2).sum()"
   ]
  },
  {
   "cell_type": "markdown",
   "id": "ced6bedb-d5ac-488f-bbd1-3f9925f03276",
   "metadata": {},
   "source": [
    "\n",
    "---"
   ]
  },
  {
   "cell_type": "code",
   "execution_count": 25,
   "id": "e48ad31a-5432-4e17-991a-a620795941a6",
   "metadata": {},
   "outputs": [],
   "source": [
    "answer = np.zeros(A.shape[1:])\n",
    "for row in range(A.shape[1]):\n",
    "    for col in range(A.shape[2]):\n",
    "        i = (A[:, row, col] != 2).argmax()\n",
    "        answer[row, col] = A[i, row, col]"
   ]
  },
  {
   "cell_type": "code",
   "execution_count": 26,
   "id": "1e0021c3-b981-4eb8-b8ef-c461330cc936",
   "metadata": {},
   "outputs": [],
   "source": [
    "import matplotlib.pyplot as plt"
   ]
  },
  {
   "cell_type": "code",
   "execution_count": 27,
   "id": "394e8c30-8bff-4937-ad25-8f3666e2611d",
   "metadata": {},
   "outputs": [
    {
     "data": {
      "text/plain": [
       "<matplotlib.image.AxesImage at 0x138cde990>"
      ]
     },
     "execution_count": 27,
     "metadata": {},
     "output_type": "execute_result"
    },
    {
     "data": {
      "image/png": "[encoded data removed]",
      "text/plain": [
       "<Figure size 432x288 with 1 Axes>"
      ]
     },
     "metadata": {
      "needs_background": "light"
     },
     "output_type": "display_data"
    }
   ],
   "source": [
    "plt.imshow(answer)"
   ]
  },
  {
   "cell_type": "code",
   "execution_count": 28,
   "id": "66f3d39b-8527-47be-acef-5f15c6b0073b",
   "metadata": {},
   "outputs": [
    {
     "data": {
      "text/plain": [
       "'RUZBP'"
      ]
     },
     "execution_count": 28,
     "metadata": {},
     "output_type": "execute_result"
    }
   ],
   "source": [
    "\"RUZBP\""
   ]
  }
 ],
 "metadata": {
  "kernelspec": {
   "display_name": "Python (DE)",
   "language": "python",
   "name": "python3"
  },
  "language_info": {
   "codemirror_mode": {
    "name": "ipython",
    "version": 3
   },
   "file_extension": ".py",
   "mimetype": "text/x-python",
   "name": "python",
   "nbconvert_exporter": "python",
   "pygments_lexer": "ipython3",
   "version": "3.7.12"
  }
 },
 "nbformat": 4,
 "nbformat_minor": 5
}
