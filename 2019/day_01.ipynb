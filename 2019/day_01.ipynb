{
 "cells": [
  {
   "cell_type": "code",
   "execution_count": 5,
   "id": "4e3e6d02-ac55-46ee-8480-38d13bb3b353",
   "metadata": {},
   "outputs": [],
   "source": [
    "%load_ext lab_black\n",
    "\n",
    "from puzzles import load_lines"
   ]
  },
  {
   "cell_type": "code",
   "execution_count": 10,
   "id": "691f7e36-fb3d-4145-8987-e30a898c885b",
   "metadata": {},
   "outputs": [
    {
     "data": {
      "text/plain": [
       "3415076"
      ]
     },
     "execution_count": 10,
     "metadata": {},
     "output_type": "execute_result"
    }
   ],
   "source": [
    "sum([int(x) // 3 - 2 for x in load_lines(1)])"
   ]
  },
  {
   "cell_type": "code",
   "execution_count": 12,
   "id": "7e5062f4-d463-4999-96eb-88391c294762",
   "metadata": {},
   "outputs": [
    {
     "data": {
      "text/plain": [
       "5119745"
      ]
     },
     "execution_count": 12,
     "metadata": {},
     "output_type": "execute_result"
    }
   ],
   "source": [
    "total_fuel = 0\n",
    "for x in load_lines(1):\n",
    "    x = int(x)\n",
    "    fuel = 0\n",
    "    while x > 5:\n",
    "        d = x // 3 - 2\n",
    "        fuel += d\n",
    "        x = d\n",
    "    total_fuel += fuel\n",
    "total_fuel"
   ]
  }
 ],
 "metadata": {
  "kernelspec": {
   "display_name": "platy-segmentation",
   "language": "python",
   "name": "platy-segmentation"
  },
  "language_info": {
   "codemirror_mode": {
    "name": "ipython",
    "version": 3
   },
   "file_extension": ".py",
   "mimetype": "text/x-python",
   "name": "python",
   "nbconvert_exporter": "python",
   "pygments_lexer": "ipython3",
   "version": "3.9.6"
  }
 },
 "nbformat": 4,
 "nbformat_minor": 5
}
