{
 "cells": [
  {
   "cell_type": "code",
   "execution_count": 2,
   "id": "c9de1205-863c-40dc-90df-d46f2e183df4",
   "metadata": {},
   "outputs": [
    {
     "name": "stdout",
     "output_type": "stream",
     "text": [
      "The lab_black extension is already loaded. To reload it, use:\n",
      "  %reload_ext lab_black\n"
     ]
    }
   ],
   "source": [
    "%load_ext lab_black\n",
    "\n",
    "from puzzles import load, load_lines"
   ]
  },
  {
   "cell_type": "code",
   "execution_count": 25,
   "id": "b299f82b-0261-46b5-9f48-c5e395da7f4b",
   "metadata": {},
   "outputs": [
    {
     "data": {
      "text/plain": [
       "5290681"
      ]
     },
     "execution_count": 25,
     "metadata": {},
     "output_type": "execute_result"
    }
   ],
   "source": [
    "cmds = [int(x) for x in load(2).strip().split(\",\")]\n",
    "cmds[1] = 12\n",
    "cmds[2] = 2\n",
    "\n",
    "c = 0  # cursor\n",
    "while cmds[c] != 99:\n",
    "    cmd = cmds[c : c + 4]\n",
    "    if cmd[0] == 1:\n",
    "        op = lambda a, b: a + b\n",
    "    elif cmd[0] == 2:\n",
    "        op = lambda a, b: a * b\n",
    "    else:\n",
    "        c += 4\n",
    "        continue\n",
    "    cmds[cmd[3]] = op(cmds[cmd[1]], cmds[cmd[2]])\n",
    "    c += 4\n",
    "\n",
    "cmds[0]"
   ]
  },
  {
   "cell_type": "code",
   "execution_count": 27,
   "id": "48b9bdff-882d-45fd-b677-120eb7b8d1b1",
   "metadata": {},
   "outputs": [],
   "source": [
    "from tqdm import tqdm"
   ]
  },
  {
   "cell_type": "code",
   "execution_count": 30,
   "id": "81c5f0d9-671d-4866-8656-6fea9d184ab3",
   "metadata": {},
   "outputs": [
    {
     "name": "stderr",
     "output_type": "stream",
     "text": [
      " 57%|███████████████████████▉                  | 57/100 [00:00<00:00, 62.86it/s]\n"
     ]
    },
    {
     "name": "stdout",
     "output_type": "stream",
     "text": [
      "5741\n"
     ]
    }
   ],
   "source": [
    "found = False\n",
    "for noun in tqdm(range(100)):\n",
    "    for verb in range(100):\n",
    "\n",
    "        cmds = [int(x) for x in load(2).strip().split(\",\")]\n",
    "        cmds[1] = noun\n",
    "        cmds[2] = verb\n",
    "\n",
    "        c = 0\n",
    "        while cmds[c] != 99:\n",
    "            cmd = cmds[c : c + 4]\n",
    "            if cmd[0] == 1:\n",
    "                op = lambda a, b: a + b\n",
    "            elif cmd[0] == 2:\n",
    "                op = lambda a, b: a * b\n",
    "            else:\n",
    "                c += 4\n",
    "                continue\n",
    "            cmds[cmd[3]] = op(cmds[cmd[1]], cmds[cmd[2]])\n",
    "            c += 4\n",
    "\n",
    "        if cmds[0] == 19690720:\n",
    "            print(100 * noun + verb)\n",
    "            found = True\n",
    "            break\n",
    "\n",
    "    if found:\n",
    "        break"
   ]
  },
  {
   "cell_type": "markdown",
   "id": "4a0e7ea1-854e-4423-8d82-820bc4912758",
   "metadata": {},
   "source": [
    "----"
   ]
  },
  {
   "cell_type": "code",
   "execution_count": 83,
   "id": "c84ed468-5237-403e-9531-3c391d223605",
   "metadata": {},
   "outputs": [
    {
     "name": "stdout",
     "output_type": "stream",
     "text": [
      "The lab_black extension is already loaded. To reload it, use:\n",
      "  %reload_ext lab_black\n"
     ]
    }
   ],
   "source": [
    "%load_ext lab_black"
   ]
  },
  {
   "cell_type": "code",
   "execution_count": 84,
   "id": "830af6ad-9794-4b73-ab76-a8d78e07954a",
   "metadata": {},
   "outputs": [],
   "source": [
    "from pathlib import Path"
   ]
  },
  {
   "cell_type": "code",
   "execution_count": 85,
   "id": "e89dca5d-321b-4c77-b242-18bac5cb7ca2",
   "metadata": {},
   "outputs": [],
   "source": [
    "def print_cmd(cmd):\n",
    "    print(\n",
    "        \"\\n\".join(\n",
    "            [\" \".join([str(x) for x in cmd[i : i + 4]]) for i in range(0, len(cmd), 4)]\n",
    "        )\n",
    "    )"
   ]
  },
  {
   "cell_type": "code",
   "execution_count": 86,
   "id": "705184bf-017c-4bde-aedd-c22e75d73e3d",
   "metadata": {},
   "outputs": [],
   "source": [
    "def parse(number):\n",
    "    op = number % 100\n",
    "    mode_a = number % 1000 // 100\n",
    "    mode_b = number % 10000 // 1000\n",
    "    return op, mode_a, mode_b"
   ]
  },
  {
   "cell_type": "code",
   "execution_count": 137,
   "id": "20d66c0d-7efc-4499-a2c3-16b8143a20b9",
   "metadata": {},
   "outputs": [],
   "source": [
    "import sys"
   ]
  },
  {
   "cell_type": "code",
   "execution_count": 157,
   "id": "f80ee19f-1f7d-48fb-9dca-4f352c741ccf",
   "metadata": {},
   "outputs": [],
   "source": [
    "def run(cmd, autoinputs=None):\n",
    "    cmd = cmd[::]\n",
    "    i = 0\n",
    "    input_i = 0\n",
    "    while cmd[i] != 99:\n",
    "        op, mode_a, mode_b = parse(cmd[i])\n",
    "\n",
    "        # sum\n",
    "        if op == 1:\n",
    "            p1, p2, p_out = cmd[i + 1], cmd[i + 2], cmd[i + 3]\n",
    "            arg1 = cmd[p1] if mode_a == 0 else p1\n",
    "            arg2 = cmd[p2] if mode_b == 0 else p2\n",
    "            cmd[p_out] = arg1 + arg2\n",
    "            i += 4\n",
    "\n",
    "        # multiply\n",
    "        elif op == 2:\n",
    "            p1, p2, p_out = cmd[i + 1], cmd[i + 2], cmd[i + 3]\n",
    "            arg1 = cmd[p1] if mode_a == 0 else p1\n",
    "            arg2 = cmd[p2] if mode_b == 0 else p2\n",
    "            cmd[p_out] = arg1 * arg2\n",
    "            i += 4\n",
    "\n",
    "        # input\n",
    "        elif op == 3:\n",
    "            p1 = cmd[i + 1]\n",
    "            if autoinputs is None:\n",
    "                arg = int(input())\n",
    "            else:\n",
    "                arg = autoinputs[input_i]\n",
    "                input_i += 1\n",
    "            cmd[p1] = arg\n",
    "            i += 2\n",
    "\n",
    "        # output\n",
    "        elif op == 4:\n",
    "            arg1 = cmd[i + 1] if mode_a == 0 else i + 1\n",
    "            print(cmd[arg1], file=sys.stderr)\n",
    "            i += 2\n",
    "\n",
    "        # jump-if-true\n",
    "        elif op == 5:\n",
    "            p1, p2, p_out = cmd[i + 1], cmd[i + 2], cmd[i + 3]\n",
    "            arg1 = cmd[p1] if mode_a == 0 else p1\n",
    "            arg2 = cmd[p2] if mode_b == 0 else p2\n",
    "            if arg1 != 0:\n",
    "                i = arg2\n",
    "            else:\n",
    "                i += 3\n",
    "\n",
    "        # jump-if-false\n",
    "        elif op == 6:\n",
    "            p1, p2, p_out = cmd[i + 1], cmd[i + 2], cmd[i + 3]\n",
    "            arg1 = cmd[p1] if mode_a == 0 else p1\n",
    "            arg2 = cmd[p2] if mode_b == 0 else p2\n",
    "            if arg1 == 0:\n",
    "                i = arg2\n",
    "            else:\n",
    "                i += 3\n",
    "\n",
    "        # less than\n",
    "        elif op == 7:\n",
    "            p1, p2, p_out = cmd[i + 1], cmd[i + 2], cmd[i + 3]\n",
    "            arg1 = cmd[p1] if mode_a == 0 else p1\n",
    "            arg2 = cmd[p2] if mode_b == 0 else p2\n",
    "            cmd[p_out] = int(arg1 < arg2)\n",
    "            i += 4\n",
    "\n",
    "        # equals to\n",
    "        elif op == 8:\n",
    "            p1, p2, p_out = cmd[i + 1], cmd[i + 2], cmd[i + 3]\n",
    "            arg1 = cmd[p1] if mode_a == 0 else p1\n",
    "            arg2 = cmd[p2] if mode_b == 0 else p2\n",
    "            cmd[p_out] = int(arg1 == arg2)\n",
    "            i += 4\n",
    "\n",
    "    return cmd"
   ]
  },
  {
   "cell_type": "code",
   "execution_count": 158,
   "id": "3189281f-41f3-471a-b064-31cae3ed76ee",
   "metadata": {},
   "outputs": [],
   "source": [
    "def read(s):\n",
    "    return [int(x) for x in s.split(\",\")]"
   ]
  },
  {
   "cell_type": "code",
   "execution_count": 164,
   "id": "132cedbc-e866-4598-90d2-76bfb8a37dfa",
   "metadata": {},
   "outputs": [
    {
     "name": "stdout",
     "output_type": "stream",
     "text": [
      "5290681\n"
     ]
    }
   ],
   "source": [
    "cmd = [int(x) for x in Path(\"data/02.txt\").read_text().strip().split(\",\")]\n",
    "cmd[1] = 12\n",
    "cmd[2] = 2\n",
    "print_cmd(run(cmd)[:1])"
   ]
  },
  {
   "cell_type": "code",
   "execution_count": 166,
   "id": "915da640-80eb-4f62-83db-10f88c0b2a1d",
   "metadata": {},
   "outputs": [
    {
     "name": "stderr",
     "output_type": "stream",
     "text": [
      "0\n",
      "0\n",
      "0\n",
      "0\n",
      "0\n",
      "0\n",
      "0\n",
      "0\n",
      "0\n",
      "7566643\n"
     ]
    }
   ],
   "source": [
    "cmd = [int(x) for x in Path(\"data/05.txt\").read_text().strip().split(\",\")]\n",
    "_ = run(cmd, autoinputs=[1])"
   ]
  },
  {
   "cell_type": "code",
   "execution_count": 165,
   "id": "8dfff640-337e-4064-b5a5-b619fea5e3e0",
   "metadata": {},
   "outputs": [
    {
     "name": "stderr",
     "output_type": "stream",
     "text": [
      "9265694\n"
     ]
    }
   ],
   "source": [
    "cmd = [int(x) for x in Path(\"data/05.txt\").read_text().strip().split(\",\")]\n",
    "_ = run(cmd, autoinputs=[5])"
   ]
  },
  {
   "cell_type": "code",
   "execution_count": 160,
   "id": "686f0472-264d-4bf9-af48-f57c79dd4079",
   "metadata": {},
   "outputs": [
    {
     "name": "stdin",
     "output_type": "stream",
     "text": [
      " 5\n"
     ]
    },
    {
     "name": "stderr",
     "output_type": "stream",
     "text": [
      "9265694\n"
     ]
    }
   ],
   "source": [
    "cmd = [int(x) for x in Path(\"data/05.txt\").read_text().strip().split(\",\")]\n",
    "# print_cmd(cmd)\n",
    "\n",
    "# cmd = [3, 9, 8, 9, 10, 9, 4, 9, 99, -1, 8]\n",
    "# cmd = [3, 9, 7, 9, 10, 9, 4, 9, 99, -1, 8]\n",
    "# cmd = [3, 3, 1108, -1, 8, 3, 4, 3, 99]\n",
    "# cmd = [3, 3, 1107, -1, 8, 3, 4, 3, 99]\n",
    "# cmd = [3, 12, 6, 12, 15, 1, 13, 14, 13, 4, 13, 99, -1, 0, 1, 9]\n",
    "# cmd = [3, 3, 1105, -1, 9, 1101, 0, 0, 12, 4, 12, 99, 1]\n",
    "\n",
    "# print_cmd(run(cmd))\n",
    "_ = run(cmd)"
   ]
  },
  {
   "cell_type": "code",
   "execution_count": null,
   "id": "a59659fe-6975-47cb-8a0d-81b6414e79fb",
   "metadata": {},
   "outputs": [],
   "source": []
  }
 ],
 "metadata": {
  "kernelspec": {
   "display_name": "Python 3 (ipykernel)",
   "language": "python",
   "name": "python3"
  },
  "language_info": {
   "codemirror_mode": {
    "name": "ipython",
    "version": 3
   },
   "file_extension": ".py",
   "mimetype": "text/x-python",
   "name": "python",
   "nbconvert_exporter": "python",
   "pygments_lexer": "ipython3",
   "version": "3.10.9"
  }
 },
 "nbformat": 4,
 "nbformat_minor": 5
}
