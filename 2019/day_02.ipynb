{
 "cells": [
  {
   "cell_type": "code",
   "execution_count": 2,
   "id": "c9de1205-863c-40dc-90df-d46f2e183df4",
   "metadata": {},
   "outputs": [
    {
     "name": "stdout",
     "output_type": "stream",
     "text": [
      "The lab_black extension is already loaded. To reload it, use:\n",
      "  %reload_ext lab_black\n"
     ]
    }
   ],
   "source": [
    "%load_ext lab_black\n",
    "\n",
    "from puzzles import load, load_lines"
   ]
  },
  {
   "cell_type": "code",
   "execution_count": 25,
   "id": "b299f82b-0261-46b5-9f48-c5e395da7f4b",
   "metadata": {},
   "outputs": [
    {
     "data": {
      "text/plain": [
       "5290681"
      ]
     },
     "execution_count": 25,
     "metadata": {},
     "output_type": "execute_result"
    }
   ],
   "source": [
    "cmds = [int(x) for x in load(2).strip().split(\",\")]\n",
    "cmds[1] = 12\n",
    "cmds[2] = 2\n",
    "\n",
    "c = 0  # cursor\n",
    "while cmds[c] != 99:\n",
    "    cmd = cmds[c : c + 4]\n",
    "    if cmd[0] == 1:\n",
    "        op = lambda a, b: a + b\n",
    "    elif cmd[0] == 2:\n",
    "        op = lambda a, b: a * b\n",
    "    else:\n",
    "        c += 4\n",
    "        continue\n",
    "    cmds[cmd[3]] = op(cmds[cmd[1]], cmds[cmd[2]])\n",
    "    c += 4\n",
    "\n",
    "cmds[0]"
   ]
  },
  {
   "cell_type": "code",
   "execution_count": 27,
   "id": "48b9bdff-882d-45fd-b677-120eb7b8d1b1",
   "metadata": {},
   "outputs": [],
   "source": [
    "from tqdm import tqdm"
   ]
  },
  {
   "cell_type": "code",
   "execution_count": 30,
   "id": "81c5f0d9-671d-4866-8656-6fea9d184ab3",
   "metadata": {},
   "outputs": [
    {
     "name": "stderr",
     "output_type": "stream",
     "text": [
      " 57%|███████████████████████▉                  | 57/100 [00:00<00:00, 62.86it/s]\n"
     ]
    },
    {
     "name": "stdout",
     "output_type": "stream",
     "text": [
      "5741\n"
     ]
    }
   ],
   "source": [
    "found = False\n",
    "for noun in tqdm(range(100)):\n",
    "    for verb in range(100):\n",
    "\n",
    "        cmds = [int(x) for x in load(2).strip().split(\",\")]\n",
    "        cmds[1] = noun\n",
    "        cmds[2] = verb\n",
    "\n",
    "        c = 0\n",
    "        while cmds[c] != 99:\n",
    "            cmd = cmds[c : c + 4]\n",
    "            if cmd[0] == 1:\n",
    "                op = lambda a, b: a + b\n",
    "            elif cmd[0] == 2:\n",
    "                op = lambda a, b: a * b\n",
    "            else:\n",
    "                c += 4\n",
    "                continue\n",
    "            cmds[cmd[3]] = op(cmds[cmd[1]], cmds[cmd[2]])\n",
    "            c += 4\n",
    "\n",
    "        if cmds[0] == 19690720:\n",
    "            print(100 * noun + verb)\n",
    "            found = True\n",
    "            break\n",
    "\n",
    "    if found:\n",
    "        break"
   ]
  },
  {
   "cell_type": "code",
   "execution_count": null,
   "id": "33a1f2ec-5cca-48c3-bae0-4a6d26eb3263",
   "metadata": {},
   "outputs": [],
   "source": []
  }
 ],
 "metadata": {
  "kernelspec": {
   "display_name": "platy-segmentation",
   "language": "python",
   "name": "platy-segmentation"
  },
  "language_info": {
   "codemirror_mode": {
    "name": "ipython",
    "version": 3
   },
   "file_extension": ".py",
   "mimetype": "text/x-python",
   "name": "python",
   "nbconvert_exporter": "python",
   "pygments_lexer": "ipython3",
   "version": "3.9.6"
  }
 },
 "nbformat": 4,
 "nbformat_minor": 5
}
