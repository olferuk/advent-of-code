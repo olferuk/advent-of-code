{
 "cells": [
  {
   "cell_type": "code",
   "execution_count": 1,
   "id": "0a276963-8314-40b0-a5c0-fd2741e64e0a",
   "metadata": {},
   "outputs": [],
   "source": [
    "%load_ext lab_black\n",
    "\n",
    "from puzzles import load, load_lines, load_tokens"
   ]
  },
  {
   "cell_type": "code",
   "execution_count": 2,
   "id": "6a311b86-b419-4f2b-ae8a-f7a5016fcbb1",
   "metadata": {},
   "outputs": [
    {
     "data": {
      "text/plain": [
       "'3,225,1,225,6,6,1100,1,238,225,104,0,1002,148,28,224,1001,224,-672,224,4,224,1002,223,8,223,101,3,224,224,1,224,223,223,1102,8,21,225,1102,13,10,225,1102,21,10,225,1102,6,14,225,1102,94,17,225,1,40,173,224,1001,224,-90,224,4,224,102,8,223,223,1001,224,4,224,1,224,223,223,2,35,44,224,101,-80,224,224,4,224,102,8,223,223,101,6,224,224,1,223,224,223,1101,26,94,224,101,-120,224,224,4,224,102,8,223,223,1001,224,7,224,1,224,223,223,1001,52,70,224,101,-87,224,224,4,224,1002,223,8,223,1001,224,2,224,1,223,224,223,1101,16,92,225,1101,59,24,225,102,83,48,224,101,-1162,224,224,4,224,102,8,223,223,101,4,224,224,1,223,224,223,1101,80,10,225,101,5,143,224,1001,224,-21,224,4,224,1002,223,8,223,1001,224,6,224,1,223,224,223,1102,94,67,224,101,-6298,224,224,4,224,102,8,223,223,1001,224,3,224,1,224,223,223,4,223,99,0,0,0,677,0,0,0,0,0,0,0,0,0,0,0,1105,0,99999,1105,227,247,1105,1,99999,1005,227,99999,1005,0,256,1105,1,99999,1106,227,99999,1106,0,265,1105,1,99999,1006,0,99999,1006,227,274,1105,1,99999,1105,1,280,1105,1,99999,1,225,225,225,1101,294,0,0,105,1,0,1105,1,99999,1106,0,300,1105,1,99999,1,225,225,225,1101,314,0,0,106,0,0,1105,1,99999,108,677,677,224,102,2,223,223,1005,224,329,101,1,223,223,1107,677,226,224,102,2,223,223,1006,224,344,101,1,223,223,1107,226,226,224,102,2,223,223,1006,224,359,101,1,223,223,1108,677,677,224,102,2,223,223,1005,224,374,101,1,223,223,8,677,226,224,1002,223,2,223,1005,224,389,101,1,223,223,108,226,677,224,1002,223,2,223,1006,224,404,1001,223,1,223,107,677,677,224,102,2,223,223,1006,224,419,101,1,223,223,1007,226,226,224,102,2,223,223,1005,224,434,101,1,223,223,1007,677,677,224,102,2,223,223,1005,224,449,1001,223,1,223,8,677,677,224,1002,223,2,223,1006,224,464,101,1,223,223,1108,677,226,224,1002,223,2,223,1005,224,479,101,1,223,223,7,677,226,224,1002,223,2,223,1005,224,494,101,1,223,223,1008,677,677,224,1002,223,2,223,1006,224,509,1001,223,1,223,1007,226,677,224,1002,223,2,223,1006,224,524,1001,223,1,223,107,226,226,224,1002,223,2,223,1006,224,539,1001,223,1,223,1107,226,677,224,102,2,223,223,1005,224,554,101,1,223,223,1108,226,677,224,102,2,223,223,1006,224,569,101,1,223,223,108,226,226,224,1002,223,2,223,1006,224,584,1001,223,1,223,7,226,226,224,1002,223,2,223,1006,224,599,101,1,223,223,8,226,677,224,102,2,223,223,1005,224,614,101,1,223,223,7,226,677,224,1002,223,2,223,1005,224,629,101,1,223,223,1008,226,677,224,1002,223,2,223,1006,224,644,101,1,223,223,107,226,677,224,1002,223,2,223,1005,224,659,1001,223,1,223,1008,226,226,224,1002,223,2,223,1006,224,674,1001,223,1,223,4,223,99,226\\n'"
      ]
     },
     "execution_count": 2,
     "metadata": {},
     "output_type": "execute_result"
    }
   ],
   "source": [
    "load(5)"
   ]
  },
  {
   "cell_type": "code",
   "execution_count": 6,
   "id": "da8ad810-3c44-4f83-ae8f-6dc3346b8741",
   "metadata": {},
   "outputs": [],
   "source": [
    "import numpy as np"
   ]
  },
  {
   "cell_type": "code",
   "execution_count": 16,
   "id": "e2a5d78b-4ea2-4f01-9650-58555dff84c9",
   "metadata": {},
   "outputs": [
    {
     "data": {
      "text/plain": [
       "678"
      ]
     },
     "execution_count": 16,
     "metadata": {},
     "output_type": "execute_result"
    }
   ],
   "source": [
    "len(cmds)"
   ]
  },
  {
   "cell_type": "markdown",
   "id": "d2126101-4229-4fb1-8416-3cc736909ef0",
   "metadata": {},
   "source": [
    "- Opcode 5 is jump-if-true: if the first parameter is non-zero, it sets the instruction pointer to the value from the second parameter. Otherwise, it does nothing.\n",
    "- Opcode 6 is jump-if-false: if the first parameter is zero, it sets the instruction pointer to the value from the second parameter. Otherwise, it does nothing.\n",
    "- Opcode 7 is less than: if the first parameter is less than the second parameter, it stores 1 in the position given by the third parameter. Otherwise, it stores 0.\n",
    "- Opcode 8 is equals: if the first parameter is equal to the second parameter, it stores 1 in the position given by the third parameter. Otherwise, it stores 0.\n"
   ]
  },
  {
   "cell_type": "code",
   "execution_count": 25,
   "id": "9dcb3abe-9287-494b-a34e-e302d2e7d28b",
   "metadata": {},
   "outputs": [
    {
     "name": "stdout",
     "output_type": "stream",
     "text": [
      "0\n",
      "0\n",
      "0\n",
      "0\n",
      "0\n",
      "0\n",
      "0\n",
      "0\n",
      "0\n",
      "7566643\n"
     ]
    }
   ],
   "source": [
    "cmds = np.array(load_tokens(5, \",\")).astype(int)\n",
    "# cmds = np.array(\"1101,100,-1,4,0\".split(\",\")).astype(int)\n",
    "\n",
    "ID = 1\n",
    "c = 0\n",
    "# history = []\n",
    "\n",
    "while cmds[c] != 99:\n",
    "\n",
    "    # history.append(c)\n",
    "    # if len(history) == 100:\n",
    "    #     break\n",
    "\n",
    "    cmd = cmds[c : c + 4]\n",
    "\n",
    "    func = f\"{cmd[0]:05d}\"\n",
    "\n",
    "    if func[-2:] in [\"01\", \"02\", '05', '06', '07', '08']:\n",
    "\n",
    "        if func[-2:] == \"01\":\n",
    "            op = lambda a, b: a + b\n",
    "        elif func[-2:] == \"02\":\n",
    "            op = lambda a, b: a * b\n",
    "        \n",
    "        # TODO:\n",
    "        elif func[-2:] == \"05\":\n",
    "            op = lambda a, b: a * b\n",
    "        elif func[-2:] == \"06\":\n",
    "            op = lambda a, b: a * b\n",
    "        elif func[-2:] == \"07\":\n",
    "            op = lambda a, b: a * b\n",
    "        elif func[-2:] == \"08\":\n",
    "            op = lambda a, b: a * b\n",
    "        \n",
    "        x1 = cmds[cmd[1]] if func[2] == \"0\" else int(cmd[1])\n",
    "        x2 = cmds[cmd[2]] if func[1] == \"0\" else int(cmd[2])\n",
    "        result = op(x1, x2)\n",
    "\n",
    "        cmds[cmd[3]] = result\n",
    "        c += 4\n",
    "\n",
    "    elif func[-2:] == \"03\":\n",
    "        cmds[cmd[1]] = ID\n",
    "        c += 2\n",
    "    elif func[-2:] == \"04\":\n",
    "        x1 = cmds[cmd[1]] if func[2] == \"0\" else int(cmd[1])\n",
    "        print(x1)\n",
    "        c += 2"
   ]
  },
  {
   "cell_type": "code",
   "execution_count": 21,
   "id": "027514ce-2e68-4d87-927b-9b5953295bbf",
   "metadata": {},
   "outputs": [
    {
     "data": {
      "text/plain": [
       "array([   3,  225,    1,  225,    6,    6, 1100,    1,  238,  225])"
      ]
     },
     "execution_count": 21,
     "metadata": {},
     "output_type": "execute_result"
    }
   ],
   "source": [
    "cmds[:10]"
   ]
  },
  {
   "cell_type": "code",
   "execution_count": 18,
   "id": "a0bf898c-27d1-4a5b-b2e6-c056e22fc741",
   "metadata": {},
   "outputs": [],
   "source": [
    "import matplotlib.pyplot as plt"
   ]
  },
  {
   "cell_type": "code",
   "execution_count": 20,
   "id": "f7993212-e5bc-471d-8963-a71e8e322404",
   "metadata": {},
   "outputs": [
    {
     "data": {
      "text/plain": [
       "[0, 1, 1, 1, 1, 1, 1, 1, 1, 1]"
      ]
     },
     "execution_count": 20,
     "metadata": {},
     "output_type": "execute_result"
    }
   ],
   "source": [
    "history[:10]"
   ]
  },
  {
   "cell_type": "code",
   "execution_count": 19,
   "id": "ed721681-be4b-4944-aa9b-c99b307ab068",
   "metadata": {},
   "outputs": [
    {
     "data": {
      "text/plain": [
       "[<matplotlib.lines.Line2D at 0x122a875b0>]"
      ]
     },
     "execution_count": 19,
     "metadata": {},
     "output_type": "execute_result"
    },
    {
     "data": {
      "image/png": "[encoded data removed]",
      "text/plain": [
       "<Figure size 432x288 with 1 Axes>"
      ]
     },
     "metadata": {
      "needs_background": "light"
     },
     "output_type": "display_data"
    }
   ],
   "source": [
    "plt.plot(history)"
   ]
  },
  {
   "cell_type": "code",
   "execution_count": null,
   "id": "6692feab-1f27-46b3-9199-bc61eea8d52e",
   "metadata": {},
   "outputs": [],
   "source": []
  }
 ],
 "metadata": {
  "kernelspec": {
   "display_name": "Python (DE)",
   "language": "python",
   "name": "python3"
  },
  "language_info": {
   "codemirror_mode": {
    "name": "ipython",
    "version": 3
   },
   "file_extension": ".py",
   "mimetype": "text/x-python",
   "name": "python",
   "nbconvert_exporter": "python",
   "pygments_lexer": "ipython3",
   "version": "3.7.12"
  }
 },
 "nbformat": 4,
 "nbformat_minor": 5
}
