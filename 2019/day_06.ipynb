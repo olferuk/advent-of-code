{
 "cells": [
  {
   "cell_type": "code",
   "execution_count": 1,
   "id": "dee5fd07-6783-4b1d-847b-c087ed05bd8b",
   "metadata": {},
   "outputs": [],
   "source": [
    "%load_ext lab_black\n",
    "\n",
    "from puzzles import load, load_lines, load_tokens"
   ]
  },
  {
   "cell_type": "code",
   "execution_count": 94,
   "id": "23d0ec0a-76a5-4a59-9c5d-ae5dfae90b33",
   "metadata": {},
   "outputs": [],
   "source": [
    "class Node:\n",
    "    def __init__(self, name):\n",
    "        self.name = name\n",
    "        self.parent = None\n",
    "        self.nodes = []\n",
    "        self.tags = []\n",
    "\n",
    "    def __repr__(self):\n",
    "        pname = self.parent.name if self.parent is not None else \"null\"\n",
    "        return f\"Node(name={self.name}, parent={pname}, num_nodes={len(self.nodes)})\"\n",
    "\n",
    "    def get_num_satelites(self):\n",
    "        if self.parent is None:\n",
    "            return 0\n",
    "        return 1 + self.parent.get_num_satelites()\n",
    "\n",
    "    def color(self, tag):\n",
    "        if tag not in self.tags:\n",
    "            self.tags.append(tag)\n",
    "        if self.parent is not None:\n",
    "            self.parent.color(tag)"
   ]
  },
  {
   "cell_type": "code",
   "execution_count": 95,
   "id": "1dc9af81-f9ee-4d9b-bb4e-a02f3282922e",
   "metadata": {},
   "outputs": [
    {
     "data": {
      "text/plain": [
       "145250"
      ]
     },
     "execution_count": 95,
     "metadata": {},
     "output_type": "execute_result"
    }
   ],
   "source": [
    "lines = load_lines(6)\n",
    "\n",
    "all_nodes = {}\n",
    "\n",
    "for line in lines:\n",
    "    a, b = line.split(\")\")\n",
    "    node_parent = all_nodes.get(a, Node(name=a))\n",
    "    node_child = all_nodes.get(b, Node(name=b))\n",
    "    node_parent.nodes.append(node_child)\n",
    "    node_child.parent = node_parent\n",
    "    all_nodes[a] = node_parent\n",
    "    all_nodes[b] = node_child\n",
    "\n",
    "sum([n.get_num_satelites() for n in all_nodes.values()])"
   ]
  },
  {
   "cell_type": "code",
   "execution_count": 100,
   "id": "fe2d26ae-499e-4b87-bf17-23fe2f961b63",
   "metadata": {},
   "outputs": [
    {
     "data": {
      "text/plain": [
       "274"
      ]
     },
     "execution_count": 100,
     "metadata": {},
     "output_type": "execute_result"
    }
   ],
   "source": [
    "all_nodes[\"SAN\"].color(\"SAN\")\n",
    "all_nodes[\"YOU\"].color(\"YOU\")\n",
    "\n",
    "sum([len(n.tags) == 1 for n in all_nodes.values()]) - 2"
   ]
  }
 ],
 "metadata": {
  "kernelspec": {
   "display_name": "platy-segmentation",
   "language": "python",
   "name": "platy-segmentation"
  },
  "language_info": {
   "codemirror_mode": {
    "name": "ipython",
    "version": 3
   },
   "file_extension": ".py",
   "mimetype": "text/x-python",
   "name": "python",
   "nbconvert_exporter": "python",
   "pygments_lexer": "ipython3",
   "version": "3.9.6"
  }
 },
 "nbformat": 4,
 "nbformat_minor": 5
}
