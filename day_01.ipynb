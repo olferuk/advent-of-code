{
 "cells": [
  {
   "cell_type": "code",
   "execution_count": 23,
   "id": "9fdd67a7-f99c-4ae3-9bd7-ffa255a6566b",
   "metadata": {},
   "outputs": [],
   "source": [
    "def download_puzzle(day: int, year: int = 2021) -> str:\n",
    "    headers = {\n",
    "        \"cookie\": (\n",
    "            \"session=53616c7465645f5ff03d703ef925a9ab24f0b63de34f0e158adf5c3daa11fccbd8b42a4ed6fc2b4\"\n",
    "            \"df3642de5f8c3be5e\"\n",
    "        )\n",
    "    }\n",
    "    response = requests.get(\n",
    "        f\"https://adventofcode.com/{year}/day/{day}/input\", headers=headers\n",
    "    )\n",
    "    return response.text\n",
    "\n",
    "\n",
    "def load(day: int) -> str:\n",
    "    with open(f\"data/{day:02d}.txt\") as f:\n",
    "        data = f.read()\n",
    "    return data"
   ]
  },
  {
   "cell_type": "code",
   "execution_count": 24,
   "id": "4da61c5f-0377-4880-bdf9-ac7462e7f7ec",
   "metadata": {},
   "outputs": [],
   "source": [
    "for day in range(1, 26):\n",
    "    text = download_puzzle(day, 2020)\n",
    "    open(f\"data/{day:02d}.txt\", \"w\").write(text)"
   ]
  },
  {
   "cell_type": "code",
   "execution_count": 25,
   "id": "53632bed-77fa-4f15-b2fe-36aefdd7676a",
   "metadata": {},
   "outputs": [
    {
     "name": "stdout",
     "output_type": "stream",
     "text": [
      "The lab_black extension is already loaded. To reload it, use:\n",
      "  %reload_ext lab_black\n"
     ]
    }
   ],
   "source": [
    "%load_ext lab_black"
   ]
  },
  {
   "cell_type": "code",
   "execution_count": 28,
   "id": "854aaa19-3e87-4518-9208-f89ee8330244",
   "metadata": {},
   "outputs": [],
   "source": [
    "import numpy as np"
   ]
  },
  {
   "cell_type": "markdown",
   "id": "a8c759cc-286e-4e45-842c-3ce61093f35a",
   "metadata": {},
   "source": [
    "---"
   ]
  },
  {
   "cell_type": "code",
   "execution_count": 83,
   "id": "8e229fef-1156-4b86-92d2-09dbd65904c2",
   "metadata": {},
   "outputs": [],
   "source": [
    "ns = [int(x) for x in load(1).strip().split()]"
   ]
  },
  {
   "cell_type": "code",
   "execution_count": 84,
   "id": "d8a95792-476c-45d7-8295-ed7a419ee5ff",
   "metadata": {},
   "outputs": [
    {
     "name": "stdout",
     "output_type": "stream",
     "text": [
      "1269 494 257 2020 161109702\n",
      "1269 257 494 2020 161109702\n"
     ]
    }
   ],
   "source": [
    "for i, a in enumerate(ns):\n",
    "    for j in range(i):\n",
    "        for k in range(i):\n",
    "            b = ns[j]\n",
    "            c = ns[k]\n",
    "\n",
    "            if i == j or k == i or a + b + c != 2020:\n",
    "                continue\n",
    "\n",
    "            print(a, b, c, a + b + c, a * b * c)\n",
    "            break"
   ]
  },
  {
   "cell_type": "markdown",
   "id": "46ac4e62-30f9-430c-bf47-979834300a1c",
   "metadata": {},
   "source": [
    "---"
   ]
  }
 ],
 "metadata": {
  "kernelspec": {
   "display_name": "platy-segmentation",
   "language": "python",
   "name": "platy-segmentation"
  },
  "language_info": {
   "codemirror_mode": {
    "name": "ipython",
    "version": 3
   },
   "file_extension": ".py",
   "mimetype": "text/x-python",
   "name": "python",
   "nbconvert_exporter": "python",
   "pygments_lexer": "ipython3",
   "version": "3.9.6"
  }
 },
 "nbformat": 4,
 "nbformat_minor": 5
}
