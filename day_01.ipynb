{
 "cells": [
  {
   "cell_type": "code",
   "execution_count": 23,
   "id": "9fdd67a7-f99c-4ae3-9bd7-ffa255a6566b",
   "metadata": {},
   "outputs": [],
   "source": [
    "def download_puzzle(day: int, year: int = 2021) -> str:\n",
    "    headers = {\n",
    "        \"cookie\": (\n",
    "            \"session=53616c7465645f5ff03d703ef925a9ab24f0b63de34f0e158adf5c3daa11fccbd8b42a4ed6fc2b4\"\n",
    "            \"df3642de5f8c3be5e\"\n",
    "        )\n",
    "    }\n",
    "    response = requests.get(\n",
    "        f\"https://adventofcode.com/{year}/day/{day}/input\", headers=headers\n",
    "    )\n",
    "    return response.text\n",
    "\n",
    "\n",
    "def load(day: int) -> str:\n",
    "    with open(f\"data/{day:02d}.txt\") as f:\n",
    "        data = f.read()\n",
    "    return data"
   ]
  },
  {
   "cell_type": "code",
   "execution_count": 24,
   "id": "4da61c5f-0377-4880-bdf9-ac7462e7f7ec",
   "metadata": {},
   "outputs": [],
   "source": [
    "for day in range(1, 26):\n",
    "    text = download_puzzle(day, 2020)\n",
    "    open(f\"data/{day:02d}.txt\", \"w\").write(text)"
   ]
  },
  {
   "cell_type": "code",
   "execution_count": 25,
   "id": "53632bed-77fa-4f15-b2fe-36aefdd7676a",
   "metadata": {},
   "outputs": [
    {
     "name": "stdout",
     "output_type": "stream",
     "text": [
      "The lab_black extension is already loaded. To reload it, use:\n",
      "  %reload_ext lab_black\n"
     ]
    }
   ],
   "source": [
    "%load_ext lab_black"
   ]
  },
  {
   "cell_type": "code",
   "execution_count": 28,
   "id": "854aaa19-3e87-4518-9208-f89ee8330244",
   "metadata": {},
   "outputs": [],
   "source": [
    "import numpy as np"
   ]
  },
  {
   "cell_type": "markdown",
   "id": "a8c759cc-286e-4e45-842c-3ce61093f35a",
   "metadata": {},
   "source": [
    "---"
   ]
  },
  {
   "cell_type": "code",
   "execution_count": 29,
   "id": "8e229fef-1156-4b86-92d2-09dbd65904c2",
   "metadata": {},
   "outputs": [],
   "source": [
    "ns = [int(x) for x in load(1).strip().split()]"
   ]
  },
  {
   "cell_type": "code",
   "execution_count": 30,
   "id": "d8a95792-476c-45d7-8295-ed7a419ee5ff",
   "metadata": {},
   "outputs": [
    {
     "name": "stdout",
     "output_type": "stream",
     "text": [
      "1269 494 257 2020 161109702\n",
      "1269 257 494 2020 161109702\n"
     ]
    }
   ],
   "source": [
    "for i, a in enumerate(ns):\n",
    "    for j in range(i):\n",
    "        for k in range(i):\n",
    "            b = ns[j]\n",
    "            c = ns[k]\n",
    "\n",
    "            if i == j or k == i or a + b + c != 2020:\n",
    "                continue\n",
    "\n",
    "            print(a, b, c, a + b + c, a * b * c)"
   ]
  },
  {
   "cell_type": "markdown",
   "id": "46ac4e62-30f9-430c-bf47-979834300a1c",
   "metadata": {},
   "source": [
    "---"
   ]
  },
  {
   "cell_type": "code",
   "execution_count": 33,
   "id": "54b8fa75-9742-4911-937d-bf79ab09976a",
   "metadata": {},
   "outputs": [],
   "source": [
    "ls = load(2).strip().split(\"\\n\")"
   ]
  },
  {
   "cell_type": "code",
   "execution_count": 37,
   "id": "797dca0c-bbc7-4d8a-807c-3b3fd54c5183",
   "metadata": {},
   "outputs": [
    {
     "data": {
      "text/plain": [
       "643"
      ]
     },
     "execution_count": 37,
     "metadata": {},
     "output_type": "execute_result"
    }
   ],
   "source": [
    "n_valid = 0\n",
    "for line in ls:\n",
    "    rule, password = line.split(\": \")\n",
    "    ns, letter = rule.split()\n",
    "    mi, ma = [int(x) for x in ns.split(\"-\")]\n",
    "    k = sum([1 for c in password if c == letter])\n",
    "    if mi <= k <= ma:\n",
    "        n_valid += 1\n",
    "\n",
    "n_valid"
   ]
  },
  {
   "cell_type": "code",
   "execution_count": 42,
   "id": "3ef2af0b-aeb3-46b1-ad8d-02441b496d5f",
   "metadata": {},
   "outputs": [
    {
     "data": {
      "text/plain": [
       "388"
      ]
     },
     "execution_count": 42,
     "metadata": {},
     "output_type": "execute_result"
    }
   ],
   "source": [
    "n_valid = 0\n",
    "for line in ls:\n",
    "    rule, password = line.split(\": \")\n",
    "    ns, letter = rule.split()\n",
    "    mi, ma = [int(x) - 1 for x in ns.split(\"-\")]\n",
    "    if (password[mi] == letter or password[ma] == letter) and not (\n",
    "        password[mi] == letter and password[ma] == letter\n",
    "    ):\n",
    "        n_valid += 1\n",
    "\n",
    "n_valid"
   ]
  },
  {
   "cell_type": "markdown",
   "id": "eeefcf3b-0c62-4494-8b95-a908f11df49f",
   "metadata": {},
   "source": [
    "---"
   ]
  },
  {
   "cell_type": "code",
   "execution_count": 69,
   "id": "fe1e0077-5aab-47d0-a2a5-1a3384bf3f58",
   "metadata": {},
   "outputs": [],
   "source": [
    "ls = load(3).strip().split(\"\\n\")"
   ]
  },
  {
   "cell_type": "code",
   "execution_count": 76,
   "id": "26370389-6979-443b-9913-6f3b21604c1b",
   "metadata": {},
   "outputs": [],
   "source": [
    "def check_slope(rs, cs):\n",
    "    r, c = 0, 0\n",
    "    n = 0\n",
    "    while r < len(ls):\n",
    "        n += int(ls[r][c] == \"#\")\n",
    "        c += cs\n",
    "        if c >= len(ls[0]):\n",
    "            c -= len(ls[0])\n",
    "        r += rs\n",
    "    return n"
   ]
  },
  {
   "cell_type": "code",
   "execution_count": 77,
   "id": "98ef8a46-6993-4de3-a835-15fdd578ea4c",
   "metadata": {},
   "outputs": [
    {
     "data": {
      "text/plain": [
       "187"
      ]
     },
     "execution_count": 77,
     "metadata": {},
     "output_type": "execute_result"
    }
   ],
   "source": [
    "check_slope(1, 3)"
   ]
  },
  {
   "cell_type": "code",
   "execution_count": 81,
   "id": "35b02d43-2e0e-43f0-aa65-8173a7297d5e",
   "metadata": {},
   "outputs": [
    {
     "data": {
      "text/plain": [
       "4723283400"
      ]
     },
     "execution_count": 81,
     "metadata": {},
     "output_type": "execute_result"
    }
   ],
   "source": [
    "(\n",
    "    check_slope(1, 1)\n",
    "    * check_slope(1, 3)\n",
    "    * check_slope(1, 5)\n",
    "    * check_slope(1, 7)\n",
    "    * check_slope(2, 1)\n",
    ")"
   ]
  },
  {
   "cell_type": "code",
   "execution_count": null,
   "id": "56559263-46eb-4262-8ea8-64ded49d9bf4",
   "metadata": {},
   "outputs": [],
   "source": []
  }
 ],
 "metadata": {
  "kernelspec": {
   "display_name": "platy-segmentation",
   "language": "python",
   "name": "platy-segmentation"
  },
  "language_info": {
   "codemirror_mode": {
    "name": "ipython",
    "version": 3
   },
   "file_extension": ".py",
   "mimetype": "text/x-python",
   "name": "python",
   "nbconvert_exporter": "python",
   "pygments_lexer": "ipython3",
   "version": "3.9.6"
  }
 },
 "nbformat": 4,
 "nbformat_minor": 5
}
