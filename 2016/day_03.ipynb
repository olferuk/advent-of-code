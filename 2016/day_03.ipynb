{
 "cells": [
  {
   "cell_type": "code",
   "execution_count": 1,
   "id": "0e27d64a-c0c2-4e29-a5bd-38b3eda32d3e",
   "metadata": {},
   "outputs": [],
   "source": [
    "%load_ext lab_black\n",
    "\n",
    "from puzzles import load"
   ]
  },
  {
   "cell_type": "code",
   "execution_count": 13,
   "id": "00b3f3ad-5078-4e91-802c-974453a3fd69",
   "metadata": {},
   "outputs": [
    {
     "data": {
      "text/plain": [
       "982"
      ]
     },
     "execution_count": 13,
     "metadata": {},
     "output_type": "execute_result"
    }
   ],
   "source": [
    "import numpy as np\n",
    "\n",
    "A = np.array([[k for k in x.split()] for x in load(3).strip().split(\"\\n\")]).astype(int)\n",
    "\n",
    "\n",
    "def is_triangle(row):\n",
    "    return (\n",
    "        row[0] + row[1] > row[2]\n",
    "        and row[0] + row[2] > row[1]\n",
    "        and row[1] + row[2] > row[0]\n",
    "    )\n",
    "\n",
    "\n",
    "np.apply_along_axis(is_triangle, 1, A).sum()"
   ]
  },
  {
   "cell_type": "code",
   "execution_count": null,
   "id": "8fff469d-4a43-4a9c-ac2f-781065c74721",
   "metadata": {},
   "outputs": [],
   "source": []
  }
 ],
 "metadata": {
  "kernelspec": {
   "display_name": "platy-segmentation",
   "language": "python",
   "name": "platy-segmentation"
  },
  "language_info": {
   "codemirror_mode": {
    "name": "ipython",
    "version": 3
   },
   "file_extension": ".py",
   "mimetype": "text/x-python",
   "name": "python",
   "nbconvert_exporter": "python",
   "pygments_lexer": "ipython3",
   "version": "3.9.6"
  }
 },
 "nbformat": 4,
 "nbformat_minor": 5
}
