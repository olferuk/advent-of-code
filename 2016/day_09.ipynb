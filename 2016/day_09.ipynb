{
 "cells": [
  {
   "cell_type": "code",
   "execution_count": 1,
   "id": "6ace413c-7043-4b53-bb5e-43589f2c84ba",
   "metadata": {},
   "outputs": [],
   "source": [
    "%load_ext lab_black\n",
    "\n",
    "from puzzles import load"
   ]
  },
  {
   "cell_type": "code",
   "execution_count": 68,
   "id": "3c93b1c8-0cdc-44fc-97de-224a30be9de9",
   "metadata": {},
   "outputs": [],
   "source": [
    "def take_token(s, idx):\n",
    "    token = \"\"\n",
    "    for i in range(idx, len(s)):\n",
    "        if s[i] in \"(x0123456789\":\n",
    "            token += s[i]\n",
    "        elif s[i] == \")\":\n",
    "            token += s[i]\n",
    "            return token\n",
    "        else:\n",
    "            return token\n",
    "\n",
    "\n",
    "def parse_token(token):\n",
    "    take, repeat = token[1:-1].split(\"x\")\n",
    "    return int(take), int(repeat)\n",
    "\n",
    "\n",
    "def parse(s):\n",
    "    sn = \"\"\n",
    "    i = 0\n",
    "    was_at_least_one = False\n",
    "    while i < len(s):\n",
    "        if s[i] == \"(\":\n",
    "            was_at_least_one = True\n",
    "            token = take_token(s, i)\n",
    "            take, repeat = parse_token(token)\n",
    "            i += len(token)\n",
    "            sn += s[i : i + take] * repeat\n",
    "            i += take\n",
    "        else:\n",
    "            sn += s[i]\n",
    "            i += 1\n",
    "\n",
    "    return sn, was_at_least_one"
   ]
  },
  {
   "cell_type": "code",
   "execution_count": 70,
   "id": "6d868bdd-ba6e-44be-9d01-f4dbf016661f",
   "metadata": {},
   "outputs": [
    {
     "data": {
      "text/plain": [
       "120765"
      ]
     },
     "execution_count": 70,
     "metadata": {},
     "output_type": "execute_result"
    }
   ],
   "source": [
    "len(parse(load(9).strip())[0])"
   ]
  },
  {
   "cell_type": "code",
   "execution_count": 76,
   "id": "57835a57-1a90-4274-9edd-e32ad7941c46",
   "metadata": {
    "tags": []
   },
   "outputs": [
    {
     "name": "stdout",
     "output_type": "stream",
     "text": [
      "......."
     ]
    },
    {
     "ename": "KeyboardInterrupt",
     "evalue": "",
     "output_type": "error",
     "traceback": [
      "\u001b[0;31m---------------------------------------------------------------------------\u001b[0m",
      "\u001b[0;31mKeyboardInterrupt\u001b[0m                         Traceback (most recent call last)",
      "\u001b[0;32m/var/folders/x4/t1fx1l8s0f97y033bl0gpgcr0000gn/T/ipykernel_4234/2684537754.py\u001b[0m in \u001b[0;36m<module>\u001b[0;34m\u001b[0m\n\u001b[1;32m      5\u001b[0m \u001b[0;34m\u001b[0m\u001b[0m\n\u001b[1;32m      6\u001b[0m \u001b[0;32mwhile\u001b[0m \u001b[0;32mTrue\u001b[0m\u001b[0;34m:\u001b[0m\u001b[0;34m\u001b[0m\u001b[0;34m\u001b[0m\u001b[0m\n\u001b[0;32m----> 7\u001b[0;31m     \u001b[0ms\u001b[0m\u001b[0;34m,\u001b[0m \u001b[0mwas\u001b[0m \u001b[0;34m=\u001b[0m \u001b[0mparse\u001b[0m\u001b[0;34m(\u001b[0m\u001b[0ms\u001b[0m\u001b[0;34m)\u001b[0m\u001b[0;34m\u001b[0m\u001b[0;34m\u001b[0m\u001b[0m\n\u001b[0m\u001b[1;32m      8\u001b[0m     \u001b[0mprint\u001b[0m\u001b[0;34m(\u001b[0m\u001b[0;34m'.'\u001b[0m\u001b[0;34m,\u001b[0m \u001b[0mend\u001b[0m\u001b[0;34m=\u001b[0m\u001b[0;34m''\u001b[0m\u001b[0;34m)\u001b[0m\u001b[0;34m\u001b[0m\u001b[0;34m\u001b[0m\u001b[0m\n\u001b[1;32m      9\u001b[0m     \u001b[0;32mif\u001b[0m \u001b[0;32mnot\u001b[0m \u001b[0mwas\u001b[0m\u001b[0;34m:\u001b[0m\u001b[0;34m\u001b[0m\u001b[0;34m\u001b[0m\u001b[0m\n",
      "\u001b[0;32m/var/folders/x4/t1fx1l8s0f97y033bl0gpgcr0000gn/T/ipykernel_4234/1162686225.py\u001b[0m in \u001b[0;36mparse\u001b[0;34m(s)\u001b[0m\n\u001b[1;32m     30\u001b[0m         \u001b[0;32melse\u001b[0m\u001b[0;34m:\u001b[0m\u001b[0;34m\u001b[0m\u001b[0;34m\u001b[0m\u001b[0m\n\u001b[1;32m     31\u001b[0m             \u001b[0msn\u001b[0m \u001b[0;34m+=\u001b[0m \u001b[0ms\u001b[0m\u001b[0;34m[\u001b[0m\u001b[0mi\u001b[0m\u001b[0;34m]\u001b[0m\u001b[0;34m\u001b[0m\u001b[0;34m\u001b[0m\u001b[0m\n\u001b[0;32m---> 32\u001b[0;31m             \u001b[0mi\u001b[0m \u001b[0;34m+=\u001b[0m \u001b[0;36m1\u001b[0m\u001b[0;34m\u001b[0m\u001b[0;34m\u001b[0m\u001b[0m\n\u001b[0m\u001b[1;32m     33\u001b[0m \u001b[0;34m\u001b[0m\u001b[0m\n\u001b[1;32m     34\u001b[0m     \u001b[0;32mreturn\u001b[0m \u001b[0msn\u001b[0m\u001b[0;34m,\u001b[0m \u001b[0mwas_at_least_one\u001b[0m\u001b[0;34m\u001b[0m\u001b[0;34m\u001b[0m\u001b[0m\n",
      "\u001b[0;31mKeyboardInterrupt\u001b[0m: "
     ]
    }
   ],
   "source": [
    "s = load(9).strip()\n",
    "\n",
    "# s = \"(3x3)XYZ\"\n",
    "# s = \"(27x12)(20x12)(13x14)(7x10)(1x12)A\"\n",
    "# s = \"(25x3)(3x3)ABC(2x3)XY(5x2)PQRSTX(18x9)(3x2)TWO(5x7)SEVEN\"\n",
    "\n",
    "while True:\n",
    "    s, was = parse(s)\n",
    "    print('.', end='')\n",
    "    if not was:\n",
    "        break\n",
    "\n",
    "len(s)"
   ]
  },
  {
   "cell_type": "code",
   "execution_count": 77,
   "id": "e90732ab-747e-43c9-aee8-abf2a0a44bf5",
   "metadata": {},
   "outputs": [
    {
     "data": {
      "text/plain": [
       "11658395076"
      ]
     },
     "execution_count": 77,
     "metadata": {},
     "output_type": "execute_result"
    }
   ],
   "source": [
    "len(s)"
   ]
  },
  {
   "cell_type": "code",
   "execution_count": null,
   "id": "9ba8d71c-7cd0-4df2-a806-63bdc1b613d2",
   "metadata": {},
   "outputs": [],
   "source": []
  }
 ],
 "metadata": {
  "kernelspec": {
   "display_name": "Python (DE)",
   "language": "python",
   "name": "python3"
  },
  "language_info": {
   "codemirror_mode": {
    "name": "ipython",
    "version": 3
   },
   "file_extension": ".py",
   "mimetype": "text/x-python",
   "name": "python",
   "nbconvert_exporter": "python",
   "pygments_lexer": "ipython3",
   "version": "3.7.12"
  }
 },
 "nbformat": 4,
 "nbformat_minor": 5
}
