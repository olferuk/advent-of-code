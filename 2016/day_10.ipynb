{
 "cells": [
  {
   "cell_type": "code",
   "execution_count": 2,
   "id": "8c31f845-21cc-4eef-93ec-13430684e6df",
   "metadata": {},
   "outputs": [],
   "source": [
    "%load_ext lab_black\n",
    "\n",
    "from puzzles import load_lines"
   ]
  },
  {
   "cell_type": "code",
   "execution_count": 22,
   "id": "c76cd6dd-2bbc-4cbd-acc8-178b7b247b90",
   "metadata": {},
   "outputs": [],
   "source": [
    "from collections import namedtuple, defaultdict\n",
    "from enum import Enum\n",
    "\n",
    "\n",
    "Rule = namedtuple(\"Rule\", (\"slot\", \"number\"))\n",
    "\n",
    "\n",
    "class Slot(Enum):\n",
    "    BOT = \"bot\"\n",
    "    OUTPUT = \"output\"\n",
    "\n",
    "\n",
    "class Bot:\n",
    "    def __init__(self, number: int, low: Rule, high: Rule):\n",
    "        self.number = number\n",
    "        self.low: Rule = low\n",
    "        self.high: Rule = high\n",
    "        self.chips = []\n",
    "\n",
    "    @property\n",
    "    def is_ready(self):\n",
    "        return len(self.chips) > 1\n",
    "\n",
    "    def __repr__(self):\n",
    "        return (\n",
    "            f\"Bot #{self.number}\"\n",
    "            f\"(chips=[{', '.join([str(x) for x in self.chips])}], \"\n",
    "            f\"low_to: {self.low.slot.value[:1]}#{self.low.number}, \"\n",
    "            f\"high_to: {self.high.slot.value[:1]}#{self.high.number})\"\n",
    "        )"
   ]
  },
  {
   "cell_type": "code",
   "execution_count": 26,
   "id": "39a5a4b3-b769-444d-a60b-750ea81babbd",
   "metadata": {},
   "outputs": [],
   "source": [
    "def create_data(lines):\n",
    "    bots = {}\n",
    "    for line in sorted(lines):\n",
    "        line = line.split()\n",
    "        if line[0] == \"bot\":\n",
    "            low = Rule(slot=Slot(line[5]), number=int(line[6]))\n",
    "            high = Rule(slot=Slot(line[-2]), number=int(line[-1]))\n",
    "            n = int(line[1])\n",
    "            bots[n] = Bot(number=n, low=low, high=high)\n",
    "        elif line[0] == \"value\":\n",
    "            bots[int(line[-1])].chips.append(int(line[1]))\n",
    "    return bots"
   ]
  },
  {
   "cell_type": "code",
   "execution_count": 47,
   "id": "f502a684-7d03-4266-bd85-2e65c2d578ac",
   "metadata": {},
   "outputs": [],
   "source": [
    "def get_firing_bots(bots):\n",
    "    results = []\n",
    "    for v in bots.values():\n",
    "        if v.is_ready:\n",
    "            results.append(v)\n",
    "    return results"
   ]
  },
  {
   "cell_type": "raw",
   "id": "93333143-679b-4aaf-9567-c67fc2495e8b",
   "metadata": {},
   "source": [
    "sorted(load_lines(10))"
   ]
  },
  {
   "cell_type": "code",
   "execution_count": 54,
   "id": "9a2ddd1a-877b-4324-a1c3-cf88bffdbeb5",
   "metadata": {},
   "outputs": [],
   "source": [
    "test_data = \"\"\"value 5 goes to bot 2\n",
    "bot 2 gives low to bot 1 and high to bot 0\n",
    "value 3 goes to bot 1\n",
    "bot 1 gives low to output 1 and high to bot 0\n",
    "bot 0 gives low to output 2 and high to output 0\n",
    "value 2 goes to bot 2\"\"\".split(\n",
    "    \"\\n\"\n",
    ")"
   ]
  },
  {
   "cell_type": "code",
   "execution_count": 62,
   "id": "263c60e4-3aba-4c10-94f6-b018d6c9e538",
   "metadata": {},
   "outputs": [],
   "source": [
    "a = [1, 2, 3, 4]\n",
    "mi, ma = min(a), max(a)"
   ]
  },
  {
   "cell_type": "code",
   "execution_count": 63,
   "id": "8c9d9f19-c2d4-4dee-8a59-5438a1e2c30b",
   "metadata": {},
   "outputs": [
    {
     "data": {
      "text/plain": [
       "(1, 4)"
      ]
     },
     "execution_count": 63,
     "metadata": {},
     "output_type": "execute_result"
    }
   ],
   "source": [
    "mi, ma"
   ]
  },
  {
   "cell_type": "code",
   "execution_count": 64,
   "id": "0390c005-03bf-472a-8152-13ec4f959cda",
   "metadata": {},
   "outputs": [
    {
     "data": {
      "text/plain": [
       "1"
      ]
     },
     "execution_count": 64,
     "metadata": {},
     "output_type": "execute_result"
    }
   ],
   "source": [
    "a.pop(a.index(1))"
   ]
  },
  {
   "cell_type": "code",
   "execution_count": 65,
   "id": "2d47890f-7109-4137-a228-a88fc400f9af",
   "metadata": {},
   "outputs": [
    {
     "data": {
      "text/plain": [
       "[2, 3, 4]"
      ]
     },
     "execution_count": 65,
     "metadata": {},
     "output_type": "execute_result"
    }
   ],
   "source": [
    "a"
   ]
  },
  {
   "cell_type": "code",
   "execution_count": null,
   "id": "f91780fe-dcf6-4299-bf97-dbf4f6397f74",
   "metadata": {},
   "outputs": [],
   "source": []
  },
  {
   "cell_type": "code",
   "execution_count": 75,
   "id": "fda63982-e94d-416b-aa12-c84597348fb2",
   "metadata": {},
   "outputs": [],
   "source": [
    "import pprint"
   ]
  },
  {
   "cell_type": "code",
   "execution_count": 84,
   "id": "bbe22680-fd94-41ad-bcfd-2362aafe77b1",
   "metadata": {},
   "outputs": [],
   "source": [
    "bots = create_data(load_lines(10))  # test_data\n",
    "outputs = defaultdict(list)\n",
    "\n",
    "# pprint.pprint(bots, width=1)\n",
    "\n",
    "while True:\n",
    "\n",
    "    firing = get_firing_bots(bots)\n",
    "    if len(firing) == 0:\n",
    "        break\n",
    "\n",
    "    for bot in firing:\n",
    "        # print(f\"activating bot #{bot.number}\")\n",
    "\n",
    "        mi, ma = min(bot.chips), max(bot.chips)\n",
    "        # print(mi, ma)\n",
    "\n",
    "        bot.chips = []\n",
    "\n",
    "        if bot.low.slot == Slot.OUTPUT:\n",
    "            outputs[bot.low.number].append(mi)\n",
    "        elif bot.low.slot == Slot.BOT:\n",
    "            bots[bot.low.number].chips.append(mi)\n",
    "\n",
    "        if bot.high.slot == Slot.OUTPUT:\n",
    "            outputs[bot.high.number].append(ma)\n",
    "        elif bot.high.slot == Slot.BOT:\n",
    "            bots[bot.high.number].chips.append(ma)\n",
    "\n",
    "        # pprint.pprint(bots, width=1)"
   ]
  },
  {
   "cell_type": "code",
   "execution_count": 86,
   "id": "19804d2c-f87c-4601-aba9-7918d4f62078",
   "metadata": {},
   "outputs": [
    {
     "data": {
      "text/plain": [
       "([2], [43], [47])"
      ]
     },
     "execution_count": 86,
     "metadata": {},
     "output_type": "execute_result"
    }
   ],
   "source": [
    "outputs[0], outputs[1], outputs[2]"
   ]
  },
  {
   "cell_type": "code",
   "execution_count": 87,
   "id": "43e9a385-03e7-40e9-8a9f-f2e34685eee2",
   "metadata": {},
   "outputs": [
    {
     "data": {
      "text/plain": [
       "4042"
      ]
     },
     "execution_count": 87,
     "metadata": {},
     "output_type": "execute_result"
    }
   ],
   "source": [
    "43 * 47 * 2"
   ]
  },
  {
   "cell_type": "code",
   "execution_count": null,
   "id": "b2100e9c-76b1-4d88-bb0a-3de49f9062bb",
   "metadata": {},
   "outputs": [],
   "source": []
  }
 ],
 "metadata": {
  "kernelspec": {
   "display_name": "Python (DE)",
   "language": "python",
   "name": "python3"
  },
  "language_info": {
   "codemirror_mode": {
    "name": "ipython",
    "version": 3
   },
   "file_extension": ".py",
   "mimetype": "text/x-python",
   "name": "python",
   "nbconvert_exporter": "python",
   "pygments_lexer": "ipython3",
   "version": "3.7.12"
  }
 },
 "nbformat": 4,
 "nbformat_minor": 5
}
