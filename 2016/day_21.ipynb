{
 "cells": [
  {
   "cell_type": "code",
   "execution_count": 73,
   "id": "1fffc696-fc1a-4118-a942-db1b97673de3",
   "metadata": {},
   "outputs": [
    {
     "name": "stdout",
     "output_type": "stream",
     "text": [
      "The lab_black extension is already loaded. To reload it, use:\n",
      "  %reload_ext lab_black\n",
      "The autoreload extension is already loaded. To reload it, use:\n",
      "  %reload_ext autoreload\n"
     ]
    }
   ],
   "source": [
    "%load_ext lab_black\n",
    "%load_ext autoreload\n",
    "%autoreload 2"
   ]
  },
  {
   "cell_type": "code",
   "execution_count": 74,
   "id": "6dd868a7-b441-442e-9b2f-f34d0e3281c1",
   "metadata": {},
   "outputs": [],
   "source": [
    "from puzzles import load, load_lines"
   ]
  },
  {
   "cell_type": "code",
   "execution_count": 75,
   "id": "dc0cffad-b9e0-4adb-ae4f-e57ffeba5b37",
   "metadata": {},
   "outputs": [],
   "source": [
    "def swp(s, i, j):\n",
    "    i, j = min(i, j), max(i, j)\n",
    "    return \"\".join([s[:i], s[j], s[i + 1 : j], s[i], s[j + 1 :]])\n",
    "\n",
    "\n",
    "def swl(s, c1, c2):\n",
    "    return swp(s, s.index(c1), s.index(c2))\n",
    "\n",
    "\n",
    "def rot(s, n, to_right):\n",
    "    n %= len(s)\n",
    "    if to_right:\n",
    "        return s[-n:] + s[:-n]\n",
    "    return s[n:] + s[:n]\n",
    "\n",
    "\n",
    "def rotb(s, c):\n",
    "    x = s.index(c)\n",
    "    return rot(s, x + 2 if x >= 4 else x + 1, to_right=True)\n",
    "\n",
    "\n",
    "def rev(s, i, j):\n",
    "    i, j = min(i, j), max(i, j)\n",
    "    return \"\".join([s[:i], s[i : j + 1][::-1], s[j + 1 :]])\n",
    "\n",
    "\n",
    "def move(s, i, j):\n",
    "    c = s[i]\n",
    "    ss = \"\".join([s[:i], s[i + 1 :]])\n",
    "    return \"\".join([ss[:j], c, ss[j:]])"
   ]
  },
  {
   "cell_type": "code",
   "execution_count": 76,
   "id": "cc2e7c9c-71d5-47c8-b1b0-7ad1f77fad66",
   "metadata": {},
   "outputs": [],
   "source": [
    "from tqdm import tqdm"
   ]
  },
  {
   "cell_type": "code",
   "execution_count": 77,
   "id": "a6a47850-cb43-4af8-abb5-9ed1e6d28533",
   "metadata": {},
   "outputs": [
    {
     "name": "stderr",
     "output_type": "stream",
     "text": [
      "100%|██████████████████████████████████████| 100/100 [00:00<00:00, 418175.87it/s]\n"
     ]
    },
    {
     "data": {
      "text/plain": [
       "'baecdfgh'"
      ]
     },
     "execution_count": 77,
     "metadata": {},
     "output_type": "execute_result"
    }
   ],
   "source": [
    "lines = load_lines(21)\n",
    "s = \"abcdefgh\"\n",
    "\n",
    "for cmd in tqdm(lines):\n",
    "    words = cmd.split()\n",
    "\n",
    "    if cmd.startswith(\"swap position\"):\n",
    "        s = swp(s, int(words[2]), int(words[-1]))\n",
    "    elif cmd.startswith(\"swap letter\"):\n",
    "        s = swl(s, words[2], words[-1])\n",
    "    elif cmd.startswith(\"rotate based\"):\n",
    "        s = rotb(s, words[-1])\n",
    "    elif cmd.startswith(\"rotate\"):\n",
    "        s = rot(s, int(words[2]), to_right=words[1] == \"right\")\n",
    "    elif cmd.startswith(\"reverse\"):\n",
    "        s = rev(s, int(words[2]), int(words[-1]))\n",
    "    elif cmd.startswith(\"move\"):\n",
    "        s = move(s, int(words[2]), int(words[-1]))\n",
    "    else:\n",
    "        raise\n",
    "s"
   ]
  },
  {
   "cell_type": "markdown",
   "id": "213e225b-025f-4cc3-a54b-ced509dde30a",
   "metadata": {},
   "source": [
    "---"
   ]
  },
  {
   "cell_type": "code",
   "execution_count": 78,
   "id": "8124ad2f-e496-4eea-bf5e-765ebc1df7c5",
   "metadata": {},
   "outputs": [],
   "source": [
    "# def rotb(s, c):\n",
    "#     x = s.index(c)\n",
    "#     return rot(s, x + 1 if x >= 4 else x + 2, to_right=False)\n",
    "\n",
    "\n",
    "def unrotb(s, c):\n",
    "    for i in range(len(s)):\n",
    "        rotated = rot(s, i, to_right=False)\n",
    "        if rotb(rotated, c) == s:\n",
    "            return rotated"
   ]
  },
  {
   "cell_type": "code",
   "execution_count": 79,
   "id": "a04d1c96-7351-4a04-ac97-d50260d27ae7",
   "metadata": {},
   "outputs": [
    {
     "name": "stderr",
     "output_type": "stream",
     "text": [
      "100%|██████████████████████████████████████| 100/100 [00:00<00:00, 434642.90it/s]\n"
     ]
    },
    {
     "data": {
      "text/plain": [
       "'cegdahbf'"
      ]
     },
     "execution_count": 79,
     "metadata": {},
     "output_type": "execute_result"
    }
   ],
   "source": [
    "lines = load_lines(21)\n",
    "s = \"fbgdceah\"\n",
    "\n",
    "for cmd in tqdm(lines[::-1]):\n",
    "    words = cmd.split()\n",
    "\n",
    "    if cmd.startswith(\"swap position\"):\n",
    "        s = swp(s, int(words[2]), int(words[-1]))\n",
    "    elif cmd.startswith(\"swap letter\"):\n",
    "        s = swl(s, words[2], words[-1])\n",
    "    elif cmd.startswith(\"reverse\"):\n",
    "        s = rev(s, int(words[2]), int(words[-1]))\n",
    "    elif cmd.startswith(\"rotate based\"):\n",
    "        s = unrotb(s, words[-1])\n",
    "    elif cmd.startswith(\"rotate\"):\n",
    "        s = rot(s, int(words[2]), to_right=words[1] != \"right\")\n",
    "    elif cmd.startswith(\"move\"):\n",
    "        s = move(s, int(words[-1]), int(words[2]))\n",
    "    else:\n",
    "        raise\n",
    "s"
   ]
  },
  {
   "cell_type": "markdown",
   "id": "370184dc-5ec0-4c11-b590-9841e97a4d67",
   "metadata": {},
   "source": [
    "NOT THESE:\n",
    "- efbchagd\n",
    "- hfdacgeb"
   ]
  },
  {
   "cell_type": "markdown",
   "id": "c42d45d0-63c0-4fad-ab98-b8196e99d094",
   "metadata": {},
   "source": [
    "---"
   ]
  },
  {
   "cell_type": "code",
   "execution_count": 55,
   "id": "945c970c-657e-419e-8ede-8f49a020a842",
   "metadata": {},
   "outputs": [
    {
     "name": "stdout",
     "output_type": "stream",
     "text": [
      "swap position 4 with position 0          | ebcda ebcda ✅\n",
      "swap letter d with letter b              | edcba edcba ✅\n",
      "reverse positions 0 through 4            | abcde abcde ✅\n",
      "rotate left 1 step                       | bcdea bcdea ✅\n",
      "move position 1 to position 4            | bdeac bdeac ✅\n",
      "move position 3 to position 0            | abdec abdec ✅\n",
      "rotate based on position of letter b     | ecabd ecabd ✅\n",
      "rotate based on position of letter d     | decab decab ✅\n"
     ]
    }
   ],
   "source": [
    "s = \"abcde\"\n",
    "\n",
    "lines = [\n",
    "    \"swap position 4 with position 0\",\n",
    "    \"swap letter d with letter b\",\n",
    "    \"reverse positions 0 through 4\",\n",
    "    \"rotate left 1 step\",\n",
    "    \"move position 1 to position 4\",\n",
    "    \"move position 3 to position 0\",\n",
    "    \"rotate based on position of letter b\",\n",
    "    \"rotate based on position of letter d\",\n",
    "]\n",
    "answers = [\n",
    "    \"ebcda\",\n",
    "    \"edcba\",\n",
    "    \"abcde\",\n",
    "    \"bcdea\",\n",
    "    \"bdeac\",\n",
    "    \"abdec\",\n",
    "    \"ecabd\",\n",
    "    \"decab\",\n",
    "]\n",
    "\n",
    "for cmd, ans in zip(lines, answers):\n",
    "    print(cmd.ljust(40), \"| \", end=\"\")\n",
    "    words = cmd.split()\n",
    "\n",
    "    if cmd.startswith(\"swap position\"):\n",
    "        s = swp(s, int(words[2]), int(words[-1]))\n",
    "    elif cmd.startswith(\"swap letter\"):\n",
    "        s = swl(s, words[2], words[-1])\n",
    "    elif cmd.startswith(\"rotate based\"):\n",
    "        s = rotb(s, words[-1])\n",
    "    elif cmd.startswith(\"rotate\"):\n",
    "        s = rot(s, int(words[2]), to_right=words[1] == \"right\")\n",
    "    elif cmd.startswith(\"reverse\"):\n",
    "        s = rev(s, int(words[2]), int(words[-1]))\n",
    "    elif cmd.startswith(\"move\"):\n",
    "        s = move(s, int(words[2]), int(words[-1]))\n",
    "\n",
    "    print(s, ans, \"✅\" if s == ans else \"❌\")"
   ]
  },
  {
   "cell_type": "markdown",
   "id": "56b866d7-e6bf-4f81-9fe2-571352553022",
   "metadata": {},
   "source": [
    "- `swap position 4 with position 0` swaps the first and last letters, producing the input for the next step, ebcda.\n",
    "- `swap letter d with letter b` swaps the positions of d and b: edcba.\n",
    "- `reverse positions 0 through 4` causes the entire string to be reversed, producing abcde.\n",
    "- `rotate left 1 step` shifts all letters left one position, causing the first letter to wrap to the end of the string: bcdea.\n",
    "- `move position 1 to position 4` removes the letter at position 1 (c), then inserts it at position 4 (the end of the string): bdeac.\n",
    "- `move position 3 to position 0` removes the letter at position 3 (a), then inserts it at position 0 (the front of the string): abdec.\n",
    "- `rotate based on position of letter b` finds the index of letter b (1), then rotates the string right once plus a number of times equal to that index (2): ecabd.\n",
    "- `rotate based on position of letter d` finds the index of letter d (4), then rotates the string right once, plus a number of times equal to that index, plus an additional time because the index was at least 4, for a total of 6 right rotations: decab.\n"
   ]
  }
 ],
 "metadata": {
  "kernelspec": {
   "display_name": "Python 3 (ipykernel)",
   "language": "python",
   "name": "python3"
  },
  "language_info": {
   "codemirror_mode": {
    "name": "ipython",
    "version": 3
   },
   "file_extension": ".py",
   "mimetype": "text/x-python",
   "name": "python",
   "nbconvert_exporter": "python",
   "pygments_lexer": "ipython3",
   "version": "3.10.9"
  }
 },
 "nbformat": 4,
 "nbformat_minor": 5
}
