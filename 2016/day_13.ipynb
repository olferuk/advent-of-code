{
 "cells": [
  {
   "cell_type": "code",
   "execution_count": 1,
   "id": "829f3533-5afd-4735-9e5c-e07a0c564903",
   "metadata": {},
   "outputs": [],
   "source": [
    "%load_ext lab_black\n",
    "\n",
    "from puzzles import load"
   ]
  },
  {
   "cell_type": "code",
   "execution_count": 2,
   "id": "aefe5af2-7555-4909-86ee-51a606b31e29",
   "metadata": {},
   "outputs": [],
   "source": [
    "import numpy as np\n",
    "import matplotlib.pyplot as plt\n",
    "\n",
    "from collections import Counter"
   ]
  },
  {
   "cell_type": "code",
   "execution_count": 3,
   "id": "92dbfe8e-033a-4372-a4cf-bb46e3516533",
   "metadata": {},
   "outputs": [],
   "source": [
    "from tqdm import tqdm"
   ]
  },
  {
   "cell_type": "code",
   "execution_count": 19,
   "id": "90a96121-1847-49bb-81ca-c943a8f668eb",
   "metadata": {},
   "outputs": [
    {
     "data": {
      "text/plain": [
       "1358"
      ]
     },
     "execution_count": 19,
     "metadata": {},
     "output_type": "execute_result"
    }
   ],
   "source": [
    "int(load(13).strip())"
   ]
  },
  {
   "cell_type": "markdown",
   "id": "1140d531-047b-426e-90f4-f80a2dd343fb",
   "metadata": {},
   "source": [
    "---"
   ]
  },
  {
   "cell_type": "code",
   "execution_count": 39,
   "id": "44f5c4e2-5b29-40ed-a526-445f6c26cca9",
   "metadata": {},
   "outputs": [],
   "source": [
    "def generate_labirynth(side: int = 20, shift: int = 0, favorite_number: int = 1358):\n",
    "    A = np.zeros([side, side], dtype=np.uint8)\n",
    "    for x1 in tqdm(range(side)):\n",
    "        for y1 in range(side):\n",
    "            x = x1 - shift\n",
    "            y = y1 - shift\n",
    "            z = x * x + 3 * x + 2 * x * y + y + y * y + favorite_number\n",
    "            if Counter(f\"{z:b}\")[\"1\"] % 2 == 1:\n",
    "                A[y, x] = 1\n",
    "    return A"
   ]
  },
  {
   "cell_type": "code",
   "execution_count": 47,
   "id": "2ca1d601-c15f-4940-9f6a-8b319c3e16d0",
   "metadata": {},
   "outputs": [],
   "source": [
    "import numpy as np\n",
    "import heapq\n",
    "\n",
    "\n",
    "def heuristic(a, b):\n",
    "    return abs(a[0] - b[0]) + abs(a[1] - b[1])\n",
    "\n",
    "\n",
    "def astar(grid, start, goal):\n",
    "    movements = [(1, 0), (-1, 0), (0, 1), (0, -1)]\n",
    "    rows, cols = grid.shape\n",
    "    open_set = []\n",
    "    heapq.heappush(open_set, (0, start))\n",
    "    came_from = {}\n",
    "    g_score = {pos: float(\"inf\") for pos in np.ndindex(grid.shape)}\n",
    "    g_score[start] = 0\n",
    "\n",
    "    while open_set:\n",
    "        _, current = heapq.heappop(open_set)\n",
    "\n",
    "        if current == goal:\n",
    "            path = []\n",
    "            while current in came_from:\n",
    "                path.append(current)\n",
    "                current = came_from[current]\n",
    "            path.reverse()\n",
    "            return path\n",
    "\n",
    "        for dr, dc in movements:\n",
    "            neighbor = current[0] + dr, current[1] + dc\n",
    "\n",
    "            if (\n",
    "                0 <= neighbor[0] < rows\n",
    "                and 0 <= neighbor[1] < cols\n",
    "                and grid[neighbor] == 0\n",
    "            ):\n",
    "                tentative_g_score = g_score[current] + 1\n",
    "\n",
    "                if tentative_g_score < g_score[neighbor]:\n",
    "                    came_from[neighbor] = current\n",
    "                    g_score[neighbor] = tentative_g_score\n",
    "                    f_score = tentative_g_score + heuristic(neighbor, goal)\n",
    "                    heapq.heappush(open_set, (f_score, neighbor))\n",
    "\n",
    "    return None"
   ]
  },
  {
   "cell_type": "code",
   "execution_count": 48,
   "id": "7b58d1db-2856-4d69-9319-f4da585cae01",
   "metadata": {},
   "outputs": [
    {
     "name": "stderr",
     "output_type": "stream",
     "text": [
      "100%|████████████████████████████████████████| 400/400 [00:00<00:00, 2263.34it/s]\n"
     ]
    },
    {
     "name": "stdout",
     "output_type": "stream",
     "text": [
      "Shortest Path: [(2, 1), (2, 2), (2, 3), (3, 3), (3, 4), (3, 5), (3, 6), (3, 7), (3, 8), (3, 9), (3, 10), (3, 11), (3, 12), (3, 13), (4, 13), (5, 13), (6, 13), (6, 14), (7, 14), (8, 14), (9, 14), (9, 13), (9, 12), (9, 11), (10, 11), (11, 11), (12, 11), (13, 11), (13, 10), (14, 10), (15, 10), (16, 10), (16, 11), (16, 12), (16, 13), (17, 13), (18, 13), (19, 13), (19, 14), (19, 15), (19, 16), (18, 16), (18, 17), (18, 18), (19, 18), (19, 19), (20, 19), (21, 19), (22, 19), (23, 19), (24, 19), (24, 20), (25, 20), (25, 21), (25, 22), (24, 22), (24, 23), (24, 24), (24, 25), (24, 26), (25, 26), (26, 26), (27, 26), (27, 27), (27, 28), (27, 29), (27, 30), (28, 30), (29, 30), (30, 30), (31, 30), (32, 30), (32, 31), (32, 32), (32, 33), (33, 33), (34, 33), (35, 33), (35, 32), (36, 32), (37, 32), (37, 33), (37, 34), (38, 34), (38, 35), (39, 35), (40, 35), (41, 35), (42, 35), (42, 34), (42, 33), (42, 32), (41, 32), (40, 32), (39, 32), (39, 31)]\n",
      "Shortest Distance: 96\n"
     ]
    }
   ],
   "source": [
    "grid = generate_labirynth(side=400, shift=100, favorite_number=1358)\n",
    "\n",
    "# Define start and goal positions\n",
    "start = (1, 1)\n",
    "goal = (39, 31)\n",
    "\n",
    "# Find the shortest path using A*\n",
    "path = astar(grid, start, goal)\n",
    "if path:\n",
    "    print(\"Shortest Path:\", path)\n",
    "    print(\"Shortest Distance:\", len(path))\n",
    "else:\n",
    "    print(\"No path found\")"
   ]
  },
  {
   "cell_type": "code",
   "execution_count": 45,
   "id": "51ca6e51-0d91-4cf9-8d83-23fcacb8dd03",
   "metadata": {},
   "outputs": [
    {
     "data": {
      "text/plain": [
       "<matplotlib.image.AxesImage at 0x2cdc7a110>"
      ]
     },
     "execution_count": 45,
     "metadata": {},
     "output_type": "execute_result"
    },
    {
     "data": {
      "image/png": "[encoded data removed]",
      "text/plain": [
       "<Figure size 640x480 with 1 Axes>"
      ]
     },
     "metadata": {},
     "output_type": "display_data"
    }
   ],
   "source": [
    "show = grid.copy() * 10\n",
    "show[1, 1] = 3\n",
    "show[4, 7] = 3\n",
    "plt.imshow(show)"
   ]
  },
  {
   "cell_type": "markdown",
   "id": "d2a286ac-0a02-43eb-83e7-73c28766d548",
   "metadata": {},
   "source": [
    "---"
   ]
  },
  {
   "cell_type": "code",
   "execution_count": 50,
   "id": "74755226-8e65-43d0-bb32-a99219745083",
   "metadata": {},
   "outputs": [],
   "source": [
    "import numpy as np\n",
    "import heapq\n",
    "\n",
    "\n",
    "def heuristic(a, b):\n",
    "    return abs(a[0] - b[0]) + abs(a[1] - b[1])\n",
    "\n",
    "\n",
    "def bfs_max_depth(grid, start, max_depth):\n",
    "    movements = [(1, 0), (-1, 0), (0, 1), (0, -1)]\n",
    "    rows, cols = grid.shape\n",
    "    visited = set()\n",
    "    queue = deque([(0, start)])\n",
    "    visited.add(start)\n",
    "\n",
    "    while queue:\n",
    "        depth, current = queue.popleft()\n",
    "\n",
    "        if depth >= max_depth:\n",
    "            continue\n",
    "\n",
    "        for dr, dc in movements:\n",
    "            neighbor = current[0] + dr, current[1] + dc\n",
    "\n",
    "            if (\n",
    "                0 <= neighbor[0] < rows\n",
    "                and 0 <= neighbor[1] < cols\n",
    "                and grid[neighbor] == 0\n",
    "                and neighbor not in visited\n",
    "            ):\n",
    "                visited.add(neighbor)\n",
    "                queue.append((depth + 1, neighbor))\n",
    "\n",
    "    return visited"
   ]
  },
  {
   "cell_type": "code",
   "execution_count": 51,
   "id": "b86853fe-e028-49a0-91a6-a200698b41c1",
   "metadata": {},
   "outputs": [
    {
     "name": "stderr",
     "output_type": "stream",
     "text": [
      "100%|████████████████████████████████████████| 400/400 [00:00<00:00, 2058.67it/s]"
     ]
    },
    {
     "name": "stdout",
     "output_type": "stream",
     "text": [
      "Number of reachable locations within 50 steps: 141\n"
     ]
    },
    {
     "name": "stderr",
     "output_type": "stream",
     "text": [
      "\n"
     ]
    }
   ],
   "source": [
    "grid = generate_labirynth(side=400, shift=100, favorite_number=1358)\n",
    "\n",
    "# Define start position\n",
    "start = (1, 1)\n",
    "\n",
    "# Determine reachable locations within 50 steps\n",
    "max_depth = 50\n",
    "reachable_locations = bfs_max_depth(grid, start, max_depth)\n",
    "\n",
    "# Include the starting position\n",
    "reachable_locations.add(start)\n",
    "\n",
    "print(\n",
    "    \"Number of reachable locations within {} steps: {}\".format(\n",
    "        max_depth, len(reachable_locations)\n",
    "    )\n",
    ")"
   ]
  },
  {
   "cell_type": "code",
   "execution_count": null,
   "id": "83a9f0c1-db8d-4a11-bd69-c5f3d485e4f0",
   "metadata": {},
   "outputs": [],
   "source": []
  }
 ],
 "metadata": {
  "kernelspec": {
   "display_name": "Python 3 (ipykernel)",
   "language": "python",
   "name": "python3"
  },
  "language_info": {
   "codemirror_mode": {
    "name": "ipython",
    "version": 3
   },
   "file_extension": ".py",
   "mimetype": "text/x-python",
   "name": "python",
   "nbconvert_exporter": "python",
   "pygments_lexer": "ipython3",
   "version": "3.10.9"
  }
 },
 "nbformat": 4,
 "nbformat_minor": 5
}
