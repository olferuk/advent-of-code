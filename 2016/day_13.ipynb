{
 "cells": [
  {
   "cell_type": "code",
   "execution_count": 36,
   "id": "829f3533-5afd-4735-9e5c-e07a0c564903",
   "metadata": {},
   "outputs": [
    {
     "name": "stdout",
     "output_type": "stream",
     "text": [
      "The lab_black extension is already loaded. To reload it, use:\n",
      "  %reload_ext lab_black\n"
     ]
    }
   ],
   "source": [
    "%load_ext lab_black\n",
    "\n",
    "from puzzles import load"
   ]
  },
  {
   "cell_type": "code",
   "execution_count": 74,
   "id": "aefe5af2-7555-4909-86ee-51a606b31e29",
   "metadata": {},
   "outputs": [],
   "source": [
    "import numpy as np\n",
    "import matplotlib.pyplot as plt\n",
    "\n",
    "from collections import Counter\n",
    "\n",
    "from pathfinding.core.grid import Grid\n",
    "from pathfinding.finder.a_star import AStarFinder"
   ]
  },
  {
   "cell_type": "code",
   "execution_count": 82,
   "id": "44f5c4e2-5b29-40ed-a526-445f6c26cca9",
   "metadata": {},
   "outputs": [],
   "source": [
    "def generate_labirynth(side: int = 10, shift: int = 3, favorite_number: int = 1358):\n",
    "    A = np.ones([side, side], dtype=np.uint8)\n",
    "    for x1 in range(side):\n",
    "        for y1 in range(side):\n",
    "            x = x1 - shift\n",
    "            y = y1 - shift\n",
    "            print(x, y)\n",
    "            z = x * x + 3 * x + 2 * x * y + y + y * y + favorite_number\n",
    "            if Counter(f\"{z:b}\")[\"1\"] % 2 == 1:\n",
    "                A[y, x] = 0\n",
    "    return A\n",
    "\n",
    "\n",
    "def find_path(matrix, start, end):\n",
    "    grid = Grid(matrix=matrix)\n",
    "    start = grid.node(*start)\n",
    "    end = grid.node(*end)\n",
    "    return AStarFinder().find_path(start, end, grid)"
   ]
  },
  {
   "cell_type": "code",
   "execution_count": 83,
   "id": "2dd9116a-ed43-4e24-95b8-03f5f9010276",
   "metadata": {},
   "outputs": [
    {
     "name": "stdout",
     "output_type": "stream",
     "text": [
      "-3 -3\n",
      "-3 -2\n",
      "-3 -1\n",
      "-3 0\n",
      "-3 1\n",
      "-3 2\n",
      "-3 3\n",
      "-3 4\n",
      "-3 5\n",
      "-3 6\n",
      "-2 -3\n",
      "-2 -2\n",
      "-2 -1\n",
      "-2 0\n",
      "-2 1\n",
      "-2 2\n",
      "-2 3\n",
      "-2 4\n",
      "-2 5\n",
      "-2 6\n",
      "-1 -3\n",
      "-1 -2\n",
      "-1 -1\n",
      "-1 0\n",
      "-1 1\n",
      "-1 2\n",
      "-1 3\n",
      "-1 4\n",
      "-1 5\n",
      "-1 6\n",
      "0 -3\n",
      "0 -2\n",
      "0 -1\n",
      "0 0\n",
      "0 1\n",
      "0 2\n",
      "0 3\n",
      "0 4\n",
      "0 5\n",
      "0 6\n",
      "1 -3\n",
      "1 -2\n",
      "1 -1\n",
      "1 0\n",
      "1 1\n",
      "1 2\n",
      "1 3\n",
      "1 4\n",
      "1 5\n",
      "1 6\n",
      "2 -3\n",
      "2 -2\n",
      "2 -1\n",
      "2 0\n",
      "2 1\n",
      "2 2\n",
      "2 3\n",
      "2 4\n",
      "2 5\n",
      "2 6\n",
      "3 -3\n",
      "3 -2\n",
      "3 -1\n",
      "3 0\n",
      "3 1\n",
      "3 2\n",
      "3 3\n",
      "3 4\n",
      "3 5\n",
      "3 6\n",
      "4 -3\n",
      "4 -2\n",
      "4 -1\n",
      "4 0\n",
      "4 1\n",
      "4 2\n",
      "4 3\n",
      "4 4\n",
      "4 5\n",
      "4 6\n",
      "5 -3\n",
      "5 -2\n",
      "5 -1\n",
      "5 0\n",
      "5 1\n",
      "5 2\n",
      "5 3\n",
      "5 4\n",
      "5 5\n",
      "5 6\n",
      "6 -3\n",
      "6 -2\n",
      "6 -1\n",
      "6 0\n",
      "6 1\n",
      "6 2\n",
      "6 3\n",
      "6 4\n",
      "6 5\n",
      "6 6\n"
     ]
    }
   ],
   "source": [
    "favorite_number = int(load(13).strip())\n",
    "\n",
    "A = generate_labirynth(favorite_number=favorite_number)"
   ]
  },
  {
   "cell_type": "code",
   "execution_count": 81,
   "id": "1f811ac4-0290-4340-bd45-d72beef77684",
   "metadata": {},
   "outputs": [
    {
     "data": {
      "image/png": "[encoded data removed]",
      "text/plain": [
       "<Figure size 576x576 with 2 Axes>"
      ]
     },
     "metadata": {
      "needs_background": "light"
     },
     "output_type": "display_data"
    }
   ],
   "source": [
    "plt.figure(figsize=(8, 8))\n",
    "plt.imshow(A, cmap=\"Accent\")\n",
    "plt.colorbar()\n",
    "plt.tight_layout()"
   ]
  },
  {
   "cell_type": "code",
   "execution_count": 72,
   "id": "f44b631e-74a7-4ab7-8e05-68c150b0125d",
   "metadata": {},
   "outputs": [
    {
     "data": {
      "image/png": "[encoded data removed]",
      "text/plain": [
       "<Figure size 576x576 with 2 Axes>"
      ]
     },
     "metadata": {
      "needs_background": "light"
     },
     "output_type": "display_data"
    }
   ],
   "source": [
    "plt.figure(figsize=(8, 8))\n",
    "plt.imshow(A, cmap=\"Accent\")\n",
    "plt.colorbar()\n",
    "plt.tight_layout()"
   ]
  },
  {
   "cell_type": "code",
   "execution_count": 73,
   "id": "23ede82d-7352-4997-b15a-80f82db9a3ad",
   "metadata": {},
   "outputs": [
    {
     "name": "stdout",
     "output_type": "stream",
     "text": [
      "operations: 11 path length: 11\n",
      "+----------+\n",
      "| ##  # # #|\n",
      "| s##  ## #|\n",
      "|#xxx# ##  |\n",
      "| ##xxxxxxe|\n",
      "|##### ## #|\n",
      "| ## #  # #|\n",
      "|   ###    |\n",
      "|## ####  #|\n",
      "|    ######|\n",
      "|# #  ##  #|\n",
      "+----------+\n"
     ]
    }
   ],
   "source": [
    "grid = Grid(matrix=A)\n",
    "\n",
    "start = grid.node(1, 1)\n",
    "end = grid.node(9, 3)\n",
    "\n",
    "finder = AStarFinder()\n",
    "path, runs = finder.find_path(start, end, grid)\n",
    "\n",
    "print(\"operations:\", runs, \"path length:\", len(path))\n",
    "print(grid.grid_str(path=path, start=start, end=end))"
   ]
  },
  {
   "cell_type": "code",
   "execution_count": 41,
   "id": "799a3c98-d729-432d-9095-c496e703a971",
   "metadata": {},
   "outputs": [
    {
     "ename": "TypeError",
     "evalue": "object of type 'int' has no len()",
     "output_type": "error",
     "traceback": [
      "\u001b[0;31m---------------------------------------------------------------------------\u001b[0m",
      "\u001b[0;31mTypeError\u001b[0m                                 Traceback (most recent call last)",
      "\u001b[0;32m/var/folders/x4/t1fx1l8s0f97y033bl0gpgcr0000gn/T/ipykernel_13636/3507762599.py\u001b[0m in \u001b[0;36m<module>\u001b[0;34m\u001b[0m\n\u001b[1;32m      1\u001b[0m \u001b[0mruns\u001b[0m\u001b[0;34m,\u001b[0m \u001b[0mpath\u001b[0m \u001b[0;34m=\u001b[0m \u001b[0mfind_path\u001b[0m\u001b[0;34m(\u001b[0m\u001b[0;36m1\u001b[0m \u001b[0;34m-\u001b[0m \u001b[0mA\u001b[0m\u001b[0;34m,\u001b[0m \u001b[0mstart\u001b[0m\u001b[0;34m=\u001b[0m\u001b[0;34m(\u001b[0m\u001b[0;36m1\u001b[0m\u001b[0;34m,\u001b[0m\u001b[0;36m1\u001b[0m\u001b[0;34m)\u001b[0m\u001b[0;34m,\u001b[0m \u001b[0mend\u001b[0m\u001b[0;34m=\u001b[0m\u001b[0;34m(\u001b[0m\u001b[0;36m7\u001b[0m\u001b[0;34m,\u001b[0m\u001b[0;36m4\u001b[0m\u001b[0;34m)\u001b[0m\u001b[0;34m)\u001b[0m\u001b[0;34m\u001b[0m\u001b[0;34m\u001b[0m\u001b[0m\n\u001b[0;32m----> 2\u001b[0;31m \u001b[0mprint\u001b[0m\u001b[0;34m(\u001b[0m\u001b[0;34m\"operations:\"\u001b[0m\u001b[0;34m,\u001b[0m \u001b[0mruns\u001b[0m\u001b[0;34m,\u001b[0m \u001b[0;34m\"path length:\"\u001b[0m\u001b[0;34m,\u001b[0m \u001b[0mlen\u001b[0m\u001b[0;34m(\u001b[0m\u001b[0mpath\u001b[0m\u001b[0;34m)\u001b[0m\u001b[0;34m)\u001b[0m\u001b[0;34m\u001b[0m\u001b[0;34m\u001b[0m\u001b[0m\n\u001b[0m\u001b[1;32m      3\u001b[0m \u001b[0mprint\u001b[0m\u001b[0;34m(\u001b[0m\u001b[0mgrid\u001b[0m\u001b[0;34m.\u001b[0m\u001b[0mgrid_str\u001b[0m\u001b[0;34m(\u001b[0m\u001b[0mpath\u001b[0m\u001b[0;34m=\u001b[0m\u001b[0mpath\u001b[0m\u001b[0;34m,\u001b[0m \u001b[0mstart\u001b[0m\u001b[0;34m=\u001b[0m\u001b[0mstart\u001b[0m\u001b[0;34m,\u001b[0m \u001b[0mend\u001b[0m\u001b[0;34m=\u001b[0m\u001b[0mend\u001b[0m\u001b[0;34m)\u001b[0m\u001b[0;34m)\u001b[0m\u001b[0;34m\u001b[0m\u001b[0;34m\u001b[0m\u001b[0m\n",
      "\u001b[0;31mTypeError\u001b[0m: object of type 'int' has no len()"
     ]
    }
   ],
   "source": [
    "runs, path = find_path(1 - A, start=(1,1), end=(7,4))\n",
    "\n",
    "print(\"operations:\", runs, \"path length:\", len(path))\n",
    "print(grid.grid_str(path=path, start=start, end=end))"
   ]
  },
  {
   "cell_type": "code",
   "execution_count": null,
   "id": "4fcfb56b-bb28-4345-9661-9e8cbc8a7abd",
   "metadata": {},
   "outputs": [],
   "source": []
  },
  {
   "cell_type": "code",
   "execution_count": 64,
   "id": "541c6bfa-3538-4640-8bc2-553f8532452c",
   "metadata": {},
   "outputs": [],
   "source": [
    "def get_neigbs(lab, x, y):\n",
    "    ns = []\n",
    "    if y > 0 and lab[x, y - 1] == 0:\n",
    "        ns.append((x, y - 1))\n",
    "    if x > 0 and lab[x - 1, y] == 0:\n",
    "        ns.append((x - 1, y))\n",
    "    if x < lab.shape[1] and lab[x + 1, y] == 0:\n",
    "        ns.append((x + 1, y))\n",
    "    if y < lab.shape[0] and lab[x, y + 1] == 0:\n",
    "        ns.append((x, y + 1))\n",
    "    return ns"
   ]
  },
  {
   "cell_type": "code",
   "execution_count": 65,
   "id": "54b0e4f0-0628-4edf-b53e-b68d971d0ca7",
   "metadata": {},
   "outputs": [],
   "source": [
    "def find_path(lab, paths):\n",
    "    all_new_paths = []\n",
    "    for path in paths:\n",
    "        last = path[-1]\n",
    "        ns = get_neigbs(lab, *last)\n",
    "        if len(ns) == 0 or all([p in path for p in ns]):\n",
    "            continue\n",
    "        for n in ns:\n",
    "            if n in path:\n",
    "                continue\n",
    "            new_path = path.copy() + [n]\n",
    "            all_new_paths.append(new_path)\n",
    "    return all_new_paths"
   ]
  },
  {
   "cell_type": "code",
   "execution_count": 66,
   "id": "c9ba342c-6ec3-4782-810c-d5e5aa7ea68f",
   "metadata": {},
   "outputs": [],
   "source": [
    "paths = [[(1, 1)]]\n",
    "while True:\n",
    "    paths = find_path(A, paths)\n",
    "    if any([p[-1] == (31, 39) for p in paths]):\n",
    "        break"
   ]
  },
  {
   "cell_type": "code",
   "execution_count": null,
   "id": "0bb92b83-0568-4193-a248-8dc3442323c5",
   "metadata": {},
   "outputs": [],
   "source": []
  }
 ],
 "metadata": {
  "kernelspec": {
   "display_name": "Python (DE)",
   "language": "python",
   "name": "python3"
  },
  "language_info": {
   "codemirror_mode": {
    "name": "ipython",
    "version": 3
   },
   "file_extension": ".py",
   "mimetype": "text/x-python",
   "name": "python",
   "nbconvert_exporter": "python",
   "pygments_lexer": "ipython3",
   "version": "3.7.12"
  }
 },
 "nbformat": 4,
 "nbformat_minor": 5
}
