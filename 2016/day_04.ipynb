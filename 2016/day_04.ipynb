{
 "cells": [
  {
   "cell_type": "code",
   "execution_count": 41,
   "id": "f49d5346-11e4-4dea-ae40-2991e43c771f",
   "metadata": {},
   "outputs": [
    {
     "name": "stdout",
     "output_type": "stream",
     "text": [
      "The lab_black extension is already loaded. To reload it, use:\n",
      "  %reload_ext lab_black\n"
     ]
    }
   ],
   "source": [
    "%load_ext lab_black\n",
    "\n",
    "from puzzles import load_lines\n",
    "\n",
    "from collections import Counter"
   ]
  },
  {
   "cell_type": "code",
   "execution_count": 42,
   "id": "e651bf3f-5bd2-4f76-86bb-4944ddc3b26d",
   "metadata": {},
   "outputs": [],
   "source": [
    "caesar_shift = (\n",
    "    lambda c, t: chr(ord(\"a\") + ord(c) + t - 1 - ord(\"z\"))\n",
    "    if (ord(c) + t) > ord(\"z\")\n",
    "    else chr(ord(c) + t)\n",
    ")"
   ]
  },
  {
   "cell_type": "code",
   "execution_count": 48,
   "id": "d5863b78-1082-45a2-ae8d-b773bbf2e4a7",
   "metadata": {},
   "outputs": [
    {
     "data": {
      "text/plain": [
       "409147"
      ]
     },
     "execution_count": 48,
     "metadata": {},
     "output_type": "execute_result"
    }
   ],
   "source": [
    "uids = []\n",
    "goods = []\n",
    "msgs = []\n",
    "\n",
    "for ln in load_lines(4):\n",
    "    words, flt = ln.split(\"[\")\n",
    "    flt = flt[:-1]\n",
    "    *words, uid = words.split(\"-\")\n",
    "    uid = int(uid)\n",
    "    phrase = (\n",
    "        \"\".join([caesar_shift(c, uid % 26) if c != \" \" else c for c in \" \".join(words)])\n",
    "        + \" -> \"\n",
    "        + str(uid)\n",
    "    )\n",
    "    words = \"\".join(words)\n",
    "    d = sorted(Counter(words).items(), key=lambda t: (-t[1], t[0]))\n",
    "    if not all([a[0] == b for a, b in zip(d, flt)]):\n",
    "        continue\n",
    "    goods.append(ln)\n",
    "    uids.append(uid)\n",
    "    msgs.append(phrase)\n",
    "\n",
    "sum(uids)"
   ]
  },
  {
   "cell_type": "code",
   "execution_count": 49,
   "id": "6ed9669d-9822-4467-91d2-35eb2a84b4ac",
   "metadata": {},
   "outputs": [
    {
     "data": {
      "text/plain": [
       "['northpole object storage -> 991']"
      ]
     },
     "execution_count": 49,
     "metadata": {},
     "output_type": "execute_result"
    }
   ],
   "source": [
    "[l for l in msgs if \"north\" in l]"
   ]
  }
 ],
 "metadata": {
  "kernelspec": {
   "display_name": "platy-segmentation",
   "language": "python",
   "name": "platy-segmentation"
  },
  "language_info": {
   "codemirror_mode": {
    "name": "ipython",
    "version": 3
   },
   "file_extension": ".py",
   "mimetype": "text/x-python",
   "name": "python",
   "nbconvert_exporter": "python",
   "pygments_lexer": "ipython3",
   "version": "3.9.6"
  }
 },
 "nbformat": 4,
 "nbformat_minor": 5
}
