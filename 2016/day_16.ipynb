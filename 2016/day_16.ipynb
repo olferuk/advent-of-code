{
 "cells": [
  {
   "cell_type": "code",
   "execution_count": 1,
   "id": "0fe1c159-6fc2-4f57-81af-db4f1a9f45ef",
   "metadata": {},
   "outputs": [],
   "source": [
    "%load_ext lab_black\n",
    "%load_ext autoreload\n",
    "%autoreload 2\n",
    "from puzzles import load, load_tokens"
   ]
  },
  {
   "cell_type": "code",
   "execution_count": 4,
   "id": "2c57829b-9840-4424-a15c-45ed2c6eec02",
   "metadata": {},
   "outputs": [],
   "source": [
    "def step(s: str) -> str:\n",
    "    return s + \"0\" + \"\".join([\"1\" if x == \"0\" else \"0\" for x in s[::-1]])"
   ]
  },
  {
   "cell_type": "code",
   "execution_count": 5,
   "id": "283c3933-95b5-42bd-8642-abbbb54c5eb3",
   "metadata": {},
   "outputs": [
    {
     "data": {
      "text/plain": [
       "'100'"
      ]
     },
     "execution_count": 5,
     "metadata": {},
     "output_type": "execute_result"
    }
   ],
   "source": [
    "step(\"1\")"
   ]
  },
  {
   "cell_type": "code",
   "execution_count": 6,
   "id": "301f21b4-6234-460e-9e7c-8eda71689630",
   "metadata": {},
   "outputs": [
    {
     "data": {
      "text/plain": [
       "'001'"
      ]
     },
     "execution_count": 6,
     "metadata": {},
     "output_type": "execute_result"
    }
   ],
   "source": [
    "step(\"0\")"
   ]
  },
  {
   "cell_type": "code",
   "execution_count": 7,
   "id": "cd7a9e64-002f-4044-ad43-59916bcb089a",
   "metadata": {},
   "outputs": [
    {
     "data": {
      "text/plain": [
       "'11111000000'"
      ]
     },
     "execution_count": 7,
     "metadata": {},
     "output_type": "execute_result"
    }
   ],
   "source": [
    "step(\"11111\")"
   ]
  },
  {
   "cell_type": "code",
   "execution_count": 8,
   "id": "8c5d327c-dfcf-4a42-a375-c88375e0513c",
   "metadata": {},
   "outputs": [
    {
     "data": {
      "text/plain": [
       "'1111000010100101011110000'"
      ]
     },
     "execution_count": 8,
     "metadata": {},
     "output_type": "execute_result"
    }
   ],
   "source": [
    "step(\"111100001010\")"
   ]
  },
  {
   "cell_type": "code",
   "execution_count": 9,
   "id": "f5e88d7a-3461-4eb0-800b-cb0b519a1a5f",
   "metadata": {},
   "outputs": [],
   "source": [
    "def same_diff(s: str) -> str:\n",
    "    return \"\".join([str(int(s[i] == s[i + 1])) for i in range(0, len(s), 2)])"
   ]
  },
  {
   "cell_type": "code",
   "execution_count": 10,
   "id": "c8e6c228-5e4a-4d9b-83a1-add7e0295e8f",
   "metadata": {},
   "outputs": [
    {
     "data": {
      "text/plain": [
       "'110101'"
      ]
     },
     "execution_count": 10,
     "metadata": {},
     "output_type": "execute_result"
    }
   ],
   "source": [
    "same_diff(\"110010110100\")"
   ]
  },
  {
   "cell_type": "code",
   "execution_count": 11,
   "id": "be98ce16-7d1f-4e28-8e88-4e132ee060c4",
   "metadata": {},
   "outputs": [
    {
     "name": "stdout",
     "output_type": "stream",
     "text": [
      "True\n"
     ]
    }
   ],
   "source": [
    "print(len(\"110101\") % 2 == 0)"
   ]
  },
  {
   "cell_type": "code",
   "execution_count": 12,
   "id": "dbfa94ad-24e7-4a61-bb12-3dba24d79e58",
   "metadata": {},
   "outputs": [
    {
     "data": {
      "text/plain": [
       "'100'"
      ]
     },
     "execution_count": 12,
     "metadata": {},
     "output_type": "execute_result"
    }
   ],
   "source": [
    "same_diff(\"110101\")"
   ]
  },
  {
   "cell_type": "code",
   "execution_count": 21,
   "id": "ed892307-a5ec-4f96-9563-590592e03adf",
   "metadata": {},
   "outputs": [
    {
     "data": {
      "text/plain": [
       "'00100111000101111'"
      ]
     },
     "execution_count": 21,
     "metadata": {},
     "output_type": "execute_result"
    }
   ],
   "source": [
    "data = load_tokens(16)[0]\n",
    "\n",
    "while len(data) < 272:\n",
    "    data = step(data)\n",
    "\n",
    "data = data[:272]\n",
    "\n",
    "while len(data) % 2 == 0:\n",
    "    data = same_diff(data)\n",
    "\n",
    "data"
   ]
  },
  {
   "cell_type": "code",
   "execution_count": 22,
   "id": "dd2820dc-bcc3-448b-a1e0-094a22e47941",
   "metadata": {},
   "outputs": [
    {
     "data": {
      "text/plain": [
       "'11101110011100110'"
      ]
     },
     "execution_count": 22,
     "metadata": {},
     "output_type": "execute_result"
    }
   ],
   "source": [
    "data = load_tokens(16)[0]\n",
    "\n",
    "while len(data) < 35651584:\n",
    "    data = step(data)\n",
    "\n",
    "data = data[:35651584]\n",
    "\n",
    "while len(data) % 2 == 0:\n",
    "    data = same_diff(data)\n",
    "\n",
    "data"
   ]
  }
 ],
 "metadata": {
  "kernelspec": {
   "display_name": "Python (DE)",
   "language": "python",
   "name": "python3"
  },
  "language_info": {
   "codemirror_mode": {
    "name": "ipython",
    "version": 3
   },
   "file_extension": ".py",
   "mimetype": "text/x-python",
   "name": "python",
   "nbconvert_exporter": "python",
   "pygments_lexer": "ipython3",
   "version": "3.7.12"
  }
 },
 "nbformat": 4,
 "nbformat_minor": 5
}
