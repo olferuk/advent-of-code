{
 "cells": [
  {
   "cell_type": "code",
   "execution_count": 1,
   "id": "ef4cf7b8-595e-453f-83a7-7e75da546dcb",
   "metadata": {},
   "outputs": [],
   "source": [
    "%load_ext lab_black\n",
    "\n",
    "from puzzles import load"
   ]
  },
  {
   "cell_type": "code",
   "execution_count": 46,
   "id": "05980c37-844a-4817-80f6-cfcb6e885866",
   "metadata": {},
   "outputs": [],
   "source": [
    "def process(discs_original):\n",
    "    disc_i = -1\n",
    "    discs = [d[::] for d in discs_original]\n",
    "\n",
    "    while True:\n",
    "        # disc turning\n",
    "        for i in range(len(discs)):\n",
    "            discs[i][-1] = (discs[i][1] + 1) % discs[i][0]\n",
    "\n",
    "        # if can pass, pass\n",
    "        if disc_i + 1 >= len(discs):\n",
    "            return True\n",
    "\n",
    "        if discs[disc_i + 1][-1] == 0:\n",
    "            disc_i += 1\n",
    "        else:\n",
    "            return False"
   ]
  },
  {
   "cell_type": "code",
   "execution_count": 47,
   "id": "5e63297e-6c27-4474-8873-05c444ca8e1c",
   "metadata": {},
   "outputs": [],
   "source": [
    "from tqdm import tqdm"
   ]
  },
  {
   "cell_type": "code",
   "execution_count": 52,
   "id": "c266a794-a4ce-4754-b180-4983b9a43a56",
   "metadata": {},
   "outputs": [
    {
     "name": "stderr",
     "output_type": "stream",
     "text": [
      "  0%|                         | 122317/1000000000 [00:00<1:46:23, 156625.46it/s]"
     ]
    },
    {
     "name": "stdout",
     "output_type": "stream",
     "text": [
      "122318\n"
     ]
    },
    {
     "name": "stderr",
     "output_type": "stream",
     "text": [
      "\n"
     ]
    }
   ],
   "source": [
    "discs = [\n",
    "    [int(line.split()[3]), int(line[:-1].split()[-1])]\n",
    "    for line in load(15).strip().split(\"\\n\")\n",
    "]\n",
    "for WAIT in tqdm(range(int(1e9))):\n",
    "    for i in range(len(discs)):\n",
    "        discs[i][-1] = (discs[i][1] + 1) % discs[i][0]\n",
    "    if process(discs):\n",
    "        print(WAIT + 1)\n",
    "        break"
   ]
  },
  {
   "cell_type": "code",
   "execution_count": 51,
   "id": "cb0fb0ff-2945-40cb-a122-e74999b2dec0",
   "metadata": {},
   "outputs": [
    {
     "name": "stderr",
     "output_type": "stream",
     "text": [
      "  0%|                        | 3208582/1000000000 [00:16<1:26:21, 192387.03it/s]"
     ]
    },
    {
     "name": "stdout",
     "output_type": "stream",
     "text": [
      "3208583\n"
     ]
    },
    {
     "name": "stderr",
     "output_type": "stream",
     "text": [
      "\n"
     ]
    }
   ],
   "source": [
    "discs = [\n",
    "    [int(line.split()[3]), int(line[:-1].split()[-1])]\n",
    "    for line in load(15).strip().split(\"\\n\")\n",
    "] + [[11, 0]]\n",
    "for WAIT in tqdm(range(int(1e9))):\n",
    "    for i in range(len(discs)):\n",
    "        discs[i][-1] = (discs[i][1] + 1) % discs[i][0]\n",
    "    if process(discs):\n",
    "        print(WAIT + 1)\n",
    "        break"
   ]
  },
  {
   "cell_type": "code",
   "execution_count": null,
   "id": "dfc977ee-c265-4199-a481-a1166544efaa",
   "metadata": {},
   "outputs": [],
   "source": []
  }
 ],
 "metadata": {
  "kernelspec": {
   "display_name": "Python 3 (ipykernel)",
   "language": "python",
   "name": "python3"
  },
  "language_info": {
   "codemirror_mode": {
    "name": "ipython",
    "version": 3
   },
   "file_extension": ".py",
   "mimetype": "text/x-python",
   "name": "python",
   "nbconvert_exporter": "python",
   "pygments_lexer": "ipython3",
   "version": "3.10.9"
  }
 },
 "nbformat": 4,
 "nbformat_minor": 5
}
