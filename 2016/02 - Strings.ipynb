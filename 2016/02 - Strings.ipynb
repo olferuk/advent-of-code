{
 "cells": [
  {
   "cell_type": "code",
   "execution_count": 4,
   "id": "fa1fada7-aa31-4ed9-87dd-fa21ba3bb9cf",
   "metadata": {},
   "outputs": [
    {
     "data": {
      "text/plain": [
       "579"
      ]
     },
     "execution_count": 4,
     "metadata": {},
     "output_type": "execute_result"
    }
   ],
   "source": [
    "int(\"123\") + int(\"456\")"
   ]
  },
  {
   "cell_type": "code",
   "execution_count": 3,
   "id": "6588b66f-2ad7-4fe2-8d08-4a1f9108fd6f",
   "metadata": {},
   "outputs": [
    {
     "data": {
      "text/plain": [
       "(123.0, 123)"
      ]
     },
     "execution_count": 3,
     "metadata": {},
     "output_type": "execute_result"
    }
   ],
   "source": [
    "float(\"123\"), int('123')"
   ]
  },
  {
   "cell_type": "markdown",
   "id": "5f202e7c-135d-4b25-90ad-eead912280f2",
   "metadata": {},
   "source": [
    "----"
   ]
  },
  {
   "cell_type": "code",
   "execution_count": 35,
   "id": "7f88f133-419d-4df5-bc7b-2d3a8763fed2",
   "metadata": {},
   "outputs": [],
   "source": [
    "s = 'Alex'"
   ]
  },
  {
   "cell_type": "code",
   "execution_count": 36,
   "id": "a1ee56e1-986f-4595-82ab-e8c3e7808325",
   "metadata": {},
   "outputs": [
    {
     "data": {
      "text/plain": [
       "True"
      ]
     },
     "execution_count": 36,
     "metadata": {},
     "output_type": "execute_result"
    }
   ],
   "source": [
    "s.isalpha()"
   ]
  },
  {
   "cell_type": "code",
   "execution_count": 37,
   "id": "92ca88b3-9700-49ac-8771-6148f6b5ed61",
   "metadata": {},
   "outputs": [
    {
     "data": {
      "text/plain": [
       "True"
      ]
     },
     "execution_count": 37,
     "metadata": {},
     "output_type": "execute_result"
    }
   ],
   "source": [
    "'Alex'.isalpha()"
   ]
  },
  {
   "cell_type": "code",
   "execution_count": 43,
   "id": "f79dac09-c015-461d-b8ed-3ee4f78cc4f8",
   "metadata": {},
   "outputs": [
    {
     "data": {
      "text/plain": [
       "True"
      ]
     },
     "execution_count": 43,
     "metadata": {},
     "output_type": "execute_result"
    }
   ],
   "source": [
    "'123'.isdigit()"
   ]
  },
  {
   "cell_type": "code",
   "execution_count": 47,
   "id": "5e00ad78-091d-44c8-91e7-bcfa5c46a13f",
   "metadata": {},
   "outputs": [
    {
     "data": {
      "text/plain": [
       "True"
      ]
     },
     "execution_count": 47,
     "metadata": {},
     "output_type": "execute_result"
    }
   ],
   "source": [
    "'asda123123'.isalnum()"
   ]
  },
  {
   "cell_type": "raw",
   "id": "5d6b18bb-f83f-43d3-aa93-301582eecbad",
   "metadata": {},
   "source": [
    "\\n — new line\n",
    "\\t - tab"
   ]
  },
  {
   "cell_type": "code",
   "execution_count": 52,
   "id": "0ae7e106-d4b4-4236-9949-93ebab2e6abc",
   "metadata": {},
   "outputs": [
    {
     "name": "stdout",
     "output_type": "stream",
     "text": [
      "12\t12\n",
      "1234\t1234\n"
     ]
    }
   ],
   "source": [
    "print('12\\t12')\n",
    "print('1234\\t1234')"
   ]
  },
  {
   "cell_type": "code",
   "execution_count": 51,
   "id": "f5a4b6c0-a775-4e45-ba28-0ef2bab97120",
   "metadata": {},
   "outputs": [
    {
     "ename": "SyntaxError",
     "evalue": "EOL while scanning string literal (396767863.py, line 1)",
     "output_type": "error",
     "traceback": [
      "\u001b[0;36m  File \u001b[0;32m\"/var/folders/x4/t1fx1l8s0f97y033bl0gpgcr0000gn/T/ipykernel_6559/396767863.py\"\u001b[0;36m, line \u001b[0;32m1\u001b[0m\n\u001b[0;31m    s = '     abc \\n\u001b[0m\n\u001b[0m                    ^\u001b[0m\n\u001b[0;31mSyntaxError\u001b[0m\u001b[0;31m:\u001b[0m EOL while scanning string literal\n"
     ]
    }
   ],
   "source": [
    "s = '     abc \\n\\n\\t  '"
   ]
  },
  {
   "cell_type": "code",
   "execution_count": 50,
   "id": "4ab51e09-bd9b-481b-979a-6e665f7fcd4e",
   "metadata": {},
   "outputs": [
    {
     "data": {
      "text/plain": [
       "'abc'"
      ]
     },
     "execution_count": 50,
     "metadata": {},
     "output_type": "execute_result"
    }
   ],
   "source": [
    "s.strip()"
   ]
  },
  {
   "cell_type": "code",
   "execution_count": 49,
   "id": "d34c202a-8d33-422a-9b90-90054a25c330",
   "metadata": {},
   "outputs": [
    {
     "name": "stdout",
     "output_type": "stream",
     "text": [
      "     abc \n",
      "\n",
      "\t  \n"
     ]
    }
   ],
   "source": [
    "print(s)"
   ]
  },
  {
   "cell_type": "code",
   "execution_count": 42,
   "id": "4cff3101-a97a-4530-89f3-31b7e9e54ecd",
   "metadata": {},
   "outputs": [
    {
     "data": {
      "text/plain": [
       "False"
      ]
     },
     "execution_count": 42,
     "metadata": {},
     "output_type": "execute_result"
    }
   ],
   "source": [
    "'123'.isdecimal()"
   ]
  },
  {
   "cell_type": "code",
   "execution_count": 38,
   "id": "a7ccc03a-1018-4fb0-9efa-bbfe80d3c570",
   "metadata": {},
   "outputs": [
    {
     "data": {
      "text/plain": [
       "False"
      ]
     },
     "execution_count": 38,
     "metadata": {},
     "output_type": "execute_result"
    }
   ],
   "source": [
    "s.isdigit()"
   ]
  },
  {
   "cell_type": "code",
   "execution_count": null,
   "id": "126d8f46-889f-4d6e-a4bd-223bf52b95be",
   "metadata": {},
   "outputs": [],
   "source": []
  },
  {
   "cell_type": "code",
   "execution_count": 32,
   "id": "91e4c23a-ba2b-4adf-bf7e-b1641c643b02",
   "metadata": {},
   "outputs": [
    {
     "data": {
      "text/plain": [
       "'Ae'"
      ]
     },
     "execution_count": 32,
     "metadata": {},
     "output_type": "execute_result"
    }
   ],
   "source": [
    "s[::2]"
   ]
  },
  {
   "cell_type": "code",
   "execution_count": 33,
   "id": "1a642845-2966-4e00-bfbe-7a5b5d9cfaba",
   "metadata": {},
   "outputs": [
    {
     "data": {
      "text/plain": [
       "'lx'"
      ]
     },
     "execution_count": 33,
     "metadata": {},
     "output_type": "execute_result"
    }
   ],
   "source": [
    "s[1::2]"
   ]
  },
  {
   "cell_type": "code",
   "execution_count": 29,
   "id": "cda567c6-a737-4881-8cc8-bdcaaafe75e8",
   "metadata": {},
   "outputs": [],
   "source": [
    "result = s[-3:]"
   ]
  },
  {
   "cell_type": "code",
   "execution_count": 8,
   "id": "ec89600f-a55a-468b-8f8d-9e3e848ae69a",
   "metadata": {},
   "outputs": [
    {
     "data": {
      "text/plain": [
       "[2, 3, 4]"
      ]
     },
     "execution_count": 8,
     "metadata": {},
     "output_type": "execute_result"
    }
   ],
   "source": [
    "a[-3:]"
   ]
  },
  {
   "cell_type": "markdown",
   "id": "609b5fb9-b3b5-49e4-85f9-cabbdec383c4",
   "metadata": {},
   "source": [
    "---"
   ]
  },
  {
   "cell_type": "code",
   "execution_count": 53,
   "id": "585c8295-74e2-4fac-bc02-ad033c4088ca",
   "metadata": {},
   "outputs": [
    {
     "name": "stdout",
     "output_type": "stream",
     "text": [
      "I have 10 friends\n"
     ]
    }
   ],
   "source": [
    "print(\"I have {} friends\".format(10))"
   ]
  },
  {
   "cell_type": "code",
   "execution_count": 59,
   "id": "913327c1-9dd0-4d0b-81fe-46a0982f2e2e",
   "metadata": {},
   "outputs": [
    {
     "name": "stdin",
     "output_type": "stream",
     "text": [
      " 123\n"
     ]
    },
    {
     "data": {
      "text/plain": [
       "123"
      ]
     },
     "execution_count": 59,
     "metadata": {},
     "output_type": "execute_result"
    }
   ],
   "source": [
    "int(input())"
   ]
  },
  {
   "cell_type": "code",
   "execution_count": 56,
   "id": "21abfc25-54d9-4189-b481-3752f9eec090",
   "metadata": {},
   "outputs": [
    {
     "name": "stdin",
     "output_type": "stream",
     "text": [
      "How many friends do you have? 500\n"
     ]
    }
   ],
   "source": [
    "num_friends = input('How many friends do you have?')"
   ]
  },
  {
   "cell_type": "code",
   "execution_count": 61,
   "id": "7267156f-725f-460f-94d4-ebf7f25301a4",
   "metadata": {},
   "outputs": [
    {
     "name": "stdout",
     "output_type": "stream",
     "text": [
      "So you have 500 friends\n"
     ]
    }
   ],
   "source": [
    "print(f\"So you have {num_friends} friends\")"
   ]
  },
  {
   "cell_type": "code",
   "execution_count": 69,
   "id": "c94c799e-2529-44f3-8c8a-c90b46b01e6e",
   "metadata": {},
   "outputs": [
    {
     "name": "stdout",
     "output_type": "stream",
     "text": [
      "So you have 500 friends, are you have 500 friends?\n"
     ]
    }
   ],
   "source": [
    "print(\n",
    "    \"So you have {} friends, are you have {} friends?\".format(\n",
    "        num_friends, num_friends\n",
    "    )\n",
    ")"
   ]
  },
  {
   "cell_type": "code",
   "execution_count": 72,
   "id": "da3de1ac-fe00-40be-9a97-32942fc7c65d",
   "metadata": {},
   "outputs": [
    {
     "name": "stdout",
     "output_type": "stream",
     "text": [
      "1.123\n"
     ]
    }
   ],
   "source": [
    "print(f'{1.123123123123124154423412:.3f}')"
   ]
  },
  {
   "cell_type": "code",
   "execution_count": 75,
   "id": "6374467c-3a5d-42be-95d1-352817957e15",
   "metadata": {},
   "outputs": [
    {
     "data": {
      "text/plain": [
       "['000.jpg',\n",
       " '001.jpg',\n",
       " '002.jpg',\n",
       " '003.jpg',\n",
       " '004.jpg',\n",
       " '005.jpg',\n",
       " '006.jpg',\n",
       " '007.jpg',\n",
       " '008.jpg',\n",
       " '009.jpg',\n",
       " '010.jpg',\n",
       " '011.jpg',\n",
       " '012.jpg',\n",
       " '013.jpg',\n",
       " '014.jpg',\n",
       " '015.jpg',\n",
       " '016.jpg',\n",
       " '017.jpg',\n",
       " '018.jpg',\n",
       " '019.jpg',\n",
       " '020.jpg',\n",
       " '021.jpg',\n",
       " '022.jpg',\n",
       " '023.jpg',\n",
       " '024.jpg',\n",
       " '025.jpg',\n",
       " '026.jpg',\n",
       " '027.jpg',\n",
       " '028.jpg',\n",
       " '029.jpg',\n",
       " '030.jpg',\n",
       " '031.jpg',\n",
       " '032.jpg',\n",
       " '033.jpg',\n",
       " '034.jpg',\n",
       " '035.jpg',\n",
       " '036.jpg',\n",
       " '037.jpg',\n",
       " '038.jpg',\n",
       " '039.jpg',\n",
       " '040.jpg',\n",
       " '041.jpg',\n",
       " '042.jpg',\n",
       " '043.jpg',\n",
       " '044.jpg',\n",
       " '045.jpg',\n",
       " '046.jpg',\n",
       " '047.jpg',\n",
       " '048.jpg',\n",
       " '049.jpg',\n",
       " '050.jpg',\n",
       " '051.jpg',\n",
       " '052.jpg',\n",
       " '053.jpg',\n",
       " '054.jpg',\n",
       " '055.jpg',\n",
       " '056.jpg',\n",
       " '057.jpg',\n",
       " '058.jpg',\n",
       " '059.jpg',\n",
       " '060.jpg',\n",
       " '061.jpg',\n",
       " '062.jpg',\n",
       " '063.jpg',\n",
       " '064.jpg',\n",
       " '065.jpg',\n",
       " '066.jpg',\n",
       " '067.jpg',\n",
       " '068.jpg',\n",
       " '069.jpg',\n",
       " '070.jpg',\n",
       " '071.jpg',\n",
       " '072.jpg',\n",
       " '073.jpg',\n",
       " '074.jpg',\n",
       " '075.jpg',\n",
       " '076.jpg',\n",
       " '077.jpg',\n",
       " '078.jpg',\n",
       " '079.jpg',\n",
       " '080.jpg',\n",
       " '081.jpg',\n",
       " '082.jpg',\n",
       " '083.jpg',\n",
       " '084.jpg',\n",
       " '085.jpg',\n",
       " '086.jpg',\n",
       " '087.jpg',\n",
       " '088.jpg',\n",
       " '089.jpg',\n",
       " '090.jpg',\n",
       " '091.jpg',\n",
       " '092.jpg',\n",
       " '093.jpg',\n",
       " '094.jpg',\n",
       " '095.jpg',\n",
       " '096.jpg',\n",
       " '097.jpg',\n",
       " '098.jpg',\n",
       " '099.jpg']"
      ]
     },
     "execution_count": 75,
     "metadata": {},
     "output_type": "execute_result"
    }
   ],
   "source": [
    "sorted([f'{i:03d}.jpg' for i in range(100)])"
   ]
  },
  {
   "cell_type": "code",
   "execution_count": null,
   "id": "8646b32e-a8e5-48b0-948c-778e9325e7d8",
   "metadata": {},
   "outputs": [],
   "source": [
    "s = ''"
   ]
  }
 ],
 "metadata": {
  "kernelspec": {
   "display_name": "platy-segmentation",
   "language": "python",
   "name": "platy-segmentation"
  },
  "language_info": {
   "codemirror_mode": {
    "name": "ipython",
    "version": 3
   },
   "file_extension": ".py",
   "mimetype": "text/x-python",
   "name": "python",
   "nbconvert_exporter": "python",
   "pygments_lexer": "ipython3",
   "version": "3.9.6"
  }
 },
 "nbformat": 4,
 "nbformat_minor": 5
}
