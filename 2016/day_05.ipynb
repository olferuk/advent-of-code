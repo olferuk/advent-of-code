{
 "cells": [
  {
   "cell_type": "code",
   "execution_count": 2,
   "id": "52e5a642-d09b-4e9d-8c95-0337ac9803e8",
   "metadata": {},
   "outputs": [],
   "source": [
    "%load_ext lab_black"
   ]
  },
  {
   "cell_type": "code",
   "execution_count": 18,
   "id": "265f6d4a-bc0b-4d2a-8d44-448522d40bef",
   "metadata": {},
   "outputs": [],
   "source": [
    "from puzzles import load\n",
    "\n",
    "from hashlib import md5\n",
    "\n",
    "from tqdm import tqdm"
   ]
  },
  {
   "cell_type": "code",
   "execution_count": 19,
   "id": "24d7ee0e-ef65-4aaf-9d15-4524043db2ac",
   "metadata": {},
   "outputs": [],
   "source": [
    "H = load(5).strip()"
   ]
  },
  {
   "cell_type": "code",
   "execution_count": 21,
   "id": "f9215941-4c25-4af3-88e6-6c52751961af",
   "metadata": {},
   "outputs": [
    {
     "name": "stdout",
     "output_type": "stream",
     "text": [
      "c6697b55"
     ]
    }
   ],
   "source": [
    "n_found = 0\n",
    "for x in range(1000000000):\n",
    "    hashcode = md5(f\"{H}{x}\".encode(\"utf-8\")).hexdigest()\n",
    "    if hashcode.startswith(\"00000\"):\n",
    "        print(hashcode[5], end=\"\")\n",
    "        n_found += 1\n",
    "        if n_found == 8:\n",
    "            break"
   ]
  },
  {
   "cell_type": "markdown",
   "id": "feb98946-2c6d-417d-97d3-bfe05cbd5b75",
   "metadata": {},
   "source": [
    "---"
   ]
  },
  {
   "cell_type": "code",
   "execution_count": 26,
   "id": "ddb49f93-a99a-45d7-be44-ad4543e602f6",
   "metadata": {},
   "outputs": [
    {
     "data": {
      "text/plain": [
       "'8c35d1ab'"
      ]
     },
     "execution_count": 26,
     "metadata": {},
     "output_type": "execute_result"
    }
   ],
   "source": [
    "H = load(5).strip()\n",
    "password = list(\" \" * 8)\n",
    "\n",
    "for x in range(1000000000):\n",
    "    hashcode = md5(f\"{H}{x}\".encode(\"utf-8\")).hexdigest()\n",
    "    if hashcode.startswith(\"00000\"):\n",
    "        idx = hashcode[5]\n",
    "        ch = hashcode[6]\n",
    "        if (\n",
    "            idx.isdigit()\n",
    "            and 0 <= int(idx) < len(password)\n",
    "            and password[int(idx)] == \" \"\n",
    "        ):\n",
    "            password[int(idx)] = ch\n",
    "        if \" \" not in password:\n",
    "            break\n",
    "\n",
    "\"\".join(password)"
   ]
  },
  {
   "cell_type": "code",
   "execution_count": null,
   "id": "ec966130-f40a-4aac-adb6-16e4b2332e7e",
   "metadata": {},
   "outputs": [],
   "source": []
  }
 ],
 "metadata": {
  "kernelspec": {
   "display_name": "platy-segmentation",
   "language": "python",
   "name": "platy-segmentation"
  },
  "language_info": {
   "codemirror_mode": {
    "name": "ipython",
    "version": 3
   },
   "file_extension": ".py",
   "mimetype": "text/x-python",
   "name": "python",
   "nbconvert_exporter": "python",
   "pygments_lexer": "ipython3",
   "version": "3.9.6"
  }
 },
 "nbformat": 4,
 "nbformat_minor": 5
}
