{
 "cells": [
  {
   "cell_type": "code",
   "execution_count": null,
   "id": "402f65ac-ee95-4910-9ae7-3ad4f2ec9aac",
   "metadata": {},
   "outputs": [],
   "source": [
    "MEMORY = {\n",
    "    \"a\": 0,\n",
    "    \"b\": 0,\n",
    "    \"c\": 1,\n",
    "    \"d\": 0,\n",
    "}\n",
    "\n",
    "\n",
    "def cpy(i, x, y):\n",
    "    if x.isdigit():\n",
    "        MEMORY[y] = int(x)\n",
    "    else:\n",
    "        MEMORY[y] = MEMORY[x]\n",
    "    return i + 1\n",
    "\n",
    "\n",
    "def inc(i, x):\n",
    "    MEMORY[x] += 1\n",
    "    return i + 1\n",
    "\n",
    "\n",
    "def dec(i, x):\n",
    "    MEMORY[x] -= 1\n",
    "    return i + 1\n",
    "\n",
    "\n",
    "def jnz(i, x, y):\n",
    "    if x.isdigit() and int(x) != 0:\n",
    "        return i + int(y)\n",
    "    if MEMORY[x] != 0:\n",
    "        return i + int(y)\n",
    "    return i + 1\n",
    "\n",
    "\n",
    "cmds = {\n",
    "    \"cpy\": cpy,\n",
    "    \"jnz\": jnz,\n",
    "    \"inc\": inc,\n",
    "    \"dec\": dec,\n",
    "}\n",
    "\n",
    "commands_stack = load(12).strip().split(\"\\n\")\n",
    "\n",
    "i = 0\n",
    "while True:\n",
    "    cmd_text = commands_stack[i]\n",
    "    cmd, *args = cmd_text.split()\n",
    "    i = cmds[cmd](i, *args)\n",
    "    # print(\n",
    "    #     cmd_text.ljust(15), MEMORY, \"\\t\", i,\n",
    "    # )\n",
    "    if i >= len(commands_stack):\n",
    "        break\n",
    "\n",
    "MEMORY"
   ]
  }
 ],
 "metadata": {
  "kernelspec": {
   "display_name": "Python 3 (ipykernel)",
   "language": "python",
   "name": "python3"
  },
  "language_info": {
   "codemirror_mode": {
    "name": "ipython",
    "version": 3
   },
   "file_extension": ".py",
   "mimetype": "text/x-python",
   "name": "python",
   "nbconvert_exporter": "python",
   "pygments_lexer": "ipython3",
   "version": "3.10.9"
  }
 },
 "nbformat": 4,
 "nbformat_minor": 5
}
