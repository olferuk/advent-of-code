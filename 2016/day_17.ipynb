{
 "cells": [
  {
   "cell_type": "code",
   "execution_count": 2,
   "id": "bd5c755f-6bd7-4c0b-a2ed-6b711361c511",
   "metadata": {},
   "outputs": [],
   "source": [
    "%load_ext lab_black"
   ]
  },
  {
   "cell_type": "code",
   "execution_count": 4,
   "id": "0cdf8241-2140-48f1-8b28-25dba95ca79d",
   "metadata": {},
   "outputs": [],
   "source": [
    "from hashlib import md5\n",
    "\n",
    "\n",
    "def get_hash(s):\n",
    "    return md5(s.encode()).hexdigest()"
   ]
  },
  {
   "cell_type": "code",
   "execution_count": 5,
   "id": "80b64a85-2793-45cc-901e-9dda20c54a22",
   "metadata": {},
   "outputs": [],
   "source": [
    "def ways_open(pos, path_so_far):\n",
    "    opened = [c not in \"1234567890a\" for c in get_hash(path_so_far)[:4]]\n",
    "    opened[0] = opened[0] and pos[0] > 0\n",
    "    opened[1] = opened[1] and pos[0] < 3\n",
    "    opened[2] = opened[2] and pos[1] > 0\n",
    "    opened[3] = opened[3] and pos[1] < 3\n",
    "\n",
    "    dirs = \"UDLR\"\n",
    "    vecs = [(-1, 0), (1, 0), (0, -1), (0, 1)]\n",
    "\n",
    "    letters = [path_so_far + dirs[i] for i in range(len(opened)) if opened[i]]\n",
    "    poss = [\n",
    "        (pos[0] + vecs[i][0], pos[1] + vecs[i][1])\n",
    "        for i in range(len(opened))\n",
    "        if opened[i]\n",
    "    ]\n",
    "    return list(zip(poss, letters))"
   ]
  },
  {
   "cell_type": "code",
   "execution_count": 8,
   "id": "b788ac49-867d-4134-b144-549ddc7eeb25",
   "metadata": {},
   "outputs": [
    {
     "name": "stdout",
     "output_type": "stream",
     "text": [
      "veumntbgDDRRULRDRD\n"
     ]
    }
   ],
   "source": [
    "Q = [((0, 0), \"veumntbg\")]\n",
    "\n",
    "while len(Q) > 0:\n",
    "    item = Q.pop(0)\n",
    "    new = ways_open(*item)\n",
    "    success = False\n",
    "    for p, pa in new:\n",
    "        if p == (3, 3):\n",
    "            print(pa)\n",
    "            success = True\n",
    "            break\n",
    "    if success:\n",
    "        break\n",
    "    Q.extend(new)"
   ]
  },
  {
   "cell_type": "code",
   "execution_count": 10,
   "id": "d0af75af-d53c-4a30-bde2-3634a55a1ee9",
   "metadata": {},
   "outputs": [
    {
     "name": "stdout",
     "output_type": "stream",
     "text": [
      "536\n"
     ]
    }
   ],
   "source": [
    "task = \"veumntbg\"\n",
    "Q = [((0, 0), task)]\n",
    "L = 0\n",
    "while len(Q) > 0:\n",
    "    item = Q.pop(0)\n",
    "    new = ways_open(*item)\n",
    "    for p, pa in new:\n",
    "        if p == (3, 3):\n",
    "            l = len(pa) - len(task)\n",
    "            if l > L:\n",
    "                L = l\n",
    "        else:\n",
    "            Q.append((p, pa))\n",
    "print(L)"
   ]
  }
 ],
 "metadata": {
  "kernelspec": {
   "display_name": "Python 3 (ipykernel)",
   "language": "python",
   "name": "python3"
  },
  "language_info": {
   "codemirror_mode": {
    "name": "ipython",
    "version": 3
   },
   "file_extension": ".py",
   "mimetype": "text/x-python",
   "name": "python",
   "nbconvert_exporter": "python",
   "pygments_lexer": "ipython3",
   "version": "3.10.9"
  }
 },
 "nbformat": 4,
 "nbformat_minor": 5
}
