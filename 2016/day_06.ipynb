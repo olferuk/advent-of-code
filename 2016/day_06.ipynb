{
 "cells": [
  {
   "cell_type": "code",
   "execution_count": 1,
   "id": "de32811a-e8ff-44d0-8ac3-6e8910d02c25",
   "metadata": {},
   "outputs": [],
   "source": [
    "%load_ext lab_black\n",
    "\n",
    "from puzzles import load\n",
    "import pandas as pd"
   ]
  },
  {
   "cell_type": "code",
   "execution_count": 7,
   "id": "d45378c8-c499-4a6d-813e-29c90a05b7e4",
   "metadata": {},
   "outputs": [],
   "source": [
    "from scipy.stats import mode"
   ]
  },
  {
   "cell_type": "code",
   "execution_count": 10,
   "id": "ca4af0f7-365d-4b4a-95a0-598f7e9b02f3",
   "metadata": {},
   "outputs": [
    {
     "data": {
      "text/html": [
       "<div>\n",
       "<style scoped>\n",
       "    .dataframe tbody tr th:only-of-type {\n",
       "        vertical-align: middle;\n",
       "    }\n",
       "\n",
       "    .dataframe tbody tr th {\n",
       "        vertical-align: top;\n",
       "    }\n",
       "\n",
       "    .dataframe thead th {\n",
       "        text-align: right;\n",
       "    }\n",
       "</style>\n",
       "<table border=\"1\" class=\"dataframe\">\n",
       "  <thead>\n",
       "    <tr style=\"text-align: right;\">\n",
       "      <th></th>\n",
       "      <th>0</th>\n",
       "      <th>1</th>\n",
       "      <th>2</th>\n",
       "      <th>3</th>\n",
       "      <th>4</th>\n",
       "      <th>5</th>\n",
       "      <th>6</th>\n",
       "      <th>7</th>\n",
       "    </tr>\n",
       "  </thead>\n",
       "  <tbody>\n",
       "    <tr>\n",
       "      <th>0</th>\n",
       "      <td>v</td>\n",
       "      <td>h</td>\n",
       "      <td>r</td>\n",
       "      <td>v</td>\n",
       "      <td>a</td>\n",
       "      <td>b</td>\n",
       "      <td>t</td>\n",
       "      <td>c</td>\n",
       "    </tr>\n",
       "    <tr>\n",
       "      <th>1</th>\n",
       "      <td>r</td>\n",
       "      <td>z</td>\n",
       "      <td>z</td>\n",
       "      <td>d</td>\n",
       "      <td>e</td>\n",
       "      <td>x</td>\n",
       "      <td>u</td>\n",
       "      <td>x</td>\n",
       "    </tr>\n",
       "    <tr>\n",
       "      <th>2</th>\n",
       "      <td>p</td>\n",
       "      <td>i</td>\n",
       "      <td>x</td>\n",
       "      <td>j</td>\n",
       "      <td>p</td>\n",
       "      <td>l</td>\n",
       "      <td>c</td>\n",
       "      <td>d</td>\n",
       "    </tr>\n",
       "    <tr>\n",
       "      <th>3</th>\n",
       "      <td>i</td>\n",
       "      <td>m</td>\n",
       "      <td>t</td>\n",
       "      <td>x</td>\n",
       "      <td>r</td>\n",
       "      <td>w</td>\n",
       "      <td>p</td>\n",
       "      <td>e</td>\n",
       "    </tr>\n",
       "    <tr>\n",
       "      <th>4</th>\n",
       "      <td>j</td>\n",
       "      <td>l</td>\n",
       "      <td>o</td>\n",
       "      <td>w</td>\n",
       "      <td>i</td>\n",
       "      <td>w</td>\n",
       "      <td>h</td>\n",
       "      <td>o</td>\n",
       "    </tr>\n",
       "    <tr>\n",
       "      <th>...</th>\n",
       "      <td>...</td>\n",
       "      <td>...</td>\n",
       "      <td>...</td>\n",
       "      <td>...</td>\n",
       "      <td>...</td>\n",
       "      <td>...</td>\n",
       "      <td>...</td>\n",
       "      <td>...</td>\n",
       "    </tr>\n",
       "    <tr>\n",
       "      <th>619</th>\n",
       "      <td>i</td>\n",
       "      <td>f</td>\n",
       "      <td>s</td>\n",
       "      <td>y</td>\n",
       "      <td>n</td>\n",
       "      <td>w</td>\n",
       "      <td>c</td>\n",
       "      <td>y</td>\n",
       "    </tr>\n",
       "    <tr>\n",
       "      <th>620</th>\n",
       "      <td>o</td>\n",
       "      <td>d</td>\n",
       "      <td>c</td>\n",
       "      <td>g</td>\n",
       "      <td>k</td>\n",
       "      <td>n</td>\n",
       "      <td>n</td>\n",
       "      <td>c</td>\n",
       "    </tr>\n",
       "    <tr>\n",
       "      <th>621</th>\n",
       "      <td>o</td>\n",
       "      <td>m</td>\n",
       "      <td>c</td>\n",
       "      <td>s</td>\n",
       "      <td>c</td>\n",
       "      <td>l</td>\n",
       "      <td>g</td>\n",
       "      <td>b</td>\n",
       "    </tr>\n",
       "    <tr>\n",
       "      <th>622</th>\n",
       "      <td>z</td>\n",
       "      <td>h</td>\n",
       "      <td>j</td>\n",
       "      <td>r</td>\n",
       "      <td>u</td>\n",
       "      <td>c</td>\n",
       "      <td>w</td>\n",
       "      <td>j</td>\n",
       "    </tr>\n",
       "    <tr>\n",
       "      <th>623</th>\n",
       "      <td>z</td>\n",
       "      <td>l</td>\n",
       "      <td>o</td>\n",
       "      <td>e</td>\n",
       "      <td>y</td>\n",
       "      <td>d</td>\n",
       "      <td>h</td>\n",
       "      <td>r</td>\n",
       "    </tr>\n",
       "  </tbody>\n",
       "</table>\n",
       "<p>624 rows × 8 columns</p>\n",
       "</div>"
      ],
      "text/plain": [
       "     0  1  2  3  4  5  6  7\n",
       "0    v  h  r  v  a  b  t  c\n",
       "1    r  z  z  d  e  x  u  x\n",
       "2    p  i  x  j  p  l  c  d\n",
       "3    i  m  t  x  r  w  p  e\n",
       "4    j  l  o  w  i  w  h  o\n",
       "..  .. .. .. .. .. .. .. ..\n",
       "619  i  f  s  y  n  w  c  y\n",
       "620  o  d  c  g  k  n  n  c\n",
       "621  o  m  c  s  c  l  g  b\n",
       "622  z  h  j  r  u  c  w  j\n",
       "623  z  l  o  e  y  d  h  r\n",
       "\n",
       "[624 rows x 8 columns]"
      ]
     },
     "execution_count": 10,
     "metadata": {},
     "output_type": "execute_result"
    }
   ],
   "source": [
    "df = pd.DataFrame([list(x) for x in load(6).strip().split(\"\\n\")])\n",
    "df"
   ]
  },
  {
   "cell_type": "code",
   "execution_count": 14,
   "id": "9fa0c957-b65f-4cdf-9c7c-6dfbeef13d29",
   "metadata": {},
   "outputs": [
    {
     "data": {
      "text/plain": [
       "'dzqckwsd'"
      ]
     },
     "execution_count": 14,
     "metadata": {},
     "output_type": "execute_result"
    }
   ],
   "source": [
    "\"\".join([mode(df[c]).mode[0] for c in df.columns])"
   ]
  },
  {
   "cell_type": "code",
   "execution_count": 19,
   "id": "a8cd8ed0-9102-49ca-ae0d-a9af1855d31f",
   "metadata": {},
   "outputs": [
    {
     "data": {
      "text/plain": [
       "'lragovly'"
      ]
     },
     "execution_count": 19,
     "metadata": {},
     "output_type": "execute_result"
    }
   ],
   "source": [
    "\"\".join([df[c].value_counts().index[-1] for c in df.columns])"
   ]
  },
  {
   "cell_type": "code",
   "execution_count": null,
   "id": "1eb3d4a0-704e-47a2-a9ec-c80a084585cc",
   "metadata": {},
   "outputs": [],
   "source": []
  }
 ],
 "metadata": {
  "kernelspec": {
   "display_name": "platy-segmentation",
   "language": "python",
   "name": "platy-segmentation"
  },
  "language_info": {
   "codemirror_mode": {
    "name": "ipython",
    "version": 3
   },
   "file_extension": ".py",
   "mimetype": "text/x-python",
   "name": "python",
   "nbconvert_exporter": "python",
   "pygments_lexer": "ipython3",
   "version": "3.9.6"
  }
 },
 "nbformat": 4,
 "nbformat_minor": 5
}
