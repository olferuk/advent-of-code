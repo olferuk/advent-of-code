{
 "cells": [
  {
   "cell_type": "code",
   "execution_count": 41,
   "id": "d7431f92-ec4b-4abe-8308-9beb7fbf25c2",
   "metadata": {},
   "outputs": [
    {
     "name": "stdout",
     "output_type": "stream",
     "text": [
      "The lab_black extension is already loaded. To reload it, use:\n",
      "  %reload_ext lab_black\n"
     ]
    }
   ],
   "source": [
    "%load_ext lab_black\n",
    "\n",
    "from puzzles import load\n",
    "\n",
    "import numpy as np"
   ]
  },
  {
   "cell_type": "code",
   "execution_count": 81,
   "id": "add341ac-3ab3-417e-b1bd-c49a2da6b6b9",
   "metadata": {},
   "outputs": [
    {
     "data": {
      "text/plain": [
       "300"
      ]
     },
     "execution_count": 81,
     "metadata": {},
     "output_type": "execute_result"
    }
   ],
   "source": [
    "s = load(1)\n",
    "\n",
    "car_i = 0\n",
    "\n",
    "shifts = np.array([[0, -1], [1, 0], [-1, 0], [0, 1],])\n",
    "\n",
    "coord = np.array([0, 0])\n",
    "for cmd in s.strip().split(\", \"):\n",
    "    d, n = cmd[0], cmd[1:]\n",
    "\n",
    "    car_i += 1 if d == \"L\" else -1\n",
    "    car_i = car_i + 4 if car_i < 0 else car_i % 4\n",
    "\n",
    "    coord += shifts[car_i] * int(n)\n",
    "\n",
    "np.abs(coord).sum()"
   ]
  },
  {
   "cell_type": "markdown",
   "id": "c6395432-6615-40f7-aec8-094445989fd1",
   "metadata": {},
   "source": [
    "---"
   ]
  },
  {
   "cell_type": "code",
   "execution_count": 78,
   "id": "8f12b723-da35-4244-a2d2-82cedc589c01",
   "metadata": {},
   "outputs": [
    {
     "data": {
      "text/plain": [
       "'R3, R1, R4, L4, R3, R1, R1, L3, L5, L5, L3, R1, R4, L2, L1, R3, L3, R2, R1, R1, L5, L2, L1, R2, L4, R1, L2, L4, R2, R2, L2, L4, L3, R1, R4, R3, L1, R1, L5, R4, L2, R185, L2, R4, R49, L3, L4, R5, R1, R1, L1, L1, R2, L1, L4, R4, R5, R4, L3, L5, R1, R71, L1, R1, R186, L5, L2, R5, R4, R1, L5, L2, R3, R2, R5, R5, R4, R1, R4, R2, L1, R4, L1, L4, L5, L4, R4, R5, R1, L2, L4, L1, L5, L3, L5, R2, L5, R4, L4, R3, R3, R1, R4, L1, L2, R2, L1, R4, R2, R2, R5, R2, R5, L1, R1, L4, R5, R4, R2, R4, L5, R3, R2, R5, R3, L3, L5, L4, L3, L2, L2, R3, R2, L1, L1, L5, R1, L3, R3, R4, R5, L3, L5, R1, L3, L5, L5, L2, R1, L3, L1, L3, R4, L1, R3, L2, L2, R3, R3, R4, R4, R1, L4, R1, L5\\n'"
      ]
     },
     "execution_count": 78,
     "metadata": {},
     "output_type": "execute_result"
    }
   ],
   "source": [
    "s"
   ]
  },
  {
   "cell_type": "code",
   "execution_count": 80,
   "id": "c9459378-0f9f-49e1-a844-e23582c403ff",
   "metadata": {},
   "outputs": [
    {
     "name": "stdout",
     "output_type": "stream",
     "text": [
      "[2 0]\n"
     ]
    }
   ],
   "source": [
    "s = load(1)\n",
    "\n",
    "car_i = 0\n",
    "\n",
    "shifts = np.array([[0, -1], [1, 0], [-1, 0], [0, 1],])\n",
    "\n",
    "history = []\n",
    "coord = np.array([0, 0])\n",
    "\n",
    "for cmd in s.strip().split(\", \"):\n",
    "    d, n = cmd[0], cmd[1:]\n",
    "    n = int(n)\n",
    "\n",
    "    car_i += 1 if d == \"R\" else -1\n",
    "    car_i = (car_i + 4) if car_i < 0 else (car_i % 4)\n",
    "\n",
    "    found = False\n",
    "\n",
    "    for dn in range(int(n)):\n",
    "        coord += shifts[car_i]\n",
    "\n",
    "        if tuple(coord) in history:\n",
    "            found = True\n",
    "            break\n",
    "\n",
    "        history.append(tuple(coord))\n",
    "\n",
    "    if found:\n",
    "        print(coord)\n",
    "        break"
   ]
  },
  {
   "cell_type": "code",
   "execution_count": 69,
   "id": "ac27e0bf-5222-4112-9897-fbf6385fd216",
   "metadata": {},
   "outputs": [
    {
     "data": {
      "text/plain": [
       "('L', 5)"
      ]
     },
     "execution_count": 69,
     "metadata": {},
     "output_type": "execute_result"
    }
   ],
   "source": [
    "d, n"
   ]
  },
  {
   "cell_type": "code",
   "execution_count": null,
   "id": "66ca4e1f-8414-4d2c-8cc0-92916579ca1c",
   "metadata": {},
   "outputs": [],
   "source": []
  }
 ],
 "metadata": {
  "kernelspec": {
   "display_name": "platy-segmentation",
   "language": "python",
   "name": "platy-segmentation"
  },
  "language_info": {
   "codemirror_mode": {
    "name": "ipython",
    "version": 3
   },
   "file_extension": ".py",
   "mimetype": "text/x-python",
   "name": "python",
   "nbconvert_exporter": "python",
   "pygments_lexer": "ipython3",
   "version": "3.9.6"
  }
 },
 "nbformat": 4,
 "nbformat_minor": 5
}
