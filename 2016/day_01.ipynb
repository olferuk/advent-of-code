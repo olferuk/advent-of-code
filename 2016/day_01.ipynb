{
 "cells": [
  {
   "cell_type": "code",
   "execution_count": 3,
   "id": "1713da98-f893-4b5e-9293-8e43c3aa4554",
   "metadata": {},
   "outputs": [
    {
     "name": "stdout",
     "output_type": "stream",
     "text": [
      "The lab_black extension is already loaded. To reload it, use:\n",
      "  %reload_ext lab_black\n"
     ]
    }
   ],
   "source": [
    "%load_ext lab_black\n",
    "\n",
    "from puzzles import load"
   ]
  },
  {
   "cell_type": "code",
   "execution_count": 4,
   "id": "b4d8f871-3809-4833-b607-cf49c94b2b78",
   "metadata": {},
   "outputs": [],
   "source": [
    "s = load(1)"
   ]
  },
  {
   "cell_type": "code",
   "execution_count": 7,
   "id": "ddec6fdc-11dc-4c84-bca7-5cad122b5e53",
   "metadata": {},
   "outputs": [
    {
     "name": "stdout",
     "output_type": "stream",
     "text": [
      "R3\n"
     ]
    }
   ],
   "source": [
    "coord = (0, 0)\n",
    "for i, d in s.strip().split(\", \"):\n",
    "    print(d)\n",
    "    break"
   ]
  },
  {
   "cell_type": "code",
   "execution_count": null,
   "id": "0d87b5b2-c35a-4876-8d73-ff0d703a00b6",
   "metadata": {},
   "outputs": [],
   "source": []
  }
 ],
 "metadata": {
  "kernelspec": {
   "display_name": "platy-segmentation",
   "language": "python",
   "name": "platy-segmentation"
  },
  "language_info": {
   "codemirror_mode": {
    "name": "ipython",
    "version": 3
   },
   "file_extension": ".py",
   "mimetype": "text/x-python",
   "name": "python",
   "nbconvert_exporter": "python",
   "pygments_lexer": "ipython3",
   "version": "3.9.6"
  }
 },
 "nbformat": 4,
 "nbformat_minor": 5
}
