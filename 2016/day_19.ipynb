{
 "cells": [
  {
   "cell_type": "code",
   "execution_count": 35,
   "id": "7e8d92af-afcf-4633-ab01-4dc0e9c7fbcc",
   "metadata": {},
   "outputs": [
    {
     "name": "stdout",
     "output_type": "stream",
     "text": [
      "The lab_black extension is already loaded. To reload it, use:\n",
      "  %reload_ext lab_black\n",
      "The autoreload extension is already loaded. To reload it, use:\n",
      "  %reload_ext autoreload\n"
     ]
    }
   ],
   "source": [
    "%load_ext lab_black\n",
    "%load_ext autoreload\n",
    "%autoreload 2\n",
    "from puzzles import load, load_tokens"
   ]
  },
  {
   "cell_type": "code",
   "execution_count": 37,
   "id": "1c1902aa-96d0-4b5e-bd4c-acfcea87864b",
   "metadata": {},
   "outputs": [
    {
     "data": {
      "text/plain": [
       "3001330"
      ]
     },
     "execution_count": 37,
     "metadata": {},
     "output_type": "execute_result"
    }
   ],
   "source": [
    "N = int(load(19).strip())\n",
    "N"
   ]
  },
  {
   "cell_type": "code",
   "execution_count": 38,
   "id": "c6560949-40dd-4b41-8534-b83e78837d56",
   "metadata": {},
   "outputs": [],
   "source": [
    "from typing import Tuple"
   ]
  },
  {
   "cell_type": "code",
   "execution_count": 196,
   "id": "e3821b7e-e6a0-4d95-b25d-4731459bcf3e",
   "metadata": {},
   "outputs": [],
   "source": [
    "from functools import lru_cache"
   ]
  },
  {
   "cell_type": "code",
   "execution_count": 201,
   "id": "09b408a0-35a4-48e9-888f-7c9cfa329de7",
   "metadata": {},
   "outputs": [],
   "source": [
    "@lru_cache(maxsize=int(3e6))\n",
    "def get_last(group_size: int, index: int) -> Tuple[Tuple, int]:\n",
    "    a = list(range(group_size))\n",
    "    if index == group_size - 1:\n",
    "        return tuple(a[1:]), 0\n",
    "    first, rest = a[:index], a[index:]\n",
    "    is_zero = len(rest) % 2 == 0\n",
    "    d = tuple(first + rest[::2])\n",
    "    return d, len(d) - 1 if not is_zero else 0  #"
   ]
  },
  {
   "cell_type": "code",
   "execution_count": 202,
   "id": "12eeb2da-f203-4252-8383-54cbabca379c",
   "metadata": {},
   "outputs": [
    {
     "name": "stdout",
     "output_type": "stream",
     "text": [
      "((0,), 0)\n"
     ]
    }
   ],
   "source": [
    "print(get_last(2, 0))"
   ]
  },
  {
   "cell_type": "code",
   "execution_count": 203,
   "id": "e74f1a7f-0834-4fef-a179-6f6b10eedd91",
   "metadata": {},
   "outputs": [
    {
     "name": "stdout",
     "output_type": "stream",
     "text": [
      "((1,), 0)\n"
     ]
    }
   ],
   "source": [
    "print(get_last(2, 1))"
   ]
  },
  {
   "cell_type": "code",
   "execution_count": 204,
   "id": "0b53cf06-087c-4963-b2ba-d204ae2ab6d7",
   "metadata": {},
   "outputs": [
    {
     "name": "stdout",
     "output_type": "stream",
     "text": [
      "((0, 2), 1)\n"
     ]
    }
   ],
   "source": [
    "print(get_last(3, 0))"
   ]
  },
  {
   "cell_type": "code",
   "execution_count": 205,
   "id": "dd26777e-1cb4-4719-a81d-bd9375933320",
   "metadata": {},
   "outputs": [
    {
     "name": "stdout",
     "output_type": "stream",
     "text": [
      "((0, 1), 0)\n"
     ]
    }
   ],
   "source": [
    "print(get_last(3, 1))"
   ]
  },
  {
   "cell_type": "code",
   "execution_count": 206,
   "id": "2da103b9-5e8a-4ddc-aae2-63740b7bd6ee",
   "metadata": {},
   "outputs": [
    {
     "name": "stdout",
     "output_type": "stream",
     "text": [
      "((1, 2), 0)\n"
     ]
    }
   ],
   "source": [
    "print(get_last(3, 2))"
   ]
  },
  {
   "cell_type": "code",
   "execution_count": 207,
   "id": "7f7c48f3-c335-4644-a617-b930109562a2",
   "metadata": {},
   "outputs": [],
   "source": [
    "def get_the_very_last(group_size: int, index: int = 0) -> int:\n",
    "    t, index = get_last(group_size, index)\n",
    "    while len(t) != 1:\n",
    "        t_new, index = get_last(len(t), index)\n",
    "        t = tuple(t[x] for x in t_new)\n",
    "    return t[0] + 1"
   ]
  },
  {
   "cell_type": "code",
   "execution_count": 208,
   "id": "9691c485-8304-4536-bc46-3f21dcd7592a",
   "metadata": {},
   "outputs": [],
   "source": [
    "import time"
   ]
  },
  {
   "cell_type": "code",
   "execution_count": 209,
   "id": "147546fa-5778-42db-b65c-b6d025de7cba",
   "metadata": {},
   "outputs": [
    {
     "name": "stdout",
     "output_type": "stream",
     "text": [
      "took 0.8359\n"
     ]
    }
   ],
   "source": [
    "t = time.perf_counter()\n",
    "get_the_very_last(3001330)\n",
    "print(f\"took {time.perf_counter() - t:.4f}\")"
   ]
  },
  {
   "cell_type": "markdown",
   "id": "993a7709-8e4a-4854-b1a5-eb125776475a",
   "metadata": {},
   "source": [
    "---"
   ]
  },
  {
   "cell_type": "code",
   "execution_count": 247,
   "id": "fd44403f-6abb-49b8-be24-c6a040bf4b93",
   "metadata": {},
   "outputs": [],
   "source": [
    "def find(group_size: int, i: int = 0):\n",
    "    a = list([x + 1 for x in range(group_size)])\n",
    "    while len(a) != 1:\n",
    "        hc = len(a) // 2\n",
    "        d = (i + hc) % len(a)\n",
    "        x = a[i]\n",
    "        del a[d]\n",
    "        i = (a.index(x) + 1) % len(a)\n",
    "    return a[0]"
   ]
  },
  {
   "cell_type": "code",
   "execution_count": 248,
   "id": "26ce3ee8-1f1d-418f-a841-ab415eb6c93b",
   "metadata": {},
   "outputs": [
    {
     "data": {
      "text/plain": [
       "2"
      ]
     },
     "execution_count": 248,
     "metadata": {},
     "output_type": "execute_result"
    }
   ],
   "source": [
    "find(5)"
   ]
  },
  {
   "cell_type": "code",
   "execution_count": 249,
   "id": "0fba1e10-6827-4523-9efa-b21c6561f0a4",
   "metadata": {},
   "outputs": [
    {
     "ename": "KeyboardInterrupt",
     "evalue": "",
     "output_type": "error",
     "traceback": [
      "\u001b[0;31m---------------------------------------------------------------------------\u001b[0m",
      "\u001b[0;31mKeyboardInterrupt\u001b[0m                         Traceback (most recent call last)",
      "\u001b[0;32m/var/folders/x4/t1fx1l8s0f97y033bl0gpgcr0000gn/T/ipykernel_6766/907979607.py\u001b[0m in \u001b[0;36m<module>\u001b[0;34m\u001b[0m\n\u001b[0;32m----> 1\u001b[0;31m \u001b[0mfind\u001b[0m\u001b[0;34m(\u001b[0m\u001b[0;36m3001330\u001b[0m\u001b[0;34m)\u001b[0m\u001b[0;34m\u001b[0m\u001b[0;34m\u001b[0m\u001b[0m\n\u001b[0m",
      "\u001b[0;32m/var/folders/x4/t1fx1l8s0f97y033bl0gpgcr0000gn/T/ipykernel_6766/3707018713.py\u001b[0m in \u001b[0;36mfind\u001b[0;34m(group_size, i)\u001b[0m\n\u001b[1;32m      6\u001b[0m         \u001b[0mx\u001b[0m \u001b[0;34m=\u001b[0m \u001b[0ma\u001b[0m\u001b[0;34m[\u001b[0m\u001b[0mi\u001b[0m\u001b[0;34m]\u001b[0m\u001b[0;34m\u001b[0m\u001b[0;34m\u001b[0m\u001b[0m\n\u001b[1;32m      7\u001b[0m         \u001b[0;32mdel\u001b[0m \u001b[0ma\u001b[0m\u001b[0;34m[\u001b[0m\u001b[0md\u001b[0m\u001b[0;34m]\u001b[0m\u001b[0;34m\u001b[0m\u001b[0;34m\u001b[0m\u001b[0m\n\u001b[0;32m----> 8\u001b[0;31m         \u001b[0mi\u001b[0m \u001b[0;34m=\u001b[0m \u001b[0;34m(\u001b[0m\u001b[0ma\u001b[0m\u001b[0;34m.\u001b[0m\u001b[0mindex\u001b[0m\u001b[0;34m(\u001b[0m\u001b[0mx\u001b[0m\u001b[0;34m)\u001b[0m \u001b[0;34m+\u001b[0m \u001b[0;36m1\u001b[0m\u001b[0;34m)\u001b[0m \u001b[0;34m%\u001b[0m \u001b[0mlen\u001b[0m\u001b[0;34m(\u001b[0m\u001b[0ma\u001b[0m\u001b[0;34m)\u001b[0m\u001b[0;34m\u001b[0m\u001b[0;34m\u001b[0m\u001b[0m\n\u001b[0m\u001b[1;32m      9\u001b[0m     \u001b[0;32mreturn\u001b[0m \u001b[0ma\u001b[0m\u001b[0;34m[\u001b[0m\u001b[0;36m0\u001b[0m\u001b[0;34m]\u001b[0m\u001b[0;34m\u001b[0m\u001b[0;34m\u001b[0m\u001b[0m\n",
      "\u001b[0;31mKeyboardInterrupt\u001b[0m: "
     ]
    }
   ],
   "source": [
    "find(3001330)"
   ]
  },
  {
   "cell_type": "code",
   "execution_count": null,
   "id": "b2c780be-0140-443a-b4df-555ff21a73cf",
   "metadata": {},
   "outputs": [],
   "source": []
  }
 ],
 "metadata": {
  "kernelspec": {
   "display_name": "Python (DE)",
   "language": "python",
   "name": "python3"
  },
  "language_info": {
   "codemirror_mode": {
    "name": "ipython",
    "version": 3
   },
   "file_extension": ".py",
   "mimetype": "text/x-python",
   "name": "python",
   "nbconvert_exporter": "python",
   "pygments_lexer": "ipython3",
   "version": "3.7.12"
  }
 },
 "nbformat": 4,
 "nbformat_minor": 5
}
