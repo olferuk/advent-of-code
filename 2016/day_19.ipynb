{
 "cells": [
  {
   "cell_type": "code",
   "execution_count": 1,
   "id": "7e8d92af-afcf-4633-ab01-4dc0e9c7fbcc",
   "metadata": {},
   "outputs": [],
   "source": [
    "%load_ext lab_black\n",
    "%load_ext autoreload\n",
    "%autoreload 2\n",
    "\n",
    "from puzzles import load, load_tokens"
   ]
  },
  {
   "cell_type": "code",
   "execution_count": 2,
   "id": "1c1902aa-96d0-4b5e-bd4c-acfcea87864b",
   "metadata": {},
   "outputs": [
    {
     "data": {
      "text/plain": [
       "3001330"
      ]
     },
     "execution_count": 2,
     "metadata": {},
     "output_type": "execute_result"
    }
   ],
   "source": [
    "N = int(load(19).strip())\n",
    "N"
   ]
  },
  {
   "cell_type": "code",
   "execution_count": 3,
   "id": "c6560949-40dd-4b41-8534-b83e78837d56",
   "metadata": {},
   "outputs": [],
   "source": [
    "from typing import Tuple"
   ]
  },
  {
   "cell_type": "code",
   "execution_count": 4,
   "id": "e3821b7e-e6a0-4d95-b25d-4731459bcf3e",
   "metadata": {},
   "outputs": [],
   "source": [
    "from functools import lru_cache"
   ]
  },
  {
   "cell_type": "code",
   "execution_count": 5,
   "id": "09b408a0-35a4-48e9-888f-7c9cfa329de7",
   "metadata": {},
   "outputs": [],
   "source": [
    "@lru_cache(maxsize=int(3e6))\n",
    "def get_last(group_size: int, index: int) -> Tuple[Tuple, int]:\n",
    "    a = list(range(group_size))\n",
    "    if index == group_size - 1:\n",
    "        return tuple(a[1:]), 0\n",
    "    first, rest = a[:index], a[index:]\n",
    "    is_zero = len(rest) % 2 == 0\n",
    "    d = tuple(first + rest[::2])\n",
    "    return d, len(d) - 1 if not is_zero else 0  #"
   ]
  },
  {
   "cell_type": "code",
   "execution_count": 6,
   "id": "12eeb2da-f203-4252-8383-54cbabca379c",
   "metadata": {},
   "outputs": [
    {
     "name": "stdout",
     "output_type": "stream",
     "text": [
      "((0,), 0)\n"
     ]
    }
   ],
   "source": [
    "print(get_last(2, 0))"
   ]
  },
  {
   "cell_type": "code",
   "execution_count": 7,
   "id": "e74f1a7f-0834-4fef-a179-6f6b10eedd91",
   "metadata": {},
   "outputs": [
    {
     "name": "stdout",
     "output_type": "stream",
     "text": [
      "((1,), 0)\n"
     ]
    }
   ],
   "source": [
    "print(get_last(2, 1))"
   ]
  },
  {
   "cell_type": "code",
   "execution_count": 8,
   "id": "0b53cf06-087c-4963-b2ba-d204ae2ab6d7",
   "metadata": {},
   "outputs": [
    {
     "name": "stdout",
     "output_type": "stream",
     "text": [
      "((0, 2), 1)\n"
     ]
    }
   ],
   "source": [
    "print(get_last(3, 0))"
   ]
  },
  {
   "cell_type": "code",
   "execution_count": 9,
   "id": "dd26777e-1cb4-4719-a81d-bd9375933320",
   "metadata": {},
   "outputs": [
    {
     "name": "stdout",
     "output_type": "stream",
     "text": [
      "((0, 1), 0)\n"
     ]
    }
   ],
   "source": [
    "print(get_last(3, 1))"
   ]
  },
  {
   "cell_type": "code",
   "execution_count": 10,
   "id": "2da103b9-5e8a-4ddc-aae2-63740b7bd6ee",
   "metadata": {},
   "outputs": [
    {
     "name": "stdout",
     "output_type": "stream",
     "text": [
      "((1, 2), 0)\n"
     ]
    }
   ],
   "source": [
    "print(get_last(3, 2))"
   ]
  },
  {
   "cell_type": "code",
   "execution_count": 11,
   "id": "7f7c48f3-c335-4644-a617-b930109562a2",
   "metadata": {},
   "outputs": [],
   "source": [
    "def get_the_very_last(group_size: int, index: int = 0) -> int:\n",
    "    t, index = get_last(group_size, index)\n",
    "    while len(t) != 1:\n",
    "        t_new, index = get_last(len(t), index)\n",
    "        t = tuple(t[x] for x in t_new)\n",
    "    return t[0] + 1"
   ]
  },
  {
   "cell_type": "code",
   "execution_count": 12,
   "id": "9691c485-8304-4536-bc46-3f21dcd7592a",
   "metadata": {},
   "outputs": [],
   "source": [
    "import time"
   ]
  },
  {
   "cell_type": "code",
   "execution_count": 13,
   "id": "147546fa-5778-42db-b65c-b6d025de7cba",
   "metadata": {},
   "outputs": [
    {
     "name": "stdout",
     "output_type": "stream",
     "text": [
      "took 1.0053\n"
     ]
    }
   ],
   "source": [
    "t = time.perf_counter()\n",
    "get_the_very_last(3001330)\n",
    "print(f\"took {time.perf_counter() - t:.4f}\")"
   ]
  },
  {
   "cell_type": "markdown",
   "id": "993a7709-8e4a-4854-b1a5-eb125776475a",
   "metadata": {},
   "source": [
    "---"
   ]
  },
  {
   "cell_type": "code",
   "execution_count": 23,
   "id": "ff0bcf25-8f7f-4468-9927-8b5fa58a117b",
   "metadata": {},
   "outputs": [],
   "source": [
    "import numpy as np"
   ]
  },
  {
   "cell_type": "code",
   "execution_count": 24,
   "id": "fd44403f-6abb-49b8-be24-c6a040bf4b93",
   "metadata": {},
   "outputs": [],
   "source": [
    "def find(group_size: int, i: int = 0):\n",
    "    a = list([x + 1 for x in range(group_size)])\n",
    "    while len(a) != 1:\n",
    "        hc = len(a) // 2\n",
    "        d = (i + hc) % len(a)\n",
    "        x = a[i]\n",
    "        del a[d]\n",
    "        i = (a.index(x) + 1) % len(a)\n",
    "    return a[0]"
   ]
  },
  {
   "cell_type": "code",
   "execution_count": 90,
   "id": "e14662b0-2fef-4d4f-91cb-2594276a99f2",
   "metadata": {},
   "outputs": [],
   "source": [
    "def find(group_size: int, i: int = 0):\n",
    "    m = np.ones(group_size, dtype=int)\n",
    "\n",
    "    while m.sum() > 1:\n",
    "        w = np.where(m)[0]\n",
    "        print(w)\n",
    "        d = (i + (len(w) - 1) // 2) % len(w)\n",
    "        print(\"\\t\\t\", i, \">\", d)\n",
    "        m[w[d]] = 0\n",
    "        w = np.where(m)[0]\n",
    "        i = w[(i + 1) % len(w)]\n",
    "        print(\"\\t\\t\", i)\n",
    "\n",
    "    return np.where(m)"
   ]
  },
  {
   "cell_type": "code",
   "execution_count": 91,
   "id": "d0c2c66a-0ae0-42df-84e3-42c6f28c10be",
   "metadata": {},
   "outputs": [
    {
     "name": "stdout",
     "output_type": "stream",
     "text": [
      "[0 1 2 3 4]\n",
      "\t\t 0 > 2\n",
      "\t\t 1\n",
      "[0 1 3 4]\n",
      "\t\t 1 > 2\n",
      "\t\t 4\n",
      "[0 1 4]\n",
      "\t\t 4 > 2\n",
      "\t\t 1\n",
      "[0 1]\n",
      "\t\t 1 > 1\n",
      "\t\t 0\n"
     ]
    },
    {
     "data": {
      "text/plain": [
       "(array([0]),)"
      ]
     },
     "execution_count": 91,
     "metadata": {},
     "output_type": "execute_result"
    }
   ],
   "source": [
    "find(5)"
   ]
  },
  {
   "cell_type": "code",
   "execution_count": 60,
   "id": "5f1d1b6b-902b-4f71-9607-d18780498724",
   "metadata": {},
   "outputs": [
    {
     "data": {
      "text/plain": [
       "array([1., 1., 1., 1., 1.])"
      ]
     },
     "execution_count": 60,
     "metadata": {},
     "output_type": "execute_result"
    }
   ],
   "source": [
    "m = np.ones(5)\n",
    "m"
   ]
  },
  {
   "cell_type": "code",
   "execution_count": null,
   "id": "26a06429-a276-4a05-9886-38207d0c0bf6",
   "metadata": {},
   "outputs": [],
   "source": [
    "i = 0\n",
    "w = np.where(m)[0]\n",
    "\n",
    "w\n",
    "\n",
    "d = (i + len(w) // 2) % len(w)\n",
    "d\n",
    "\n",
    "m[w[d]] = 0\n",
    "\n",
    "w = np.where(m)[0]\n",
    "w\n",
    "\n",
    "i = w[(i + 1) % len(w)]\n",
    "i"
   ]
  },
  {
   "cell_type": "code",
   "execution_count": null,
   "id": "8c2033be-362c-4ea2-b0eb-01c06ac17b58",
   "metadata": {},
   "outputs": [],
   "source": []
  },
  {
   "cell_type": "code",
   "execution_count": null,
   "id": "134c401e-9e38-426a-892b-7e9125819437",
   "metadata": {},
   "outputs": [],
   "source": []
  },
  {
   "cell_type": "code",
   "execution_count": 22,
   "id": "cfb61c00-f99b-43b4-a9b5-ed81d9fc46b4",
   "metadata": {},
   "outputs": [
    {
     "data": {
      "text/plain": [
       "6.759941260999767"
      ]
     },
     "execution_count": 22,
     "metadata": {},
     "output_type": "execute_result"
    }
   ],
   "source": [
    "s = time.perf_counter()\n",
    "f = find(50000)\n",
    "e = time.perf_counter() - s\n",
    "e"
   ]
  },
  {
   "cell_type": "code",
   "execution_count": 22,
   "id": "1b743d1c-af13-4b00-9ef7-49251b8c5a80",
   "metadata": {},
   "outputs": [
    {
     "data": {
      "text/plain": [
       "6.759941260999767"
      ]
     },
     "execution_count": 22,
     "metadata": {},
     "output_type": "execute_result"
    }
   ],
   "source": [
    "s = time.perf_counter()\n",
    "f = find(50000)\n",
    "e = time.perf_counter() - s\n",
    "e"
   ]
  },
  {
   "cell_type": "raw",
   "id": "58167e38-79e7-431b-a9aa-c2cf377a7d35",
   "metadata": {},
   "source": [
    "find(3001330)"
   ]
  },
  {
   "cell_type": "code",
   "execution_count": null,
   "id": "b2c780be-0140-443a-b4df-555ff21a73cf",
   "metadata": {},
   "outputs": [],
   "source": []
  }
 ],
 "metadata": {
  "kernelspec": {
   "display_name": "Python 3 (ipykernel)",
   "language": "python",
   "name": "python3"
  },
  "language_info": {
   "codemirror_mode": {
    "name": "ipython",
    "version": 3
   },
   "file_extension": ".py",
   "mimetype": "text/x-python",
   "name": "python",
   "nbconvert_exporter": "python",
   "pygments_lexer": "ipython3",
   "version": "3.10.9"
  }
 },
 "nbformat": 4,
 "nbformat_minor": 5
}
