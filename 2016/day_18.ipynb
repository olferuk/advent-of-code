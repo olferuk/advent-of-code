{
 "cells": [
  {
   "cell_type": "code",
   "execution_count": 1,
   "id": "dd8c4c40-d7bf-408c-8a36-d004dfc317eb",
   "metadata": {},
   "outputs": [],
   "source": [
    "%load_ext lab_black\n",
    "%load_ext autoreload\n",
    "%autoreload 2\n",
    "from puzzles import load, load_tokens"
   ]
  },
  {
   "cell_type": "code",
   "execution_count": 3,
   "id": "f270082a-9c41-429e-bdb5-916ada98f263",
   "metadata": {},
   "outputs": [
    {
     "data": {
      "text/plain": [
       "'...^^^^^..^...^...^^^^^^...^.^^^.^.^.^^.^^^.....^.^^^...^^^^^^.....^.^^...^^^^^...^.^^^.^^......^^^^'"
      ]
     },
     "execution_count": 3,
     "metadata": {},
     "output_type": "execute_result"
    }
   ],
   "source": [
    "s = load(18).strip()\n",
    "s"
   ]
  },
  {
   "cell_type": "markdown",
   "id": "c82d4d9a-3254-490d-8adf-2f0e10cb561e",
   "metadata": {},
   "source": [
    "Then, a new tile is a trap only in one of the following situations:\n",
    "\n",
    "* `^^. -> ^` Its **left** and **center** tiles are traps, but its **right** tile is not.\n",
    "* `.^^ -> ^` Its **center** and **right** tiles are traps, but its left tile is not.\n",
    "* `^.. -> ^` Only its left tile is a trap.\n",
    "* `..^ -> ^` Only its right tile is a trap."
   ]
  },
  {
   "cell_type": "code",
   "execution_count": 7,
   "id": "0d659229-cbba-468a-8f04-3b100c57ce19",
   "metadata": {},
   "outputs": [],
   "source": [
    "def split(s):\n",
    "    s_safe = \".\" + s + \".\"\n",
    "    for i in range(len(s_safe) - 2):\n",
    "        yield s_safe[i : i + 3]"
   ]
  },
  {
   "cell_type": "code",
   "execution_count": 9,
   "id": "934ddfd9-afad-4c6f-a30a-58ad20bbb413",
   "metadata": {},
   "outputs": [],
   "source": [
    "def make_producer():\n",
    "    traps_set = {\n",
    "        \"^^.\",\n",
    "        \".^^\",\n",
    "        \"^..\",\n",
    "        \"..^\",\n",
    "    }\n",
    "\n",
    "    def produce(part):\n",
    "        if part in traps_set:\n",
    "            return \"^\"\n",
    "        return \".\"\n",
    "\n",
    "    return produce"
   ]
  },
  {
   "cell_type": "code",
   "execution_count": 10,
   "id": "113b0cd3-db29-4697-8fea-bca09126c21a",
   "metadata": {},
   "outputs": [],
   "source": [
    "produce = make_producer()"
   ]
  },
  {
   "cell_type": "code",
   "execution_count": 13,
   "id": "bc321f51-3603-4fb0-b4d0-dfba916cfc0c",
   "metadata": {},
   "outputs": [],
   "source": [
    "def process_line(line, producer):\n",
    "    return \"\".join([produce(token) for token in split(line)])"
   ]
  },
  {
   "cell_type": "code",
   "execution_count": 18,
   "id": "07049546-3d4d-4328-ae63-05f9853ec502",
   "metadata": {},
   "outputs": [
    {
     "data": {
      "text/plain": [
       "['.^^.^.^^^^',\n",
       " '^^^...^..^',\n",
       " '^.^^.^.^^.',\n",
       " '..^^...^^^',\n",
       " '.^^^^.^^.^',\n",
       " '^^..^.^^..',\n",
       " '^^^^..^^^.',\n",
       " '^..^^^^.^^',\n",
       " '.^^^..^.^^',\n",
       " '^^.^^^..^^']"
      ]
     },
     "execution_count": 18,
     "metadata": {},
     "output_type": "execute_result"
    }
   ],
   "source": [
    "s = \".^^.^.^^^^\"\n",
    "\n",
    "data = []\n",
    "for _ in range(10):\n",
    "    data.append(s)\n",
    "    s = process_line(s, produce)\n",
    "\n",
    "data"
   ]
  },
  {
   "cell_type": "code",
   "execution_count": 20,
   "id": "c1494dd4-f3a6-487f-8e88-59e7bd89df1d",
   "metadata": {},
   "outputs": [
    {
     "data": {
      "text/plain": [
       "38"
      ]
     },
     "execution_count": 20,
     "metadata": {},
     "output_type": "execute_result"
    }
   ],
   "source": [
    "sum([c == \".\" for l in data for c in l])"
   ]
  },
  {
   "cell_type": "code",
   "execution_count": 21,
   "id": "9cc9c11f-e409-4945-b799-e4fe4d45d2d9",
   "metadata": {},
   "outputs": [
    {
     "data": {
      "text/plain": [
       "1982"
      ]
     },
     "execution_count": 21,
     "metadata": {},
     "output_type": "execute_result"
    }
   ],
   "source": [
    "s = load(18).strip()\n",
    "\n",
    "data = []\n",
    "for _ in range(40):\n",
    "    data.append(s)\n",
    "    s = process_line(s, produce)\n",
    "\n",
    "sum([c == \".\" for l in data for c in l])"
   ]
  },
  {
   "cell_type": "markdown",
   "id": "890380f3-cb4f-4661-9afd-d7a13f6569c2",
   "metadata": {},
   "source": [
    "---"
   ]
  },
  {
   "cell_type": "code",
   "execution_count": 22,
   "id": "720d099d-bf42-4029-ad4c-6009c7a63f0c",
   "metadata": {},
   "outputs": [],
   "source": [
    "from tqdm import tqdm"
   ]
  },
  {
   "cell_type": "code",
   "execution_count": 23,
   "id": "a90202fc-4af1-4791-b5fe-71c480fe4591",
   "metadata": {},
   "outputs": [
    {
     "name": "stderr",
     "output_type": "stream",
     "text": [
      "100%|██████████████████████████████████| 400000/400000 [00:18<00:00, 21775.38it/s]\n"
     ]
    },
    {
     "data": {
      "text/plain": [
       "20005203"
      ]
     },
     "execution_count": 23,
     "metadata": {},
     "output_type": "execute_result"
    }
   ],
   "source": [
    "s = load(18).strip()\n",
    "\n",
    "N = 0\n",
    "for _ in tqdm(range(400000)):\n",
    "    N += sum([c == \".\" for c in s])\n",
    "    s = process_line(s, produce)\n",
    "\n",
    "N"
   ]
  }
 ],
 "metadata": {
  "kernelspec": {
   "display_name": "Python (DE)",
   "language": "python",
   "name": "python3"
  },
  "language_info": {
   "codemirror_mode": {
    "name": "ipython",
    "version": 3
   },
   "file_extension": ".py",
   "mimetype": "text/x-python",
   "name": "python",
   "nbconvert_exporter": "python",
   "pygments_lexer": "ipython3",
   "version": "3.7.12"
  }
 },
 "nbformat": 4,
 "nbformat_minor": 5
}
