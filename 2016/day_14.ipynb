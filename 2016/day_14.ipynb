{
 "cells": [
  {
   "cell_type": "code",
   "execution_count": 20,
   "id": "d52cf270-c03d-412d-9435-f83033e6a970",
   "metadata": {},
   "outputs": [
    {
     "name": "stdout",
     "output_type": "stream",
     "text": [
      "The lab_black extension is already loaded. To reload it, use:\n",
      "  %reload_ext lab_black\n"
     ]
    }
   ],
   "source": [
    "%load_ext lab_black\n",
    "%load_ext autoreload\n",
    "%autoreload 2\n",
    "from puzzles import load, load_tokens"
   ]
  },
  {
   "cell_type": "code",
   "execution_count": 22,
   "id": "87637fc1-6de8-4619-9457-80a4a7ed04ca",
   "metadata": {},
   "outputs": [],
   "source": [
    "import hashlib\n",
    "\n",
    "\n",
    "def md5(s: str) -> str:\n",
    "    return hashlib.md5(s.encode()).hexdigest()"
   ]
  },
  {
   "cell_type": "code",
   "execution_count": 23,
   "id": "de5339e0-65fd-4dc3-bdc9-79c1715a469d",
   "metadata": {},
   "outputs": [
    {
     "data": {
      "text/plain": [
       "'0034e0923cc38887a57bd7b1d4f953df'"
      ]
     },
     "execution_count": 23,
     "metadata": {},
     "output_type": "execute_result"
    }
   ],
   "source": [
    "md5(\"abc18\")"
   ]
  },
  {
   "cell_type": "code",
   "execution_count": 82,
   "id": "163b7747-9609-41d0-a93e-e859340e86f2",
   "metadata": {},
   "outputs": [],
   "source": [
    "def get_same_chars(s: str, n: int):\n",
    "    result = []\n",
    "    for i in range(n - 1, len(s) + 1):\n",
    "        if len(set(s[i - n : i])) == 1:\n",
    "            result.append(s[i - 1])\n",
    "    return result"
   ]
  },
  {
   "cell_type": "code",
   "execution_count": 95,
   "id": "62067bde-954b-4911-aeba-f87c0792e5f5",
   "metadata": {},
   "outputs": [],
   "source": [
    "def make_hasher():\n",
    "    cache = {}\n",
    "\n",
    "    def get_hash(s):\n",
    "        if s in cache:\n",
    "            return cache[s]\n",
    "\n",
    "        s1 = s\n",
    "        for _ in range(2017):\n",
    "            s1 = md5(s1)\n",
    "        cache[s] = s1\n",
    "        return s1\n",
    "\n",
    "    return get_hash"
   ]
  },
  {
   "cell_type": "code",
   "execution_count": 96,
   "id": "1b357cfe-e0b9-456e-b420-b7506669eb3d",
   "metadata": {},
   "outputs": [
    {
     "name": "stdout",
     "output_type": "stream",
     "text": [
      "................................................................"
     ]
    }
   ],
   "source": [
    "data = load_tokens(14)[0]\n",
    "\n",
    "last_index = None\n",
    "N = 0\n",
    "success = False\n",
    "index = -1\n",
    "get_hash = make_hasher()\n",
    "\n",
    "while True:\n",
    "    index += 1\n",
    "\n",
    "    if success:\n",
    "        break\n",
    "\n",
    "    s_index = get_same_chars(get_hash(f\"{data}{index}\"), 3)\n",
    "    if len(s_index) == 0:\n",
    "        continue\n",
    "    char = s_index[0]\n",
    "\n",
    "    for another_index in range(index + 1, index + 1000):\n",
    "        s_another = has_n_equal(get_hash(f\"{data}{another_index}\"), 5)\n",
    "        if len(s_another) == 0 or len(set(s_another) & set([char])) == 0:\n",
    "            continue\n",
    "\n",
    "        last_index = index\n",
    "\n",
    "        N += 1\n",
    "        print(\".\", end=\"\")\n",
    "\n",
    "        if N == 64:\n",
    "            success = True\n",
    "        break"
   ]
  },
  {
   "cell_type": "code",
   "execution_count": 97,
   "id": "d3d13854-9b7c-430b-b6ca-912d93b20ee7",
   "metadata": {},
   "outputs": [
    {
     "data": {
      "text/plain": [
       "20092"
      ]
     },
     "execution_count": 97,
     "metadata": {},
     "output_type": "execute_result"
    }
   ],
   "source": [
    "last_index"
   ]
  },
  {
   "cell_type": "code",
   "execution_count": null,
   "id": "3e72e6fa-99a0-49b1-9514-6453f849bdc2",
   "metadata": {},
   "outputs": [],
   "source": []
  }
 ],
 "metadata": {
  "kernelspec": {
   "display_name": "Python (DE)",
   "language": "python",
   "name": "python3"
  },
  "language_info": {
   "codemirror_mode": {
    "name": "ipython",
    "version": 3
   },
   "file_extension": ".py",
   "mimetype": "text/x-python",
   "name": "python",
   "nbconvert_exporter": "python",
   "pygments_lexer": "ipython3",
   "version": "3.7.12"
  }
 },
 "nbformat": 4,
 "nbformat_minor": 5
}
