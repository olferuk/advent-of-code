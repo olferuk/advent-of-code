{
 "cells": [
  {
   "cell_type": "code",
   "execution_count": 49,
   "id": "9f310174-baa8-4fcd-a02e-afe39e25720d",
   "metadata": {},
   "outputs": [
    {
     "name": "stdout",
     "output_type": "stream",
     "text": [
      "The lab_black extension is already loaded. To reload it, use:\n",
      "  %reload_ext lab_black\n"
     ]
    }
   ],
   "source": [
    "%load_ext lab_black\n",
    "\n",
    "from puzzles import load"
   ]
  },
  {
   "cell_type": "code",
   "execution_count": 3,
   "id": "cd11b141-0e5d-4ba5-8892-63f5d5529d55",
   "metadata": {},
   "outputs": [],
   "source": [
    "keypad = [\"123\", \"456\", \"789\"]"
   ]
  },
  {
   "cell_type": "code",
   "execution_count": 7,
   "id": "424d769a-211e-4142-b777-151ee40554e6",
   "metadata": {},
   "outputs": [],
   "source": [
    "import numpy as np"
   ]
  },
  {
   "cell_type": "code",
   "execution_count": 8,
   "id": "42a91436-771a-4315-97e6-edd7fdf8333b",
   "metadata": {},
   "outputs": [],
   "source": [
    "def move(cds, command):\n",
    "    d = {\n",
    "        \"R\": np.array([0, 1]),\n",
    "        \"L\": np.array([0, -1]),\n",
    "        \"U\": np.array([-1, 0]),\n",
    "        \"D\": np.array([1, 0]),\n",
    "    }\n",
    "    cds = cds + d[command]\n",
    "    return np.clip(cds, 0, 2)"
   ]
  },
  {
   "cell_type": "code",
   "execution_count": 19,
   "id": "363233ae-6b15-48eb-99d7-1eb40e168bbb",
   "metadata": {},
   "outputs": [
    {
     "name": "stdout",
     "output_type": "stream",
     "text": [
      "82958"
     ]
    }
   ],
   "source": [
    "pos = np.array([1, 1])\n",
    "for seq in load(2).strip().split():\n",
    "    for c in seq:\n",
    "        pos = move(pos, c)\n",
    "    print(keypad[pos[0]][pos[1]], end=\"\")"
   ]
  },
  {
   "cell_type": "markdown",
   "id": "379e4fd0-a29c-4fe2-bf68-480c2beca5ce",
   "metadata": {},
   "source": [
    "---"
   ]
  },
  {
   "cell_type": "code",
   "execution_count": 41,
   "id": "9dc98af4-be4a-4683-a1f0-c89f77453323",
   "metadata": {},
   "outputs": [],
   "source": [
    "keypad = [\"  1  \", \" 234 \", \"56789\", \" ABC \", \"  D  \"]"
   ]
  },
  {
   "cell_type": "code",
   "execution_count": 42,
   "id": "210cd322-689e-4178-91d0-9294bc0a3be1",
   "metadata": {},
   "outputs": [],
   "source": [
    "pos = [2, 0]"
   ]
  },
  {
   "cell_type": "code",
   "execution_count": 43,
   "id": "1cc70d15-95ff-4237-ba97-7550f3953c5b",
   "metadata": {},
   "outputs": [
    {
     "data": {
      "text/plain": [
       "'5'"
      ]
     },
     "execution_count": 43,
     "metadata": {},
     "output_type": "execute_result"
    }
   ],
   "source": [
    "keypad[pos[0]][pos[1]]"
   ]
  },
  {
   "cell_type": "code",
   "execution_count": 44,
   "id": "1077475c-a0aa-4c20-a212-e42a3e479090",
   "metadata": {},
   "outputs": [],
   "source": [
    "def move_different(keypad, cds, command):\n",
    "    d = {\n",
    "        \"R\": np.array([0, 1]),\n",
    "        \"L\": np.array([0, -1]),\n",
    "        \"U\": np.array([-1, 0]),\n",
    "        \"D\": np.array([1, 0]),\n",
    "    }\n",
    "    new_cds = np.clip(cds + d[command], 0, 4)\n",
    "    return cds if keypad[new_cds[0]][new_cds[1]] == \" \" else new_cds"
   ]
  },
  {
   "cell_type": "code",
   "execution_count": 46,
   "id": "f1fe8c90-e7e3-46c1-a2ec-e5bb561ae081",
   "metadata": {},
   "outputs": [
    {
     "name": "stdout",
     "output_type": "stream",
     "text": [
      "B3DB8"
     ]
    }
   ],
   "source": [
    "pos = np.array([2, 0])\n",
    "for seq in load(2).strip().split():\n",
    "    for c in seq:\n",
    "        pos = move_different(keypad, pos, c)\n",
    "    print(keypad[pos[0]][pos[1]], end=\"\")"
   ]
  },
  {
   "cell_type": "code",
   "execution_count": null,
   "id": "e91bb054-125b-4fc9-9768-30d828105aaf",
   "metadata": {},
   "outputs": [],
   "source": []
  }
 ],
 "metadata": {
  "kernelspec": {
   "display_name": "platy-segmentation",
   "language": "python",
   "name": "platy-segmentation"
  },
  "language_info": {
   "codemirror_mode": {
    "name": "ipython",
    "version": 3
   },
   "file_extension": ".py",
   "mimetype": "text/x-python",
   "name": "python",
   "nbconvert_exporter": "python",
   "pygments_lexer": "ipython3",
   "version": "3.9.6"
  }
 },
 "nbformat": 4,
 "nbformat_minor": 5
}
