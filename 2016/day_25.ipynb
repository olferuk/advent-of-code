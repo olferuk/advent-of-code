{
 "cells": [
  {
   "cell_type": "code",
   "execution_count": 23,
   "id": "a6d08f69-9c76-4dbf-ab54-82d927459cda",
   "metadata": {},
   "outputs": [
    {
     "name": "stdout",
     "output_type": "stream",
     "text": [
      "The lab_black extension is already loaded. To reload it, use:\n",
      "  %reload_ext lab_black\n"
     ]
    }
   ],
   "source": [
    "%load_ext lab_black\n",
    "\n",
    "from puzzles import load"
   ]
  },
  {
   "cell_type": "code",
   "execution_count": 24,
   "id": "7458ac72-3184-4145-b11b-758fd17c1f06",
   "metadata": {},
   "outputs": [],
   "source": [
    "from tqdm import tqdm"
   ]
  },
  {
   "cell_type": "code",
   "execution_count": null,
   "id": "58385e7f-b573-4949-94eb-61c17c3d4980",
   "metadata": {},
   "outputs": [],
   "source": [
    "for a_init in tqdm(range(1)):\n",
    "\n",
    "    MEMORY = {\n",
    "        \"a\": 0,\n",
    "        \"b\": 0,\n",
    "        \"c\": 0,\n",
    "        \"d\": 0,\n",
    "    }\n",
    "    OUTPUT = \"\"\n",
    "\n",
    "    def cpy(i, x, y):\n",
    "        if x.isdigit():\n",
    "            MEMORY[y] = int(x)\n",
    "        else:\n",
    "            MEMORY[y] = MEMORY[x]\n",
    "        return i + 1\n",
    "\n",
    "    def inc(i, x, y=None):\n",
    "        v = int(y) if y is not None else 1\n",
    "        MEMORY[x] += 1\n",
    "        return i + 1\n",
    "\n",
    "    def dec(i, x, y=None):\n",
    "        v = int(y) if y is not None else 1\n",
    "        MEMORY[x] -= v\n",
    "        return i + 1\n",
    "\n",
    "    def jnz(i, x, y):\n",
    "        if x.isdigit():\n",
    "            if int(x) != 0:\n",
    "                return i + int(y)\n",
    "            return i + 1\n",
    "        if MEMORY[x] != 0:\n",
    "            return i + int(y)\n",
    "        return i + 1\n",
    "\n",
    "    def out(i, x):\n",
    "        global OUTPUT\n",
    "        if x.isdigit():\n",
    "            OUTPUT += x\n",
    "        else:\n",
    "            OUTPUT += f\"{MEMORY[x]}\"\n",
    "        return i + 1\n",
    "\n",
    "    cmds = {\"cpy\": cpy, \"jnz\": jnz, \"inc\": inc, \"dec\": dec, \"out\": out}\n",
    "\n",
    "    commands_stack = load(25).strip().split(\"\\n\")\n",
    "    # commands_stack = new_commands_stack\n",
    "\n",
    "    i = 0\n",
    "    for _ in range(1_000_000):\n",
    "        cmd_text = commands_stack[i]\n",
    "        cmd, *args = cmd_text.split()\n",
    "        i = cmds[cmd](i, *args)\n",
    "        if i >= len(commands_stack):\n",
    "            break\n",
    "\n",
    "    if OUTPUT.startswith(\"01\" * 200):\n",
    "        print(a_init)\n",
    "        break"
   ]
  },
  {
   "cell_type": "code",
   "execution_count": 28,
   "id": "62c99f3c-c8b4-46ee-bbe2-04deb77105ee",
   "metadata": {},
   "outputs": [],
   "source": [
    "new_commands_stack = [\n",
    "    \"cpy a d\",\n",
    "    \"cpy 7 c\",\n",
    "    \"cpy 0 b\",\n",
    "    \"inc d 365\",\n",
    "    \"dec c\",\n",
    "    \"jnz c -2\",\n",
    "    \n",
    "     'cpy d a',\n",
    "     # 'jnz 0 0',\n",
    "     'cpy a b',\n",
    "     'cpy 0 a',\n",
    "     'cpy 2 c',\n",
    "     'jnz b 2',\n",
    "     'jnz 1 6',\n",
    "     'dec b',\n",
    "     'dec c',\n",
    "     'jnz c -4',\n",
    "\n",
    "]"
   ]
  },
  {
   "cell_type": "code",
   "execution_count": 19,
   "id": "33a9c883-e72b-4189-9870-d0f997fe601d",
   "metadata": {},
   "outputs": [
    {
     "data": {
      "text/plain": [
       "['cpy a d',\n",
       " 'cpy 7 c',\n",
       " 'cpy 365 b',\n",
       " 'inc d',\n",
       " 'dec b',\n",
       " 'jnz b -2',\n",
       " 'dec c',\n",
       " 'jnz c -5',\n",
       " 'cpy d a',\n",
       " 'jnz 0 0',\n",
       " 'cpy a b',\n",
       " 'cpy 0 a',\n",
       " 'cpy 2 c',\n",
       " 'jnz b 2',\n",
       " 'jnz 1 6',\n",
       " 'dec b',\n",
       " 'dec c',\n",
       " 'jnz c -4',\n",
       " 'inc a',\n",
       " 'jnz 1 -7',\n",
       " 'cpy 2 b',\n",
       " 'jnz c 2',\n",
       " 'jnz 1 4',\n",
       " 'dec b',\n",
       " 'dec c',\n",
       " 'jnz 1 -4',\n",
       " 'jnz 0 0',\n",
       " 'out b',\n",
       " 'jnz a -19',\n",
       " 'jnz 1 -21']"
      ]
     },
     "execution_count": 19,
     "metadata": {},
     "output_type": "execute_result"
    }
   ],
   "source": [
    "commands_stack"
   ]
  },
  {
   "cell_type": "code",
   "execution_count": null,
   "id": "891f53cc-7fb0-4a6d-a203-279dedac16f9",
   "metadata": {},
   "outputs": [],
   "source": []
  }
 ],
 "metadata": {
  "kernelspec": {
   "display_name": "platy-segmentation",
   "language": "python",
   "name": "platy-segmentation"
  },
  "language_info": {
   "codemirror_mode": {
    "name": "ipython",
    "version": 3
   },
   "file_extension": ".py",
   "mimetype": "text/x-python",
   "name": "python",
   "nbconvert_exporter": "python",
   "pygments_lexer": "ipython3",
   "version": "3.9.6"
  }
 },
 "nbformat": 4,
 "nbformat_minor": 5
}
