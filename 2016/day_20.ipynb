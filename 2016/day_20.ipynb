{
 "cells": [
  {
   "cell_type": "code",
   "execution_count": 3,
   "id": "57bf72f9-0d90-4783-a7db-0156d784dc13",
   "metadata": {},
   "outputs": [
    {
     "name": "stdout",
     "output_type": "stream",
     "text": [
      "The lab_black extension is already loaded. To reload it, use:\n",
      "  %reload_ext lab_black\n",
      "The autoreload extension is already loaded. To reload it, use:\n",
      "  %reload_ext autoreload\n"
     ]
    }
   ],
   "source": [
    "%load_ext lab_black\n",
    "%load_ext autoreload\n",
    "%autoreload 2\n",
    "from puzzles import load, load_tokens, load_lines"
   ]
  },
  {
   "cell_type": "code",
   "execution_count": 120,
   "id": "fcd40489-5162-4a31-a53e-07d0e79d624c",
   "metadata": {},
   "outputs": [],
   "source": [
    "def get_data():\n",
    "    for line in load_lines(20):\n",
    "        mi, ma = line.split(\"-\")\n",
    "        yield [int(mi), int(ma)]"
   ]
  },
  {
   "cell_type": "code",
   "execution_count": 6,
   "id": "43925548-14a7-4d82-af69-2d3411ad705b",
   "metadata": {},
   "outputs": [],
   "source": [
    "data = list(get_data())"
   ]
  },
  {
   "cell_type": "code",
   "execution_count": 7,
   "id": "48a81ce7-c7f7-423f-ba8b-1bf579342cbb",
   "metadata": {},
   "outputs": [
    {
     "data": {
      "text/plain": [
       "(272152717, 281364173)"
      ]
     },
     "execution_count": 7,
     "metadata": {},
     "output_type": "execute_result"
    }
   ],
   "source": [
    "data[0]"
   ]
  },
  {
   "cell_type": "code",
   "execution_count": 8,
   "id": "03d9d99b-1818-4ff8-b012-803b6fb0196a",
   "metadata": {},
   "outputs": [
    {
     "data": {
      "text/plain": [
       "1104"
      ]
     },
     "execution_count": 8,
     "metadata": {},
     "output_type": "execute_result"
    }
   ],
   "source": [
    "len(data)"
   ]
  },
  {
   "cell_type": "code",
   "execution_count": 19,
   "id": "b685fb12-b996-40a4-b8a2-7e1e228836d3",
   "metadata": {},
   "outputs": [
    {
     "data": {
      "text/plain": [
       "4294967296"
      ]
     },
     "execution_count": 19,
     "metadata": {},
     "output_type": "execute_result"
    }
   ],
   "source": [
    "2**32"
   ]
  },
  {
   "cell_type": "code",
   "execution_count": 21,
   "id": "5ac54d2e-2c4e-42af-8686-ef19e0b8359d",
   "metadata": {},
   "outputs": [],
   "source": [
    "from tqdm import tqdm"
   ]
  },
  {
   "cell_type": "code",
   "execution_count": 22,
   "id": "35a8be30-d4cb-4910-93f3-4ea6f369b85d",
   "metadata": {},
   "outputs": [
    {
     "name": "stderr",
     "output_type": "stream",
     "text": [
      "  0%|                           | 166617/4294967295 [00:43<311:46:36, 3826.45it/s]\n"
     ]
    },
    {
     "ename": "KeyboardInterrupt",
     "evalue": "",
     "output_type": "error",
     "traceback": [
      "\u001b[0;31m---------------------------------------------------------------------------\u001b[0m",
      "\u001b[0;31mKeyboardInterrupt\u001b[0m                         Traceback (most recent call last)",
      "\u001b[0;32m/var/folders/x4/t1fx1l8s0f97y033bl0gpgcr0000gn/T/ipykernel_11403/2441689622.py\u001b[0m in \u001b[0;36m<module>\u001b[0;34m\u001b[0m\n\u001b[1;32m      2\u001b[0m \u001b[0;34m\u001b[0m\u001b[0m\n\u001b[1;32m      3\u001b[0m     \u001b[0md\u001b[0m \u001b[0;34m=\u001b[0m \u001b[0mset\u001b[0m\u001b[0;34m(\u001b[0m\u001b[0;34m)\u001b[0m\u001b[0;34m\u001b[0m\u001b[0;34m\u001b[0m\u001b[0m\n\u001b[0;32m----> 4\u001b[0;31m     \u001b[0;32mfor\u001b[0m \u001b[0ml\u001b[0m \u001b[0;32min\u001b[0m \u001b[0mdata\u001b[0m\u001b[0;34m:\u001b[0m\u001b[0;34m\u001b[0m\u001b[0;34m\u001b[0m\u001b[0m\n\u001b[0m\u001b[1;32m      5\u001b[0m         \u001b[0mmi\u001b[0m\u001b[0;34m,\u001b[0m \u001b[0mma\u001b[0m \u001b[0;34m=\u001b[0m \u001b[0ml\u001b[0m\u001b[0;34m\u001b[0m\u001b[0;34m\u001b[0m\u001b[0m\n\u001b[1;32m      6\u001b[0m         \u001b[0md\u001b[0m\u001b[0;34m.\u001b[0m\u001b[0madd\u001b[0m\u001b[0;34m(\u001b[0m\u001b[0;32mnot\u001b[0m \u001b[0;34m(\u001b[0m\u001b[0mmi\u001b[0m \u001b[0;34m<=\u001b[0m \u001b[0mx\u001b[0m \u001b[0;34m<=\u001b[0m \u001b[0mma\u001b[0m\u001b[0;34m)\u001b[0m\u001b[0;34m)\u001b[0m\u001b[0;34m\u001b[0m\u001b[0;34m\u001b[0m\u001b[0m\n",
      "\u001b[0;31mKeyboardInterrupt\u001b[0m: "
     ]
    }
   ],
   "source": [
    "for x in tqdm(range(1, 4294967296)):\n",
    "\n",
    "    d = set()\n",
    "    for l in data:\n",
    "        mi, ma = l\n",
    "        d.add(not (mi <= x <= ma))\n",
    "\n",
    "    if d == {True}:\n",
    "        found = x\n",
    "        break\n",
    "\n",
    "found"
   ]
  },
  {
   "cell_type": "code",
   "execution_count": 118,
   "id": "56d14004-268f-4fb5-898e-1ccc4e1ebbcd",
   "metadata": {},
   "outputs": [],
   "source": [
    "def merge(intervals):\n",
    "    if len(intervals) == 0 or len(intervals) == 1:\n",
    "        return intervals\n",
    "\n",
    "    intervals.sort(key=lambda x: x[0])\n",
    "\n",
    "    result = [intervals[0]]\n",
    "    for interval in intervals[1:]:\n",
    "        if interval[0] <= result[-1][1] + 1:\n",
    "            result[-1][1] = max(result[-1][1], interval[1])\n",
    "        else:\n",
    "            result.append(interval)\n",
    "    return result"
   ]
  },
  {
   "cell_type": "code",
   "execution_count": 128,
   "id": "9476bb3b-aff5-4024-a591-710de17589c6",
   "metadata": {},
   "outputs": [
    {
     "data": {
      "text/plain": [
       "([[0, 23923782], [23923784, 56528831]],\n",
       " [[4245296921, 4284962279], [4284962281, 4294967295]])"
      ]
     },
     "execution_count": 128,
     "metadata": {},
     "output_type": "execute_result"
    }
   ],
   "source": [
    "data = list(get_data())\n",
    "result = merge(data)\n",
    "result[:2], result[-2:]"
   ]
  },
  {
   "cell_type": "code",
   "execution_count": 127,
   "id": "189a2202-ba93-4106-bdd5-74fe7f575ddb",
   "metadata": {},
   "outputs": [
    {
     "data": {
      "text/plain": [
       "125"
      ]
     },
     "execution_count": 127,
     "metadata": {},
     "output_type": "execute_result"
    }
   ],
   "source": [
    "N = 0\n",
    "for a, b in zip(result, result[1:]):\n",
    "    N += max(0, b[0] - a[1] - 1)\n",
    "N"
   ]
  }
 ],
 "metadata": {
  "kernelspec": {
   "display_name": "Python (DE)",
   "language": "python",
   "name": "python3"
  },
  "language_info": {
   "codemirror_mode": {
    "name": "ipython",
    "version": 3
   },
   "file_extension": ".py",
   "mimetype": "text/x-python",
   "name": "python",
   "nbconvert_exporter": "python",
   "pygments_lexer": "ipython3",
   "version": "3.7.12"
  }
 },
 "nbformat": 4,
 "nbformat_minor": 5
}
