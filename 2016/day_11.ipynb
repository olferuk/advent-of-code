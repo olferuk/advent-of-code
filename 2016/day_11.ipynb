{
 "cells": [
  {
   "cell_type": "code",
   "execution_count": 35,
   "id": "97ecdd6a-53a1-4cd7-acb4-9454938066ea",
   "metadata": {},
   "outputs": [
    {
     "name": "stdout",
     "output_type": "stream",
     "text": [
      "The lab_black extension is already loaded. To reload it, use:\n",
      "  %reload_ext lab_black\n"
     ]
    }
   ],
   "source": [
    "%load_ext lab_black"
   ]
  },
  {
   "cell_type": "code",
   "execution_count": 83,
   "id": "e36290ef-6888-4897-b16f-db1dcf5dde9a",
   "metadata": {},
   "outputs": [],
   "source": [
    "from itertools import combinations, product"
   ]
  },
  {
   "cell_type": "code",
   "execution_count": 47,
   "id": "d20dde76-504d-49e4-bc9e-b82dfdc25986",
   "metadata": {},
   "outputs": [],
   "source": [
    "def copy(floors):\n",
    "    return [floor[::] for floor in floors]"
   ]
  },
  {
   "cell_type": "code",
   "execution_count": 101,
   "id": "eb085dae-dc5a-4f84-98b2-6e8d97074d1d",
   "metadata": {},
   "outputs": [],
   "source": [
    "def print_floors(floors, elevator):\n",
    "    order = sorted(\n",
    "        [\"PrG\", \"PrM\", \"CoG\", \"CuG\", \"RuG\", \"PlG\", \"CoM\", \"CuM\", \"RuM\", \"PlM\"]\n",
    "    )\n",
    "    for fnum in range(1, len(floors) + 1):\n",
    "        f = f\"F{5 - fnum} {'[E]' if elevator == len(floors) - fnum else ' . '} |\"\n",
    "        s = \"\".join(\n",
    "            [\n",
    "                f\"{order[i]}   \" if order[i] in floors[len(floors) - fnum] else \" ˚    \"\n",
    "                for i in range(len(order))\n",
    "            ]\n",
    "        )\n",
    "        print(f\"{f} {s}\")"
   ]
  },
  {
   "cell_type": "raw",
   "id": "356cd29b-6eef-4fa2-b3d7-df9152078804",
   "metadata": {},
   "source": [
    "The first floor contains a promethium generator and a promethium-compatible microchip.\n",
    "The second floor contains a cobalt generator, a curium generator, a ruthenium generator, and a plutonium generator.\n",
    "The third floor contains a cobalt-compatible microchip, a curium-compatible microchip, a ruthenium-compatible microchip, and a plutonium-compatible microchip.\n",
    "The fourth floor contains nothing relevant."
   ]
  },
  {
   "cell_type": "code",
   "execution_count": 102,
   "id": "4caafc1a-a411-465f-80db-6b11630eb80a",
   "metadata": {},
   "outputs": [],
   "source": [
    "n_steps = 0\n",
    "floors = [\n",
    "    [\"PrG\", \"PrM\"],\n",
    "    [\"CoG\", \"CuG\", \"RuG\", \"PlG\"],\n",
    "    [\"CoM\", \"CuM\", \"RuM\", \"PlM\"],\n",
    "    [],\n",
    "]\n",
    "elevator = 0"
   ]
  },
  {
   "cell_type": "code",
   "execution_count": 103,
   "id": "d47a9525-d0cc-4bb4-8352-880c063bb879",
   "metadata": {},
   "outputs": [
    {
     "name": "stdout",
     "output_type": "stream",
     "text": [
      "F4  .  |  ˚     ˚     ˚     ˚     ˚     ˚     ˚     ˚     ˚     ˚    \n",
      "F3  .  |  ˚    CoM    ˚    CuM    ˚    PlM    ˚     ˚     ˚    RuM   \n",
      "F2  .  | CoG    ˚    CuG    ˚    PlG    ˚     ˚     ˚    RuG    ˚    \n",
      "F1 [E] |  ˚     ˚     ˚     ˚     ˚     ˚    PrG   PrM    ˚     ˚    \n"
     ]
    }
   ],
   "source": [
    "print_floors(floors, elevator)"
   ]
  },
  {
   "cell_type": "raw",
   "id": "5b26212a-a5e5-4b89-b153-8a03c665aaef",
   "metadata": {},
   "source": [
    "if a chip is ever left in the same area as another RTG, and it's not connected to its own RTG, the chip will be fried"
   ]
  },
  {
   "cell_type": "code",
   "execution_count": 92,
   "id": "724a295d-90a9-4a37-bda6-64778f22cca2",
   "metadata": {},
   "outputs": [],
   "source": [
    "def will_fry(floor):\n",
    "    chips = {x[:-1] for x in floor if x.endswith(\"M\")}\n",
    "    gens = {x[:-1] for x in floor if x.endswith(\"G\")}\n",
    "    return len(chips.difference(gens)) > 0\n",
    "\n",
    "\n",
    "def make_move(floors, what, from_where, to_where):\n",
    "    result = []\n",
    "    for i in range(len(floors)):\n",
    "        if i not in [from_where, to_where]:\n",
    "            result.append(floors[i][::])\n",
    "        elif i == from_where:\n",
    "            result.append([x for x in floors[i] if x not in what])\n",
    "        elif i == to_where:\n",
    "            result.append(floors[i] + [x for x in what])\n",
    "    return result\n",
    "\n",
    "\n",
    "def get_all_valid_moves(floors, elevator):\n",
    "    if elevator == 0:\n",
    "        shift = [1]\n",
    "    elif elevator == 3:\n",
    "        shift = [-1]\n",
    "    else:\n",
    "        shift = [-1, 1]\n",
    "    contents = floors[elevator]\n",
    "    take = list(combinations(contents, 1)) + list(combinations(contents, 2))\n",
    "    valid_moves = []\n",
    "    for sft, what in product(shift, take):\n",
    "        new_state = floors[elevator + sft][::] + list(what)\n",
    "        if not will_fry(new_state):\n",
    "            valid_moves.append(\n",
    "                (elevator + sft, make_move(floors, what, elevator, elevator + sft))\n",
    "            )\n",
    "    return valid_moves"
   ]
  },
  {
   "cell_type": "code",
   "execution_count": 104,
   "id": "1675b3a5-67da-46a7-93d4-9e0cbc901bb8",
   "metadata": {},
   "outputs": [],
   "source": [
    "class TreeNode:\n",
    "    def __init__(self, elevator, floors):\n",
    "        self.elevator = elevator\n",
    "        self.floors = floors\n",
    "        self.children = []\n",
    "\n",
    "    def has(self, elevator, floors):\n",
    "        if self._has(elevator, floors):\n",
    "            return True\n",
    "        return any([c.has(elevator, floors) for c in self.children])\n",
    "\n",
    "    def _has(self, elevator, floors):\n",
    "        if elevator != self.elevator:\n",
    "            return False\n",
    "        for fa, fb in zip(floors, self.floors):\n",
    "            if set(fa) != set(fb):\n",
    "                return False\n",
    "        return True"
   ]
  },
  {
   "cell_type": "code",
   "execution_count": null,
   "id": "7062ebf2-07e7-4858-bce2-ddef4990087b",
   "metadata": {},
   "outputs": [],
   "source": [
    "def solve(floors, elevator):\n",
    "    "
   ]
  },
  {
   "cell_type": "code",
   "execution_count": 93,
   "id": "cea6b57a-c58c-460e-8899-af53b92973cd",
   "metadata": {},
   "outputs": [
    {
     "data": {
      "text/plain": [
       "[(1,\n",
       "  [['PrM'],\n",
       "   ['CoG', 'CuG', 'RuG', 'PlG', 'PrG'],\n",
       "   ['CoM', 'CuM', 'RuM', 'PlM'],\n",
       "   []]),\n",
       " (1,\n",
       "  [[],\n",
       "   ['CoG', 'CuG', 'RuG', 'PlG', 'PrG', 'PrM'],\n",
       "   ['CoM', 'CuM', 'RuM', 'PlM'],\n",
       "   []])]"
      ]
     },
     "execution_count": 93,
     "metadata": {},
     "output_type": "execute_result"
    }
   ],
   "source": [
    "get_all_valid_moves(floors, 0)"
   ]
  },
  {
   "cell_type": "code",
   "execution_count": 87,
   "id": "762040e5-e612-4364-89e3-7a820efd7144",
   "metadata": {},
   "outputs": [
    {
     "name": "stdout",
     "output_type": "stream",
     "text": [
      "F4   | ˚     ˚     ˚     ˚     ˚     ˚     ˚     ˚     ˚     ˚     \n",
      "F3   | ˚     CoM   ˚     CuM   ˚     PlM   ˚     ˚     ˚     RuM   \n",
      "F2   | CoG   ˚     CuG   ˚     PlG   ˚     ˚     ˚     RuG   ˚     \n",
      "F1 E | ˚     ˚     ˚     ˚     ˚     ˚     PrG   PrM   ˚     ˚     \n"
     ]
    }
   ],
   "source": [
    "print_floors(floors, 0)"
   ]
  },
  {
   "cell_type": "code",
   "execution_count": null,
   "id": "799c6275-c9ee-4e3a-8b1e-76cc918c3263",
   "metadata": {},
   "outputs": [],
   "source": []
  }
 ],
 "metadata": {
  "kernelspec": {
   "display_name": "Python 3 (ipykernel)",
   "language": "python",
   "name": "python3"
  },
  "language_info": {
   "codemirror_mode": {
    "name": "ipython",
    "version": 3
   },
   "file_extension": ".py",
   "mimetype": "text/x-python",
   "name": "python",
   "nbconvert_exporter": "python",
   "pygments_lexer": "ipython3",
   "version": "3.10.9"
  }
 },
 "nbformat": 4,
 "nbformat_minor": 5
}
