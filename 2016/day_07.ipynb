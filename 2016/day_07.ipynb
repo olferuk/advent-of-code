{
 "cells": [
  {
   "cell_type": "code",
   "execution_count": 9,
   "id": "777d4ab5-9179-4926-920c-c692fa95bba0",
   "metadata": {},
   "outputs": [
    {
     "name": "stdout",
     "output_type": "stream",
     "text": [
      "The lab_black extension is already loaded. To reload it, use:\n",
      "  %reload_ext lab_black\n"
     ]
    }
   ],
   "source": [
    "%load_ext lab_black\n",
    "\n",
    "from puzzles import load_lines"
   ]
  },
  {
   "cell_type": "code",
   "execution_count": 10,
   "id": "0904f3c7-54ef-40cf-b09c-790e4d11381b",
   "metadata": {},
   "outputs": [
    {
     "data": {
      "text/plain": [
       "118"
      ]
     },
     "execution_count": 10,
     "metadata": {},
     "output_type": "execute_result"
    }
   ],
   "source": [
    "has_palindrome = (\n",
    "    lambda line, i: line[i : i + 2] == line[i + 2 : i + 4][::-1]\n",
    "    and line[i] != line[i + 1]\n",
    ")\n",
    "\n",
    "N = 0\n",
    "\n",
    "for line in load_lines(7):\n",
    "\n",
    "    brackets = False\n",
    "    ok = False\n",
    "    bad = False\n",
    "\n",
    "    for i in range(len(line)):\n",
    "        if line[i] == \"[\":\n",
    "            brackets = True\n",
    "        elif line[i] == \"]\":\n",
    "            brackets = False\n",
    "        elif has_palindrome(line, i):\n",
    "            if not brackets:\n",
    "                ok = True\n",
    "            else:\n",
    "                bad = True\n",
    "                break\n",
    "    N += int(not bad and ok)\n",
    "    \n",
    "N"
   ]
  },
  {
   "cell_type": "code",
   "execution_count": 25,
   "id": "b12a0f11-d469-48a5-b18e-6a96cf268fdf",
   "metadata": {},
   "outputs": [
    {
     "data": {
      "text/plain": [
       "260"
      ]
     },
     "execution_count": 25,
     "metadata": {},
     "output_type": "execute_result"
    }
   ],
   "source": [
    "has_palindrome = lambda line, i: line[i] == line[i + 2] and line[i] != line[i + 1]\n",
    "invert_set = lambda s: {f\"{x[1]}{x[0]}{x[1]}\" for x in s}\n",
    "\n",
    "N = 0\n",
    "\n",
    "for line in load_lines(7):\n",
    "\n",
    "    brackets = False\n",
    "\n",
    "    d_outer = set()\n",
    "    d_inner = set()\n",
    "\n",
    "    for i in range(len(line) - 2):\n",
    "        if line[i] == \"[\":\n",
    "            brackets = True\n",
    "        elif line[i] == \"]\":\n",
    "            brackets = False\n",
    "        elif has_palindrome(line, i):\n",
    "            if not brackets:\n",
    "                d_outer.add(line[i : i + 3])\n",
    "            else:\n",
    "                d_inner.add(line[i : i + 3])\n",
    "\n",
    "    d_inner = invert_set(d_inner)\n",
    "    N += int(len(d_inner & d_outer) > 0)\n",
    "\n",
    "N"
   ]
  },
  {
   "cell_type": "code",
   "execution_count": null,
   "id": "31393b3d-4478-47e2-875a-8776ef5ea7d2",
   "metadata": {},
   "outputs": [],
   "source": []
  }
 ],
 "metadata": {
  "kernelspec": {
   "display_name": "platy-segmentation",
   "language": "python",
   "name": "platy-segmentation"
  },
  "language_info": {
   "codemirror_mode": {
    "name": "ipython",
    "version": 3
   },
   "file_extension": ".py",
   "mimetype": "text/x-python",
   "name": "python",
   "nbconvert_exporter": "python",
   "pygments_lexer": "ipython3",
   "version": "3.9.6"
  }
 },
 "nbformat": 4,
 "nbformat_minor": 5
}
