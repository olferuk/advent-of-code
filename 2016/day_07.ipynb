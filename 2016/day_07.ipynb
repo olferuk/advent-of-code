{
 "cells": [
  {
   "cell_type": "code",
   "execution_count": 4,
   "id": "777d4ab5-9179-4926-920c-c692fa95bba0",
   "metadata": {},
   "outputs": [
    {
     "name": "stdout",
     "output_type": "stream",
     "text": [
      "The lab_black extension is already loaded. To reload it, use:\n",
      "  %reload_ext lab_black\n"
     ]
    }
   ],
   "source": [
    "%load_ext lab_black\n",
    "\n",
    "from puzzles import load"
   ]
  },
  {
   "cell_type": "code",
   "execution_count": 6,
   "id": "9ea2c6cb-5364-4083-8d34-21af8d738e0d",
   "metadata": {},
   "outputs": [],
   "source": [
    "i = 0"
   ]
  },
  {
   "cell_type": "code",
   "execution_count": 18,
   "id": "0904f3c7-54ef-40cf-b09c-790e4d11381b",
   "metadata": {},
   "outputs": [
    {
     "data": {
      "text/plain": [
       "34"
      ]
     },
     "execution_count": 18,
     "metadata": {},
     "output_type": "execute_result"
    }
   ],
   "source": [
    "has_palindrome = (\n",
    "    lambda line, i: line[i : i + 2] == line[i + 2 : i + 4][::-1]\n",
    "    and line[i] != line[i + 1]\n",
    ")\n",
    "\n",
    "N = 0\n",
    "\n",
    "for line in load(7).strip().split(\"\\n\"):\n",
    "    brackets = False\n",
    "    good = False\n",
    "    bad = False\n",
    "    for i, c in enumerate(line):\n",
    "        if c == \"[\":\n",
    "            brackets = True\n",
    "        elif c == \"]\":\n",
    "            brackets = True\n",
    "        elif has_palindrome(line, i):\n",
    "            if brackets:\n",
    "                bad = True\n",
    "                break\n",
    "            else:\n",
    "                good = True\n",
    "\n",
    "    N += int(good and (not bad))\n",
    "\n",
    "N"
   ]
  },
  {
   "cell_type": "code",
   "execution_count": 19,
   "id": "36add78a-88b5-4316-bb65-c736074ab2f4",
   "metadata": {},
   "outputs": [
    {
     "data": {
      "text/plain": [
       "2000"
      ]
     },
     "execution_count": 19,
     "metadata": {},
     "output_type": "execute_result"
    }
   ],
   "source": [
    "len(load(7).strip().split(\"\\n\"))"
   ]
  },
  {
   "cell_type": "code",
   "execution_count": null,
   "id": "b12a0f11-d469-48a5-b18e-6a96cf268fdf",
   "metadata": {},
   "outputs": [],
   "source": []
  }
 ],
 "metadata": {
  "kernelspec": {
   "display_name": "platy-segmentation",
   "language": "python",
   "name": "platy-segmentation"
  },
  "language_info": {
   "codemirror_mode": {
    "name": "ipython",
    "version": 3
   },
   "file_extension": ".py",
   "mimetype": "text/x-python",
   "name": "python",
   "nbconvert_exporter": "python",
   "pygments_lexer": "ipython3",
   "version": "3.9.6"
  }
 },
 "nbformat": 4,
 "nbformat_minor": 5
}
