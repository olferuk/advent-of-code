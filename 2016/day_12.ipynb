{
 "cells": [
  {
   "cell_type": "code",
   "execution_count": 1,
   "id": "ff27942d-f12c-4c92-a404-1bdf726b19c8",
   "metadata": {},
   "outputs": [],
   "source": [
    "%load_ext lab_black\n",
    "\n",
    "from puzzles import load"
   ]
  },
  {
   "cell_type": "code",
   "execution_count": 4,
   "id": "ea7fadf9-0a7d-4f84-abba-78ecdca7fd67",
   "metadata": {
    "tags": []
   },
   "outputs": [
    {
     "data": {
      "text/plain": [
       "{'a': 9227647, 'b': 5702887, 'c': 0, 'd': 0}"
      ]
     },
     "execution_count": 4,
     "metadata": {},
     "output_type": "execute_result"
    }
   ],
   "source": [
    "MEMORY = {\n",
    "    \"a\": 0,\n",
    "    \"b\": 0,\n",
    "    \"c\": 1,\n",
    "    \"d\": 0,\n",
    "}\n",
    "\n",
    "\n",
    "def cpy(i, x, y):\n",
    "    if x.isdigit():\n",
    "        MEMORY[y] = int(x)\n",
    "    else:\n",
    "        MEMORY[y] = MEMORY[x]\n",
    "    return i + 1\n",
    "\n",
    "\n",
    "def inc(i, x):\n",
    "    MEMORY[x] += 1\n",
    "    return i + 1\n",
    "\n",
    "\n",
    "def dec(i, x):\n",
    "    MEMORY[x] -= 1\n",
    "    return i + 1\n",
    "\n",
    "\n",
    "def jnz(i, x, y):\n",
    "    if x.isdigit() and int(x) != 0:\n",
    "        return i + int(y)\n",
    "    if MEMORY[x] != 0:\n",
    "        return i + int(y)\n",
    "    return i + 1\n",
    "\n",
    "\n",
    "cmds = {\n",
    "    \"cpy\": cpy,\n",
    "    \"jnz\": jnz,\n",
    "    \"inc\": inc,\n",
    "    \"dec\": dec,\n",
    "}\n",
    "\n",
    "commands_stack = load(12).strip().split(\"\\n\")\n",
    "\n",
    "i = 0\n",
    "while True:\n",
    "    cmd_text = commands_stack[i]\n",
    "    cmd, *args = cmd_text.split()\n",
    "    i = cmds[cmd](i, *args)\n",
    "    # print(\n",
    "    #     cmd_text.ljust(15), MEMORY, \"\\t\", i,\n",
    "    # )\n",
    "    if i >= len(commands_stack):\n",
    "        break\n",
    "\n",
    "MEMORY"
   ]
  },
  {
   "cell_type": "raw",
   "id": "ba05d91c-2ce8-4ed8-b02c-68b64d87b988",
   "metadata": {},
   "source": [
    "for i, x in enumerate(commands_stack):\n",
    "    print(i, \"\\t\", x)"
   ]
  }
 ],
 "metadata": {
  "kernelspec": {
   "display_name": "platy-segmentation",
   "language": "python",
   "name": "platy-segmentation"
  },
  "language_info": {
   "codemirror_mode": {
    "name": "ipython",
    "version": 3
   },
   "file_extension": ".py",
   "mimetype": "text/x-python",
   "name": "python",
   "nbconvert_exporter": "python",
   "pygments_lexer": "ipython3",
   "version": "3.9.6"
  }
 },
 "nbformat": 4,
 "nbformat_minor": 5
}
