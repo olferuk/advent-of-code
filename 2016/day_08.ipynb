{
 "cells": [
  {
   "cell_type": "code",
   "execution_count": 53,
   "id": "484ae992-a5ee-41a5-b3ee-48784a64f4ca",
   "metadata": {},
   "outputs": [
    {
     "name": "stdout",
     "output_type": "stream",
     "text": [
      "The lab_black extension is already loaded. To reload it, use:\n",
      "  %reload_ext lab_black\n"
     ]
    }
   ],
   "source": [
    "%load_ext lab_black\n",
    "\n",
    "from puzzles import load_lines\n",
    "\n",
    "import numpy as np\n",
    "\n",
    "from tqdm import tqdm\n",
    "\n",
    "import matplotlib.pyplot as plt"
   ]
  },
  {
   "cell_type": "code",
   "execution_count": 64,
   "id": "356a74c5-0d9d-4cdc-afac-43b7b4910de5",
   "metadata": {},
   "outputs": [],
   "source": [
    "!rm -rf 8_animation/\n",
    "!mkdir 8_animation"
   ]
  },
  {
   "cell_type": "code",
   "execution_count": 65,
   "id": "95d21366-8e5f-4cf1-b05f-2b570559c866",
   "metadata": {},
   "outputs": [
    {
     "name": "stderr",
     "output_type": "stream",
     "text": [
      "100%|█████████████████████████████████████████| 193/193 [00:18<00:00, 10.56it/s]\n"
     ]
    }
   ],
   "source": [
    "A = np.zeros([6, 50], dtype=np.uint8)\n",
    "\n",
    "\n",
    "def rect(A, *args):\n",
    "    w, h = args[0].split(\"x\")\n",
    "    w, h = int(w), int(h)\n",
    "    A[:h, :w] = 1\n",
    "\n",
    "\n",
    "def rotate(A, *args):\n",
    "    row_col, num, shift = args[0], args[1], args[-1]\n",
    "    num, shift = int(num.split(\"=\")[1]), int(shift)\n",
    "    if row_col == \"row\":\n",
    "        shift = shift % A.shape[1]\n",
    "        A[num] = np.concatenate([A[num][-shift:], A[num][:-shift]])\n",
    "    else:\n",
    "        shift = shift % A.shape[0]\n",
    "        A[:, num] = np.concatenate(\n",
    "            [A[:, num][-shift:].ravel(), A[:, num][:-shift].ravel()]\n",
    "        )\n",
    "\n",
    "\n",
    "funcs = {\"rect\": rect, \"rotate\": rotate}\n",
    "\n",
    "for i, cmd in tqdm(enumerate(load_lines(8)), total=len(load_lines(8))):\n",
    "    func, *args = cmd.split()\n",
    "    funcs[func](A, *args)\n",
    "\n",
    "    plt.imshow(A)\n",
    "    plt.savefig(f\"8_animation/{i:03d}.png\")\n",
    "    plt.tight_layout(pad=0)\n",
    "    plt.close()\n"
   ]
  },
  {
   "cell_type": "code",
   "execution_count": 66,
   "id": "d49d7b5f-d15e-4740-832a-96bc9260b0d4",
   "metadata": {},
   "outputs": [
    {
     "data": {
      "text/plain": [
       "119"
      ]
     },
     "execution_count": 66,
     "metadata": {},
     "output_type": "execute_result"
    }
   ],
   "source": [
    "A.sum()"
   ]
  },
  {
   "cell_type": "code",
   "execution_count": 67,
   "id": "3d058f43-f9b7-4fe7-bc9f-59fabf9a6836",
   "metadata": {},
   "outputs": [
    {
     "data": {
      "text/plain": [
       "<matplotlib.image.AxesImage at 0x11b86b790>"
      ]
     },
     "execution_count": 67,
     "metadata": {},
     "output_type": "execute_result"
    },
    {
     "data": {
      "image/png": "[encoded data removed]",
      "text/plain": [
       "<Figure size 432x288 with 1 Axes>"
      ]
     },
     "metadata": {
      "needs_background": "light"
     },
     "output_type": "display_data"
    }
   ],
   "source": [
    "plt.imshow(A)"
   ]
  },
  {
   "cell_type": "raw",
   "id": "9c23c13e-6e66-42eb-b92e-3efbe6565a7b",
   "metadata": {},
   "source": [
    "ZFHFSFOGPO"
   ]
  },
  {
   "cell_type": "code",
   "execution_count": 74,
   "id": "ae7dbb52-37c8-49a0-8930-069905d2e3bd",
   "metadata": {},
   "outputs": [],
   "source": [
    "from pathlib import Path\n",
    "\n",
    "\n",
    "def make_gif(folder, duration):\n",
    "    folder = Path(folder)\n",
    "    paths = sorted(folder.glob(\"*.jpg\")) + sorted(folder.glob(\"*.png\"))\n",
    "    img, *imgs = [Image.open(f) for f in paths]\n",
    "    img.save(\n",
    "        fp=f\"{folder.stem}.gif\",\n",
    "        format=\"GIF\",\n",
    "        append_images=imgs,\n",
    "        save_all=True,\n",
    "        duration=duration,\n",
    "        loop=0,\n",
    "    )"
   ]
  },
  {
   "cell_type": "code",
   "execution_count": 75,
   "id": "d8b8d9b1-84b6-4b5c-b37b-55786d8fc7e9",
   "metadata": {},
   "outputs": [],
   "source": [
    "make_gif(\"8_animation\", 120)"
   ]
  },
  {
   "cell_type": "code",
   "execution_count": 69,
   "id": "53a12e1e-2a00-48a6-b2f0-534ef633cccf",
   "metadata": {
    "tags": []
   },
   "outputs": [],
   "source": [
    "import glob\n",
    "from PIL import Image\n",
    "\n",
    "# filepaths\n",
    "fp_in = \"8_animation/*.png\"\n",
    "fp_out = \"8.gif\"\n",
    "\n",
    "img, *imgs = [Image.open(f) for f in sorted(glob.glob(fp_in))]\n",
    "img.save(\n",
    "    fp=fp_out, format=\"GIF\", append_images=imgs, save_all=True, duration=120, loop=0\n",
    ")"
   ]
  },
  {
   "cell_type": "code",
   "execution_count": null,
   "id": "ff76e0b5-a1d7-4441-af7e-27d8f2344517",
   "metadata": {},
   "outputs": [],
   "source": []
  }
 ],
 "metadata": {
  "kernelspec": {
   "display_name": "platy-segmentation",
   "language": "python",
   "name": "platy-segmentation"
  },
  "language_info": {
   "codemirror_mode": {
    "name": "ipython",
    "version": 3
   },
   "file_extension": ".py",
   "mimetype": "text/x-python",
   "name": "python",
   "nbconvert_exporter": "python",
   "pygments_lexer": "ipython3",
   "version": "3.9.6"
  }
 },
 "nbformat": 4,
 "nbformat_minor": 5
}
