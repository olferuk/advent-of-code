{
 "cells": [
  {
   "cell_type": "code",
   "execution_count": 1,
   "id": "6074838a-7ce4-4b1e-86a2-3823f32d65a1",
   "metadata": {},
   "outputs": [],
   "source": [
    "%load_ext lab_black\n",
    "\n",
    "from puzzles import load\n",
    "\n",
    "import numpy as np"
   ]
  },
  {
   "cell_type": "code",
   "execution_count": 54,
   "id": "fa83fc7b-dd0a-4dd8-a723-82852d04eff9",
   "metadata": {},
   "outputs": [],
   "source": [
    "class Node:\n",
    "    def __init__(self, name):\n",
    "        self.name = name\n",
    "        self.children = []\n",
    "        self.parents = []\n",
    "        self.visited = False\n",
    "\n",
    "    def all_parents_visited(self) -> bool:\n",
    "        if len(self.parents) == 0:\n",
    "            return True\n",
    "        return all([p.visited for p in self.parents])\n",
    "\n",
    "    def __repr__(self):\n",
    "        child_name = \", \".join([x.name for x in self.children])\n",
    "        par_name = \", \".join([x.name for x in self.parents])\n",
    "        return f\"Node('{self.name}', parents={par_name}, next={child_name})\"\n",
    "\n",
    "    def __lt__(self, other):\n",
    "        return self.name < other.name\n",
    "\n",
    "    def __gt__(self, other):\n",
    "        return self.name > other.name\n",
    "\n",
    "    def __le__(self, other):\n",
    "        return self.name <= other.name\n",
    "\n",
    "    def __ge__(self, other):\n",
    "        return self.name >= other.name"
   ]
  },
  {
   "cell_type": "code",
   "execution_count": 64,
   "id": "a2fe3938-28b4-40b7-974b-41c5e228a915",
   "metadata": {},
   "outputs": [
    {
     "data": {
      "text/plain": [
       "{'V': Node('V', parents=, next=H, O, A, D, Q, W, M, Z),\n",
       " 'H': Node('H', parents=V, J, O, R, next=I, Q, Y, S),\n",
       " 'U': Node('U', parents=, next=R, N, Z, G, F, O, A),\n",
       " 'R': Node('R', parents=U, B, T, W, next=S, J, I, H, C, O),\n",
       " 'E': Node('E', parents=, next=D, J, S),\n",
       " 'D': Node('D', parents=E, V, B, A, next=C, Z, S, O),\n",
       " 'B': Node('B', parents=, next=R, T, K, D, S),\n",
       " 'W': Node('W', parents=V, next=X, P, R, M, G, K),\n",
       " 'X': Node('X', parents=W, G, J, next=Q, S, K),\n",
       " 'A': Node('A', parents=V, U, next=P, C, D, Z, I),\n",
       " 'P': Node('P', parents=A, W, T, next=Y, S, J, L, Z),\n",
       " 'T': Node('T', parents=B, next=L, S, R, P, F),\n",
       " 'L': Node('L', parents=T, P, next=J, I),\n",
       " 'F': Node('F', parents=U, T, next=C, S, K, J, O),\n",
       " 'C': Node('C', parents=F, D, A, Q, G, R, Z, M, next=Y),\n",
       " 'Y': Node('Y', parents=P, K, I, S, C, G, Q, H, next=),\n",
       " 'N': Node('N', parents=U, next=G, Z),\n",
       " 'G': Node('G', parents=N, U, W, next=K, I, Y, X, C),\n",
       " 'S': Node('S', parents=R, Q, T, P, I, F, Z, X, B, D, K, E, H, J, next=Y),\n",
       " 'O': Node('O', parents=V, D, R, U, F, next=K, Q, H, M),\n",
       " 'K': Node('K', parents=O, G, F, B, X, J, W, next=Y, S, Q, I),\n",
       " 'J': Node('J', parents=L, E, R, P, F, next=H, K, X, S),\n",
       " 'M': Node('M', parents=W, O, V, next=I, Z, C),\n",
       " 'I': Node('I', parents=M, H, G, R, L, K, A, Q, next=Y, S),\n",
       " 'Z': Node('Z', parents=D, M, U, N, A, V, P, next=Q, S, C),\n",
       " 'Q': Node('Q', parents=Z, X, O, H, V, K, next=S, C, Y, I)}"
      ]
     },
     "execution_count": 64,
     "metadata": {},
     "output_type": "execute_result"
    }
   ],
   "source": [
    "# data = \"\"\"Step C must be finished before step A can begin.\n",
    "# Step C must be finished before step F can begin.\n",
    "# Step A must be finished before step B can begin.\n",
    "# Step A must be finished before step D can begin.\n",
    "# Step B must be finished before step E can begin.\n",
    "# Step D must be finished before step E can begin.\n",
    "# Step F must be finished before step E can begin.\"\"\"\n",
    "\n",
    "data = load(7)\n",
    "\n",
    "nodes = {}\n",
    "\n",
    "for line in data.strip().split(\"\\n\"):\n",
    "\n",
    "    tokens = line.split()\n",
    "    a, b = tokens[1], tokens[-3]\n",
    "\n",
    "    nodeA = Node(a) if a not in nodes else nodes[a]\n",
    "    nodeB = Node(b) if b not in nodes else nodes[b]\n",
    "\n",
    "    nodeA.children.append(nodeB)\n",
    "    nodeB.parents.append(nodeA)\n",
    "\n",
    "    nodes[a] = nodeA\n",
    "    nodes[b] = nodeB\n",
    "\n",
    "nodes"
   ]
  },
  {
   "cell_type": "code",
   "execution_count": 66,
   "id": "cc091bef-a705-4fc7-a8a0-c404045684b7",
   "metadata": {},
   "outputs": [
    {
     "data": {
      "text/plain": [
       "'BETUFNVADWGPLRJOHMXKZQCISY'"
      ]
     },
     "execution_count": 66,
     "metadata": {},
     "output_type": "execute_result"
    }
   ],
   "source": [
    "def reset_nodes(nodes):\n",
    "    for n in nodes.values():\n",
    "        n.visited = False\n",
    "\n",
    "\n",
    "reset_nodes(nodes)\n",
    "result_string = \"\"\n",
    "\n",
    "head_nodes = sorted([v for v in nodes.values() if len(v.parents) == 0])\n",
    "\n",
    "while len(head_nodes) > 0:\n",
    "    processing = head_nodes.pop(0)\n",
    "    processing.visited = True\n",
    "    result_string += processing.name\n",
    "\n",
    "    for child in processing.children:\n",
    "        if child.all_parents_visited():\n",
    "            head_nodes.append(child)\n",
    "\n",
    "    head_nodes = sorted(head_nodes)\n",
    "\n",
    "result_string"
   ]
  },
  {
   "cell_type": "markdown",
   "id": "cd9c2fb4-c1b2-49bb-af52-e5c3f6be2fbb",
   "metadata": {},
   "source": [
    "---"
   ]
  },
  {
   "cell_type": "code",
   "execution_count": 2,
   "id": "9586906d-5094-417b-a9ac-230c165c6e81",
   "metadata": {},
   "outputs": [],
   "source": [
    "class Node:\n",
    "    def __init__(self, name):\n",
    "        self.name = name\n",
    "        self.children = []\n",
    "        self.parents = []\n",
    "        self.timer = ord(self.name) - ord(\"A\") + 1 + 60\n",
    "        self.time_left = self.timer\n",
    "\n",
    "    def has_parents(self):\n",
    "        return len(self.parents) > 0\n",
    "\n",
    "    def __repr__(self):\n",
    "        p = (\n",
    "            \"None\"\n",
    "            if len(self.parents) == 0\n",
    "            else \",\".join([c.name for c in self.parents])\n",
    "        )\n",
    "        c = (\n",
    "            \"None\"\n",
    "            if len(self.children) == 0\n",
    "            else \",\".join([c.name for c in self.children])\n",
    "        )\n",
    "        return f\"Node('{self.name}' [{self.time_left}/{self.timer}],  parent={p}, children={c})\"\n",
    "\n",
    "    def __eq__(self, other):\n",
    "        return self.name == other.name\n",
    "\n",
    "    def __lt__(self, other):  # less than\n",
    "        return self.name < other.name"
   ]
  },
  {
   "cell_type": "code",
   "execution_count": 3,
   "id": "161d8bc2-d7a0-48c4-9db3-d51694775c66",
   "metadata": {},
   "outputs": [],
   "source": [
    "all_nodes = {}\n",
    "\n",
    "for line in load(7).strip().split(\"\\n\"):\n",
    "\n",
    "    tokens = line.split()\n",
    "    parent_name, child_name = tokens[1], tokens[-3]\n",
    "\n",
    "    if parent_name not in all_nodes:\n",
    "        parent_node = Node(parent_name)\n",
    "        all_nodes[parent_name] = parent_node\n",
    "    else:\n",
    "        parent_node = all_nodes[parent_name]\n",
    "\n",
    "    if child_name not in all_nodes:\n",
    "        child_node = Node(child_name)\n",
    "        all_nodes[child_name] = child_node\n",
    "    else:\n",
    "        child_node = all_nodes[child_name]\n",
    "\n",
    "    if parent_node not in child_node.parents:\n",
    "        child_node.parents.append(parent_node)\n",
    "\n",
    "    if child_node not in parent_node.children:\n",
    "        parent_node.children.append(child_node)"
   ]
  },
  {
   "cell_type": "code",
   "execution_count": 4,
   "id": "c1ec7ca7-2627-4b7c-a850-e3b4f94ce1fb",
   "metadata": {},
   "outputs": [
    {
     "name": "stdout",
     "output_type": "stream",
     "text": [
      "BEUVTANWDFGPRLOJMHXZKQCISY"
     ]
    },
    {
     "data": {
      "text/plain": [
       "848"
      ]
     },
     "execution_count": 4,
     "metadata": {},
     "output_type": "execute_result"
    }
   ],
   "source": [
    "NUM_WORKERS = 5\n",
    "\n",
    "# список \"рабочих\" = обрабатываемые сейчас узлы\n",
    "workers = []\n",
    "\n",
    "# сколько всего времени потрачено\n",
    "T = 0\n",
    "\n",
    "# список обработанных узлов\n",
    "processed = set()\n",
    "\n",
    "# начальная очередь — список узлов без родителей, сортированный по алфавиту\n",
    "queue = []\n",
    "for node in all_nodes.values():\n",
    "    if not node.has_parents():\n",
    "        queue.append(node)\n",
    "queue = sorted(queue)\n",
    "\n",
    "\n",
    "while True:\n",
    "    # рассмотрим два варианта: 5 рабочих и 2 таска или наоборот,\n",
    "    # 2 свободных рабочих и 5 тасков, итог один — 2 таска будут\n",
    "    # разданы 2м рабочим, поэтому и min(.., ..)\n",
    "    num_workers_free = NUM_WORKERS - len(workers)\n",
    "    for _ in range(min(num_workers_free, len(queue))):\n",
    "        workers.append(queue.pop(0))\n",
    "\n",
    "    # сколько времени надо ждать до ближайшего события\n",
    "    tm = min([x.time_left for x in workers])\n",
    "\n",
    "    T += tm\n",
    "    names_done = []\n",
    "    i = 0\n",
    "\n",
    "    # обновляем все узлы: вычитаем у них это время, убираем\n",
    "    # из обрабатываемых, если сделались\n",
    "    while i < len(workers):\n",
    "        node = workers[i]\n",
    "        node.time_left -= tm\n",
    "\n",
    "        if node.time_left == 0:\n",
    "\n",
    "            # запоминаем имена обработанных\n",
    "            processed.add(node.name)\n",
    "            names_done.append(node.name)\n",
    "            del workers[i]\n",
    "\n",
    "            # добавляем новые в очередь, если всех родителей обработали\n",
    "            queue.extend(\n",
    "                [\n",
    "                    c\n",
    "                    for c in node.children\n",
    "                    if all([p.name in processed for p in c.parents])\n",
    "                ]\n",
    "            )\n",
    "            queue = sorted(queue)\n",
    "        else:\n",
    "            i += 1\n",
    "\n",
    "    print(\"\".join(sorted(names_done)), end=\"\")\n",
    "\n",
    "    # условие выхода из цикла — все закончилось, и запас, и работа\n",
    "    if len(queue) == 0 and len(workers) == 0:\n",
    "        break\n",
    "\n",
    "T"
   ]
  }
 ],
 "metadata": {
  "kernelspec": {
   "display_name": "Python (DE)",
   "language": "python",
   "name": "python3"
  },
  "language_info": {
   "codemirror_mode": {
    "name": "ipython",
    "version": 3
   },
   "file_extension": ".py",
   "mimetype": "text/x-python",
   "name": "python",
   "nbconvert_exporter": "python",
   "pygments_lexer": "ipython3",
   "version": "3.7.12"
  }
 },
 "nbformat": 4,
 "nbformat_minor": 5
}
