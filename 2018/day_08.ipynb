{
 "cells": [
  {
   "cell_type": "code",
   "execution_count": 149,
   "id": "bc58f639-b792-4513-89f8-c73de0bdb1a2",
   "metadata": {},
   "outputs": [
    {
     "name": "stdout",
     "output_type": "stream",
     "text": [
      "The lab_black extension is already loaded. To reload it, use:\n",
      "  %reload_ext lab_black\n"
     ]
    }
   ],
   "source": [
    "%load_ext lab_black\n",
    "\n",
    "from puzzles import load"
   ]
  },
  {
   "cell_type": "code",
   "execution_count": 150,
   "id": "6afc3a1b-9fe2-4091-bc60-03c6be078a13",
   "metadata": {},
   "outputs": [],
   "source": [
    "class Node:\n",
    "    def __init__(self):\n",
    "        self.nodes = []\n",
    "        self.meta = []\n",
    "        self._value = None\n",
    "\n",
    "    def summate(self):\n",
    "        S = sum([n.summate() for n in self.nodes])\n",
    "        S += 0 if len(self.meta) == 0 else sum(self.meta)\n",
    "        return S\n",
    "\n",
    "    def value(self):\n",
    "        if self._value is not None:\n",
    "            return self._value\n",
    "\n",
    "        if len(self.nodes) == 0:\n",
    "            self._value = 0 if len(self.meta) == 0 else sum(self.meta)\n",
    "            return self._value\n",
    "\n",
    "        if len(self.meta) == 0:\n",
    "            self._value = 0\n",
    "            return self._value\n",
    "\n",
    "        S = 0\n",
    "        for n in self.meta:\n",
    "            if n - 1 >= len(self.nodes):\n",
    "                S += 0\n",
    "            else:\n",
    "                S += self.nodes[n - 1].value()\n",
    "        self._value = S\n",
    "        return self._value\n",
    "\n",
    "    def __repr__(self):\n",
    "        return f\"Node: {self.meta}, #={len(self.nodes)}\"\n",
    "\n",
    "\n",
    "class Pointer:\n",
    "    def __init__(self, x):\n",
    "        self.p = x"
   ]
  },
  {
   "cell_type": "code",
   "execution_count": 151,
   "id": "2419e596-56ef-459b-a8ad-92c522ba5375",
   "metadata": {},
   "outputs": [],
   "source": [
    "def create_node(data, p, parent=None):\n",
    "    node = Node()\n",
    "\n",
    "    if parent is not None:\n",
    "        parent.nodes.append(node)\n",
    "\n",
    "    n_children = data[p.p]\n",
    "    p.p += 1\n",
    "\n",
    "    n_metadata = data[p.p]\n",
    "    p.p += 1\n",
    "\n",
    "    for _ in range(n_children):\n",
    "        create_node(data, p, parent=node)\n",
    "\n",
    "    for _ in range(n_metadata):\n",
    "        node.meta.append(data[p.p])\n",
    "        p.p += 1\n",
    "\n",
    "    return node"
   ]
  },
  {
   "cell_type": "code",
   "execution_count": 152,
   "id": "4cdb4535-6a0d-4e22-85ca-896fb39c2d38",
   "metadata": {},
   "outputs": [
    {
     "data": {
      "text/plain": [
       "42951"
      ]
     },
     "execution_count": 152,
     "metadata": {},
     "output_type": "execute_result"
    }
   ],
   "source": [
    "data = load(8)\n",
    "data = [int(x) for x in data.strip().split()]\n",
    "\n",
    "node = create_node(data, Pointer(0))\n",
    "\n",
    "node.summate()"
   ]
  },
  {
   "cell_type": "code",
   "execution_count": 155,
   "id": "8f5d585e-1863-4465-ab96-c077d58b51a6",
   "metadata": {},
   "outputs": [
    {
     "data": {
      "text/plain": [
       "18568"
      ]
     },
     "execution_count": 155,
     "metadata": {},
     "output_type": "execute_result"
    }
   ],
   "source": [
    "def rank(node):\n",
    "    for n in node.nodes:\n",
    "        _ = rank(n)\n",
    "    return node.value()\n",
    "\n",
    "\n",
    "rank(node)"
   ]
  },
  {
   "cell_type": "markdown",
   "id": "d866bc62-b146-4b62-bad4-01a5e6f3d756",
   "metadata": {},
   "source": [
    "---"
   ]
  }
 ],
 "metadata": {
  "kernelspec": {
   "display_name": "Python (DE)",
   "language": "python",
   "name": "python3"
  },
  "language_info": {
   "codemirror_mode": {
    "name": "ipython",
    "version": 3
   },
   "file_extension": ".py",
   "mimetype": "text/x-python",
   "name": "python",
   "nbconvert_exporter": "python",
   "pygments_lexer": "ipython3",
   "version": "3.7.12"
  }
 },
 "nbformat": 4,
 "nbformat_minor": 5
}
