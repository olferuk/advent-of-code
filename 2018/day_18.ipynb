{
 "cells": [
  {
   "cell_type": "code",
   "execution_count": 24,
   "id": "40ab2d86-700f-416f-9f51-f8b7c09f9514",
   "metadata": {},
   "outputs": [
    {
     "name": "stdout",
     "output_type": "stream",
     "text": [
      "The lab_black extension is already loaded. To reload it, use:\n",
      "  %reload_ext lab_black\n"
     ]
    }
   ],
   "source": [
    "%load_ext lab_black\n",
    "\n",
    "from puzzles import load"
   ]
  },
  {
   "cell_type": "code",
   "execution_count": 25,
   "id": "29f9682c-64fd-43ff-a7b6-1369359995e2",
   "metadata": {},
   "outputs": [],
   "source": [
    "import numpy as np"
   ]
  },
  {
   "cell_type": "code",
   "execution_count": 154,
   "id": "03a72502-e187-4038-9005-7d31a84e0cd4",
   "metadata": {},
   "outputs": [],
   "source": [
    "import matplotlib.pyplot as plt"
   ]
  },
  {
   "cell_type": "code",
   "execution_count": 35,
   "id": "22d863af-665e-4e71-8ed8-c44c2c66ede5",
   "metadata": {},
   "outputs": [],
   "source": [
    "def correct_idx(i, j, shape):\n",
    "    return np.clip(i, 0, shape[0]), np.clip(j, 0, shape[1])"
   ]
  },
  {
   "cell_type": "code",
   "execution_count": 44,
   "id": "f5ab1060-9a30-488a-888d-efd88d4b08e8",
   "metadata": {},
   "outputs": [],
   "source": [
    "def disp(array):\n",
    "    return \"\\n\".join([\"\".join([\".|#\"[x] for x in line]) for line in array])"
   ]
  },
  {
   "cell_type": "code",
   "execution_count": 47,
   "id": "7f2b91ba-60e6-4842-ac73-b341b718f81a",
   "metadata": {},
   "outputs": [],
   "source": [
    "ground_truth = [\n",
    "    \"\"\".......##.\n",
    "......|###\n",
    ".|..|...#.\n",
    "..|#||...#\n",
    "..##||.|#|\n",
    "...#||||..\n",
    "||...|||..\n",
    "|||||.||.|\n",
    "||||||||||\n",
    "....||..|.\"\"\",\n",
    "    \"\"\".......#..\n",
    "......|#..\n",
    ".|.|||....\n",
    "..##|||..#\n",
    "..###|||#|\n",
    "...#|||||.\n",
    "|||||||||.\n",
    "||||||||||\n",
    "||||||||||\n",
    ".|||||||||\"\"\",\n",
    "    \"\"\".......#..\n",
    "....|||#..\n",
    ".|.||||...\n",
    "..###|||.#\n",
    "...##|||#|\n",
    ".||##|||||\n",
    "||||||||||\n",
    "||||||||||\n",
    "||||||||||\n",
    "||||||||||\"\"\",\n",
    "    \"\"\".....|.#..\n",
    "...||||#..\n",
    ".|.#||||..\n",
    "..###||||#\n",
    "...###||#|\n",
    "|||##|||||\n",
    "||||||||||\n",
    "||||||||||\n",
    "||||||||||\n",
    "||||||||||\"\"\",\n",
    "    \"\"\"....|||#..\n",
    "...||||#..\n",
    ".|.##||||.\n",
    "..####|||#\n",
    ".|.###||#|\n",
    "|||###||||\n",
    "||||||||||\n",
    "||||||||||\n",
    "||||||||||\n",
    "||||||||||\"\"\",\n",
    "    \"\"\"...||||#..\n",
    "...||||#..\n",
    ".|.###|||.\n",
    "..#.##|||#\n",
    "|||#.##|#|\n",
    "|||###||||\n",
    "||||#|||||\n",
    "||||||||||\n",
    "||||||||||\n",
    "||||||||||\"\"\",\n",
    "    \"\"\"...||||#..\n",
    "..||#|##..\n",
    ".|.####||.\n",
    "||#..##||#\n",
    "||##.##|#|\n",
    "|||####|||\n",
    "|||###||||\n",
    "||||||||||\n",
    "||||||||||\n",
    "||||||||||\"\"\",\n",
    "    \"\"\"..||||##..\n",
    "..|#####..\n",
    "|||#####|.\n",
    "||#...##|#\n",
    "||##..###|\n",
    "||##.###||\n",
    "|||####|||\n",
    "||||#|||||\n",
    "||||||||||\n",
    "||||||||||\"\"\",\n",
    "    \"\"\"..||###...\n",
    ".||#####..\n",
    "||##...##.\n",
    "||#....###\n",
    "|##....##|\n",
    "||##..###|\n",
    "||######||\n",
    "|||###||||\n",
    "||||||||||\n",
    "||||||||||\"\"\",\n",
    "    \"\"\".||##.....\n",
    "||###.....\n",
    "||##......\n",
    "|##.....##\n",
    "|##.....##\n",
    "|##....##|\n",
    "||##.####|\n",
    "||#####|||\n",
    "||||#|||||\n",
    "||||||||||\"\"\",\n",
    "]"
   ]
  },
  {
   "cell_type": "markdown",
   "id": "714f27d1-9a41-4bc6-a5d7-5f16157139f2",
   "metadata": {},
   "source": [
    "---"
   ]
  },
  {
   "cell_type": "code",
   "execution_count": 52,
   "id": "fef2db7d-06b3-4b8c-a3ec-856c77ba75ae",
   "metadata": {},
   "outputs": [],
   "source": [
    "def rule(k, center=[1, 1]):\n",
    "    # An open acre will become filled with trees if three or more\n",
    "    # adjacent acres contained trees. Otherwise, nothing happens.\n",
    "    if k[center[0], center[1]] == 0:\n",
    "        return int((k == 1).sum() >= 3)\n",
    "\n",
    "    # An acre filled with trees will become a lumberyard if three\n",
    "    # or more adjacent acres were lumberyards. Otherwise, nothing happens.\n",
    "    if k[center[0], center[1]] == 1:\n",
    "        return int((k == 2).sum() >= 3) + 1\n",
    "\n",
    "    # An acre containing a lumberyard will remain a lumberyard if it was\n",
    "    # adjacent to at least one other lumberyard and at least one acre\n",
    "    # containing trees. Otherwise, it becomes open.\n",
    "    if k[center[0], center[1]] == 2:\n",
    "        return int((k == 1).sum() >= 1 and ((k == 2).sum() - 1) >= 1) * 2"
   ]
  },
  {
   "cell_type": "code",
   "execution_count": 62,
   "id": "09b48392-aab4-43f6-bf88-a7286b9d9b9e",
   "metadata": {},
   "outputs": [],
   "source": [
    "def build(s):\n",
    "    return np.array(\n",
    "        [[\".|#\".index(c) for c in x] for x in s.strip().split(\"\\n\")]\n",
    "    ).astype(np.uint8)"
   ]
  },
  {
   "cell_type": "code",
   "execution_count": 95,
   "id": "874903e3-f8f1-4c7e-93ed-274998c7f3fc",
   "metadata": {},
   "outputs": [],
   "source": [
    "def step(A, B=None):\n",
    "    if B is None:\n",
    "        B = np.zeros_like(A, dtype=A.dtype)\n",
    "    for i in range(len(A)):\n",
    "        for j in range(len(A[1])):\n",
    "            i0, j0 = correct_idx(i - 1, j - 1, A.shape)\n",
    "            i1, j1 = correct_idx(i + 2, j + 2, A.shape)\n",
    "            ic = int(i != 0)\n",
    "            jc = int(j != 0)\n",
    "            B[i, j] = rule(A[i0:i1, j0:j1], center=(ic, jc))\n",
    "    return B"
   ]
  },
  {
   "cell_type": "code",
   "execution_count": 102,
   "id": "657da2b0-8278-4843-be20-b5e412a1577b",
   "metadata": {},
   "outputs": [
    {
     "name": "stdout",
     "output_type": "stream",
     "text": [
      "True\n",
      "True\n",
      "True\n",
      "True\n",
      "True\n",
      "True\n",
      "True\n",
      "True\n",
      "True\n"
     ]
    }
   ],
   "source": [
    "s = \"\"\".#.#...|#.\n",
    ".....#|##|\n",
    ".|..|...#.\n",
    "..|#.....#\n",
    "#.#|||#|#|\n",
    "...#.||...\n",
    ".|....|...\n",
    "||...#|.#|\n",
    "|.||||..|.\n",
    "...#.|..|.\"\"\"\n",
    "\n",
    "A = build(s)\n",
    "B = np.zeros_like(A, dtype=A.dtype)\n",
    "\n",
    "for i in range(len(ground_truth) - 1):\n",
    "    print(disp(step(build(ground_truth[i]), B)) == disp(build(ground_truth[i + 1])))"
   ]
  },
  {
   "cell_type": "code",
   "execution_count": 108,
   "id": "ed361b72-dd16-4dc4-aa2f-8bf426701c33",
   "metadata": {},
   "outputs": [],
   "source": [
    "from tqdm import tqdm"
   ]
  },
  {
   "cell_type": "code",
   "execution_count": 113,
   "id": "32cdf334-d838-439d-a15d-4a66c0c5f794",
   "metadata": {},
   "outputs": [
    {
     "name": "stderr",
     "output_type": "stream",
     "text": [
      "100%|███████████████████████████████████████████| 10/10 [00:03<00:00,  2.55it/s]\n"
     ]
    },
    {
     "data": {
      "text/plain": [
       "466312"
      ]
     },
     "execution_count": 113,
     "metadata": {},
     "output_type": "execute_result"
    }
   ],
   "source": [
    "s = load(18)\n",
    "\n",
    "A = build(s)\n",
    "B = np.zeros_like(A, dtype=A.dtype)\n",
    "\n",
    "for _ in tqdm(range(10)):\n",
    "    A = step(A)\n",
    "\n",
    "(A == 2).sum() * (A == 1).sum()"
   ]
  },
  {
   "cell_type": "markdown",
   "id": "22e2ff04-f5fa-4691-ad55-4805cc39f231",
   "metadata": {},
   "source": [
    "---"
   ]
  },
  {
   "cell_type": "code",
   "execution_count": 138,
   "id": "b424b4bd-d587-4e6b-946a-f63003016de9",
   "metadata": {},
   "outputs": [],
   "source": [
    "from numba import jit"
   ]
  },
  {
   "cell_type": "code",
   "execution_count": 143,
   "id": "887d9f87-276a-40b6-b52f-5126b7ce2a20",
   "metadata": {},
   "outputs": [],
   "source": [
    "@jit(nopython=True)\n",
    "def step(A, B=None):\n",
    "    if B is None:\n",
    "        B = np.zeros_like(A, dtype=A.dtype)\n",
    "    for i in range(len(A)):\n",
    "        for j in range(len(A[1])):\n",
    "            i0, j0 = max(i - 1, 0), max(j - 1, 0)\n",
    "            i1, j1 = min(i + 2, A.shape[0]), min(j + 2, A.shape[1])\n",
    "            ic = int(i != 0)\n",
    "            jc = int(j != 0)\n",
    "            k = A[i0:i1, j0:j1]\n",
    "            if k[ic, jc] == 0:\n",
    "                val = int((k == 1).sum() >= 3)\n",
    "            elif k[ic, jc] == 1:\n",
    "                val = int((k == 2).sum() >= 3) + 1\n",
    "            elif k[ic, jc] == 2:\n",
    "                val = int((k == 1).sum() >= 1 and ((k == 2).sum() - 1) >= 1) * 2\n",
    "            B[i, j] = val\n",
    "    return B"
   ]
  },
  {
   "cell_type": "code",
   "execution_count": 159,
   "id": "2d347016-c903-43d8-a627-959e9b210355",
   "metadata": {},
   "outputs": [
    {
     "name": "stderr",
     "output_type": "stream",
     "text": [
      "100%|██████████████████████████████████████| 2000/2000 [00:02<00:00, 978.32it/s]\n"
     ]
    }
   ],
   "source": [
    "s = load(18)\n",
    "\n",
    "A = build(s)\n",
    "B = np.zeros_like(A, dtype=A.dtype)\n",
    "\n",
    "vals = []\n",
    "for i in tqdm(range(2000)):\n",
    "    if i % 2 == 0:\n",
    "        B = step(A, B)\n",
    "    else:\n",
    "        A = step(B, A)\n",
    "    vals.append((A == 2).sum() * (A == 1).sum())"
   ]
  },
  {
   "cell_type": "code",
   "execution_count": 160,
   "id": "eaf0476e-c275-43ad-a4a8-964a44b348e3",
   "metadata": {},
   "outputs": [],
   "source": [
    "vals = np.array(vals)"
   ]
  },
  {
   "cell_type": "code",
   "execution_count": 167,
   "id": "2c8ac39f-437d-48ff-83a3-f83339cd41c7",
   "metadata": {},
   "outputs": [
    {
     "data": {
      "text/plain": [
       "0"
      ]
     },
     "execution_count": 167,
     "metadata": {},
     "output_type": "execute_result"
    }
   ],
   "source": [
    "(1000000000 - 1000) % 28"
   ]
  },
  {
   "cell_type": "code",
   "execution_count": 168,
   "id": "08921aed-fb7e-42c3-8a1e-8f305091cf0d",
   "metadata": {},
   "outputs": [
    {
     "data": {
      "text/plain": [
       "176782"
      ]
     },
     "execution_count": 168,
     "metadata": {},
     "output_type": "execute_result"
    }
   ],
   "source": [
    "vals[1000]"
   ]
  },
  {
   "cell_type": "code",
   "execution_count": 166,
   "id": "5f3b10c5-efba-4ae4-bfd8-ca9c1d720ef2",
   "metadata": {},
   "outputs": [
    {
     "data": {
      "text/plain": [
       "[<matplotlib.lines.Line2D at 0x1195c8850>]"
      ]
     },
     "execution_count": 166,
     "metadata": {},
     "output_type": "execute_result"
    },
    {
     "data": {
      "image/png": "[encoded data removed]",
      "text/plain": [
       "<Figure size 432x288 with 1 Axes>"
      ]
     },
     "metadata": {
      "needs_background": "light"
     },
     "output_type": "display_data"
    }
   ],
   "source": [
    "plt.plot([vals[1000 + T] for T in range(28)])"
   ]
  },
  {
   "cell_type": "code",
   "execution_count": 163,
   "id": "626c456d-7e0f-4b9b-9d94-c6d967916329",
   "metadata": {},
   "outputs": [
    {
     "data": {
      "text/plain": [
       "[<matplotlib.lines.Line2D at 0x122415be0>]"
      ]
     },
     "execution_count": 163,
     "metadata": {},
     "output_type": "execute_result"
    },
    {
     "data": {
      "image/png": "[encoded data removed]",
      "text/plain": [
       "<Figure size 432x288 with 1 Axes>"
      ]
     },
     "metadata": {
      "needs_background": "light"
     },
     "output_type": "display_data"
    }
   ],
   "source": [
    "plt.plot(vals[1000:])"
   ]
  },
  {
   "cell_type": "code",
   "execution_count": 161,
   "id": "b3f794a7-92dd-48d0-9544-f53e0027f4df",
   "metadata": {},
   "outputs": [
    {
     "data": {
      "text/plain": [
       "[<matplotlib.lines.Line2D at 0x121eb37c0>]"
      ]
     },
     "execution_count": 161,
     "metadata": {},
     "output_type": "execute_result"
    },
    {
     "data": {
      "image/png": "[encoded data removed]",
      "text/plain": [
       "<Figure size 1080x360 with 1 Axes>"
      ]
     },
     "metadata": {
      "needs_background": "light"
     },
     "output_type": "display_data"
    }
   ],
   "source": [
    "plt.figure(figsize=(15, 5))\n",
    "plt.plot(vals)"
   ]
  },
  {
   "cell_type": "code",
   "execution_count": 169,
   "id": "f2e40335-5460-4ef2-928d-1c42e24e6047",
   "metadata": {},
   "outputs": [
    {
     "name": "stderr",
     "output_type": "stream",
     "text": [
      "100%|████████████████████████████████████████| 600/600 [00:00<00:00, 991.59it/s]\n"
     ]
    }
   ],
   "source": [
    "s = load(18)\n",
    "\n",
    "A = build(s)\n",
    "B = np.zeros_like(A, dtype=A.dtype)\n",
    "\n",
    "for i in tqdm(range(600)):\n",
    "    if i % 2 == 0:\n",
    "        B = step(A, B)\n",
    "    else:\n",
    "        A = step(B, A)"
   ]
  },
  {
   "cell_type": "code",
   "execution_count": 170,
   "id": "30651ee7-4eb4-4f54-9535-76c8c168aedb",
   "metadata": {},
   "outputs": [],
   "source": [
    "import time"
   ]
  },
  {
   "cell_type": "code",
   "execution_count": null,
   "id": "0985f065-3a2c-481a-9090-33e1ba65d0e5",
   "metadata": {},
   "outputs": [],
   "source": [
    "for i in tqdm(range(28)):\n",
    "    if i % 2 == 0:\n",
    "        B = step(A, B)\n",
    "        print(disp(B))\n",
    "    else:\n",
    "        A = step(B, A)\n",
    "        print(disp(A))\n",
    "    print()"
   ]
  },
  {
   "cell_type": "code",
   "execution_count": null,
   "id": "ec2d92bd-b4ee-4d5d-a69f-dfa5bd28e6e5",
   "metadata": {},
   "outputs": [],
   "source": []
  }
 ],
 "metadata": {
  "kernelspec": {
   "display_name": "Python (DE)",
   "language": "python",
   "name": "python3"
  },
  "language_info": {
   "codemirror_mode": {
    "name": "ipython",
    "version": 3
   },
   "file_extension": ".py",
   "mimetype": "text/x-python",
   "name": "python",
   "nbconvert_exporter": "python",
   "pygments_lexer": "ipython3",
   "version": "3.7.12"
  }
 },
 "nbformat": 4,
 "nbformat_minor": 5
}
