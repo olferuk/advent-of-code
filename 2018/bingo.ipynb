{
 "cells": [
  {
   "cell_type": "code",
   "execution_count": 8,
   "id": "61edc391-c453-4419-b832-e5b37050e392",
   "metadata": {},
   "outputs": [
    {
     "name": "stdout",
     "output_type": "stream",
     "text": [
      "The lab_black extension is already loaded. To reload it, use:\n",
      "  %reload_ext lab_black\n"
     ]
    }
   ],
   "source": [
    "%load_ext lab_black\n",
    "\n",
    "from tqdm import tqdm\n",
    "\n",
    "import matplotlib.pyplot as plt\n",
    "import numpy as np\n",
    "import pandas as pd"
   ]
  },
  {
   "cell_type": "markdown",
   "id": "90088283-b034-4f6c-9dbe-4f8fdbf509c3",
   "metadata": {},
   "source": [
    "# The Math of Bingo"
   ]
  },
  {
   "cell_type": "code",
   "execution_count": 9,
   "id": "de387668-3630-43ee-8c9c-a1b17e0b1775",
   "metadata": {},
   "outputs": [],
   "source": [
    "N = int(2e6)\n",
    "price = 150\n",
    "frac_prizes = 0.65"
   ]
  },
  {
   "cell_type": "code",
   "execution_count": 10,
   "id": "abbf5e4a-2a84-4edf-aa68-4fe823e78042",
   "metadata": {},
   "outputs": [
    {
     "data": {
      "text/plain": [
       "300000000"
      ]
     },
     "execution_count": 10,
     "metadata": {},
     "output_type": "execute_result"
    }
   ],
   "source": [
    "profit = N * price\n",
    "profit"
   ]
  },
  {
   "cell_type": "code",
   "execution_count": 11,
   "id": "b1206b07-0e03-4f8d-9ff8-379b0733af14",
   "metadata": {},
   "outputs": [
    {
     "data": {
      "text/plain": [
       "195000000"
      ]
     },
     "execution_count": 11,
     "metadata": {},
     "output_type": "execute_result"
    }
   ],
   "source": [
    "prize_pool = int(frac_prizes * profit)\n",
    "prize_pool"
   ]
  },
  {
   "cell_type": "markdown",
   "id": "53672ee6-043e-4a41-a47e-35f4240f361c",
   "metadata": {},
   "source": [
    "Столото утверждают, что 65% раздадут в призовых. Значит, выигрышей должно быть много, так?.."
   ]
  },
  {
   "cell_type": "markdown",
   "id": "7d0560dd-fe87-456f-92d3-db5a25455bd9",
   "metadata": {},
   "source": [
    "<img width=\"40%\" src=\"https://i.imgflip.com/5c7lwq.png?a461688\">"
   ]
  },
  {
   "cell_type": "code",
   "execution_count": 12,
   "id": "495cb243-469e-4251-bf34-a5541ea1a473",
   "metadata": {},
   "outputs": [],
   "source": [
    "df = pd.DataFrame(\n",
    "    data={\n",
    "        \"prize\": [\n",
    "            0,\n",
    "            50,\n",
    "            75,\n",
    "            150,\n",
    "            250,\n",
    "            1500,\n",
    "            2500,\n",
    "            5000,\n",
    "            25000,\n",
    "            50000,\n",
    "            500000,\n",
    "            1500000,\n",
    "            10000000,\n",
    "        ],\n",
    "        \"count\": [\n",
    "            None,\n",
    "            1.2e6,\n",
    "            6e5,\n",
    "            1e5,\n",
    "            5e4,\n",
    "            1e4,\n",
    "            1e3,\n",
    "            600,\n",
    "            200,\n",
    "            40,\n",
    "            20,\n",
    "            10,\n",
    "            1,\n",
    "        ],\n",
    "    }\n",
    ")\n",
    "\n",
    "df[\"count\"] = df[\"count\"].fillna(N - df[\"count\"].sum()).astype(int)\n",
    "df[\"count_cum\"] = df[\"count\"].cumsum()\n",
    "df[\"prize\"] -= price"
   ]
  },
  {
   "cell_type": "code",
   "execution_count": 13,
   "id": "879a0600-c99c-4820-813c-35e685483905",
   "metadata": {},
   "outputs": [
    {
     "data": {
      "text/html": [
       "<div>\n",
       "<style scoped>\n",
       "    .dataframe tbody tr th:only-of-type {\n",
       "        vertical-align: middle;\n",
       "    }\n",
       "\n",
       "    .dataframe tbody tr th {\n",
       "        vertical-align: top;\n",
       "    }\n",
       "\n",
       "    .dataframe thead th {\n",
       "        text-align: right;\n",
       "    }\n",
       "</style>\n",
       "<table border=\"1\" class=\"dataframe\">\n",
       "  <thead>\n",
       "    <tr style=\"text-align: right;\">\n",
       "      <th></th>\n",
       "      <th>prize</th>\n",
       "      <th>count</th>\n",
       "      <th>count_cum</th>\n",
       "    </tr>\n",
       "  </thead>\n",
       "  <tbody>\n",
       "    <tr>\n",
       "      <th>0</th>\n",
       "      <td>-150</td>\n",
       "      <td>38129</td>\n",
       "      <td>38129</td>\n",
       "    </tr>\n",
       "    <tr>\n",
       "      <th>1</th>\n",
       "      <td>-100</td>\n",
       "      <td>1200000</td>\n",
       "      <td>1238129</td>\n",
       "    </tr>\n",
       "    <tr>\n",
       "      <th>2</th>\n",
       "      <td>-75</td>\n",
       "      <td>600000</td>\n",
       "      <td>1838129</td>\n",
       "    </tr>\n",
       "    <tr>\n",
       "      <th>3</th>\n",
       "      <td>0</td>\n",
       "      <td>100000</td>\n",
       "      <td>1938129</td>\n",
       "    </tr>\n",
       "    <tr>\n",
       "      <th>4</th>\n",
       "      <td>100</td>\n",
       "      <td>50000</td>\n",
       "      <td>1988129</td>\n",
       "    </tr>\n",
       "    <tr>\n",
       "      <th>5</th>\n",
       "      <td>1350</td>\n",
       "      <td>10000</td>\n",
       "      <td>1998129</td>\n",
       "    </tr>\n",
       "    <tr>\n",
       "      <th>6</th>\n",
       "      <td>2350</td>\n",
       "      <td>1000</td>\n",
       "      <td>1999129</td>\n",
       "    </tr>\n",
       "    <tr>\n",
       "      <th>7</th>\n",
       "      <td>4850</td>\n",
       "      <td>600</td>\n",
       "      <td>1999729</td>\n",
       "    </tr>\n",
       "    <tr>\n",
       "      <th>8</th>\n",
       "      <td>24850</td>\n",
       "      <td>200</td>\n",
       "      <td>1999929</td>\n",
       "    </tr>\n",
       "    <tr>\n",
       "      <th>9</th>\n",
       "      <td>49850</td>\n",
       "      <td>40</td>\n",
       "      <td>1999969</td>\n",
       "    </tr>\n",
       "    <tr>\n",
       "      <th>10</th>\n",
       "      <td>499850</td>\n",
       "      <td>20</td>\n",
       "      <td>1999989</td>\n",
       "    </tr>\n",
       "    <tr>\n",
       "      <th>11</th>\n",
       "      <td>1499850</td>\n",
       "      <td>10</td>\n",
       "      <td>1999999</td>\n",
       "    </tr>\n",
       "    <tr>\n",
       "      <th>12</th>\n",
       "      <td>9999850</td>\n",
       "      <td>1</td>\n",
       "      <td>2000000</td>\n",
       "    </tr>\n",
       "  </tbody>\n",
       "</table>\n",
       "</div>"
      ],
      "text/plain": [
       "      prize    count  count_cum\n",
       "0      -150    38129      38129\n",
       "1      -100  1200000    1238129\n",
       "2       -75   600000    1838129\n",
       "3         0   100000    1938129\n",
       "4       100    50000    1988129\n",
       "5      1350    10000    1998129\n",
       "6      2350     1000    1999129\n",
       "7      4850      600    1999729\n",
       "8     24850      200    1999929\n",
       "9     49850       40    1999969\n",
       "10   499850       20    1999989\n",
       "11  1499850       10    1999999\n",
       "12  9999850        1    2000000"
      ]
     },
     "execution_count": 13,
     "metadata": {},
     "output_type": "execute_result"
    }
   ],
   "source": [
    "df"
   ]
  },
  {
   "cell_type": "markdown",
   "id": "544432d8-2b45-43c8-8b8e-d11a4e815aed",
   "metadata": {},
   "source": [
    "## Monte Carlo experiment"
   ]
  },
  {
   "cell_type": "code",
   "execution_count": 14,
   "id": "51bf4cf9-476a-44f8-8081-b77c30080935",
   "metadata": {},
   "outputs": [],
   "source": [
    "monte_carlo_num = 100_000"
   ]
  },
  {
   "cell_type": "code",
   "execution_count": 15,
   "id": "b24226a1-a6ed-4c89-88db-d3c0556d9db1",
   "metadata": {},
   "outputs": [
    {
     "name": "stderr",
     "output_type": "stream",
     "text": [
      "100%|█████████████████████████████████| 100000/100000 [01:27<00:00, 1149.08it/s]\n"
     ]
    }
   ],
   "source": [
    "tickets = np.arange(1, N + 1)\n",
    "np.random.shuffle(tickets)\n",
    "\n",
    "tickets_ids = tickets[:monte_carlo_num]\n",
    "profit_distr = [df[\"prize\"][(x <= df[\"count_cum\"]).argmax()] for x in tqdm(tickets_ids)]"
   ]
  },
  {
   "cell_type": "code",
   "execution_count": 16,
   "id": "3ecfac5e-4805-40c9-b4cf-ba348ead8ffd",
   "metadata": {},
   "outputs": [],
   "source": [
    "s = pd.Series(profit_distr).value_counts()\n",
    "s = s.loc[[x for x in df[\"prize\"].values if x in s.index]]"
   ]
  },
  {
   "cell_type": "code",
   "execution_count": 17,
   "id": "58681253-cf35-47a7-8a1d-31d9ef44fe78",
   "metadata": {},
   "outputs": [
    {
     "data": {
      "text/plain": [
       "-150         1928\n",
       "-100        59755\n",
       "-75         30145\n",
       " 0           5018\n",
       " 100         2559\n",
       " 1350         499\n",
       " 2350          50\n",
       " 4850          30\n",
       " 24850         13\n",
       " 49850          2\n",
       " 1499850        1\n",
       "dtype: int64"
      ]
     },
     "execution_count": 17,
     "metadata": {},
     "output_type": "execute_result"
    }
   ],
   "source": [
    "s"
   ]
  },
  {
   "cell_type": "code",
   "execution_count": 19,
   "id": "538e88ad-02ff-4ddd-8ed7-872096c56f2b",
   "metadata": {},
   "outputs": [
    {
     "data": {
      "image/png": "[encoded data removed]",
      "text/plain": [
       "<Figure size 864x432 with 1 Axes>"
      ]
     },
     "metadata": {
      "needs_background": "light"
     },
     "output_type": "display_data"
    }
   ],
   "source": [
    "plt.figure(figsize=(12, 6))\n",
    "s.plot.bar(ax=plt.gca(), rot=0, color=[\"#FF4500\"] * 4 + [\"#15B01A\"] * 7)\n",
    "plt.axvline(x=3.5, c=\"gray\", ls=\"--\", lw=3)\n",
    "plt.text(x=3.7, y=40000, s=\"Profits zone\", size=\"large\")\n",
    "plt.text(x=3.3, y=40000, s=\"Loss zone\", size=\"large\", ha=\"right\")\n",
    "plt.tick_params(axis=\"both\", left=False, labelleft=False)\n",
    "plt.show()"
   ]
  },
  {
   "cell_type": "code",
   "execution_count": 20,
   "id": "2b2201b1-4163-4e4f-906d-e3b4218e445b",
   "metadata": {},
   "outputs": [
    {
     "data": {
      "image/png": "[encoded data removed]",
      "text/plain": [
       "<Figure size 252x360 with 1 Axes>"
      ]
     },
     "metadata": {
      "needs_background": "light"
     },
     "output_type": "display_data"
    }
   ],
   "source": [
    "profit_no_profit = pd.DataFrame(\n",
    "    [\n",
    "        s.loc[[-150, -100, -75, 0]].sum(),\n",
    "        s.loc[[x for x in s.index if x not in [-150, -100, -75, 0]]].sum(),\n",
    "    ]\n",
    ").T.rename(columns={0: \"No profit\", 1: \"Profit\"})\n",
    "\n",
    "plt.figure(figsize=(3.5, 5))\n",
    "profit_no_profit.plot.bar(\n",
    "    rot=0, stacked=True, ax=plt.gca(), color=[\"#FF4500\", \"#15B01A\"]\n",
    ")\n",
    "plt.xlim(-0.5, 1.3)\n",
    "plt.axis(\"off\")\n",
    "plt.gca().set(xlabel=None, ylabel=None)\n",
    "handles, labels = plt.gca().get_legend_handles_labels()\n",
    "plt.legend(handles[::-1], labels[::-1])\n",
    "plt.show()"
   ]
  },
  {
   "cell_type": "code",
   "execution_count": 21,
   "id": "b539df43-f96c-481b-997d-0069ad02caaa",
   "metadata": {},
   "outputs": [
    {
     "data": {
      "text/html": [
       "<div>\n",
       "<style scoped>\n",
       "    .dataframe tbody tr th:only-of-type {\n",
       "        vertical-align: middle;\n",
       "    }\n",
       "\n",
       "    .dataframe tbody tr th {\n",
       "        vertical-align: top;\n",
       "    }\n",
       "\n",
       "    .dataframe thead th {\n",
       "        text-align: right;\n",
       "    }\n",
       "</style>\n",
       "<table border=\"1\" class=\"dataframe\">\n",
       "  <thead>\n",
       "    <tr style=\"text-align: right;\">\n",
       "      <th></th>\n",
       "      <th>No profit</th>\n",
       "      <th>Profit</th>\n",
       "    </tr>\n",
       "  </thead>\n",
       "  <tbody>\n",
       "    <tr>\n",
       "      <th>0</th>\n",
       "      <td>96846</td>\n",
       "      <td>3154</td>\n",
       "    </tr>\n",
       "  </tbody>\n",
       "</table>\n",
       "</div>"
      ],
      "text/plain": [
       "   No profit  Profit\n",
       "0      96846    3154"
      ]
     },
     "execution_count": 21,
     "metadata": {},
     "output_type": "execute_result"
    }
   ],
   "source": [
    "profit_no_profit"
   ]
  },
  {
   "cell_type": "code",
   "execution_count": 22,
   "id": "4f7df5d6-1ba7-4cce-b75a-ac4ae4bfe0ec",
   "metadata": {},
   "outputs": [
    {
     "data": {
      "text/plain": [
       "(0.8113506658211794, 0.18864933417882057)"
      ]
     },
     "execution_count": 22,
     "metadata": {},
     "output_type": "execute_result"
    }
   ],
   "source": [
    "a = s[s.index[s.index > 0]]\n",
    "\n",
    "a = [y for i in range(len(a)) for y in [a.index[i]] * a.iloc[i]]\n",
    "\n",
    "x = (pd.Series(a) > 100).argmax() / len(a)\n",
    "x, 1 - x"
   ]
  },
  {
   "cell_type": "code",
   "execution_count": 23,
   "id": "bc974732-9bc4-479f-8397-db81a034647d",
   "metadata": {},
   "outputs": [
    {
     "data": {
      "text/plain": [
       "'Шанс, что тебе выпадет билет и принесет больше сотки (всего лишь сотки рублей, не тысяч), равен 0.16%'"
      ]
     },
     "execution_count": 23,
     "metadata": {},
     "output_type": "execute_result"
    }
   ],
   "source": [
    "f\"Шанс, что тебе выпадет билет и принесет больше сотки (всего лишь сотки рублей, не тысяч), равен {profit_no_profit.loc[0, 'Profit'] / N*100:.2f}%\""
   ]
  },
  {
   "cell_type": "code",
   "execution_count": 24,
   "id": "ea776593-42db-43b6-810d-d8e48435cab2",
   "metadata": {},
   "outputs": [
    {
     "data": {
      "text/html": [
       "<div>\n",
       "<style scoped>\n",
       "    .dataframe tbody tr th:only-of-type {\n",
       "        vertical-align: middle;\n",
       "    }\n",
       "\n",
       "    .dataframe tbody tr th {\n",
       "        vertical-align: top;\n",
       "    }\n",
       "\n",
       "    .dataframe thead th {\n",
       "        text-align: right;\n",
       "    }\n",
       "</style>\n",
       "<table border=\"1\" class=\"dataframe\">\n",
       "  <thead>\n",
       "    <tr style=\"text-align: right;\">\n",
       "      <th></th>\n",
       "      <th>No profit</th>\n",
       "      <th>Profit</th>\n",
       "    </tr>\n",
       "  </thead>\n",
       "  <tbody>\n",
       "    <tr>\n",
       "      <th>0</th>\n",
       "      <td>96846</td>\n",
       "      <td>3154</td>\n",
       "    </tr>\n",
       "  </tbody>\n",
       "</table>\n",
       "</div>"
      ],
      "text/plain": [
       "   No profit  Profit\n",
       "0      96846    3154"
      ]
     },
     "execution_count": 24,
     "metadata": {},
     "output_type": "execute_result"
    }
   ],
   "source": [
    "profit_no_profit"
   ]
  },
  {
   "cell_type": "code",
   "execution_count": 26,
   "id": "20b93fdd-c491-45c5-b1aa-ba75721c0fee",
   "metadata": {},
   "outputs": [
    {
     "data": {
      "image/png": "[encoded data removed]",
      "text/plain": [
       "<Figure size 288x360 with 1 Axes>"
      ]
     },
     "metadata": {
      "needs_background": "light"
     },
     "output_type": "display_data"
    }
   ],
   "source": [
    "df_profits_zoomed = pd.DataFrame(\n",
    "    data={\n",
    "        \"No profit\": [profit_no_profit.loc[0, \"No profit\"]],\n",
    "        \"Less than 100₽\": [int(profit_no_profit.loc[0, \"Profit\"] * x)],\n",
    "        \"More than 100₽\": [int(profit_no_profit.loc[0, \"Profit\"] * (1 - x))],\n",
    "    }\n",
    ")\n",
    "\n",
    "# (14/255., 14/255., 156/255.)\n",
    "\n",
    "plt.figure(figsize=(4, 5))\n",
    "df_profits_zoomed.plot.bar(\n",
    "    rot=0, stacked=True, ax=plt.gca(), color=[\"#FF4500\", \"#15B01A\", \"#1af021\"]\n",
    ")\n",
    "plt.xlim(-0.5, 1.3)\n",
    "plt.axis(\"off\")\n",
    "plt.gca().set(xlabel=None, ylabel=None)\n",
    "handles, labels = plt.gca().get_legend_handles_labels()\n",
    "plt.legend(handles[::-1], labels[::-1], loc=1)\n",
    "plt.show()"
   ]
  },
  {
   "cell_type": "code",
   "execution_count": null,
   "id": "0c9caa3c-5e5e-413a-842e-8117bf43d010",
   "metadata": {},
   "outputs": [],
   "source": []
  }
 ],
 "metadata": {
  "kernelspec": {
   "display_name": "Python (DE)",
   "language": "python",
   "name": "python3"
  },
  "language_info": {
   "codemirror_mode": {
    "name": "ipython",
    "version": 3
   },
   "file_extension": ".py",
   "mimetype": "text/x-python",
   "name": "python",
   "nbconvert_exporter": "python",
   "pygments_lexer": "ipython3",
   "version": "3.7.12"
  }
 },
 "nbformat": 4,
 "nbformat_minor": 5
}
