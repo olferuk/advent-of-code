{
 "cells": [
  {
   "cell_type": "code",
   "execution_count": 115,
   "id": "77845080-99c8-4ec1-8de0-510823f52bb3",
   "metadata": {},
   "outputs": [
    {
     "name": "stdout",
     "output_type": "stream",
     "text": [
      "The lab_black extension is already loaded. To reload it, use:\n",
      "  %reload_ext lab_black\n"
     ]
    }
   ],
   "source": [
    "%load_ext lab_black\n",
    "\n",
    "from puzzles import load\n",
    "\n",
    "import matplotlib.pyplot as plt\n",
    "import numpy as np\n",
    "import seaborn as sns"
   ]
  },
  {
   "cell_type": "code",
   "execution_count": 116,
   "id": "73ced9b3-a324-4dfd-8288-0c1491655ea6",
   "metadata": {},
   "outputs": [],
   "source": [
    "def print_line(state, number):\n",
    "    n = f\"{number: 2d}\"\n",
    "    s = \"\".join([\".#\"[i] for i in state])\n",
    "    print(f\"{n}: {s}\")\n",
    "\n",
    "\n",
    "def get_slice(state, i):\n",
    "    if i == 0:\n",
    "        s = np.concatenate([np.zeros(2, np.int32), state[i : i + 3]])\n",
    "    elif i == 1:\n",
    "        s = np.concatenate([np.zeros(1, np.int32), state[i - 1 : i + 3]])\n",
    "    elif i == len(state) - 2:\n",
    "        s = np.concatenate([state[i - 2 : i + 2], np.zeros(1, np.int32)])\n",
    "    elif i == len(state) - 1:\n",
    "        s = np.concatenate([state[i - 2 : i + 1], np.zeros(2, np.int32)])\n",
    "    else:\n",
    "        s = state[i - 2 : i + 3]\n",
    "    return tuple(s)"
   ]
  },
  {
   "cell_type": "code",
   "execution_count": 117,
   "id": "7750d17c-44da-4921-96d8-c16c5778817e",
   "metadata": {},
   "outputs": [],
   "source": [
    "lines = load(12).strip().split(\"\\n\")\n",
    "# lines = \"\"\"initial state: #..#.#..##......###...###\n",
    "\n",
    "# ...## => #\n",
    "# ..#.. => #\n",
    "# .#... => #\n",
    "# .#.#. => #\n",
    "# .#.## => #\n",
    "# .##.. => #\n",
    "# .#### => #\n",
    "# #.#.# => #\n",
    "# #.### => #\n",
    "# ##.#. => #\n",
    "# ##.## => #\n",
    "# ###.. => #\n",
    "# ###.# => #\n",
    "# ####. => #\"\"\".strip().split(\n",
    "#     \"\\n\"\n",
    "# )\n",
    "\n",
    "initial_state = np.array([\".#\".index(c) for c in lines[0].split(\": \")[-1]])\n",
    "rules = lines[2:]\n",
    "\n",
    "producer = {}\n",
    "for line in rules:\n",
    "    given, produce = line.split(\" => \")\n",
    "    given = np.array([\".#\".index(c) for c in given])\n",
    "    produce = \".#\".index(produce)\n",
    "    producer[tuple(given)] = produce"
   ]
  },
  {
   "cell_type": "code",
   "execution_count": 156,
   "id": "2bd4ca93-1c5e-4f08-9386-15c01abd9b85",
   "metadata": {},
   "outputs": [],
   "source": [
    "M = 1000\n",
    "L = 1000\n",
    "\n",
    "A = np.zeros([L + 1, M + len(state) + M], np.int32)\n",
    "A[0, M : M + len(initial_state)] = initial_state"
   ]
  },
  {
   "cell_type": "code",
   "execution_count": 157,
   "id": "0c24cc1b-f392-4ca8-9402-170afff52585",
   "metadata": {},
   "outputs": [
    {
     "data": {
      "text/plain": [
       "42061"
      ]
     },
     "execution_count": 157,
     "metadata": {},
     "output_type": "execute_result"
    }
   ],
   "source": [
    "for line_i in range(1, L + 1):\n",
    "    state = A[line_i - 1]\n",
    "    for i in range(len(state)):\n",
    "        A[line_i, i] = producer.get(get_slice(state, i), 0)\n",
    "\n",
    "(np.where(A[L] == 1)[0] - M).sum()"
   ]
  },
  {
   "cell_type": "markdown",
   "id": "37f018d7-cc2b-4fe1-96a0-9895878954c5",
   "metadata": {},
   "source": [
    "---"
   ]
  },
  {
   "cell_type": "code",
   "execution_count": 127,
   "id": "e9b8abac-b4d4-4d19-9e96-0a9f63d17e6a",
   "metadata": {},
   "outputs": [
    {
     "data": {
      "text/plain": [
       "(1000.0, 995.0)"
      ]
     },
     "execution_count": 127,
     "metadata": {},
     "output_type": "execute_result"
    },
    {
     "data": {
      "image/png": "[encoded data removed]",
      "text/plain": [
       "<Figure size 432x288 with 2 Axes>"
      ]
     },
     "metadata": {
      "needs_background": "light"
     },
     "output_type": "display_data"
    }
   ],
   "source": [
    "sns.heatmap(A)\n",
    "plt.xlim(1896, 2120)\n",
    "plt.ylim(1000, 995)"
   ]
  },
  {
   "cell_type": "code",
   "execution_count": null,
   "id": "3ce2e700-9b0e-4089-8575-d8c6a53e032a",
   "metadata": {},
   "outputs": [
    {
     "name": "stdout",
     "output_type": "stream",
     "text": [
      "857 1046\n",
      "858 1047\n",
      "859 1048\n",
      "860 1049\n",
      "861 1050\n",
      "862 1051\n",
      "863 1052\n",
      "864 1053\n",
      "865 1054\n",
      "866 1055\n",
      "867 1056\n",
      "868 1057\n",
      "869 1058\n",
      "870 1059\n",
      "871 1060\n",
      "872 1061\n",
      "873 1062\n",
      "874 1063\n",
      "875 1064\n",
      "876 1065\n",
      "877 1066\n",
      "878 1067\n",
      "879 1068\n",
      "880 1069\n",
      "881 1070\n",
      "882 1071\n",
      "883 1072\n",
      "884 1073\n",
      "885 1074\n",
      "886 1075\n",
      "887 1076\n",
      "888 1077\n",
      "889 1078\n",
      "890 1079\n",
      "891 1080\n",
      "892 1081\n",
      "893 1082\n",
      "894 1083\n",
      "895 1084\n",
      "896 1085\n",
      "897 1086\n",
      "898 1087\n",
      "899 1088\n",
      "900 1089\n",
      "901 1090\n",
      "902 1091\n",
      "903 1092\n",
      "904 1093\n",
      "905 1094\n"
     ]
    }
   ],
   "source": [
    "for i in range(950, 999):\n",
    "    v = np.where(A[i] == 1)[0] - M\n",
    "    print(v[0], v[-1])"
   ]
  },
  {
   "cell_type": "code",
   "execution_count": 145,
   "id": "4cc67d6e-177f-4cf9-89a4-130373933bc9",
   "metadata": {},
   "outputs": [],
   "source": [
    "t1 = tuple(\n",
    "    [b - a for a, b in zip(np.where(A[990] == 1)[0], np.where(A[990] == 1)[0][1:])]\n",
    ")\n",
    "\n",
    "t2 = tuple(\n",
    "    [b - a for a, b in zip(np.where(A[880] == 1)[0], np.where(A[880] == 1)[0][1:])]\n",
    ")\n",
    "\n",
    "t3 = tuple(\n",
    "    [b - a for a, b in zip(np.where(A[931] == 1)[0], np.where(A[931] == 1)[0][1:])]\n",
    ")"
   ]
  },
  {
   "cell_type": "code",
   "execution_count": 146,
   "id": "e43cfb11-d502-402f-a53d-ec086b632273",
   "metadata": {},
   "outputs": [
    {
     "data": {
      "text/plain": [
       "True"
      ]
     },
     "execution_count": 146,
     "metadata": {},
     "output_type": "execute_result"
    }
   ],
   "source": [
    "t1 == t2 == t3"
   ]
  },
  {
   "cell_type": "code",
   "execution_count": 166,
   "id": "14c6e3a1-a5b7-49c6-b724-381df656e630",
   "metadata": {},
   "outputs": [],
   "source": [
    "def f(x):\n",
    "    x0 = x + (857 - 950)\n",
    "    shifts = np.array(\n",
    "        [\n",
    "            1,\n",
    "            7,\n",
    "            1,\n",
    "            9,\n",
    "            1,\n",
    "            8,\n",
    "            1,\n",
    "            5,\n",
    "            1,\n",
    "            10,\n",
    "            1,\n",
    "            9,\n",
    "            1,\n",
    "            7,\n",
    "            1,\n",
    "            5,\n",
    "            1,\n",
    "            14,\n",
    "            1,\n",
    "            5,\n",
    "            1,\n",
    "            9,\n",
    "            1,\n",
    "            10,\n",
    "            1,\n",
    "            14,\n",
    "            1,\n",
    "            9,\n",
    "            1,\n",
    "            12,\n",
    "            1,\n",
    "            11,\n",
    "            1,\n",
    "            6,\n",
    "            1,\n",
    "            6,\n",
    "            1,\n",
    "            6,\n",
    "            1,\n",
    "            6,\n",
    "            1,\n",
    "        ]\n",
    "    )\n",
    "    y0 = x0\n",
    "    total = x0\n",
    "    for s in shifts:\n",
    "        x0 += s\n",
    "        total += x0\n",
    "    return total"
   ]
  },
  {
   "cell_type": "code",
   "execution_count": 167,
   "id": "0920cbc9-6ce2-43eb-a449-2ca81236e8b8",
   "metadata": {},
   "outputs": [
    {
     "data": {
      "text/plain": [
       "39961"
      ]
     },
     "execution_count": 167,
     "metadata": {},
     "output_type": "execute_result"
    }
   ],
   "source": [
    "(np.where(A[950] == 1)[0] - M).sum()"
   ]
  },
  {
   "cell_type": "code",
   "execution_count": 168,
   "id": "2f8df0ad-acc5-49e8-bb2d-0fecabda8296",
   "metadata": {},
   "outputs": [
    {
     "data": {
      "text/plain": [
       "39961"
      ]
     },
     "execution_count": 168,
     "metadata": {},
     "output_type": "execute_result"
    }
   ],
   "source": [
    "f(950)"
   ]
  },
  {
   "cell_type": "code",
   "execution_count": 165,
   "id": "5e60c8f3-d17e-48a5-acea-def1ef7a72bc",
   "metadata": {},
   "outputs": [
    {
     "data": {
      "text/plain": [
       "(2100000000061, 49999999907, 50000000096)"
      ]
     },
     "execution_count": 165,
     "metadata": {},
     "output_type": "execute_result"
    }
   ],
   "source": [
    "f(50000000000)"
   ]
  }
 ],
 "metadata": {
  "kernelspec": {
   "display_name": "Python (DE)",
   "language": "python",
   "name": "python3"
  },
  "language_info": {
   "codemirror_mode": {
    "name": "ipython",
    "version": 3
   },
   "file_extension": ".py",
   "mimetype": "text/x-python",
   "name": "python",
   "nbconvert_exporter": "python",
   "pygments_lexer": "ipython3",
   "version": "3.7.12"
  }
 },
 "nbformat": 4,
 "nbformat_minor": 5
}
