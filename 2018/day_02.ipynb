{
 "cells": [
  {
   "cell_type": "code",
   "execution_count": 1,
   "id": "102fabd3-614d-43cd-bbda-57a4294c401a",
   "metadata": {},
   "outputs": [],
   "source": [
    "%load_ext lab_black\n",
    "\n",
    "from puzzles import load"
   ]
  },
  {
   "cell_type": "code",
   "execution_count": 3,
   "id": "cd8f73ff-f4e7-4147-b5ae-a62d36a76156",
   "metadata": {},
   "outputs": [],
   "source": [
    "from collections import Counter"
   ]
  },
  {
   "cell_type": "code",
   "execution_count": 9,
   "id": "a102c370-ed71-4344-8812-873aa63b718f",
   "metadata": {},
   "outputs": [
    {
     "data": {
      "text/plain": [
       "4980"
      ]
     },
     "execution_count": 9,
     "metadata": {},
     "output_type": "execute_result"
    }
   ],
   "source": [
    "pairs = 0\n",
    "triplets = 0\n",
    "\n",
    "for line in load(2).strip().split(\"\\n\"):\n",
    "    s = set([v for v in Counter(line).values() if v in [2, 3]])\n",
    "    pairs += int(2 in s)\n",
    "    triplets += int(3 in s)\n",
    "\n",
    "triplets * pairs"
   ]
  },
  {
   "cell_type": "code",
   "execution_count": 26,
   "id": "9966a69c-b2c7-47da-9a73-9a11287300dd",
   "metadata": {},
   "outputs": [],
   "source": [
    "ls = (\n",
    "    load(2).strip().split(\"\\n\")\n",
    ")  # [\"\".join(sorted(line)) for line in load(2).strip().split(\"\\n\")]"
   ]
  },
  {
   "cell_type": "code",
   "execution_count": 27,
   "id": "74b96d58-fe5f-4832-abea-42a74b51dd26",
   "metadata": {},
   "outputs": [],
   "source": [
    "import numpy as np"
   ]
  },
  {
   "cell_type": "code",
   "execution_count": 29,
   "id": "81953da6-4774-4883-8621-bb82d8267144",
   "metadata": {},
   "outputs": [],
   "source": [
    "found = False\n",
    "for a in ls:\n",
    "    for b in ls:\n",
    "        if a == b:\n",
    "            continue\n",
    "        if (np.array(list(a)) != np.array(list(b))).sum() == 1:\n",
    "            found = True\n",
    "            break\n",
    "    if found:\n",
    "        break"
   ]
  },
  {
   "cell_type": "code",
   "execution_count": 34,
   "id": "4d695b81-88c0-4451-b659-b975869d083e",
   "metadata": {},
   "outputs": [
    {
     "data": {
      "text/plain": [
       "'qysdtrkloagnfozuwujmhrbvx'"
      ]
     },
     "execution_count": 34,
     "metadata": {},
     "output_type": "execute_result"
    }
   ],
   "source": [
    "\"\".join(np.array(list(a))[(np.array(list(a)) == np.array(list(b)))])"
   ]
  },
  {
   "cell_type": "code",
   "execution_count": null,
   "id": "90b6ac02-dead-4aae-a84c-ee777893e2af",
   "metadata": {},
   "outputs": [],
   "source": []
  }
 ],
 "metadata": {
  "kernelspec": {
   "display_name": "platy-segmentation",
   "language": "python",
   "name": "platy-segmentation"
  },
  "language_info": {
   "codemirror_mode": {
    "name": "ipython",
    "version": 3
   },
   "file_extension": ".py",
   "mimetype": "text/x-python",
   "name": "python",
   "nbconvert_exporter": "python",
   "pygments_lexer": "ipython3",
   "version": "3.9.6"
  }
 },
 "nbformat": 4,
 "nbformat_minor": 5
}
