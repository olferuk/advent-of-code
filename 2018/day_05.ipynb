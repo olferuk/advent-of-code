{
 "cells": [
  {
   "cell_type": "code",
   "execution_count": 132,
   "id": "1a267c0e-cb37-4049-a9cb-b6643ac367e9",
   "metadata": {
    "tags": []
   },
   "outputs": [
    {
     "name": "stdout",
     "output_type": "stream",
     "text": [
      "The lab_black extension is already loaded. To reload it, use:\n",
      "  %reload_ext lab_black\n"
     ]
    }
   ],
   "source": [
    "%load_ext lab_black\n",
    "\n",
    "from puzzles import load\n",
    "\n",
    "from tqdm.auto import tqdm\n",
    "\n",
    "import numpy as np"
   ]
  },
  {
   "cell_type": "code",
   "execution_count": 144,
   "id": "c62dc70a-1124-43c7-8c83-3cd57ed7d28c",
   "metadata": {},
   "outputs": [
    {
     "data": {
      "text/plain": [
       "9172"
      ]
     },
     "execution_count": 144,
     "metadata": {},
     "output_type": "execute_result"
    }
   ],
   "source": [
    "data = load(5).strip()\n",
    "\n",
    "data = [ord(c) for c in data]\n",
    "p = 0\n",
    "\n",
    "while p < len(data) - 1:\n",
    "\n",
    "    has_pair = abs(data[p] - data[p + 1]) == 32\n",
    "    if not has_pair:\n",
    "        p += 1\n",
    "    else:\n",
    "        del data[p]\n",
    "        del data[p]\n",
    "        p -= 1\n",
    "\n",
    "len(data)"
   ]
  },
  {
   "cell_type": "markdown",
   "id": "65f57a55-0060-43c2-9a0a-af298f470e77",
   "metadata": {},
   "source": [
    "---"
   ]
  },
  {
   "cell_type": "code",
   "execution_count": 149,
   "id": "250c11e5-4e30-4aa3-bfb9-ec8e4c94c9dd",
   "metadata": {},
   "outputs": [],
   "source": [
    "original_data = load(5).strip()"
   ]
  },
  {
   "cell_type": "code",
   "execution_count": 150,
   "id": "b308a4b7-f180-4761-92ec-633a930f5ff0",
   "metadata": {},
   "outputs": [],
   "source": [
    "from tqdm import tqdm"
   ]
  },
  {
   "cell_type": "code",
   "execution_count": 151,
   "id": "2110553d-8985-402f-94ca-2a994d34651f",
   "metadata": {},
   "outputs": [
    {
     "name": "stderr",
     "output_type": "stream",
     "text": [
      "100%|██████████████████████████████████████████| 26/26 [00:09<00:00,  2.79it/s]\n"
     ]
    },
    {
     "data": {
      "text/plain": [
       "(6550, 'x')"
      ]
     },
     "execution_count": 151,
     "metadata": {},
     "output_type": "execute_result"
    }
   ],
   "source": [
    "min_len = 1e9\n",
    "\n",
    "for X in tqdm(set(original_data.lower())):\n",
    "    data = \"\".join([c for c in original_data if not (c.lower() == X or c.upper() == X)])\n",
    "\n",
    "    data = [ord(c) for c in data]\n",
    "    p = 0\n",
    "\n",
    "    while p < len(data) - 1:\n",
    "\n",
    "        has_pair = abs(data[p] - data[p + 1]) == 32\n",
    "        if not has_pair:\n",
    "            p += 1\n",
    "        else:\n",
    "            del data[p]\n",
    "            del data[p]\n",
    "            p -= 1\n",
    "\n",
    "    l = len(data)\n",
    "    if l < min_len:\n",
    "        min_len = l\n",
    "        best_letter = X\n",
    "\n",
    "min_len, best_letter"
   ]
  },
  {
   "cell_type": "code",
   "execution_count": 14,
   "id": "f94e6223-67ab-4d6a-bb09-436defc8826a",
   "metadata": {},
   "outputs": [
    {
     "data": {
      "text/plain": [
       "(32, 32)"
      ]
     },
     "execution_count": 14,
     "metadata": {},
     "output_type": "execute_result"
    }
   ],
   "source": [
    "data[0] - data[1], data[2] - data[3]"
   ]
  }
 ],
 "metadata": {
  "kernelspec": {
   "display_name": "Python (DE)",
   "language": "python",
   "name": "python3"
  },
  "language_info": {
   "codemirror_mode": {
    "name": "ipython",
    "version": 3
   },
   "file_extension": ".py",
   "mimetype": "text/x-python",
   "name": "python",
   "nbconvert_exporter": "python",
   "pygments_lexer": "ipython3",
   "version": "3.7.12"
  }
 },
 "nbformat": 4,
 "nbformat_minor": 5
}
