{
 "cells": [
  {
   "cell_type": "code",
   "execution_count": 1,
   "id": "a97bf64d-ac1f-4676-902d-1ba71e3ad2c1",
   "metadata": {
    "tags": []
   },
   "outputs": [],
   "source": [
    "%load_ext lab_black\n",
    "\n",
    "from puzzles import load"
   ]
  },
  {
   "cell_type": "code",
   "execution_count": 2,
   "id": "683fa3f1-8c28-425a-af18-4affc8fd378a",
   "metadata": {},
   "outputs": [],
   "source": [
    "from tqdm.auto import tqdm"
   ]
  },
  {
   "cell_type": "raw",
   "id": "21872a55-d2c5-496b-8b64-78798a9304d8",
   "metadata": {},
   "source": [
    "s = load(5)\n",
    "pbar = tqdm(total=len(s))\n",
    "\n",
    "is_pair = lambda x, y: x == x.lower() and y == y.upper() and x.upper() == y\n",
    "\n",
    "while True:\n",
    "    snew = \"\"\n",
    "    skip_i = -1\n",
    "    skipping = False\n",
    "    for i, a, b in zip(range(len(s)), s, s[1:]):\n",
    "\n",
    "        if skipping:\n",
    "            snew += a\n",
    "            continue\n",
    "\n",
    "        if i == skip_i:\n",
    "            skipping = True\n",
    "            continue\n",
    "\n",
    "        if is_pair(a, b) or is_pair(b, a):\n",
    "            skip_i = i + 1\n",
    "            continue\n",
    "\n",
    "        snew += a\n",
    "\n",
    "    snew += s[-1] if skip_i != len(s) - 1 else \"\"\n",
    "\n",
    "    if snew == s:\n",
    "        break\n",
    "\n",
    "    s = snew\n",
    "    pbar.n = pbar.last_print_n = 50001 - len(s)\n",
    "    pbar.display()"
   ]
  },
  {
   "cell_type": "raw",
   "id": "04ff93a6-b56a-46a3-9ee6-ef5817dba674",
   "metadata": {},
   "source": [
    "len(s)"
   ]
  },
  {
   "cell_type": "code",
   "execution_count": 3,
   "id": "16f5fdbc-a44a-4d47-b52f-3902dcab3328",
   "metadata": {},
   "outputs": [],
   "source": [
    "from tqdm import tqdm"
   ]
  },
  {
   "cell_type": "code",
   "execution_count": 4,
   "id": "fd3252d0-2f76-4d43-8f4a-29d1f34fa7b1",
   "metadata": {},
   "outputs": [
    {
     "name": "stderr",
     "output_type": "stream",
     "text": [
      " 82%|█████████████████████████████▍      | 40828/50001 [00:43<00:09, 935.20it/s]"
     ]
    },
    {
     "data": {
      "text/plain": [
       "9173"
      ]
     },
     "execution_count": 4,
     "metadata": {},
     "output_type": "execute_result"
    }
   ],
   "source": [
    "s = load(5)\n",
    "# s = \"dabAcCaCBAcCcaDA\"\n",
    "\n",
    "len_original = len(s)\n",
    "pbar = tqdm(total=len(s))\n",
    "\n",
    "is_pair = lambda x, y: (\n",
    "    (x == x.lower() and y == y.upper() and x.upper() == y)\n",
    "    or (y == y.lower() and x == x.upper() and y.upper() == x)\n",
    ")\n",
    "\n",
    "while True:\n",
    "    snew = \"\"\n",
    "    skip_i = -1\n",
    "\n",
    "    for i, a, b in zip(range(len(s)), s, s[1:]):\n",
    "\n",
    "        if i == skip_i:\n",
    "            continue\n",
    "\n",
    "        if is_pair(a, b):\n",
    "            skip_i = i + 1\n",
    "            continue\n",
    "\n",
    "        snew += a\n",
    "\n",
    "    snew += s[-1] if skip_i != len(s) - 1 else \"\"\n",
    "\n",
    "    if snew == s:\n",
    "        break\n",
    "\n",
    "    s = snew\n",
    "    pbar.n = pbar.last_print_n = len_original - len(s)\n",
    "    pbar.display()\n",
    "\n",
    "len(s)"
   ]
  },
  {
   "cell_type": "code",
   "execution_count": null,
   "id": "1fa68386-c36f-4ab9-9a36-7b30ea5bce25",
   "metadata": {},
   "outputs": [],
   "source": []
  }
 ],
 "metadata": {
  "kernelspec": {
   "display_name": "platy-segmentation",
   "language": "python",
   "name": "platy-segmentation"
  },
  "language_info": {
   "codemirror_mode": {
    "name": "ipython",
    "version": 3
   },
   "file_extension": ".py",
   "mimetype": "text/x-python",
   "name": "python",
   "nbconvert_exporter": "python",
   "pygments_lexer": "ipython3",
   "version": "3.9.6"
  }
 },
 "nbformat": 4,
 "nbformat_minor": 5
}
