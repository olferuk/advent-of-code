{
 "cells": [
  {
   "cell_type": "code",
   "execution_count": 81,
   "id": "bcb9c541-eedc-4d85-99ed-4d30496ae3bf",
   "metadata": {},
   "outputs": [
    {
     "name": "stdout",
     "output_type": "stream",
     "text": [
      "The lab_black extension is already loaded. To reload it, use:\n",
      "  %reload_ext lab_black\n"
     ]
    }
   ],
   "source": [
    "%load_ext lab_black\n",
    "\n",
    "from puzzles import load\n",
    "\n",
    "import numpy as np"
   ]
  },
  {
   "cell_type": "code",
   "execution_count": 82,
   "id": "4d8d5d89-1e01-4156-963b-4e94eaa7da58",
   "metadata": {},
   "outputs": [],
   "source": [
    "def get_horizontal_neibs(data, x, y):\n",
    "    results = []\n",
    "    if x - 1 >= 0:\n",
    "        results.append(data[y, x - 1])\n",
    "    if x + 1 < len(data[0]):\n",
    "        results.append(data[y, x + 1])\n",
    "    return results\n",
    "\n",
    "\n",
    "def get_vertical_neibs(data, x, y):\n",
    "    results = []\n",
    "    if y - 1 >= 0:\n",
    "        results.append(data[y - 1, x])\n",
    "    if y + 1 < len(data):\n",
    "        results.append(data[y + 1, x])\n",
    "    return results\n",
    "\n",
    "\n",
    "def get_neibs(data, x, y):\n",
    "    return get_vertical_neibs(data, x, y) + get_horizontal_neibs(data, x, y)"
   ]
  },
  {
   "cell_type": "code",
   "execution_count": 83,
   "id": "8a0aaa44-5d38-4672-aa9b-263348f4702c",
   "metadata": {},
   "outputs": [],
   "source": [
    "s = load(13)\n",
    "A = np.array([list(line) for line in s.split(\"\\n\") if len(line) > 0])\n",
    "\n",
    "carts_vars = \"<>^v\"\n",
    "\n",
    "hlines = {\"--\", \"/-\", \"\\\\-\", \"-\\\\\", \"-/\", \"-+\", \"+-\", \"++\", \"/+\", \"\\\\+\", \"+\\\\\", \"+/\"}\n",
    "vlines = {\"||\", \"/|\", \"\\\\|\", \"|\\\\\", \"|/\", \"|+\", \"+|\", \"++\", \"/+\", \"\\\\+\", \"+\\\\\", \"+/\"}\n",
    "\n",
    "carts = []\n",
    "\n",
    "for y in range(len(A)):\n",
    "    for x in range(len(A[0])):\n",
    "        if A[y, x] in carts_vars:\n",
    "\n",
    "            carts.append((A[y, x], x, y))\n",
    "\n",
    "            vs = \"\".join(get_vertical_neibs(A, x, y))\n",
    "            hs = \"\".join(get_horizontal_neibs(A, x, y))\n",
    "\n",
    "            if vs in vlines and hs in hlines:\n",
    "                A[y, x] = \"+\"\n",
    "            elif vs in vlines and hs not in hlines:\n",
    "                A[y, x] = \"|\"\n",
    "            elif vs not in vlines and hs in hlines:\n",
    "                A[y, x] = \"-\"\n",
    "            else:\n",
    "                raise RuntimeError"
   ]
  },
  {
   "cell_type": "code",
   "execution_count": 84,
   "id": "dc93bc93-3303-4d2c-9013-f297a915d723",
   "metadata": {},
   "outputs": [
    {
     "data": {
      "text/plain": [
       "[('^', 147, 8),\n",
       " ('<', 52, 12),\n",
       " ('>', 57, 20),\n",
       " ('<', 123, 37),\n",
       " ('^', 144, 42),\n",
       " ('>', 71, 43),\n",
       " ('v', 124, 48),\n",
       " ('v', 76, 55),\n",
       " ('<', 82, 64),\n",
       " ('v', 138, 90),\n",
       " ('^', 8, 96),\n",
       " ('<', 53, 103),\n",
       " ('^', 63, 105),\n",
       " ('<', 131, 109),\n",
       " ('>', 51, 125),\n",
       " ('v', 130, 128),\n",
       " ('>', 45, 129)]"
      ]
     },
     "execution_count": 84,
     "metadata": {},
     "output_type": "execute_result"
    }
   ],
   "source": [
    "carts"
   ]
  },
  {
   "cell_type": "code",
   "execution_count": null,
   "id": "cdcb13d0-3903-42e4-b32c-d401f4e32da2",
   "metadata": {},
   "outputs": [],
   "source": []
  }
 ],
 "metadata": {
  "kernelspec": {
   "display_name": "Python (DE)",
   "language": "python",
   "name": "python3"
  },
  "language_info": {
   "codemirror_mode": {
    "name": "ipython",
    "version": 3
   },
   "file_extension": ".py",
   "mimetype": "text/x-python",
   "name": "python",
   "nbconvert_exporter": "python",
   "pygments_lexer": "ipython3",
   "version": "3.7.12"
  }
 },
 "nbformat": 4,
 "nbformat_minor": 5
}
