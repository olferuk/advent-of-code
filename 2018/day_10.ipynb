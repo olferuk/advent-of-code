{
 "cells": [
  {
   "cell_type": "code",
   "execution_count": 1,
   "id": "14b46c75-2e1e-4520-a847-67404a7a8ea2",
   "metadata": {},
   "outputs": [],
   "source": [
    "%load_ext lab_black\n",
    "\n",
    "from puzzles import load"
   ]
  },
  {
   "cell_type": "code",
   "execution_count": 97,
   "id": "93987c61-1322-4b15-9a0f-288ba66f69a6",
   "metadata": {},
   "outputs": [],
   "source": [
    "import re\n",
    "\n",
    "import numpy as np\n",
    "\n",
    "from scipy.spatial.distance import euclidean\n",
    "\n",
    "\n",
    "def rmse_in_between(pts):\n",
    "    error = 0\n",
    "    for i in range(len(pts)):\n",
    "        for j in range(len(pts)):\n",
    "            a, b = pts[i], pts[j]\n",
    "            error += np.sqrt(euclidean(a[:2], b[:2]))\n",
    "    error /= len(pts)\n",
    "    return error\n",
    "\n",
    "\n",
    "import matplotlib.pyplot as plt\n",
    "\n",
    "from glob import glob\n",
    "import cv2"
   ]
  },
  {
   "cell_type": "markdown",
   "id": "1da47ea7-62dd-48bc-a63a-7a4c270c4abc",
   "metadata": {},
   "source": [
    "---"
   ]
  },
  {
   "cell_type": "code",
   "execution_count": 81,
   "id": "99d558f2-fea7-40fb-b8f4-7a2cb38f1b3f",
   "metadata": {},
   "outputs": [],
   "source": [
    "from tqdm import tqdm"
   ]
  },
  {
   "cell_type": "code",
   "execution_count": 82,
   "id": "e507f65e-4973-4d97-b453-a5d1cd1e16e8",
   "metadata": {},
   "outputs": [
    {
     "name": "stderr",
     "output_type": "stream",
     "text": [
      "100%|███████████████████████████████████████████| 20/20 [00:55<00:00,  2.75s/it]\n"
     ]
    }
   ],
   "source": [
    "errs = []\n",
    "e_min = 1e9\n",
    "for i in tqdm(range(20)):\n",
    "    points[:, :2] = points[:, :2] + points[:, 2:]\n",
    "    e = rmse_in_between(points)\n",
    "    errs.append(e)\n",
    "    if e < e_min:\n",
    "        e_min = e\n",
    "        best_pts = points[:, :2].copy()"
   ]
  },
  {
   "cell_type": "markdown",
   "id": "fb2fe719-c7d8-42bd-bf56-6b3f9986e989",
   "metadata": {},
   "source": [
    "---"
   ]
  },
  {
   "cell_type": "code",
   "execution_count": 153,
   "id": "9f72de45-8336-4bad-8806-a202981d47c5",
   "metadata": {},
   "outputs": [],
   "source": [
    "import pandas as pd"
   ]
  },
  {
   "cell_type": "code",
   "execution_count": 154,
   "id": "69e3c8f1-1eea-4438-9204-ee1849564620",
   "metadata": {},
   "outputs": [],
   "source": [
    "points = np.array(\n",
    "    [re.findall(r\"\\-?\\d+\", line) for line in load(10).strip().split(\"\\n\")]\n",
    ").astype(int)\n",
    "\n",
    "points[:, :2] = points[:, :2] + points[:, 2:] * 9000"
   ]
  },
  {
   "cell_type": "code",
   "execution_count": 155,
   "id": "12cf2cf1-1872-4458-8c98-b67ad5cfde18",
   "metadata": {},
   "outputs": [],
   "source": [
    "df = pd.DataFrame(points, columns=[\"x\", \"y\", \"dx\", \"dy\"])"
   ]
  },
  {
   "cell_type": "code",
   "execution_count": 156,
   "id": "443afaf2-e7a8-411f-aaf0-f201f41df4f8",
   "metadata": {},
   "outputs": [],
   "source": [
    "df.sort_values(by=[\"x\", \"y\"], inplace=True)"
   ]
  },
  {
   "cell_type": "code",
   "execution_count": 157,
   "id": "2a055046-2713-4654-acf0-1fbcd28f918b",
   "metadata": {},
   "outputs": [
    {
     "name": "stdout",
     "output_type": "stream",
     "text": [
      "yep\n"
     ]
    }
   ],
   "source": [
    "N = 0\n",
    "for _ in range(100000):\n",
    "    N += 1\n",
    "\n",
    "    df[\"x\"] = df[\"x\"] + df[\"dx\"]\n",
    "    df[\"y\"] = df[\"y\"] + df[\"dy\"]\n",
    "\n",
    "    if df.x.value_counts().iloc[0] > 15 or df.y.value_counts().iloc[0] > 15:\n",
    "        print(\"yep\")\n",
    "        break"
   ]
  },
  {
   "cell_type": "code",
   "execution_count": 166,
   "id": "6b4cb8c2-3dda-42a7-8aa4-dec333d92b23",
   "metadata": {},
   "outputs": [
    {
     "data": {
      "text/plain": [
       "(160.0, 100.0)"
      ]
     },
     "execution_count": 166,
     "metadata": {},
     "output_type": "execute_result"
    },
    {
     "data": {
      "image/png": "[encoded data removed]",
      "text/plain": [
       "<Figure size 432x288 with 1 Axes>"
      ]
     },
     "metadata": {
      "needs_background": "light"
     },
     "output_type": "display_data"
    }
   ],
   "source": [
    "N += 1\n",
    "df[\"x\"] = df[\"x\"] + df[\"dx\"]\n",
    "df[\"y\"] = df[\"y\"] + df[\"dy\"]\n",
    "\n",
    "pts = df[[\"x\", \"y\"]].values.copy()\n",
    "\n",
    "plt.scatter(pts[:, 0], pts[:, 1])\n",
    "plt.ylim([160, 100])"
   ]
  },
  {
   "cell_type": "code",
   "execution_count": 167,
   "id": "fe0a0587-c897-402e-9bc5-71fafda6acda",
   "metadata": {},
   "outputs": [
    {
     "data": {
      "text/plain": [
       "1159"
      ]
     },
     "execution_count": 167,
     "metadata": {},
     "output_type": "execute_result"
    }
   ],
   "source": [
    "N"
   ]
  }
 ],
 "metadata": {
  "kernelspec": {
   "display_name": "platy-segmentation",
   "language": "python",
   "name": "platy-segmentation"
  },
  "language_info": {
   "codemirror_mode": {
    "name": "ipython",
    "version": 3
   },
   "file_extension": ".py",
   "mimetype": "text/x-python",
   "name": "python",
   "nbconvert_exporter": "python",
   "pygments_lexer": "ipython3",
   "version": "3.9.6"
  }
 },
 "nbformat": 4,
 "nbformat_minor": 5
}
