{
 "cells": [
  {
   "cell_type": "code",
   "execution_count": 2,
   "id": "627c5875-4956-409d-9841-427f7cfa9b92",
   "metadata": {},
   "outputs": [],
   "source": [
    "%load_ext lab_black\n",
    "\n",
    "from puzzles import load"
   ]
  },
  {
   "cell_type": "code",
   "execution_count": 5,
   "id": "d7f25eac-10f2-4a13-83ed-05023ec036ed",
   "metadata": {},
   "outputs": [
    {
     "data": {
      "text/plain": [
       "402"
      ]
     },
     "execution_count": 5,
     "metadata": {},
     "output_type": "execute_result"
    }
   ],
   "source": [
    "freq = 0\n",
    "for token in load(1).strip().split(\"\\n\"):\n",
    "    sign = 1 if token[0] == \"+\" else -1\n",
    "    freq += sign * int(token[1:])\n",
    "freq"
   ]
  },
  {
   "cell_type": "code",
   "execution_count": 16,
   "id": "547119fe-a336-479c-9269-27545a1f1816",
   "metadata": {},
   "outputs": [
    {
     "name": "stdout",
     "output_type": "stream",
     "text": [
      "481\n"
     ]
    }
   ],
   "source": [
    "cmds = [int(x[1:]) * (1 if x[0] == \"+\" else -1) for x in load(1).strip().split(\"\\n\")]\n",
    "\n",
    "freqs = {0}\n",
    "freq = 0\n",
    "\n",
    "found = False\n",
    "while True:\n",
    "    for token in cmds:\n",
    "        freq += token\n",
    "        if freq in freqs:\n",
    "            print(freq)\n",
    "            found = True\n",
    "            break\n",
    "        freqs.add(freq)\n",
    "    if found:\n",
    "        break"
   ]
  }
 ],
 "metadata": {
  "kernelspec": {
   "display_name": "platy-segmentation",
   "language": "python",
   "name": "platy-segmentation"
  },
  "language_info": {
   "codemirror_mode": {
    "name": "ipython",
    "version": 3
   },
   "file_extension": ".py",
   "mimetype": "text/x-python",
   "name": "python",
   "nbconvert_exporter": "python",
   "pygments_lexer": "ipython3",
   "version": "3.9.6"
  }
 },
 "nbformat": 4,
 "nbformat_minor": 5
}
