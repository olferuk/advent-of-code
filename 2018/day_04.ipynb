{
 "cells": [
  {
   "cell_type": "code",
   "execution_count": 1,
   "id": "fd3ce8d0-6d65-40c7-bd74-ddc7c5886d3c",
   "metadata": {},
   "outputs": [],
   "source": [
    "%load_ext lab_black\n",
    "\n",
    "from puzzles import load"
   ]
  },
  {
   "cell_type": "raw",
   "id": "5f686d19-1459-497f-9ccf-78fb5d02f625",
   "metadata": {},
   "source": [
    "load(4)"
   ]
  },
  {
   "cell_type": "code",
   "execution_count": null,
   "id": "e69571e2-8e3d-44d2-be29-7260761aee58",
   "metadata": {},
   "outputs": [],
   "source": []
  }
 ],
 "metadata": {
  "kernelspec": {
   "display_name": "platy-segmentation",
   "language": "python",
   "name": "platy-segmentation"
  },
  "language_info": {
   "codemirror_mode": {
    "name": "ipython",
    "version": 3
   },
   "file_extension": ".py",
   "mimetype": "text/x-python",
   "name": "python",
   "nbconvert_exporter": "python",
   "pygments_lexer": "ipython3",
   "version": "3.9.6"
  }
 },
 "nbformat": 4,
 "nbformat_minor": 5
}
