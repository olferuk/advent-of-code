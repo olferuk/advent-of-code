{
 "cells": [
  {
   "cell_type": "code",
   "execution_count": 85,
   "id": "fd3ce8d0-6d65-40c7-bd74-ddc7c5886d3c",
   "metadata": {},
   "outputs": [
    {
     "name": "stdout",
     "output_type": "stream",
     "text": [
      "The lab_black extension is already loaded. To reload it, use:\n",
      "  %reload_ext lab_black\n"
     ]
    }
   ],
   "source": [
    "%load_ext lab_black\n",
    "\n",
    "from puzzles import load"
   ]
  },
  {
   "cell_type": "code",
   "execution_count": 86,
   "id": "5db0a0de-e5ef-439b-83b8-ab3e93b2fcba",
   "metadata": {},
   "outputs": [],
   "source": [
    "from toolz import groupby\n",
    "from datetime import datetime\n",
    "import numpy as np"
   ]
  },
  {
   "cell_type": "code",
   "execution_count": 87,
   "id": "3de0c8d3-2464-4333-a064-70e6de397302",
   "metadata": {},
   "outputs": [],
   "source": [
    "data = load(4)\n",
    "\n",
    "# data = \"\"\"[1518-11-01 00:00] Guard #10 begins shift\n",
    "# [1518-11-01 00:05] falls asleep\n",
    "# [1518-11-01 00:25] wakes up\n",
    "# [1518-11-01 00:30] falls asleep\n",
    "# [1518-11-01 00:55] wakes up\n",
    "# [1518-11-01 23:58] Guard #99 begins shift\n",
    "# [1518-11-02 00:40] falls asleep\n",
    "# [1518-11-02 00:50] wakes up\n",
    "# [1518-11-03 00:05] Guard #10 begins shift\n",
    "# [1518-11-03 00:24] falls asleep\n",
    "# [1518-11-03 00:29] wakes up\n",
    "# [1518-11-04 00:02] Guard #99 begins shift\n",
    "# [1518-11-04 00:36] falls asleep\n",
    "# [1518-11-04 00:46] wakes up\n",
    "# [1518-11-05 00:03] Guard #99 begins shift\n",
    "# [1518-11-05 00:45] falls asleep\n",
    "# [1518-11-05 00:55] wakes up\"\"\"\n",
    "\n",
    "lines = data.strip().split(\"\\n\")\n",
    "lines = sorted(\n",
    "    lines, key=lambda a: datetime.strptime(a.split(\"] \")[0], \"[%Y-%m-%d %H:%M\")\n",
    ")"
   ]
  },
  {
   "cell_type": "code",
   "execution_count": 88,
   "id": "6b227bb3-dbb8-4205-b1be-95a03e9c810c",
   "metadata": {},
   "outputs": [],
   "source": [
    "def parse_event(line: str):\n",
    "    dtime, event = line.split(\"] \")\n",
    "    d = datetime.strptime(dtime, \"[%Y-%m-%d %H:%M\")\n",
    "    return d, event\n",
    "\n",
    "\n",
    "def get_minute(d):\n",
    "    return d.hour * 60 + d.minute\n",
    "\n",
    "\n",
    "def create_new_nightshift_if_needed(data, idx, date):\n",
    "    if (d.month, d.day) not in data[idx]:\n",
    "        # выделяем 24 часа на ночь в этот день, — мало ли?)\n",
    "        day_vec = np.zeros(12 * 60, dtype=np.uint8)\n",
    "        data[idx][(d.month, d.day)] = day_vec\n",
    "    # Из-за того, что словарь — mutable структура данных,\n",
    "    # функция ничего не возвращает, — изменения в словаре будут видны и снаружи\n",
    "\n",
    "\n",
    "guards_days = {}\n",
    "\n",
    "\n",
    "for line in lines:\n",
    "    d, event = parse_event(line)\n",
    "\n",
    "    # Если это строчка про охранника,\n",
    "    if event.startswith(\"Guard\"):\n",
    "\n",
    "        # сделали для него свой словарь, если встретили впервые\n",
    "        id_guard = int(event.split()[1][1:])\n",
    "        if id_guard not in guards_days:\n",
    "            guards_days[id_guard] = {}\n",
    "\n",
    "        # Сразу сделали ему ночь в расчете на то, что он никогда не спит\n",
    "        create_new_nightshift_if_needed(guards_days, id_guard, d)\n",
    "\n",
    "        # и на следующей итерации в id_guard уже будет лежать его id.\n",
    "\n",
    "    # Если время засыпать,\n",
    "    elif event.startswith(\"falls asleep\"):\n",
    "\n",
    "        # (если эта запись про новый день — выделяем новую ночную смену)\n",
    "        create_new_nightshift_if_needed(guards_days, id_guard, d)\n",
    "\n",
    "        # запоминаем время, когда он засыпает.\n",
    "        start = get_minute(d)\n",
    "\n",
    "    # Если время просыпаться,\n",
    "    elif event.startswith(\"wakes up\"):\n",
    "\n",
    "        # вычисляем минуту, когда проснется,\n",
    "        end = get_minute(d)\n",
    "\n",
    "        # и отмечаем на графике сна промежуток.\n",
    "        guards_days[id_guard][(d.month, d.day)][start:end] = 1"
   ]
  },
  {
   "cell_type": "markdown",
   "id": "0e617d3f-f434-43a1-aead-8b9608eaa381",
   "metadata": {},
   "source": [
    "*Из любопытного:* в процессе формирования такой структуры данных нам были нужны отметки о месяце и дне, чтобы случайно не перепутать ночи дежурств, но после того, как мы сделали наш мега-словарь, они не нужны. Давайте избавимся от них, просто сделав матрицы из векторов-ночей:"
   ]
  },
  {
   "cell_type": "code",
   "execution_count": 89,
   "id": "ecdbb21a-7b3d-4b76-a6d9-bc5a1de60b48",
   "metadata": {},
   "outputs": [],
   "source": [
    "guards_days = {\n",
    "    id_guard: np.stack(days.values()) for id_guard, days in guards_days.items()\n",
    "}"
   ]
  },
  {
   "cell_type": "markdown",
   "id": "1f49aa6b-7596-46a0-91e7-bf5a6cd3e359",
   "metadata": {},
   "source": [
    "## Первая часть задачи"
   ]
  },
  {
   "cell_type": "code",
   "execution_count": 90,
   "id": "eaf9872b-142f-4abb-b28d-f5870b202420",
   "metadata": {},
   "outputs": [
    {
     "data": {
      "text/plain": [
       "(44, 3203, 140932)"
      ]
     },
     "execution_count": 90,
     "metadata": {},
     "output_type": "execute_result"
    }
   ],
   "source": [
    "s_max = -1\n",
    "for k in guards_days:\n",
    "    s = guards_days[k].sum()\n",
    "    if s > s_max:\n",
    "        s_max = s\n",
    "        k_best = k\n",
    "\n",
    "v = guards_days[k_best].sum(axis=0)\n",
    "best_minute = np.arange(len(v))[v == v.max()][-1]\n",
    "best_minute, k_best, k_best * best_minute"
   ]
  },
  {
   "cell_type": "markdown",
   "id": "ef291802-246c-43d4-bea1-1cb3e3dbea7b",
   "metadata": {},
   "source": [
    "## Вторая часть задачи"
   ]
  },
  {
   "cell_type": "code",
   "execution_count": 91,
   "id": "3fc00431-b418-489d-814f-e9100c6f9f9b",
   "metadata": {},
   "outputs": [
    {
     "data": {
      "text/plain": [
       "(32, 1601, 51232)"
      ]
     },
     "execution_count": 91,
     "metadata": {},
     "output_type": "execute_result"
    }
   ],
   "source": [
    "max_sleeps = {k: v.sum(axis=0) for k, v in guards_days.items()}\n",
    "\n",
    "v_max = -1\n",
    "for k, v in max_sleeps.items():\n",
    "    if v.max() > v_max:\n",
    "        v_max = v.max()\n",
    "        k_best = k\n",
    "\n",
    "v = max_sleeps[k_best]\n",
    "best_minute = np.arange(len(v))[v == v_max][-1]\n",
    "\n",
    "best_minute, k_best, k_best * best_minute"
   ]
  },
  {
   "cell_type": "code",
   "execution_count": null,
   "id": "2263b1bb-279c-4b38-956c-6f1b8aac14c8",
   "metadata": {},
   "outputs": [],
   "source": []
  }
 ],
 "metadata": {
  "kernelspec": {
   "display_name": "Python (DE)",
   "language": "python",
   "name": "python3"
  },
  "language_info": {
   "codemirror_mode": {
    "name": "ipython",
    "version": 3
   },
   "file_extension": ".py",
   "mimetype": "text/x-python",
   "name": "python",
   "nbconvert_exporter": "python",
   "pygments_lexer": "ipython3",
   "version": "3.7.12"
  }
 },
 "nbformat": 4,
 "nbformat_minor": 5
}
