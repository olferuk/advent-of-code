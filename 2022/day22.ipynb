{
 "cells": [
  {
   "cell_type": "code",
   "execution_count": 59,
   "id": "954f6283-8658-45be-ab9f-9415f50b8e46",
   "metadata": {},
   "outputs": [],
   "source": [
    "import matplotlib.pyplot as plt\n",
    "import numpy as np\n",
    "import pandas as pd\n",
    "\n",
    "from pathlib import Path"
   ]
  },
  {
   "cell_type": "code",
   "execution_count": 69,
   "id": "b69069ac-2f24-4ee2-838f-a564dcdbbb99",
   "metadata": {},
   "outputs": [],
   "source": [
    "def figures():\n",
    "    i = 0\n",
    "    shapes = [\n",
    "        np.array([\n",
    "            [1,1,1,1],\n",
    "        ], dtype=np.uint8),\n",
    "        np.array([\n",
    "            [0,1,0],\n",
    "            [1,1,1],\n",
    "            [0,1,0],\n",
    "        ], dtype=np.uint8),\n",
    "        np.array([\n",
    "            [0,0,1],\n",
    "            [0,0,1],\n",
    "            [1,1,1],\n",
    "        ], dtype=np.uint8),\n",
    "        np.array([\n",
    "            [1],\n",
    "            [1],\n",
    "            [1],\n",
    "            [1],\n",
    "        ], dtype=np.uint8),\n",
    "        np.array([\n",
    "            [1,1],\n",
    "            [1,1],\n",
    "        ], dtype=np.uint8),\n",
    "    ]\n",
    "    while True:\n",
    "        yield shapes[i]\n",
    "        i += 1\n",
    "        i = i % len(shapes)"
   ]
  },
  {
   "cell_type": "code",
   "execution_count": 99,
   "id": "1718b352-a8c7-484f-9538-0a61f3b65a0b",
   "metadata": {},
   "outputs": [],
   "source": [
    "shifts = [(1 if x==\">\" else -1) for x in Path(\"data/22.txt\").read_text()]\n",
    "shifts = [(1 if x==\">\" else -1) for x in \">>><<><>><<<>><>>><<<>>><<<><<<>><>><<>>\"]\n",
    "\n",
    "gen = figures()\n",
    "\n",
    "A = np.zeros([100000, 7], dtype=np.uint8)\n",
    "lowest_level = len(A) - 1\n",
    "\n",
    "shape = next(gen)"
   ]
  },
  {
   "cell_type": "code",
   "execution_count": null,
   "id": "cad5e53a-b3f0-43a1-84f0-1dcb235d929c",
   "metadata": {},
   "outputs": [],
   "source": [
    "def draw(A, shape, cy, cx):\n",
    "    sh, sw = len(shape), len(shape[0])\n",
    "    A[cy:cy+sh, cx:cx+sw] = A[cy:cy+sh, cx:cx+sw] + shape\n",
    "\n",
    "def erase(A, shape, py, px):\n",
    "    sh, sw = len(shape), len(shape[0])\n",
    "    A[py:py+sh, px:px+sw] = A[py:py+sh, px:px+sw] - shape\n",
    "\n",
    "def spawn(A, shape):\n",
    "    spy, spx = lowest_level - 2 - sh, 2\n",
    "    draw(A, shape, spy, spx)\n",
    "    return spy, spx\n",
    "\n",
    "def wind(A, shape, px, py, direction):\n",
    "    erase(A, shape, py, px)\n",
    "    px_ = px + direction\n",
    "    if px_ < 0:\n",
    "        return\n",
    "    # spean and check\n",
    "    sh, sw = len(shape), len(shape[0])\n",
    "    spawn(A, shape, lowest_level)\n",
    "    if (A[py:py+sh, px:px+sw] > 1).any():\n",
    "        return py, px\n",
    "\n",
    "def drop(A, shape, px, py):\n",
    "    erase(A, shape, py, px)\n",
    "    draw(A, shape, py + 1, px)\n",
    "    if "
   ]
  },
  {
   "cell_type": "code",
   "execution_count": 95,
   "id": "4c90aa28-07ee-45e7-8fbd-7cdee9d6dcbf",
   "metadata": {},
   "outputs": [],
   "source": []
  },
  {
   "cell_type": "code",
   "execution_count": 98,
   "id": "00d62443-f4b7-402e-9bc6-083e6c369568",
   "metadata": {},
   "outputs": [],
   "source": [
    "py, px = spy, spx"
   ]
  },
  {
   "cell_type": "code",
   "execution_count": 97,
   "id": "5c841dc9-4388-4542-8429-ef56970d3928",
   "metadata": {},
   "outputs": [
    {
     "data": {
      "text/plain": [
       "1"
      ]
     },
     "execution_count": 97,
     "metadata": {},
     "output_type": "execute_result"
    }
   ],
   "source": [
    "shifts[0]"
   ]
  },
  {
   "cell_type": "code",
   "execution_count": 96,
   "id": "fa9a3893-1023-413b-a04b-86bfd24afa1b",
   "metadata": {},
   "outputs": [
    {
     "data": {
      "text/plain": [
       "<matplotlib.image.AxesImage at 0x1371889d0>"
      ]
     },
     "execution_count": 96,
     "metadata": {},
     "output_type": "execute_result"
    },
    {
     "data": {
      "image/png": "[encoded data removed]",
      "text/plain": [
       "<Figure size 640x480 with 1 Axes>"
      ]
     },
     "metadata": {},
     "output_type": "display_data"
    }
   ],
   "source": [
    "plt.imshow(A[-20:])"
   ]
  },
  {
   "cell_type": "code",
   "execution_count": null,
   "id": "943e169d-811e-4d57-9abf-33a0470c4ac5",
   "metadata": {},
   "outputs": [],
   "source": []
  }
 ],
 "metadata": {
  "kernelspec": {
   "display_name": "Python 3 (ipykernel)",
   "language": "python",
   "name": "python3"
  },
  "language_info": {
   "codemirror_mode": {
    "name": "ipython",
    "version": 3
   },
   "file_extension": ".py",
   "mimetype": "text/x-python",
   "name": "python",
   "nbconvert_exporter": "python",
   "pygments_lexer": "ipython3",
   "version": "3.11.0"
  }
 },
 "nbformat": 4,
 "nbformat_minor": 5
}
