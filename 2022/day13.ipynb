{
 "cells": [
  {
   "cell_type": "code",
   "execution_count": 1,
   "id": "72ce7383-25fa-45c2-ab0e-bb126c402e7e",
   "metadata": {},
   "outputs": [],
   "source": [
    "%load_ext lab_black"
   ]
  },
  {
   "cell_type": "code",
   "execution_count": 2,
   "id": "932cf783-1848-43dd-8823-1a74f3430b8a",
   "metadata": {},
   "outputs": [
    {
     "name": "stdout",
     "output_type": "stream",
     "text": [
      "The lab_black extension is already loaded. To reload it, use:\n",
      "  %reload_ext lab_black\n"
     ]
    }
   ],
   "source": [
    "%load_ext lab_black"
   ]
  },
  {
   "cell_type": "code",
   "execution_count": 3,
   "id": "e1600b06-6732-461f-8b71-ae53d6d852b0",
   "metadata": {},
   "outputs": [],
   "source": [
    "from pathlib import Path"
   ]
  },
  {
   "cell_type": "code",
   "execution_count": 6,
   "id": "60aaac0c-21cd-4407-84c1-c3ea18d61183",
   "metadata": {},
   "outputs": [],
   "source": [
    "data = [\n",
    "    [eval(x) for x in g.split(\"\\n\")]\n",
    "    for g in Path(\"data/13.txt\").read_text().split(\"\\n\\n\")\n",
    "]"
   ]
  },
  {
   "cell_type": "code",
   "execution_count": 8,
   "id": "4d79c10f-58ba-45ef-8bf7-3f2cdd4484d0",
   "metadata": {},
   "outputs": [
    {
     "name": "stdout",
     "output_type": "stream",
     "text": [
      "[[], [1], [[[1, 3], 2, 1, 3]]]\n",
      "[[[], 6, [3, 8]], []]\n"
     ]
    }
   ],
   "source": [
    "print(data[0][0])\n",
    "print(data[0][1])"
   ]
  },
  {
   "cell_type": "code",
   "execution_count": 17,
   "id": "cab50430-4853-4239-8a01-20d3beddcc7a",
   "metadata": {},
   "outputs": [],
   "source": [
    "def compare(a, b):\n",
    "    if isinstance(a, int) and isinstance(b, int):\n",
    "        if a == b:\n",
    "            return None\n",
    "        return a < b\n",
    "    if isinstance(a, list) and isinstance(b, list):\n",
    "        for xa, xb in zip(a, b):\n",
    "            if not compare(xa, xb):\n",
    "                return False\n",
    "            # if xa > xb:\n",
    "            #     return False\n",
    "        if len(a) > len(b):\n",
    "            return False\n",
    "        return True\n",
    "    if isinstance(a, int) and isinstance(b, list):\n",
    "        return compare([a], b)\n",
    "    if isinstance(a, list) and isinstance(b, int):\n",
    "        return compare(a, [b])"
   ]
  },
  {
   "cell_type": "code",
   "execution_count": 18,
   "id": "4692909f-ab89-49f7-b89d-ede7fbeecefe",
   "metadata": {},
   "outputs": [
    {
     "data": {
      "text/plain": [
       "False"
      ]
     },
     "execution_count": 18,
     "metadata": {},
     "output_type": "execute_result"
    }
   ],
   "source": [
    "compare([1, 1, 3, 1, 1], [1, 1, 5, 1, 1])"
   ]
  },
  {
   "cell_type": "code",
   "execution_count": null,
   "id": "3d633d58-afb3-4c4d-8975-6d8454eab205",
   "metadata": {},
   "outputs": [],
   "source": [
    "compare([[1],[2,3,4]], [[1],4])"
   ]
  }
 ],
 "metadata": {
  "kernelspec": {
   "display_name": "Python (DE)",
   "language": "python",
   "name": "python3"
  },
  "language_info": {
   "codemirror_mode": {
    "name": "ipython",
    "version": 3
   },
   "file_extension": ".py",
   "mimetype": "text/x-python",
   "name": "python",
   "nbconvert_exporter": "python",
   "pygments_lexer": "ipython3",
   "version": "3.7.12"
  }
 },
 "nbformat": 4,
 "nbformat_minor": 5
}
