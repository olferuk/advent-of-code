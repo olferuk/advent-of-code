{
 "cells": [
  {
   "cell_type": "code",
   "execution_count": 3,
   "id": "707863a7-b4e3-40c1-914b-76b70dbc3d39",
   "metadata": {},
   "outputs": [],
   "source": [
    "%load_ext lab_black"
   ]
  },
  {
   "cell_type": "code",
   "execution_count": 4,
   "id": "74d6dac6-bcfa-4cdb-b74c-e02225d5632b",
   "metadata": {},
   "outputs": [],
   "source": [
    "from pathlib import Path\n",
    "\n",
    "import numpy as np\n",
    "import matplotlib.pyplot as plt"
   ]
  },
  {
   "cell_type": "code",
   "execution_count": 5,
   "id": "26f347d3-feb5-42d6-8b41-05c144179561",
   "metadata": {},
   "outputs": [
    {
     "data": {
      "text/plain": [
       "13480"
      ]
     },
     "execution_count": 5,
     "metadata": {},
     "output_type": "execute_result"
    }
   ],
   "source": [
    "data = Path(\"data/10.txt\").read_text().splitlines()\n",
    "\n",
    "X = 1\n",
    "C = 0\n",
    "S = 0\n",
    "for cmd in data:\n",
    "    f, *n = cmd.split()\n",
    "    if f == \"noop\":\n",
    "        C += 1\n",
    "        if (C - 20) % 40 == 0:\n",
    "            S += C * X\n",
    "    else:\n",
    "        n = int(n[0])\n",
    "        for _ in range(2):\n",
    "            C += 1\n",
    "            if (C - 20) % 40 == 0:\n",
    "                S += C * X\n",
    "        X += n\n",
    "S"
   ]
  },
  {
   "cell_type": "markdown",
   "id": "e11edeef-2b06-49ee-977a-e63a543e9df1",
   "metadata": {},
   "source": [
    "---"
   ]
  },
  {
   "cell_type": "code",
   "execution_count": 6,
   "id": "f66894b6-65ef-430a-9718-0983647c4088",
   "metadata": {},
   "outputs": [
    {
     "data": {
      "text/plain": [
       "<matplotlib.image.AxesImage at 0x7fc329e33c10>"
      ]
     },
     "execution_count": 6,
     "metadata": {},
     "output_type": "execute_result"
    },
    {
     "data": {
      "image/png": "[encoded data removed]",
      "text/plain": [
       "<Figure size 432x288 with 1 Axes>"
      ]
     },
     "metadata": {
      "needs_background": "light"
     },
     "output_type": "display_data"
    }
   ],
   "source": [
    "def draw_pixel(C, display, X):\n",
    "    C += 1\n",
    "    display[C // 40, C % 40] = int(C % 40 in [X - 1, X, X + 1])\n",
    "    return C\n",
    "\n",
    "\n",
    "data = Path(\"data/10.txt\").read_text().splitlines()\n",
    "display = np.zeros([6, 40], dtype=int)\n",
    "C = -1\n",
    "X = 1\n",
    "\n",
    "for cmd in data:\n",
    "    f, *n = cmd.split()\n",
    "    if f == \"noop\":\n",
    "        C = draw_pixel(C, display, X)\n",
    "    else:\n",
    "        C = draw_pixel(C, display, X)\n",
    "        C = draw_pixel(C, display, X)\n",
    "\n",
    "        X += int(n[0])\n",
    "\n",
    "plt.imshow(display)"
   ]
  },
  {
   "cell_type": "raw",
   "id": "da30d55b-7f5e-480e-84be-e81e55c150f7",
   "metadata": {},
   "source": [
    "EGJBGCFK"
   ]
  }
 ],
 "metadata": {
  "kernelspec": {
   "display_name": "Python (DE)",
   "language": "python",
   "name": "python3"
  },
  "language_info": {
   "codemirror_mode": {
    "name": "ipython",
    "version": 3
   },
   "file_extension": ".py",
   "mimetype": "text/x-python",
   "name": "python",
   "nbconvert_exporter": "python",
   "pygments_lexer": "ipython3",
   "version": "3.7.12"
  }
 },
 "nbformat": 4,
 "nbformat_minor": 5
}
