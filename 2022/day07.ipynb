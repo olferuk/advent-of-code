{
 "cells": [
  {
   "cell_type": "code",
   "execution_count": 1,
   "id": "6bd6a9f5-dd42-4428-85ac-90fb74229f11",
   "metadata": {},
   "outputs": [],
   "source": [
    "%load_ext lab_black"
   ]
  },
  {
   "cell_type": "code",
   "execution_count": 2,
   "id": "c502b0b5-2b14-42d0-a5c5-a09418523c94",
   "metadata": {},
   "outputs": [],
   "source": [
    "from pathlib import Path\n",
    "\n",
    "cmds = \"\"\"$ cd /\n",
    "$ ls\n",
    "dir a\n",
    "14848514 b.txt\n",
    "8504156 c.dat\n",
    "dir d\n",
    "$ cd a\n",
    "$ ls\n",
    "dir e\n",
    "29116 f\n",
    "2557 g\n",
    "62596 h.lst\n",
    "$ cd e\n",
    "$ ls\n",
    "584 i\n",
    "$ cd ..\n",
    "$ cd ..\n",
    "$ cd d\n",
    "$ ls\n",
    "4060174 j\n",
    "8033020 d.log\n",
    "5626152 d.ext\n",
    "7214296 k\"\"\".split(\n",
    "    \"\\n\"\n",
    ")\n",
    "# cmds = Path(\"data/07.txt\").read_text().split(\"\\n\")"
   ]
  },
  {
   "cell_type": "code",
   "execution_count": null,
   "id": "5315d9db-3ab8-418f-8d58-ad086707e586",
   "metadata": {},
   "outputs": [],
   "source": [
    "root = []\n",
    "current = root\n",
    "\n",
    "for cmd in cmds[1:]:\n",
    "    tokens = cmd.split()\n",
    "\n",
    "    if tokens[0] == \"$\":\n",
    "        if tokens[1] == \"cd\":\n",
    "            if tokens[2] == \"..\":\n",
    "                current = current.parent\n",
    "            else:\n",
    "                current = current.children[tokens[2]]\n",
    "    else:\n",
    "        size, name = tokens\n",
    "        if size == \"dir\":\n",
    "            node = Folder(name)\n",
    "        else:\n",
    "            node = File(name, size=int(size))\n",
    "        current.add_child(node)"
   ]
  },
  {
   "cell_type": "code",
   "execution_count": 88,
   "id": "9270f6f3-8109-404c-8bac-865d4346e6f9",
   "metadata": {},
   "outputs": [],
   "source": [
    "class Node:\n",
    "    def __init__(self, name: str):\n",
    "        self.name = name\n",
    "        self.parent = None\n",
    "\n",
    "\n",
    "class File(Node):\n",
    "    def __init__(self, name: str, size: int):\n",
    "        self.size = size\n",
    "        super().__init__(name)\n",
    "\n",
    "    def get_size(self):\n",
    "        return self.size\n",
    "\n",
    "\n",
    "class Folder(Node):\n",
    "    def __init__(self, *args, **kwargs):\n",
    "        super().__init__(*args, **kwargs)\n",
    "        self.children = {}\n",
    "\n",
    "    def get_size(self):\n",
    "        return sum([n.get_size() for n in self.children.values()])\n",
    "\n",
    "    def add_child(self, node: Node):\n",
    "        self.children[node.name] = node\n",
    "        node.parent = self"
   ]
  },
  {
   "cell_type": "code",
   "execution_count": 89,
   "id": "ac211ebb-4629-473d-a570-3da034ad7068",
   "metadata": {},
   "outputs": [],
   "source": [
    "root = Folder(\"/\")\n",
    "current = root\n",
    "\n",
    "for cmd in cmds[1:]:\n",
    "    tokens = cmd.split()\n",
    "\n",
    "    if tokens[0] == \"$\":\n",
    "        if tokens[1] == \"cd\":\n",
    "            if tokens[2] == \"..\":\n",
    "                current = current.parent\n",
    "            else:\n",
    "                current = current.children[tokens[2]]\n",
    "    else:\n",
    "        size, name = tokens\n",
    "        if size == \"dir\":\n",
    "            node = Folder(name)\n",
    "        else:\n",
    "            node = File(name, size=int(size))\n",
    "        current.add_child(node)"
   ]
  },
  {
   "cell_type": "code",
   "execution_count": 90,
   "id": "04888e95-1dac-4def-89c1-286c93456044",
   "metadata": {},
   "outputs": [],
   "source": [
    "def bfs(node):\n",
    "    queue = [node]\n",
    "    while len(queue) > 0:\n",
    "        node = queue.pop()\n",
    "        yield node\n",
    "        if isinstance(node, Folder):\n",
    "            queue.extend(list(node.children.values()))"
   ]
  },
  {
   "cell_type": "code",
   "execution_count": 94,
   "id": "648781f2-9fdd-41eb-9d1c-e1a18ef03354",
   "metadata": {},
   "outputs": [
    {
     "data": {
      "text/plain": [
       "1086293"
      ]
     },
     "execution_count": 94,
     "metadata": {},
     "output_type": "execute_result"
    }
   ],
   "source": [
    "S = 0\n",
    "for n in bfs(root):\n",
    "    if isinstance(n, Folder) and n.get_size() <= 100_000:\n",
    "        S += n.get_size()\n",
    "S"
   ]
  },
  {
   "cell_type": "code",
   "execution_count": 98,
   "id": "9f2d1920-dc7d-4ad4-b716-8553b09f7e43",
   "metadata": {},
   "outputs": [
    {
     "data": {
      "text/plain": [
       "366028"
      ]
     },
     "execution_count": 98,
     "metadata": {},
     "output_type": "execute_result"
    }
   ],
   "source": [
    "x0 = 30000000 - (70000000 - root.get_size())\n",
    "\n",
    "min(\n",
    "    [\n",
    "        n.get_size()\n",
    "        for n in bfs(root)\n",
    "        if isinstance(n, Folder) and n.get_size() - x0 >= 0\n",
    "    ]\n",
    ")"
   ]
  },
  {
   "cell_type": "code",
   "execution_count": null,
   "id": "44396884-2217-4793-8fd8-8d28178f1bfb",
   "metadata": {},
   "outputs": [],
   "source": []
  }
 ],
 "metadata": {
  "kernelspec": {
   "display_name": "Python (DE)",
   "language": "python",
   "name": "python3"
  },
  "language_info": {
   "codemirror_mode": {
    "name": "ipython",
    "version": 3
   },
   "file_extension": ".py",
   "mimetype": "text/x-python",
   "name": "python",
   "nbconvert_exporter": "python",
   "pygments_lexer": "ipython3",
   "version": "3.7.12"
  }
 },
 "nbformat": 4,
 "nbformat_minor": 5
}
