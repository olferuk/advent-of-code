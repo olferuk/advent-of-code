{
 "cells": [
  {
   "cell_type": "code",
   "execution_count": 40,
   "id": "7d2eda31-6b4c-4776-afe3-06dda25fb076",
   "metadata": {},
   "outputs": [
    {
     "name": "stdout",
     "output_type": "stream",
     "text": [
      "The lab_black extension is already loaded. To reload it, use:\n",
      "  %reload_ext lab_black\n"
     ]
    }
   ],
   "source": [
    "%load_ext lab_black"
   ]
  },
  {
   "cell_type": "code",
   "execution_count": 41,
   "id": "323d5a95-eb4a-4ff2-9e95-621728b0e969",
   "metadata": {},
   "outputs": [],
   "source": [
    "from pathlib import Path\n",
    "import numpy as np\n",
    "\n",
    "\n",
    "def create_function(string):\n",
    "    return eval(f\"lambda old: int({string.split('=')[-1]})\")"
   ]
  },
  {
   "cell_type": "code",
   "execution_count": 119,
   "id": "5e2be524-bcd4-440c-a2d8-6c68df857fbf",
   "metadata": {},
   "outputs": [],
   "source": [
    "from tqdm import tqdm"
   ]
  },
  {
   "cell_type": "code",
   "execution_count": 125,
   "id": "a3ee5cdb-328d-4350-94c9-b24a184debf0",
   "metadata": {},
   "outputs": [
    {
     "name": "stderr",
     "output_type": "stream",
     "text": [
      "100%|███████████████████████████████████████████████████████████████████████████████████████████████████████████████████████████████████████████████████| 20/20 [00:00<00:00, 2031.83it/s]\n"
     ]
    },
    {
     "data": {
      "text/plain": [
       "66802"
      ]
     },
     "execution_count": 125,
     "metadata": {},
     "output_type": "execute_result"
    }
   ],
   "source": [
    "n_lines_per_monkey = 7\n",
    "\n",
    "lines = Path(\"data/11.txt\").read_text().split(\"\\n\")\n",
    "\n",
    "n_monkeys = len(lines) // n_lines_per_monkey\n",
    "\n",
    "items = [\n",
    "    [int(x) for x in lines[i + 1].split(\": \")[1].split(\", \")]\n",
    "    for i in range(0, len(lines), n_lines_per_monkey)\n",
    "]\n",
    "funcs = [\n",
    "    create_function(lines[i + 2].split(\": \")[-1])\n",
    "    for i in range(0, len(lines), n_lines_per_monkey)\n",
    "]\n",
    "divibibles = [\n",
    "    int(lines[i + 3].split()[-1]) for i in range(0, len(lines), n_lines_per_monkey)\n",
    "]\n",
    "throw_trues = [\n",
    "    int(lines[i + 4].split()[-1]) for i in range(0, len(lines), n_lines_per_monkey)\n",
    "]\n",
    "throw_falses = [\n",
    "    int(lines[i + 5].split()[-1]) for i in range(0, len(lines), n_lines_per_monkey)\n",
    "]\n",
    "\n",
    "num_throws = [0] * n_monkeys\n",
    "for _ in tqdm(range(20)):\n",
    "    for mi in range(n_monkeys):\n",
    "        while len(items[mi]) > 0:\n",
    "            worry = items[mi].pop(0)\n",
    "            new_worry = funcs[mi](worry)\n",
    "            bored = new_worry // 3\n",
    "            nmi = throw_trues[mi] if bored % divibibles[mi] == 0 else throw_falses[mi]\n",
    "            items[nmi].append(bored)\n",
    "            num_throws[mi] += 1\n",
    "\n",
    "num_throws.pop(num_throws.index(max(num_throws))) * num_throws.pop(\n",
    "    num_throws.index(max(num_throws))\n",
    ")"
   ]
  },
  {
   "cell_type": "markdown",
   "id": "5131f3c4-3b2b-46b0-bc31-9b1c76f39179",
   "metadata": {},
   "source": [
    "---"
   ]
  },
  {
   "cell_type": "code",
   "execution_count": 127,
   "id": "39983d7a-4833-4799-964b-0fe21b471e03",
   "metadata": {},
   "outputs": [],
   "source": [
    "import math"
   ]
  },
  {
   "cell_type": "code",
   "execution_count": 129,
   "id": "1c6d7153-0673-40be-9b44-c93898642a9a",
   "metadata": {},
   "outputs": [],
   "source": [
    "def lcm(a, b):\n",
    "    return abs(a * b) // math.gcd(a, b)"
   ]
  },
  {
   "cell_type": "code",
   "execution_count": 130,
   "id": "0864f95e-f844-46de-9db1-b0bf798c8236",
   "metadata": {},
   "outputs": [
    {
     "name": "stderr",
     "output_type": "stream",
     "text": [
      "100%|█████████████████████████████████████████████████████████████████████████████████████████████████████████████████████████████████████████████| 10000/10000 [00:01<00:00, 7536.49it/s]\n"
     ]
    },
    {
     "data": {
      "text/plain": [
       "21800916620"
      ]
     },
     "execution_count": 130,
     "metadata": {},
     "output_type": "execute_result"
    }
   ],
   "source": [
    "n_lines_per_monkey = 7\n",
    "\n",
    "lines = Path(\"data/11.txt\").read_text().split(\"\\n\")\n",
    "\n",
    "n_monkeys = len(lines) // n_lines_per_monkey\n",
    "\n",
    "items = [\n",
    "    [int(x) for x in lines[i + 1].split(\": \")[1].split(\", \")]\n",
    "    for i in range(0, len(lines), n_lines_per_monkey)\n",
    "]\n",
    "funcs = [\n",
    "    create_function(lines[i + 2].split(\": \")[-1])\n",
    "    for i in range(0, len(lines), n_lines_per_monkey)\n",
    "]\n",
    "divibibles = [\n",
    "    int(lines[i + 3].split()[-1]) for i in range(0, len(lines), n_lines_per_monkey)\n",
    "]\n",
    "throw_trues = [\n",
    "    int(lines[i + 4].split()[-1]) for i in range(0, len(lines), n_lines_per_monkey)\n",
    "]\n",
    "throw_falses = [\n",
    "    int(lines[i + 5].split()[-1]) for i in range(0, len(lines), n_lines_per_monkey)\n",
    "]\n",
    "\n",
    "N = 1\n",
    "for x in divibibles:\n",
    "    N = lcm(x, N)\n",
    "\n",
    "num_throws = [0] * n_monkeys\n",
    "for _ in tqdm(range(10000)):\n",
    "    for mi in range(n_monkeys):\n",
    "        while len(items[mi]) > 0:\n",
    "            worry = items[mi].pop(0)\n",
    "            new_worry = funcs[mi](worry)\n",
    "            bored = new_worry % N\n",
    "            nmi = throw_trues[mi] if bored % divibibles[mi] == 0 else throw_falses[mi]\n",
    "            items[nmi].append(bored)\n",
    "            num_throws[mi] += 1\n",
    "\n",
    "num_throws.pop(num_throws.index(max(num_throws))) * num_throws.pop(\n",
    "    num_throws.index(max(num_throws))\n",
    ")"
   ]
  }
 ],
 "metadata": {
  "kernelspec": {
   "display_name": "Python (DE)",
   "language": "python",
   "name": "python3"
  },
  "language_info": {
   "codemirror_mode": {
    "name": "ipython",
    "version": 3
   },
   "file_extension": ".py",
   "mimetype": "text/x-python",
   "name": "python",
   "nbconvert_exporter": "python",
   "pygments_lexer": "ipython3",
   "version": "3.7.12"
  }
 },
 "nbformat": 4,
 "nbformat_minor": 5
}
