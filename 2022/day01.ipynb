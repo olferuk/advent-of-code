{
 "cells": [
  {
   "cell_type": "code",
   "execution_count": 1,
   "id": "a347f894-3442-426a-b093-0c04d7a74756",
   "metadata": {},
   "outputs": [],
   "source": [
    "from pathlib import Path\n",
    "\n",
    "data = [(int(x) if len(x) > 0 else x) for x in Path(\"data/01.txt\").read_text().split(\"\\n\")]"
   ]
  },
  {
   "cell_type": "code",
   "execution_count": 2,
   "id": "27185353-35ed-4ebb-a409-4215a4743fdd",
   "metadata": {},
   "outputs": [],
   "source": [
    "elfs = []\n",
    "last = 0\n",
    "for line in data:\n",
    "    if line == '':\n",
    "        elfs.append(last)\n",
    "        last = 0\n",
    "    else:\n",
    "        last += int(line)\n",
    "elfs.append(last)"
   ]
  },
  {
   "cell_type": "code",
   "execution_count": 3,
   "id": "554e0d35-2631-4e69-88e4-4032a360a6af",
   "metadata": {},
   "outputs": [
    {
     "data": {
      "text/plain": [
       "66487"
      ]
     },
     "execution_count": 3,
     "metadata": {},
     "output_type": "execute_result"
    }
   ],
   "source": [
    "max(elfs)"
   ]
  },
  {
   "cell_type": "code",
   "execution_count": 4,
   "id": "84b013a7-0531-4b05-badb-627dd19f48e6",
   "metadata": {},
   "outputs": [
    {
     "data": {
      "text/plain": [
       "197301"
      ]
     },
     "execution_count": 4,
     "metadata": {},
     "output_type": "execute_result"
    }
   ],
   "source": [
    "sum(sorted(elfs)[-3:])"
   ]
  },
  {
   "cell_type": "code",
   "execution_count": null,
   "id": "f8f828b5-84bd-49ee-810d-942d401475f4",
   "metadata": {},
   "outputs": [],
   "source": []
  }
 ],
 "metadata": {
  "kernelspec": {
   "display_name": "Python (DE)",
   "language": "python",
   "name": "python3"
  },
  "language_info": {
   "codemirror_mode": {
    "name": "ipython",
    "version": 3
   },
   "file_extension": ".py",
   "mimetype": "text/x-python",
   "name": "python",
   "nbconvert_exporter": "python",
   "pygments_lexer": "ipython3",
   "version": "3.7.12"
  }
 },
 "nbformat": 4,
 "nbformat_minor": 5
}
