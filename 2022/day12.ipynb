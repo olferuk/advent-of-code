{
 "cells": [
  {
   "cell_type": "code",
   "execution_count": 1,
   "id": "396ee7ad-e65f-4bda-8f06-91d7cada4473",
   "metadata": {},
   "outputs": [],
   "source": [
    "%load_ext lab_black"
   ]
  },
  {
   "cell_type": "code",
   "execution_count": 10,
   "id": "86ba5218-2273-42cb-9ed9-ebd2db38ebe9",
   "metadata": {},
   "outputs": [],
   "source": [
    "from pathlib import Path\n",
    "import numpy as np\n",
    "import matplotlib.pyplot as plt"
   ]
  },
  {
   "cell_type": "code",
   "execution_count": 11,
   "id": "cab7218e-9cdf-45bf-a60a-5910c0d238c0",
   "metadata": {},
   "outputs": [],
   "source": [
    "A = [list(r) for r in Path(\"data/12.txt\").read_text().splitlines()]\n",
    "\n",
    "start, end = None, None\n",
    "\n",
    "for ri in range(len(A)):\n",
    "    if \"S\" in A[ri]:\n",
    "        ci = A[ri].index(\"S\")\n",
    "        start = (ri, ci)\n",
    "        A[ri][ci] = \"a\"\n",
    "    if \"E\" in A[ri]:\n",
    "        ci = A[ri].index(\"E\")\n",
    "        end = (ri, ci)\n",
    "        A[ri][ci] = \"z\"\n",
    "\n",
    "A = np.array([[ord(c) - 96 for c in r] for r in A])"
   ]
  },
  {
   "cell_type": "code",
   "execution_count": 15,
   "id": "b03027d1-a6fa-4575-8979-e67a35699631",
   "metadata": {},
   "outputs": [
    {
     "data": {
      "text/plain": [
       "<matplotlib.collections.PathCollection at 0x7f7dfff0ab90>"
      ]
     },
     "execution_count": 15,
     "metadata": {},
     "output_type": "execute_result"
    },
    {
     "data": {
      "image/png": "[encoded data removed]",
      "text/plain": [
       "<Figure size 432x288 with 1 Axes>"
      ]
     },
     "metadata": {
      "needs_background": "light"
     },
     "output_type": "display_data"
    }
   ],
   "source": [
    "plt.imshow(A)\n",
    "plt.scatter([start[1]], [start[0]], c=\"r\")\n",
    "plt.scatter([end[1]], [end[0]], c=\"r\")"
   ]
  },
  {
   "cell_type": "code",
   "execution_count": 26,
   "id": "0e8c9a4e-30b5-42eb-bd04-a9140b7b63d9",
   "metadata": {},
   "outputs": [],
   "source": [
    "from typing import Tuple, List\n",
    "\n",
    "Location = Tuple\n",
    "\n",
    "\n",
    "class Graph:\n",
    "    def __init__(self, array: np.ndarray):\n",
    "        self._A = array\n",
    "        self._nbs = np.array([[0, 1], [0, -1], [1, 0], [-1, 0]])\n",
    "\n",
    "    def neighbors(self, y, x) -> List[Location]:\n",
    "        nbs = []\n",
    "        for yn, xn in self._nbs:\n",
    "            yc, xc = yn + y, xn + x\n",
    "            if yc < 0 or yc >= self._A.shape[0]:\n",
    "                continue\n",
    "            if xc < 0 or xc >= self._A.shape[1]:\n",
    "                continue\n",
    "            if abs(self._A[yc, xc] - self._A[y, x]) > 1:\n",
    "                continue\n",
    "            nbs.append(((yc, xc), self._A[yc, xc]))\n",
    "        return nbs"
   ]
  },
  {
   "cell_type": "code",
   "execution_count": 27,
   "id": "39037487-a4cb-4559-b619-5d2d12e89e5c",
   "metadata": {},
   "outputs": [],
   "source": [
    "from collections import deque"
   ]
  },
  {
   "cell_type": "code",
   "execution_count": 28,
   "id": "d5ea8101-48ea-4648-aefe-d846d3eb72e2",
   "metadata": {},
   "outputs": [],
   "source": [
    "frontier = deque()"
   ]
  },
  {
   "cell_type": "code",
   "execution_count": 30,
   "id": "d66f491d-dcde-46b4-b9c0-d773cf3abed5",
   "metadata": {},
   "outputs": [
    {
     "ename": "AttributeError",
     "evalue": "'collections.deque' object has no attribute 'put'",
     "output_type": "error",
     "traceback": [
      "\u001b[0;31m---------------------------------------------------------------------------\u001b[0m",
      "\u001b[0;31mAttributeError\u001b[0m                            Traceback (most recent call last)",
      "\u001b[0;32m/var/folders/x4/t1fx1l8s0f97y033bl0gpgcr0000gn/T/ipykernel_45761/594300037.py\u001b[0m in \u001b[0;36m<module>\u001b[0;34m\u001b[0m\n\u001b[0;32m----> 1\u001b[0;31m \u001b[0mfrontier\u001b[0m\u001b[0;34m.\u001b[0m\u001b[0mput\u001b[0m\u001b[0;34m(\u001b[0m\u001b[0mstart\u001b[0m\u001b[0;34m,\u001b[0m \u001b[0;36m0\u001b[0m\u001b[0;34m)\u001b[0m\u001b[0;34m\u001b[0m\u001b[0;34m\u001b[0m\u001b[0m\n\u001b[0m\u001b[1;32m      2\u001b[0m \u001b[0mcame_from\u001b[0m \u001b[0;34m=\u001b[0m \u001b[0;34m{\u001b[0m\u001b[0;34m}\u001b[0m\u001b[0;34m\u001b[0m\u001b[0;34m\u001b[0m\u001b[0m\n\u001b[1;32m      3\u001b[0m \u001b[0mcost_so_far\u001b[0m \u001b[0;34m=\u001b[0m \u001b[0;34m{\u001b[0m\u001b[0;34m}\u001b[0m\u001b[0;34m\u001b[0m\u001b[0;34m\u001b[0m\u001b[0m\n",
      "\u001b[0;31mAttributeError\u001b[0m: 'collections.deque' object has no attribute 'put'"
     ]
    }
   ],
   "source": [
    "frontier.put(start, 0)\n",
    "came_from = {}\n",
    "cost_so_far = {}"
   ]
  },
  {
   "cell_type": "code",
   "execution_count": null,
   "id": "b14e76bf-8357-4452-a965-a7557ebadd0e",
   "metadata": {},
   "outputs": [],
   "source": [
    "came_from[start] = None\n",
    "cost_so_far[start] = 0\n",
    "\n",
    "while not frontier.empty():\n",
    "   current = frontier.get()\n",
    "\n",
    "   if current == goal:\n",
    "      break\n",
    "   \n",
    "   for next in graph.neighbors(current):\n",
    "      new_cost = cost_so_far[current] + graph.cost(current, next)\n",
    "      if next not in cost_so_far or new_cost < cost_so_far[next]:\n",
    "         cost_so_far[next] = new_cost\n",
    "         priority = new_cost\n",
    "         frontier.put(next, priority)\n",
    "         came_from[next] = current"
   ]
  },
  {
   "cell_type": "code",
   "execution_count": null,
   "id": "95ffb431-85ad-4d73-9aa1-e9702866360e",
   "metadata": {},
   "outputs": [],
   "source": []
  }
 ],
 "metadata": {
  "kernelspec": {
   "display_name": "Python (DE)",
   "language": "python",
   "name": "python3"
  },
  "language_info": {
   "codemirror_mode": {
    "name": "ipython",
    "version": 3
   },
   "file_extension": ".py",
   "mimetype": "text/x-python",
   "name": "python",
   "nbconvert_exporter": "python",
   "pygments_lexer": "ipython3",
   "version": "3.7.12"
  }
 },
 "nbformat": 4,
 "nbformat_minor": 5
}
