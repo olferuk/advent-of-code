{
 "cells": [
  {
   "cell_type": "code",
   "execution_count": 1,
   "id": "aca7d7d4-4cc6-474d-8f7a-d40cc801e01e",
   "metadata": {},
   "outputs": [],
   "source": [
    "%load_ext lab_black"
   ]
  },
  {
   "cell_type": "code",
   "execution_count": 117,
   "id": "10e6751f-51fd-4d99-9dbf-de046336c26b",
   "metadata": {},
   "outputs": [],
   "source": [
    "from pathlib import Path\n",
    "\n",
    "import numpy as np\n",
    "\n",
    "encoding = {\n",
    "    # his choice\n",
    "    \"A\": 1,  # rock\n",
    "    \"B\": 2,  # paper\n",
    "    \"C\": 3,  # scissors\n",
    "\n",
    "    # my choice\n",
    "    \"X\": 1,  # rock      or lose\n",
    "    \"Y\": 2,  # paper     or draw\n",
    "    \"Z\": 3,  # scissors  or win\n",
    "}\n",
    "\n",
    "data = np.array(\n",
    "    [\n",
    "        [encoding[t] for t in x.split()]\n",
    "        for x in Path(\"data/02.txt\").read_text().split(\"\\n\")\n",
    "    ]\n",
    ")"
   ]
  },
  {
   "cell_type": "code",
   "execution_count": 115,
   "id": "82337179-baa4-4066-8644-f0ace2503a36",
   "metadata": {},
   "outputs": [
    {
     "name": "stdout",
     "output_type": "stream",
     "text": [
      "Part 1: 14163\n"
     ]
    }
   ],
   "source": [
    "results = data[:, 1] - data[:, 0]\n",
    "\n",
    "points_per_games = (\n",
    "    np.sum((results == 1) | (results == -2)) * 6 + np.sum(results == 0) * 3\n",
    ")\n",
    "points_per_shapes = data[:, 1].sum()\n",
    "\n",
    "print(f\"Part 1: {points_per_games + points_per_shapes}\")"
   ]
  },
  {
   "cell_type": "code",
   "execution_count": 116,
   "id": "58d22922-253b-4d75-addb-53da70edcc38",
   "metadata": {},
   "outputs": [
    {
     "name": "stdout",
     "output_type": "stream",
     "text": [
      "Part 2: 12091\n"
     ]
    }
   ],
   "source": [
    "results = data[:, 1] - data[:, 0]\n",
    "\n",
    "mask_wins = data[:, 1] == 3\n",
    "mask_draws = data[:, 1] == 2\n",
    "mask_losses = data[:, 1] == 1\n",
    "\n",
    "points_per_games = mask_wins.sum() * 6 + mask_draws.sum() * 3\n",
    "\n",
    "wins = data[mask_wins, 0]\n",
    "draws = data[mask_draws, 0]\n",
    "losses = data[mask_losses, 0].copy()\n",
    "\n",
    "losses -= 1\n",
    "losses[losses == 0] = 3\n",
    "points_losses = losses.sum()\n",
    "\n",
    "points_win = (wins % 3 + 1).sum()\n",
    "points_draws = draws.sum()\n",
    "\n",
    "pp = points_per_games + points_win + points_draws + points_losses\n",
    "print(f\"Part 2: {pp}\")"
   ]
  },
  {
   "cell_type": "markdown",
   "id": "7c832812-b983-4e52-aaa7-28dade8ed978",
   "metadata": {},
   "source": [
    "---"
   ]
  },
  {
   "cell_type": "code",
   "execution_count": 55,
   "id": "5e035667-d70b-4ebc-9c8b-f707a474a82c",
   "metadata": {},
   "outputs": [
    {
     "data": {
      "text/plain": [
       "14163"
      ]
     },
     "execution_count": 55,
     "metadata": {},
     "output_type": "execute_result"
    }
   ],
   "source": [
    "points_per_shape = {\n",
    "    \"X\": 1,  # rock\n",
    "    \"Y\": 2,  # paper\n",
    "    \"Z\": 3,  # scissors\n",
    "    \"A\": 1,  # rock\n",
    "    \"B\": 2,  # paper\n",
    "    \"C\": 3,  # scissors\n",
    "}\n",
    "\n",
    "points_per_game = {\n",
    "    \"A Y\": 6 + 2,\n",
    "    \"A X\": 3 + 1,\n",
    "    \"B Z\": 6 + 3,\n",
    "    \"B Y\": 3 + 2,\n",
    "    \"C X\": 6 + 1,\n",
    "    \"C Z\": 3 + 3,\n",
    "}\n",
    "\n",
    "scores = 0\n",
    "for x in Path(\"data/02.txt\").read_text().split(\"\\n\"):\n",
    "    if x in points_per_game:\n",
    "        scores += points_per_game[x]\n",
    "    else:\n",
    "        scores += points_per_shape[x.split()[-1]]\n",
    "scores"
   ]
  },
  {
   "cell_type": "code",
   "execution_count": 56,
   "id": "ca38a8bb-2958-47e5-87e4-329b2b859599",
   "metadata": {},
   "outputs": [
    {
     "data": {
      "text/plain": [
       "12091"
      ]
     },
     "execution_count": 56,
     "metadata": {},
     "output_type": "execute_result"
    }
   ],
   "source": [
    "points_per_shape = {\n",
    "    \"X\": 1,  # rock\n",
    "    \"Y\": 2,  # paper\n",
    "    \"Z\": 3,  # scissors\n",
    "    \"A\": 1,  # rock\n",
    "    \"B\": 2,  # paper\n",
    "    \"C\": 3,  # scissors\n",
    "}\n",
    "points_per_game = {\n",
    "    \"Z\": 6,\n",
    "    \"Y\": 3,\n",
    "    \"X\": 0,\n",
    "}\n",
    "\n",
    "match = {\n",
    "    # win\n",
    "    \"Z\": {\n",
    "        \"A\": \"Y\",\n",
    "        \"B\": \"Z\",\n",
    "        \"C\": \"X\",\n",
    "    },\n",
    "    # draw\n",
    "    \"Y\": {\n",
    "        \"A\": \"X\",\n",
    "        \"B\": \"Y\",\n",
    "        \"C\": \"Z\",\n",
    "    },\n",
    "    # lose\n",
    "    \"X\": {\n",
    "        \"A\": \"Z\",\n",
    "        \"B\": \"X\",\n",
    "        \"C\": \"Y\",\n",
    "    },\n",
    "}\n",
    "\n",
    "scores = 0\n",
    "for x in Path(\"data/02.txt\").read_text().split(\"\\n\"):\n",
    "    his, policy = x.split()\n",
    "    mine = match[policy][his]\n",
    "    scores += points_per_shape[mine]\n",
    "    scores += points_per_game[policy]\n",
    "scores"
   ]
  },
  {
   "cell_type": "markdown",
   "id": "52478446-8028-450f-b52d-f888e4e7a02c",
   "metadata": {},
   "source": [
    "---"
   ]
  }
 ],
 "metadata": {
  "kernelspec": {
   "display_name": "Python (DE)",
   "language": "python",
   "name": "python3"
  },
  "language_info": {
   "codemirror_mode": {
    "name": "ipython",
    "version": 3
   },
   "file_extension": ".py",
   "mimetype": "text/x-python",
   "name": "python",
   "nbconvert_exporter": "python",
   "pygments_lexer": "ipython3",
   "version": "3.7.12"
  }
 },
 "nbformat": 4,
 "nbformat_minor": 5
}
