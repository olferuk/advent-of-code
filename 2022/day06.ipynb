{
 "cells": [
  {
   "cell_type": "code",
   "execution_count": 1,
   "id": "0078b668-a4c3-4712-aeae-a71fee044e58",
   "metadata": {},
   "outputs": [],
   "source": [
    "%load_ext lab_black"
   ]
  },
  {
   "cell_type": "code",
   "execution_count": 34,
   "id": "4d7806c2-2917-4118-ac6b-25b5ba28fc6b",
   "metadata": {},
   "outputs": [],
   "source": [
    "from pathlib import Path\n",
    "\n",
    "s = Path(\"data/06.txt\").read_text()"
   ]
  },
  {
   "cell_type": "code",
   "execution_count": 32,
   "id": "c2da7215-93a8-4e1f-9f03-d20e2c71a5c6",
   "metadata": {},
   "outputs": [
    {
     "data": {
      "text/plain": [
       "1833"
      ]
     },
     "execution_count": 32,
     "metadata": {},
     "output_type": "execute_result"
    }
   ],
   "source": [
    "next(i for i in range(4, len(s)) if len(set(s[i - 4 : i])) == 4)"
   ]
  },
  {
   "cell_type": "code",
   "execution_count": 33,
   "id": "1d608ebc-0470-4d9e-b96b-16cee8fc9159",
   "metadata": {},
   "outputs": [
    {
     "data": {
      "text/plain": [
       "3425"
      ]
     },
     "execution_count": 33,
     "metadata": {},
     "output_type": "execute_result"
    }
   ],
   "source": [
    "next(i for i in range(14, len(s)) if len(set(s[i - 14 : i])) == 14)"
   ]
  }
 ],
 "metadata": {
  "kernelspec": {
   "display_name": "Python (DE)",
   "language": "python",
   "name": "python3"
  },
  "language_info": {
   "codemirror_mode": {
    "name": "ipython",
    "version": 3
   },
   "file_extension": ".py",
   "mimetype": "text/x-python",
   "name": "python",
   "nbconvert_exporter": "python",
   "pygments_lexer": "ipython3",
   "version": "3.7.12"
  }
 },
 "nbformat": 4,
 "nbformat_minor": 5
}
