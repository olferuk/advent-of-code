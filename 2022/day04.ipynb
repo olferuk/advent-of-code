{
 "cells": [
  {
   "cell_type": "code",
   "execution_count": 2,
   "id": "7aafe950-c96a-4a38-b657-e7c14b22e900",
   "metadata": {},
   "outputs": [],
   "source": [
    "%load_ext lab_black"
   ]
  },
  {
   "cell_type": "code",
   "execution_count": 5,
   "id": "3b8192d3-6e02-47f8-a848-815faf511416",
   "metadata": {},
   "outputs": [],
   "source": [
    "from pathlib import Path\n",
    "\n",
    "text = Path(\"data/04.txt\").read_text()\n",
    "data = [\n",
    "    [[int(x) for x in r.split(\"-\")] for r in t.split(\",\")] for t in text.split(\"\\n\")\n",
    "]"
   ]
  },
  {
   "cell_type": "code",
   "execution_count": 7,
   "id": "16f66e9a-b440-4baa-8a3e-7f05a49716e1",
   "metadata": {},
   "outputs": [
    {
     "data": {
      "text/plain": [
       "424"
      ]
     },
     "execution_count": 7,
     "metadata": {},
     "output_type": "execute_result"
    }
   ],
   "source": [
    "def range_contains(a, b):\n",
    "    return a[0] <= b[0] and a[1] >= b[1]\n",
    "\n",
    "\n",
    "N = 0\n",
    "for rangeA, rangeB in data:\n",
    "    if range_contains(rangeA, rangeB) or range_contains(rangeB, rangeA):\n",
    "        N += 1\n",
    "N"
   ]
  },
  {
   "cell_type": "code",
   "execution_count": 8,
   "id": "af113e16-9bbf-4008-8b05-945a1fe663bb",
   "metadata": {},
   "outputs": [
    {
     "data": {
      "text/plain": [
       "804"
      ]
     },
     "execution_count": 8,
     "metadata": {},
     "output_type": "execute_result"
    }
   ],
   "source": [
    "def range_intersects(a, b):\n",
    "    return a[0] <= b[0] <= a[1] or a[0] <= b[1] <= a[1]\n",
    "\n",
    "\n",
    "N = 0\n",
    "for rangeA, rangeB in data:\n",
    "    if range_intersects(rangeA, rangeB) or range_intersects(rangeB, rangeA):\n",
    "        N += 1\n",
    "N"
   ]
  },
  {
   "cell_type": "code",
   "execution_count": null,
   "id": "7ce2a40a-d5b0-4bfe-8064-5bcc60938b97",
   "metadata": {},
   "outputs": [],
   "source": []
  }
 ],
 "metadata": {
  "kernelspec": {
   "display_name": "Python (DE)",
   "language": "python",
   "name": "python3"
  },
  "language_info": {
   "codemirror_mode": {
    "name": "ipython",
    "version": 3
   },
   "file_extension": ".py",
   "mimetype": "text/x-python",
   "name": "python",
   "nbconvert_exporter": "python",
   "pygments_lexer": "ipython3",
   "version": "3.7.12"
  }
 },
 "nbformat": 4,
 "nbformat_minor": 5
}
