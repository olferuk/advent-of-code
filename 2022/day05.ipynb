{
 "cells": [
  {
   "cell_type": "code",
   "execution_count": 79,
   "id": "14acd0ce-f66f-43c1-aa19-50ac11fd2461",
   "metadata": {},
   "outputs": [
    {
     "name": "stdout",
     "output_type": "stream",
     "text": [
      "The lab_black extension is already loaded. To reload it, use:\n",
      "  %reload_ext lab_black\n"
     ]
    }
   ],
   "source": [
    "%load_ext lab_black"
   ]
  },
  {
   "cell_type": "code",
   "execution_count": 90,
   "id": "e0a5f2ef-ee18-4a4e-8c8c-015af210ada3",
   "metadata": {},
   "outputs": [],
   "source": [
    "import numpy as np\n",
    "import re\n",
    "\n",
    "from collections import deque\n",
    "from pathlib import Path\n",
    "\n",
    "text = Path(\"data/05.txt\").read_text()\n",
    "div = text.index(\"\\n\\n\")\n",
    "stacks_state = np.array([list(ln) for ln in text[:div].split(\"\\n\")]).T\n",
    "stacks_state = stacks_state[1::4][:, :-1]\n",
    "\n",
    "deques = []\n",
    "for row in stacks_state:\n",
    "    row_d = deque()\n",
    "    for x in row:\n",
    "        if x == \" \":\n",
    "            continue\n",
    "        row_d.append(x)\n",
    "    deques.append(row_d)\n",
    "\n",
    "cmds = text[div + 2 :].split(\"\\n\")"
   ]
  },
  {
   "cell_type": "code",
   "execution_count": 89,
   "id": "90c11b4a-e0ad-4fa2-8003-b4cc70743541",
   "metadata": {},
   "outputs": [
    {
     "data": {
      "text/plain": [
       "'GRTSWNJHH'"
      ]
     },
     "execution_count": 89,
     "metadata": {},
     "output_type": "execute_result"
    }
   ],
   "source": [
    "for cmd in cmds:\n",
    "    move, from_dq, to_dq = re.findall(r\"\\d+\", cmd)\n",
    "    move, from_dq, to_dq = int(move), int(from_dq), int(to_dq)\n",
    "\n",
    "    dq_from, dq_to = deques[from_dq - 1], deques[to_dq - 1]\n",
    "    [dq_to.appendleft(dq_from.popleft()) for _ in range(move)]\n",
    "\n",
    "\"\".join([dq[0] for dq in deques])"
   ]
  },
  {
   "cell_type": "code",
   "execution_count": 91,
   "id": "4e2c90c9-03ae-463c-b08c-9f090548a984",
   "metadata": {},
   "outputs": [
    {
     "data": {
      "text/plain": [
       "'QLFQDBBHM'"
      ]
     },
     "execution_count": 91,
     "metadata": {},
     "output_type": "execute_result"
    }
   ],
   "source": [
    "for cmd in cmds:\n",
    "    move, from_dq, to_dq = re.findall(r\"\\d+\", cmd)\n",
    "    move, from_dq, to_dq = int(move), int(from_dq), int(to_dq)\n",
    "\n",
    "    dq_from, dq_to = deques[from_dq - 1], deques[to_dq - 1]\n",
    "    dq_to.extendleft([dq_from.popleft() for _ in range(move)][::-1])\n",
    "\n",
    "\"\".join([dq[0] for dq in deques])"
   ]
  },
  {
   "cell_type": "code",
   "execution_count": null,
   "id": "ad21a301-dbf3-42c0-b718-a601b3853c9c",
   "metadata": {},
   "outputs": [],
   "source": []
  }
 ],
 "metadata": {
  "kernelspec": {
   "display_name": "Python (DE)",
   "language": "python",
   "name": "python3"
  },
  "language_info": {
   "codemirror_mode": {
    "name": "ipython",
    "version": 3
   },
   "file_extension": ".py",
   "mimetype": "text/x-python",
   "name": "python",
   "nbconvert_exporter": "python",
   "pygments_lexer": "ipython3",
   "version": "3.7.12"
  }
 },
 "nbformat": 4,
 "nbformat_minor": 5
}
