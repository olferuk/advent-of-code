{
 "cells": [
  {
   "cell_type": "code",
   "execution_count": 1,
   "id": "4d337c84-97eb-4f13-ac90-a4b0c050da06",
   "metadata": {},
   "outputs": [],
   "source": [
    "%load_ext lab_black"
   ]
  },
  {
   "cell_type": "code",
   "execution_count": 2,
   "id": "3ea83c8c-d44d-4767-a2ec-bd11aac14529",
   "metadata": {},
   "outputs": [],
   "source": [
    "from pathlib import Path"
   ]
  },
  {
   "cell_type": "code",
   "execution_count": 21,
   "id": "4b585ab4-894d-4db8-b7d0-45424cd2f348",
   "metadata": {},
   "outputs": [
    {
     "data": {
      "text/plain": [
       "['vJrrdQlGBQWPTBTF',\n",
       " 'fcpTMnMqMfTnZpgMfPbFBWzHPpBPzbCPPH',\n",
       " 'mcVMfcsqZgmgVcmfgcmZmqZNJhrlrdhNhDdrRRJSvDTRhJlD']"
      ]
     },
     "execution_count": 21,
     "metadata": {},
     "output_type": "execute_result"
    }
   ],
   "source": [
    "data = Path(\"data/03.txt\").read_text().split(\"\\n\")\n",
    "\n",
    "data[:3]"
   ]
  },
  {
   "cell_type": "code",
   "execution_count": 22,
   "id": "dd4148a1-a54d-4b1e-89a2-2e1808350eb4",
   "metadata": {},
   "outputs": [],
   "source": [
    "def get_priority(c: str) -> int:\n",
    "    return ord(c) - 96 if c.lower() == c else ord(c) - 38"
   ]
  },
  {
   "cell_type": "code",
   "execution_count": 23,
   "id": "782eb0e3-8577-4d25-b66e-a84da6b72aa1",
   "metadata": {},
   "outputs": [
    {
     "data": {
      "text/plain": [
       "7795"
      ]
     },
     "execution_count": 23,
     "metadata": {},
     "output_type": "execute_result"
    }
   ],
   "source": [
    "priority = 0\n",
    "for line in data:\n",
    "    hl = len(line) // 2\n",
    "    first, second = set(line[:hl]), set(line[hl:])\n",
    "    priority += get_priority((first & second).pop())\n",
    "priority"
   ]
  },
  {
   "cell_type": "code",
   "execution_count": 31,
   "id": "91a82792-5531-47cd-8d2e-60f5bc5714d5",
   "metadata": {},
   "outputs": [
    {
     "data": {
      "text/plain": [
       "2703"
      ]
     },
     "execution_count": 31,
     "metadata": {},
     "output_type": "execute_result"
    }
   ],
   "source": [
    "group = []\n",
    "priority = 0\n",
    "for line in data:\n",
    "    group.append(line)\n",
    "    if len(group) == 3:\n",
    "        a, b, c = [set(s) for s in group]\n",
    "        priority += get_priority((a & b & c).pop())\n",
    "        group = []\n",
    "priority"
   ]
  },
  {
   "cell_type": "code",
   "execution_count": null,
   "id": "a1b9e7bd-5603-4a1f-be28-d4a6ccdd3aef",
   "metadata": {},
   "outputs": [],
   "source": []
  }
 ],
 "metadata": {
  "kernelspec": {
   "display_name": "Python (DE)",
   "language": "python",
   "name": "python3"
  },
  "language_info": {
   "codemirror_mode": {
    "name": "ipython",
    "version": 3
   },
   "file_extension": ".py",
   "mimetype": "text/x-python",
   "name": "python",
   "nbconvert_exporter": "python",
   "pygments_lexer": "ipython3",
   "version": "3.7.12"
  }
 },
 "nbformat": 4,
 "nbformat_minor": 5
}
