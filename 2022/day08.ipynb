{
 "cells": [
  {
   "cell_type": "code",
   "execution_count": 1,
   "id": "3ddcdc4a-6119-46a1-966b-777da507886d",
   "metadata": {},
   "outputs": [],
   "source": [
    "%load_ext lab_black"
   ]
  },
  {
   "cell_type": "code",
   "execution_count": 2,
   "id": "28385268-9b51-4712-a6fa-9dec16ded45f",
   "metadata": {},
   "outputs": [],
   "source": [
    "from enum import IntEnum\n",
    "from pathlib import Path\n",
    "\n",
    "import numpy as np"
   ]
  },
  {
   "cell_type": "code",
   "execution_count": 13,
   "id": "27e230f6-bc69-46bf-adc4-79f18ad479d7",
   "metadata": {},
   "outputs": [],
   "source": [
    "class ViewDirection(IntEnum):\n",
    "    LEFT_TO_RIGHT = 0\n",
    "    RIGHT_TO_LEFT = 1\n",
    "    TOP_TO_BOTTOM = 2\n",
    "    BOTTOM_TO_TOP = 3\n",
    "\n",
    "    @staticmethod\n",
    "    def get_all():\n",
    "        return [ViewDirection(i) for i in range(4)]\n",
    "\n",
    "    def view(self, array):\n",
    "        if self.value == 0:\n",
    "            return array\n",
    "        if self.value == 1:\n",
    "            return array[:, ::-1]\n",
    "        if self.value == 2:\n",
    "            return array.T\n",
    "        if self.value == 3:\n",
    "            return array.T[:, ::-1]\n",
    "\n",
    "    def restore(self, array):\n",
    "        if self.value == 0:\n",
    "            return array\n",
    "        if self.value == 1:\n",
    "            return array[:, ::-1]\n",
    "        if self.value == 2:\n",
    "            return array.T\n",
    "        if self.value == 3:\n",
    "            return array.T[::-1]"
   ]
  },
  {
   "cell_type": "code",
   "execution_count": 14,
   "id": "767ba1bc-c88f-4e4e-9b79-c0aa6b88f16e",
   "metadata": {},
   "outputs": [],
   "source": [
    "def generate_mask(data):\n",
    "    mask = np.zeros_like(data, dtype=bool)\n",
    "    for ri in range(len(data)):\n",
    "        biggest_tree = -1\n",
    "        for ci in range(len(data[ri])):\n",
    "            if data[ri, ci] > biggest_tree:\n",
    "                mask[ri, ci] = True\n",
    "            biggest_tree = max(data[ri, ci], biggest_tree)\n",
    "            if biggest_tree == 9:\n",
    "                break\n",
    "    return mask"
   ]
  },
  {
   "cell_type": "markdown",
   "id": "0c821abb-88c3-4175-b804-b955a335c99f",
   "metadata": {},
   "source": [
    "---"
   ]
  },
  {
   "cell_type": "code",
   "execution_count": 15,
   "id": "e73d34e5-d2b8-4ab1-aaad-2c1fc82b0ee6",
   "metadata": {},
   "outputs": [],
   "source": [
    "data = np.array([list(r) for r in Path(\"data/08.txt\").read_text().split(\"\\n\")]).astype(\n",
    "    int\n",
    ")"
   ]
  },
  {
   "cell_type": "code",
   "execution_count": 16,
   "id": "3237fb47-4181-4845-9bb8-f02ac8087c13",
   "metadata": {},
   "outputs": [
    {
     "data": {
      "text/plain": [
       "1854"
      ]
     },
     "execution_count": 16,
     "metadata": {},
     "output_type": "execute_result"
    }
   ],
   "source": [
    "mask_l2r = generate_mask(data)\n",
    "mask_r2l = generate_mask(data[:, ::-1])[:, ::-1]\n",
    "mask_t2b = generate_mask(data.T).T\n",
    "mask_b2t = generate_mask(data.T[:, ::-1]).T[::-1]\n",
    "\n",
    "(mask_l2r | mask_r2l | mask_t2b | mask_b2t).sum()"
   ]
  },
  {
   "cell_type": "code",
   "execution_count": 17,
   "id": "99f4a95d-a9db-4760-86da-519abff9d9cf",
   "metadata": {},
   "outputs": [
    {
     "data": {
      "text/plain": [
       "1854"
      ]
     },
     "execution_count": 17,
     "metadata": {},
     "output_type": "execute_result"
    }
   ],
   "source": [
    "mask, *rest = [\n",
    "    side.restore(generate_mask(side.view(data))) for side in ViewDirection.get_all()\n",
    "]\n",
    "\n",
    "for other in rest:\n",
    "    mask = np.logical_or(mask, other)\n",
    "\n",
    "mask.sum()"
   ]
  },
  {
   "cell_type": "markdown",
   "id": "7850a10c-0294-4815-aa0c-cbd3fb820f82",
   "metadata": {},
   "source": [
    "---"
   ]
  },
  {
   "cell_type": "code",
   "execution_count": 7,
   "id": "77d67ca1-c97a-4225-a308-b45b6c4f3645",
   "metadata": {},
   "outputs": [],
   "source": [
    "def scenic_score(A, row, col):\n",
    "    height = A[row, col]\n",
    "\n",
    "    score_top = 0\n",
    "    for i in range(row - 1, -1, -1):\n",
    "        score_top += 1\n",
    "        if A[i, col] >= height:\n",
    "            break\n",
    "\n",
    "    score_bottom = 0\n",
    "    for i in range(row + 1, A.shape[0]):\n",
    "        score_bottom += 1\n",
    "        if A[i, col] >= height:\n",
    "            break\n",
    "\n",
    "    score_left = 0\n",
    "    for i in range(col - 1, -1, -1):\n",
    "        score_left += 1\n",
    "        if A[row, i] >= height:\n",
    "            break\n",
    "\n",
    "    score_right = 0\n",
    "    for i in range(col + 1, A.shape[1]):\n",
    "        score_right += 1\n",
    "        if A[row, i] >= height:\n",
    "            break\n",
    "\n",
    "    return score_top * score_left * score_bottom * score_right"
   ]
  },
  {
   "cell_type": "code",
   "execution_count": 8,
   "id": "1b0b9254-714b-4160-bf5e-8bc1e141f353",
   "metadata": {},
   "outputs": [
    {
     "data": {
      "text/plain": [
       "527340"
      ]
     },
     "execution_count": 8,
     "metadata": {},
     "output_type": "execute_result"
    }
   ],
   "source": [
    "max_scene_score = -1\n",
    "for row in range(1, data.shape[0] - 1):\n",
    "    for col in range(1, data.shape[1] - 1):\n",
    "        max_scene_score = max(max_scene_score, scenic_score(data, row, col))\n",
    "max_scene_score"
   ]
  }
 ],
 "metadata": {
  "kernelspec": {
   "display_name": "Python (DE)",
   "language": "python",
   "name": "python3"
  },
  "language_info": {
   "codemirror_mode": {
    "name": "ipython",
    "version": 3
   },
   "file_extension": ".py",
   "mimetype": "text/x-python",
   "name": "python",
   "nbconvert_exporter": "python",
   "pygments_lexer": "ipython3",
   "version": "3.7.12"
  }
 },
 "nbformat": 4,
 "nbformat_minor": 5
}
