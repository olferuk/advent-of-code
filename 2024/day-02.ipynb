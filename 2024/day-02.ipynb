{
 "cells": [
  {
   "cell_type": "code",
   "execution_count": 20,
   "metadata": {},
   "outputs": [],
   "source": [
    "import sys\n",
    "sys.path.append('..')\n",
    "\n",
    "import numpy as np\n",
    "import pandas as pd\n",
    "from puzzles import load_lines\n",
    "\n",
    "data = load_lines(2)\n",
    "data = [np.array([int(y) for y in x.split()]) for x in data]"
   ]
  },
  {
   "cell_type": "code",
   "execution_count": 21,
   "metadata": {},
   "outputs": [
    {
     "data": {
      "text/plain": [
       "510"
      ]
     },
     "execution_count": 21,
     "metadata": {},
     "output_type": "execute_result"
    }
   ],
   "source": [
    "n_safe = 0\n",
    "for line in data:\n",
    "    diffs = line[1:] - line[:-1]\n",
    "    n_safe += int((np.abs(diffs) <= 3).all() and ((diffs > 0).all() or (diffs < 0).all()))\n",
    "n_safe\n"
   ]
  },
  {
   "cell_type": "code",
   "execution_count": 28,
   "metadata": {},
   "outputs": [
    {
     "data": {
      "text/plain": [
       "553"
      ]
     },
     "execution_count": 28,
     "metadata": {},
     "output_type": "execute_result"
    }
   ],
   "source": [
    "n_safe = 0\n",
    "for line in data:\n",
    "    diffs = line[1:] - line[:-1]\n",
    "    safe = int((np.abs(diffs) <= 3).all() and ((diffs > 0).all() or (diffs < 0).all()))\n",
    "    if safe:\n",
    "        n_safe += 1\n",
    "        continue\n",
    "    for i in range(len(line)):\n",
    "        new_line = np.delete(line.copy(), i)\n",
    "        diffs = new_line[1:] - new_line[:-1]\n",
    "        safe = int((np.abs(diffs) <= 3).all() and ((diffs > 0).all() or (diffs < 0).all()))\n",
    "        if safe:\n",
    "            n_safe += 1\n",
    "            break\n",
    "n_safe"
   ]
  }
 ],
 "metadata": {
  "kernelspec": {
   "display_name": "Python 3",
   "language": "python",
   "name": "python3"
  },
  "language_info": {
   "codemirror_mode": {
    "name": "ipython",
    "version": 3
   },
   "file_extension": ".py",
   "mimetype": "text/x-python",
   "name": "python",
   "nbconvert_exporter": "python",
   "pygments_lexer": "ipython3",
   "version": "3.11.9"
  }
 },
 "nbformat": 4,
 "nbformat_minor": 2
}
