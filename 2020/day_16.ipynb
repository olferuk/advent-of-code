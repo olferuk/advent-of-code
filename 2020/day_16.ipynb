{
 "cells": [
  {
   "cell_type": "code",
   "execution_count": 1,
   "id": "d997d3e6-325e-4f79-bf48-623aacfbce13",
   "metadata": {},
   "outputs": [],
   "source": [
    "%load_ext lab_black\n",
    "%load_ext autoreload\n",
    "%autoreload 2"
   ]
  },
  {
   "cell_type": "code",
   "execution_count": 40,
   "id": "d3b44533-63b5-441a-a9cc-69467b12d3c2",
   "metadata": {},
   "outputs": [],
   "source": [
    "from puzzles import load_lines"
   ]
  },
  {
   "cell_type": "code",
   "execution_count": 57,
   "id": "6bceb56e-1fa5-4b7b-addf-55467775c7ec",
   "metadata": {},
   "outputs": [],
   "source": [
    "lines = load_lines(16)\n",
    "# lines = \"\"\"class: 1-3 or 5-7\n",
    "# row: 6-11 or 33-44\n",
    "# seat: 13-40 or 45-50\n",
    "\n",
    "# your ticket:\n",
    "# 7,1,14\n",
    "\n",
    "# nearby tickets:\n",
    "# 7,3,47\n",
    "# 40,4,50\n",
    "# 55,2,20\n",
    "# 38,6,12\"\"\".split(\n",
    "#     \"\\n\"\n",
    "# )"
   ]
  },
  {
   "cell_type": "code",
   "execution_count": 58,
   "id": "b94f55ec-4393-4ef8-8397-6c151cca4336",
   "metadata": {},
   "outputs": [],
   "source": [
    "other_tickets = [\n",
    "    [int(x) for x in t.split(\",\")] for t in lines[lines.index(\"nearby tickets:\") + 1 :]\n",
    "]"
   ]
  },
  {
   "cell_type": "code",
   "execution_count": 59,
   "id": "f81ee2f5-bc19-4726-9621-62c14c5e008e",
   "metadata": {},
   "outputs": [],
   "source": [
    "correct_ranges = [\n",
    "    [[int(n) for n in c.split(\"-\")] for c in x.split(\" or \")]\n",
    "    for x in [c.split(\": \")[1] for c in lines[: lines.index(\"your ticket:\") - 1]]\n",
    "]"
   ]
  },
  {
   "cell_type": "code",
   "execution_count": 60,
   "id": "12cc9acd-5cdd-4299-8e4e-51d80da7b03d",
   "metadata": {},
   "outputs": [],
   "source": [
    "from itertools import permutations"
   ]
  },
  {
   "cell_type": "code",
   "execution_count": null,
   "id": "1a524bb5-6d40-4425-a06a-f24d16044463",
   "metadata": {},
   "outputs": [],
   "source": [
    "def match(ticket, ranges):\n",
    "    Sb = Snb = int(1e9)\n",
    "    for p in permutations(ticket):\n",
    "        S = Sn = 0\n",
    "        for n, r in zip(p, ranges):\n",
    "            f, s = r\n",
    "            if not (f[0] <= n <= f[1] or s[0] <= n <= s[1]):\n",
    "                S += n\n",
    "                Sn += 1\n",
    "        if Sn == 0:\n",
    "            return 0\n",
    "        if Sn < Snb:\n",
    "            Snb = Sn\n",
    "            Sb = S\n",
    "    return Sb"
   ]
  },
  {
   "cell_type": "code",
   "execution_count": 62,
   "id": "5d295af8-cd70-4d1c-8469-f9d61a1d874e",
   "metadata": {},
   "outputs": [],
   "source": [
    "from tqdm import tqdm"
   ]
  },
  {
   "cell_type": "code",
   "execution_count": 63,
   "id": "b4374a09-a790-4266-9c1b-05ddea847e1a",
   "metadata": {},
   "outputs": [
    {
     "name": "stderr",
     "output_type": "stream",
     "text": [
      "  0%|▎                                                                                      | 1/237 [16:15<63:55:32, 975.14s/it]\n"
     ]
    },
    {
     "ename": "KeyboardInterrupt",
     "evalue": "",
     "output_type": "error",
     "traceback": [
      "\u001b[0;31m---------------------------------------------------------------------------\u001b[0m",
      "\u001b[0;31mKeyboardInterrupt\u001b[0m                         Traceback (most recent call last)",
      "\u001b[0;32m/var/folders/x4/t1fx1l8s0f97y033bl0gpgcr0000gn/T/ipykernel_37832/1120935259.py\u001b[0m in \u001b[0;36m<module>\u001b[0;34m\u001b[0m\n\u001b[1;32m      1\u001b[0m \u001b[0mM\u001b[0m \u001b[0;34m=\u001b[0m \u001b[0;36m0\u001b[0m\u001b[0;34m\u001b[0m\u001b[0;34m\u001b[0m\u001b[0m\n\u001b[1;32m      2\u001b[0m \u001b[0;32mfor\u001b[0m \u001b[0mticket\u001b[0m \u001b[0;32min\u001b[0m \u001b[0mtqdm\u001b[0m\u001b[0;34m(\u001b[0m\u001b[0mother_tickets\u001b[0m\u001b[0;34m)\u001b[0m\u001b[0;34m:\u001b[0m\u001b[0;34m\u001b[0m\u001b[0;34m\u001b[0m\u001b[0m\n\u001b[0;32m----> 3\u001b[0;31m     \u001b[0mM\u001b[0m \u001b[0;34m+=\u001b[0m \u001b[0mmatch\u001b[0m\u001b[0;34m(\u001b[0m\u001b[0mticket\u001b[0m\u001b[0;34m,\u001b[0m \u001b[0mcorrect_ranges\u001b[0m\u001b[0;34m)\u001b[0m\u001b[0;34m\u001b[0m\u001b[0;34m\u001b[0m\u001b[0m\n\u001b[0m\u001b[1;32m      4\u001b[0m \u001b[0mM\u001b[0m\u001b[0;34m\u001b[0m\u001b[0;34m\u001b[0m\u001b[0m\n",
      "\u001b[0;32m/var/folders/x4/t1fx1l8s0f97y033bl0gpgcr0000gn/T/ipykernel_37832/2165753905.py\u001b[0m in \u001b[0;36mmatch\u001b[0;34m(ticket, ranges)\u001b[0m\n\u001b[1;32m      4\u001b[0m         \u001b[0mS\u001b[0m \u001b[0;34m=\u001b[0m \u001b[0mSn\u001b[0m \u001b[0;34m=\u001b[0m \u001b[0;36m0\u001b[0m\u001b[0;34m\u001b[0m\u001b[0;34m\u001b[0m\u001b[0m\n\u001b[1;32m      5\u001b[0m         \u001b[0;32mfor\u001b[0m \u001b[0mn\u001b[0m\u001b[0;34m,\u001b[0m \u001b[0mr\u001b[0m \u001b[0;32min\u001b[0m \u001b[0mzip\u001b[0m\u001b[0;34m(\u001b[0m\u001b[0mp\u001b[0m\u001b[0;34m,\u001b[0m \u001b[0mranges\u001b[0m\u001b[0;34m)\u001b[0m\u001b[0;34m:\u001b[0m\u001b[0;34m\u001b[0m\u001b[0;34m\u001b[0m\u001b[0m\n\u001b[0;32m----> 6\u001b[0;31m             \u001b[0mf\u001b[0m\u001b[0;34m,\u001b[0m \u001b[0ms\u001b[0m \u001b[0;34m=\u001b[0m \u001b[0mr\u001b[0m\u001b[0;34m\u001b[0m\u001b[0;34m\u001b[0m\u001b[0m\n\u001b[0m\u001b[1;32m      7\u001b[0m             \u001b[0;32mif\u001b[0m \u001b[0;32mnot\u001b[0m \u001b[0;34m(\u001b[0m\u001b[0mf\u001b[0m\u001b[0;34m[\u001b[0m\u001b[0;36m0\u001b[0m\u001b[0;34m]\u001b[0m \u001b[0;34m<=\u001b[0m \u001b[0mn\u001b[0m \u001b[0;34m<=\u001b[0m \u001b[0mf\u001b[0m\u001b[0;34m[\u001b[0m\u001b[0;36m1\u001b[0m\u001b[0;34m]\u001b[0m \u001b[0;32mor\u001b[0m \u001b[0ms\u001b[0m\u001b[0;34m[\u001b[0m\u001b[0;36m0\u001b[0m\u001b[0;34m]\u001b[0m \u001b[0;34m<=\u001b[0m \u001b[0mn\u001b[0m \u001b[0;34m<=\u001b[0m \u001b[0ms\u001b[0m\u001b[0;34m[\u001b[0m\u001b[0;36m1\u001b[0m\u001b[0;34m]\u001b[0m\u001b[0;34m)\u001b[0m\u001b[0;34m:\u001b[0m\u001b[0;34m\u001b[0m\u001b[0;34m\u001b[0m\u001b[0m\n\u001b[1;32m      8\u001b[0m                 \u001b[0mS\u001b[0m \u001b[0;34m+=\u001b[0m \u001b[0mn\u001b[0m\u001b[0;34m\u001b[0m\u001b[0;34m\u001b[0m\u001b[0m\n",
      "\u001b[0;31mKeyboardInterrupt\u001b[0m: "
     ]
    }
   ],
   "source": [
    "M = 0\n",
    "for ticket in tqdm(other_tickets):\n",
    "    M += match(ticket, correct_ranges)\n",
    "M"
   ]
  },
  {
   "cell_type": "code",
   "execution_count": null,
   "id": "a4912e15-a51c-4bc3-b6cc-5f8842d5515c",
   "metadata": {},
   "outputs": [],
   "source": []
  }
 ],
 "metadata": {
  "kernelspec": {
   "display_name": "Python (DE)",
   "language": "python",
   "name": "python3"
  },
  "language_info": {
   "codemirror_mode": {
    "name": "ipython",
    "version": 3
   },
   "file_extension": ".py",
   "mimetype": "text/x-python",
   "name": "python",
   "nbconvert_exporter": "python",
   "pygments_lexer": "ipython3",
   "version": "3.7.12"
  }
 },
 "nbformat": 4,
 "nbformat_minor": 5
}
