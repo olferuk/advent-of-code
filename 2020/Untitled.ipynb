{
 "cells": [
  {
   "cell_type": "code",
   "execution_count": 8,
   "id": "ebe33e76-b7ad-4fa1-93e9-cd94ed16e7bc",
   "metadata": {
    "tags": []
   },
   "outputs": [],
   "source": [
    "%load_ext lab_black"
   ]
  },
  {
   "cell_type": "code",
   "execution_count": 10,
   "id": "9748744f-a9cc-40dc-8001-6e58292499d7",
   "metadata": {},
   "outputs": [],
   "source": [
    "def bubble_sorted(a):\n",
    "    for i in range(len(a)):\n",
    "        for j in range(len(a)):\n",
    "            if i == j:\n",
    "                continue\n",
    "            if a[j] > a[i]:\n",
    "                t = a[i]\n",
    "                a[i] = a[j]\n",
    "                a[j] = t\n",
    "    return a"
   ]
  },
  {
   "cell_type": "code",
   "execution_count": 11,
   "id": "71113868-4915-4875-8ca9-c2d23686f3dc",
   "metadata": {},
   "outputs": [
    {
     "name": "stdout",
     "output_type": "stream",
     "text": [
      "1\n"
     ]
    }
   ],
   "source": [
    "print(x)"
   ]
  },
  {
   "cell_type": "code",
   "execution_count": null,
   "id": "43266878-f08b-4b2b-9bee-d21dddc4f2f6",
   "metadata": {},
   "outputs": [],
   "source": []
  },
  {
   "cell_type": "code",
   "execution_count": 11,
   "id": "6e5c5822-f8d9-4a39-92ff-11e49e5125a0",
   "metadata": {},
   "outputs": [
    {
     "data": {
      "text/plain": [
       "[1, 1, 2, 2, 4, 5, 6, 8]"
      ]
     },
     "execution_count": 11,
     "metadata": {},
     "output_type": "execute_result"
    }
   ],
   "source": [
    "bubble_sorted([1, 4, 5, 2, 6, 8, 2, 1])"
   ]
  },
  {
   "cell_type": "code",
   "execution_count": null,
   "id": "b23791cf-c782-4c9e-b3ed-b198ca73e086",
   "metadata": {},
   "outputs": [],
   "source": []
  },
  {
   "cell_type": "code",
   "execution_count": 10,
   "id": "aaee5ec0-71dc-4af1-8a9a-8260275a9754",
   "metadata": {},
   "outputs": [
    {
     "name": "stdout",
     "output_type": "stream",
     "text": [
      "[1, 1, 2, 2, 4, 5, 6, 8]\n"
     ]
    }
   ],
   "source": [
    "print(bubble_sorted([1, 4, 5, 2, 6, 8, 2, 1]))"
   ]
  },
  {
   "cell_type": "markdown",
   "id": "215d9842-30ae-4efe-9ac5-4a20f5792f88",
   "metadata": {},
   "source": [
    "vasd"
   ]
  },
  {
   "cell_type": "code",
   "execution_count": null,
   "id": "0fabe0f9-03d4-464d-baca-9decffda4524",
   "metadata": {},
   "outputs": [],
   "source": []
  }
 ],
 "metadata": {
  "kernelspec": {
   "display_name": "platy-segmentation",
   "language": "python",
   "name": "platy-segmentation"
  },
  "language_info": {
   "codemirror_mode": {
    "name": "ipython",
    "version": 3
   },
   "file_extension": ".py",
   "mimetype": "text/x-python",
   "name": "python",
   "nbconvert_exporter": "python",
   "pygments_lexer": "ipython3",
   "version": "3.9.6"
  }
 },
 "nbformat": 4,
 "nbformat_minor": 5
}
