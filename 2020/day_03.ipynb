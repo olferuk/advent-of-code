{
 "cells": [
  {
   "cell_type": "code",
   "execution_count": 2,
   "id": "737872cd-a617-4519-bfc2-7c7b31d5da01",
   "metadata": {},
   "outputs": [],
   "source": [
    "%load_ext lab_black"
   ]
  },
  {
   "cell_type": "code",
   "execution_count": 3,
   "id": "a35ee8ee-4894-4129-bf35-d49938fffb14",
   "metadata": {},
   "outputs": [],
   "source": [
    "from puzzles import load"
   ]
  },
  {
   "cell_type": "code",
   "execution_count": 4,
   "id": "e76a1e96-1ae4-444e-a068-753f7451ae36",
   "metadata": {},
   "outputs": [],
   "source": [
    "ls = load(3).strip().split(\"\\n\")"
   ]
  },
  {
   "cell_type": "code",
   "execution_count": 5,
   "id": "26370389-6979-443b-9913-6f3b21604c1b",
   "metadata": {},
   "outputs": [],
   "source": [
    "def check_slope(rs, cs):\n",
    "    r, c = 0, 0\n",
    "    n = 0\n",
    "    while r < len(ls):\n",
    "        n += int(ls[r][c] == \"#\")\n",
    "        c += cs\n",
    "        if c >= len(ls[0]):\n",
    "            c -= len(ls[0])\n",
    "        r += rs\n",
    "    return n"
   ]
  },
  {
   "cell_type": "code",
   "execution_count": 6,
   "id": "98ef8a46-6993-4de3-a835-15fdd578ea4c",
   "metadata": {},
   "outputs": [
    {
     "data": {
      "text/plain": [
       "187"
      ]
     },
     "execution_count": 6,
     "metadata": {},
     "output_type": "execute_result"
    }
   ],
   "source": [
    "check_slope(1, 3)"
   ]
  },
  {
   "cell_type": "code",
   "execution_count": 7,
   "id": "35b02d43-2e0e-43f0-aa65-8173a7297d5e",
   "metadata": {},
   "outputs": [
    {
     "data": {
      "text/plain": [
       "4723283400"
      ]
     },
     "execution_count": 7,
     "metadata": {},
     "output_type": "execute_result"
    }
   ],
   "source": [
    "(\n",
    "    check_slope(1, 1)\n",
    "    * check_slope(1, 3)\n",
    "    * check_slope(1, 5)\n",
    "    * check_slope(1, 7)\n",
    "    * check_slope(2, 1)\n",
    ")"
   ]
  }
 ],
 "metadata": {
  "kernelspec": {
   "display_name": "platy-segmentation",
   "language": "python",
   "name": "platy-segmentation"
  },
  "language_info": {
   "codemirror_mode": {
    "name": "ipython",
    "version": 3
   },
   "file_extension": ".py",
   "mimetype": "text/x-python",
   "name": "python",
   "nbconvert_exporter": "python",
   "pygments_lexer": "ipython3",
   "version": "3.9.6"
  }
 },
 "nbformat": 4,
 "nbformat_minor": 5
}
