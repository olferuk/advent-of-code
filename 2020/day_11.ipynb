{
 "cells": [
  {
   "cell_type": "code",
   "execution_count": 144,
   "id": "ac046680-28f9-4d72-9c24-8fd7a23843c3",
   "metadata": {},
   "outputs": [
    {
     "name": "stdout",
     "output_type": "stream",
     "text": [
      "The lab_black extension is already loaded. To reload it, use:\n",
      "  %reload_ext lab_black\n",
      "The autoreload extension is already loaded. To reload it, use:\n",
      "  %reload_ext autoreload\n"
     ]
    }
   ],
   "source": [
    "%load_ext lab_black\n",
    "%load_ext autoreload\n",
    "%autoreload 2"
   ]
  },
  {
   "cell_type": "code",
   "execution_count": 145,
   "id": "5dbb0df3-d749-4b71-8ec8-49fdf2ed84cc",
   "metadata": {},
   "outputs": [],
   "source": [
    "from puzzles import load_array, load_lines\n",
    "\n",
    "import numpy as np\n",
    "\n",
    "import matplotlib.pyplot as plt"
   ]
  },
  {
   "cell_type": "code",
   "execution_count": 146,
   "id": "8cdadffa-cea9-48bd-b038-b457bc48e276",
   "metadata": {},
   "outputs": [],
   "source": [
    "A = load_array(11)"
   ]
  },
  {
   "cell_type": "markdown",
   "id": "77d60c5c-d9d0-4149-86b1-c29a44b3adc1",
   "metadata": {},
   "source": [
    "* If a seat is empty (L) and there are no occupied seats adjacent to it, the seat becomes occupied.\n",
    "* If a seat is occupied (#) and four or more seats adjacent to it are also occupied, the seat becomes empty.\n",
    "* Otherwise, the seat's state does not change."
   ]
  },
  {
   "cell_type": "code",
   "execution_count": 147,
   "id": "a08363ee-bd24-462e-abfb-c6f4b7829d95",
   "metadata": {},
   "outputs": [],
   "source": [
    "A = np.array(\n",
    "    [\n",
    "        list(x)\n",
    "        for x in \"\"\"L.LL.LL.LL\n",
    "LLLLLLL.LL\n",
    "L.L.L..L..\n",
    "LLLL.LL.LL\n",
    "L.LL.LL.LL\n",
    "L.LLLLL.LL\n",
    "..L.L.....\n",
    "LLLLLLLLLL\n",
    "L.LLLLLL.L\n",
    "L.LLLLL.LL\"\"\".split(\n",
    "            \"\\n\"\n",
    "        )\n",
    "    ]\n",
    ")\n",
    "A[A == \".\"] = 0\n",
    "A[A == \"L\"] = 1\n",
    "A = A.astype(int)"
   ]
  },
  {
   "cell_type": "code",
   "execution_count": 148,
   "id": "17177445-8f12-4ce9-bb89-65fdedd5f41e",
   "metadata": {},
   "outputs": [],
   "source": [
    "def rule(part):\n",
    "    if part[1, 1] == 0:\n",
    "        return 0\n",
    "\n",
    "    adj_mask = np.ones([3, 3]).astype(bool)\n",
    "    adj_mask[1, 1] = False\n",
    "\n",
    "    # If a seat is empty (L) and there are no occupied seats\n",
    "    #    adjacent to it, the seat becomes occupied.\n",
    "    if part[1, 1] == 1 and (part[adj_mask] == 2).sum() == 0:\n",
    "        return 2\n",
    "\n",
    "    # If a seat is occupied (#) and four or more seats adjacent\n",
    "    #   to it are also occupied, the seat becomes empty.\n",
    "    if part[1, 1] == 2 and (part[adj_mask] == 2).sum() >= 4:\n",
    "        return 1\n",
    "\n",
    "    return part[1, 1]"
   ]
  },
  {
   "cell_type": "code",
   "execution_count": 149,
   "id": "c6de1f70-5e11-410c-820c-dbaf8863ac48",
   "metadata": {},
   "outputs": [],
   "source": [
    "def cell_step(A):\n",
    "    buffer = np.zeros_like(A, dtype=A.dtype)\n",
    "    A = np.pad(A, 1)\n",
    "    for i in range(1, len(A) - 1):\n",
    "        for j in range(1, len(A[0]) - 1):\n",
    "            buffer[i - 1, j - 1] = rule(A[i - 1 : i + 2, j - 1 : j + 2])\n",
    "    return buffer"
   ]
  },
  {
   "cell_type": "code",
   "execution_count": 150,
   "id": "de2c0cf5-aabc-46bd-8b3e-e9c2ed2dc295",
   "metadata": {},
   "outputs": [],
   "source": [
    "A = np.array([list(x) for x in load_lines(11)])\n",
    "A[A == \".\"] = 0\n",
    "A[A == \"L\"] = 1\n",
    "A = A.astype(int)"
   ]
  },
  {
   "cell_type": "code",
   "execution_count": 151,
   "id": "7a3fb0c0-8843-481f-93e5-4d543c4c1a0a",
   "metadata": {},
   "outputs": [
    {
     "name": "stdout",
     "output_type": "stream",
     "text": [
      "2368\n"
     ]
    }
   ],
   "source": [
    "while True:\n",
    "    B = cell_step(A)\n",
    "    if (B == A).all():\n",
    "        print((B == 2).sum())\n",
    "        break\n",
    "    A = B"
   ]
  },
  {
   "cell_type": "markdown",
   "id": "db993087-8345-4053-964d-d80ac65b2b1a",
   "metadata": {},
   "source": [
    "\n",
    "---"
   ]
  },
  {
   "cell_type": "code",
   "execution_count": 158,
   "id": "ed1106ec-7cf0-4a69-a854-e86977def2ec",
   "metadata": {},
   "outputs": [],
   "source": [
    "def check_dir(A, y, x, sy, sx, check_for):\n",
    "    while True:\n",
    "        y += sy\n",
    "        x += sx\n",
    "        if x < 0 or y < 0:\n",
    "            return 0\n",
    "        if x == A.shape[1] or y == A.shape[0]:\n",
    "            return 0\n",
    "        if A[y, x] == check_for:\n",
    "            return 1\n",
    "\n",
    "\n",
    "def check_d8(A, y, x, check_for):\n",
    "    return sum(\n",
    "        [\n",
    "            check_dir(A, y, x, sy, sx, check_for)\n",
    "            for sy, sx in [\n",
    "                (1, 0),\n",
    "                (-1, 0),\n",
    "                (0, 1),\n",
    "                (0, -1),\n",
    "                (1, 1),\n",
    "                (1, -1),\n",
    "                (-1, 1),\n",
    "                (-1, -1),\n",
    "            ]\n",
    "        ]\n",
    "    )\n",
    "\n",
    "\n",
    "def rule(A, y, x):\n",
    "    if A[y, x] == 0:\n",
    "        return 0\n",
    "\n",
    "    # If a seat is empty (L) and there are no occupied seats\n",
    "    #    adjacent to it, the seat becomes occupied.\n",
    "    if A[y, x] == 1 and check_d8(A, y, x, check_for=2) == 0:\n",
    "        return 2\n",
    "\n",
    "    # If a seat is occupied (#) and four or more seats adjacent\n",
    "    #   to it are also occupied, the seat becomes empty.\n",
    "    if A[y, x] == 2 and check_d8(A, y, x, check_for=2) >= 5:\n",
    "        return 1\n",
    "\n",
    "    return A[y, x]\n",
    "\n",
    "\n",
    "def cell_step(A):\n",
    "    buffer = np.zeros_like(A, dtype=A.dtype)\n",
    "    for y in range(len(A)):\n",
    "        for x in range(len(A[0])):\n",
    "            buffer[y, x] = rule(A, y, x)\n",
    "    return buffer"
   ]
  },
  {
   "cell_type": "code",
   "execution_count": 175,
   "id": "f38d0029-cfb3-4d34-aa5a-40f77ae74db1",
   "metadata": {},
   "outputs": [],
   "source": [
    "# text = load_lines(11)\n",
    "# text = \"\"\"\n",
    "# .##.##.\n",
    "# #.#.#.#\n",
    "# ##...##\n",
    "# ...L...\n",
    "# ##...##\n",
    "# #.#.#.#\n",
    "# .##.##.\n",
    "# \"\"\".strip().split(\n",
    "#     \"\\n\"\n",
    "# )\n",
    "text = \"\"\"\n",
    "L.LL.LL.LL\n",
    "LLLLLLL.LL\n",
    "L.L.L..L..\n",
    "LLLL.LL.LL\n",
    "L.LL.LL.LL\n",
    "L.LLLLL.LL\n",
    "..L.L.....\n",
    "LLLLLLLLLL\n",
    "L.LLLLLL.L\n",
    "L.LLLLL.LL\n",
    "\"\"\".strip().split(\n",
    "    \"\\n\"\n",
    ")\n",
    "\n",
    "A = np.array([list(x) for x in text])\n",
    "A[A == \".\"] = 0\n",
    "A[A == \"L\"] = 1\n",
    "A[A == \"#\"] = 2\n",
    "A = A.astype(np.uint8)"
   ]
  },
  {
   "cell_type": "code",
   "execution_count": 175,
   "id": "df7b9af5-c0f6-4e4d-a6a0-60f9a2fb3a7b",
   "metadata": {},
   "outputs": [
    {
     "name": "stdout",
     "output_type": "stream",
     "text": [
      "15\n"
     ]
    }
   ],
   "source": [
    "# while True:\n",
    "    B = cell_step(A)\n",
    "    if (B == A).all():\n",
    "        print((B == 2).sum())\n",
    "        break\n",
    "    A = B"
   ]
  },
  {
   "cell_type": "code",
   "execution_count": null,
   "id": "c551d2cf-5ae6-4be3-abf5-4500eff93372",
   "metadata": {},
   "outputs": [],
   "source": []
  }
 ],
 "metadata": {
  "kernelspec": {
   "display_name": "Python (DE)",
   "language": "python",
   "name": "python3"
  },
  "language_info": {
   "codemirror_mode": {
    "name": "ipython",
    "version": 3
   },
   "file_extension": ".py",
   "mimetype": "text/x-python",
   "name": "python",
   "nbconvert_exporter": "python",
   "pygments_lexer": "ipython3",
   "version": "3.7.12"
  }
 },
 "nbformat": 4,
 "nbformat_minor": 5
}
