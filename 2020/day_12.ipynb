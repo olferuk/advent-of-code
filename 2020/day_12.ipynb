{
 "cells": [
  {
   "cell_type": "code",
   "execution_count": 1,
   "id": "15458def-d985-4de7-b6fe-8345bfa6f53b",
   "metadata": {},
   "outputs": [],
   "source": [
    "%load_ext lab_black\n",
    "%load_ext autoreload\n",
    "%autoreload 2"
   ]
  },
  {
   "cell_type": "code",
   "execution_count": 2,
   "id": "710ad4d5-4066-4172-9242-1c729264d621",
   "metadata": {},
   "outputs": [],
   "source": [
    "from puzzles import load_array, load_lines\n",
    "\n",
    "import numpy as np\n",
    "\n",
    "import matplotlib.pyplot as plt"
   ]
  },
  {
   "cell_type": "code",
   "execution_count": 3,
   "id": "41bb0e90-9b1f-4fd3-aa03-a408da240426",
   "metadata": {},
   "outputs": [],
   "source": [
    "cmds = load_lines(12)"
   ]
  },
  {
   "cell_type": "code",
   "execution_count": 18,
   "id": "134f5a55-bec8-48f0-bcee-db2b0f29cc01",
   "metadata": {},
   "outputs": [],
   "source": [
    "def turn_cw(v):\n",
    "    return {\n",
    "        (1, 0): (0, 1),  # up -> right\n",
    "        (0, 1): (-1, 0),  # right -> down\n",
    "        (-1, 0): (0, -1),  # down -> left\n",
    "        (0, -1): (1, 0),  # left -> up\n",
    "    }[v]\n",
    "\n",
    "\n",
    "def turn_ccw(v):\n",
    "    return {\n",
    "        (0, 1): (1, 0),  # up <- right\n",
    "        (-1, 0): (0, 1),  # right <- down\n",
    "        (0, -1): (-1, 0),  # down <- left\n",
    "        (1, 0): (0, -1),  # left <- up\n",
    "    }[v]\n",
    "\n",
    "\n",
    "directions = {\n",
    "    \"N\": (1, 0),\n",
    "    \"S\": (-1, 0),\n",
    "    \"W\": (0, -1),\n",
    "    \"E\": (0, 1),\n",
    "}"
   ]
  },
  {
   "cell_type": "code",
   "execution_count": 19,
   "id": "f35d5497-810d-4106-af7d-5847650b7f15",
   "metadata": {},
   "outputs": [],
   "source": [
    "sailing_history = []\n",
    "\n",
    "facing = (0, 1)\n",
    "coords = np.array([0, 0])\n",
    "\n",
    "for cmd in cmds:\n",
    "    c, n = cmd[:1], int(cmd[1:])\n",
    "    if c == \"F\":\n",
    "        for _ in range(n):\n",
    "            coords = coords + np.array(facing)\n",
    "            sailing_history.append(coords)\n",
    "    elif c == \"R\":\n",
    "        for _ in range(n // 90):\n",
    "            facing = turn_cw(facing)\n",
    "    elif c == \"L\":\n",
    "        for _ in range(n // 90):\n",
    "            facing = turn_ccw(facing)\n",
    "    else:\n",
    "        for _ in range(n):\n",
    "            coords = coords + np.array(directions[c])\n",
    "            sailing_history.append(coords)"
   ]
  },
  {
   "cell_type": "code",
   "execution_count": 20,
   "id": "e7475eb4-f374-4ca7-8eb5-ab260d67abb4",
   "metadata": {},
   "outputs": [
    {
     "data": {
      "text/plain": [
       "562"
      ]
     },
     "execution_count": 20,
     "metadata": {},
     "output_type": "execute_result"
    }
   ],
   "source": [
    "np.abs(coords).sum()"
   ]
  },
  {
   "cell_type": "code",
   "execution_count": 21,
   "id": "af40a483-d7a1-4f33-a870-1ba89b14db6d",
   "metadata": {},
   "outputs": [],
   "source": [
    "sailing_history = np.array(sailing_history)"
   ]
  },
  {
   "cell_type": "code",
   "execution_count": 22,
   "id": "791bf2d4-80d2-42cf-9c80-b5eb9f552f22",
   "metadata": {},
   "outputs": [
    {
     "data": {
      "text/plain": [
       "(10058, 2)"
      ]
     },
     "execution_count": 22,
     "metadata": {},
     "output_type": "execute_result"
    }
   ],
   "source": [
    "sailing_history.shape"
   ]
  },
  {
   "cell_type": "code",
   "execution_count": 24,
   "id": "5e12a6e5-d1eb-4dfb-9079-7cc745c4b064",
   "metadata": {},
   "outputs": [
    {
     "data": {
      "text/plain": [
       "[<matplotlib.lines.Line2D at 0x7fc3debf9a10>]"
      ]
     },
     "execution_count": 24,
     "metadata": {},
     "output_type": "execute_result"
    },
    {
     "data": {
      "image/png": "[encoded data removed]",
      "text/plain": [
       "<Figure size 432x288 with 1 Axes>"
      ]
     },
     "metadata": {
      "needs_background": "light"
     },
     "output_type": "display_data"
    }
   ],
   "source": [
    "plt.plot(sailing_history[:, 0], sailing_history[:, 1], c=\"dodgerblue\")"
   ]
  },
  {
   "cell_type": "markdown",
   "id": "63884afb-be9c-414d-94c7-a60d3fd20e22",
   "metadata": {},
   "source": [
    "---"
   ]
  },
  {
   "cell_type": "code",
   "execution_count": 26,
   "id": "124ca611-01b9-4b4c-8876-bbd60dd6c88e",
   "metadata": {},
   "outputs": [],
   "source": [
    "def turn_ccw(v):\n",
    "    a, b = v\n",
    "    return np.array([b, -a])\n",
    "\n",
    "\n",
    "def turn_cw(v):\n",
    "    a, b = v\n",
    "    return np.array([-b, a])"
   ]
  },
  {
   "cell_type": "code",
   "execution_count": 27,
   "id": "345e71ae-67ab-4628-acc1-0def95a9ee81",
   "metadata": {},
   "outputs": [],
   "source": [
    "sailing_history = []\n",
    "\n",
    "waypoint = np.array([1, 10])\n",
    "coords = np.array([0, 0])\n",
    "\n",
    "for cmd in cmds:\n",
    "    c, n = cmd[:1], int(cmd[1:])\n",
    "    if c == \"F\":\n",
    "        for _ in range(n):\n",
    "            coords = coords + waypoint\n",
    "            sailing_history.append(coords)\n",
    "    elif c == \"R\":\n",
    "        for _ in range(n // 90):\n",
    "            waypoint = turn_cw(waypoint)\n",
    "    elif c == \"L\":\n",
    "        for _ in range(n // 90):\n",
    "            waypoint = turn_ccw(waypoint)\n",
    "    else:\n",
    "        for _ in range(n):\n",
    "            waypoint = waypoint + np.array(directions[c])\n",
    "            sailing_history.append(coords)"
   ]
  },
  {
   "cell_type": "code",
   "execution_count": 28,
   "id": "8b32c091-ee4e-43ba-b805-bea496a0abed",
   "metadata": {},
   "outputs": [
    {
     "data": {
      "text/plain": [
       "101860"
      ]
     },
     "execution_count": 28,
     "metadata": {},
     "output_type": "execute_result"
    }
   ],
   "source": [
    "np.abs(coords).sum()"
   ]
  },
  {
   "cell_type": "code",
   "execution_count": 30,
   "id": "a0014fa5-e339-4ad6-b218-88522cbd9a13",
   "metadata": {},
   "outputs": [],
   "source": [
    "sailing_history = np.array(sailing_history)"
   ]
  },
  {
   "cell_type": "code",
   "execution_count": 31,
   "id": "0f08b2f9-924a-4bab-b4d9-a932025730fb",
   "metadata": {},
   "outputs": [
    {
     "data": {
      "text/plain": [
       "[<matplotlib.lines.Line2D at 0x7fc3dfc1a950>]"
      ]
     },
     "execution_count": 31,
     "metadata": {},
     "output_type": "execute_result"
    },
    {
     "data": {
      "image/png": "[encoded data removed]",
      "text/plain": [
       "<Figure size 432x288 with 1 Axes>"
      ]
     },
     "metadata": {
      "needs_background": "light"
     },
     "output_type": "display_data"
    }
   ],
   "source": [
    "plt.plot(sailing_history[:, 0], sailing_history[:, 1], c=\"dodgerblue\")"
   ]
  },
  {
   "cell_type": "code",
   "execution_count": null,
   "id": "24219b2b-e2e8-470e-933c-1fee38e92e01",
   "metadata": {},
   "outputs": [],
   "source": []
  }
 ],
 "metadata": {
  "kernelspec": {
   "display_name": "Python (DE)",
   "language": "python",
   "name": "python3"
  },
  "language_info": {
   "codemirror_mode": {
    "name": "ipython",
    "version": 3
   },
   "file_extension": ".py",
   "mimetype": "text/x-python",
   "name": "python",
   "nbconvert_exporter": "python",
   "pygments_lexer": "ipython3",
   "version": "3.7.12"
  }
 },
 "nbformat": 4,
 "nbformat_minor": 5
}
