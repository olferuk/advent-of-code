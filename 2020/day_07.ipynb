{
 "cells": [
  {
   "cell_type": "code",
   "execution_count": 45,
   "id": "5402bbeb-318a-498b-b556-9a6d12cb903f",
   "metadata": {},
   "outputs": [
    {
     "name": "stdout",
     "output_type": "stream",
     "text": [
      "The lab_black extension is already loaded. To reload it, use:\n",
      "  %reload_ext lab_black\n"
     ]
    }
   ],
   "source": [
    "%load_ext lab_black\n",
    "\n",
    "from puzzles import load_lines"
   ]
  },
  {
   "cell_type": "code",
   "execution_count": 46,
   "id": "25fc38dc-4221-401c-8b73-62ec94ca0d20",
   "metadata": {},
   "outputs": [],
   "source": [
    "import numpy as np"
   ]
  },
  {
   "cell_type": "code",
   "execution_count": 47,
   "id": "db359170-f0fa-4fbf-81ac-20275c4c6de7",
   "metadata": {},
   "outputs": [],
   "source": [
    "erase_s = lambda s: s if not s.endswith(\"s\") else s[:-1]\n",
    "\n",
    "s = set()\n",
    "\n",
    "for line in load_lines(7):\n",
    "    if \"contain no other bags\" in line:\n",
    "        what, _ = line[:-1].split(\" contain \")\n",
    "        what = erase_s(what)\n",
    "        s.add(what)\n",
    "        continue\n",
    "\n",
    "    what, contents = line[:-1].split(\" contain \")\n",
    "    contents = [erase_s(\" \".join(c.split()[1:])) for c in contents.split(\", \")]\n",
    "    what = erase_s(what)\n",
    "    s.add(what)\n",
    "    [s.add(c) for c in contents]\n",
    "\n",
    "labels = sorted(s)\n",
    "W = np.zeros([len(s), len(s)], dtype=np.uint8)\n",
    "\n",
    "for line in load_lines(7):\n",
    "    if \"contain no other bags\" in line:\n",
    "        what, _ = line[:-1].split(\" contain \")\n",
    "        what = erase_s(what)\n",
    "        s.add(what)\n",
    "        continue\n",
    "\n",
    "    what, contents = line[:-1].split(\" contain \")\n",
    "    contents = [\n",
    "        (int(c.split()[0]), erase_s(\" \".join(c.split()[1:])))\n",
    "        for c in contents.split(\", \")\n",
    "    ]\n",
    "    what = erase_s(what)\n",
    "\n",
    "    i = labels.index(what)\n",
    "    for t, c in contents:\n",
    "        j = labels.index(c)\n",
    "        W[i, j] = t"
   ]
  },
  {
   "cell_type": "code",
   "execution_count": 48,
   "id": "4bf8535e-544c-4d06-a095-3eb38236d865",
   "metadata": {},
   "outputs": [
    {
     "data": {
      "text/plain": [
       "array([[0, 0, 0, ..., 0, 0, 0],\n",
       "       [0, 0, 0, ..., 0, 0, 0],\n",
       "       [0, 0, 0, ..., 0, 0, 0],\n",
       "       ...,\n",
       "       [0, 0, 0, ..., 0, 0, 0],\n",
       "       [0, 0, 0, ..., 0, 0, 0],\n",
       "       [0, 0, 0, ..., 0, 0, 0]], dtype=uint8)"
      ]
     },
     "execution_count": 48,
     "metadata": {},
     "output_type": "execute_result"
    }
   ],
   "source": [
    "W"
   ]
  },
  {
   "cell_type": "code",
   "execution_count": null,
   "id": "bb8f090a-8782-4279-8d00-ffaccdc7601e",
   "metadata": {},
   "outputs": [],
   "source": []
  }
 ],
 "metadata": {
  "kernelspec": {
   "display_name": "platy-segmentation",
   "language": "python",
   "name": "platy-segmentation"
  },
  "language_info": {
   "codemirror_mode": {
    "name": "ipython",
    "version": 3
   },
   "file_extension": ".py",
   "mimetype": "text/x-python",
   "name": "python",
   "nbconvert_exporter": "python",
   "pygments_lexer": "ipython3",
   "version": "3.9.6"
  }
 },
 "nbformat": 4,
 "nbformat_minor": 5
}
