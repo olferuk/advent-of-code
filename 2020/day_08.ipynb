{
 "cells": [
  {
   "cell_type": "code",
   "execution_count": 1,
   "id": "ebe33e76-b7ad-4fa1-93e9-cd94ed16e7bc",
   "metadata": {
    "tags": []
   },
   "outputs": [],
   "source": [
    "%load_ext lab_black\n",
    "%load_ext autoreload\n",
    "%autoreload 2"
   ]
  },
  {
   "cell_type": "code",
   "execution_count": 21,
   "id": "0fabe0f9-03d4-464d-baca-9decffda4524",
   "metadata": {},
   "outputs": [],
   "source": [
    "from puzzles import load_lines"
   ]
  },
  {
   "cell_type": "code",
   "execution_count": 24,
   "id": "47f0d257-1bff-4f43-8500-9130d82a4fc7",
   "metadata": {},
   "outputs": [
    {
     "name": "stdout",
     "output_type": "stream",
     "text": [
      "1543\n"
     ]
    }
   ],
   "source": [
    "changes = [i for i, x in enumerate(data) if x.startswith(\"nop\") or x.startswith(\"jmp\")]\n",
    "\n",
    "for change in changes:\n",
    "\n",
    "    data = load_lines(8)\n",
    "    cmd, n = data[change].split()\n",
    "    data[change] = f\"{'jmp' if cmd == 'nop' else 'nop'} {n}\"\n",
    "\n",
    "    processed = set([])\n",
    "    p = 0\n",
    "    acc = 0\n",
    "    success = False\n",
    "\n",
    "    while True:\n",
    "        cmd = data[p]\n",
    "\n",
    "        if p in processed:\n",
    "            break\n",
    "\n",
    "        processed.add(p)\n",
    "\n",
    "        if cmd.startswith(\"acc\"):\n",
    "            acc += int(cmd.split()[-1])\n",
    "            p += 1\n",
    "        elif cmd.startswith(\"nop\"):\n",
    "            p += 1\n",
    "        elif cmd.startswith(\"jmp\"):\n",
    "            p += int(cmd.split()[-1])\n",
    "\n",
    "        if p == len(data):\n",
    "            success = True\n",
    "            break\n",
    "\n",
    "    if success:\n",
    "        print(acc)\n",
    "        break"
   ]
  },
  {
   "cell_type": "code",
   "execution_count": null,
   "id": "fca84eed-a59c-4e77-9bf2-dad82e5c6c7d",
   "metadata": {},
   "outputs": [],
   "source": []
  }
 ],
 "metadata": {
  "kernelspec": {
   "display_name": "Python (DE)",
   "language": "python",
   "name": "python3"
  },
  "language_info": {
   "codemirror_mode": {
    "name": "ipython",
    "version": 3
   },
   "file_extension": ".py",
   "mimetype": "text/x-python",
   "name": "python",
   "nbconvert_exporter": "python",
   "pygments_lexer": "ipython3",
   "version": "3.7.12"
  }
 },
 "nbformat": 4,
 "nbformat_minor": 5
}
