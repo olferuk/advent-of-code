{
 "cells": [
  {
   "cell_type": "code",
   "execution_count": 1,
   "id": "a4110889-c31a-493f-9122-87aed4493869",
   "metadata": {},
   "outputs": [],
   "source": [
    "%load_ext lab_black\n",
    "\n",
    "from puzzles import load_lines"
   ]
  },
  {
   "cell_type": "code",
   "execution_count": 26,
   "id": "6f62bdcb-8f27-4395-922d-4357b5fd72cd",
   "metadata": {},
   "outputs": [],
   "source": [
    "import numpy as np"
   ]
  },
  {
   "cell_type": "code",
   "execution_count": 34,
   "id": "58b5b892-f8f8-4237-a1f4-39b79c5b000b",
   "metadata": {},
   "outputs": [],
   "source": [
    "split_upper = lambda l, u: (int(np.ceil((l + u) / 2)), u)\n",
    "split_lower = lambda l, u: (l, int(np.floor((l + u) / 2)))"
   ]
  },
  {
   "cell_type": "code",
   "execution_count": 40,
   "id": "7f498167-bd1b-4956-bd0e-ff21092fc800",
   "metadata": {},
   "outputs": [
    {
     "data": {
      "text/plain": [
       "928"
      ]
     },
     "execution_count": 40,
     "metadata": {},
     "output_type": "execute_result"
    }
   ],
   "source": [
    "ss = []\n",
    "data = []\n",
    "\n",
    "for cmd in load_lines(5):\n",
    "    rowi, coli = cmd[:7], cmd[7:]\n",
    "\n",
    "    rng = (0, 127)\n",
    "    for c in rowi:\n",
    "        func = split_lower if c == \"F\" else split_upper\n",
    "        rng = func(*rng)\n",
    "    row = rng[0]\n",
    "\n",
    "    rng = (0, 7)\n",
    "    for c in coli:\n",
    "        func = split_lower if c == \"L\" else split_upper\n",
    "        rng = func(*rng)\n",
    "    col = rng[0]\n",
    "\n",
    "    data.append([row, col])\n",
    "    ss.append(row * 8 + col)\n",
    "\n",
    "np.max(ss)"
   ]
  },
  {
   "cell_type": "code",
   "execution_count": 41,
   "id": "6cbf2281-771d-4797-b9b3-168407a13ac1",
   "metadata": {},
   "outputs": [],
   "source": [
    "data = np.array(data)"
   ]
  },
  {
   "cell_type": "code",
   "execution_count": 43,
   "id": "ecf52a8f-80e5-4db7-9c66-77dce6776048",
   "metadata": {},
   "outputs": [],
   "source": [
    "import matplotlib.pyplot as plt"
   ]
  },
  {
   "cell_type": "code",
   "execution_count": 50,
   "id": "44f45a4b-f4d5-4e23-93b9-7f4b22162d50",
   "metadata": {},
   "outputs": [
    {
     "data": {
      "text/plain": [
       "(75.0, 77.0)"
      ]
     },
     "execution_count": 50,
     "metadata": {},
     "output_type": "execute_result"
    },
    {
     "data": {
      "image/png": "[encoded data removed]",
      "text/plain": [
       "<Figure size 864x288 with 1 Axes>"
      ]
     },
     "metadata": {
      "needs_background": "light"
     },
     "output_type": "display_data"
    }
   ],
   "source": [
    "plt.figure(figsize=(12, 4))\n",
    "plt.scatter(data[:, 0], data[:, 1])\n",
    "plt.xlim([75, 77])"
   ]
  },
  {
   "cell_type": "code",
   "execution_count": 49,
   "id": "d28e72a2-b2f6-4715-b39b-fc64759a8c02",
   "metadata": {},
   "outputs": [
    {
     "data": {
      "text/plain": [
       "610"
      ]
     },
     "execution_count": 49,
     "metadata": {},
     "output_type": "execute_result"
    }
   ],
   "source": [
    "76 * 8 + 2"
   ]
  },
  {
   "cell_type": "code",
   "execution_count": null,
   "id": "540ee3e3-ea05-467c-a579-6c708ab0fe54",
   "metadata": {},
   "outputs": [],
   "source": []
  }
 ],
 "metadata": {
  "kernelspec": {
   "display_name": "platy-segmentation",
   "language": "python",
   "name": "platy-segmentation"
  },
  "language_info": {
   "codemirror_mode": {
    "name": "ipython",
    "version": 3
   },
   "file_extension": ".py",
   "mimetype": "text/x-python",
   "name": "python",
   "nbconvert_exporter": "python",
   "pygments_lexer": "ipython3",
   "version": "3.9.6"
  }
 },
 "nbformat": 4,
 "nbformat_minor": 5
}
