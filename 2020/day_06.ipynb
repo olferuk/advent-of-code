{
 "cells": [
  {
   "cell_type": "code",
   "execution_count": 1,
   "id": "42c5169e-7d12-40e3-a0e9-c02159123892",
   "metadata": {},
   "outputs": [],
   "source": [
    "%load_ext lab_black\n",
    "\n",
    "from puzzles import load_lines"
   ]
  },
  {
   "cell_type": "code",
   "execution_count": 7,
   "id": "1e8a7bbc-1e1d-47ab-a7a6-eef924876cc9",
   "metadata": {},
   "outputs": [
    {
     "data": {
      "text/plain": [
       "6799"
      ]
     },
     "execution_count": 7,
     "metadata": {},
     "output_type": "execute_result"
    }
   ],
   "source": [
    "N = 0\n",
    "groups = set()\n",
    "\n",
    "for line in load_lines(6):\n",
    "    if line == \"\":\n",
    "        N += len(groups)\n",
    "        groups = set()\n",
    "    else:\n",
    "        groups = groups.union(set(line))\n",
    "N += len(groups)\n",
    "\n",
    "N"
   ]
  },
  {
   "cell_type": "code",
   "execution_count": 8,
   "id": "ca25c852-89b7-4ba5-a31b-7a7fc5b3f219",
   "metadata": {},
   "outputs": [],
   "source": [
    "from collections import Counter"
   ]
  },
  {
   "cell_type": "code",
   "execution_count": 10,
   "id": "feeb3e73-8c21-4b1e-8b49-813994c1b38b",
   "metadata": {},
   "outputs": [
    {
     "data": {
      "text/plain": [
       "3354"
      ]
     },
     "execution_count": 10,
     "metadata": {},
     "output_type": "execute_result"
    }
   ],
   "source": [
    "N = 0\n",
    "\n",
    "groups = \"\"\n",
    "group_size = 0\n",
    "\n",
    "for line in load_lines(6):\n",
    "    if line == \"\":\n",
    "        N += sum([x == group_size for x in Counter(groups).values()])\n",
    "        groups = \"\"\n",
    "        group_size = 0\n",
    "    else:\n",
    "        groups += line\n",
    "        group_size += 1\n",
    "\n",
    "N += sum([x == group_size for x in Counter(groups).values()])\n",
    "\n",
    "N"
   ]
  },
  {
   "cell_type": "code",
   "execution_count": null,
   "id": "bd569f9a-f8c4-4b58-be84-2599179f054d",
   "metadata": {},
   "outputs": [],
   "source": []
  }
 ],
 "metadata": {
  "kernelspec": {
   "display_name": "platy-segmentation",
   "language": "python",
   "name": "platy-segmentation"
  },
  "language_info": {
   "codemirror_mode": {
    "name": "ipython",
    "version": 3
   },
   "file_extension": ".py",
   "mimetype": "text/x-python",
   "name": "python",
   "nbconvert_exporter": "python",
   "pygments_lexer": "ipython3",
   "version": "3.9.6"
  }
 },
 "nbformat": 4,
 "nbformat_minor": 5
}
