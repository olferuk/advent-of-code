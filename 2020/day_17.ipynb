{
 "cells": [
  {
   "cell_type": "code",
   "execution_count": 10,
   "id": "bb47694b-ed4d-4534-8846-8c278630d65d",
   "metadata": {},
   "outputs": [
    {
     "name": "stdout",
     "output_type": "stream",
     "text": [
      "The lab_black extension is already loaded. To reload it, use:\n",
      "  %reload_ext lab_black\n",
      "The autoreload extension is already loaded. To reload it, use:\n",
      "  %reload_ext autoreload\n"
     ]
    }
   ],
   "source": [
    "%load_ext lab_black\n",
    "%load_ext autoreload\n",
    "%autoreload 2"
   ]
  },
  {
   "cell_type": "code",
   "execution_count": 11,
   "id": "fa08c796-f9b4-46d0-a8de-1e2edaa7f0e3",
   "metadata": {},
   "outputs": [],
   "source": [
    "from puzzles import load_array\n",
    "\n",
    "import numpy as np\n",
    "import matplotlib.pyplot as plt"
   ]
  },
  {
   "cell_type": "code",
   "execution_count": 12,
   "id": "510131e4-0681-4f92-babd-c5d3c1ed168d",
   "metadata": {},
   "outputs": [],
   "source": [
    "A = np.array([list(x[0]) for x in load_array(17)])\n",
    "A[A == \".\"] = 0\n",
    "A[A == \"#\"] = 1\n",
    "A = A.astype(np.uint8)"
   ]
  },
  {
   "cell_type": "code",
   "execution_count": 24,
   "id": "29aa5c66-dca2-462e-a7e4-61d5b4e037f6",
   "metadata": {},
   "outputs": [],
   "source": [
    "def rule(K):\n",
    "    # If a cube is active and exactly 2 or 3 of its neighbors are also active,\n",
    "    #    the cube remains active. Otherwise, the cube becomes inactive.\n",
    "    if K[1, 1, 1] == 1:\n",
    "        return int((K.sum() - 1) in (2, 3))\n",
    "\n",
    "    # If a cube is inactive but exactly 3 of its neighbors are active,\n",
    "    #    the cube becomes active. Otherwise, the cube remains inactive.\n",
    "    elif K[1, 1, 1] == 0:\n",
    "        return int(K.sum() == 3)"
   ]
  },
  {
   "cell_type": "code",
   "execution_count": 27,
   "id": "d53b5e37-87e2-4b21-88f1-4b6bc1ac4ade",
   "metadata": {},
   "outputs": [],
   "source": [
    "from tqdm import tqdm"
   ]
  },
  {
   "cell_type": "code",
   "execution_count": 28,
   "id": "81ce7a3a-d4f3-4ec7-b065-ebff55896dbf",
   "metadata": {},
   "outputs": [
    {
     "name": "stderr",
     "output_type": "stream",
     "text": [
      "100%|███████████████████████████████████████████| 99/99 [00:19<00:00,  4.98it/s]\n",
      "100%|███████████████████████████████████████████| 99/99 [00:16<00:00,  5.85it/s]\n",
      "100%|███████████████████████████████████████████| 99/99 [00:21<00:00,  4.52it/s]\n",
      "100%|███████████████████████████████████████████| 99/99 [00:21<00:00,  4.62it/s]\n",
      "100%|███████████████████████████████████████████| 99/99 [00:23<00:00,  4.19it/s]\n",
      "100%|███████████████████████████████████████████| 99/99 [00:20<00:00,  4.77it/s]\n"
     ]
    }
   ],
   "source": [
    "s = 100\n",
    "\n",
    "F = np.zeros([s, s, s], dtype=np.uint8)\n",
    "\n",
    "F[s // 2 : s // 2 + len(A), s // 2 : s // 2 + len(A[0]), s // 2] = A\n",
    "\n",
    "for _ in range(6):\n",
    "\n",
    "    F0 = np.zeros_like(F)\n",
    "    F = np.pad(F, 1)\n",
    "\n",
    "    for x in tqdm(range(1, s)):\n",
    "        for y in range(1, s):\n",
    "            for z in range(1, s):\n",
    "                kernel = F[x - 1 : x + 2, y - 1 : y + 2, z - 1 : z + 2]\n",
    "                F0[x, y, z] = rule(kernel)\n",
    "    F = F0"
   ]
  },
  {
   "cell_type": "code",
   "execution_count": 29,
   "id": "b111db45-a890-4927-b88d-8c8969cf5694",
   "metadata": {},
   "outputs": [
    {
     "data": {
      "text/plain": [
       "322"
      ]
     },
     "execution_count": 29,
     "metadata": {},
     "output_type": "execute_result"
    }
   ],
   "source": [
    "F.sum()"
   ]
  },
  {
   "cell_type": "markdown",
   "id": "83e79623-3d33-463c-8ea3-7bc677884a69",
   "metadata": {},
   "source": [
    "---"
   ]
  },
  {
   "cell_type": "code",
   "execution_count": 30,
   "id": "04b9490e-6963-4787-b733-2fa0d203b76a",
   "metadata": {},
   "outputs": [],
   "source": [
    "def rule(K):\n",
    "    # If a cube is active and exactly 2 or 3 of its neighbors are also active,\n",
    "    #    the cube remains active. Otherwise, the cube becomes inactive.\n",
    "    if K[1, 1, 1, 1] == 1:\n",
    "        return int((K.sum() - 1) in (2, 3))\n",
    "\n",
    "    # If a cube is inactive but exactly 3 of its neighbors are active,\n",
    "    #    the cube becomes active. Otherwise, the cube remains inactive.\n",
    "    elif K[1, 1, 1, 1] == 0:\n",
    "        return int(K.sum() == 3)"
   ]
  },
  {
   "cell_type": "code",
   "execution_count": 31,
   "id": "9a4585b4-9233-45ef-8514-802d7479f991",
   "metadata": {},
   "outputs": [
    {
     "name": "stderr",
     "output_type": "stream",
     "text": [
      "100%|███████████████████████████████████████████| 69/69 [07:41<00:00,  6.69s/it]\n",
      "100%|███████████████████████████████████████████| 69/69 [07:31<00:00,  6.54s/it]\n",
      "100%|███████████████████████████████████████████| 69/69 [07:13<00:00,  6.28s/it]\n",
      "100%|███████████████████████████████████████████| 69/69 [05:58<00:00,  5.19s/it]\n",
      "100%|███████████████████████████████████████████| 69/69 [06:53<00:00,  6.00s/it]\n",
      "100%|███████████████████████████████████████████| 69/69 [07:23<00:00,  6.43s/it]\n"
     ]
    }
   ],
   "source": [
    "s = 70\n",
    "\n",
    "F = np.zeros([s, s, s, s], dtype=np.uint8)\n",
    "\n",
    "F[s // 2 : s // 2 + len(A), s // 2 : s // 2 + len(A[0]), s // 2, s // 2] = A\n",
    "\n",
    "for _ in range(6):\n",
    "\n",
    "    F0 = np.zeros_like(F)\n",
    "    F = np.pad(F, 1)\n",
    "\n",
    "    for x in tqdm(range(1, s)):\n",
    "        for y in range(1, s):\n",
    "            for z in range(1, s):\n",
    "                for w in range(1, s):\n",
    "                    kernel = F[\n",
    "                        x - 1 : x + 2, y - 1 : y + 2, z - 1 : z + 2, w - 1 : w + 2\n",
    "                    ]\n",
    "                    F0[x, y, z, w] = rule(kernel)\n",
    "    F = F0"
   ]
  },
  {
   "cell_type": "code",
   "execution_count": 32,
   "id": "a325ec82-a458-4511-b072-52d6dc801e08",
   "metadata": {},
   "outputs": [
    {
     "data": {
      "text/plain": [
       "2000"
      ]
     },
     "execution_count": 32,
     "metadata": {},
     "output_type": "execute_result"
    }
   ],
   "source": [
    "F.sum()"
   ]
  },
  {
   "cell_type": "code",
   "execution_count": null,
   "id": "18c2211d-5c05-4f6b-9678-ef5cdf108844",
   "metadata": {},
   "outputs": [],
   "source": []
  }
 ],
 "metadata": {
  "kernelspec": {
   "display_name": "Python (DE)",
   "language": "python",
   "name": "python3"
  },
  "language_info": {
   "codemirror_mode": {
    "name": "ipython",
    "version": 3
   },
   "file_extension": ".py",
   "mimetype": "text/x-python",
   "name": "python",
   "nbconvert_exporter": "python",
   "pygments_lexer": "ipython3",
   "version": "3.7.12"
  }
 },
 "nbformat": 4,
 "nbformat_minor": 5
}
