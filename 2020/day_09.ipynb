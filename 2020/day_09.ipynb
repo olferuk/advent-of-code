{
 "cells": [
  {
   "cell_type": "code",
   "execution_count": 1,
   "id": "493faa49-e4e3-4d60-8222-f134eb435413",
   "metadata": {},
   "outputs": [],
   "source": [
    "%load_ext lab_black\n",
    "%load_ext autoreload\n",
    "%autoreload 2"
   ]
  },
  {
   "cell_type": "code",
   "execution_count": 2,
   "id": "b99d7b6b-dcc2-4196-b41a-a5678122aee7",
   "metadata": {},
   "outputs": [],
   "source": [
    "from puzzles import load_tokens"
   ]
  },
  {
   "cell_type": "code",
   "execution_count": 5,
   "id": "7d52aab8-847b-40b9-9733-a7c5853e2cc8",
   "metadata": {},
   "outputs": [],
   "source": [
    "numbers = [int(x) for x in load_tokens(9)]"
   ]
  },
  {
   "cell_type": "code",
   "execution_count": 12,
   "id": "dbf22736-45ac-4903-b7dc-9a4865a008ec",
   "metadata": {},
   "outputs": [
    {
     "name": "stdout",
     "output_type": "stream",
     "text": [
      "14144619\n"
     ]
    }
   ],
   "source": [
    "W = 25\n",
    "\n",
    "for i, x in enumerate(numbers):\n",
    "    if i < W:\n",
    "        continue\n",
    "    window = numbers[i - W : i]\n",
    "    target = numbers[i]\n",
    "    success = False\n",
    "    for t0 in range(len(window)):\n",
    "        for t1 in range(len(window)):\n",
    "            if t0 == t1:\n",
    "                continue\n",
    "            if window[t0] + window[t1] == target:\n",
    "                success = True\n",
    "    if not success:\n",
    "        print(target)\n",
    "        break"
   ]
  },
  {
   "cell_type": "code",
   "execution_count": 16,
   "id": "39ae3386-e099-45ed-9538-97574dcd7d80",
   "metadata": {},
   "outputs": [
    {
     "name": "stdout",
     "output_type": "stream",
     "text": [
      "1766397\n"
     ]
    }
   ],
   "source": [
    "W = 25\n",
    "TARGET = 14144619\n",
    "\n",
    "for i in range(len(numbers)):\n",
    "    for j in range(i, len(numbers)):\n",
    "        part = numbers[i:j]\n",
    "        s = sum(part)\n",
    "        if s == TARGET and len(part) > 1:\n",
    "            print(min(part) + max(part))\n",
    "            break\n",
    "        elif s > TARGET:\n",
    "            break"
   ]
  }
 ],
 "metadata": {
  "kernelspec": {
   "display_name": "Python (DE)",
   "language": "python",
   "name": "python3"
  },
  "language_info": {
   "codemirror_mode": {
    "name": "ipython",
    "version": 3
   },
   "file_extension": ".py",
   "mimetype": "text/x-python",
   "name": "python",
   "nbconvert_exporter": "python",
   "pygments_lexer": "ipython3",
   "version": "3.7.12"
  }
 },
 "nbformat": 4,
 "nbformat_minor": 5
}
