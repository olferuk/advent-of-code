{
 "cells": [
  {
   "cell_type": "code",
   "execution_count": 14,
   "id": "cbbd0886-12f9-4c4e-bbe1-6b049e12b5e7",
   "metadata": {},
   "outputs": [
    {
     "name": "stdout",
     "output_type": "stream",
     "text": [
      "The lab_black extension is already loaded. To reload it, use:\n",
      "  %reload_ext lab_black\n",
      "The autoreload extension is already loaded. To reload it, use:\n",
      "  %reload_ext autoreload\n"
     ]
    }
   ],
   "source": [
    "%load_ext lab_black\n",
    "%load_ext autoreload\n",
    "%autoreload 2"
   ]
  },
  {
   "cell_type": "code",
   "execution_count": 20,
   "id": "b6ade86f-dd13-4953-a99a-3d2b5841dfbf",
   "metadata": {},
   "outputs": [],
   "source": [
    "from puzzles import load_lines\n",
    "\n",
    "from collections import deque"
   ]
  },
  {
   "cell_type": "code",
   "execution_count": 16,
   "id": "b01c449b-556f-4523-a4a4-b11b71fa6d02",
   "metadata": {},
   "outputs": [],
   "source": [
    "data = load_lines(22)"
   ]
  },
  {
   "cell_type": "code",
   "execution_count": 50,
   "id": "045cab21-b92f-4641-ac24-34455e1297dc",
   "metadata": {},
   "outputs": [],
   "source": [
    "a = deque([int(card) for card in data[1 : data.index(\"\")]])\n",
    "b = deque([int(card) for card in data[data.index(\"\") + 2 :]])"
   ]
  },
  {
   "cell_type": "code",
   "execution_count": 51,
   "id": "7189e496-e684-4fb2-80f8-bd51c77144a4",
   "metadata": {},
   "outputs": [],
   "source": [
    "while len(a) > 0 and len(b) > 0:\n",
    "    ca, cb = a.popleft(), b.popleft()\n",
    "\n",
    "    if ca > cb:\n",
    "        a.append(ca)\n",
    "        a.append(cb)\n",
    "    else:\n",
    "        b.append(cb)\n",
    "        b.append(ca)"
   ]
  },
  {
   "cell_type": "code",
   "execution_count": 52,
   "id": "9900966d-64ee-4291-814d-8f446fd40263",
   "metadata": {},
   "outputs": [],
   "source": [
    "best = a if len(a) > len(b) else b"
   ]
  },
  {
   "cell_type": "code",
   "execution_count": 53,
   "id": "a7301059-7d62-4c71-99fc-30c6f636d4d3",
   "metadata": {},
   "outputs": [
    {
     "data": {
      "text/plain": [
       "34324"
      ]
     },
     "execution_count": 53,
     "metadata": {},
     "output_type": "execute_result"
    }
   ],
   "source": [
    "sum([best.popleft() * score_k for score_k in range(50, 0, -1)])"
   ]
  },
  {
   "cell_type": "markdown",
   "id": "f9b0f9c8-6365-4b6c-b1eb-bc22a1757c35",
   "metadata": {},
   "source": [
    "---"
   ]
  },
  {
   "cell_type": "code",
   "execution_count": null,
   "id": "783018a9-d188-44bd-b5d9-b7393e35e183",
   "metadata": {},
   "outputs": [],
   "source": []
  },
  {
   "cell_type": "code",
   "execution_count": null,
   "id": "493eb7ef-7e79-459f-b7f5-4241056f3165",
   "metadata": {},
   "outputs": [],
   "source": []
  }
 ],
 "metadata": {
  "kernelspec": {
   "display_name": "Python (DE)",
   "language": "python",
   "name": "python3"
  },
  "language_info": {
   "codemirror_mode": {
    "name": "ipython",
    "version": 3
   },
   "file_extension": ".py",
   "mimetype": "text/x-python",
   "name": "python",
   "nbconvert_exporter": "python",
   "pygments_lexer": "ipython3",
   "version": "3.7.12"
  }
 },
 "nbformat": 4,
 "nbformat_minor": 5
}
