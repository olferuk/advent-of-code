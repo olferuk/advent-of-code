{
 "cells": [
  {
   "cell_type": "code",
   "execution_count": 2,
   "id": "542a8916-eb00-4bac-8f1c-a102d96f6d60",
   "metadata": {},
   "outputs": [],
   "source": [
    "%load_ext lab_black"
   ]
  },
  {
   "cell_type": "code",
   "execution_count": 3,
   "id": "68bd9405-b378-4b50-bd1b-cb639b0aa2e4",
   "metadata": {},
   "outputs": [],
   "source": [
    "from puzzles import load"
   ]
  },
  {
   "cell_type": "code",
   "execution_count": 4,
   "id": "af8fc3b8-fb8d-4288-8b0c-fce5e484e5cc",
   "metadata": {},
   "outputs": [],
   "source": [
    "ls = load(2).strip().split(\"\\n\")"
   ]
  },
  {
   "cell_type": "code",
   "execution_count": 5,
   "id": "3099cc07-3ad0-43bd-830f-ffafdad69bf0",
   "metadata": {},
   "outputs": [
    {
     "data": {
      "text/plain": [
       "643"
      ]
     },
     "execution_count": 5,
     "metadata": {},
     "output_type": "execute_result"
    }
   ],
   "source": [
    "n_valid = 0\n",
    "for line in ls:\n",
    "    rule, password = line.split(\": \")\n",
    "    ns, letter = rule.split()\n",
    "    mi, ma = [int(x) for x in ns.split(\"-\")]\n",
    "    k = sum([1 for c in password if c == letter])\n",
    "    if mi <= k <= ma:\n",
    "        n_valid += 1\n",
    "\n",
    "n_valid"
   ]
  },
  {
   "cell_type": "code",
   "execution_count": 6,
   "id": "1f89845d-483a-4f5c-9717-8d4575a7253b",
   "metadata": {},
   "outputs": [
    {
     "data": {
      "text/plain": [
       "388"
      ]
     },
     "execution_count": 6,
     "metadata": {},
     "output_type": "execute_result"
    }
   ],
   "source": [
    "n_valid = 0\n",
    "for line in ls:\n",
    "    rule, password = line.split(\": \")\n",
    "    ns, letter = rule.split()\n",
    "    mi, ma = [int(x) - 1 for x in ns.split(\"-\")]\n",
    "    if (password[mi] == letter or password[ma] == letter) and not (\n",
    "        password[mi] == letter and password[ma] == letter\n",
    "    ):\n",
    "        n_valid += 1\n",
    "\n",
    "n_valid"
   ]
  },
  {
   "cell_type": "code",
   "execution_count": null,
   "id": "3abe9150-b3e4-418c-8a4f-db17ce44b3e8",
   "metadata": {},
   "outputs": [],
   "source": []
  }
 ],
 "metadata": {
  "kernelspec": {
   "display_name": "platy-segmentation",
   "language": "python",
   "name": "platy-segmentation"
  },
  "language_info": {
   "codemirror_mode": {
    "name": "ipython",
    "version": 3
   },
   "file_extension": ".py",
   "mimetype": "text/x-python",
   "name": "python",
   "nbconvert_exporter": "python",
   "pygments_lexer": "ipython3",
   "version": "3.9.6"
  }
 },
 "nbformat": 4,
 "nbformat_minor": 5
}
