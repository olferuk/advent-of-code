{
 "cells": [
  {
   "cell_type": "code",
   "execution_count": 30,
   "id": "64fe9044-30fa-4bc5-b71a-125e27cf8eaf",
   "metadata": {},
   "outputs": [
    {
     "name": "stdout",
     "output_type": "stream",
     "text": [
      "The lab_black extension is already loaded. To reload it, use:\n",
      "  %reload_ext lab_black\n"
     ]
    }
   ],
   "source": [
    "%load_ext lab_black\n",
    "\n",
    "from puzzles import load_lines"
   ]
  },
  {
   "cell_type": "code",
   "execution_count": 31,
   "id": "2df8d8f1-72f8-4402-8dca-423c4026a769",
   "metadata": {},
   "outputs": [],
   "source": [
    "def parse_passport(passport):\n",
    "    return {p.split(\":\")[0]: p.split(\":\")[1] for p in \" \".join(passport).split()}"
   ]
  },
  {
   "cell_type": "code",
   "execution_count": 32,
   "id": "aa03c2c0-fcac-4d34-bcad-7dbe0eadd1ad",
   "metadata": {},
   "outputs": [],
   "source": [
    "fields_needed = {\n",
    "    \"byr\",\n",
    "    \"iyr\",\n",
    "    \"eyr\",\n",
    "    \"hgt\",\n",
    "    \"hcl\",\n",
    "    \"ecl\",\n",
    "    \"pid\",\n",
    "    \"cid\",\n",
    "}"
   ]
  },
  {
   "cell_type": "code",
   "execution_count": 35,
   "id": "51a67df7-0107-45b1-b218-3b613f3e50c9",
   "metadata": {},
   "outputs": [],
   "source": [
    "def check_passport(d, needed):\n",
    "    return len(needed - set(d.keys()) - {\"cid\"}) == 0"
   ]
  },
  {
   "cell_type": "code",
   "execution_count": 38,
   "id": "55881409-7b8e-44f6-b09a-efc836961bf8",
   "metadata": {},
   "outputs": [
    {
     "data": {
      "text/plain": [
       "204"
      ]
     },
     "execution_count": 38,
     "metadata": {},
     "output_type": "execute_result"
    }
   ],
   "source": [
    "passport = []\n",
    "N = 0\n",
    "for line in load_lines(4):\n",
    "    if line == \"\":\n",
    "        d = parse_passport(passport)\n",
    "        N += int(check_passport(d, fields_needed))\n",
    "        passport = []\n",
    "    else:\n",
    "        passport.append(line)\n",
    "\n",
    "if len(passport) > 0:\n",
    "    d = parse_passport(passport)\n",
    "    N += int(check_passport(d, fields_needed))\n",
    "\n",
    "N"
   ]
  },
  {
   "cell_type": "markdown",
   "id": "5790abbf-a3c7-4c52-b758-c3178bf90a98",
   "metadata": {},
   "source": [
    "---"
   ]
  },
  {
   "cell_type": "code",
   "execution_count": 47,
   "id": "91f0fe73-28a7-42a3-894b-37a73219d160",
   "metadata": {},
   "outputs": [],
   "source": [
    "def check_passport(d):\n",
    "    if not (\"byr\" in d and 1920 <= int(d[\"byr\"]) <= 2002):\n",
    "        return False\n",
    "    if not (\"iyr\" in d and 2010 <= int(d[\"iyr\"]) <= 2020):\n",
    "        return False\n",
    "    if not (\"eyr\" in d and 2020 <= int(d[\"eyr\"]) <= 2030):\n",
    "        return False\n",
    "    if not (\n",
    "        \"pid\" in d and len(d[\"pid\"]) == 9 and all([c in \"0123456789\" for c in d[\"pid\"]])\n",
    "    ):\n",
    "        return False\n",
    "    if not (\n",
    "        \"hcl\" in d\n",
    "        and d[\"hcl\"].startswith(\"#\")\n",
    "        and [c in \"0123456789abcdef\" for c in d[\"hcl\"][1:]]\n",
    "    ):\n",
    "        return False\n",
    "    if not (\n",
    "        \"ecl\" in d and d[\"ecl\"] in [\"amb\", \"blu\", \"brn\", \"gry\", \"grn\", \"hzl\", \"oth\"]\n",
    "    ):\n",
    "        return False\n",
    "    if not (\"hgt\" in d):\n",
    "        return False\n",
    "    if \"cm\" in d[\"hgt\"] or \"in\" in d[\"hgt\"]:\n",
    "        if \"cm\" in d[\"hgt\"]:\n",
    "            return 150 <= int(d[\"hgt\"].split(\"cm\")[0]) <= 193\n",
    "        if \"in\" in d[\"hgt\"]:\n",
    "            return 59 <= int(d[\"hgt\"].split(\"in\")[0]) <= 76\n",
    "    else:\n",
    "        return False\n",
    "    return True"
   ]
  },
  {
   "cell_type": "code",
   "execution_count": 48,
   "id": "f0223516-f409-4dc8-9ebd-6abf0f317592",
   "metadata": {},
   "outputs": [
    {
     "data": {
      "text/plain": [
       "179"
      ]
     },
     "execution_count": 48,
     "metadata": {},
     "output_type": "execute_result"
    }
   ],
   "source": [
    "passport = []\n",
    "N = 0\n",
    "for line in load_lines(4):\n",
    "    if line == \"\":\n",
    "        d = parse_passport(passport)\n",
    "        N += int(check_passport(d))\n",
    "        passport = []\n",
    "    else:\n",
    "        passport.append(line)\n",
    "\n",
    "if len(passport) > 0:\n",
    "    d = parse_passport(passport)\n",
    "    N += int(check_passport(d))\n",
    "\n",
    "N"
   ]
  }
 ],
 "metadata": {
  "kernelspec": {
   "display_name": "platy-segmentation",
   "language": "python",
   "name": "platy-segmentation"
  },
  "language_info": {
   "codemirror_mode": {
    "name": "ipython",
    "version": 3
   },
   "file_extension": ".py",
   "mimetype": "text/x-python",
   "name": "python",
   "nbconvert_exporter": "python",
   "pygments_lexer": "ipython3",
   "version": "3.9.6"
  }
 },
 "nbformat": 4,
 "nbformat_minor": 5
}
