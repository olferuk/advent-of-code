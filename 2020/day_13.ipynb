{
 "cells": [
  {
   "cell_type": "code",
   "execution_count": 1,
   "id": "8b9489e8-a509-4cbf-987d-6ffc4b70bddc",
   "metadata": {},
   "outputs": [],
   "source": [
    "%load_ext lab_black\n",
    "%load_ext autoreload\n",
    "%autoreload 2"
   ]
  },
  {
   "cell_type": "code",
   "execution_count": 2,
   "id": "4a8ca223-234b-400e-ae90-0fa87017cafb",
   "metadata": {},
   "outputs": [],
   "source": [
    "from puzzles import load_lines"
   ]
  },
  {
   "cell_type": "code",
   "execution_count": 16,
   "id": "5af1b4a2-52be-4bd3-85f9-f3b56ecabeac",
   "metadata": {},
   "outputs": [],
   "source": [
    "n, buses = load_lines(13)\n",
    "n = int(n)\n",
    "\n",
    "buses = [int(x) for x in buses.split(\",\") if x != \"x\"]"
   ]
  },
  {
   "cell_type": "code",
   "execution_count": 17,
   "id": "7db9e30d-0b30-4d5e-8854-64818a5334d7",
   "metadata": {},
   "outputs": [
    {
     "data": {
      "text/plain": [
       "4938"
      ]
     },
     "execution_count": 17,
     "metadata": {},
     "output_type": "execute_result"
    }
   ],
   "source": [
    "min_wait = int(1e9)\n",
    "\n",
    "for bus in buses:\n",
    "    m = n // bus\n",
    "    wait = (m + 1) * bus - n\n",
    "    if wait < min_wait:\n",
    "        min_wait = wait\n",
    "        best_bus = bus\n",
    "\n",
    "min_wait * best_bus"
   ]
  },
  {
   "cell_type": "markdown",
   "id": "ab5d7210-2cf6-4aed-9a84-248280097e26",
   "metadata": {},
   "source": [
    "---"
   ]
  },
  {
   "cell_type": "code",
   "execution_count": 80,
   "id": "a8d118eb-4c1b-456b-bc40-f9e2bf19ac45",
   "metadata": {},
   "outputs": [],
   "source": [
    "n, buses = load_lines(13)\n",
    "n = int(n)\n",
    "\n",
    "buses = [(int(x) if x != \"x\" else x) for x in buses.split(\",\")]\n",
    "buses_nums = [x for x in buses if x != \"x\"]"
   ]
  },
  {
   "cell_type": "code",
   "execution_count": 81,
   "id": "591ddb8a-d9e7-4cd0-bc26-8d3cb8456cd4",
   "metadata": {},
   "outputs": [],
   "source": [
    "time = 1\n",
    "spans = []\n",
    "for t in buses:\n",
    "    if isinstance(t, int):\n",
    "        spans.append(time)\n",
    "        time = 1\n",
    "    else:\n",
    "        time += 1\n",
    "spans = spans[1:]"
   ]
  },
  {
   "cell_type": "code",
   "execution_count": 85,
   "id": "26c38ba9-5e0f-4ed8-b122-b15860009cb7",
   "metadata": {},
   "outputs": [
    {
     "data": {
      "text/plain": [
       "[29, 41, 37, 653, 13, 17, 23, 823, 19]"
      ]
     },
     "execution_count": 85,
     "metadata": {},
     "output_type": "execute_result"
    }
   ],
   "source": [
    "buses_nums"
   ]
  },
  {
   "cell_type": "code",
   "execution_count": 86,
   "id": "16bd4f47-fd80-4194-bced-10fd7b97971f",
   "metadata": {},
   "outputs": [
    {
     "data": {
      "text/plain": [
       "[19, 4, 6, 13, 4, 6, 8, 19]"
      ]
     },
     "execution_count": 86,
     "metadata": {},
     "output_type": "execute_result"
    }
   ],
   "source": [
    "spans"
   ]
  },
  {
   "cell_type": "code",
   "execution_count": 87,
   "id": "8071186c-679c-4f88-97dc-034c2660aa0d",
   "metadata": {},
   "outputs": [],
   "source": [
    "bi = 7"
   ]
  },
  {
   "cell_type": "code",
   "execution_count": 95,
   "id": "1ef69934-ac64-429f-abf1-63e0ccac245d",
   "metadata": {},
   "outputs": [
    {
     "name": "stdout",
     "output_type": "stream",
     "text": [
      "0 19 0\n",
      "1 842 6\n",
      "2 1665 12\n",
      "3 2488 18\n",
      "4 3311 5\n",
      "5 4134 11\n",
      "6 4957 17\n",
      "7 5780 4\n",
      "8 6603 10\n",
      "9 7426 16\n",
      "10 8249 3\n",
      "11 9072 9\n",
      "12 9895 15\n",
      "13 10718 2\n",
      "14 11541 8\n",
      "15 12364 14\n",
      "16 13187 1\n",
      "17 14010 7\n",
      "18 14833 13\n",
      "19 15656 0\n",
      "20 16479 6\n",
      "21 17302 12\n",
      "22 18125 18\n",
      "23 18948 5\n",
      "24 19771 11\n",
      "25 20594 17\n",
      "26 21417 4\n",
      "27 22240 10\n",
      "28 23063 16\n",
      "29 23886 3\n",
      "30 24709 9\n",
      "31 25532 15\n",
      "32 26355 2\n",
      "33 27178 8\n",
      "34 28001 14\n",
      "35 28824 1\n",
      "36 29647 7\n",
      "37 30470 13\n",
      "38 31293 0\n",
      "39 32116 6\n",
      "40 32939 12\n",
      "41 33762 18\n",
      "42 34585 5\n",
      "43 35408 11\n",
      "44 36231 17\n",
      "45 37054 4\n",
      "46 37877 10\n",
      "47 38700 16\n",
      "48 39523 3\n",
      "49 40346 9\n",
      "50 41169 15\n",
      "51 41992 2\n",
      "52 42815 8\n",
      "53 43638 14\n",
      "54 44461 1\n",
      "55 45284 7\n",
      "56 46107 13\n",
      "57 46930 0\n",
      "58 47753 6\n",
      "59 48576 12\n",
      "60 49399 18\n",
      "61 50222 5\n",
      "62 51045 11\n",
      "63 51868 17\n",
      "64 52691 4\n",
      "65 53514 10\n",
      "66 54337 16\n",
      "67 55160 3\n",
      "68 55983 9\n",
      "69 56806 15\n",
      "70 57629 2\n",
      "71 58452 8\n",
      "72 59275 14\n",
      "73 60098 1\n",
      "74 60921 7\n",
      "75 61744 13\n",
      "76 62567 0\n",
      "77 63390 6\n",
      "78 64213 12\n",
      "79 65036 18\n",
      "80 65859 5\n",
      "81 66682 11\n",
      "82 67505 17\n",
      "83 68328 4\n",
      "84 69151 10\n",
      "85 69974 16\n",
      "86 70797 3\n",
      "87 71620 9\n",
      "88 72443 15\n",
      "89 73266 2\n",
      "90 74089 8\n",
      "91 74912 14\n",
      "92 75735 1\n",
      "93 76558 7\n",
      "94 77381 13\n",
      "95 78204 0\n",
      "96 79027 6\n",
      "97 79850 12\n",
      "98 80673 18\n",
      "99 81496 5\n"
     ]
    }
   ],
   "source": [
    "for i in range(100):\n",
    "    print(i, i * 823 + 19, (i * 823 + 19) % 19)"
   ]
  },
  {
   "cell_type": "code",
   "execution_count": null,
   "id": "4f8f60e8-bcfb-412d-afd9-d8ae6f46a0d9",
   "metadata": {},
   "outputs": [],
   "source": [
    "for i in range(100):\n",
    "    print(i, i * 823 - 18, (i * 823 - 18) % 13)"
   ]
  },
  {
   "cell_type": "code",
   "execution_count": 88,
   "id": "885df95e-b604-4cc7-83e0-a35d705371d7",
   "metadata": {},
   "outputs": [],
   "source": [
    "bs, sp, bi = buses_nums, spans, bi"
   ]
  },
  {
   "cell_type": "raw",
   "id": "4974ed8a-3d16-4e84-8f85-c15e55ca66a5",
   "metadata": {},
   "source": [
    "bs = [7, 13, 59, 31, 19]\n",
    "sp = [1, 3, 2, 1]\n",
    "bi = 2"
   ]
  },
  {
   "cell_type": "code",
   "execution_count": 91,
   "id": "1c287cba-187a-4fbf-9469-1b262bedc827",
   "metadata": {},
   "outputs": [],
   "source": [
    "from tqdm import tqdm"
   ]
  },
  {
   "cell_type": "code",
   "execution_count": 92,
   "id": "fb7f3497-ac90-48e3-94f5-0e0979c7753f",
   "metadata": {},
   "outputs": [
    {
     "name": "stderr",
     "output_type": "stream",
     "text": [
      " 92%|███████████████████▎ | 8255670479/9000000000 [4:12:32<22:46, 544830.95it/s]\n"
     ]
    },
    {
     "ename": "KeyboardInterrupt",
     "evalue": "",
     "output_type": "error",
     "traceback": [
      "\u001b[0;31m---------------------------------------------------------------------------\u001b[0m",
      "\u001b[0;31mKeyboardInterrupt\u001b[0m                         Traceback (most recent call last)",
      "\u001b[0;32m/var/folders/x4/t1fx1l8s0f97y033bl0gpgcr0000gn/T/ipykernel_26028/1678293860.py\u001b[0m in \u001b[0;36m<module>\u001b[0;34m\u001b[0m\n\u001b[1;32m      4\u001b[0m     \u001b[0mx_prev\u001b[0m \u001b[0;34m=\u001b[0m \u001b[0mx_bs\u001b[0m\u001b[0;34m\u001b[0m\u001b[0;34m\u001b[0m\u001b[0m\n\u001b[1;32m      5\u001b[0m     \u001b[0mfail_prev\u001b[0m \u001b[0;34m=\u001b[0m \u001b[0;32mFalse\u001b[0m\u001b[0;34m\u001b[0m\u001b[0;34m\u001b[0m\u001b[0m\n\u001b[0;32m----> 6\u001b[0;31m     \u001b[0;32mfor\u001b[0m \u001b[0mstep\u001b[0m\u001b[0;34m,\u001b[0m \u001b[0mnum\u001b[0m \u001b[0;32min\u001b[0m \u001b[0mzip\u001b[0m\u001b[0;34m(\u001b[0m\u001b[0msp\u001b[0m\u001b[0;34m[\u001b[0m\u001b[0;34m:\u001b[0m\u001b[0mbi\u001b[0m\u001b[0;34m]\u001b[0m\u001b[0;34m[\u001b[0m\u001b[0;34m:\u001b[0m\u001b[0;34m:\u001b[0m\u001b[0;34m-\u001b[0m\u001b[0;36m1\u001b[0m\u001b[0;34m]\u001b[0m\u001b[0;34m,\u001b[0m \u001b[0mbs\u001b[0m\u001b[0;34m[\u001b[0m\u001b[0;34m:\u001b[0m\u001b[0mbi\u001b[0m\u001b[0;34m]\u001b[0m\u001b[0;34m[\u001b[0m\u001b[0;34m:\u001b[0m\u001b[0;34m:\u001b[0m\u001b[0;34m-\u001b[0m\u001b[0;36m1\u001b[0m\u001b[0;34m]\u001b[0m\u001b[0;34m)\u001b[0m\u001b[0;34m:\u001b[0m\u001b[0;34m\u001b[0m\u001b[0;34m\u001b[0m\u001b[0m\n\u001b[0m\u001b[1;32m      7\u001b[0m         \u001b[0mx_prev\u001b[0m \u001b[0;34m-=\u001b[0m \u001b[0mstep\u001b[0m\u001b[0;34m\u001b[0m\u001b[0;34m\u001b[0m\u001b[0m\n\u001b[1;32m      8\u001b[0m         \u001b[0;32mif\u001b[0m \u001b[0mx_prev\u001b[0m \u001b[0;34m%\u001b[0m \u001b[0mnum\u001b[0m \u001b[0;34m!=\u001b[0m \u001b[0;36m0\u001b[0m\u001b[0;34m:\u001b[0m\u001b[0;34m\u001b[0m\u001b[0;34m\u001b[0m\u001b[0m\n",
      "\u001b[0;31mKeyboardInterrupt\u001b[0m: "
     ]
    }
   ],
   "source": [
    "for k in tqdm(range(int(1e9), int(1e10))):\n",
    "    x_bs = bs[bi] * k\n",
    "\n",
    "    x_prev = x_bs\n",
    "    fail_prev = False\n",
    "    for step, num in zip(sp[:bi][::-1], bs[:bi][::-1]):\n",
    "        x_prev -= step\n",
    "        if x_prev % num != 0:\n",
    "            fail_prev = True\n",
    "            break\n",
    "    if fail_prev:\n",
    "        continue\n",
    "    x_start = x_prev\n",
    "\n",
    "    x_next = x_bs\n",
    "    fail_next = False\n",
    "    for step, num in zip(sp[bi:], bs[bi + 1 :]):\n",
    "        x_next += step\n",
    "        if x_next % num != 0:\n",
    "            fail_next = True\n",
    "            break\n",
    "    if fail_next:\n",
    "        continue\n",
    "\n",
    "    print(x_start)\n",
    "    break"
   ]
  },
  {
   "cell_type": "code",
   "execution_count": null,
   "id": "30d362c6-f6e2-4227-b8c3-3e699bd00d7d",
   "metadata": {},
   "outputs": [],
   "source": []
  }
 ],
 "metadata": {
  "kernelspec": {
   "display_name": "Python (DE)",
   "language": "python",
   "name": "python3"
  },
  "language_info": {
   "codemirror_mode": {
    "name": "ipython",
    "version": 3
   },
   "file_extension": ".py",
   "mimetype": "text/x-python",
   "name": "python",
   "nbconvert_exporter": "python",
   "pygments_lexer": "ipython3",
   "version": "3.7.12"
  }
 },
 "nbformat": 4,
 "nbformat_minor": 5
}
