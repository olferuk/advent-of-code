{
 "cells": [
  {
   "cell_type": "code",
   "execution_count": 23,
   "id": "5a88e467-b1eb-435c-926a-553156b48bf4",
   "metadata": {},
   "outputs": [
    {
     "name": "stdout",
     "output_type": "stream",
     "text": [
      "The lab_black extension is already loaded. To reload it, use:\n",
      "  %reload_ext lab_black\n",
      "The autoreload extension is already loaded. To reload it, use:\n",
      "  %reload_ext autoreload\n"
     ]
    }
   ],
   "source": [
    "%load_ext lab_black\n",
    "%load_ext autoreload\n",
    "%autoreload 2"
   ]
  },
  {
   "cell_type": "code",
   "execution_count": 24,
   "id": "a6a0481f-8fdf-4283-bc28-d5be74d8c53b",
   "metadata": {},
   "outputs": [],
   "source": [
    "from collections import defaultdict"
   ]
  },
  {
   "cell_type": "code",
   "execution_count": 25,
   "id": "b2938eac-5f6c-4ecd-bcd1-179f8a809dae",
   "metadata": {},
   "outputs": [],
   "source": [
    "from tqdm import tqdm"
   ]
  },
  {
   "cell_type": "code",
   "execution_count": 31,
   "id": "95e16811-6d16-4b36-a5bd-8076bd9340ad",
   "metadata": {},
   "outputs": [],
   "source": [
    "def restricted_append(a, x):\n",
    "    if len(a) in (1, 2):\n",
    "        return (a[-1], x)\n",
    "    return (x,)"
   ]
  },
  {
   "cell_type": "code",
   "execution_count": 32,
   "id": "c3e8bade-3872-4520-8cb6-5c6d4e6e83e9",
   "metadata": {},
   "outputs": [
    {
     "name": "stderr",
     "output_type": "stream",
     "text": [
      "100%|███████████████████████████| 30000000/30000000 [01:00<00:00, 494492.90it/s]\n"
     ]
    },
    {
     "data": {
      "text/plain": [
       "112458"
      ]
     },
     "execution_count": 32,
     "metadata": {},
     "output_type": "execute_result"
    }
   ],
   "source": [
    "spoken = defaultdict(list)\n",
    "data = [0, 1, 5, 10, 3, 12, 19]\n",
    "\n",
    "for turn_n in tqdm(range(1, 30_000_001)):\n",
    "    if turn_n - 1 < len(data):\n",
    "        x = data[turn_n - 1]\n",
    "        spoken[x] = restricted_append(spoken[x], turn_n)\n",
    "        last = x\n",
    "    else:\n",
    "        if len(spoken[last]) == 1:\n",
    "            spoken[0] = restricted_append(spoken[0], turn_n)\n",
    "            last = 0\n",
    "        else:\n",
    "            a, b = spoken[last][-2:]\n",
    "            x = b - a\n",
    "            spoken[x] = restricted_append(spoken[x], turn_n)\n",
    "            last = x\n",
    "last"
   ]
  },
  {
   "cell_type": "code",
   "execution_count": null,
   "id": "a4ff8028-0810-49fc-a070-1d16e6ae4173",
   "metadata": {},
   "outputs": [],
   "source": []
  }
 ],
 "metadata": {
  "kernelspec": {
   "display_name": "Python (DE)",
   "language": "python",
   "name": "python3"
  },
  "language_info": {
   "codemirror_mode": {
    "name": "ipython",
    "version": 3
   },
   "file_extension": ".py",
   "mimetype": "text/x-python",
   "name": "python",
   "nbconvert_exporter": "python",
   "pygments_lexer": "ipython3",
   "version": "3.7.12"
  }
 },
 "nbformat": 4,
 "nbformat_minor": 5
}
