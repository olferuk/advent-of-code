{
 "cells": [
  {
   "cell_type": "code",
   "execution_count": 2,
   "id": "2b1d7b7f-d42e-41d0-83cc-a8815a763c74",
   "metadata": {},
   "outputs": [],
   "source": [
    "%load_ext lab_black"
   ]
  },
  {
   "cell_type": "code",
   "execution_count": 3,
   "id": "8f315499-6063-44f2-80ff-b894020a351d",
   "metadata": {},
   "outputs": [],
   "source": [
    "from pathlib import Path"
   ]
  },
  {
   "cell_type": "code",
   "execution_count": 24,
   "id": "aef8937c-5276-4a83-b64e-cec96ee72abf",
   "metadata": {},
   "outputs": [
    {
     "data": {
      "text/plain": [
       "['Game 1: 9 red, 5 blue, 6 green; 6 red, 13 blue; 2 blue, 7 green, 5 red',\n",
       " 'Game 2: 6 red, 2 green, 2 blue; 12 green, 11 red, 17 blue; 2 blue, 10 red, 11 green; 13 green, 17 red; 15 blue, 20 red, 3 green; 3 blue, 11 red, 1 green',\n",
       " 'Game 3: 20 green, 1 blue, 7 red; 20 green, 7 blue; 18 red, 8 green, 3 blue; 7 red, 6 blue, 11 green; 11 red, 6 blue, 16 green']"
      ]
     },
     "execution_count": 24,
     "metadata": {},
     "output_type": "execute_result"
    }
   ],
   "source": [
    "games = Path(\"data/02.txt\").read_text().strip().split(\"\\n\")\n",
    "\n",
    "games[:3]"
   ]
  },
  {
   "cell_type": "code",
   "execution_count": 25,
   "id": "e73dfff3-4c61-4ff2-be99-290dec5046b5",
   "metadata": {},
   "outputs": [],
   "source": [
    "LIMIT = (12, 13, 14)"
   ]
  },
  {
   "cell_type": "code",
   "execution_count": 26,
   "id": "176ab4de-11fe-4611-acd5-03741596d90b",
   "metadata": {},
   "outputs": [],
   "source": [
    "import re"
   ]
  },
  {
   "cell_type": "code",
   "execution_count": 27,
   "id": "0f617ed6-57b1-4daf-aa1f-89b02d9cf27e",
   "metadata": {},
   "outputs": [],
   "source": [
    "def find_max_of_color(s, color):\n",
    "    return max(map(int, re.findall(r\"(\\d+)\\s\" + color, s)))"
   ]
  },
  {
   "cell_type": "code",
   "execution_count": 28,
   "id": "4b075287-b0eb-4e83-a567-42d7ea0c8e0c",
   "metadata": {},
   "outputs": [
    {
     "data": {
      "text/plain": [
       "2278"
      ]
     },
     "execution_count": 28,
     "metadata": {},
     "output_type": "execute_result"
    }
   ],
   "source": [
    "TOTAL = 0\n",
    "for i, s in enumerate(games):\n",
    "    game_tuple = (\n",
    "        find_max_of_color(s, \"red\"),\n",
    "        find_max_of_color(s, \"green\"),\n",
    "        find_max_of_color(s, \"blue\"),\n",
    "    )\n",
    "    if all([x <= y for x, y in zip(game_tuple, LIMIT)]):\n",
    "        TOTAL += i + 1\n",
    "TOTAL"
   ]
  },
  {
   "cell_type": "code",
   "execution_count": 29,
   "id": "d856e022-06b8-4068-84d3-d10ddc9b7577",
   "metadata": {},
   "outputs": [
    {
     "data": {
      "text/plain": [
       "67953"
      ]
     },
     "execution_count": 29,
     "metadata": {},
     "output_type": "execute_result"
    }
   ],
   "source": [
    "TOTAL = 0\n",
    "for i, s in enumerate(games):\n",
    "    power = (\n",
    "        find_max_of_color(s, \"red\")\n",
    "        * find_max_of_color(s, \"green\")\n",
    "        * find_max_of_color(s, \"blue\")\n",
    "    )\n",
    "    TOTAL += power\n",
    "TOTAL"
   ]
  }
 ],
 "metadata": {
  "kernelspec": {
   "display_name": "Python 3 (ipykernel)",
   "language": "python",
   "name": "python3"
  },
  "language_info": {
   "codemirror_mode": {
    "name": "ipython",
    "version": 3
   },
   "file_extension": ".py",
   "mimetype": "text/x-python",
   "name": "python",
   "nbconvert_exporter": "python",
   "pygments_lexer": "ipython3",
   "version": "3.10.9"
  }
 },
 "nbformat": 4,
 "nbformat_minor": 5
}
