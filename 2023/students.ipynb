{
 "cells": [
  {
   "cell_type": "code",
   "execution_count": 3,
   "id": "bce86fc7-a4bc-4137-85db-dbde350b5b60",
   "metadata": {},
   "outputs": [],
   "source": [
    "%load_ext lab_black"
   ]
  },
  {
   "cell_type": "code",
   "execution_count": 4,
   "id": "c3abb18c-9055-4494-847e-b41c4a7e3455",
   "metadata": {},
   "outputs": [],
   "source": [
    "from pathlib import Path"
   ]
  },
  {
   "cell_type": "code",
   "execution_count": 6,
   "id": "42673aa7-525d-4b72-a44b-807bc3bf428c",
   "metadata": {},
   "outputs": [],
   "source": [
    "lines = Path(\"data/01.txt\").read_text().strip().split(\"\\n\")"
   ]
  },
  {
   "cell_type": "code",
   "execution_count": 13,
   "id": "7d9c874a-8623-4a45-b886-a2b7bb4dc157",
   "metadata": {},
   "outputs": [],
   "source": [
    "import re"
   ]
  },
  {
   "cell_type": "code",
   "execution_count": 7,
   "id": "a536cab7-f823-450c-8292-4a66d53ddcdb",
   "metadata": {},
   "outputs": [
    {
     "data": {
      "text/plain": [
       "56506"
      ]
     },
     "execution_count": 7,
     "metadata": {},
     "output_type": "execute_result"
    }
   ],
   "source": [
    "def find_number(line):\n",
    "    for i in range(len(line)):\n",
    "        if line[i].isdigit():\n",
    "            return line[i]\n",
    "\n",
    "\n",
    "TOTAL = 0\n",
    "for line in lines:\n",
    "    S = \"\"\n",
    "    S += find_number(line)\n",
    "    S += find_number(line[::-1])\n",
    "    TOTAL += int(S)\n",
    "TOTAL"
   ]
  },
  {
   "cell_type": "code",
   "execution_count": 19,
   "id": "d78f39a7-6f0b-412a-9dfe-7b40458e7735",
   "metadata": {},
   "outputs": [
    {
     "data": {
      "text/plain": [
       "False"
      ]
     },
     "execution_count": 19,
     "metadata": {},
     "output_type": "execute_result"
    }
   ],
   "source": [
    "line.startswith(\"1\")"
   ]
  },
  {
   "cell_type": "code",
   "execution_count": 20,
   "id": "83670cc9-0709-4ed6-94e4-5db4fb99839c",
   "metadata": {},
   "outputs": [
    {
     "data": {
      "text/plain": [
       "False"
      ]
     },
     "execution_count": 20,
     "metadata": {},
     "output_type": "execute_result"
    }
   ],
   "source": [
    "line.endswith(\"1\")"
   ]
  },
  {
   "cell_type": "code",
   "execution_count": 29,
   "id": "77010e8d-45d8-429a-aae0-f3fe7aa86f50",
   "metadata": {},
   "outputs": [
    {
     "data": {
      "text/plain": [
       "56017"
      ]
     },
     "execution_count": 29,
     "metadata": {},
     "output_type": "execute_result"
    }
   ],
   "source": [
    "def find_number(line, reversed: bool):\n",
    "    d = [\"one\", \"two\", \"three\", \"four\", \"five\", \"six\", \"seven\", \"eight\", \"nine\"]\n",
    "    if reversed:\n",
    "        d = [x[::-1] for x in d]\n",
    "        line = line[::-1]\n",
    "\n",
    "    for i in range(len(line)):\n",
    "        if line[i].isdigit():\n",
    "            return line[i]\n",
    "        for w in [x for x in d if x.startswith(line[i])]:\n",
    "            if line[i : i + len(w)] == w:\n",
    "                return str(d.index(w) + 1)\n",
    "\n",
    "\n",
    "TOTAL = 0\n",
    "for line in lines:\n",
    "    S = \"\"\n",
    "    S += find_number(line, reversed=False)\n",
    "    S += find_number(line, reversed=True)\n",
    "    TOTAL += int(S)\n",
    "TOTAL"
   ]
  },
  {
   "cell_type": "markdown",
   "id": "486725a7-23fe-4244-96c4-8be05e9a8c9d",
   "metadata": {},
   "source": [
    "----"
   ]
  },
  {
   "cell_type": "code",
   "execution_count": 30,
   "id": "211b4413-5b0b-4324-965c-d61a276fbd37",
   "metadata": {},
   "outputs": [],
   "source": [
    "import re"
   ]
  },
  {
   "cell_type": "code",
   "execution_count": 34,
   "id": "cfea8c0a-8a23-40b4-9202-68a5c69215ba",
   "metadata": {},
   "outputs": [],
   "source": [
    "games = Path(\"data/02.txt\").read_text().strip().split(\"\\n\")"
   ]
  },
  {
   "cell_type": "code",
   "execution_count": null,
   "id": "365456f2-a54e-4c1a-8ea8-8976bc15552a",
   "metadata": {},
   "outputs": [],
   "source": [
    "# for game in games:\n",
    "#     re."
   ]
  },
  {
   "cell_type": "code",
   "execution_count": 35,
   "id": "17f896b0-edb9-4fd3-b1c2-431743aab976",
   "metadata": {},
   "outputs": [],
   "source": [
    "line = games[0]"
   ]
  },
  {
   "cell_type": "code",
   "execution_count": 36,
   "id": "179d198c-d3d4-42b8-8f98-490745ee5872",
   "metadata": {},
   "outputs": [
    {
     "data": {
      "text/plain": [
       "'Game 1: 9 red, 5 blue, 6 green; 6 red, 13 blue; 2 blue, 7 green, 5 red'"
      ]
     },
     "execution_count": 36,
     "metadata": {},
     "output_type": "execute_result"
    }
   ],
   "source": [
    "line"
   ]
  },
  {
   "cell_type": "code",
   "execution_count": 42,
   "id": "86d6d01d-34c7-4cb9-a3f5-fa8d044204a1",
   "metadata": {},
   "outputs": [],
   "source": [
    "LIMIT = (12, 13, 14)"
   ]
  },
  {
   "cell_type": "code",
   "execution_count": 46,
   "id": "aefada56-8c71-4649-9f5e-854d58bd9607",
   "metadata": {},
   "outputs": [
    {
     "data": {
      "text/plain": [
       "True"
      ]
     },
     "execution_count": 46,
     "metadata": {},
     "output_type": "execute_result"
    }
   ],
   "source": [
    "game_tuple = (11, 12, 50)\n",
    "\n",
    "game_tuple <= LIMIT"
   ]
  },
  {
   "cell_type": "code",
   "execution_count": 47,
   "id": "70b425fd-feb5-4548-b658-d0b83431230f",
   "metadata": {},
   "outputs": [],
   "source": [
    "def get_max_of_color(s, color):\n",
    "    return max([int(x) for x in re.findall(r\"(\\d+)\\s\" + color, s)])"
   ]
  },
  {
   "cell_type": "code",
   "execution_count": 48,
   "id": "8c41089a-45dd-4627-90b1-6bf06f3c82d3",
   "metadata": {},
   "outputs": [
    {
     "data": {
      "text/plain": [
       "2278"
      ]
     },
     "execution_count": 48,
     "metadata": {},
     "output_type": "execute_result"
    }
   ],
   "source": [
    "TOTAL = 0\n",
    "for i, game in enumerate(games):\n",
    "    red = get_max_of_color(game, \"red\")\n",
    "    green = get_max_of_color(game, \"green\")\n",
    "    blue = get_max_of_color(game, \"blue\")\n",
    "    if red <= LIMIT[0] and green <= LIMIT[1] and blue <= LIMIT[2]:\n",
    "        TOTAL += i + 1\n",
    "TOTAL"
   ]
  },
  {
   "cell_type": "code",
   "execution_count": 49,
   "id": "bfc0ffc7-35fc-4b64-b86a-49d51bb736f0",
   "metadata": {},
   "outputs": [
    {
     "data": {
      "text/plain": [
       "67953"
      ]
     },
     "execution_count": 49,
     "metadata": {},
     "output_type": "execute_result"
    }
   ],
   "source": [
    "TOTAL = 0\n",
    "for i, game in enumerate(games):\n",
    "    red = get_max_of_color(game, \"red\")\n",
    "    green = get_max_of_color(game, \"green\")\n",
    "    blue = get_max_of_color(game, \"blue\")\n",
    "    TOTAL += red * green * blue\n",
    "TOTAL"
   ]
  },
  {
   "cell_type": "markdown",
   "id": "3fe0329c-568f-4e84-8eb4-4214e5fd69d3",
   "metadata": {},
   "source": [
    "---"
   ]
  },
  {
   "cell_type": "code",
   "execution_count": 85,
   "id": "8c506d38-19cb-4229-b820-1e57ffa504fe",
   "metadata": {},
   "outputs": [],
   "source": [
    "A = Path(\"data/03.txt\").read_text().strip().split(\"\\n\")"
   ]
  },
  {
   "cell_type": "code",
   "execution_count": 87,
   "id": "c4c2f37b-d31e-4150-a6cf-12d347ea110e",
   "metadata": {},
   "outputs": [
    {
     "data": {
      "text/plain": [
       "517021"
      ]
     },
     "execution_count": 87,
     "metadata": {},
     "output_type": "execute_result"
    }
   ],
   "source": [
    "def is_detail_around(A, x0, y0, w):\n",
    "    # first line\n",
    "    if y0 >= 0:\n",
    "        for dx in range(w):\n",
    "            x = x0 + dx\n",
    "            if x < 0 or x >= len(A[0]):\n",
    "                continue\n",
    "            if A[y0][x] != \".\":\n",
    "                return True\n",
    "\n",
    "    # middle, two edge symbols\n",
    "    if 0 <= x0 < len(A[0]):\n",
    "        if A[y0 + 1][x0] != \".\":\n",
    "            return True\n",
    "\n",
    "    if 0 <= x0 + w - 1 < len(A[0]):\n",
    "        if A[y0 + 1][x0 + w - 1] != \".\":\n",
    "            return True\n",
    "\n",
    "    # last line\n",
    "    if y0 + 2 < len(A):\n",
    "        for dx in range(w):\n",
    "            x = x0 + dx\n",
    "            if x < 0 or x >= len(A[0]):\n",
    "                continue\n",
    "            if A[y0 + 2][x] != \".\":\n",
    "                return True\n",
    "\n",
    "    return False\n",
    "\n",
    "\n",
    "total = 0\n",
    "row = col = 0\n",
    "\n",
    "while row < len(A):\n",
    "    col = 0\n",
    "    while col < len(A[0]):\n",
    "        # try to read a number\n",
    "        number = \"\"\n",
    "        while A[row][col].isdigit():\n",
    "            number += A[row][col]\n",
    "            col += 1\n",
    "            if col == len(A[0]):\n",
    "                break\n",
    "\n",
    "        if len(number) > 0 and is_detail_around(\n",
    "            A, x0=col - len(number) - 1, y0=row - 1, w=len(number) + 2\n",
    "        ):\n",
    "            total += int(number)\n",
    "\n",
    "        col += 1\n",
    "    row += 1\n",
    "total"
   ]
  },
  {
   "cell_type": "code",
   "execution_count": 119,
   "id": "f52a72db-394a-48e4-920e-cc2d85d101ac",
   "metadata": {},
   "outputs": [],
   "source": [
    "from collections import defaultdict"
   ]
  },
  {
   "cell_type": "code",
   "execution_count": 122,
   "id": "c718995f-411c-4d4e-b4f9-3bccd6d7a6c0",
   "metadata": {},
   "outputs": [
    {
     "data": {
      "text/plain": [
       "81296995"
      ]
     },
     "execution_count": 122,
     "metadata": {},
     "output_type": "execute_result"
    }
   ],
   "source": [
    "def get_gear_around(A, x0, y0, w):\n",
    "    # first line\n",
    "    if y0 >= 0:\n",
    "        for dx in range(w):\n",
    "            x = x0 + dx\n",
    "            if x < 0 or x >= len(A[0]):\n",
    "                continue\n",
    "            if A[y0][x] == \"*\":\n",
    "                return (y0, x)\n",
    "\n",
    "    # middle, two edge symbols\n",
    "    if 0 <= x0 < len(A[0]):\n",
    "        if A[y0 + 1][x0] == \"*\":\n",
    "            return (y0 + 1, x0)\n",
    "\n",
    "    if 0 <= x0 + w - 1 < len(A[0]):\n",
    "        if A[y0 + 1][x0 + w - 1] == \"*\":\n",
    "            return (y0 + 1, x0 + w - 1)\n",
    "\n",
    "    # last line\n",
    "    if y0 + 2 < len(A):\n",
    "        for dx in range(w):\n",
    "            x = x0 + dx\n",
    "            if x < 0 or x >= len(A[0]):\n",
    "                continue\n",
    "            if A[y0 + 2][x] == \"*\":\n",
    "                return (y0 + 2, x)\n",
    "\n",
    "\n",
    "row = col = 0\n",
    "result = defaultdict(list)\n",
    "\n",
    "while row < len(A):\n",
    "    col = 0\n",
    "    while col < len(A[0]):\n",
    "        number = \"\"\n",
    "        while A[row][col].isdigit():\n",
    "            number += A[row][col]\n",
    "            col += 1\n",
    "            if col == len(A[0]):\n",
    "                break\n",
    "\n",
    "        if len(number) > 0:\n",
    "            k = get_gear_around(\n",
    "                A, x0=col - len(number) - 1, y0=row - 1, w=len(number) + 2\n",
    "            )\n",
    "            if k is not None:\n",
    "                result[k].append(int(number))\n",
    "\n",
    "        col += 1\n",
    "    row += 1\n",
    "\n",
    "total = sum([v[0] * v[1] for v in result.values() if len(v) == 2])\n",
    "total"
   ]
  }
 ],
 "metadata": {
  "kernelspec": {
   "display_name": "Python 3 (ipykernel)",
   "language": "python",
   "name": "python3"
  },
  "language_info": {
   "codemirror_mode": {
    "name": "ipython",
    "version": 3
   },
   "file_extension": ".py",
   "mimetype": "text/x-python",
   "name": "python",
   "nbconvert_exporter": "python",
   "pygments_lexer": "ipython3",
   "version": "3.10.9"
  }
 },
 "nbformat": 4,
 "nbformat_minor": 5
}
