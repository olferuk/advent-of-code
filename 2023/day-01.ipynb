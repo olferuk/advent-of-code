{
 "cells": [
  {
   "cell_type": "code",
   "execution_count": 19,
   "id": "5e466982-d7c4-4bfd-8a48-a38461936988",
   "metadata": {},
   "outputs": [
    {
     "name": "stdout",
     "output_type": "stream",
     "text": [
      "The lab_black extension is already loaded. To reload it, use:\n",
      "  %reload_ext lab_black\n"
     ]
    }
   ],
   "source": [
    "%load_ext lab_black"
   ]
  },
  {
   "cell_type": "code",
   "execution_count": 21,
   "id": "189f45b3-78aa-4229-b41f-5e2bd19da9d1",
   "metadata": {},
   "outputs": [],
   "source": [
    "from puzzles import load_lines\n",
    "from pathlib import Path"
   ]
  },
  {
   "cell_type": "code",
   "execution_count": 20,
   "id": "98713ec4-3ec8-4494-bc5a-94931d003aca",
   "metadata": {},
   "outputs": [],
   "source": [
    "lines = Path(\"data/01.txt\").read_text().split(\"\\n\")"
   ]
  },
  {
   "cell_type": "code",
   "execution_count": 22,
   "id": "bf846779-fb9d-4640-9d22-b81673a22ba5",
   "metadata": {},
   "outputs": [
    {
     "data": {
      "text/plain": [
       "56506"
      ]
     },
     "execution_count": 22,
     "metadata": {},
     "output_type": "execute_result"
    }
   ],
   "source": [
    "def get_digit(word):\n",
    "    for c in word:\n",
    "        if c.isdigit():\n",
    "            return c\n",
    "\n",
    "\n",
    "TOTAL = 0\n",
    "for word in lines:\n",
    "    s = \"\"\n",
    "    s += get_digit(word)\n",
    "    s += get_digit(word[::-1])\n",
    "    TOTAL += int(s)\n",
    "\n",
    "TOTAL"
   ]
  },
  {
   "cell_type": "code",
   "execution_count": 29,
   "id": "c3b4b1ba-7dce-4437-8bb0-33727d6686de",
   "metadata": {},
   "outputs": [
    {
     "data": {
      "text/plain": [
       "56017"
      ]
     },
     "execution_count": 29,
     "metadata": {},
     "output_type": "execute_result"
    }
   ],
   "source": [
    "def get_digit(word: str, cancel_early: bool):\n",
    "    d = [\"zero\", \"one\", \"two\", \"three\", \"four\", \"five\", \"six\", \"seven\", \"eight\", \"nine\"]\n",
    "    fls = set([x[0] for x in d])\n",
    "\n",
    "    candidate = \"\"\n",
    "    for i, c in enumerate(word):\n",
    "        if c.isdigit():\n",
    "            result = int(c)\n",
    "            if cancel_early:\n",
    "                return result\n",
    "        if c in fls:\n",
    "            df = [w for w in d if w.startswith(c)]\n",
    "            for w in df:\n",
    "                if w == word[i : i + len(w)]:\n",
    "                    result = d.index(w)\n",
    "                    if cancel_early:\n",
    "                        return result\n",
    "    return result\n",
    "\n",
    "\n",
    "TOTAL = 0\n",
    "for word in lines:\n",
    "    s = \"\"\n",
    "    s += str(get_digit(word, cancel_early=True))\n",
    "    s += str(get_digit(word, cancel_early=False))\n",
    "    TOTAL += int(s)\n",
    "\n",
    "TOTAL"
   ]
  }
 ],
 "metadata": {
  "kernelspec": {
   "display_name": "Python 3 (ipykernel)",
   "language": "python",
   "name": "python3"
  },
  "language_info": {
   "codemirror_mode": {
    "name": "ipython",
    "version": 3
   },
   "file_extension": ".py",
   "mimetype": "text/x-python",
   "name": "python",
   "nbconvert_exporter": "python",
   "pygments_lexer": "ipython3",
   "version": "3.10.9"
  }
 },
 "nbformat": 4,
 "nbformat_minor": 5
}
