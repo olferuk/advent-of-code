{
 "cells": [
  {
   "cell_type": "code",
   "execution_count": 1,
   "id": "3b984994-ab92-4ebf-973a-392396bc11ab",
   "metadata": {},
   "outputs": [],
   "source": [
    "%load_ext lab_black"
   ]
  },
  {
   "cell_type": "code",
   "execution_count": 2,
   "id": "9cc39e09-2ec4-48ae-b615-1a632fb4f87a",
   "metadata": {},
   "outputs": [],
   "source": [
    "from pathlib import Path"
   ]
  },
  {
   "cell_type": "code",
   "execution_count": 24,
   "id": "9c5c9bc9-4d76-49c3-bc83-3d16c303d008",
   "metadata": {},
   "outputs": [
    {
     "data": {
      "text/plain": [
       "([52, 94, 75, 94], [426, 1374, 1279, 1216])"
      ]
     },
     "execution_count": 24,
     "metadata": {},
     "output_type": "execute_result"
    }
   ],
   "source": [
    "times, records = [\n",
    "    [int(y) for y in x.split(\":\")[-1].split()]\n",
    "    for x in Path(\"data/06.txt\").read_text().split(\"\\n\")\n",
    "]\n",
    "times, records"
   ]
  },
  {
   "cell_type": "raw",
   "id": "e838b551-9208-4f5b-a4b5-3a62c528d5b7",
   "metadata": {},
   "source": [
    "times, records = [7, 15, 30], [9, 40, 200]"
   ]
  },
  {
   "cell_type": "code",
   "execution_count": 14,
   "id": "1f567c80-52c4-4d51-baf8-79653ae0092d",
   "metadata": {},
   "outputs": [
    {
     "data": {
      "text/plain": [
       "2449062"
      ]
     },
     "execution_count": 14,
     "metadata": {},
     "output_type": "execute_result"
    }
   ],
   "source": [
    "S = 1\n",
    "for i in range(len(times)):\n",
    "    T, R = times[i], records[i]\n",
    "    n = 0\n",
    "    for t in range(1, T + 1):\n",
    "        v0 = t\n",
    "        d = (T - t) * v0\n",
    "        if d > R:\n",
    "            n += 1\n",
    "    S *= n\n",
    "S"
   ]
  },
  {
   "cell_type": "code",
   "execution_count": 25,
   "id": "eac00c81-f55f-4f0d-8c89-e030275efd46",
   "metadata": {},
   "outputs": [
    {
     "data": {
      "text/plain": [
       "(52947594, 426137412791216)"
      ]
     },
     "execution_count": 25,
     "metadata": {},
     "output_type": "execute_result"
    }
   ],
   "source": [
    "T, R = [\n",
    "    int(\"\".join([y for y in x.split(\":\")[-1].split()]))\n",
    "    for x in Path(\"data/06.txt\").read_text().split(\"\\n\")\n",
    "]\n",
    "\n",
    "T, R"
   ]
  },
  {
   "cell_type": "code",
   "execution_count": 26,
   "id": "25b53cb4-5ecd-4737-b2b4-56ae9cd2880f",
   "metadata": {},
   "outputs": [],
   "source": [
    "from tqdm import tqdm"
   ]
  },
  {
   "cell_type": "code",
   "execution_count": 27,
   "id": "0bc6ccf5-e3b0-45be-b86f-42931f727709",
   "metadata": {},
   "outputs": [
    {
     "name": "stderr",
     "output_type": "stream",
     "text": [
      "100%|██████████████████████████| 52947594/52947594 [00:09<00:00, 5503676.63it/s]\n"
     ]
    },
    {
     "data": {
      "text/plain": [
       "33149631"
      ]
     },
     "execution_count": 27,
     "metadata": {},
     "output_type": "execute_result"
    }
   ],
   "source": [
    "n = 0\n",
    "for t in tqdm(range(1, T + 1)):\n",
    "    v0 = t\n",
    "    d = (T - t) * v0\n",
    "    if d > R:\n",
    "        n += 1\n",
    "n"
   ]
  },
  {
   "cell_type": "code",
   "execution_count": null,
   "id": "aaf936c9-2aa1-4242-afaa-c27c80b9d9bc",
   "metadata": {},
   "outputs": [],
   "source": [
    "ys = [(T - t) * t for t in tqdm(range(1, T + 1))]\n",
    "ys"
   ]
  },
  {
   "cell_type": "code",
   "execution_count": 29,
   "id": "a00dc177-93de-4aef-86f3-e929e9ec7064",
   "metadata": {},
   "outputs": [],
   "source": [
    "import matplotlib.pyplot as plt"
   ]
  },
  {
   "cell_type": "code",
   "execution_count": 32,
   "id": "955556c7-8ca7-49b4-8ece-704ac0ea3df2",
   "metadata": {},
   "outputs": [
    {
     "data": {
      "text/plain": [
       "<matplotlib.lines.Line2D at 0x2e24562f0>"
      ]
     },
     "execution_count": 32,
     "metadata": {},
     "output_type": "execute_result"
    },
    {
     "data": {
      "image/png": "[encoded data removed]",
      "text/plain": [
       "<Figure size 640x480 with 1 Axes>"
      ]
     },
     "metadata": {},
     "output_type": "display_data"
    }
   ],
   "source": [
    "plt.plot(ys)\n",
    "plt.axhline(R, c=\"r\")"
   ]
  },
  {
   "cell_type": "code",
   "execution_count": 33,
   "id": "2ef56f5e-d86f-44a3-8b5c-a3ef633f91d4",
   "metadata": {},
   "outputs": [
    {
     "data": {
      "text/plain": [
       "False"
      ]
     },
     "execution_count": 33,
     "metadata": {},
     "output_type": "execute_result"
    }
   ],
   "source": [
    "any([x - R == 0 for x in ys])"
   ]
  },
  {
   "cell_type": "code",
   "execution_count": null,
   "id": "878fddcb-75e9-4d60-8e03-92785831668a",
   "metadata": {},
   "outputs": [],
   "source": []
  }
 ],
 "metadata": {
  "kernelspec": {
   "display_name": "Python 3 (ipykernel)",
   "language": "python",
   "name": "python3"
  },
  "language_info": {
   "codemirror_mode": {
    "name": "ipython",
    "version": 3
   },
   "file_extension": ".py",
   "mimetype": "text/x-python",
   "name": "python",
   "nbconvert_exporter": "python",
   "pygments_lexer": "ipython3",
   "version": "3.10.9"
  }
 },
 "nbformat": 4,
 "nbformat_minor": 5
}
