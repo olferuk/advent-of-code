{
 "cells": [
  {
   "cell_type": "code",
   "execution_count": 11,
   "id": "001084d1-ce28-45e0-9179-1de73d31740c",
   "metadata": {},
   "outputs": [
    {
     "name": "stdout",
     "output_type": "stream",
     "text": [
      "The lab_black extension is already loaded. To reload it, use:\n",
      "  %reload_ext lab_black\n"
     ]
    }
   ],
   "source": [
    "%load_ext lab_black"
   ]
  },
  {
   "cell_type": "code",
   "execution_count": 13,
   "id": "d2b17485-d268-4c7e-8eb0-7140c6e9d3d4",
   "metadata": {},
   "outputs": [],
   "source": [
    "from pathlib import Path"
   ]
  },
  {
   "cell_type": "code",
   "execution_count": 14,
   "id": "2fa0ef48-e38c-4bc8-8884-0578415d75d8",
   "metadata": {},
   "outputs": [],
   "source": [
    "lines = Path(\"data/04.txt\").read_text().strip().split(\"\\n\")"
   ]
  },
  {
   "cell_type": "code",
   "execution_count": 32,
   "id": "50c86c48-5960-4173-9849-31626d65123f",
   "metadata": {},
   "outputs": [
    {
     "data": {
      "text/plain": [
       "23028"
      ]
     },
     "execution_count": 32,
     "metadata": {},
     "output_type": "execute_result"
    }
   ],
   "source": [
    "TOTAL = 0\n",
    "\n",
    "for line in lines:\n",
    "    win_numbers, your_numbers = line.split(\":\")[-1].split(\" | \")\n",
    "    win_numbers, your_numbers = (\n",
    "        map(int, win_numbers.split()),\n",
    "        map(int, your_numbers.split()),\n",
    "    )\n",
    "    win = set(win_numbers) & set(your_numbers)\n",
    "    if len(win):\n",
    "        points = 1 << len(win) - 1\n",
    "        TOTAL += points\n",
    "TOTAL"
   ]
  },
  {
   "cell_type": "code",
   "execution_count": 42,
   "id": "f218b808-10c0-4572-9dfc-c1ad0716ed73",
   "metadata": {},
   "outputs": [
    {
     "data": {
      "text/plain": [
       "9236992"
      ]
     },
     "execution_count": 42,
     "metadata": {},
     "output_type": "execute_result"
    }
   ],
   "source": [
    "cnts = [1] * len(lines)\n",
    "for i, line in enumerate(lines):\n",
    "    win_numbers, your_numbers = line.split(\":\")[-1].split(\" | \")\n",
    "    win_numbers, your_numbers = (\n",
    "        map(int, win_numbers.split()),\n",
    "        map(int, your_numbers.split()),\n",
    "    )\n",
    "    win = set(win_numbers) & set(your_numbers)\n",
    "    for j in range(len(win)):\n",
    "        cnts[i + j + 1] += cnts[i]\n",
    "\n",
    "sum(cnts)"
   ]
  }
 ],
 "metadata": {
  "kernelspec": {
   "display_name": "Python 3 (ipykernel)",
   "language": "python",
   "name": "python3"
  },
  "language_info": {
   "codemirror_mode": {
    "name": "ipython",
    "version": 3
   },
   "file_extension": ".py",
   "mimetype": "text/x-python",
   "name": "python",
   "nbconvert_exporter": "python",
   "pygments_lexer": "ipython3",
   "version": "3.10.9"
  }
 },
 "nbformat": 4,
 "nbformat_minor": 5
}
