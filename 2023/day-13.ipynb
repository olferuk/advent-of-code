{
 "cells": [
  {
   "cell_type": "code",
   "execution_count": 1,
   "id": "bc9d1a8e-4275-440c-8941-f90f120c7d52",
   "metadata": {},
   "outputs": [],
   "source": [
    "%load_ext lab_black"
   ]
  },
  {
   "cell_type": "code",
   "execution_count": 4,
   "id": "fd0d043d-ce48-4091-84a8-1487bd4c6e1c",
   "metadata": {},
   "outputs": [],
   "source": [
    "import numpy as np\n",
    "\n",
    "from pathlib import Path"
   ]
  },
  {
   "cell_type": "code",
   "execution_count": 43,
   "id": "cb31631a-1432-4e91-87da-1f2cddee38c0",
   "metadata": {},
   "outputs": [],
   "source": [
    "data = \"\"\"#.##..##.\n",
    "..#.##.#.\n",
    "##......#\n",
    "##......#\n",
    "..#.##.#.\n",
    "..##..##.\n",
    "#.#.##.#.\n",
    "\n",
    "#...##..#\n",
    "#....#..#\n",
    "..##..###\n",
    "#####.##.\n",
    "#####.##.\n",
    "..##..###\n",
    "#....#..#\"\"\"\n",
    "data = Path(\"data/13.txt\").read_text()\n",
    "\n",
    "matrices = []\n",
    "M = []\n",
    "for line in data.split(\"\\n\"):\n",
    "    if line != \"\":\n",
    "        M.append(list(line))\n",
    "    else:\n",
    "        matrices.append(np.array(M))\n",
    "        M = []\n",
    "matrices.append(np.array(M))"
   ]
  },
  {
   "cell_type": "code",
   "execution_count": 61,
   "id": "6431f218-ab7a-40c2-aa2c-4833abdafe56",
   "metadata": {},
   "outputs": [],
   "source": [
    "def get_symmetry_axis(M):\n",
    "    answers = []\n",
    "\n",
    "    for i in range(len(M) - 1):\n",
    "        ok = True\n",
    "        for j in range(100):\n",
    "            if (i - j < 0) or (i + 1 + j) == len(M):\n",
    "                break\n",
    "            if not np.all(M[i - j] == M[i + 1 + j]):\n",
    "                ok = False\n",
    "        if ok:\n",
    "            answers.append((i + 1) * 100)\n",
    "\n",
    "    for i in range(len(M[0]) - 1):\n",
    "        ok = True\n",
    "        for j in range(100):\n",
    "            if (i - j < 0) or (i + 1 + j) == len(M[0]):\n",
    "                break\n",
    "            if not np.all(M[:, i - j] == M[:, i + 1 + j]):\n",
    "                ok = False\n",
    "        if ok:\n",
    "            answers.append((i + 1))\n",
    "\n",
    "    return answers"
   ]
  },
  {
   "cell_type": "code",
   "execution_count": 54,
   "id": "e86d7e22-1736-49a1-b64d-13c1ce3dfcda",
   "metadata": {},
   "outputs": [
    {
     "data": {
      "text/plain": [
       "33728"
      ]
     },
     "execution_count": 54,
     "metadata": {},
     "output_type": "execute_result"
    }
   ],
   "source": [
    "total = 0\n",
    "for m in matrices:\n",
    "    total += get_symmetry_axis(m)[0]\n",
    "total"
   ]
  },
  {
   "cell_type": "markdown",
   "id": "3289e613-8930-4999-9601-408968a8db42",
   "metadata": {},
   "source": [
    "---"
   ]
  },
  {
   "cell_type": "code",
   "execution_count": 55,
   "id": "b7a0de60-d337-4e03-8d08-5acd58f1fa3c",
   "metadata": {},
   "outputs": [],
   "source": [
    "def pprint(M):\n",
    "    # original = get_symmetry_axis(M)\n",
    "    print(\"\\n\".join([\"\".join(x) for x in M]))"
   ]
  },
  {
   "cell_type": "code",
   "execution_count": 59,
   "id": "2a78833b-481e-421b-98e6-64d1c1dfd524",
   "metadata": {},
   "outputs": [
    {
     "name": "stdout",
     "output_type": "stream",
     "text": [
      "2\n",
      "#..#.#........#\n",
      "#..######..####\n",
      ".##..#.#.##.#.#\n",
      "#..##..........\n",
      "######........#\n",
      "#..####......##\n",
      ".##.##.#...##.#\n",
      "\n",
      "10\n",
      "#..#.#........#\n",
      "#..######..####\n",
      ".##..#.#.##.#.#\n",
      "#..##..........\n",
      "######........#\n",
      "#..####......##\n",
      ".##.##.##..##.#\n"
     ]
    }
   ],
   "source": [
    "K = 0\n",
    "\n",
    "M = matrices[K].copy()\n",
    "original = get_symmetry_axis(M)[0]\n",
    "\n",
    "print(original)\n",
    "pprint(M)\n",
    "print()\n",
    "\n",
    "smudges = []\n",
    "for y in range(len(M)):\n",
    "    for x in range(len(M[0])):\n",
    "        M = matrices[K].copy()\n",
    "        M[y, x] = \"#\" if M[y, x] == \".\" else \".\"\n",
    "        result = list(set(get_symmetry_axis(M)) - set([original]))\n",
    "        if len(result) > 0:\n",
    "            print(result[0])\n",
    "            pprint(M)\n",
    "            smudges.append((y, x, M[y, x], original, result))\n",
    "            break\n",
    "    if len(smudges):\n",
    "        break"
   ]
  },
  {
   "cell_type": "code",
   "execution_count": 60,
   "id": "0d0bfd65-b74b-463a-8d41-593a2b9d8322",
   "metadata": {},
   "outputs": [
    {
     "data": {
      "text/plain": [
       "28235"
      ]
     },
     "execution_count": 60,
     "metadata": {},
     "output_type": "execute_result"
    }
   ],
   "source": [
    "total = 0\n",
    "for K in range(len(matrices)):\n",
    "    M = matrices[K].copy()\n",
    "    original = get_symmetry_axis(M)[0]\n",
    "\n",
    "    found = False\n",
    "    for y in range(len(M)):\n",
    "        for x in range(len(M[0])):\n",
    "            M = matrices[K].copy()\n",
    "            M[y, x] = \"#\" if M[y, x] == \".\" else \".\"\n",
    "            result = list(set(get_symmetry_axis(M)) - set([original]))\n",
    "            if len(result) > 0:\n",
    "                total += result[0]\n",
    "                found = True\n",
    "                break\n",
    "        if found:\n",
    "            break\n",
    "total"
   ]
  },
  {
   "cell_type": "code",
   "execution_count": null,
   "id": "8205e948-c8c2-401b-a63e-d2ff51f83b06",
   "metadata": {},
   "outputs": [],
   "source": []
  }
 ],
 "metadata": {
  "kernelspec": {
   "display_name": "Python 3 (ipykernel)",
   "language": "python",
   "name": "python3"
  },
  "language_info": {
   "codemirror_mode": {
    "name": "ipython",
    "version": 3
   },
   "file_extension": ".py",
   "mimetype": "text/x-python",
   "name": "python",
   "nbconvert_exporter": "python",
   "pygments_lexer": "ipython3",
   "version": "3.10.9"
  }
 },
 "nbformat": 4,
 "nbformat_minor": 5
}
