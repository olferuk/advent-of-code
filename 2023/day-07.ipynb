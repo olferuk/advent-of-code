{
 "cells": [
  {
   "cell_type": "code",
   "execution_count": 3,
   "id": "dd1c8aa8-ac06-4177-a769-7e6d1b509cd5",
   "metadata": {},
   "outputs": [
    {
     "name": "stdout",
     "output_type": "stream",
     "text": [
      "The lab_black extension is already loaded. To reload it, use:\n",
      "  %reload_ext lab_black\n"
     ]
    }
   ],
   "source": [
    "%load_ext lab_black"
   ]
  },
  {
   "cell_type": "code",
   "execution_count": 4,
   "id": "b0bcf775-ef37-42e6-b620-e51da699eedb",
   "metadata": {},
   "outputs": [],
   "source": [
    "from pathlib import Path"
   ]
  },
  {
   "cell_type": "code",
   "execution_count": 68,
   "id": "185a6095-3ac7-4f57-a197-a0adb6f112ed",
   "metadata": {},
   "outputs": [
    {
     "data": {
      "text/plain": [
       "('72772', '86866')"
      ]
     },
     "execution_count": 68,
     "metadata": {},
     "output_type": "execute_result"
    }
   ],
   "source": [
    "data = Path(\"data/07.txt\").read_text()\n",
    "# data = \"\"\"32T3K 765\n",
    "# T55J5 684\n",
    "# KK677 28\n",
    "# KTJJT 220\n",
    "# QQQJA 483\"\"\"\n",
    "\n",
    "cards, bets = zip(*[(x.split()[0], int(x.split()[1])) for x in data.split(\"\\n\")])\n",
    "\n",
    "cards[0], cards[-1]"
   ]
  },
  {
   "cell_type": "code",
   "execution_count": 53,
   "id": "fab92595-1c86-4d57-9f36-5ed86efdaacd",
   "metadata": {},
   "outputs": [],
   "source": [
    "class Cards:\n",
    "    order = \"23456789TJQKA\"\n",
    "\n",
    "    def __init__(self, s):\n",
    "        self.s = s\n",
    "\n",
    "    def __lt__(self, other):\n",
    "        for i in range(len(self.s)):\n",
    "            if self.s[i] == other.s[i]:\n",
    "                continue\n",
    "            ia = self.order.index(self.s[i])\n",
    "            ib = self.order.index(other.s[i])\n",
    "            return ia < ib\n",
    "        return False\n",
    "\n",
    "    def __str__(self):\n",
    "        return f\"Cards({self.s})\"\n",
    "\n",
    "    def __repr__(self):\n",
    "        return str(self)"
   ]
  },
  {
   "cell_type": "code",
   "execution_count": 29,
   "id": "0fa6b4a6-f71c-4634-b70a-f0cdff9a8134",
   "metadata": {},
   "outputs": [],
   "source": [
    "from collections import Counter"
   ]
  },
  {
   "cell_type": "code",
   "execution_count": 50,
   "id": "57f1d8eb-7c92-4a4f-acaf-5ba05b5bd909",
   "metadata": {},
   "outputs": [],
   "source": [
    "combos = [\n",
    "    [5],\n",
    "    [1, 4],\n",
    "    [2, 3],\n",
    "    [1, 1, 3],\n",
    "    [1, 2, 2],\n",
    "    [1, 1, 1, 2],\n",
    "    [1, 1, 1, 1, 1],\n",
    "]\n",
    "labels = [\n",
    "    \"5-of-a-kind\",\n",
    "    \"4-of-a-kind\",\n",
    "    \"full-house\",\n",
    "    \"3-of-a-kind\",\n",
    "    \"2-pairs\",\n",
    "    \"pair\",\n",
    "    \"strongest\",\n",
    "]"
   ]
  },
  {
   "cell_type": "code",
   "execution_count": 54,
   "id": "c37ea6ad-232b-4932-8d89-18c3d3587116",
   "metadata": {},
   "outputs": [
    {
     "data": {
      "text/plain": [
       "248569531"
      ]
     },
     "execution_count": 54,
     "metadata": {},
     "output_type": "execute_result"
    }
   ],
   "source": [
    "values = []\n",
    "for c, b in zip(cards, bets):\n",
    "    s = sorted(Counter(c).values())\n",
    "    for i in range(len(combos)):\n",
    "        if combos[i] == s:\n",
    "            first = len(combos) - i - 1\n",
    "            second = labels[i]\n",
    "            break\n",
    "    value = (first, Cards(c), second, b)\n",
    "    values.append(value)\n",
    "# values\n",
    "\n",
    "sum([t[-1] * k for t, k in list(zip(sorted(values), range(1, len(values) + 1)))])"
   ]
  },
  {
   "cell_type": "markdown",
   "id": "3a166f3f-847e-4e50-bf44-5891ea354bd6",
   "metadata": {},
   "source": [
    "----"
   ]
  },
  {
   "cell_type": "code",
   "execution_count": 73,
   "id": "0a5bef2c-4f88-4cb6-9c2d-2a35a9fb7959",
   "metadata": {},
   "outputs": [],
   "source": [
    "class Cards:\n",
    "    order = \"J23456789TJQKA\"\n",
    "    combos = [\n",
    "        [5],\n",
    "        [1, 4],\n",
    "        [2, 3],\n",
    "        [1, 1, 3],\n",
    "        [1, 2, 2],\n",
    "        [1, 1, 1, 2],\n",
    "        [1, 1, 1, 1, 1],\n",
    "    ]\n",
    "    labels = [\n",
    "        \"5-of-a-kind\",\n",
    "        \"4-of-a-kind\",\n",
    "        \"full-house\",\n",
    "        \"3-of-a-kind\",\n",
    "        \"2-pairs\",\n",
    "        \"pair\",\n",
    "        \"strongest\",\n",
    "    ]\n",
    "\n",
    "    def __init__(self, s):\n",
    "        self.s = s\n",
    "\n",
    "    def make_strongest(self):\n",
    "        if \"J\" not in self.s:\n",
    "            return\n",
    "        c = Counter(self.s)\n",
    "        njs = c.pop(\"J\")\n",
    "        k = sorted(\n",
    "            [k for k, v in c.items() if v == max(c.values())],\n",
    "            key=lambda x: -self.order.index(x),\n",
    "        )\n",
    "        k = \"A\" if len(k) == 0 else k[0]\n",
    "        self.s = \"\".join([(x if x != \"J\" else k) for x in self.s])\n",
    "\n",
    "    def __lt__(self, other):\n",
    "        for i in range(len(self.s)):\n",
    "            if self.s[i] == other.s[i]:\n",
    "                continue\n",
    "            ia = self.order.index(self.s[i])\n",
    "            ib = self.order.index(other.s[i])\n",
    "            return ia < ib\n",
    "        return False\n",
    "\n",
    "    def __str__(self):\n",
    "        return f\"Cards({self.s})\"\n",
    "\n",
    "    def __repr__(self):\n",
    "        return str(self)"
   ]
  },
  {
   "cell_type": "code",
   "execution_count": 74,
   "id": "647594e8-c000-41c9-94a0-462771e28f8c",
   "metadata": {},
   "outputs": [],
   "source": [
    "from collections import Counter"
   ]
  },
  {
   "cell_type": "code",
   "execution_count": 75,
   "id": "ba82a54e-fc69-40c3-a1a1-b58d423bc97e",
   "metadata": {},
   "outputs": [
    {
     "data": {
      "text/plain": [
       "250382098"
      ]
     },
     "execution_count": 75,
     "metadata": {},
     "output_type": "execute_result"
    }
   ],
   "source": [
    "values = []\n",
    "for c, b in zip(cards, bets):\n",
    "    t = Cards(c)\n",
    "    try:\n",
    "        t.make_strongest()\n",
    "    except:\n",
    "        print(c)\n",
    "\n",
    "    s = sorted(Counter(t.s).values())\n",
    "    for i in range(len(combos)):\n",
    "        if combos[i] == s:\n",
    "            first = len(combos) - i - 1\n",
    "            second = labels[i]\n",
    "            break\n",
    "    value = (first, Cards(c), second, b)\n",
    "    values.append(value)\n",
    "# values\n",
    "\n",
    "sum([t[-1] * k for t, k in list(zip(sorted(values), range(1, len(values) + 1)))])"
   ]
  },
  {
   "cell_type": "code",
   "execution_count": null,
   "id": "e88fd3b4-4ee3-484f-998c-847efd4f2fc9",
   "metadata": {},
   "outputs": [],
   "source": []
  }
 ],
 "metadata": {
  "kernelspec": {
   "display_name": "Python 3 (ipykernel)",
   "language": "python",
   "name": "python3"
  },
  "language_info": {
   "codemirror_mode": {
    "name": "ipython",
    "version": 3
   },
   "file_extension": ".py",
   "mimetype": "text/x-python",
   "name": "python",
   "nbconvert_exporter": "python",
   "pygments_lexer": "ipython3",
   "version": "3.10.9"
  }
 },
 "nbformat": 4,
 "nbformat_minor": 5
}
