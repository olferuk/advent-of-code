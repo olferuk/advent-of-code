{
 "cells": [
  {
   "cell_type": "code",
   "execution_count": 1,
   "id": "318229c2-31f9-48d8-94df-d380dca8976a",
   "metadata": {},
   "outputs": [],
   "source": [
    "%load_ext lab_black"
   ]
  },
  {
   "cell_type": "code",
   "execution_count": 2,
   "id": "62eaa6b5-10af-4bd2-b7c9-0a5ac61e0115",
   "metadata": {},
   "outputs": [],
   "source": [
    "from pathlib import Path"
   ]
  },
  {
   "cell_type": "code",
   "execution_count": 23,
   "id": "444325a3-d5c5-4b5f-b147-e13eb01a8d2e",
   "metadata": {},
   "outputs": [
    {
     "data": {
      "text/plain": [
       "[11,\n",
       " 22,\n",
       " 50,\n",
       " 101,\n",
       " 188,\n",
       " 336,\n",
       " 587,\n",
       " 1005,\n",
       " 1681,\n",
       " 2738,\n",
       " 4336,\n",
       " 6677,\n",
       " 10010,\n",
       " 14636,\n",
       " 20913,\n",
       " 29261,\n",
       " 40167,\n",
       " 54190,\n",
       " 71966,\n",
       " 94213,\n",
       " 121736]"
      ]
     },
     "execution_count": 23,
     "metadata": {},
     "output_type": "execute_result"
    }
   ],
   "source": [
    "data = Path(\"data/09.txt\").read_text()\n",
    "# data = \"\"\"0 3 6 9 12 15\n",
    "# 1 3 6 10 15 21\n",
    "# 10 13 16 21 30 45\"\"\"\n",
    "\n",
    "lines = [list(map(int, x.split())) for x in data.split(\"\\n\")]\n",
    "lines[0]"
   ]
  },
  {
   "cell_type": "code",
   "execution_count": 24,
   "id": "cbd541a1-b1df-4426-8c1b-29a21f68f83a",
   "metadata": {},
   "outputs": [],
   "source": [
    "def all_same(xs):\n",
    "    return all([a == b for a, b in zip(xs, xs[1:])])"
   ]
  },
  {
   "cell_type": "code",
   "execution_count": 25,
   "id": "6136007b-f1cf-4f0b-9834-46d9d2dbf955",
   "metadata": {},
   "outputs": [],
   "source": [
    "def get_diff(xs):\n",
    "    return [b - a for a, b in zip(l, l[1:])]"
   ]
  },
  {
   "cell_type": "code",
   "execution_count": 26,
   "id": "f60c2873-02e7-46b6-9d93-52b2ec7c56f9",
   "metadata": {},
   "outputs": [],
   "source": [
    "def unroll(diffs):\n",
    "    dx = diffs[-1][-1]\n",
    "    for i in range(len(diffs) - 2, -1, -1):\n",
    "        dx = diffs[i][-1] + dx\n",
    "    return dx"
   ]
  },
  {
   "cell_type": "code",
   "execution_count": 27,
   "id": "1a708611-2f66-44aa-81b4-a714dc01b5cd",
   "metadata": {},
   "outputs": [],
   "source": [
    "from collections import deque"
   ]
  },
  {
   "cell_type": "code",
   "execution_count": 28,
   "id": "39a7b11d-f570-4023-bad1-3361e18d1720",
   "metadata": {},
   "outputs": [
    {
     "data": {
      "text/plain": [
       "1934898178"
      ]
     },
     "execution_count": 28,
     "metadata": {},
     "output_type": "execute_result"
    }
   ],
   "source": [
    "total = 0\n",
    "for l in lines:\n",
    "    diffs = deque([])\n",
    "    diffs.append(l)\n",
    "\n",
    "    while not all_same(diffs[-1]):\n",
    "        ld = get_diff(l)\n",
    "        diffs.append(ld)\n",
    "        l = ld\n",
    "\n",
    "    total += unroll(diffs)\n",
    "total"
   ]
  },
  {
   "cell_type": "markdown",
   "id": "f44d5c85-e3fc-48a5-b04c-577c6c7d6b27",
   "metadata": {},
   "source": [
    "---"
   ]
  },
  {
   "cell_type": "code",
   "execution_count": 29,
   "id": "49b3cb4a-607c-4a08-8da4-8d8cc7e6c1d2",
   "metadata": {},
   "outputs": [],
   "source": [
    "def unroll(diffs):\n",
    "    dx = diffs[-1][0]\n",
    "    for i in range(len(diffs) - 2, -1, -1):\n",
    "        dx = diffs[i][0] - dx\n",
    "    return dx"
   ]
  },
  {
   "cell_type": "code",
   "execution_count": 30,
   "id": "ef33624f-9bed-4ef5-9e12-eada82be7904",
   "metadata": {},
   "outputs": [
    {
     "data": {
      "text/plain": [
       "1129"
      ]
     },
     "execution_count": 30,
     "metadata": {},
     "output_type": "execute_result"
    }
   ],
   "source": [
    "total = 0\n",
    "for l in lines:\n",
    "    diffs = deque([])\n",
    "    diffs.append(l)\n",
    "\n",
    "    while not all_same(diffs[-1]):\n",
    "        ld = get_diff(l)\n",
    "        diffs.append(ld)\n",
    "        l = ld\n",
    "\n",
    "    total += unroll(diffs)\n",
    "total"
   ]
  }
 ],
 "metadata": {
  "kernelspec": {
   "display_name": "Python 3 (ipykernel)",
   "language": "python",
   "name": "python3"
  },
  "language_info": {
   "codemirror_mode": {
    "name": "ipython",
    "version": 3
   },
   "file_extension": ".py",
   "mimetype": "text/x-python",
   "name": "python",
   "nbconvert_exporter": "python",
   "pygments_lexer": "ipython3",
   "version": "3.10.9"
  }
 },
 "nbformat": 4,
 "nbformat_minor": 5
}
