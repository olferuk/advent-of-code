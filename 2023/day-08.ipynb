{
 "cells": [
  {
   "cell_type": "code",
   "execution_count": 1,
   "id": "1931235c-939d-4778-9475-7138df7721c4",
   "metadata": {},
   "outputs": [],
   "source": [
    "%load_ext lab_black"
   ]
  },
  {
   "cell_type": "code",
   "execution_count": 11,
   "id": "4ed4a3f8-fae2-412b-92a0-c2231a90e427",
   "metadata": {},
   "outputs": [],
   "source": [
    "from pathlib import Path"
   ]
  },
  {
   "cell_type": "code",
   "execution_count": 30,
   "id": "5a07ae8b-2a6d-4d48-a080-06873712c720",
   "metadata": {},
   "outputs": [],
   "source": [
    "class Node:\n",
    "    def __init__(self, name=None, left=None, right=None):\n",
    "        self.name = name\n",
    "        self.l = left\n",
    "        self.r = right\n",
    "\n",
    "    @staticmethod\n",
    "    def parse(line, graph):\n",
    "        self, leftright = line.split(\" = \")\n",
    "        if self not in graph:\n",
    "            self = Node(self)\n",
    "            graph[self.name] = self\n",
    "        else:\n",
    "            self = graph[self]\n",
    "\n",
    "        left, right = leftright[1:-1].split(\", \")\n",
    "\n",
    "        if left not in graph:\n",
    "            left = Node(left)\n",
    "            graph[left.name] = left\n",
    "        else:\n",
    "            left = graph[left]\n",
    "\n",
    "        if right not in graph:\n",
    "            right = Node(right)\n",
    "            graph[right.name] = right\n",
    "        else:\n",
    "            right = graph[right]\n",
    "\n",
    "        graph[self.name].l = graph[left.name]\n",
    "        graph[self.name].r = graph[right.name]\n",
    "\n",
    "    def __repr__(self):\n",
    "        left = \"•\" if self.l is None else self.l.name\n",
    "        right = \"•\" if self.r is None else self.r.name\n",
    "        return f\"Node({self.name}, left={left}, right={right})\""
   ]
  },
  {
   "cell_type": "code",
   "execution_count": 31,
   "id": "8ebbb9f2-3899-4c72-9923-ca568e004c06",
   "metadata": {},
   "outputs": [],
   "source": [
    "lines = Path(\"data/08.txt\").read_text().split(\"\\n\")\n",
    "order = lines[0]\n",
    "graph_lines = lines[2:]"
   ]
  },
  {
   "cell_type": "code",
   "execution_count": 32,
   "id": "a70c439c-866f-4199-ae6d-b8356cbf0cce",
   "metadata": {},
   "outputs": [],
   "source": [
    "graph = {}\n",
    "\n",
    "for line in graph_lines:\n",
    "    Node.parse(line, graph)"
   ]
  },
  {
   "cell_type": "code",
   "execution_count": 35,
   "id": "dcb57d8c-f5b8-4d99-93ff-0a507d274e53",
   "metadata": {},
   "outputs": [
    {
     "data": {
      "text/plain": [
       "23147"
      ]
     },
     "execution_count": 35,
     "metadata": {},
     "output_type": "execute_result"
    }
   ],
   "source": [
    "current = graph[\"AAA\"]\n",
    "k = 0\n",
    "n_steps = 0\n",
    "\n",
    "while current.name != \"ZZZ\":\n",
    "    direction = order[k]\n",
    "    k += 1\n",
    "    if k == len(order):\n",
    "        k = 0\n",
    "\n",
    "    if direction == \"L\":\n",
    "        current = current.l\n",
    "    elif direction == \"R\":\n",
    "        current = current.r\n",
    "\n",
    "    n_steps += 1\n",
    "n_steps"
   ]
  },
  {
   "cell_type": "markdown",
   "id": "a07ec407-475e-4b14-947e-130149da4762",
   "metadata": {},
   "source": [
    "---"
   ]
  },
  {
   "cell_type": "code",
   "execution_count": 44,
   "id": "1d00e785-7135-4314-ada7-9bce141cb465",
   "metadata": {},
   "outputs": [
    {
     "data": {
      "text/plain": [
       "[Node(AAA, left=XBB, right=FGX),\n",
       " Node(CXA, left=XLT, right=VRF),\n",
       " Node(GQA, left=NQS, right=CNH),\n",
       " Node(HMA, left=TVC, right=RBX),\n",
       " Node(NPA, left=TPC, right=SNK),\n",
       " Node(VHA, left=KLF, right=HXJ)]"
      ]
     },
     "execution_count": 44,
     "metadata": {},
     "output_type": "execute_result"
    }
   ],
   "source": [
    "a_nodes = sorted([graph[k] for k in graph if k.endswith(\"A\")], key=lambda x: x.name)\n",
    "a_nodes"
   ]
  },
  {
   "cell_type": "code",
   "execution_count": 45,
   "id": "db134bd8-0548-41ec-bd15-312ac424a783",
   "metadata": {},
   "outputs": [],
   "source": [
    "def num_steps_to_z(node, order):\n",
    "    k = 0\n",
    "    n_steps = 0\n",
    "    while not node.name.endswith(\"Z\"):\n",
    "        direction = order[k]\n",
    "        k += 1\n",
    "        if k == len(order):\n",
    "            k = 0\n",
    "\n",
    "        if direction == \"L\":\n",
    "            node = node.l\n",
    "        elif direction == \"R\":\n",
    "            node = node.r\n",
    "\n",
    "        n_steps += 1\n",
    "    return n_steps"
   ]
  },
  {
   "cell_type": "code",
   "execution_count": 58,
   "id": "6be19bc5-710e-4b58-a481-0cc04fa251dd",
   "metadata": {},
   "outputs": [],
   "source": [
    "def compute_gcd(x, y):\n",
    "    while y:\n",
    "        x, y = y, x % y\n",
    "    return x\n",
    "\n",
    "\n",
    "def compute_lcm(x, y):\n",
    "    lcm = (x * y) // compute_gcd(x, y)\n",
    "    return lcm"
   ]
  },
  {
   "cell_type": "code",
   "execution_count": 59,
   "id": "98504ebb-29c9-4c2a-ac9b-ad98252f0d1c",
   "metadata": {},
   "outputs": [
    {
     "name": "stdout",
     "output_type": "stream",
     "text": [
      "23147\n",
      "17287\n",
      "21389\n",
      "13771\n",
      "19631\n",
      "20803\n"
     ]
    }
   ],
   "source": [
    "for i in range(len(a_nodes)):\n",
    "    print(num_steps_to_z(a_nodes[i], order))"
   ]
  },
  {
   "cell_type": "code",
   "execution_count": 60,
   "id": "5e664b62-94e9-4cf7-9045-271ab0d91dbc",
   "metadata": {},
   "outputs": [
    {
     "data": {
      "text/plain": [
       "22289513667691"
      ]
     },
     "execution_count": 60,
     "metadata": {},
     "output_type": "execute_result"
    }
   ],
   "source": [
    "compute_lcm(\n",
    "    compute_lcm(\n",
    "        compute_lcm(compute_lcm(compute_lcm(23147, 17287), 21389), 13771), 19631\n",
    "    ),\n",
    "    20803,\n",
    ")"
   ]
  },
  {
   "cell_type": "code",
   "execution_count": null,
   "id": "c8794c31-881b-4796-a990-7b8f9c48c6dc",
   "metadata": {},
   "outputs": [],
   "source": []
  }
 ],
 "metadata": {
  "kernelspec": {
   "display_name": "Python 3 (ipykernel)",
   "language": "python",
   "name": "python3"
  },
  "language_info": {
   "codemirror_mode": {
    "name": "ipython",
    "version": 3
   },
   "file_extension": ".py",
   "mimetype": "text/x-python",
   "name": "python",
   "nbconvert_exporter": "python",
   "pygments_lexer": "ipython3",
   "version": "3.10.9"
  }
 },
 "nbformat": 4,
 "nbformat_minor": 5
}
