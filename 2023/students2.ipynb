{
 "cells": [
  {
   "cell_type": "code",
   "execution_count": 1,
   "id": "bce4f525-2101-4b32-9072-5a97110331e2",
   "metadata": {},
   "outputs": [],
   "source": [
    "%load_ext lab_black"
   ]
  },
  {
   "cell_type": "code",
   "execution_count": 2,
   "id": "84e31777-c0a7-4996-b65c-069e36ac25e2",
   "metadata": {},
   "outputs": [],
   "source": [
    "from pathlib import Path"
   ]
  },
  {
   "cell_type": "code",
   "execution_count": 24,
   "id": "026abbb7-7b8b-4637-a385-0a0666be2672",
   "metadata": {},
   "outputs": [],
   "source": [
    "data = Path(\"data/04.txt\").read_text()\n",
    "# data = \"\"\"Card 1: 41 48 83 86 17 | 83 86  6 31 17  9 48 53\n",
    "# Card 2: 13 32 20 16 61 | 61 30 68 82 17 32 24 19\n",
    "# Card 3:  1 21 53 59 44 | 69 82 63 72 16 21 14  1\n",
    "# Card 4: 41 92 73 84 69 | 59 84 76 51 58  5 54 83\n",
    "# Card 5: 87 83 26 28 32 | 88 30 70 12 93 22 82 36\n",
    "# Card 6: 31 18 13 56 72 | 74 77 10 23 35 67 36 11\"\"\""
   ]
  },
  {
   "cell_type": "code",
   "execution_count": 25,
   "id": "c42aa4f8-e265-44fb-adc5-03edb969c22b",
   "metadata": {},
   "outputs": [],
   "source": [
    "lines = [x.split(\": \")[-1].split(\" | \") for x in data.split(\"\\n\")]\n",
    "lines = [[list(map(int, y.split())) for y in x] for x in lines]"
   ]
  },
  {
   "cell_type": "code",
   "execution_count": 19,
   "id": "85458e0d-ed73-43d2-a482-7f8377a500fd",
   "metadata": {},
   "outputs": [
    {
     "data": {
      "text/plain": [
       "13"
      ]
     },
     "execution_count": 19,
     "metadata": {},
     "output_type": "execute_result"
    }
   ],
   "source": [
    "points = 0\n",
    "for card, numbers in lines:\n",
    "    win_numbers = set(card) & set(numbers)\n",
    "    l = len(win_numbers)  # l => points\n",
    "    # 0 = -1 = 2^(-1)  ???\n",
    "    # 1 = 1 = 2^0\n",
    "    # 2 = 2 = 2^1\n",
    "    # 3 = 4 = 2^2\n",
    "    if len(win_numbers):\n",
    "        # points += 2**(l - 1)\n",
    "        points += 1 << (l - 1)\n",
    "points"
   ]
  },
  {
   "cell_type": "code",
   "execution_count": 26,
   "id": "923bba84-6dab-4e53-b2d7-009aaf5c9d0e",
   "metadata": {},
   "outputs": [
    {
     "data": {
      "text/plain": [
       "9236992"
      ]
     },
     "execution_count": 26,
     "metadata": {},
     "output_type": "execute_result"
    }
   ],
   "source": [
    "cnts = [1] * len(lines)\n",
    "cnts\n",
    "\n",
    "for i, (card, numbers) in enumerate(lines):\n",
    "    win_numbers = set(card) & set(numbers)\n",
    "    l = len(win_numbers)\n",
    "    for j in range(i + 1, i + 1 + l):\n",
    "        cnts[j] += cnts[i]\n",
    "sum(cnts)"
   ]
  },
  {
   "cell_type": "markdown",
   "id": "5c8f6599-1c67-4c34-9f21-d38ab2190231",
   "metadata": {},
   "source": [
    "---"
   ]
  },
  {
   "cell_type": "code",
   "execution_count": 35,
   "id": "23be28a0-23e2-49eb-8e23-e3350fe867ca",
   "metadata": {},
   "outputs": [],
   "source": [
    "data = \"\"\"LLR\n",
    "\n",
    "AAA = (BBB, BBB)\n",
    "BBB = (AAA, ZZZ)\n",
    "ZZZ = (ZZZ, ZZZ)\"\"\"\n",
    "data = Path(\"data/08.txt\").read_text()"
   ]
  },
  {
   "cell_type": "code",
   "execution_count": 36,
   "id": "9962ce42-042e-490c-b453-13495b652b53",
   "metadata": {},
   "outputs": [],
   "source": [
    "lines = data.split(\"\\n\")\n",
    "commands, graph_data = lines[0], lines[2:]"
   ]
  },
  {
   "cell_type": "code",
   "execution_count": 37,
   "id": "db777fc2-4594-40fe-b29c-920ce933ee36",
   "metadata": {},
   "outputs": [],
   "source": [
    "graph = {}\n",
    "for line in graph_data:\n",
    "    name, leftright = line.split(\" = \")\n",
    "    leftright = leftright[1:-1].split(\", \")\n",
    "    graph[name] = leftright"
   ]
  },
  {
   "cell_type": "code",
   "execution_count": 38,
   "id": "27304a9e-49b0-4c60-b3fd-3bbb8ec34c7a",
   "metadata": {},
   "outputs": [
    {
     "data": {
      "text/plain": [
       "23147"
      ]
     },
     "execution_count": 38,
     "metadata": {},
     "output_type": "execute_result"
    }
   ],
   "source": [
    "current = \"AAA\"\n",
    "dir_to_index = \"LR\"\n",
    "\n",
    "k = 0\n",
    "n_steps = 0\n",
    "while current != \"ZZZ\":\n",
    "    direction = commands[k]\n",
    "    k += 1\n",
    "    if k == len(commands):\n",
    "        k = 0\n",
    "\n",
    "    current = graph[current][dir_to_index.index(direction)]\n",
    "    n_steps += 1\n",
    "n_steps"
   ]
  },
  {
   "cell_type": "code",
   "execution_count": 43,
   "id": "7a7df34b-13ec-49b7-88d9-cb058d37020e",
   "metadata": {},
   "outputs": [],
   "source": [
    "def get_steps_count(current, graph, commands):\n",
    "    dir_to_index = \"LR\"\n",
    "    k = 0\n",
    "    n_steps = 0\n",
    "    while not current.endswith(\"Z\"):\n",
    "        direction = commands[k]\n",
    "        k += 1\n",
    "        if k == len(commands):\n",
    "            k = 0\n",
    "        current = graph[current][dir_to_index.index(direction)]\n",
    "        n_steps += 1\n",
    "    return n_steps"
   ]
  },
  {
   "cell_type": "code",
   "execution_count": 45,
   "id": "9bc0d041-bc29-4800-b1af-f9a38a5a7157",
   "metadata": {},
   "outputs": [
    {
     "name": "stdout",
     "output_type": "stream",
     "text": [
      "NPA - 19631\n",
      "HMA - 13771\n",
      "GQA - 21389\n",
      "CXA - 17287\n",
      "AAA - 23147\n",
      "VHA - 20803\n"
     ]
    }
   ],
   "source": [
    "for node in [k for k in graph if k.endswith(\"A\")]:\n",
    "    print(node, \"-\", get_steps_count(node, graph, commands))"
   ]
  },
  {
   "cell_type": "raw",
   "id": "b179a08d-da88-4585-ab16-1a67ccd0b711",
   "metadata": {},
   "source": [
    "l.c.m. = наименьшее общее кратное = lcm(x, y) -> (x*y)/gcd(x, y)\n",
    "g.c.d. = наибольший общий делитель = gcd(x, y) -> "
   ]
  },
  {
   "cell_type": "code",
   "execution_count": 49,
   "id": "f902d075-383e-4d37-a3c8-92b14eca7ceb",
   "metadata": {},
   "outputs": [],
   "source": [
    "def gcd(x, y):\n",
    "    while y:\n",
    "        x, y = y, x % y\n",
    "    return abs(x)\n",
    "\n",
    "\n",
    "def lcm(x, y):\n",
    "    return x * y // gcd(x, y)"
   ]
  },
  {
   "cell_type": "code",
   "execution_count": 51,
   "id": "350f0314-e8cc-4701-89ec-a8916e5c092f",
   "metadata": {},
   "outputs": [],
   "source": [
    "xs = [\n",
    "    get_steps_count(node, graph, commands)\n",
    "    for node in [k for k in graph if k.endswith(\"A\")]\n",
    "]"
   ]
  },
  {
   "cell_type": "code",
   "execution_count": 52,
   "id": "43517d70-94a2-4a3f-9a1e-02128df1752a",
   "metadata": {},
   "outputs": [
    {
     "data": {
      "text/plain": [
       "22289513667691"
      ]
     },
     "execution_count": 52,
     "metadata": {},
     "output_type": "execute_result"
    }
   ],
   "source": [
    "x = xs[0]\n",
    "for y in xs[1:]:\n",
    "    x = lcm(x, y)\n",
    "x"
   ]
  },
  {
   "cell_type": "markdown",
   "id": "fb07db9a-0c10-463d-8fda-bac2ac4fa69b",
   "metadata": {},
   "source": [
    "----"
   ]
  },
  {
   "cell_type": "code",
   "execution_count": 55,
   "id": "21aff7f1-266e-482e-ae5b-da7a32d0c6d5",
   "metadata": {},
   "outputs": [],
   "source": [
    "import numpy as np"
   ]
  },
  {
   "cell_type": "code",
   "execution_count": 110,
   "id": "7c8bb0fb-a900-4bec-aade-2950382a940c",
   "metadata": {},
   "outputs": [],
   "source": [
    "data = Path(\"data/10.txt\").read_text()\n",
    "data = \"\"\".....\n",
    ".S-7.\n",
    ".|.|.\n",
    ".L-J.\n",
    ".....\"\"\"\n",
    "\n",
    "A = data.split(\"\\n\")\n",
    "A = np.array([list(x) for x in A])"
   ]
  },
  {
   "cell_type": "code",
   "execution_count": 111,
   "id": "64b396d9-faef-4aab-865e-7147cbecc38f",
   "metadata": {},
   "outputs": [
    {
     "data": {
      "text/plain": [
       "(1, 1)"
      ]
     },
     "execution_count": 111,
     "metadata": {},
     "output_type": "execute_result"
    }
   ],
   "source": [
    "posx, posy = np.where(A == \"S\")\n",
    "posx, posy = posx[0], posy[0]\n",
    "pos = (posx, posy)\n",
    "pos"
   ]
  },
  {
   "cell_type": "code",
   "execution_count": 247,
   "id": "b4f581ae-d4f7-4048-be53-7109b8445bf1",
   "metadata": {},
   "outputs": [
    {
     "data": {
      "text/html": [
       "<pre style=\"white-space:pre;overflow-x:auto;line-height:normal;font-family:Menlo,'DejaVu Sans Mono',consolas,'Courier New',monospace\"><span style=\"font-weight: bold\">[[</span><span style=\"color: #008000; text-decoration-color: #008000\">'7'</span> <span style=\"color: #008000; text-decoration-color: #008000\">'7'</span> <span style=\"color: #008000; text-decoration-color: #008000\">'|'</span> <span style=\"color: #008000; text-decoration-color: #008000\">'L'</span> <span style=\"color: #008000; text-decoration-color: #008000\">'|'</span> <span style=\"color: #008000; text-decoration-color: #008000\">'F'</span><span style=\"font-weight: bold\">]</span>\n",
       " <span style=\"font-weight: bold\">[</span><span style=\"color: #008000; text-decoration-color: #008000\">'|'</span> <span style=\"color: #008000; text-decoration-color: #008000\">'F'</span> <span style=\"color: #008000; text-decoration-color: #008000\">'7'</span> <span style=\"color: #008000; text-decoration-color: #008000\">'F'</span> <span style=\"color: #008000; text-decoration-color: #008000\">'J'</span> <span style=\"color: #008000; text-decoration-color: #008000\">'L'</span><span style=\"font-weight: bold\">]</span>\n",
       " <span style=\"font-weight: bold\">[</span><span style=\"color: #008000; text-decoration-color: #008000\">'|'</span> <span style=\"color: #008000; text-decoration-color: #008000\">'|'</span> <span style=\"color: #008000; text-decoration-color: #008000\">'S'</span> <span style=\"color: #008000; text-decoration-color: #008000\">'L'</span> <span style=\"color: #008000; text-decoration-color: #008000\">'-'</span> <span style=\"color: #008000; text-decoration-color: #008000\">'7'</span><span style=\"font-weight: bold\">]</span>\n",
       " <span style=\"font-weight: bold\">[</span><span style=\"color: #008000; text-decoration-color: #008000\">'|'</span> <span style=\"color: #008000; text-decoration-color: #008000\">'|'</span> <span style=\"color: #008000; text-decoration-color: #008000\">'|'</span> <span style=\"color: #008000; text-decoration-color: #008000\">'|'</span> <span style=\"color: #008000; text-decoration-color: #008000\">'F'</span> <span style=\"color: #008000; text-decoration-color: #008000\">'J'</span><span style=\"font-weight: bold\">]</span>\n",
       " <span style=\"font-weight: bold\">[</span><span style=\"color: #008000; text-decoration-color: #008000\">'L'</span> <span style=\"color: #008000; text-decoration-color: #008000\">'J'</span> <span style=\"color: #008000; text-decoration-color: #008000\">'L'</span> <span style=\"color: #008000; text-decoration-color: #008000\">'-'</span> <span style=\"color: #008000; text-decoration-color: #008000\">'J'</span> <span style=\"color: #008000; text-decoration-color: #008000\">'F'</span><span style=\"font-weight: bold\">]]</span>\n",
       "</pre>\n"
      ],
      "text/plain": [
       "\u001b[1m[\u001b[0m\u001b[1m[\u001b[0m\u001b[32m'7'\u001b[0m \u001b[32m'7'\u001b[0m \u001b[32m'|'\u001b[0m \u001b[32m'L'\u001b[0m \u001b[32m'|'\u001b[0m \u001b[32m'F'\u001b[0m\u001b[1m]\u001b[0m\n",
       " \u001b[1m[\u001b[0m\u001b[32m'|'\u001b[0m \u001b[32m'F'\u001b[0m \u001b[32m'7'\u001b[0m \u001b[32m'F'\u001b[0m \u001b[32m'J'\u001b[0m \u001b[32m'L'\u001b[0m\u001b[1m]\u001b[0m\n",
       " \u001b[1m[\u001b[0m\u001b[32m'|'\u001b[0m \u001b[32m'|'\u001b[0m \u001b[32m'S'\u001b[0m \u001b[32m'L'\u001b[0m \u001b[32m'-'\u001b[0m \u001b[32m'7'\u001b[0m\u001b[1m]\u001b[0m\n",
       " \u001b[1m[\u001b[0m\u001b[32m'|'\u001b[0m \u001b[32m'|'\u001b[0m \u001b[32m'|'\u001b[0m \u001b[32m'|'\u001b[0m \u001b[32m'F'\u001b[0m \u001b[32m'J'\u001b[0m\u001b[1m]\u001b[0m\n",
       " \u001b[1m[\u001b[0m\u001b[32m'L'\u001b[0m \u001b[32m'J'\u001b[0m \u001b[32m'L'\u001b[0m \u001b[32m'-'\u001b[0m \u001b[32m'J'\u001b[0m \u001b[32m'F'\u001b[0m\u001b[1m]\u001b[0m\u001b[1m]\u001b[0m\n"
      ]
     },
     "metadata": {},
     "output_type": "display_data"
    }
   ],
   "source": [
    "print(A[20:25, 112:118])"
   ]
  },
  {
   "cell_type": "raw",
   "id": "32c59091-4abd-4046-9646-8f7fd59edd7d",
   "metadata": {},
   "source": [
    "# \"|\"\n",
    "\n",
    "(22, 114, \"|\", (0, 1), Dir.UP) ->  (23, 114)"
   ]
  },
  {
   "cell_type": "code",
   "execution_count": 70,
   "id": "92940438-71a0-40f6-8f81-28e6b71c10db",
   "metadata": {},
   "outputs": [],
   "source": [
    "from enum import Enum\n",
    "\n",
    "\n",
    "class Dir(Enum):\n",
    "    UP = (-1, 0)\n",
    "    DOWN = (1, 0)\n",
    "    LEFT = (0, -1)\n",
    "    RIGHT = (0, 1)"
   ]
  },
  {
   "cell_type": "code",
   "execution_count": 71,
   "id": "4620dc12-1bea-4b8f-be3b-dccecba49f97",
   "metadata": {},
   "outputs": [],
   "source": [
    "from typing import Tuple"
   ]
  },
  {
   "cell_type": "raw",
   "id": "efd44453-745b-48a6-a419-b732cc04d33f",
   "metadata": {},
   "source": [
    "pos = (1, 1)\n",
    "symbol = \"-\"\n",
    "direction = Dir.RIGHT\n",
    "v\n",
    "(1, 2)\n",
    "----\n",
    "\n",
    "pos = (1, 1)\n",
    "symbol = \"J\"\n",
    "direction = Dir.RIGHT\n",
    "v\n",
    "(0, 1)\n",
    "----"
   ]
  },
  {
   "cell_type": "code",
   "execution_count": 119,
   "id": "d3c426b3-995b-4e5a-adf0-beb42bb3a7dd",
   "metadata": {},
   "outputs": [],
   "source": [
    "change = {\n",
    "    (\"|\", Dir.UP): Dir.UP,\n",
    "    (\"|\", Dir.DOWN): Dir.DOWN,\n",
    "    (\"-\", Dir.LEFT): Dir.LEFT,\n",
    "    (\"-\", Dir.RIGHT): Dir.RIGHT,\n",
    "    (\"J\", Dir.DOWN): Dir.LEFT,\n",
    "    (\"J\", Dir.RIGHT): Dir.UP,\n",
    "    (\"F\", Dir.LEFT): Dir.DOWN,\n",
    "    (\"F\", Dir.UP): Dir.RIGHT,\n",
    "    (\"7\", Dir.RIGHT): Dir.DOWN,\n",
    "    (\"7\", Dir.UP): Dir.LEFT,\n",
    "    (\"L\", Dir.DOWN): Dir.RIGHT,\n",
    "    (\"L\", Dir.LEFT): Dir.UP,\n",
    "}\n",
    "\n",
    "\n",
    "def move(pos, symbol, direction):\n",
    "    new_direction = change.get((symbol, direction))\n",
    "    if new_direction is None:\n",
    "        return pos, direction\n",
    "    dy, dx = new_direction.value\n",
    "    new_pos = (pos[0] + dy, pos[1] + dx)\n",
    "    return new_pos, new_direction"
   ]
  },
  {
   "cell_type": "raw",
   "id": "e9c57876-e4ea-45ee-8897-e24e462f2f63",
   "metadata": {},
   "source": [
    "pos = (23, 114)\n",
    "direction = Dir.DOWN\n",
    "symbol = A[pos[0], pos[1]]\n",
    "n_steps = 0\n",
    "\n",
    "while symbol != \"S\":\n",
    "    pos, direction = move(pos, symbol, direction)\n",
    "    n_steps += 1\n",
    "    symbol = A[pos[0], pos[1]]\n",
    "\n",
    "int(np.ceil(n_steps / 2))"
   ]
  },
  {
   "cell_type": "markdown",
   "id": "d4559c2e-f19f-4481-8871-a9c8bbbfd46f",
   "metadata": {},
   "source": [
    "---"
   ]
  },
  {
   "cell_type": "code",
   "execution_count": 120,
   "id": "cca2d68c-a7cb-4283-991e-c32118ec6615",
   "metadata": {},
   "outputs": [],
   "source": [
    "from rich.jupyter import print"
   ]
  },
  {
   "cell_type": "code",
   "execution_count": 154,
   "id": "37f4a0a7-e36e-4576-80ae-8d442dd12b67",
   "metadata": {},
   "outputs": [],
   "source": [
    "import pandas as pd\n",
    "\n",
    "pd.set_option(\"display.width\", 180)"
   ]
  },
  {
   "cell_type": "code",
   "execution_count": 243,
   "id": "e00bdf5f-4b28-4397-a84a-31150b35173b",
   "metadata": {},
   "outputs": [
    {
     "data": {
      "text/html": [
       "<pre style=\"white-space:pre;overflow-x:auto;line-height:normal;font-family:Menlo,'DejaVu Sans Mono',consolas,'Courier New',monospace\">Initial: <span style=\"font-weight: bold\">(</span><span style=\"color: #008080; text-decoration-color: #008080; font-weight: bold\">22</span>, <span style=\"color: #008080; text-decoration-color: #008080; font-weight: bold\">114</span><span style=\"font-weight: bold\">)</span>\n",
       "</pre>\n"
      ],
      "text/plain": [
       "Initial: \u001b[1m(\u001b[0m\u001b[1;36m22\u001b[0m, \u001b[1;36m114\u001b[0m\u001b[1m)\u001b[0m\n"
      ]
     },
     "metadata": {},
     "output_type": "display_data"
    }
   ],
   "source": [
    "data = \"\"\".....\n",
    ".S-7.\n",
    ".|.|.\n",
    ".L-J.\n",
    ".....\"\"\"\n",
    "data = Path(\"data/10.txt\").read_text()\n",
    "\n",
    "A = data.split(\"\\n\")\n",
    "A = np.array([list(x) for x in A])\n",
    "\n",
    "posy, posx = np.where(A == \"S\")\n",
    "posy, posx = posy[0], posx[0]\n",
    "pos = (posy, posx)\n",
    "print(f\"Initial: {pos}\")\n",
    "\n",
    "poly = set([pos])\n",
    "cv_cnt = [np.array(pos).reshape(1, 2)]\n",
    "\n",
    "direction = Dir.DOWN\n",
    "symbol = A[pos[0], pos[1]]\n",
    "pos = (posy + 1, posx)\n",
    "symbol = A[pos[0], pos[1]]\n",
    "poly.add(pos)\n",
    "cv_cnt.append(np.array(pos).reshape(1, 2))\n",
    "\n",
    "while symbol != \"S\":\n",
    "    pos, direction = move(pos, symbol, direction)\n",
    "    poly.add(pos)\n",
    "    cv_cnt.append(np.array(pos).reshape(1, 2))\n",
    "    symbol = A[pos[0], pos[1]]\n",
    "cv_cnt = np.array(cv_cnt)"
   ]
  },
  {
   "cell_type": "code",
   "execution_count": 244,
   "id": "99926c9f-e9d9-4455-a9df-8aab0a4a5729",
   "metadata": {},
   "outputs": [],
   "source": [
    "import cv2\n",
    "\n",
    "import matplotlib.pyplot as plt"
   ]
  },
  {
   "cell_type": "code",
   "execution_count": 245,
   "id": "5d58599f-b0ef-44ea-a835-824bfd7aa287",
   "metadata": {},
   "outputs": [
    {
     "data": {
      "image/png": "[encoded data removed]",
      "text/plain": [
       "<Figure size 640x480 with 1 Axes>"
      ]
     },
     "metadata": {},
     "output_type": "display_data"
    }
   ],
   "source": [
    "mask = np.zeros_like(A, dtype=np.uint8)\n",
    "mask = cv2.drawContours(mask, [cv_cnt], -1, 1)\n",
    "\n",
    "plt.imshow(mask)\n",
    "plt.show()"
   ]
  },
  {
   "cell_type": "code",
   "execution_count": 246,
   "id": "8dbfecf9-ebf2-4e8d-8c40-9d95ddb6d1f2",
   "metadata": {},
   "outputs": [
    {
     "data": {
      "text/plain": [
       "529"
      ]
     },
     "execution_count": 246,
     "metadata": {},
     "output_type": "execute_result"
    }
   ],
   "source": [
    "answer = 0\n",
    "for y in range(len(A)):\n",
    "    for x in range(len(A[0])):\n",
    "        if (y, x) in poly:\n",
    "            continue\n",
    "        is_inside = cv2.pointPolygonTest(cv_cnt, (y, x), False) == 1\n",
    "        answer += int(is_inside)\n",
    "answer"
   ]
  }
 ],
 "metadata": {
  "kernelspec": {
   "display_name": "Python 3 (ipykernel)",
   "language": "python",
   "name": "python3"
  },
  "language_info": {
   "codemirror_mode": {
    "name": "ipython",
    "version": 3
   },
   "file_extension": ".py",
   "mimetype": "text/x-python",
   "name": "python",
   "nbconvert_exporter": "python",
   "pygments_lexer": "ipython3",
   "version": "3.10.9"
  }
 },
 "nbformat": 4,
 "nbformat_minor": 5
}
