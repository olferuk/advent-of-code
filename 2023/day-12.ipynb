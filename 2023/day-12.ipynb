{
 "cells": [
  {
   "cell_type": "code",
   "execution_count": 1,
   "id": "021c6e38-6268-433b-965a-6f8ff5145461",
   "metadata": {},
   "outputs": [],
   "source": [
    "%load_ext lab_black"
   ]
  },
  {
   "cell_type": "code",
   "execution_count": 2,
   "id": "e1cf117b-f468-4952-835c-6c0eb9f4c410",
   "metadata": {},
   "outputs": [],
   "source": [
    "from pathlib import Path"
   ]
  },
  {
   "cell_type": "code",
   "execution_count": 3,
   "id": "4fcefc11-7f8d-4159-a489-c6021b72f354",
   "metadata": {},
   "outputs": [],
   "source": [
    "data = Path(\"data/12.txt\").read_text()\n",
    "data = \"\"\"???.### 1,1,3\n",
    ".??..??...?##. 1,1,3\n",
    "?#?#?#?#?#?#?#? 1,3,1,6\n",
    "????.#...#... 4,1,1\n",
    "????.######..#####. 1,6,5\n",
    "?###???????? 3,2,1\"\"\""
   ]
  },
  {
   "cell_type": "code",
   "execution_count": 4,
   "id": "1573c2f1-8c02-443a-9156-720789f76f49",
   "metadata": {},
   "outputs": [],
   "source": [
    "lines = data.split(\"\\n\")\n",
    "jpn, numbers = zip(*[x.split() for x in lines])\n",
    "\n",
    "jpn = [list(x) for x in jpn]\n",
    "numbers = [list(map(int, x.split(\",\"))) for x in numbers]"
   ]
  },
  {
   "cell_type": "code",
   "execution_count": 5,
   "id": "588ab877-700c-405a-b05a-c073722bde56",
   "metadata": {},
   "outputs": [],
   "source": [
    "def count_acceptable(variants, rule):\n",
    "    successes = 0\n",
    "    for line in variants:\n",
    "        ok = True\n",
    "        for i in range(len(rule)):\n",
    "            if rule[i] == \"?\":\n",
    "                continue\n",
    "            if rule[i] != line[i]:\n",
    "                ok = False\n",
    "                break\n",
    "        successes += int(ok)\n",
    "    return successes"
   ]
  },
  {
   "cell_type": "code",
   "execution_count": 6,
   "id": "0f7e9811-492f-4b67-a68a-4dc97ed425f8",
   "metadata": {},
   "outputs": [],
   "source": [
    "from functools import lru_cache\n",
    "\n",
    "\n",
    "@lru_cache\n",
    "def spawn_one(block, length):\n",
    "    for i in range(length - block + 1):\n",
    "        yield list(\".\" * i + \"#\" * block + \".\" * (length - block - i))\n",
    "\n",
    "\n",
    "def all_spawns(numbers, length):\n",
    "    print(\"P\", numbers, length)\n",
    "    dof = length - (sum([x + 1 for x in numbers]) - 1)\n",
    "    print(length, dof)\n",
    "    number, rest_numbers = numbers[0], numbers[1:]\n",
    "    answer = []\n",
    "    for i in range(dof + 1):\n",
    "        result = [\".\"] * i + [\"#\"] * number + [\".\"]\n",
    "        print(result)\n",
    "        if len(rest_numbers) == 1:\n",
    "            others = spawn_one(rest_numbers[0], length - len(result))\n",
    "        else:\n",
    "            others = all_spawns(rest_numbers, length - len(result))\n",
    "        part = [result[::] + x for x in others]\n",
    "        answer.extend(part)\n",
    "    return answer"
   ]
  },
  {
   "cell_type": "code",
   "execution_count": 7,
   "id": "42df0a2b-7957-42ba-aa12-8035971f806a",
   "metadata": {},
   "outputs": [
    {
     "name": "stdout",
     "output_type": "stream",
     "text": [
      "[1, 1, 3]\n",
      "['?', '?', '?', '.', '#', '#', '#']\n",
      "7\n",
      "P [1, 1, 3] 7\n",
      "7 0\n",
      "['#', '.']\n",
      "P [1, 3] 5\n",
      "5 0\n",
      "['#', '.']\n"
     ]
    },
    {
     "data": {
      "text/plain": [
       "[['#', '.', '#', '.', '#', '#', '#']]"
      ]
     },
     "execution_count": 7,
     "metadata": {},
     "output_type": "execute_result"
    }
   ],
   "source": [
    "K = 0\n",
    "\n",
    "print(numbers[K])\n",
    "print(jpn[K])\n",
    "print(len(jpn[K]))\n",
    "\n",
    "# all_spawns(numbers[K], len(jpn[K]))\n",
    "all_spawns([1, 1, 3], 7)"
   ]
  },
  {
   "cell_type": "code",
   "execution_count": 8,
   "id": "3f13da7f-8e50-4ccd-943b-b3fbdf4d3148",
   "metadata": {},
   "outputs": [
    {
     "name": "stdout",
     "output_type": "stream",
     "text": [
      "P [1, 1, 3] 7\n",
      "7 0\n",
      "['#', '.']\n",
      "P [1, 3] 5\n",
      "5 0\n",
      "['#', '.']\n"
     ]
    },
    {
     "data": {
      "text/plain": [
       "[]"
      ]
     },
     "execution_count": 8,
     "metadata": {},
     "output_type": "execute_result"
    }
   ],
   "source": [
    "all_spawns([1, 1, 3], 7)"
   ]
  },
  {
   "cell_type": "code",
   "execution_count": 129,
   "id": "14e19be2-826e-4941-9069-1f933c725b03",
   "metadata": {},
   "outputs": [
    {
     "name": "stdout",
     "output_type": "stream",
     "text": [
      "???.###              [1, 1, 3]            0\n",
      "\t []\n",
      ".??..??...?##.       [1, 1, 3]            0\n",
      "\t []\n",
      "?#?#?#?#?#?#?#?      [1, 3, 1, 6]         0\n",
      "\t []\n",
      "????.#...#...        [4, 1, 1]            0\n",
      "\t []\n",
      "????.######..#####.  [1, 6, 5]            0\n",
      "\t []\n",
      "?###????????         [3, 2, 1]            0\n",
      "\t []\n"
     ]
    }
   ],
   "source": [
    "for K in range(len(jpn)):\n",
    "    spawns = all_spawns(numbers[K], len(jpn[K]))\n",
    "    total = count_acceptable(spawns, jpn[K])\n",
    "    print(\"\".join(jpn[K]).ljust(20), str(numbers[K]).ljust(20), total)\n",
    "    print(\"\\t\", spawns)"
   ]
  },
  {
   "cell_type": "markdown",
   "id": "cd35e6d9-7863-42af-b2f7-5f1514bb4368",
   "metadata": {},
   "source": [
    "---"
   ]
  },
  {
   "cell_type": "code",
   "execution_count": 10,
   "id": "494ab2b6-c1c1-494b-bd74-60737b397cde",
   "metadata": {},
   "outputs": [],
   "source": [
    "rule, numbers = list(\".?????#..??\"), [2, 3]"
   ]
  },
  {
   "cell_type": "code",
   "execution_count": 11,
   "id": "43da4418-f562-4178-884f-8762a4c61c94",
   "metadata": {},
   "outputs": [
    {
     "data": {
      "text/plain": [
       "['.', '?', '?', '?', '?', '?', '#', '.', '.', '?', '?']"
      ]
     },
     "execution_count": 11,
     "metadata": {},
     "output_type": "execute_result"
    }
   ],
   "source": [
    "rule"
   ]
  },
  {
   "cell_type": "code",
   "execution_count": null,
   "id": "d8667748-323a-4296-9b40-b7f0bc82dcd8",
   "metadata": {},
   "outputs": [],
   "source": [
    "answer = rule[::]\n",
    "k = 0\n",
    "i = 0\n",
    "while \n",
    "# for i in range(len(rule)):\n",
    "    "
   ]
  }
 ],
 "metadata": {
  "kernelspec": {
   "display_name": "Python 3 (ipykernel)",
   "language": "python",
   "name": "python3"
  },
  "language_info": {
   "codemirror_mode": {
    "name": "ipython",
    "version": 3
   },
   "file_extension": ".py",
   "mimetype": "text/x-python",
   "name": "python",
   "nbconvert_exporter": "python",
   "pygments_lexer": "ipython3",
   "version": "3.10.9"
  }
 },
 "nbformat": 4,
 "nbformat_minor": 5
}
