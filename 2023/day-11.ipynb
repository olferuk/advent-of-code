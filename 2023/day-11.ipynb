{
 "cells": [
  {
   "cell_type": "code",
   "execution_count": 89,
   "id": "53a2649f-cfe7-41cb-9416-f221f89cd5a9",
   "metadata": {},
   "outputs": [
    {
     "name": "stdout",
     "output_type": "stream",
     "text": [
      "The lab_black extension is already loaded. To reload it, use:\n",
      "  %reload_ext lab_black\n"
     ]
    }
   ],
   "source": [
    "%load_ext lab_black"
   ]
  },
  {
   "cell_type": "code",
   "execution_count": 90,
   "id": "495bd0b8-7af9-422a-8b19-9baa00637f99",
   "metadata": {},
   "outputs": [],
   "source": [
    "import numpy as np\n",
    "from pathlib import Path\n",
    "from scipy.sparse import coo_array"
   ]
  },
  {
   "cell_type": "code",
   "execution_count": 91,
   "id": "56b369c5-ae57-49b0-97a9-95dd3498a629",
   "metadata": {},
   "outputs": [
    {
     "data": {
      "text/plain": [
       "(10, 10)"
      ]
     },
     "execution_count": 91,
     "metadata": {},
     "output_type": "execute_result"
    }
   ],
   "source": [
    "data = \"\"\"...#......\n",
    ".......#..\n",
    "#.........\n",
    "..........\n",
    "......#...\n",
    ".#........\n",
    ".........#\n",
    "..........\n",
    ".......#..\n",
    "#...#.....\"\"\"\n",
    "# data = Path(\"data/11.txt\").read_text()\n",
    "\n",
    "proto = np.array([list(s) for s in data.split(\"\\n\")])\n",
    "proto.shape"
   ]
  },
  {
   "cell_type": "code",
   "execution_count": 179,
   "id": "907709aa-b33f-40f7-b92e-49d3808bf773",
   "metadata": {},
   "outputs": [],
   "source": [
    "import itertools\n",
    "\n",
    "\n",
    "def double_lines(array, times=2):\n",
    "    A = []\n",
    "    for line in array:\n",
    "        A.append(line)\n",
    "        if all([x == \".\" for x in line]):\n",
    "            for _ in range(times - 1):\n",
    "                A.append(line)\n",
    "    return np.array(A)\n",
    "\n",
    "\n",
    "def double_rows_cols(array, times=2):\n",
    "    return double_lines(double_lines(array, times).T, times).T\n",
    "\n",
    "\n",
    "def manhattan(p1, p2):\n",
    "    x1, y1 = p1\n",
    "    x2, y2 = p2\n",
    "    return abs(x1 - x2) + abs(y1 - y2)"
   ]
  },
  {
   "cell_type": "code",
   "execution_count": 180,
   "id": "081eed94-e2a0-4bbb-831d-88a68814bfe7",
   "metadata": {},
   "outputs": [
    {
     "data": {
      "text/plain": [
       "374"
      ]
     },
     "execution_count": 180,
     "metadata": {},
     "output_type": "execute_result"
    }
   ],
   "source": [
    "A = double_rows_cols(proto)\n",
    "\n",
    "ys, xs = np.where(A == \"#\")\n",
    "coords = list(zip(ys, xs))\n",
    "\n",
    "d = 0\n",
    "for p1, p2 in list(itertools.combinations(coords, 2)):\n",
    "    d += manhattan(p1, p2)\n",
    "d"
   ]
  },
  {
   "cell_type": "markdown",
   "id": "3a13e4a7-d625-42c5-8592-4f796a6573b4",
   "metadata": {},
   "source": [
    "---"
   ]
  },
  {
   "cell_type": "code",
   "execution_count": 185,
   "id": "21e1310c-37e5-424d-8507-053067cd9203",
   "metadata": {},
   "outputs": [
    {
     "data": {
      "text/plain": [
       "(140, 140)"
      ]
     },
     "execution_count": 185,
     "metadata": {},
     "output_type": "execute_result"
    }
   ],
   "source": [
    "# data = \"\"\"...#......\n",
    "# .......#..\n",
    "# #.........\n",
    "# ..........\n",
    "# ......#...\n",
    "# .#........\n",
    "# .........#\n",
    "# ..........\n",
    "# .......#..\n",
    "# #...#.....\"\"\"\n",
    "data = Path(\"data/11.txt\").read_text()\n",
    "\n",
    "A_orig = np.array([list(s) for s in data.split(\"\\n\")])\n",
    "A_orig.shape"
   ]
  },
  {
   "cell_type": "code",
   "execution_count": 186,
   "id": "3713a0c6-5031-4909-9b01-af8a9b69b1d5",
   "metadata": {},
   "outputs": [],
   "source": [
    "def expand_coords(ts, factor=1):\n",
    "    ts = ts.copy()\n",
    "    raises = np.array(sorted(set(range(min(ts), max(ts) + 1)) - set(ts)))\n",
    "    return np.array([t + (t > raises).sum() * factor for t in ts])"
   ]
  },
  {
   "cell_type": "code",
   "execution_count": 187,
   "id": "11e8edaa-2ff6-454e-9b3b-3e6bcf4ea10a",
   "metadata": {},
   "outputs": [
    {
     "data": {
      "text/plain": [
       "648458253817"
      ]
     },
     "execution_count": 187,
     "metadata": {},
     "output_type": "execute_result"
    }
   ],
   "source": [
    "expand = int(1e6) - 1\n",
    "\n",
    "ys, xs = np.where(A_orig == \"#\")\n",
    "ys, xs = expand_coords(ys, expand), expand_coords(xs, expand)\n",
    "coords = list(zip(ys, xs))\n",
    "\n",
    "d = 0\n",
    "for p1, p2 in list(itertools.combinations(coords, 2)):\n",
    "    d += manhattan(p1, p2)\n",
    "d"
   ]
  }
 ],
 "metadata": {
  "kernelspec": {
   "display_name": "Python 3 (ipykernel)",
   "language": "python",
   "name": "python3"
  },
  "language_info": {
   "codemirror_mode": {
    "name": "ipython",
    "version": 3
   },
   "file_extension": ".py",
   "mimetype": "text/x-python",
   "name": "python",
   "nbconvert_exporter": "python",
   "pygments_lexer": "ipython3",
   "version": "3.10.9"
  }
 },
 "nbformat": 4,
 "nbformat_minor": 5
}
