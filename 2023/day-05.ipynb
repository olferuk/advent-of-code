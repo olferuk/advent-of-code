{
 "cells": [
  {
   "cell_type": "code",
   "execution_count": 6,
   "id": "4c08b5cc-3982-4e48-b3ad-d6019ccb0c03",
   "metadata": {},
   "outputs": [
    {
     "name": "stdout",
     "output_type": "stream",
     "text": [
      "The lab_black extension is already loaded. To reload it, use:\n",
      "  %reload_ext lab_black\n"
     ]
    }
   ],
   "source": [
    "%load_ext lab_black"
   ]
  },
  {
   "cell_type": "code",
   "execution_count": 2,
   "id": "5b3fd143-b1f8-420e-b129-6d5b2d6409f4",
   "metadata": {},
   "outputs": [],
   "source": [
    "from pathlib import Path\n",
    "\n",
    "from bisect import bisect_left"
   ]
  },
  {
   "cell_type": "code",
   "execution_count": 3,
   "id": "fe662f68-5c7f-4f9b-ac29-6bf2f735d161",
   "metadata": {},
   "outputs": [
    {
     "data": {
      "text/plain": [
       "['seeds: 2637529854 223394899 3007537707 503983167 307349251 197383535 3543757609 276648400 2296792159 141010855 116452725 5160533 2246652813 49767336 762696372 160455077 3960442213 105867001 1197133308 38546766',\n",
       " '',\n",
       " 'seed-to-soil map:',\n",
       " '1024364543 1121869540 764570177',\n",
       " '1788934720 0 30748436',\n",
       " '710359306 576061773 314005237',\n",
       " '1819683156 509305212 66756561',\n",
       " '478556776 890067010 231802530',\n",
       " '0 30748436 478556776',\n",
       " '']"
      ]
     },
     "execution_count": 3,
     "metadata": {},
     "output_type": "execute_result"
    }
   ],
   "source": [
    "lines = Path(\"data/05.txt\").read_text().strip().split(\"\\n\")\n",
    "lines[:10]"
   ]
  },
  {
   "cell_type": "raw",
   "id": "b33764ed-7f57-4e99-92af-9fe45f86fb54",
   "metadata": {},
   "source": [
    "lines = \"\"\"seeds: 79 14 55 13\n",
    "\n",
    "seed-to-soil map:\n",
    "50 98 2\n",
    "52 50 48\n",
    "\n",
    "soil-to-fertilizer map:\n",
    "0 15 37\n",
    "37 52 2\n",
    "39 0 15\n",
    "\n",
    "fertilizer-to-water map:\n",
    "49 53 8\n",
    "0 11 42\n",
    "42 0 7\n",
    "57 7 4\n",
    "\n",
    "water-to-light map:\n",
    "88 18 7\n",
    "18 25 70\n",
    "\n",
    "light-to-temperature map:\n",
    "45 77 23\n",
    "81 45 19\n",
    "68 64 13\n",
    "\n",
    "temperature-to-humidity map:\n",
    "0 69 1\n",
    "1 0 69\n",
    "\n",
    "humidity-to-location map:\n",
    "60 56 37\n",
    "56 93 4\"\"\".split(\n",
    "    \"\\n\"\n",
    ")"
   ]
  },
  {
   "cell_type": "code",
   "execution_count": 4,
   "id": "16ed2578-7a17-4659-8905-e45a96a35cb8",
   "metadata": {},
   "outputs": [
    {
     "data": {
      "text/plain": [
       "[2637529854,\n",
       " 223394899,\n",
       " 3007537707,\n",
       " 503983167,\n",
       " 307349251,\n",
       " 197383535,\n",
       " 3543757609,\n",
       " 276648400,\n",
       " 2296792159,\n",
       " 141010855,\n",
       " 116452725,\n",
       " 5160533,\n",
       " 2246652813,\n",
       " 49767336,\n",
       " 762696372,\n",
       " 160455077,\n",
       " 3960442213,\n",
       " 105867001,\n",
       " 1197133308,\n",
       " 38546766]"
      ]
     },
     "execution_count": 4,
     "metadata": {},
     "output_type": "execute_result"
    }
   ],
   "source": [
    "seeds = list(map(int, lines[0].split(\":\")[-1].split()))\n",
    "seeds"
   ]
  },
  {
   "cell_type": "code",
   "execution_count": 5,
   "id": "83b59530-8c18-45e6-a022-beafbe73a12e",
   "metadata": {},
   "outputs": [],
   "source": [
    "seed2soil, soil2fert, fert2water, water2light, light2temp, temp2hum, hum2loc = (\n",
    "    [],\n",
    "    [],\n",
    "    [],\n",
    "    [],\n",
    "    [],\n",
    "    [],\n",
    "    [],\n",
    ")\n",
    "labels = [\n",
    "    \"seed2soil\",\n",
    "    \"soil2fert\",\n",
    "    \"fert2water\",\n",
    "    \"water2light\",\n",
    "    \"light2temp\",\n",
    "    \"temp2hum\",\n",
    "    \"hum2loc\",\n",
    "]\n",
    "\n",
    "maps = [seed2soil, soil2fert, fert2water, water2light, light2temp, temp2hum, hum2loc]\n",
    "k = -1\n",
    "for i, line in enumerate(lines[2:]):\n",
    "    if \"map\" in line:\n",
    "        k += 1\n",
    "        continue\n",
    "    if line == \"\":\n",
    "        continue\n",
    "    maps[k].append(list(map(int, line.split())))\n",
    "\n",
    "for k in range(len(maps)):\n",
    "    maps[k] = sorted(maps[k], key=lambda t: t[1])\n",
    "\n",
    "# maps"
   ]
  },
  {
   "cell_type": "markdown",
   "id": "f3ed8c29-a012-40f4-889d-2636ebf3fcf4",
   "metadata": {},
   "source": [
    "---"
   ]
  },
  {
   "cell_type": "code",
   "execution_count": 7,
   "id": "fd420b8d-c366-4732-9126-39347807c408",
   "metadata": {},
   "outputs": [
    {
     "data": {
      "text/plain": [
       "323142486"
      ]
     },
     "execution_count": 7,
     "metadata": {},
     "output_type": "execute_result"
    }
   ],
   "source": [
    "best_min = int(1e19)\n",
    "for seed in seeds:\n",
    "    # print(f\"SEED {seed}\")\n",
    "    result = seed\n",
    "\n",
    "    for k in range(len(maps)):\n",
    "        # print(f\"  {labels[k]} [{result}]\")\n",
    "        ranges = maps[k]\n",
    "        i_best = bisect_left(ranges, result, key=lambda t: t[1])\n",
    "        for s in range(i_best - 1, i_best + 2):\n",
    "            if not (0 <= s < len(ranges)):\n",
    "                continue\n",
    "            rng = ranges[s]\n",
    "            if rng[1] <= result < rng[1] + rng[2]:\n",
    "                result = result - rng[1] + rng[0]\n",
    "                break\n",
    "    best_min = min(best_min, result)\n",
    "    # print(result)\n",
    "    # print(\"---------\")\n",
    "best_min"
   ]
  },
  {
   "cell_type": "code",
   "execution_count": 8,
   "id": "be08ede6-34cb-4c46-9f01-6ae7a65c42d4",
   "metadata": {},
   "outputs": [],
   "source": [
    "from tqdm import tqdm"
   ]
  },
  {
   "cell_type": "code",
   "execution_count": 10,
   "id": "69a10e5b-bacd-4ffc-b2b9-2048089ad8db",
   "metadata": {},
   "outputs": [
    {
     "name": "stderr",
     "output_type": "stream",
     "text": [
      "100%|█████████████████████████| 223394899/223394899 [19:25<00:00, 191666.37it/s]\n",
      "100%|█████████████████████████| 503983167/503983167 [43:54<00:00, 191325.51it/s]\n",
      "100%|█████████████████████████| 197383535/197383535 [16:55<00:00, 194465.31it/s]\n",
      "100%|█████████████████████████| 276648400/276648400 [23:50<00:00, 193333.44it/s]\n",
      "100%|█████████████████████████| 141010855/141010855 [12:19<00:00, 190611.79it/s]\n",
      "100%|█████████████████████████████| 5160533/5160533 [00:26<00:00, 195066.77it/s]\n",
      "100%|███████████████████████████| 49767336/49767336 [04:23<00:00, 188551.48it/s]\n",
      "100%|█████████████████████████| 160455077/160455077 [13:42<00:00, 195105.07it/s]\n",
      "100%|█████████████████████████| 105867001/105867001 [08:59<00:00, 196327.43it/s]\n",
      "100%|███████████████████████████| 38546766/38546766 [03:06<00:00, 207117.71it/s]\n"
     ]
    },
    {
     "data": {
      "text/plain": [
       "79874951"
      ]
     },
     "execution_count": 10,
     "metadata": {},
     "output_type": "execute_result"
    }
   ],
   "source": [
    "best_min = int(1e19)\n",
    "for start, rng_len in zip(seeds[::2], seeds[1::2]):\n",
    "    for seed in tqdm(range(start, start + rng_len)):\n",
    "        # print(f\"SEED {seed}\")\n",
    "        result = seed\n",
    "\n",
    "        for k in range(len(maps)):\n",
    "            # print(f\"  {labels[k]} [{result}]\")\n",
    "            ranges = maps[k]\n",
    "            i_best = bisect_left(ranges, result, key=lambda t: t[1])\n",
    "            for s in range(i_best - 1, i_best + 2):\n",
    "                if not (0 <= s < len(ranges)):\n",
    "                    continue\n",
    "                rng = ranges[s]\n",
    "                if rng[1] <= result < rng[1] + rng[2]:\n",
    "                    result = result - rng[1] + rng[0]\n",
    "                    break\n",
    "        best_min = min(best_min, result)\n",
    "        # print(result)\n",
    "        # print(\"---------\")\n",
    "best_min"
   ]
  },
  {
   "cell_type": "code",
   "execution_count": 58,
   "id": "6dea9ecd-77ea-4fa6-a46b-023e050fbeb0",
   "metadata": {},
   "outputs": [],
   "source": [
    "class Range:\n",
    "    def __init__(self, min=None, max=None, dx=0):\n",
    "        if min is None:\n",
    "            min = float(\"-inf\")\n",
    "        if max is None:\n",
    "            max = float(\"inf\")\n",
    "        self.min = min\n",
    "        self.max = max\n",
    "        self.dx = dx\n",
    "\n",
    "    def __mul__(self, other):\n",
    "        if other.min > self.max or self.min > other.max:\n",
    "            return\n",
    "        return Range(\n",
    "            min=max(self.min, other.min),\n",
    "            max=min(self.max, other.max),\n",
    "            dx=self.dx + other.dx,\n",
    "        )\n",
    "\n",
    "    def __sub__(self, other):\n",
    "        u = self * other\n",
    "        if u is None:\n",
    "            return self\n",
    "        if self.min > u.min and self.max < u.max:\n",
    "            return (\n",
    "                Range(self.min, u.min - 1, self.dx),\n",
    "                Range(u.max + 1, self.max, self.dx),\n",
    "            )\n",
    "\n",
    "        if self.min < u.min:\n",
    "            return Range(self.min, u.min - 1, self.dx)\n",
    "        else:\n",
    "            return Range(u.max + 1, self.max, self.dx)\n",
    "\n",
    "    def __add__(self, other):\n",
    "        return Range(self.min + other, self.max + other, self.dx)\n",
    "\n",
    "    def __lt__(self, other):\n",
    "        if self.min != other.min:\n",
    "            return self.min < other.min\n",
    "        return self.max < other.max\n",
    "\n",
    "    def __str__(self) -> str:\n",
    "        return f\"Range(min={self.min}, max={self.max}, dx={self.dx})\"\n",
    "\n",
    "    def __repr__(self) -> str:\n",
    "        return str(self)"
   ]
  },
  {
   "cell_type": "code",
   "execution_count": 59,
   "id": "6dfb3b6f-4587-48d2-99d7-285af5d850ec",
   "metadata": {},
   "outputs": [
    {
     "name": "stdout",
     "output_type": "stream",
     "text": [
      "Range(min=10, max=11, dx=20)\n",
      "Range(min=9, max=9, dx=10)\n",
      "Range(min=12, max=15, dx=10)\n"
     ]
    }
   ],
   "source": [
    "a = Range(9, 11, 10)\n",
    "b = Range(10, 15, 10)\n",
    "\n",
    "print(a * b)\n",
    "print(a - b)\n",
    "print(b - a)"
   ]
  },
  {
   "cell_type": "code",
   "execution_count": 60,
   "id": "db1d41ed-0c9a-4005-94ce-8ed3af69d4cd",
   "metadata": {},
   "outputs": [
    {
     "data": {
      "text/plain": [
       "True"
      ]
     },
     "execution_count": 60,
     "metadata": {},
     "output_type": "execute_result"
    }
   ],
   "source": [
    "a < b"
   ]
  },
  {
   "cell_type": "code",
   "execution_count": 102,
   "id": "56ff0af3-7277-4008-8dc6-b13e92922d89",
   "metadata": {},
   "outputs": [
    {
     "name": "stdout",
     "output_type": "stream",
     "text": [
      "Merging Range(min=1, max=5, dx=999) with Range(min=3, max=6, dx=1000) here\n"
     ]
    }
   ],
   "source": [
    "A = [Range(1, 5, 999), Range(10, 15, 999)]\n",
    "B = [Range(3, 6, 1000)]\n",
    "\n",
    "ia, ib = 0, 0\n",
    "\n",
    "if A[ia] < B[ib]:\n",
    "    r = A[ia]\n",
    "    ia += 1\n",
    "    from_a = True\n",
    "else:\n",
    "    r = B[ib]\n",
    "    ib += 1\n",
    "    from_a = False\n",
    "\n",
    "R = [r]\n",
    "\n",
    "if from_a:\n",
    "    if B[ib] * r is not None:\n",
    "        # merge\n",
    "        print(f\"Merging {r} with {B[ib]} here\")\n",
    "        pass\n",
    "    else:\n",
    "        r = B[ib]\n",
    "        ib += 1\n",
    "        from_a = False\n",
    "        R.append(r)\n",
    "else:\n",
    "    if A[ia] * r is not None:\n",
    "        # merge\n",
    "        print(f\"Merging {r} with {A[ia]} here\")\n",
    "        pass\n",
    "    else:\n",
    "        r = A[ia]\n",
    "        ia += 1\n",
    "        from_a = True\n",
    "        R.append(r)"
   ]
  },
  {
   "cell_type": "code",
   "execution_count": 96,
   "id": "6c62e0b1-3b8d-4e72-82bf-35758d2238f6",
   "metadata": {},
   "outputs": [],
   "source": []
  },
  {
   "cell_type": "code",
   "execution_count": null,
   "id": "e51bf1a2-b626-4c90-bec7-1613415d2716",
   "metadata": {},
   "outputs": [],
   "source": []
  },
  {
   "cell_type": "code",
   "execution_count": null,
   "id": "c5f5f237-ab73-48f7-9549-1d27fa33c026",
   "metadata": {},
   "outputs": [],
   "source": []
  },
  {
   "cell_type": "code",
   "execution_count": null,
   "id": "e2f75827-e9c1-4c89-b930-c1dc928d2761",
   "metadata": {},
   "outputs": [],
   "source": []
  },
  {
   "cell_type": "code",
   "execution_count": null,
   "id": "4604e31e-1140-4c89-ab98-71dbeab2197c",
   "metadata": {},
   "outputs": [],
   "source": []
  },
  {
   "cell_type": "code",
   "execution_count": null,
   "id": "497cce25-14c2-48e2-8451-4770a9e07749",
   "metadata": {},
   "outputs": [],
   "source": []
  },
  {
   "cell_type": "code",
   "execution_count": null,
   "id": "623aea75-13b6-4bd6-8150-d838ca09c749",
   "metadata": {},
   "outputs": [],
   "source": []
  },
  {
   "cell_type": "code",
   "execution_count": null,
   "id": "e534d58a-d195-4cd9-bc45-4858b7afc21c",
   "metadata": {},
   "outputs": [],
   "source": []
  },
  {
   "cell_type": "code",
   "execution_count": null,
   "id": "535c0b76-7ffb-4c9e-a3b0-dc659f6c3e31",
   "metadata": {},
   "outputs": [],
   "source": []
  },
  {
   "cell_type": "code",
   "execution_count": null,
   "id": "413ec230-4dab-44bf-b654-5937aace539b",
   "metadata": {},
   "outputs": [],
   "source": []
  },
  {
   "cell_type": "code",
   "execution_count": null,
   "id": "6c1d965e-96fc-4057-966b-b5a70677ceae",
   "metadata": {},
   "outputs": [],
   "source": []
  },
  {
   "cell_type": "code",
   "execution_count": null,
   "id": "fb77a3b4-8515-45d4-bdd7-0a0eac9eb65a",
   "metadata": {},
   "outputs": [],
   "source": []
  },
  {
   "cell_type": "markdown",
   "id": "1e8e040c-c82e-414c-b5fa-83e63ff5e4e6",
   "metadata": {},
   "source": [
    "---"
   ]
  },
  {
   "cell_type": "code",
   "execution_count": 101,
   "id": "bb263418-4c4f-428d-bd89-664ca33083ae",
   "metadata": {},
   "outputs": [],
   "source": [
    "from tqdm import tqdm"
   ]
  },
  {
   "cell_type": "code",
   "execution_count": 108,
   "id": "d90c394d-84a7-4b12-bbed-8a6f112ed991",
   "metadata": {},
   "outputs": [],
   "source": [
    "lines = \"\"\"seeds: 79 14 55 13\n",
    "\n",
    "seed-to-soil map:\n",
    "50 98 2\n",
    "52 50 48\n",
    "\n",
    "soil-to-fertilizer map:\n",
    "0 15 37\n",
    "37 52 2\n",
    "39 0 15\n",
    "\n",
    "fertilizer-to-water map:\n",
    "49 53 8\n",
    "0 11 42\n",
    "42 0 7\n",
    "57 7 4\n",
    "\n",
    "water-to-light map:\n",
    "88 18 7\n",
    "18 25 70\n",
    "\n",
    "light-to-temperature map:\n",
    "45 77 23\n",
    "81 45 19\n",
    "68 64 13\n",
    "\n",
    "temperature-to-humidity map:\n",
    "0 69 1\n",
    "1 0 69\n",
    "\n",
    "humidity-to-location map:\n",
    "60 56 37\n",
    "56 93 4\"\"\".split(\n",
    "    \"\\n\"\n",
    ")"
   ]
  },
  {
   "cell_type": "code",
   "execution_count": 111,
   "id": "40818012-28a4-4d25-b832-14294413b5e6",
   "metadata": {},
   "outputs": [
    {
     "data": {
      "text/plain": [
       "[[50, 98, 2], [52, 50, 48]]"
      ]
     },
     "execution_count": 111,
     "metadata": {},
     "output_type": "execute_result"
    }
   ],
   "source": [
    "seed2soil"
   ]
  },
  {
   "cell_type": "code",
   "execution_count": 116,
   "id": "6f6222c1-bc21-441b-b2ee-8e163830cdbb",
   "metadata": {},
   "outputs": [],
   "source": [
    "from collections import namedtuple\n",
    "\n",
    "Range = namedtuple(\"Range\", [\"min\", \"max\", \"dx\"])"
   ]
  },
  {
   "cell_type": "code",
   "execution_count": 120,
   "id": "acb056b1-179b-4146-86df-e0c0d2120f02",
   "metadata": {},
   "outputs": [],
   "source": [
    "def build_ranges(ranges):\n",
    "    ranges = sorted(ranges, key=lambda t: t[1])\n",
    "    result = [Range(min=float(\"-inf\"), max=ranges[0][1] - 1, dx=0)]\n",
    "    for rng in ranges:\n",
    "        result.append(Range(min=rng[1], max=rng[1] + rng[2] - 1, dx=rng[1] - rng[0]))\n",
    "    result.append(Range(min=ranges[-1][1] + ranges[-1][2], max=float(\"inf\"), dx=0))\n",
    "    return result"
   ]
  },
  {
   "cell_type": "code",
   "execution_count": 121,
   "id": "07b33d39-d809-498c-9361-298149ceb659",
   "metadata": {},
   "outputs": [
    {
     "data": {
      "text/plain": [
       "[Range(min=-inf, max=49, dx=0),\n",
       " Range(min=50, max=97, dx=-2),\n",
       " Range(min=98, max=99, dx=48),\n",
       " Range(min=100, max=inf, dx=0)]"
      ]
     },
     "execution_count": 121,
     "metadata": {},
     "output_type": "execute_result"
    }
   ],
   "source": [
    "build_ranges(seed2soil)"
   ]
  },
  {
   "cell_type": "code",
   "execution_count": null,
   "id": "62b6ffc1-4619-494b-b597-37566b1e6d2b",
   "metadata": {},
   "outputs": [],
   "source": [
    "def subdivide(rangesA, rangesB):\n",
    "    ia, ib = 0, 0\n",
    "    result = []\n",
    "    if rangesA[ia].min < rangesB[ib].min:\n",
    "        result.append(Range(min=float(\"-inf\"), max=rangesA[ia].min - 1, dx=0))\n",
    "        if rangesA[ia].max < rangesB[ib].min:\n",
    "            result.append(Range(min=rangesA[ia].min, max=rangesA[ia].max, dx=rangesA[ia].dx))\n",
    "        else:\n",
    "            result.append(Range(min=rangesA[ia].min, max=rangesB[ib].min, dx=0))"
   ]
  }
 ],
 "metadata": {
  "kernelspec": {
   "display_name": "Python 3 (ipykernel)",
   "language": "python",
   "name": "python3"
  },
  "language_info": {
   "codemirror_mode": {
    "name": "ipython",
    "version": 3
   },
   "file_extension": ".py",
   "mimetype": "text/x-python",
   "name": "python",
   "nbconvert_exporter": "python",
   "pygments_lexer": "ipython3",
   "version": "3.10.9"
  }
 },
 "nbformat": 4,
 "nbformat_minor": 5
}
