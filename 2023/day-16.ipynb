{
 "cells": [
  {
   "cell_type": "code",
   "execution_count": 1,
   "id": "81ef82f5-eb38-4927-b4d1-22c62e56d451",
   "metadata": {},
   "outputs": [],
   "source": [
    "%load_ext lab_black"
   ]
  },
  {
   "cell_type": "code",
   "execution_count": 4,
   "id": "b7360026-77bb-4987-8898-c6ffc318b870",
   "metadata": {},
   "outputs": [],
   "source": [
    "from pathlib import Path\n",
    "import numpy as np"
   ]
  },
  {
   "cell_type": "code",
   "execution_count": 12,
   "id": "31ef36b6-7f93-4f51-b5b6-bf90a4bf3ebb",
   "metadata": {},
   "outputs": [],
   "source": [
    "test = r\"\"\".|...\\....\n",
    "|.-.\\.....\n",
    ".....|-...\n",
    "........|.\n",
    "..........\n",
    ".........\\\n",
    "..../.\\\\..\n",
    ".-.-/..|..\n",
    ".|....-|.\\\n",
    "..//.|....\"\"\"\n",
    "\n",
    "# test = Path(\"data/16.txt\").read_text()"
   ]
  },
  {
   "cell_type": "code",
   "execution_count": 15,
   "id": "93aed682-4a29-4566-bf58-978029c6ed5f",
   "metadata": {},
   "outputs": [],
   "source": [
    "A = np.array([list(x) for x in test.split(\"\\n\")])"
   ]
  },
  {
   "cell_type": "code",
   "execution_count": 16,
   "id": "e2d2ef05-3687-405a-bacc-3f0d897b58c0",
   "metadata": {},
   "outputs": [
    {
     "data": {
      "text/plain": [
       "array([['.', '|', '.', '.', '.', '\\\\', '.', '.', '.', '.'],\n",
       "       ['|', '.', '-', '.', '\\\\', '.', '.', '.', '.', '.'],\n",
       "       ['.', '.', '.', '.', '.', '|', '-', '.', '.', '.'],\n",
       "       ['.', '.', '.', '.', '.', '.', '.', '.', '|', '.'],\n",
       "       ['.', '.', '.', '.', '.', '.', '.', '.', '.', '.'],\n",
       "       ['.', '.', '.', '.', '.', '.', '.', '.', '.', '\\\\'],\n",
       "       ['.', '.', '.', '.', '/', '.', '\\\\', '\\\\', '.', '.'],\n",
       "       ['.', '-', '.', '-', '/', '.', '.', '|', '.', '.'],\n",
       "       ['.', '|', '.', '.', '.', '.', '-', '|', '.', '\\\\'],\n",
       "       ['.', '.', '/', '/', '.', '|', '.', '.', '.', '.']], dtype='<U1')"
      ]
     },
     "execution_count": 16,
     "metadata": {},
     "output_type": "execute_result"
    }
   ],
   "source": [
    "A"
   ]
  },
  {
   "cell_type": "code",
   "execution_count": null,
   "id": "91cfc0bf-f7e9-48ac-ba28-cd3c991dc768",
   "metadata": {},
   "outputs": [],
   "source": []
  }
 ],
 "metadata": {
  "kernelspec": {
   "display_name": "Python 3 (ipykernel)",
   "language": "python",
   "name": "python3"
  },
  "language_info": {
   "codemirror_mode": {
    "name": "ipython",
    "version": 3
   },
   "file_extension": ".py",
   "mimetype": "text/x-python",
   "name": "python",
   "nbconvert_exporter": "python",
   "pygments_lexer": "ipython3",
   "version": "3.10.9"
  }
 },
 "nbformat": 4,
 "nbformat_minor": 5
}
