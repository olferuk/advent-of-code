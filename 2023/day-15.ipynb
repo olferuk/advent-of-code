{
 "cells": [
  {
   "cell_type": "code",
   "execution_count": 1,
   "id": "3f0025c1-295b-40f0-95e1-64e99ce9e1c7",
   "metadata": {},
   "outputs": [],
   "source": [
    "%load_ext lab_black"
   ]
  },
  {
   "cell_type": "code",
   "execution_count": 9,
   "id": "2d57f4c2-c3b9-457b-acd7-e9f848799629",
   "metadata": {},
   "outputs": [],
   "source": [
    "from pathlib import Path"
   ]
  },
  {
   "cell_type": "code",
   "execution_count": 51,
   "id": "f057a0ef-0371-4213-9c69-89b88fc9e251",
   "metadata": {},
   "outputs": [],
   "source": [
    "def string_transform(s):\n",
    "    x = 0\n",
    "    for c in s:\n",
    "        x += ord(c)\n",
    "        x *= 17\n",
    "        x %= 256\n",
    "    return x\n",
    "\n",
    "\n",
    "def hash_transform(x):\n",
    "    for c in \"HASH\":\n",
    "        x += ord(c)\n",
    "        x *= 17\n",
    "        x %= 256\n",
    "    return x"
   ]
  },
  {
   "cell_type": "code",
   "execution_count": 48,
   "id": "eb459171-9731-4469-96a1-7022381c242b",
   "metadata": {},
   "outputs": [],
   "source": [
    "test = \"rn=1,cm-,qp=3,cm=2,qp-,pc=4,ot=9,ab=5,pc-,pc=6,ot=7\"\n",
    "\n",
    "# test = Path(\"data/15.txt\").read_text().strip()"
   ]
  },
  {
   "cell_type": "code",
   "execution_count": 49,
   "id": "c658ffdb-0432-45e4-9d04-3411055ad50a",
   "metadata": {},
   "outputs": [],
   "source": [
    "tokens = test.split(\",\")"
   ]
  },
  {
   "cell_type": "code",
   "execution_count": 50,
   "id": "7520cb0e-46bf-4f6e-9a71-3ecba3666183",
   "metadata": {},
   "outputs": [
    {
     "data": {
      "text/plain": [
       "1320"
      ]
     },
     "execution_count": 50,
     "metadata": {},
     "output_type": "execute_result"
    }
   ],
   "source": [
    "sum([string_transform(t) for t in tokens])"
   ]
  },
  {
   "cell_type": "markdown",
   "id": "7f53ecd9-355f-4c18-b6f1-9a1fca8014ac",
   "metadata": {},
   "source": [
    "---"
   ]
  },
  {
   "cell_type": "code",
   "execution_count": 44,
   "id": "3d06757c-1e8a-4850-979e-a55611ee7f81",
   "metadata": {},
   "outputs": [],
   "source": [
    "from collections import defaultdict"
   ]
  },
  {
   "cell_type": "code",
   "execution_count": 54,
   "id": "65e82cd9-b37d-4064-b9a6-8b4d7d6cc7d3",
   "metadata": {},
   "outputs": [
    {
     "data": {
      "text/plain": [
       "1"
      ]
     },
     "execution_count": 54,
     "metadata": {},
     "output_type": "execute_result"
    }
   ],
   "source": [
    "string_transform(\"qp\")"
   ]
  },
  {
   "cell_type": "code",
   "execution_count": 67,
   "id": "d3899506-2de1-4cea-953a-c07e8737cafb",
   "metadata": {},
   "outputs": [],
   "source": [
    "boxes = defaultdict(list)\n",
    "\n",
    "for p, token in enumerate(tokens):\n",
    "    if \"=\" in token:\n",
    "        label, number = token.split(\"=\")\n",
    "        number = int(number)\n",
    "        box_i = string_transform(label)\n",
    "\n",
    "        found = False\n",
    "        for i in range(len(boxes[box_i])):\n",
    "            if boxes[box_i][i][0] == label:\n",
    "                boxes[box_i][i] = (label, number)\n",
    "                found = True\n",
    "                break\n",
    "        if not found:\n",
    "            boxes[box_i].append((label, number))\n",
    "\n",
    "    elif \"-\" in token:\n",
    "        label = token[:-1]\n",
    "        box_i = string_transform(label)\n",
    "        # print(\"\\t\", label, \"->\", box_i)\n",
    "\n",
    "        # try delete\n",
    "        to_del = -1\n",
    "        for i in range(len(boxes[box_i])):\n",
    "            if boxes[box_i][i][0] == label:\n",
    "                to_del = i\n",
    "                break\n",
    "        if to_del != -1:\n",
    "            boxes[box_i].pop(to_del)\n",
    "\n",
    "    # print(dict(boxes))\n",
    "    # print(\"------\")"
   ]
  },
  {
   "cell_type": "code",
   "execution_count": null,
   "id": "5ee7195f-13b4-46e4-b502-c091a0f656c5",
   "metadata": {},
   "outputs": [],
   "source": []
  }
 ],
 "metadata": {
  "kernelspec": {
   "display_name": "Python 3 (ipykernel)",
   "language": "python",
   "name": "python3"
  },
  "language_info": {
   "codemirror_mode": {
    "name": "ipython",
    "version": 3
   },
   "file_extension": ".py",
   "mimetype": "text/x-python",
   "name": "python",
   "nbconvert_exporter": "python",
   "pygments_lexer": "ipython3",
   "version": "3.10.9"
  }
 },
 "nbformat": 4,
 "nbformat_minor": 5
}
