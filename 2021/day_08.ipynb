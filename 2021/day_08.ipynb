{
 "cells": [
  {
   "cell_type": "code",
   "execution_count": 1,
   "id": "c4d2e7e7-d646-4d46-9006-606958e018dd",
   "metadata": {},
   "outputs": [],
   "source": [
    "%load_ext lab_black\n",
    "\n",
    "from puzzles import load_puzzle\n",
    "\n",
    "s = load_puzzle(8)"
   ]
  },
  {
   "cell_type": "markdown",
   "id": "cbf4776d-92cc-41f0-873a-e85c2f679a9b",
   "metadata": {},
   "source": [
    "# First part"
   ]
  },
  {
   "cell_type": "markdown",
   "id": "8c14e445-549a-406d-96c2-386e4a0886e6",
   "metadata": {},
   "source": [
    "Occasionally solved the second one first, without even knowing the task :)"
   ]
  },
  {
   "cell_type": "markdown",
   "id": "dff74a24-f6b3-4ff6-92ad-763b3f22bdf8",
   "metadata": {},
   "source": [
    "Number -> Number of segments\n",
    "\n",
    "```python\n",
    "0 -> 6\n",
    "1 -> 2\n",
    "2 -> 5\n",
    "3 -> 5\n",
    "4 -> 4\n",
    "5 -> 5\n",
    "6 -> 6\n",
    "7 -> 3\n",
    "8 -> 7\n",
    "9 -> 6\n",
    "```"
   ]
  },
  {
   "cell_type": "markdown",
   "id": "9ff52915-dccf-4db4-ba11-4648e2db9e92",
   "metadata": {},
   "source": [
    " "
   ]
  },
  {
   "cell_type": "markdown",
   "id": "4b8e0db3-28ad-472f-8a76-33fe39581bae",
   "metadata": {},
   "source": [
    "Number of segments -> Number\n",
    "\n",
    "```python\n",
    "2 -> 1\n",
    "3 -> 7\n",
    "4 -> 4\n",
    "5 -> 2\n",
    "5 -> 3\n",
    "5 -> 5\n",
    "6 -> 0\n",
    "6 -> 6\n",
    "6 -> 9\n",
    "7 -> 8\n",
    "```"
   ]
  },
  {
   "cell_type": "code",
   "execution_count": 264,
   "id": "0e876903-5ff1-4569-895c-937a799909e4",
   "metadata": {
    "tags": []
   },
   "outputs": [],
   "source": [
    "to_num = {\n",
    "    \"abcefg\": 0,\n",
    "    \"cf\": 1,\n",
    "    \"acdeg\": 2,\n",
    "    \"acdfg\": 3,\n",
    "    \"bcdf\": 4,\n",
    "    \"abdfg\": 5,\n",
    "    \"abdefg\": 6,\n",
    "    \"acf\": 7,\n",
    "    \"abcdefg\": 8,\n",
    "    \"abcdfg\": 9,\n",
    "}\n",
    "\n",
    "\n",
    "def get(tokens, length):\n",
    "    return [set(x) for x in tokens if len(x) == length]\n",
    "\n",
    "\n",
    "def solve(tokens):\n",
    "    all_letters = set(\"abcdefg\")\n",
    "\n",
    "    twos = get(tokens, 2)  # !\n",
    "    threes = get(tokens, 3)  # !\n",
    "    fours = get(tokens, 4)  # !\n",
    "    fives = get(tokens, 5)\n",
    "    sixes = get(tokens, 6)\n",
    "    sevens = get(tokens, 7)  # !\n",
    "\n",
    "    cf_group = twos[0]\n",
    "    acf_group = threes[0]\n",
    "    bd_group = fours[0] - twos[0]\n",
    "    adg_group = fives[0] & fives[1] & fives[2]\n",
    "    abfg_group = sixes[0] & sixes[1] & sixes[2]\n",
    "\n",
    "    letter_a = adg_group & acf_group\n",
    "    letter_b = abfg_group & bd_group\n",
    "    letter_f = abfg_group & cf_group\n",
    "    letter_c = cf_group - letter_f\n",
    "    letter_d = adg_group & bd_group\n",
    "    letter_g = adg_group - letter_a - letter_d\n",
    "    letter_e = all_letters - abfg_group - letter_c - letter_d\n",
    "\n",
    "    decoding = {\n",
    "        letter_a.pop(): \"a\",\n",
    "        letter_b.pop(): \"b\",\n",
    "        letter_c.pop(): \"c\",\n",
    "        letter_d.pop(): \"d\",\n",
    "        letter_e.pop(): \"e\",\n",
    "        letter_f.pop(): \"f\",\n",
    "        letter_g.pop(): \"g\",\n",
    "    }\n",
    "    return decoding\n",
    "\n",
    "\n",
    "def decode_nums(tokens, dec, to_num):\n",
    "    return [to_num[\"\".join(sorted([dec[c] for c in token]))] for token in tokens]"
   ]
  },
  {
   "cell_type": "code",
   "execution_count": 265,
   "id": "52c275ec-cc6f-4188-af85-00564663b231",
   "metadata": {},
   "outputs": [],
   "source": [
    "all_code_nums = []\n",
    "for line in s.strip().split(\"\\n\"):\n",
    "    cypher, code = line.split(\" | \")\n",
    "    dec = solve(cypher.split())\n",
    "    number_code = decode_nums(code.split(), dec, to_num)\n",
    "    all_code_nums.extend(number_code)"
   ]
  },
  {
   "cell_type": "code",
   "execution_count": 267,
   "id": "7ea1cd6b-5215-4d16-b016-65be90f7fb64",
   "metadata": {},
   "outputs": [],
   "source": [
    "import pandas as pd"
   ]
  },
  {
   "cell_type": "code",
   "execution_count": 273,
   "id": "9751bd51-868c-4999-b726-7f42432710b9",
   "metadata": {},
   "outputs": [
    {
     "data": {
      "text/plain": [
       "421"
      ]
     },
     "execution_count": 273,
     "metadata": {},
     "output_type": "execute_result"
    }
   ],
   "source": [
    "df = pd.Series(all_code_nums).value_counts().reset_index()\n",
    "df.loc[df[\"index\"].isin([1, 4, 7, 8]), 0].sum()"
   ]
  },
  {
   "cell_type": "markdown",
   "id": "79ab99c4-a243-4d7b-8f61-c4e432f04c86",
   "metadata": {},
   "source": [
    "# Second part"
   ]
  },
  {
   "cell_type": "code",
   "execution_count": 277,
   "id": "84b30948-2319-493e-abb4-461b9fdfbef9",
   "metadata": {},
   "outputs": [
    {
     "data": {
      "text/plain": [
       "986163"
      ]
     },
     "execution_count": 277,
     "metadata": {},
     "output_type": "execute_result"
    }
   ],
   "source": [
    "S = 0\n",
    "for line in s.strip().split(\"\\n\"):\n",
    "    cypher, code = line.split(\" | \")\n",
    "    dec = solve(cypher.split())\n",
    "    number_code = decode_nums(code.split(), dec, to_num)\n",
    "    S += int(\"\".join([str(x) for x in number_code]))\n",
    "S"
   ]
  }
 ],
 "metadata": {
  "kernelspec": {
   "display_name": "platy-segmentation",
   "language": "python",
   "name": "platy-segmentation"
  },
  "language_info": {
   "codemirror_mode": {
    "name": "ipython",
    "version": 3
   },
   "file_extension": ".py",
   "mimetype": "text/x-python",
   "name": "python",
   "nbconvert_exporter": "python",
   "pygments_lexer": "ipython3",
   "version": "3.9.6"
  }
 },
 "nbformat": 4,
 "nbformat_minor": 5
}
