{
 "cells": [
  {
   "cell_type": "code",
   "execution_count": 1,
   "id": "ef5d8465-4a24-4bf6-a596-97ace0b9ef89",
   "metadata": {},
   "outputs": [],
   "source": [
    "%load_ext lab_black"
   ]
  },
  {
   "cell_type": "code",
   "execution_count": 8,
   "id": "a3ec975d-0cea-426e-890a-2b0c0d683652",
   "metadata": {},
   "outputs": [],
   "source": [
    "from puzzles import load\n",
    "\n",
    "import numpy as np\n",
    "import matplotlib.pyplot as plt"
   ]
  },
  {
   "cell_type": "code",
   "execution_count": 3,
   "id": "eb361470-f686-4ab7-bcea-fb3467c022c6",
   "metadata": {},
   "outputs": [
    {
     "data": {
      "text/plain": [
       "'target area: x=48..70, y=-189..-148\\n'"
      ]
     },
     "execution_count": 3,
     "metadata": {},
     "output_type": "execute_result"
    }
   ],
   "source": [
    "load(17)"
   ]
  },
  {
   "cell_type": "code",
   "execution_count": 16,
   "id": "b22dc22c-5665-4399-a9f8-9535d5e5e71d",
   "metadata": {},
   "outputs": [],
   "source": [
    "A = np.zeros([300, 300], dtype=np.uint8)\n",
    "\n",
    "A[48:71, 148:190] = 1"
   ]
  },
  {
   "cell_type": "code",
   "execution_count": 39,
   "id": "d9e5a168-5e41-4984-bd03-acae1dfa8e39",
   "metadata": {},
   "outputs": [],
   "source": [
    "from itertools import product"
   ]
  },
  {
   "cell_type": "code",
   "execution_count": 58,
   "id": "b7e8ff95-34b4-4ee7-8d5a-fc10375dc1c0",
   "metadata": {},
   "outputs": [],
   "source": [
    "from tqdm import tqdm"
   ]
  },
  {
   "cell_type": "code",
   "execution_count": 68,
   "id": "cf9b870a-6b22-488f-ac7d-0853fc3719a9",
   "metadata": {},
   "outputs": [],
   "source": [
    "xmin, xmax = 48, 70\n",
    "\n",
    "ok = []\n",
    "for dx in range(5, 90):\n",
    "    dx_orig = dx\n",
    "    x = 0\n",
    "    while dx > 0:\n",
    "        x += dx\n",
    "        dx -= 1\n",
    "    if xmin <= x <= xmax:\n",
    "        ok.append(dx_orig)"
   ]
  },
  {
   "cell_type": "code",
   "execution_count": 69,
   "id": "01e980d2-32b0-4b45-9e24-03f774caaa32",
   "metadata": {},
   "outputs": [
    {
     "data": {
      "text/plain": [
       "[10, 11]"
      ]
     },
     "execution_count": 69,
     "metadata": {},
     "output_type": "execute_result"
    }
   ],
   "source": [
    "ok"
   ]
  },
  {
   "cell_type": "code",
   "execution_count": 112,
   "id": "4ee16584-5470-4f83-8476-53e6aeeeb457",
   "metadata": {},
   "outputs": [
    {
     "name": "stderr",
     "output_type": "stream",
     "text": [
      "100%|█████████████████████████████████████████████████████████████████████████████████████████████████████████████████████████████████████████████████| 70/70 [00:13<00:00,  5.09it/s]\n"
     ]
    },
    {
     "data": {
      "text/plain": [
       "(17766, 1733)"
      ]
     },
     "execution_count": 112,
     "metadata": {},
     "output_type": "execute_result"
    }
   ],
   "source": [
    "xmin, xmax, ymin, ymax = 48, 70, -189, -148\n",
    "# xmin, xmax, ymin, ymax = 20, 30, -10, -5\n",
    "\n",
    "successes = set()\n",
    "h_max = -1\n",
    "\n",
    "for dx_init in tqdm(range(1, 71)):\n",
    "    for dy_init in range(-200, 1000):\n",
    "\n",
    "        dx, dy = dx_init, dy_init\n",
    "        x, y, h = 0, 0, 0\n",
    "        # trajectory = [(0, 0)]\n",
    "\n",
    "        while True:\n",
    "            x += dx\n",
    "            y += dy\n",
    "            h = max(h, y)\n",
    "\n",
    "            # trajectory.append((y, x))\n",
    "\n",
    "            if xmin <= x <= xmax and ymin <= y <= ymax:\n",
    "                s = 1\n",
    "                if h > h_max:\n",
    "                    h_max = h\n",
    "                successes.add((dx_init, dy_init))\n",
    "                break\n",
    "\n",
    "            if x > xmax or y < ymin:\n",
    "                s = 0\n",
    "                break\n",
    "\n",
    "            dx = max(0, dx - 1)\n",
    "            dy -= 1\n",
    "\n",
    "        # if s == 0:\n",
    "        #     continue\n",
    "        # trajectory = np.array(trajectory)\n",
    "        # plt.figure(figsize=(1.5, 1.5))\n",
    "        # plt.scatter(trajectory[:, 1], trajectory[:, 0], c=\"orange\")\n",
    "        # xs = [xmin, xmax, xmax, xmin, xmin]\n",
    "        # ys = [ymin, ymin, ymax, ymax, ymin]\n",
    "        # plt.plot(xs, ys, color=\"red\")\n",
    "        # t = \"Success\" if s == 1 else \"Failure\"\n",
    "        # plt.title(f\"{dx_init} {dy_init} — {t}\")\n",
    "        # plt.show()\n",
    "\n",
    "# h_max, len(successes)\n",
    "\n",
    "h_max, len(successes)"
   ]
  },
  {
   "cell_type": "code",
   "execution_count": 113,
   "id": "bd1e432a-b637-4e0c-83d1-b10653de3ebd",
   "metadata": {},
   "outputs": [
    {
     "data": {
      "text/plain": [
       "<matplotlib.collections.PathCollection at 0x7fa354992950>"
      ]
     },
     "execution_count": 113,
     "metadata": {},
     "output_type": "execute_result"
    },
    {
     "data": {
      "image/png": "[encoded data removed]",
      "text/plain": [
       "<Figure size 432x288 with 1 Axes>"
      ]
     },
     "metadata": {
      "needs_background": "light"
     },
     "output_type": "display_data"
    }
   ],
   "source": [
    "C = np.array(list(successes))\n",
    "plt.scatter(C[:, 0], C[:, 1])"
   ]
  },
  {
   "cell_type": "markdown",
   "id": "a4eb5ddf-97e6-4a75-b1c4-5bf6e6fec0f8",
   "metadata": {},
   "source": [
    "---"
   ]
  },
  {
   "cell_type": "code",
   "execution_count": null,
   "id": "57327b0a-4f1a-4e40-af61-ab0ea065faba",
   "metadata": {},
   "outputs": [],
   "source": [
    "all_cases = [\n",
    "    (23, -10),\n",
    "    (25, -7),\n",
    "    (8, 0),\n",
    "    (26, -10),\n",
    "    (20, -8),\n",
    "    (25, -6),\n",
    "    (25, -10),\n",
    "    (8, 1),\n",
    "    (24, -10),\n",
    "    (7, 5),\n",
    "    (23, -5),\n",
    "    (27, -10),\n",
    "    (8, -2),\n",
    "    (25, -9),\n",
    "    (26, -6),\n",
    "    (30, -6),\n",
    "    (7, -1),\n",
    "    (13, -2),\n",
    "    (15, -4),\n",
    "    (7, 8),\n",
    "    (22, -8),\n",
    "    (23, -8),\n",
    "    (23, -6),\n",
    "    (24, -8),\n",
    "    (7, 2),\n",
    "    (27, -8),\n",
    "    (24, -5),\n",
    "    (28, -7),\n",
    "    (21, -6),\n",
    "    (14, -3),\n",
    "    (25, -8),\n",
    "    (23, -7),\n",
    "    (27, -6),\n",
    "    (7, 4),\n",
    "    (6, 5),\n",
    "    (13, -3),\n",
    "    (21, -5),\n",
    "    (29, -5),\n",
    "    (27, -7),\n",
    "    (6, 3),\n",
    "    (14, -4),\n",
    "    (30, -10),\n",
    "    (26, -8),\n",
    "    (24, -6),\n",
    "    (22, -10),\n",
    "    (26, -9),\n",
    "    (22, -9),\n",
    "    (29, -7),\n",
    "    (6, 6),\n",
    "    (6, 9),\n",
    "    (9, 0),\n",
    "    (29, -10),\n",
    "    (6, 1),\n",
    "    (20, -7),\n",
    "    (22, -5),\n",
    "    (12, -3),\n",
    "    (6, 0),\n",
    "    (12, -4),\n",
    "    (26, -5),\n",
    "    (14, -2),\n",
    "    (7, 9),\n",
    "    (20, -6),\n",
    "    (21, -7),\n",
    "    (20, -5),\n",
    "    (6, 4),\n",
    "    (6, 2),\n",
    "    (15, -3),\n",
    "    (28, -9),\n",
    "    (23, -9),\n",
    "    (11, -4),\n",
    "    (10, -1),\n",
    "    (20, -9),\n",
    "    (21, -10),\n",
    "    (24, -9),\n",
    "    (22, -6),\n",
    "    (11, -2),\n",
    "    (6, 7),\n",
    "    (21, -9),\n",
    "    (29, -9),\n",
    "    (12, -2),\n",
    "    (7, 1),\n",
    "    (28, -6),\n",
    "    (9, -1),\n",
    "    (11, -1),\n",
    "    (28, -5),\n",
    "    (22, -7),\n",
    "    (29, -6),\n",
    "    (6, 8),\n",
    "    (20, -10),\n",
    "    (8, -1),\n",
    "    (28, -8),\n",
    "    (15, -2),\n",
    "    (26, -7),\n",
    "    (7, 6),\n",
    "    (7, 0),\n",
    "    (10, -2),\n",
    "    (30, -7),\n",
    "    (21, -8),\n",
    "    (24, -7),\n",
    "    (27, -5),\n",
    "    (25, -5),\n",
    "    (29, -8),\n",
    "    (7, 7),\n",
    "    (7, 3),\n",
    "    (9, -2),\n",
    "    (11, -3),\n",
    "    (13, -4),\n",
    "    (30, -8),\n",
    "    (28, -10),\n",
    "    (27, -9),\n",
    "    (30, -9),\n",
    "    (30, -5),\n",
    "]"
   ]
  },
  {
   "cell_type": "code",
   "execution_count": 89,
   "id": "47bcd1f5-ae61-4183-9cd7-ea3b448a6106",
   "metadata": {},
   "outputs": [
    {
     "data": {
      "text/plain": [
       "<matplotlib.collections.PathCollection at 0x7fa35343d8d0>"
      ]
     },
     "execution_count": 89,
     "metadata": {},
     "output_type": "execute_result"
    },
    {
     "data": {
      "image/png": "[encoded data removed]",
      "text/plain": [
       "<Figure size 432x288 with 1 Axes>"
      ]
     },
     "metadata": {
      "needs_background": "light"
     },
     "output_type": "display_data"
    }
   ],
   "source": [
    "C = np.array(all_cases)\n",
    "plt.scatter(C[:, 0], C[:, 1])"
   ]
  },
  {
   "cell_type": "code",
   "execution_count": 81,
   "id": "50d4f401-673a-48fd-b6a4-ed9cb040a6b3",
   "metadata": {},
   "outputs": [
    {
     "data": {
      "text/plain": [
       "112"
      ]
     },
     "execution_count": 81,
     "metadata": {},
     "output_type": "execute_result"
    }
   ],
   "source": [
    "len(sorted(all_cases))"
   ]
  },
  {
   "cell_type": "code",
   "execution_count": null,
   "id": "0f76729f-8293-4400-8928-49f4f221b93a",
   "metadata": {},
   "outputs": [],
   "source": []
  }
 ],
 "metadata": {
  "kernelspec": {
   "display_name": "Python (DE)",
   "language": "python",
   "name": "python3"
  },
  "language_info": {
   "codemirror_mode": {
    "name": "ipython",
    "version": 3
   },
   "file_extension": ".py",
   "mimetype": "text/x-python",
   "name": "python",
   "nbconvert_exporter": "python",
   "pygments_lexer": "ipython3",
   "version": "3.7.12"
  }
 },
 "nbformat": 4,
 "nbformat_minor": 5
}
