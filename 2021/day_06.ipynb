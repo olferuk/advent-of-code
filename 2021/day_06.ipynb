{
 "cells": [
  {
   "cell_type": "code",
   "execution_count": 1,
   "id": "97602eae-5252-43e7-869d-4f82afcad1e4",
   "metadata": {},
   "outputs": [],
   "source": [
    "%load_ext lab_black\n",
    "\n",
    "from puzzles import load_puzzle\n",
    "\n",
    "s = load_puzzle(6)"
   ]
  },
  {
   "cell_type": "code",
   "execution_count": 2,
   "id": "6ab7a39b-ad05-498d-b612-91ca72cf8191",
   "metadata": {},
   "outputs": [
    {
     "data": {
      "text/plain": [
       "600"
      ]
     },
     "execution_count": 2,
     "metadata": {},
     "output_type": "execute_result"
    }
   ],
   "source": [
    "len(s)"
   ]
  },
  {
   "cell_type": "markdown",
   "id": "f45446bd-eed9-4519-938c-c561d7904518",
   "metadata": {
    "tags": []
   },
   "source": [
    "# First part"
   ]
  },
  {
   "cell_type": "code",
   "execution_count": 210,
   "id": "e0558588-8f73-48bb-afda-5b6b548e2389",
   "metadata": {},
   "outputs": [],
   "source": [
    "import numpy as np"
   ]
  },
  {
   "cell_type": "code",
   "execution_count": 211,
   "id": "504771ff-2967-4a0c-8620-6e429a695688",
   "metadata": {},
   "outputs": [],
   "source": [
    "N_DAYS = 80"
   ]
  },
  {
   "cell_type": "code",
   "execution_count": 212,
   "id": "b2aadfec-2649-453e-9005-9b951f57b1ce",
   "metadata": {},
   "outputs": [
    {
     "data": {
      "text/plain": [
       "377263"
      ]
     },
     "execution_count": 212,
     "metadata": {},
     "output_type": "execute_result"
    }
   ],
   "source": [
    "old_population = np.array([int(x) for x in s.split(\",\")], dtype=int)\n",
    "\n",
    "for _ in range(N_DAYS):\n",
    "    old_population -= 1\n",
    "\n",
    "    mask_parents = old_population < 0\n",
    "    if mask_parents.sum() == 0:\n",
    "        continue\n",
    "\n",
    "    newborns = np.ones(mask_parents.sum(), dtype=int) * 8\n",
    "    old_population[mask_parents] = 6\n",
    "\n",
    "    old_population = np.concatenate([old_population, newborns])\n",
    "\n",
    "len(old_population)"
   ]
  },
  {
   "cell_type": "markdown",
   "id": "302a097f-144e-42ac-8929-54ba786e16aa",
   "metadata": {},
   "source": [
    "# Second part"
   ]
  },
  {
   "cell_type": "code",
   "execution_count": 213,
   "id": "212f29e3-3b74-4c04-8a7f-5202b2f3885f",
   "metadata": {
    "tags": []
   },
   "outputs": [],
   "source": [
    "import numpy as np\n",
    "\n",
    "from tqdm import tqdm\n",
    "\n",
    "from collections import defaultdict"
   ]
  },
  {
   "cell_type": "code",
   "execution_count": 214,
   "id": "81204289-3e6f-4f7f-b149-fb4e9cd2f71e",
   "metadata": {},
   "outputs": [],
   "source": [
    "N_DAYS = 256"
   ]
  },
  {
   "cell_type": "code",
   "execution_count": 215,
   "id": "a36eb907-bd66-47fe-9687-67bd45337ef4",
   "metadata": {},
   "outputs": [
    {
     "data": {
      "text/plain": [
       "300"
      ]
     },
     "execution_count": 215,
     "metadata": {},
     "output_type": "execute_result"
    }
   ],
   "source": [
    "numbers = np.array([int(x) for x in s.split(\",\")])\n",
    "\n",
    "len(numbers)"
   ]
  },
  {
   "cell_type": "code",
   "execution_count": 216,
   "id": "5740f9f0-36f4-4f78-be43-2856c7daf0ea",
   "metadata": {
    "tags": []
   },
   "outputs": [
    {
     "data": {
      "text/plain": [
       "defaultdict(int, {1: 168, 2: 31, 3: 29, 4: 37, 5: 35})"
      ]
     },
     "execution_count": 216,
     "metadata": {},
     "output_type": "execute_result"
    }
   ],
   "source": [
    "population = defaultdict(int)\n",
    "\n",
    "for x in set(numbers):\n",
    "    population[x] = int((numbers == x).sum())\n",
    "\n",
    "population"
   ]
  },
  {
   "cell_type": "code",
   "execution_count": 217,
   "id": "90ad18bd-c25a-4b0e-a638-457fbbbc46d2",
   "metadata": {},
   "outputs": [
    {
     "data": {
      "text/plain": [
       "1695929023803"
      ]
     },
     "execution_count": 217,
     "metadata": {},
     "output_type": "execute_result"
    }
   ],
   "source": [
    "for n in range(N_DAYS):\n",
    "\n",
    "    for day in range(-1, 8):\n",
    "        population[day] = population[day + 1]\n",
    "    population[8] = 0\n",
    "\n",
    "    if population[-1] > 0:\n",
    "        population[6] += population[-1]\n",
    "        population[8] += population[-1]\n",
    "        population[-1] = 0\n",
    "\n",
    "sum(population.values())"
   ]
  }
 ],
 "metadata": {
  "kernelspec": {
   "display_name": "platy-segmentation",
   "language": "python",
   "name": "platy-segmentation"
  },
  "language_info": {
   "codemirror_mode": {
    "name": "ipython",
    "version": 3
   },
   "file_extension": ".py",
   "mimetype": "text/x-python",
   "name": "python",
   "nbconvert_exporter": "python",
   "pygments_lexer": "ipython3",
   "version": "3.9.6"
  }
 },
 "nbformat": 4,
 "nbformat_minor": 5
}
