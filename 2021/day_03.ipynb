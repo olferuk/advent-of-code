{
 "cells": [
  {
   "cell_type": "code",
   "execution_count": 1,
   "id": "fbd7fba5-6402-4af3-b234-adca225a3efa",
   "metadata": {},
   "outputs": [],
   "source": [
    "%load_ext lab_black\n",
    "\n",
    "from puzzles import load_puzzle\n",
    "\n",
    "s = load_puzzle(3)"
   ]
  },
  {
   "cell_type": "code",
   "execution_count": 2,
   "id": "319ec4c7-7b17-48b0-8dc1-8a0e8a6c858f",
   "metadata": {},
   "outputs": [],
   "source": [
    "with open(\"data/03.txt\", \"w\") as f:\n",
    "    f.write(s)"
   ]
  },
  {
   "cell_type": "markdown",
   "id": "23008909-d971-48b1-926a-f9cb42929c98",
   "metadata": {
    "tags": []
   },
   "source": [
    "# First Part"
   ]
  },
  {
   "cell_type": "code",
   "execution_count": 3,
   "id": "675ec001-4f95-48d2-b019-231204f6c467",
   "metadata": {},
   "outputs": [],
   "source": [
    "import pandas as pd\n",
    "import numpy as np"
   ]
  },
  {
   "cell_type": "code",
   "execution_count": 43,
   "id": "646f25f9-e12d-40aa-820f-a293cc2fd54c",
   "metadata": {},
   "outputs": [
    {
     "data": {
      "text/plain": [
       "(1000, 12)"
      ]
     },
     "execution_count": 43,
     "metadata": {},
     "output_type": "execute_result"
    }
   ],
   "source": [
    "data = s.strip().split(\"\\n\")\n",
    "\n",
    "df = pd.DataFrame([list(x) for x in data])\n",
    "\n",
    "df.shape"
   ]
  },
  {
   "cell_type": "code",
   "execution_count": 34,
   "id": "26a8f559-bf34-4a32-868d-a46f96816c54",
   "metadata": {},
   "outputs": [
    {
     "data": {
      "text/plain": [
       "array([1, 1, 1, 0, 1, 1, 0, 1, 0, 1, 0, 1])"
      ]
     },
     "execution_count": 34,
     "metadata": {},
     "output_type": "execute_result"
    }
   ],
   "source": [
    "gamma = np.array([int(df[c].value_counts().index[0]) for c in df.columns])\n",
    "gamma"
   ]
  },
  {
   "cell_type": "code",
   "execution_count": 35,
   "id": "5b8025c6-01bf-4d7c-ab9e-87efd27c0841",
   "metadata": {},
   "outputs": [
    {
     "data": {
      "text/plain": [
       "array([0, 0, 0, 1, 0, 0, 1, 0, 1, 0, 1, 0])"
      ]
     },
     "execution_count": 35,
     "metadata": {},
     "output_type": "execute_result"
    }
   ],
   "source": [
    "epsilon = 1 - gamma\n",
    "epsilon"
   ]
  },
  {
   "cell_type": "code",
   "execution_count": 38,
   "id": "2098aa7f-8661-4c2c-9945-8b8f37ac63c9",
   "metadata": {},
   "outputs": [
    {
     "data": {
      "text/plain": [
       "3797"
      ]
     },
     "execution_count": 38,
     "metadata": {},
     "output_type": "execute_result"
    }
   ],
   "source": [
    "int(\"\".join(gamma.astype(str)), 2)"
   ]
  },
  {
   "cell_type": "code",
   "execution_count": 39,
   "id": "4976f067-ede4-466a-a142-b535ecfc9edb",
   "metadata": {},
   "outputs": [
    {
     "data": {
      "text/plain": [
       "298"
      ]
     },
     "execution_count": 39,
     "metadata": {},
     "output_type": "execute_result"
    }
   ],
   "source": [
    "int(\"\".join(epsilon.astype(str)), 2)"
   ]
  },
  {
   "cell_type": "code",
   "execution_count": 40,
   "id": "b793f46d-cb93-4b2d-9185-ebc30b7d98f0",
   "metadata": {},
   "outputs": [
    {
     "data": {
      "text/plain": [
       "1131506"
      ]
     },
     "execution_count": 40,
     "metadata": {},
     "output_type": "execute_result"
    }
   ],
   "source": [
    "3797 * 298"
   ]
  },
  {
   "cell_type": "markdown",
   "id": "4ae3cefb-674c-41fc-a5ba-a2c16f4b2ea0",
   "metadata": {},
   "source": [
    "# Second Part"
   ]
  },
  {
   "cell_type": "code",
   "execution_count": 56,
   "id": "ae4f28f8-c465-4148-a0c1-add364613d45",
   "metadata": {},
   "outputs": [],
   "source": [
    "from functools import reduce"
   ]
  },
  {
   "cell_type": "code",
   "execution_count": 57,
   "id": "a078fb2b-2c3f-4017-82d9-fcfed65a61b4",
   "metadata": {},
   "outputs": [],
   "source": [
    "def binary_and(x, y):\n",
    "    return x & y"
   ]
  },
  {
   "cell_type": "code",
   "execution_count": 76,
   "id": "cfe282a6-536b-47b5-8552-45cd3442d06c",
   "metadata": {},
   "outputs": [
    {
     "data": {
      "text/html": [
       "<div>\n",
       "<style scoped>\n",
       "    .dataframe tbody tr th:only-of-type {\n",
       "        vertical-align: middle;\n",
       "    }\n",
       "\n",
       "    .dataframe tbody tr th {\n",
       "        vertical-align: top;\n",
       "    }\n",
       "\n",
       "    .dataframe thead th {\n",
       "        text-align: right;\n",
       "    }\n",
       "</style>\n",
       "<table border=\"1\" class=\"dataframe\">\n",
       "  <thead>\n",
       "    <tr style=\"text-align: right;\">\n",
       "      <th></th>\n",
       "      <th>0</th>\n",
       "      <th>1</th>\n",
       "      <th>2</th>\n",
       "      <th>3</th>\n",
       "      <th>4</th>\n",
       "      <th>5</th>\n",
       "      <th>6</th>\n",
       "      <th>7</th>\n",
       "      <th>8</th>\n",
       "      <th>9</th>\n",
       "      <th>10</th>\n",
       "      <th>11</th>\n",
       "    </tr>\n",
       "  </thead>\n",
       "  <tbody>\n",
       "    <tr>\n",
       "      <th>944</th>\n",
       "      <td>1</td>\n",
       "      <td>1</td>\n",
       "      <td>1</td>\n",
       "      <td>1</td>\n",
       "      <td>1</td>\n",
       "      <td>1</td>\n",
       "      <td>1</td>\n",
       "      <td>1</td>\n",
       "      <td>1</td>\n",
       "      <td>0</td>\n",
       "      <td>0</td>\n",
       "      <td>1</td>\n",
       "    </tr>\n",
       "  </tbody>\n",
       "</table>\n",
       "</div>"
      ],
      "text/plain": [
       "    0  1  2  3  4  5  6  7  8  9  10 11\n",
       "944  1  1  1  1  1  1  1  1  1  0  0  1"
      ]
     },
     "execution_count": 76,
     "metadata": {},
     "output_type": "execute_result"
    }
   ],
   "source": [
    "df_oxy = df\n",
    "\n",
    "for i in df_oxy.columns:\n",
    "    d = df_oxy[i].value_counts()\n",
    "    mf = str(1 if d.diff().sum() == 0 else int(d.index[0]))\n",
    "    df_oxy = df_oxy.loc[df_oxy[i] == mf]\n",
    "\n",
    "df_oxy"
   ]
  },
  {
   "cell_type": "code",
   "execution_count": 77,
   "id": "91578e30-0979-4f66-b7ad-cfa8643b1c7e",
   "metadata": {},
   "outputs": [
    {
     "data": {
      "text/plain": [
       "4089"
      ]
     },
     "execution_count": 77,
     "metadata": {},
     "output_type": "execute_result"
    }
   ],
   "source": [
    "int(\"\".join(df_oxy.iloc[0].astype(str)), 2)"
   ]
  },
  {
   "cell_type": "code",
   "execution_count": 81,
   "id": "01f1e375-b441-4df0-b609-cb2399388c1f",
   "metadata": {},
   "outputs": [
    {
     "data": {
      "text/html": [
       "<div>\n",
       "<style scoped>\n",
       "    .dataframe tbody tr th:only-of-type {\n",
       "        vertical-align: middle;\n",
       "    }\n",
       "\n",
       "    .dataframe tbody tr th {\n",
       "        vertical-align: top;\n",
       "    }\n",
       "\n",
       "    .dataframe thead th {\n",
       "        text-align: right;\n",
       "    }\n",
       "</style>\n",
       "<table border=\"1\" class=\"dataframe\">\n",
       "  <thead>\n",
       "    <tr style=\"text-align: right;\">\n",
       "      <th></th>\n",
       "      <th>0</th>\n",
       "      <th>1</th>\n",
       "      <th>2</th>\n",
       "      <th>3</th>\n",
       "      <th>4</th>\n",
       "      <th>5</th>\n",
       "      <th>6</th>\n",
       "      <th>7</th>\n",
       "      <th>8</th>\n",
       "      <th>9</th>\n",
       "      <th>10</th>\n",
       "      <th>11</th>\n",
       "    </tr>\n",
       "  </thead>\n",
       "  <tbody>\n",
       "    <tr>\n",
       "      <th>230</th>\n",
       "      <td>0</td>\n",
       "      <td>1</td>\n",
       "      <td>1</td>\n",
       "      <td>1</td>\n",
       "      <td>1</td>\n",
       "      <td>0</td>\n",
       "      <td>0</td>\n",
       "      <td>0</td>\n",
       "      <td>0</td>\n",
       "      <td>0</td>\n",
       "      <td>1</td>\n",
       "      <td>1</td>\n",
       "    </tr>\n",
       "  </tbody>\n",
       "</table>\n",
       "</div>"
      ],
      "text/plain": [
       "    0  1  2  3  4  5  6  7  8  9  10 11\n",
       "230  0  1  1  1  1  0  0  0  0  0  1  1"
      ]
     },
     "execution_count": 81,
     "metadata": {},
     "output_type": "execute_result"
    }
   ],
   "source": [
    "df_co2 = df\n",
    "\n",
    "for i in df_co2.columns:\n",
    "    d = df_co2[i].value_counts()\n",
    "    mf = str(0 if d.diff().sum() == 0 else int(d.index[1]))\n",
    "    df_co2 = df_co2.loc[df_co2[i] == mf]\n",
    "    if df_co2.shape[0] == 1:\n",
    "        break\n",
    "df_co2"
   ]
  },
  {
   "cell_type": "code",
   "execution_count": 82,
   "id": "5a9aad9f-fad8-4389-82e9-5cea07b7c9ee",
   "metadata": {},
   "outputs": [
    {
     "data": {
      "text/plain": [
       "1923"
      ]
     },
     "execution_count": 82,
     "metadata": {},
     "output_type": "execute_result"
    }
   ],
   "source": [
    "int(\"\".join(df_co2.iloc[0].astype(str)), 2)"
   ]
  },
  {
   "cell_type": "code",
   "execution_count": 83,
   "id": "ab8a3593-6957-4e2d-b475-900bf48bba4c",
   "metadata": {},
   "outputs": [
    {
     "data": {
      "text/plain": [
       "7863147"
      ]
     },
     "execution_count": 83,
     "metadata": {},
     "output_type": "execute_result"
    }
   ],
   "source": [
    "4089 * 1923"
   ]
  },
  {
   "cell_type": "code",
   "execution_count": null,
   "id": "573fa5c4-a340-4ef9-9672-2a41dc1c19cd",
   "metadata": {},
   "outputs": [],
   "source": []
  }
 ],
 "metadata": {
  "kernelspec": {
   "display_name": "platy-segmentation",
   "language": "python",
   "name": "platy-segmentation"
  },
  "language_info": {
   "codemirror_mode": {
    "name": "ipython",
    "version": 3
   },
   "file_extension": ".py",
   "mimetype": "text/x-python",
   "name": "python",
   "nbconvert_exporter": "python",
   "pygments_lexer": "ipython3",
   "version": "3.9.6"
  }
 },
 "nbformat": 4,
 "nbformat_minor": 5
}
