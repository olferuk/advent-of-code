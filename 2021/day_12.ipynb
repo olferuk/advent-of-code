{
 "cells": [
  {
   "cell_type": "code",
   "execution_count": 1,
   "id": "19c948ca-962f-4802-85eb-7af513e9aaf4",
   "metadata": {},
   "outputs": [],
   "source": [
    "%load_ext lab_black"
   ]
  },
  {
   "cell_type": "code",
   "execution_count": 2,
   "id": "fc80a0d8-52e6-4de2-a79f-d467a75ecb5b",
   "metadata": {},
   "outputs": [],
   "source": [
    "from puzzles import load_lines"
   ]
  },
  {
   "cell_type": "code",
   "execution_count": 12,
   "id": "50e23c2a-ceba-4a7a-badd-a9f222846f2d",
   "metadata": {},
   "outputs": [],
   "source": [
    "class Node:\n",
    "    def __init__(self, name: str):\n",
    "        self.name = name\n",
    "        self.children = set()\n",
    "\n",
    "    def connect(self, node: \"Node\"):\n",
    "        self.children.add(node)\n",
    "\n",
    "    def __repr__(self) -> str:\n",
    "        # children = \",\".join(sorted([c.name for c in self.children]))\n",
    "        # size = \"small\" if self.is_small else \"BIG\"\n",
    "        # return f\"Node(name='{self.name}', {size}, children=[{children}])\"\n",
    "        return f\"[{self.name}] -> \"\n",
    "\n",
    "    @property\n",
    "    def is_small(self) -> bool:\n",
    "        return self.name == self.name.lower()\n",
    "\n",
    "    def __eq__(self, other):\n",
    "        if isinstance(other, str):\n",
    "            return self.name == other\n",
    "        return other.name == self.name\n",
    "\n",
    "    def __hash__(self):\n",
    "        return hash(self.name)\n",
    "\n",
    "\n",
    "def get_or_create(nodes_dict, node_name):\n",
    "    node = nodes_dict.get(node_name)\n",
    "    if node is None:\n",
    "        node = Node(node_name)\n",
    "        nodes_dict[node_name] = node\n",
    "    return node"
   ]
  },
  {
   "cell_type": "code",
   "execution_count": 18,
   "id": "3a2bc9c2-46b6-42eb-90f5-429afab683af",
   "metadata": {},
   "outputs": [],
   "source": [
    "data = load_lines(12)\n",
    "data = \"\"\"start-A\n",
    "start-b\n",
    "A-end\n",
    "b-end\"\"\".split(\n",
    "    \"\\n\"\n",
    ")\n",
    "# A-c\n",
    "# A-b\n",
    "# b-d\n",
    "\n",
    "all_nodes = {}\n",
    "for line in data:\n",
    "    node_a_name, node_b_name = line.split(\"-\")\n",
    "\n",
    "    node_a = get_or_create(all_nodes, node_a_name)\n",
    "    node_b = get_or_create(all_nodes, node_b_name)\n",
    "\n",
    "    node_a.connect(node_b)\n",
    "    node_b.connect(node_a)"
   ]
  },
  {
   "cell_type": "code",
   "execution_count": 19,
   "id": "506e684a-8f65-46fa-a701-f31291aa3e28",
   "metadata": {},
   "outputs": [
    {
     "data": {
      "text/plain": [
       "{'start': Node(name='start', small, children=[A,b]),\n",
       " 'A': Node(name='A', BIG, children=[end,start]),\n",
       " 'b': Node(name='b', small, children=[end,start]),\n",
       " 'end': Node(name='end', small, children=[A,b])}"
      ]
     },
     "execution_count": 19,
     "metadata": {},
     "output_type": "execute_result"
    }
   ],
   "source": [
    "all_nodes"
   ]
  },
  {
   "cell_type": "code",
   "execution_count": 20,
   "id": "daaace34-7756-401e-a6b6-6dad0f077bb1",
   "metadata": {},
   "outputs": [],
   "source": [
    "from icecream import ic"
   ]
  },
  {
   "cell_type": "code",
   "execution_count": 26,
   "id": "b71be60f-0fe9-431e-a90e-a96620cc446b",
   "metadata": {},
   "outputs": [
    {
     "name": "stderr",
     "output_type": "stream",
     "text": [
      "ic| '.'\n",
      "ic| path: [Node(name='start', small, children=[A,b])]\n",
      "ic| new_paths: [[Node(name='start', small, children=[A,b]),\n",
      "                 Node(name='A', BIG, children=[end,start])],\n",
      "                [Node(name='start', small, children=[A,b]),\n",
      "                 Node(name='b', small, children=[end,start])]]\n",
      "ic| '.'\n",
      "ic| path: [Node(name='start', small, children=[A,b]),\n",
      "           Node(name='A', BIG, children=[end,start])]\n",
      "ic| new_paths: [[Node(name='start', small, children=[A,b]),\n",
      "                 Node(name='b', small, children=[end,start])]]\n",
      "ic| '.'\n",
      "ic| path: [Node(name='start', small, children=[A,b]),\n",
      "           Node(name='b', small, children=[end,start])]\n",
      "ic| new_paths: [[Node(name='start', small, children=[A,b]),\n",
      "                 Node(name='A', BIG, children=[end,start]),\n",
      "                 Node(name='end', small, children=[A,b])]]\n",
      "ic| '.'\n",
      "ic| path: [Node(name='start', small, children=[A,b]),\n",
      "           Node(name='A', BIG, children=[end,start]),\n",
      "           Node(name='end', small, children=[A,b])]\n",
      "ic| new_paths: [[Node(name='start', small, children=[A,b]),\n",
      "                 Node(name='A', BIG, children=[end,start]),\n",
      "                 Node(name='end', small, children=[A,b]),\n",
      "                 Node(name='A', BIG, children=[end,start])],\n",
      "                [Node(name='start', small, children=[A,b]),\n",
      "                 Node(name='A', BIG, children=[end,start]),\n",
      "                 Node(name='end', small, children=[A,b]),\n",
      "                 Node(name='b', small, children=[end,start])]]\n",
      "ic| '.'\n",
      "ic| path: [Node(name='start', small, children=[A,b]),\n",
      "           Node(name='A', BIG, children=[end,start]),\n",
      "           Node(name='end', small, children=[A,b]),\n",
      "           Node(name='A', BIG, children=[end,start])]\n",
      "ic| new_paths: [[Node(name='start', small, children=[A,b]),\n",
      "                 Node(name='A', BIG, children=[end,start]),\n",
      "                 Node(name='end', small, children=[A,b]),\n",
      "                 Node(name='b', small, children=[end,start])]]\n",
      "ic| '.'\n",
      "ic| path: [Node(name='start', small, children=[A,b]),\n",
      "           Node(name='A', BIG, children=[end,start]),\n",
      "           Node(name='end', small, children=[A,b]),\n",
      "           Node(name='b', small, children=[end,start])]\n",
      "ic| new_paths: [[Node(name='start', small, children=[A,b]),\n",
      "                 Node(name='A', BIG, children=[end,start]),\n",
      "                 Node(name='end', small, children=[A,b]),\n",
      "                 Node(name='b', small, children=[end,start])]]\n",
      "ic| '.'\n",
      "ic| path: [Node(name='start', small, children=[A,b]),\n",
      "           Node(name='A', BIG, children=[end,start]),\n",
      "           Node(name='end', small, children=[A,b]),\n",
      "           Node(name='b', small, children=[end,start])]\n",
      "ic| new_paths: [[Node(name='start', small, children=[A,b]),\n",
      "                 Node(name='A', BIG, children=[end,start]),\n",
      "                 Node(name='end', small, children=[A,b]),\n",
      "                 Node(name='b', small, children=[end,start])]]\n",
      "ic| '.'\n",
      "ic| path: [Node(name='start', small, children=[A,b])"
     ]
    },
    {
     "ename": "KeyboardInterrupt",
     "evalue": "",
     "output_type": "error",
     "traceback": [
      "\u001b[0;31m---------------------------------------------------------------------------\u001b[0m",
      "\u001b[0;31mKeyboardInterrupt\u001b[0m                         Traceback (most recent call last)",
      "Cell \u001b[0;32mIn[26], line 24\u001b[0m\n\u001b[1;32m     21\u001b[0m     \u001b[38;5;28;01mreturn\u001b[39;00m n_successes\n\u001b[1;32m     23\u001b[0m paths \u001b[38;5;241m=\u001b[39m [[all_nodes[\u001b[38;5;124m\"\u001b[39m\u001b[38;5;124mstart\u001b[39m\u001b[38;5;124m\"\u001b[39m]]]\n\u001b[0;32m---> 24\u001b[0m \u001b[43mcount_paths\u001b[49m\u001b[43m(\u001b[49m\u001b[43mpaths\u001b[49m\u001b[43m)\u001b[49m\n",
      "Cell \u001b[0;32mIn[26], line 7\u001b[0m, in \u001b[0;36mcount_paths\u001b[0;34m(paths)\u001b[0m\n\u001b[1;32m      5\u001b[0m ic(\u001b[38;5;124m'\u001b[39m\u001b[38;5;124m.\u001b[39m\u001b[38;5;124m'\u001b[39m)\n\u001b[1;32m      6\u001b[0m path \u001b[38;5;241m=\u001b[39m paths\u001b[38;5;241m.\u001b[39mpop(\u001b[38;5;241m0\u001b[39m)\n\u001b[0;32m----> 7\u001b[0m \u001b[43mic\u001b[49m\u001b[43m(\u001b[49m\u001b[43mpath\u001b[49m\u001b[43m)\u001b[49m\n\u001b[1;32m      9\u001b[0m new_paths \u001b[38;5;241m=\u001b[39m []\n\u001b[1;32m     10\u001b[0m \u001b[38;5;28;01mfor\u001b[39;00m \u001b[38;5;28mnext\u001b[39m \u001b[38;5;129;01min\u001b[39;00m path[\u001b[38;5;241m-\u001b[39m\u001b[38;5;241m1\u001b[39m]\u001b[38;5;241m.\u001b[39mchildren:\n",
      "File \u001b[0;32m~/miniconda3/lib/python3.10/site-packages/icecream/icecream.py:212\u001b[0m, in \u001b[0;36mIceCreamDebugger.__call__\u001b[0;34m(self, *args)\u001b[0m\n\u001b[1;32m    210\u001b[0m         prefix \u001b[38;5;241m=\u001b[39m callOrValue(\u001b[38;5;28mself\u001b[39m\u001b[38;5;241m.\u001b[39mprefix)\n\u001b[1;32m    211\u001b[0m         out \u001b[38;5;241m=\u001b[39m prefix \u001b[38;5;241m+\u001b[39m \u001b[38;5;124m'\u001b[39m\u001b[38;5;124mError: \u001b[39m\u001b[38;5;124m'\u001b[39m \u001b[38;5;241m+\u001b[39m err\u001b[38;5;241m.\u001b[39minfoMessage\n\u001b[0;32m--> 212\u001b[0m     \u001b[38;5;28;43mself\u001b[39;49m\u001b[38;5;241;43m.\u001b[39;49m\u001b[43moutputFunction\u001b[49m\u001b[43m(\u001b[49m\u001b[43mout\u001b[49m\u001b[43m)\u001b[49m\n\u001b[1;32m    214\u001b[0m \u001b[38;5;28;01mif\u001b[39;00m \u001b[38;5;129;01mnot\u001b[39;00m args:  \u001b[38;5;66;03m# E.g. ic().\u001b[39;00m\n\u001b[1;32m    215\u001b[0m     passthrough \u001b[38;5;241m=\u001b[39m \u001b[38;5;28;01mNone\u001b[39;00m\n",
      "File \u001b[0;32m~/miniconda3/lib/python3.10/site-packages/icecream/icecream.py:83\u001b[0m, in \u001b[0;36mcolorizedStderrPrint\u001b[0;34m(s)\u001b[0m\n\u001b[1;32m     81\u001b[0m colored \u001b[38;5;241m=\u001b[39m colorize(s)\n\u001b[1;32m     82\u001b[0m \u001b[38;5;28;01mwith\u001b[39;00m supportTerminalColorsInWindows():\n\u001b[0;32m---> 83\u001b[0m     \u001b[43mstderrPrint\u001b[49m\u001b[43m(\u001b[49m\u001b[43mcolored\u001b[49m\u001b[43m)\u001b[49m\n",
      "File \u001b[0;32m~/miniconda3/lib/python3.10/site-packages/icecream/icecream.py:69\u001b[0m, in \u001b[0;36mstderrPrint\u001b[0;34m(*args)\u001b[0m\n\u001b[1;32m     68\u001b[0m \u001b[38;5;28;01mdef\u001b[39;00m \u001b[38;5;21mstderrPrint\u001b[39m(\u001b[38;5;241m*\u001b[39margs):\n\u001b[0;32m---> 69\u001b[0m     \u001b[38;5;28;43mprint\u001b[39;49m\u001b[43m(\u001b[49m\u001b[38;5;241;43m*\u001b[39;49m\u001b[43margs\u001b[49m\u001b[43m,\u001b[49m\u001b[43m \u001b[49m\u001b[43mfile\u001b[49m\u001b[38;5;241;43m=\u001b[39;49m\u001b[43msys\u001b[49m\u001b[38;5;241;43m.\u001b[39;49m\u001b[43mstderr\u001b[49m\u001b[43m)\u001b[49m\n",
      "File \u001b[0;32m~/miniconda3/lib/python3.10/site-packages/colorama/ansitowin32.py:47\u001b[0m, in \u001b[0;36mStreamWrapper.write\u001b[0;34m(self, text)\u001b[0m\n\u001b[1;32m     46\u001b[0m \u001b[38;5;28;01mdef\u001b[39;00m \u001b[38;5;21mwrite\u001b[39m(\u001b[38;5;28mself\u001b[39m, text):\n\u001b[0;32m---> 47\u001b[0m     \u001b[38;5;28;43mself\u001b[39;49m\u001b[38;5;241;43m.\u001b[39;49m\u001b[43m__convertor\u001b[49m\u001b[38;5;241;43m.\u001b[39;49m\u001b[43mwrite\u001b[49m\u001b[43m(\u001b[49m\u001b[43mtext\u001b[49m\u001b[43m)\u001b[49m\n",
      "File \u001b[0;32m~/miniconda3/lib/python3.10/site-packages/colorama/ansitowin32.py:177\u001b[0m, in \u001b[0;36mAnsiToWin32.write\u001b[0;34m(self, text)\u001b[0m\n\u001b[1;32m    175\u001b[0m \u001b[38;5;28;01mdef\u001b[39;00m \u001b[38;5;21mwrite\u001b[39m(\u001b[38;5;28mself\u001b[39m, text):\n\u001b[1;32m    176\u001b[0m     \u001b[38;5;28;01mif\u001b[39;00m \u001b[38;5;28mself\u001b[39m\u001b[38;5;241m.\u001b[39mstrip \u001b[38;5;129;01mor\u001b[39;00m \u001b[38;5;28mself\u001b[39m\u001b[38;5;241m.\u001b[39mconvert:\n\u001b[0;32m--> 177\u001b[0m         \u001b[38;5;28;43mself\u001b[39;49m\u001b[38;5;241;43m.\u001b[39;49m\u001b[43mwrite_and_convert\u001b[49m\u001b[43m(\u001b[49m\u001b[43mtext\u001b[49m\u001b[43m)\u001b[49m\n\u001b[1;32m    178\u001b[0m     \u001b[38;5;28;01melse\u001b[39;00m:\n\u001b[1;32m    179\u001b[0m         \u001b[38;5;28mself\u001b[39m\u001b[38;5;241m.\u001b[39mwrapped\u001b[38;5;241m.\u001b[39mwrite(text)\n",
      "File \u001b[0;32m~/miniconda3/lib/python3.10/site-packages/colorama/ansitowin32.py:202\u001b[0m, in \u001b[0;36mAnsiToWin32.write_and_convert\u001b[0;34m(self, text)\u001b[0m\n\u001b[1;32m    200\u001b[0m \u001b[38;5;28;01mfor\u001b[39;00m match \u001b[38;5;129;01min\u001b[39;00m \u001b[38;5;28mself\u001b[39m\u001b[38;5;241m.\u001b[39mANSI_CSI_RE\u001b[38;5;241m.\u001b[39mfinditer(text):\n\u001b[1;32m    201\u001b[0m     start, end \u001b[38;5;241m=\u001b[39m match\u001b[38;5;241m.\u001b[39mspan()\n\u001b[0;32m--> 202\u001b[0m     \u001b[38;5;28;43mself\u001b[39;49m\u001b[38;5;241;43m.\u001b[39;49m\u001b[43mwrite_plain_text\u001b[49m\u001b[43m(\u001b[49m\u001b[43mtext\u001b[49m\u001b[43m,\u001b[49m\u001b[43m \u001b[49m\u001b[43mcursor\u001b[49m\u001b[43m,\u001b[49m\u001b[43m \u001b[49m\u001b[43mstart\u001b[49m\u001b[43m)\u001b[49m\n\u001b[1;32m    203\u001b[0m     \u001b[38;5;28mself\u001b[39m\u001b[38;5;241m.\u001b[39mconvert_ansi(\u001b[38;5;241m*\u001b[39mmatch\u001b[38;5;241m.\u001b[39mgroups())\n\u001b[1;32m    204\u001b[0m     cursor \u001b[38;5;241m=\u001b[39m end\n",
      "File \u001b[0;32m~/miniconda3/lib/python3.10/site-packages/colorama/ansitowin32.py:210\u001b[0m, in \u001b[0;36mAnsiToWin32.write_plain_text\u001b[0;34m(self, text, start, end)\u001b[0m\n\u001b[1;32m    208\u001b[0m \u001b[38;5;28;01mdef\u001b[39;00m \u001b[38;5;21mwrite_plain_text\u001b[39m(\u001b[38;5;28mself\u001b[39m, text, start, end):\n\u001b[1;32m    209\u001b[0m     \u001b[38;5;28;01mif\u001b[39;00m start \u001b[38;5;241m<\u001b[39m end:\n\u001b[0;32m--> 210\u001b[0m         \u001b[38;5;28;43mself\u001b[39;49m\u001b[38;5;241;43m.\u001b[39;49m\u001b[43mwrapped\u001b[49m\u001b[38;5;241;43m.\u001b[39;49m\u001b[43mwrite\u001b[49m\u001b[43m(\u001b[49m\u001b[43mtext\u001b[49m\u001b[43m[\u001b[49m\u001b[43mstart\u001b[49m\u001b[43m:\u001b[49m\u001b[43mend\u001b[49m\u001b[43m]\u001b[49m\u001b[43m)\u001b[49m\n\u001b[1;32m    211\u001b[0m         \u001b[38;5;28mself\u001b[39m\u001b[38;5;241m.\u001b[39mwrapped\u001b[38;5;241m.\u001b[39mflush()\n",
      "File \u001b[0;32m~/miniconda3/lib/python3.10/site-packages/ipykernel/iostream.py:563\u001b[0m, in \u001b[0;36mOutStream.write\u001b[0;34m(self, string)\u001b[0m\n\u001b[1;32m    561\u001b[0m         \u001b[38;5;28mself\u001b[39m\u001b[38;5;241m.\u001b[39mpub_thread\u001b[38;5;241m.\u001b[39mschedule(\u001b[38;5;28mself\u001b[39m\u001b[38;5;241m.\u001b[39m_flush)\n\u001b[1;32m    562\u001b[0m     \u001b[38;5;28;01melse\u001b[39;00m:\n\u001b[0;32m--> 563\u001b[0m         \u001b[38;5;28;43mself\u001b[39;49m\u001b[38;5;241;43m.\u001b[39;49m\u001b[43m_schedule_flush\u001b[49m\u001b[43m(\u001b[49m\u001b[43m)\u001b[49m\n\u001b[1;32m    565\u001b[0m \u001b[38;5;28;01mreturn\u001b[39;00m \u001b[38;5;28mlen\u001b[39m(string)\n",
      "File \u001b[0;32m~/miniconda3/lib/python3.10/site-packages/ipykernel/iostream.py:469\u001b[0m, in \u001b[0;36mOutStream._schedule_flush\u001b[0;34m(self)\u001b[0m\n\u001b[1;32m    466\u001b[0m \u001b[38;5;28;01mdef\u001b[39;00m \u001b[38;5;21m_schedule_in_thread\u001b[39m():\n\u001b[1;32m    467\u001b[0m     \u001b[38;5;28mself\u001b[39m\u001b[38;5;241m.\u001b[39m_io_loop\u001b[38;5;241m.\u001b[39mcall_later(\u001b[38;5;28mself\u001b[39m\u001b[38;5;241m.\u001b[39mflush_interval, \u001b[38;5;28mself\u001b[39m\u001b[38;5;241m.\u001b[39m_flush)\n\u001b[0;32m--> 469\u001b[0m \u001b[38;5;28;43mself\u001b[39;49m\u001b[38;5;241;43m.\u001b[39;49m\u001b[43mpub_thread\u001b[49m\u001b[38;5;241;43m.\u001b[39;49m\u001b[43mschedule\u001b[49m\u001b[43m(\u001b[49m\u001b[43m_schedule_in_thread\u001b[49m\u001b[43m)\u001b[49m\n",
      "File \u001b[0;32m~/miniconda3/lib/python3.10/site-packages/ipykernel/iostream.py:210\u001b[0m, in \u001b[0;36mIOPubThread.schedule\u001b[0;34m(self, f)\u001b[0m\n\u001b[1;32m    208\u001b[0m     \u001b[38;5;28mself\u001b[39m\u001b[38;5;241m.\u001b[39m_events\u001b[38;5;241m.\u001b[39mappend(f)\n\u001b[1;32m    209\u001b[0m     \u001b[38;5;66;03m# wake event thread (message content is ignored)\u001b[39;00m\n\u001b[0;32m--> 210\u001b[0m     \u001b[38;5;28;43mself\u001b[39;49m\u001b[38;5;241;43m.\u001b[39;49m\u001b[43m_event_pipe\u001b[49m\u001b[38;5;241;43m.\u001b[39;49m\u001b[43msend\u001b[49m\u001b[43m(\u001b[49m\u001b[38;5;124;43mb\u001b[39;49m\u001b[38;5;124;43m\"\u001b[39;49m\u001b[38;5;124;43m\"\u001b[39;49m\u001b[43m)\u001b[49m\n\u001b[1;32m    211\u001b[0m \u001b[38;5;28;01melse\u001b[39;00m:\n\u001b[1;32m    212\u001b[0m     f()\n",
      "File \u001b[0;32m~/miniconda3/lib/python3.10/site-packages/zmq/sugar/socket.py:688\u001b[0m, in \u001b[0;36mSocket.send\u001b[0;34m(self, data, flags, copy, track, routing_id, group)\u001b[0m\n\u001b[1;32m    681\u001b[0m         data \u001b[38;5;241m=\u001b[39m zmq\u001b[38;5;241m.\u001b[39mFrame(\n\u001b[1;32m    682\u001b[0m             data,\n\u001b[1;32m    683\u001b[0m             track\u001b[38;5;241m=\u001b[39mtrack,\n\u001b[1;32m    684\u001b[0m             copy\u001b[38;5;241m=\u001b[39mcopy \u001b[38;5;129;01mor\u001b[39;00m \u001b[38;5;28;01mNone\u001b[39;00m,\n\u001b[1;32m    685\u001b[0m             copy_threshold\u001b[38;5;241m=\u001b[39m\u001b[38;5;28mself\u001b[39m\u001b[38;5;241m.\u001b[39mcopy_threshold,\n\u001b[1;32m    686\u001b[0m         )\n\u001b[1;32m    687\u001b[0m     data\u001b[38;5;241m.\u001b[39mgroup \u001b[38;5;241m=\u001b[39m group\n\u001b[0;32m--> 688\u001b[0m \u001b[38;5;28;01mreturn\u001b[39;00m \u001b[38;5;28;43msuper\u001b[39;49m\u001b[43m(\u001b[49m\u001b[43m)\u001b[49m\u001b[38;5;241;43m.\u001b[39;49m\u001b[43msend\u001b[49m\u001b[43m(\u001b[49m\u001b[43mdata\u001b[49m\u001b[43m,\u001b[49m\u001b[43m \u001b[49m\u001b[43mflags\u001b[49m\u001b[38;5;241;43m=\u001b[39;49m\u001b[43mflags\u001b[49m\u001b[43m,\u001b[49m\u001b[43m \u001b[49m\u001b[43mcopy\u001b[49m\u001b[38;5;241;43m=\u001b[39;49m\u001b[43mcopy\u001b[49m\u001b[43m,\u001b[49m\u001b[43m \u001b[49m\u001b[43mtrack\u001b[49m\u001b[38;5;241;43m=\u001b[39;49m\u001b[43mtrack\u001b[49m\u001b[43m)\u001b[49m\n",
      "File \u001b[0;32mzmq/backend/cython/socket.pyx:742\u001b[0m, in \u001b[0;36mzmq.backend.cython.socket.Socket.send\u001b[0;34m()\u001b[0m\n",
      "File \u001b[0;32mzmq/backend/cython/socket.pyx:789\u001b[0m, in \u001b[0;36mzmq.backend.cython.socket.Socket.send\u001b[0;34m()\u001b[0m\n",
      "File \u001b[0;32mzmq/backend/cython/socket.pyx:250\u001b[0m, in \u001b[0;36mzmq.backend.cython.socket._send_copy\u001b[0;34m()\u001b[0m\n",
      "File \u001b[0;32m~/miniconda3/lib/python3.10/site-packages/zmq/backend/cython/checkrc.pxd:13\u001b[0m, in \u001b[0;36mzmq.backend.cython.checkrc._check_rc\u001b[0;34m()\u001b[0m\n",
      "\u001b[0;31mKeyboardInterrupt\u001b[0m: "
     ]
    }
   ],
   "source": [
    "def count_paths(paths) -> int:\n",
    "    n_successes = 0\n",
    "\n",
    "    while len(paths) > 0:\n",
    "        ic('.')\n",
    "        path = paths.pop(0)\n",
    "        ic(path)\n",
    "\n",
    "        new_paths = []\n",
    "        for next in path[-1].children:\n",
    "            if next.name == next.name.upper() or next.name not in path:\n",
    "                new_path = path[::] + [next]\n",
    "            if next == \"end\":\n",
    "                n_successes += 1\n",
    "            else:\n",
    "                new_paths.append(new_path)\n",
    "\n",
    "        ic(new_paths)\n",
    "        paths = new_paths\n",
    "\n",
    "    return n_successes\n",
    "\n",
    "paths = [[all_nodes[\"start\"]]]\n",
    "count_paths(paths)"
   ]
  },
  {
   "cell_type": "code",
   "execution_count": null,
   "id": "5ca1378a-bba9-43bf-a66a-f64f798e72e0",
   "metadata": {},
   "outputs": [],
   "source": []
  }
 ],
 "metadata": {
  "kernelspec": {
   "display_name": "Python 3 (ipykernel)",
   "language": "python",
   "name": "python3"
  },
  "language_info": {
   "codemirror_mode": {
    "name": "ipython",
    "version": 3
   },
   "file_extension": ".py",
   "mimetype": "text/x-python",
   "name": "python",
   "nbconvert_exporter": "python",
   "pygments_lexer": "ipython3",
   "version": "3.10.9"
  }
 },
 "nbformat": 4,
 "nbformat_minor": 5
}
