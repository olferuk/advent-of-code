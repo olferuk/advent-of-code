{
 "cells": [
  {
   "cell_type": "code",
   "execution_count": 1,
   "id": "19c948ca-962f-4802-85eb-7af513e9aaf4",
   "metadata": {},
   "outputs": [],
   "source": [
    "%load_ext lab_black"
   ]
  },
  {
   "cell_type": "code",
   "execution_count": 2,
   "id": "fc80a0d8-52e6-4de2-a79f-d467a75ecb5b",
   "metadata": {},
   "outputs": [],
   "source": [
    "from puzzles import load_lines"
   ]
  },
  {
   "cell_type": "code",
   "execution_count": 3,
   "id": "50e23c2a-ceba-4a7a-badd-a9f222846f2d",
   "metadata": {},
   "outputs": [],
   "source": [
    "class Node:\n",
    "    def __init__(self, name: str):\n",
    "        self.name = name\n",
    "        self.children = set()\n",
    "\n",
    "    def connect(self, node: \"Node\"):\n",
    "        self.children.add(node)\n",
    "\n",
    "    def __repr__(self) -> str:\n",
    "        children = \",\".join(sorted([c.name for c in self.children]))\n",
    "        size = \"small\" if self.is_small else \"BIG\"\n",
    "        return f\"Node(name='{self.name}', {size}, children=[{children}])\"\n",
    "\n",
    "    @property\n",
    "    def is_small(self) -> bool:\n",
    "        return self.name == self.name.lower()\n",
    "\n",
    "\n",
    "def get_or_create(nodes_dict, node_name):\n",
    "    node = nodes_dict.get(node_name)\n",
    "    if node is None:\n",
    "        node = Node(node_name)\n",
    "        nodes_dict[node_name] = node\n",
    "    return node"
   ]
  },
  {
   "cell_type": "code",
   "execution_count": 4,
   "id": "3a2bc9c2-46b6-42eb-90f5-429afab683af",
   "metadata": {},
   "outputs": [],
   "source": [
    "data = load_lines(12)\n",
    "data = \"\"\"start-A\n",
    "start-b\n",
    "A-c\n",
    "A-b\n",
    "b-d\n",
    "A-end\n",
    "b-end\"\"\".split(\n",
    "    \"\\n\"\n",
    ")\n",
    "\n",
    "all_nodes = {}\n",
    "for line in data:\n",
    "    node_a_name, node_b_name = line.split(\"-\")\n",
    "\n",
    "    node_a = get_or_create(all_nodes, node_a_name)\n",
    "    node_b = get_or_create(all_nodes, node_b_name)\n",
    "\n",
    "    node_a.connect(node_b)\n",
    "    node_b.connect(node_a)"
   ]
  },
  {
   "cell_type": "code",
   "execution_count": 5,
   "id": "506e684a-8f65-46fa-a701-f31291aa3e28",
   "metadata": {},
   "outputs": [
    {
     "data": {
      "text/plain": [
       "{'start': Node(name='start', small, children=[A,b]),\n",
       " 'A': Node(name='A', BIG, children=[b,c,end,start]),\n",
       " 'b': Node(name='b', small, children=[A,d,end,start]),\n",
       " 'c': Node(name='c', small, children=[A]),\n",
       " 'd': Node(name='d', small, children=[b]),\n",
       " 'end': Node(name='end', small, children=[A,b])}"
      ]
     },
     "execution_count": 5,
     "metadata": {},
     "output_type": "execute_result"
    }
   ],
   "source": [
    "all_nodes"
   ]
  },
  {
   "cell_type": "code",
   "execution_count": null,
   "id": "751b7843-ef32-4790-bd96-3aef4ef4d46b",
   "metadata": {},
   "outputs": [],
   "source": [
    "import collections\n",
    "\n",
    "class Path:\n",
    "    def __init__(self):\n",
    "        self.elements = collections.deque()\n",
    "    \n",
    "    def empty(self) -> bool:\n",
    "        return not self.elements\n",
    "    \n",
    "    def put(self, x: T):\n",
    "        self.elements.append(x)\n",
    "    \n",
    "    def get(self) -> T:\n",
    "        return self.elements.popleft()\n"
   ]
  },
  {
   "cell_type": "code",
   "execution_count": null,
   "id": "251985c0-6c51-4341-9568-f5bafd5cdb60",
   "metadata": {},
   "outputs": [],
   "source": [
    "def count_paths(node_from: Node, node_to: Node):\n",
    "    "
   ]
  },
  {
   "cell_type": "code",
   "execution_count": null,
   "id": "b71be60f-0fe9-431e-a90e-a96620cc446b",
   "metadata": {},
   "outputs": [],
   "source": []
  }
 ],
 "metadata": {
  "kernelspec": {
   "display_name": "Python (DE)",
   "language": "python",
   "name": "python3"
  },
  "language_info": {
   "codemirror_mode": {
    "name": "ipython",
    "version": 3
   },
   "file_extension": ".py",
   "mimetype": "text/x-python",
   "name": "python",
   "nbconvert_exporter": "python",
   "pygments_lexer": "ipython3",
   "version": "3.7.12"
  }
 },
 "nbformat": 4,
 "nbformat_minor": 5
}
