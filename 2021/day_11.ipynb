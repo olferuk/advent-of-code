{
 "cells": [
  {
   "cell_type": "code",
   "execution_count": 1,
   "id": "0cf3e7b0-505e-4c63-bf83-2ec491ee2078",
   "metadata": {},
   "outputs": [],
   "source": [
    "%load_ext lab_black\n",
    "%load_ext autoreload\n",
    "%autoreload 2\n",
    "\n",
    "from puzzles import load_puzzle, build_array_from_text"
   ]
  },
  {
   "cell_type": "code",
   "execution_count": 2,
   "id": "38a2d46c-e7a2-481a-9d9c-f3ca16c85058",
   "metadata": {},
   "outputs": [],
   "source": [
    "import numpy as np"
   ]
  },
  {
   "cell_type": "markdown",
   "id": "ecc91894-0358-44d4-8f51-edb2b8983227",
   "metadata": {},
   "source": [
    "---"
   ]
  },
  {
   "cell_type": "markdown",
   "id": "d47c2941-62bf-4093-a2cb-8107d40f6243",
   "metadata": {},
   "source": [
    "# 1"
   ]
  },
  {
   "cell_type": "code",
   "execution_count": 3,
   "id": "d816d53d-dc1d-440a-8174-50fbef688c66",
   "metadata": {},
   "outputs": [],
   "source": [
    "data = load_puzzle(11)"
   ]
  },
  {
   "cell_type": "code",
   "execution_count": 4,
   "id": "b4875fba-b8e9-41b2-95a2-78c4b0272743",
   "metadata": {},
   "outputs": [
    {
     "data": {
      "text/plain": [
       "['3113284886',\n",
       " '2851876144',\n",
       " '2774664484',\n",
       " '6715112578',\n",
       " '7146272153',\n",
       " '6256656367',\n",
       " '3148666245',\n",
       " '3857446528',\n",
       " '7322422833',\n",
       " '8152175168']"
      ]
     },
     "execution_count": 4,
     "metadata": {},
     "output_type": "execute_result"
    }
   ],
   "source": [
    "data.strip().split(\"\\n\")"
   ]
  },
  {
   "cell_type": "code",
   "execution_count": 5,
   "id": "6e83f3fe-2081-406e-95e5-6dbc4bba6734",
   "metadata": {},
   "outputs": [],
   "source": [
    "array = build_array_from_text(data)"
   ]
  },
  {
   "cell_type": "code",
   "execution_count": 6,
   "id": "cadd506b-8e9a-4880-b144-d08141117387",
   "metadata": {},
   "outputs": [
    {
     "data": {
      "text/plain": [
       "array([[3, 1, 1, 3, 2, 8, 4, 8, 8, 6],\n",
       "       [2, 8, 5, 1, 8, 7, 6, 1, 4, 4],\n",
       "       [2, 7, 7, 4, 6, 6, 4, 4, 8, 4],\n",
       "       [6, 7, 1, 5, 1, 1, 2, 5, 7, 8],\n",
       "       [7, 1, 4, 6, 2, 7, 2, 1, 5, 3],\n",
       "       [6, 2, 5, 6, 6, 5, 6, 3, 6, 7],\n",
       "       [3, 1, 4, 8, 6, 6, 6, 2, 4, 5],\n",
       "       [3, 8, 5, 7, 4, 4, 6, 5, 2, 8],\n",
       "       [7, 3, 2, 2, 4, 2, 2, 8, 3, 3],\n",
       "       [8, 1, 5, 2, 1, 7, 5, 1, 6, 8]])"
      ]
     },
     "execution_count": 6,
     "metadata": {},
     "output_type": "execute_result"
    }
   ],
   "source": [
    "array"
   ]
  },
  {
   "cell_type": "code",
   "execution_count": 53,
   "id": "32dd0614-a903-47bd-801e-3b547dc9d99f",
   "metadata": {},
   "outputs": [],
   "source": [
    "A = build_array_from_text(data)\n",
    "\n",
    "# A = build_array_from_text(\n",
    "#     \"\"\"\n",
    "# 5483143223\n",
    "# 2745854711\n",
    "# 5264556173\n",
    "# 6141336146\n",
    "# 6357385478\n",
    "# 4167524645\n",
    "# 2176841721\n",
    "# 6882881134\n",
    "# 4846848554\n",
    "# 5283751526\n",
    "# \"\"\"\n",
    "# )\n",
    "# A = build_array_from_text(\n",
    "#     \"\"\"\n",
    "# 11111\n",
    "# 19991\n",
    "# 19191\n",
    "# 19991\n",
    "# 11111\n",
    "# \"\"\"\n",
    "# )\n",
    "\n",
    "num_flashes = 0\n",
    "for _ in range(100):\n",
    "\n",
    "    A += 1\n",
    "\n",
    "    flashed = np.ones_like(A, dtype=np.uint8)\n",
    "\n",
    "    while True:\n",
    "        add = np.zeros_like(A, dtype=np.uint8)\n",
    "        has_changes = False\n",
    "\n",
    "        for y, x in zip(*np.where(A > 9)):\n",
    "            if flashed[y, x] == 0:\n",
    "                continue\n",
    "            add[y - 1 : y + 2, x - 1 : x + 2] += 1\n",
    "            flashed[y, x] = 0\n",
    "            has_changes = True\n",
    "            num_flashes += 1\n",
    "\n",
    "        A = A + add\n",
    "\n",
    "        if not has_changes:\n",
    "            break\n",
    "\n",
    "    A = A * flashed"
   ]
  },
  {
   "cell_type": "code",
   "execution_count": 54,
   "id": "74c172bd-1ad6-4020-a9f3-6eb147ac8274",
   "metadata": {},
   "outputs": [
    {
     "data": {
      "text/plain": [
       "1613"
      ]
     },
     "execution_count": 54,
     "metadata": {},
     "output_type": "execute_result"
    }
   ],
   "source": [
    "num_flashes"
   ]
  },
  {
   "cell_type": "code",
   "execution_count": 93,
   "id": "7616383c-f719-4273-bb6b-562d8aa1fc4d",
   "metadata": {},
   "outputs": [],
   "source": [
    "B = build_array_from_text(\n",
    "    \"\"\"\n",
    "6594254334\n",
    "3856965822\n",
    "6375667284\n",
    "7252447257\n",
    "7468496589\n",
    "5278635756\n",
    "3287952832\n",
    "7993992245\n",
    "5957959665\n",
    "6394862637\n",
    "\"\"\"\n",
    ")\n",
    "C = build_array_from_text(\n",
    "    \"\"\"\n",
    "8807476555\n",
    "5089087054\n",
    "8597889608\n",
    "8485769600\n",
    "8700908800\n",
    "6600088989\n",
    "6800005943\n",
    "0000007456\n",
    "9000000876\n",
    "8700006848\n",
    "\"\"\"\n",
    ")"
   ]
  },
  {
   "cell_type": "code",
   "execution_count": 86,
   "id": "aedec44d-abaf-4b42-8e04-cf3776fa009f",
   "metadata": {},
   "outputs": [
    {
     "data": {
      "text/plain": [
       "0"
      ]
     },
     "execution_count": 86,
     "metadata": {},
     "output_type": "execute_result"
    }
   ],
   "source": [
    "(~(A == B)).sum()"
   ]
  },
  {
   "cell_type": "code",
   "execution_count": 90,
   "id": "62aa0e17-3b7c-43eb-adc6-120ea5c89197",
   "metadata": {},
   "outputs": [
    {
     "data": {
      "text/plain": [
       "13"
      ]
     },
     "execution_count": 90,
     "metadata": {},
     "output_type": "execute_result"
    }
   ],
   "source": [
    "(~(A == C)).sum()"
   ]
  },
  {
   "cell_type": "code",
   "execution_count": null,
   "id": "28f6dc1a-daa0-43d6-9bc5-465c94e26f61",
   "metadata": {},
   "outputs": [],
   "source": []
  }
 ],
 "metadata": {
  "kernelspec": {
   "display_name": "platy-segmentation",
   "language": "python",
   "name": "platy-segmentation"
  },
  "language_info": {
   "codemirror_mode": {
    "name": "ipython",
    "version": 3
   },
   "file_extension": ".py",
   "mimetype": "text/x-python",
   "name": "python",
   "nbconvert_exporter": "python",
   "pygments_lexer": "ipython3",
   "version": "3.9.6"
  }
 },
 "nbformat": 4,
 "nbformat_minor": 5
}
