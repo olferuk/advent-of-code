{
 "cells": [
  {
   "cell_type": "code",
   "execution_count": 3,
   "id": "0cf3e7b0-505e-4c63-bf83-2ec491ee2078",
   "metadata": {},
   "outputs": [
    {
     "name": "stdout",
     "output_type": "stream",
     "text": [
      "The lab_black extension is already loaded. To reload it, use:\n",
      "  %reload_ext lab_black\n",
      "The autoreload extension is already loaded. To reload it, use:\n",
      "  %reload_ext autoreload\n"
     ]
    }
   ],
   "source": [
    "%load_ext lab_black\n",
    "%load_ext autoreload\n",
    "%autoreload 2\n",
    "\n",
    "from puzzles import load_array"
   ]
  },
  {
   "cell_type": "code",
   "execution_count": 4,
   "id": "38a2d46c-e7a2-481a-9d9c-f3ca16c85058",
   "metadata": {},
   "outputs": [],
   "source": [
    "import numpy as np"
   ]
  },
  {
   "cell_type": "markdown",
   "id": "ecc91894-0358-44d4-8f51-edb2b8983227",
   "metadata": {},
   "source": [
    "---"
   ]
  },
  {
   "cell_type": "markdown",
   "id": "d47c2941-62bf-4093-a2cb-8107d40f6243",
   "metadata": {
    "tags": []
   },
   "source": [
    "# 1"
   ]
  },
  {
   "cell_type": "code",
   "execution_count": 79,
   "id": "972e295b-a285-4626-a1dd-fc3550244f9d",
   "metadata": {},
   "outputs": [],
   "source": [
    "import matplotlib.pyplot as plt\n",
    "\n",
    "\n",
    "def show(A):\n",
    "    print(\"\\n\".join([\"\".join([str(c) for c in x]) for x in A]))"
   ]
  },
  {
   "cell_type": "code",
   "execution_count": 85,
   "id": "a6ed40a8-efac-4951-956b-8e2ca3797091",
   "metadata": {},
   "outputs": [],
   "source": [
    "from uuid import uuid4"
   ]
  },
  {
   "cell_type": "code",
   "execution_count": 118,
   "id": "8bdd4b7e-96a2-48da-bdb2-69e0b5bd5932",
   "metadata": {},
   "outputs": [],
   "source": [
    "def encode_rail_fence_cipher(string, n):\n",
    "    top = string[0 : len(string) : n // 2 * 2 + 2]\n",
    "    mdls = \"\".join([string[i + 1 : len(string) : n - 1] for i in range(n - 2)])\n",
    "    btm = string[n - 1 : len(string) : n // 2 * 2 + 2]\n",
    "    return \"\".join([top, mdls, btm])"
   ]
  },
  {
   "cell_type": "code",
   "execution_count": 119,
   "id": "bba07269-c31d-4d00-bd09-702ead59a864",
   "metadata": {},
   "outputs": [],
   "source": [
    "assert (\n",
    "    encode_rail_fence_cipher(\"WEAREDISCOVEREDFLEEATONCE\", 3)\n",
    "    == \"WECRLTEERDSOEEFEAOCAIVDEN\"\n",
    ")"
   ]
  },
  {
   "cell_type": "code",
   "execution_count": 120,
   "id": "c49377da-1573-4f22-a7ea-3e6fffa49d3a",
   "metadata": {},
   "outputs": [],
   "source": [
    "assert encode_rail_fence_cipher(\"Hello, World!\", 3) == \"Hoo!el,Wrdl l\""
   ]
  },
  {
   "cell_type": "code",
   "execution_count": 121,
   "id": "6937f0ee-cd3b-4f05-a093-f66fc920cab4",
   "metadata": {},
   "outputs": [
    {
     "data": {
      "text/plain": [
       "'H !eoWll,odlr'"
      ]
     },
     "execution_count": 121,
     "metadata": {},
     "output_type": "execute_result"
    }
   ],
   "source": [
    "encode_rail_fence_cipher(\"Hello, World!\", 4)  # == \"H !e,Wdloollr\""
   ]
  },
  {
   "cell_type": "code",
   "execution_count": 107,
   "id": "53fb4b1a-cefa-473d-9e21-4114f619a603",
   "metadata": {},
   "outputs": [
    {
     "data": {
      "text/plain": [
       "'H !'"
      ]
     },
     "execution_count": 107,
     "metadata": {},
     "output_type": "execute_result"
    }
   ],
   "source": [
    "s = \"Hello, World!\"\n",
    "s[0 : len(s) : 6]"
   ]
  },
  {
   "cell_type": "raw",
   "id": "dfcfe484-b9eb-46c2-8620-13aa8a2fd542",
   "metadata": {
    "tags": []
   },
   "source": [
    "H           !\n",
    " e   , W   d\n",
    "  l o   o l\n",
    "   l     r"
   ]
  },
  {
   "cell_type": "raw",
   "id": "6fb1ba90-99d1-4f65-be6a-ff94aed7d7cd",
   "metadata": {
    "tags": []
   },
   "source": [
    "H       o       l       d\n",
    " e     W r     l o     l !\n",
    "  l   _   l   e   ,   r\n",
    "   l ,     d H     _ o\n",
    "    o       !       W"
   ]
  },
  {
   "cell_type": "raw",
   "id": "752b119a-4348-4b8f-955f-09984531566d",
   "metadata": {
    "tags": []
   },
   "source": [
    "H           H           \n",
    " e         ! e         !\n",
    "  l       d   l       d \n",
    "   l     l     l     l\n",
    "    o   r       o   r\n",
    "     , o         , o\n",
    "      W           W"
   ]
  },
  {
   "cell_type": "code",
   "execution_count": null,
   "id": "a1b16d16-cdaf-448c-b6ca-b67e45ebfda7",
   "metadata": {},
   "outputs": [],
   "source": [
    "assert encode_rail_fence_cipher(\"\", 3), \"\")"
   ]
  },
  {
   "cell_type": "code",
   "execution_count": 95,
   "id": "8e96c278-60d1-42f0-ae10-e652e0fe566d",
   "metadata": {},
   "outputs": [],
   "source": [
    "# import glob\n",
    "# from PIL import Image\n",
    "\n",
    "# # filepaths\n",
    "# fp_in = \"/path/to/image_*.png\"\n",
    "# fp_out = \"/path/to/image.gif\"\n",
    "\n",
    "# # https://pillow.readthedocs.io/en/stable/handbook/image-file-formats.html#gif\n",
    "# imgs = (Image.open(f) for f in sorted(glob.glob(fp_in)))\n",
    "# img = next(imgs)  # extract first image from iterator\n",
    "# img.save(fp=fp_out, format='GIF', append_images=imgs,\n",
    "#          save_all=True, duration=200, loop=0)\n",
    "\n",
    "from pathlib import Path\n",
    "from PIL import Image\n",
    "from glob import glob\n",
    "\n",
    "\n",
    "class Movie:\n",
    "    def __init__(self, duration: int = 200, loop: bool = True):\n",
    "        self.duration = duration\n",
    "        self.loop = loop\n",
    "        self.path = None\n",
    "        self.n = 0\n",
    "        self.frames = []\n",
    "\n",
    "    def add(self, frame, **kwargs):\n",
    "        self._make_folder()\n",
    "        self._draw_frame(frame, **kwargs)\n",
    "\n",
    "    def produce(self, out_name):\n",
    "        out_name = self._fix_out_name(out_name)\n",
    "        self._create_gif(out_name)\n",
    "        self._cleanup()\n",
    "\n",
    "    def _fix_out_name(self, out_name: str):\n",
    "        if not out_name.endswith(\".gif\"):\n",
    "            out_name = f\"{out_name}.gif\"\n",
    "\n",
    "    def _create_gif(self, out_name: str):\n",
    "        imgs = (Image.open(f) for f in sorted(self.path.glob(\"*.png\")))\n",
    "        img = next(imgs)\n",
    "        img.save(\n",
    "            fp=out_name,\n",
    "            append_images=imgs,\n",
    "            format=\"GIF\",\n",
    "            save_all=True,\n",
    "            duration=self.duration,\n",
    "            loop=self.loop,\n",
    "        )\n",
    "\n",
    "    def _cleanup(self):\n",
    "        shutil.rmtree(self.path)\n",
    "        self.path = None\n",
    "        self.n = 0\n",
    "\n",
    "    def _make_folder(self):\n",
    "        if self.path is None:\n",
    "            self.path = Path(f\"{uuid4().hex}\")\n",
    "            self.path.mkdir(exist_ok=True)\n",
    "\n",
    "    def _draw_frame(frame, **kwargs):\n",
    "        plt.imshow(frame, **kwargs)\n",
    "        plt.savefig(str(self.path / f\"{self.n:07d.png}\"))\n",
    "        self.n += 1\n",
    "        plt.close()"
   ]
  },
  {
   "cell_type": "code",
   "execution_count": 88,
   "id": "8dda6724-deab-41fc-992e-f9a37216e6e8",
   "metadata": {},
   "outputs": [
    {
     "data": {
      "text/plain": [
       "1"
      ]
     },
     "execution_count": 88,
     "metadata": {},
     "output_type": "execute_result"
    }
   ],
   "source": [
    "s = load_array(11)\n",
    "\n",
    "# s = [\n",
    "#     [x]\n",
    "#     for x in \"\"\"5483143223\n",
    "# 2745854711\n",
    "# 5264556173\n",
    "# 6141336146\n",
    "# 6357385478\n",
    "# 4167524645\n",
    "# 2176841721\n",
    "# 6882881134\n",
    "# 4846848554\n",
    "# 5283751526\"\"\".split(\n",
    "#         \"\\n\"\n",
    "#     )\n",
    "# ]\n",
    "\n",
    "A = np.array([list(x[0]) for x in s]).astype(np.uint8)\n",
    "N = 0\n",
    "\n",
    "# for _ in range(100):\n",
    "\n",
    "iter_num = 0\n",
    "while True:\n",
    "    iter_num += 1\n",
    "\n",
    "    Anew = A.copy() + 1\n",
    "\n",
    "    flashed = set()\n",
    "    while True:\n",
    "        has_to_check = False\n",
    "        add = np.zeros_like(Anew, dtype=np.uint8)\n",
    "\n",
    "        ys, xs = np.where(Anew > 9)\n",
    "        for y, x in zip(ys, xs):\n",
    "\n",
    "            if (y, x) in flashed:\n",
    "                continue\n",
    "            has_to_check = True\n",
    "            flashed.add((y, x))\n",
    "\n",
    "            add[\n",
    "                max(y - 1, 0) : min(y + 2, Anew.shape[0]),\n",
    "                max(x - 1, 0) : min(x + 2, Anew.shape[1]),\n",
    "            ] += 1\n",
    "\n",
    "        add[ys, xs] = 0\n",
    "        Anew = Anew + add\n",
    "        for t in flashed:\n",
    "            Anew[t[0], t[1]] = 0\n",
    "\n",
    "        if not has_to_check:\n",
    "            break\n",
    "\n",
    "    A = Anew\n",
    "    break\n",
    "\n",
    "    # if (A == 0).all():\n",
    "    # break\n",
    "    # N += (A == 0).sum()\n",
    "\n",
    "iter_num"
   ]
  },
  {
   "cell_type": "code",
   "execution_count": 91,
   "id": "ccc35a30-fbd2-4c1a-8d76-06278e7d3569",
   "metadata": {},
   "outputs": [],
   "source": [
    "plt.imshow(A)\n",
    "plt.savefig(\"1.jpg\")\n",
    "plt.close()"
   ]
  },
  {
   "cell_type": "raw",
   "id": "ce07d469-9b3e-4989-99ea-8229df6d19ac",
   "metadata": {},
   "source": [
    "0481112976\n",
    "0031112009\n",
    "0041112504\n",
    "0081111406\n",
    "0099111306\n",
    "0093511233\n",
    "0442361130\n",
    "5532252350\n",
    "0532250600\n",
    "0032240000"
   ]
  },
  {
   "cell_type": "code",
   "execution_count": 81,
   "id": "8ed3d28e-73f4-4cbc-80fe-6923a3177938",
   "metadata": {},
   "outputs": [
    {
     "name": "stdout",
     "output_type": "stream",
     "text": [
      "0481112976\n",
      "0031112009\n",
      "0041112504\n",
      "0081111406\n",
      "0099111306\n",
      "0093511233\n",
      "0442361130\n",
      "5532252350\n",
      "0532250600\n",
      "0032240000\n"
     ]
    }
   ],
   "source": [
    "show(A)"
   ]
  },
  {
   "cell_type": "code",
   "execution_count": null,
   "id": "49a40a69-d93d-4421-b22e-4bdd28087d79",
   "metadata": {},
   "outputs": [],
   "source": []
  },
  {
   "cell_type": "code",
   "execution_count": null,
   "id": "31002124-7e6c-4b18-a145-03c058e61a42",
   "metadata": {},
   "outputs": [],
   "source": []
  },
  {
   "cell_type": "code",
   "execution_count": null,
   "id": "f8b3a656-227e-4124-81a6-14fd57ad55fb",
   "metadata": {},
   "outputs": [],
   "source": []
  },
  {
   "cell_type": "code",
   "execution_count": null,
   "id": "660ead50-5f38-4ff1-9661-401401db1d74",
   "metadata": {},
   "outputs": [],
   "source": []
  },
  {
   "cell_type": "code",
   "execution_count": null,
   "id": "94a29553-c8f3-429f-b516-3808c549f4f1",
   "metadata": {},
   "outputs": [],
   "source": []
  },
  {
   "cell_type": "code",
   "execution_count": null,
   "id": "92c5841b-1d70-41b7-9a31-a9bd76180400",
   "metadata": {},
   "outputs": [],
   "source": []
  },
  {
   "cell_type": "code",
   "execution_count": null,
   "id": "b41643c8-8931-4a95-b335-262d9cb28e9c",
   "metadata": {},
   "outputs": [],
   "source": []
  },
  {
   "cell_type": "code",
   "execution_count": null,
   "id": "04b46d65-2b68-4426-a428-8267039e3f46",
   "metadata": {},
   "outputs": [],
   "source": []
  },
  {
   "cell_type": "code",
   "execution_count": 4,
   "id": "b4875fba-b8e9-41b2-95a2-78c4b0272743",
   "metadata": {},
   "outputs": [
    {
     "data": {
      "text/plain": [
       "['3113284886',\n",
       " '2851876144',\n",
       " '2774664484',\n",
       " '6715112578',\n",
       " '7146272153',\n",
       " '6256656367',\n",
       " '3148666245',\n",
       " '3857446528',\n",
       " '7322422833',\n",
       " '8152175168']"
      ]
     },
     "execution_count": 4,
     "metadata": {},
     "output_type": "execute_result"
    }
   ],
   "source": [
    "data.strip().split(\"\\n\")"
   ]
  },
  {
   "cell_type": "code",
   "execution_count": 5,
   "id": "6e83f3fe-2081-406e-95e5-6dbc4bba6734",
   "metadata": {},
   "outputs": [],
   "source": [
    "array = build_array_from_text(data)"
   ]
  },
  {
   "cell_type": "code",
   "execution_count": 6,
   "id": "cadd506b-8e9a-4880-b144-d08141117387",
   "metadata": {},
   "outputs": [
    {
     "data": {
      "text/plain": [
       "array([[3, 1, 1, 3, 2, 8, 4, 8, 8, 6],\n",
       "       [2, 8, 5, 1, 8, 7, 6, 1, 4, 4],\n",
       "       [2, 7, 7, 4, 6, 6, 4, 4, 8, 4],\n",
       "       [6, 7, 1, 5, 1, 1, 2, 5, 7, 8],\n",
       "       [7, 1, 4, 6, 2, 7, 2, 1, 5, 3],\n",
       "       [6, 2, 5, 6, 6, 5, 6, 3, 6, 7],\n",
       "       [3, 1, 4, 8, 6, 6, 6, 2, 4, 5],\n",
       "       [3, 8, 5, 7, 4, 4, 6, 5, 2, 8],\n",
       "       [7, 3, 2, 2, 4, 2, 2, 8, 3, 3],\n",
       "       [8, 1, 5, 2, 1, 7, 5, 1, 6, 8]])"
      ]
     },
     "execution_count": 6,
     "metadata": {},
     "output_type": "execute_result"
    }
   ],
   "source": [
    "array"
   ]
  },
  {
   "cell_type": "code",
   "execution_count": 53,
   "id": "32dd0614-a903-47bd-801e-3b547dc9d99f",
   "metadata": {},
   "outputs": [],
   "source": [
    "A = build_array_from_text(data)\n",
    "\n",
    "# A = build_array_from_text(\n",
    "#     \"\"\"\n",
    "# 5483143223\n",
    "# 2745854711\n",
    "# 5264556173\n",
    "# 6141336146\n",
    "# 6357385478\n",
    "# 4167524645\n",
    "# 2176841721\n",
    "# 6882881134\n",
    "# 4846848554\n",
    "# 5283751526\n",
    "# \"\"\"\n",
    "# )\n",
    "# A = build_array_from_text(\n",
    "#     \"\"\"\n",
    "# 11111\n",
    "# 19991\n",
    "# 19191\n",
    "# 19991\n",
    "# 11111\n",
    "# \"\"\"\n",
    "# )\n",
    "\n",
    "num_flashes = 0\n",
    "for _ in range(100):\n",
    "\n",
    "    A += 1\n",
    "\n",
    "    flashed = np.ones_like(A, dtype=np.uint8)\n",
    "\n",
    "    while True:\n",
    "        add = np.zeros_like(A, dtype=np.uint8)\n",
    "        has_changes = False\n",
    "\n",
    "        for y, x in zip(*np.where(A > 9)):\n",
    "            if flashed[y, x] == 0:\n",
    "                continue\n",
    "            add[y - 1 : y + 2, x - 1 : x + 2] += 1\n",
    "            flashed[y, x] = 0\n",
    "            has_changes = True\n",
    "            num_flashes += 1\n",
    "\n",
    "        A = A + add\n",
    "\n",
    "        if not has_changes:\n",
    "            break\n",
    "\n",
    "    A = A * flashed"
   ]
  },
  {
   "cell_type": "code",
   "execution_count": 54,
   "id": "74c172bd-1ad6-4020-a9f3-6eb147ac8274",
   "metadata": {},
   "outputs": [
    {
     "data": {
      "text/plain": [
       "1613"
      ]
     },
     "execution_count": 54,
     "metadata": {},
     "output_type": "execute_result"
    }
   ],
   "source": [
    "num_flashes"
   ]
  },
  {
   "cell_type": "code",
   "execution_count": 93,
   "id": "7616383c-f719-4273-bb6b-562d8aa1fc4d",
   "metadata": {},
   "outputs": [],
   "source": [
    "B = build_array_from_text(\n",
    "    \"\"\"\n",
    "6594254334\n",
    "3856965822\n",
    "6375667284\n",
    "7252447257\n",
    "7468496589\n",
    "5278635756\n",
    "3287952832\n",
    "7993992245\n",
    "5957959665\n",
    "6394862637\n",
    "\"\"\"\n",
    ")\n",
    "C = build_array_from_text(\n",
    "    \"\"\"\n",
    "8807476555\n",
    "5089087054\n",
    "8597889608\n",
    "8485769600\n",
    "8700908800\n",
    "6600088989\n",
    "6800005943\n",
    "0000007456\n",
    "9000000876\n",
    "8700006848\n",
    "\"\"\"\n",
    ")"
   ]
  },
  {
   "cell_type": "code",
   "execution_count": 86,
   "id": "aedec44d-abaf-4b42-8e04-cf3776fa009f",
   "metadata": {},
   "outputs": [
    {
     "data": {
      "text/plain": [
       "0"
      ]
     },
     "execution_count": 86,
     "metadata": {},
     "output_type": "execute_result"
    }
   ],
   "source": [
    "(~(A == B)).sum()"
   ]
  },
  {
   "cell_type": "code",
   "execution_count": 90,
   "id": "62aa0e17-3b7c-43eb-adc6-120ea5c89197",
   "metadata": {},
   "outputs": [
    {
     "data": {
      "text/plain": [
       "13"
      ]
     },
     "execution_count": 90,
     "metadata": {},
     "output_type": "execute_result"
    }
   ],
   "source": [
    "(~(A == C)).sum()"
   ]
  },
  {
   "cell_type": "code",
   "execution_count": null,
   "id": "28f6dc1a-daa0-43d6-9bc5-465c94e26f61",
   "metadata": {},
   "outputs": [],
   "source": []
  }
 ],
 "metadata": {
  "kernelspec": {
   "display_name": "Python (DE)",
   "language": "python",
   "name": "python3"
  },
  "language_info": {
   "codemirror_mode": {
    "name": "ipython",
    "version": 3
   },
   "file_extension": ".py",
   "mimetype": "text/x-python",
   "name": "python",
   "nbconvert_exporter": "python",
   "pygments_lexer": "ipython3",
   "version": "3.7.12"
  }
 },
 "nbformat": 4,
 "nbformat_minor": 5
}
