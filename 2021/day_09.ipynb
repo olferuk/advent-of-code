{
 "cells": [
  {
   "cell_type": "code",
   "execution_count": 8,
   "id": "375f5f79-74a5-4b03-979b-060e45dfb54b",
   "metadata": {},
   "outputs": [
    {
     "name": "stdout",
     "output_type": "stream",
     "text": [
      "The lab_black extension is already loaded. To reload it, use:\n",
      "  %reload_ext lab_black\n"
     ]
    }
   ],
   "source": [
    "%load_ext lab_black\n",
    "\n",
    "from puzzles import load_puzzle\n",
    "\n",
    "text = load_puzzle(9)"
   ]
  },
  {
   "cell_type": "markdown",
   "id": "47da6cff-f602-4f2c-9765-c7e0bf155c7a",
   "metadata": {},
   "source": [
    "# First part"
   ]
  },
  {
   "cell_type": "code",
   "execution_count": 9,
   "id": "a1ea7376-f1ae-47f0-86cf-9107ae302013",
   "metadata": {},
   "outputs": [],
   "source": [
    "import numpy as np"
   ]
  },
  {
   "cell_type": "code",
   "execution_count": 10,
   "id": "8b491ada-6ba9-43b3-a23d-ee4b8b4f47cb",
   "metadata": {},
   "outputs": [],
   "source": [
    "def build_array_from_text(s):\n",
    "    lines = s.strip().split(\"\\n\")\n",
    "    array = np.stack([np.array(list(line)).astype(int) for line in lines])\n",
    "    return array"
   ]
  },
  {
   "cell_type": "code",
   "execution_count": 11,
   "id": "616a6785-556a-4aa2-bd05-75e7183c895e",
   "metadata": {},
   "outputs": [],
   "source": [
    "def get_neibs(i, j, array):\n",
    "    shifts = np.array([[i - 1, j], [i, j - 1], [i, j + 1], [i + 1, j]])\n",
    "    shifts = shifts[~(shifts < 0).any(axis=1)]\n",
    "    shifts = shifts[~(shifts >= array.shape).any(axis=1)]\n",
    "    return shifts"
   ]
  },
  {
   "cell_type": "code",
   "execution_count": 12,
   "id": "41eeeae0-9b21-442b-9b31-8ce836e0243f",
   "metadata": {},
   "outputs": [],
   "source": [
    "array = build_array_from_text(text)"
   ]
  },
  {
   "cell_type": "code",
   "execution_count": 13,
   "id": "72fdba31-4b9f-4579-954c-882c260028a5",
   "metadata": {},
   "outputs": [
    {
     "data": {
      "text/plain": [
       "(100, 100)"
      ]
     },
     "execution_count": 13,
     "metadata": {},
     "output_type": "execute_result"
    }
   ],
   "source": [
    "array.shape"
   ]
  },
  {
   "cell_type": "code",
   "execution_count": 5,
   "id": "9038b6a1-3f53-4168-8dbd-4d6fdc266cbc",
   "metadata": {},
   "outputs": [],
   "source": [
    "S = 0\n",
    "for y in range(array.shape[0]):\n",
    "    for x in range(array.shape[1]):\n",
    "        ys, xs = zip(*get_neibs(y, x, array))\n",
    "        lowest = (array[ys, xs] > array[y, x]).all()\n",
    "        if lowest:\n",
    "            S += array[y, x] + 1"
   ]
  },
  {
   "cell_type": "code",
   "execution_count": 6,
   "id": "67ca40ff-1c1c-48c3-b44f-9e7365af66b7",
   "metadata": {},
   "outputs": [
    {
     "data": {
      "text/plain": [
       "535"
      ]
     },
     "execution_count": 6,
     "metadata": {},
     "output_type": "execute_result"
    }
   ],
   "source": [
    "S"
   ]
  },
  {
   "cell_type": "markdown",
   "id": "3e206406-e9c9-49fa-aa57-2ddb125e4f78",
   "metadata": {},
   "source": [
    "# Second part"
   ]
  },
  {
   "cell_type": "code",
   "execution_count": 21,
   "id": "8ddb31bf-37c4-4e4a-a6aa-9e5c7be896dd",
   "metadata": {},
   "outputs": [],
   "source": [
    "array = build_array_from_text(\n",
    "    \"\"\"\n",
    "2199943210\n",
    "3987894921\n",
    "9856789892\n",
    "8767896789\n",
    "9899965678\n",
    "\"\"\"\n",
    ")"
   ]
  },
  {
   "cell_type": "code",
   "execution_count": 22,
   "id": "3f8e9df1-c176-4c13-a9f7-f9dae43b2ea5",
   "metadata": {},
   "outputs": [
    {
     "data": {
      "text/plain": [
       "(5, 10)"
      ]
     },
     "execution_count": 22,
     "metadata": {},
     "output_type": "execute_result"
    }
   ],
   "source": [
    "array.shape"
   ]
  },
  {
   "cell_type": "code",
   "execution_count": 18,
   "id": "e0445333-4960-4dfa-927d-aac842e104b3",
   "metadata": {},
   "outputs": [
    {
     "name": "stdout",
     "output_type": "stream",
     "text": [
      "(0, 1)\n",
      "(0, 9)\n",
      "(2, 2)\n",
      "(4, 6)\n"
     ]
    }
   ],
   "source": [
    "S = 0\n",
    "for y in range(array.shape[0]):\n",
    "    for x in range(array.shape[1]):\n",
    "        ys, xs = zip(*get_neibs(y, x, array))\n",
    "        lowest = (array[ys, xs] > array[y, x]).all()\n",
    "        if not lowest:\n",
    "            continue\n",
    "        \n",
    "        \n",
    "        # S += 1  # array[y, x] + 1\n",
    "        print((y, x))"
   ]
  },
  {
   "cell_type": "code",
   "execution_count": 17,
   "id": "2fc59255-d2a9-4bd2-86cf-a52719aab74f",
   "metadata": {},
   "outputs": [
    {
     "data": {
      "text/plain": [
       "4"
      ]
     },
     "execution_count": 17,
     "metadata": {},
     "output_type": "execute_result"
    }
   ],
   "source": [
    "S"
   ]
  },
  {
   "cell_type": "code",
   "execution_count": null,
   "id": "f3bc902d-dd59-48c0-9db4-b4fe566ef019",
   "metadata": {},
   "outputs": [],
   "source": []
  },
  {
   "cell_type": "code",
   "execution_count": null,
   "id": "d67dd192-930a-496e-af19-bb619f1abd45",
   "metadata": {},
   "outputs": [],
   "source": []
  }
 ],
 "metadata": {
  "kernelspec": {
   "display_name": "platy-segmentation",
   "language": "python",
   "name": "platy-segmentation"
  },
  "language_info": {
   "codemirror_mode": {
    "name": "ipython",
    "version": 3
   },
   "file_extension": ".py",
   "mimetype": "text/x-python",
   "name": "python",
   "nbconvert_exporter": "python",
   "pygments_lexer": "ipython3",
   "version": "3.9.6"
  }
 },
 "nbformat": 4,
 "nbformat_minor": 5
}
