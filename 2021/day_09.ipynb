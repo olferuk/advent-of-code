{
 "cells": [
  {
   "cell_type": "code",
   "execution_count": 27,
   "id": "cdedaf42-f4f9-419c-9a9c-d7f17630d6d9",
   "metadata": {},
   "outputs": [
    {
     "name": "stdout",
     "output_type": "stream",
     "text": [
      "The lab_black extension is already loaded. To reload it, use:\n",
      "  %reload_ext lab_black\n"
     ]
    }
   ],
   "source": [
    "%load_ext lab_black\n",
    "\n",
    "from puzzles import load_lines\n",
    "import numpy as np\n",
    "\n",
    "text = load_lines(9)\n",
    "\n",
    "import matplotlib.pyplot as plt\n",
    "\n",
    "\n",
    "def show(A):\n",
    "    show = A.copy()\n",
    "    show[show == 9] += 20\n",
    "    plt.imshow(show)\n",
    "    plt.show()"
   ]
  },
  {
   "cell_type": "code",
   "execution_count": 33,
   "id": "25e340c6-ea4b-481a-8b9e-7fde798de144",
   "metadata": {},
   "outputs": [
    {
     "data": {
      "image/png": "[encoded data removed]",
      "text/plain": [
       "<Figure size 640x480 with 1 Axes>"
      ]
     },
     "metadata": {},
     "output_type": "display_data"
    }
   ],
   "source": [
    "A = np.array([[int(x) for x in line] for line in load_lines(9)])\n",
    "show(A)"
   ]
  },
  {
   "cell_type": "raw",
   "id": "cdba08b1-46e9-4c9b-8284-1c71ade4dcec",
   "metadata": {},
   "source": [
    "test = np.array(\n",
    "    [\n",
    "        \"2199943210\",\n",
    "        \"3987894921\",\n",
    "        \"9856789892\",\n",
    "        \"8767896789\",\n",
    "        \"9899965678\",\n",
    "    ]\n",
    ")\n",
    "A = np.array([[int(x) for x in line] for line in test])\n",
    "show(A)\n",
    "show(A)"
   ]
  },
  {
   "cell_type": "markdown",
   "id": "47da6cff-f602-4f2c-9765-c7e0bf155c7a",
   "metadata": {
    "jp-MarkdownHeadingCollapsed": true
   },
   "source": [
    "# First part"
   ]
  },
  {
   "cell_type": "code",
   "execution_count": 9,
   "id": "a1ea7376-f1ae-47f0-86cf-9107ae302013",
   "metadata": {},
   "outputs": [],
   "source": [
    "import numpy as np"
   ]
  },
  {
   "cell_type": "code",
   "execution_count": 10,
   "id": "8b491ada-6ba9-43b3-a23d-ee4b8b4f47cb",
   "metadata": {},
   "outputs": [],
   "source": [
    "def build_array_from_text(s):\n",
    "    lines = s.strip().split(\"\\n\")\n",
    "    array = np.stack([np.array(list(line)).astype(int) for line in lines])\n",
    "    return array"
   ]
  },
  {
   "cell_type": "code",
   "execution_count": 11,
   "id": "616a6785-556a-4aa2-bd05-75e7183c895e",
   "metadata": {},
   "outputs": [],
   "source": [
    "def get_neibs(i, j, array):\n",
    "    shifts = np.array([[i - 1, j], [i, j - 1], [i, j + 1], [i + 1, j]])\n",
    "    shifts = shifts[~(shifts < 0).any(axis=1)]\n",
    "    shifts = shifts[~(shifts >= array.shape).any(axis=1)]\n",
    "    return shifts"
   ]
  },
  {
   "cell_type": "code",
   "execution_count": 12,
   "id": "41eeeae0-9b21-442b-9b31-8ce836e0243f",
   "metadata": {},
   "outputs": [],
   "source": [
    "array = build_array_from_text(text)"
   ]
  },
  {
   "cell_type": "code",
   "execution_count": 13,
   "id": "72fdba31-4b9f-4579-954c-882c260028a5",
   "metadata": {},
   "outputs": [
    {
     "data": {
      "text/plain": [
       "(100, 100)"
      ]
     },
     "execution_count": 13,
     "metadata": {},
     "output_type": "execute_result"
    }
   ],
   "source": [
    "array.shape"
   ]
  },
  {
   "cell_type": "code",
   "execution_count": 5,
   "id": "9038b6a1-3f53-4168-8dbd-4d6fdc266cbc",
   "metadata": {},
   "outputs": [],
   "source": [
    "S = 0\n",
    "for y in range(array.shape[0]):\n",
    "    for x in range(array.shape[1]):\n",
    "        ys, xs = zip(*get_neibs(y, x, array))\n",
    "        lowest = (array[ys, xs] > array[y, x]).all()\n",
    "        if lowest:\n",
    "            S += array[y, x] + 1"
   ]
  },
  {
   "cell_type": "code",
   "execution_count": 6,
   "id": "67ca40ff-1c1c-48c3-b44f-9e7365af66b7",
   "metadata": {},
   "outputs": [
    {
     "data": {
      "text/plain": [
       "535"
      ]
     },
     "execution_count": 6,
     "metadata": {},
     "output_type": "execute_result"
    }
   ],
   "source": [
    "S"
   ]
  },
  {
   "cell_type": "markdown",
   "id": "3e206406-e9c9-49fa-aa57-2ddb125e4f78",
   "metadata": {},
   "source": [
    "# Second part"
   ]
  },
  {
   "cell_type": "code",
   "execution_count": 38,
   "id": "ba7e100b-2290-4325-b6c8-4093fb53c70e",
   "metadata": {},
   "outputs": [],
   "source": [
    "from collections import deque\n",
    "\n",
    "from tqdm import tqdm\n",
    "\n",
    "from icecream import ic\n",
    "\n",
    "\n",
    "def mark_basin(a, y, x, marked):\n",
    "    area = 0\n",
    "    queue = deque([(y, x)])\n",
    "    while len(queue) > 0:\n",
    "        # process\n",
    "        y, x = queue.popleft()\n",
    "        if (y, x) in marked or a[y, x] == 9:\n",
    "            continue\n",
    "\n",
    "        # add to the basin\n",
    "        area += 1\n",
    "        marked.add((y, x))\n",
    "        a[y, x] = 9\n",
    "\n",
    "        # expand the basin\n",
    "        if y - 1 >= 0 and (y - 1, x) not in marked:\n",
    "            queue.append((y - 1, x))\n",
    "        if x - 1 >= 0 and (y, x - 1) not in marked:\n",
    "            queue.append((y, x - 1))\n",
    "        if y + 1 < len(a) and (y + 1, x) not in marked:\n",
    "            queue.append((y + 1, x))\n",
    "        if x + 1 < len(a[0]) and (y, x + 1) not in marked:\n",
    "            queue.append((y, x + 1))\n",
    "\n",
    "    return area"
   ]
  },
  {
   "cell_type": "code",
   "execution_count": 42,
   "id": "f3bc902d-dd59-48c0-9db4-b4fe566ef019",
   "metadata": {},
   "outputs": [
    {
     "data": {
      "text/plain": [
       "[109, 103, 100]"
      ]
     },
     "execution_count": 42,
     "metadata": {},
     "output_type": "execute_result"
    }
   ],
   "source": [
    "A = np.array([[int(x) for x in line] for line in load_lines(9)])\n",
    "\n",
    "marked_coords = set()\n",
    "areas = []\n",
    "\n",
    "for y in range(len(A)):\n",
    "    for x in range(len(A[0])):\n",
    "        # if a wall — skip\n",
    "        if A[y, x] == 9:\n",
    "            continue\n",
    "        # if a cell in seen basin — skip\n",
    "        if (y, x) in marked_coords:\n",
    "            continue\n",
    "        # otherwise, mark a basin\n",
    "        areas.append(mark_basin(A, y, x, marked_coords))\n",
    "\n",
    "sorted(areas, reverse=True)[:3]"
   ]
  },
  {
   "cell_type": "code",
   "execution_count": 41,
   "id": "c7c430a9-b666-48a8-8d0a-18731d237288",
   "metadata": {},
   "outputs": [
    {
     "data": {
      "text/plain": [
       "1122700"
      ]
     },
     "execution_count": 41,
     "metadata": {},
     "output_type": "execute_result"
    }
   ],
   "source": [
    "109 * 103 * 100"
   ]
  },
  {
   "cell_type": "code",
   "execution_count": null,
   "id": "4465b53d-0b01-481f-b5af-604e66bd3cb5",
   "metadata": {},
   "outputs": [],
   "source": []
  }
 ],
 "metadata": {
  "kernelspec": {
   "display_name": "Python 3 (ipykernel)",
   "language": "python",
   "name": "python3"
  },
  "language_info": {
   "codemirror_mode": {
    "name": "ipython",
    "version": 3
   },
   "file_extension": ".py",
   "mimetype": "text/x-python",
   "name": "python",
   "nbconvert_exporter": "python",
   "pygments_lexer": "ipython3",
   "version": "3.10.9"
  }
 },
 "nbformat": 4,
 "nbformat_minor": 5
}
