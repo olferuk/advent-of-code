{
 "cells": [
  {
   "cell_type": "code",
   "execution_count": 12,
   "id": "5612cc8e-eeea-489a-b483-b5b2e2357cd0",
   "metadata": {},
   "outputs": [
    {
     "name": "stdout",
     "output_type": "stream",
     "text": [
      "The lab_black extension is already loaded. To reload it, use:\n",
      "  %reload_ext lab_black\n"
     ]
    }
   ],
   "source": [
    "%load_ext lab_black"
   ]
  },
  {
   "cell_type": "code",
   "execution_count": 13,
   "id": "37eb35b8-13e4-41fa-b0de-df57443374c8",
   "metadata": {},
   "outputs": [],
   "source": [
    "from puzzles import load_puzzle_local"
   ]
  },
  {
   "cell_type": "markdown",
   "id": "89a463e3-025f-4a33-96d6-4487fb83aac7",
   "metadata": {},
   "source": [
    "---\n",
    "\n",
    "# 1"
   ]
  },
  {
   "cell_type": "code",
   "execution_count": 20,
   "id": "8c824590-286b-4663-aff5-0e3e8355ca94",
   "metadata": {},
   "outputs": [],
   "source": [
    "def islist(x):\n",
    "    return hasattr(x, \"__len__\")\n",
    "\n",
    "\n",
    "class Leaf:\n",
    "    def __init__(self, l, r, p=None, side=None):\n",
    "        self.l = l\n",
    "        self.r = r\n",
    "        self.p = p\n",
    "        self.side = side\n",
    "\n",
    "    def is_left_terminal(self):\n",
    "        return not isinstance(self.l, Leaf)\n",
    "\n",
    "    def is_right_terminal(self):\n",
    "        return not isinstance(self.r, Leaf)\n",
    "\n",
    "    def __repr__(self):\n",
    "        return f\"[{self.l}, {self.r}]\"\n",
    "\n",
    "\n",
    "def build_tree(x):\n",
    "    if not islist(x):\n",
    "        return x\n",
    "\n",
    "    a, b = x\n",
    "\n",
    "    if not islist(a) and not islist(b):\n",
    "        return Leaf(a, b)\n",
    "\n",
    "    l = build_tree(a)\n",
    "    r = build_tree(b)\n",
    "\n",
    "    res = Leaf(l, r)\n",
    "\n",
    "    if not res.is_left_terminal():\n",
    "        l.p = res\n",
    "        l.side = \"l\"\n",
    "    if not res.is_right_terminal():\n",
    "        r.p = res\n",
    "        r.side = \"r\"\n",
    "    return res"
   ]
  },
  {
   "cell_type": "code",
   "execution_count": 21,
   "id": "21ae66ed-b738-4da2-b366-06c637463db2",
   "metadata": {},
   "outputs": [],
   "source": [
    "def building_test(s):\n",
    "    tree = build_tree(eval(s))\n",
    "    assert str(tree).replace(\" \", \"\") == s.replace(\" \", \"\")\n",
    "    print(\"ok\")"
   ]
  },
  {
   "cell_type": "code",
   "execution_count": 22,
   "id": "b8960358-92c1-4140-8d3e-ed8cfa34d264",
   "metadata": {},
   "outputs": [
    {
     "name": "stdout",
     "output_type": "stream",
     "text": [
      "ok\n"
     ]
    }
   ],
   "source": [
    "building_test(\"[[1,2],3]\")"
   ]
  },
  {
   "cell_type": "code",
   "execution_count": 25,
   "id": "84c83a86-ba2d-4cf7-9cba-460c05c5d13f",
   "metadata": {},
   "outputs": [],
   "source": [
    "t = build_tree(eval(\"[[1,2],3]\"))"
   ]
  },
  {
   "cell_type": "code",
   "execution_count": 31,
   "id": "372f02d1-69c6-4867-b603-8fd9199684c7",
   "metadata": {},
   "outputs": [
    {
     "data": {
      "text/plain": [
       "True"
      ]
     },
     "execution_count": 31,
     "metadata": {},
     "output_type": "execute_result"
    }
   ],
   "source": [
    "t.is_right_terminal()"
   ]
  },
  {
   "cell_type": "markdown",
   "id": "7432f17b-f65d-496b-af61-3893910cab8d",
   "metadata": {},
   "source": [
    "---"
   ]
  },
  {
   "cell_type": "code",
   "execution_count": 10,
   "id": "58f49cfc-3f93-4e76-ad43-09b1e8d04da8",
   "metadata": {},
   "outputs": [],
   "source": [
    "from collections import namedtuple"
   ]
  },
  {
   "cell_type": "code",
   "execution_count": 11,
   "id": "f21e39ac-2ac1-44e0-b776-57f7669dfd56",
   "metadata": {},
   "outputs": [],
   "source": [
    "MAX_DEPTH = 4\n",
    "\n",
    "\n",
    "def do_explosion(tree):\n",
    "    should_explode(tree)\n",
    "\n",
    "\n",
    "def should_explode(\n",
    "    tree: Leaf,\n",
    "    parent: Leaf = None,\n",
    "    left: bool = None,\n",
    "    depth: int = 1,\n",
    "    was_exploding: bool = False,\n",
    "):\n",
    "    if was_exploding:\n",
    "        return\n",
    "\n",
    "    if depth > MAX_DEPTH:\n",
    "        return True\n",
    "\n",
    "    a, b = tree.l, tree.r\n",
    "\n",
    "    was_exploding = False\n",
    "\n",
    "    if not tree.is_left_terminal():\n",
    "        if should_explode(tree.l, tree, left=True, depth=depth + 1):\n",
    "            explode(tree.l, tree, left=True)\n",
    "            was_exploding = True\n",
    "\n",
    "    if not tree.is_right_terminal():\n",
    "        if should_explode(\n",
    "            tree.r, tree, left=False, depth=depth + 1, was_exploding=was_exploding\n",
    "        ):\n",
    "            explode(tree.r, tree, left=False)\n",
    "            was_exploding = True\n",
    "\n",
    "    return False\n",
    "\n",
    "\n",
    "def explode(tree: Leaf, parent: Leaf, left: bool):\n",
    "    if left:\n",
    "        parent.r += tree.r\n",
    "        # get_next_right_neighbor_value()\n",
    "        parent.l = 0\n",
    "    else:\n",
    "        parent.l += tree.l\n",
    "        # get_next_left_neighbor_value()\n",
    "        parent.r = 0"
   ]
  },
  {
   "cell_type": "code",
   "execution_count": 181,
   "id": "6cc8e7e3-6cf8-4a71-83f3-5a85f70e12d7",
   "metadata": {},
   "outputs": [],
   "source": [
    "def explosion_test(s):\n",
    "    tree = build_tree(eval(s))\n",
    "    do_explosion(tree)\n",
    "    return str(tree).replace(\" \", \"\")"
   ]
  },
  {
   "cell_type": "code",
   "execution_count": 174,
   "id": "9594a5e5-7b5f-4eb4-be96-25725219343c",
   "metadata": {},
   "outputs": [
    {
     "data": {
      "text/plain": [
       "'[[6,[5,[7,0]]],1]'"
      ]
     },
     "execution_count": 174,
     "metadata": {},
     "output_type": "execute_result"
    }
   ],
   "source": [
    "explosion_test(\"[[6,[5,[4,[3,2]]]],1]\")"
   ]
  },
  {
   "cell_type": "code",
   "execution_count": 173,
   "id": "552dcfab-5bff-4cfc-8570-f66be1abe63c",
   "metadata": {},
   "outputs": [
    {
     "ename": "AssertionError",
     "evalue": "",
     "output_type": "error",
     "traceback": [
      "\u001b[0;31m---------------------------------------------------------------------------\u001b[0m",
      "\u001b[0;31mAssertionError\u001b[0m                            Traceback (most recent call last)",
      "\u001b[0;32m/var/folders/x4/t1fx1l8s0f97y033bl0gpgcr0000gn/T/ipykernel_75142/1223868612.py\u001b[0m in \u001b[0;36m<module>\u001b[0;34m\u001b[0m\n\u001b[1;32m      2\u001b[0m \u001b[0;32massert\u001b[0m \u001b[0mexplosion_test\u001b[0m\u001b[0;34m(\u001b[0m\u001b[0;34m'[7,[6,[5,[4,[3,2]]]]]'\u001b[0m\u001b[0;34m)\u001b[0m \u001b[0;34m==\u001b[0m \u001b[0;34m'[7,[6,[5,[7,0]]]]'\u001b[0m\u001b[0;34m\u001b[0m\u001b[0;34m\u001b[0m\u001b[0m\n\u001b[1;32m      3\u001b[0m \u001b[0;34m\u001b[0m\u001b[0m\n\u001b[0;32m----> 4\u001b[0;31m \u001b[0;32massert\u001b[0m \u001b[0mexplosion_test\u001b[0m\u001b[0;34m(\u001b[0m\u001b[0;34m'[[6,[5,[4,[3,2]]]],1]'\u001b[0m\u001b[0;34m)\u001b[0m \u001b[0;34m==\u001b[0m \u001b[0;34m'[[6,[5,[7,0]]],3]'\u001b[0m\u001b[0;34m\u001b[0m\u001b[0;34m\u001b[0m\u001b[0m\n\u001b[0m\u001b[1;32m      5\u001b[0m \u001b[0;34m\u001b[0m\u001b[0m\n\u001b[1;32m      6\u001b[0m \u001b[0;32massert\u001b[0m \u001b[0mexplosion_test\u001b[0m\u001b[0;34m(\u001b[0m\u001b[0;34m'[[3,[2,[1,[7,3]]]],[6,[5,[4,[3,2]]]]]'\u001b[0m\u001b[0;34m)\u001b[0m \u001b[0;34m==\u001b[0m \u001b[0;34m'[[3,[2,[8,0]]],[9,[5,[4,[3,2]]]]]'\u001b[0m\u001b[0;34m\u001b[0m\u001b[0;34m\u001b[0m\u001b[0m\n",
      "\u001b[0;31mAssertionError\u001b[0m: "
     ]
    }
   ],
   "source": [
    "assert explosion_test('[[[[[9,8],1],2],3],4]') == '[[[[0,9],2],3],4]'\n",
    "assert explosion_test('[7,[6,[5,[4,[3,2]]]]]') == '[7,[6,[5,[7,0]]]]'\n",
    "\n",
    "assert explosion_test('[[6,[5,[4,[3,2]]]],1]') == '[[6,[5,[7,0]]],3]'\n",
    "\n",
    "assert explosion_test('[[3,[2,[1,[7,3]]]],[6,[5,[4,[3,2]]]]]') == '[[3,[2,[8,0]]],[9,[5,[4,[3,2]]]]]'\n",
    "assert explosion_test('[[3,[2,[8,0]]],[9,[5,[4,[3,2]]]]]') == '[[3,[2,[8,0]]],[9,[5,[7,0]]]]'\n"
   ]
  },
  {
   "cell_type": "code",
   "execution_count": 118,
   "id": "b4a6156f-c750-4830-a3e9-d3869ed2566c",
   "metadata": {},
   "outputs": [
    {
     "data": {
      "text/plain": [
       "'[[[[0,9],2],3],4]'"
      ]
     },
     "execution_count": 118,
     "metadata": {},
     "output_type": "execute_result"
    }
   ],
   "source": [
    "explosion_test(\"[[[[[9,8],1],2],3],4]\")"
   ]
  },
  {
   "cell_type": "code",
   "execution_count": null,
   "id": "ea753304-b5c3-401c-880c-1733212f2203",
   "metadata": {},
   "outputs": [],
   "source": [
    "assert explosion_test(\"[[[[[9,8],1],2],3],4]\") == '[7, [6, [5, [7, 0]]]]'"
   ]
  },
  {
   "cell_type": "code",
   "execution_count": null,
   "id": "ad614f46-bb99-4084-8d51-f771d20001e5",
   "metadata": {},
   "outputs": [],
   "source": [
    "[7,[6,[5,[4,[3,2]]]]]"
   ]
  },
  {
   "cell_type": "code",
   "execution_count": 114,
   "id": "dfab4d79-7208-4e08-80c3-3193eafeb6be",
   "metadata": {},
   "outputs": [
    {
     "data": {
      "text/plain": [
       "'[[[[0, 9], 2], 3], 4]'"
      ]
     },
     "execution_count": 114,
     "metadata": {},
     "output_type": "execute_result"
    }
   ],
   "source": [
    "a = eval(\"[[[[[9,8],1],2],3],4]\")\n",
    "tree = build_tree(a)\n",
    "do_explosion(tree)\n",
    "str(tree)"
   ]
  },
  {
   "cell_type": "code",
   "execution_count": 82,
   "id": "92c28b1f-22af-4931-bde2-0dfa56525558",
   "metadata": {},
   "outputs": [
    {
     "data": {
      "text/plain": [
       "False"
      ]
     },
     "execution_count": 82,
     "metadata": {},
     "output_type": "execute_result"
    }
   ],
   "source": [
    "tree.is_right_terminal()"
   ]
  },
  {
   "cell_type": "code",
   "execution_count": 39,
   "id": "4f50381c-71e8-4b53-b622-2fb6b3170c72",
   "metadata": {},
   "outputs": [
    {
     "data": {
      "text/plain": [
       "[9, 8]"
      ]
     },
     "execution_count": 39,
     "metadata": {},
     "output_type": "execute_result"
    }
   ],
   "source": [
    "Leaf([9, 8])"
   ]
  },
  {
   "cell_type": "code",
   "execution_count": 13,
   "id": "46ed5713-73ed-4267-9bce-abff8c389716",
   "metadata": {},
   "outputs": [],
   "source": []
  },
  {
   "cell_type": "code",
   "execution_count": 30,
   "id": "8fe3bf65-5fe7-4ef7-8eb7-ca6b0f7ca5dd",
   "metadata": {},
   "outputs": [],
   "source": []
  },
  {
   "cell_type": "code",
   "execution_count": 31,
   "id": "f1c05de0-5ff4-42dc-9609-b4a07cbbdb7a",
   "metadata": {},
   "outputs": [
    {
     "name": "stdout",
     "output_type": "stream",
     "text": [
      "depth>4=False\tleft=None\tx=[[[[[9, 8], 1], 2], 3], 4]\n",
      "depth>4=False\tleft=True\tx=[[[[9, 8], 1], 2], 3]\n",
      "depth>4=False\tleft=True\tx=[[[9, 8], 1], 2]\n",
      "depth>4=False\tleft=True\tx=[[9, 8], 1]\n",
      "depth>4=True\tleft=True\tx=[9, 8]\n"
     ]
    },
    {
     "data": {
      "text/plain": [
       "False"
      ]
     },
     "execution_count": 31,
     "metadata": {},
     "output_type": "execute_result"
    }
   ],
   "source": [
    "check_for_explosion(a)"
   ]
  },
  {
   "cell_type": "code",
   "execution_count": null,
   "id": "acea4bc9-d40b-4559-8886-5f4dfa31ee61",
   "metadata": {},
   "outputs": [],
   "source": []
  }
 ],
 "metadata": {
  "kernelspec": {
   "display_name": "platy-segmentation",
   "language": "python",
   "name": "platy-segmentation"
  },
  "language_info": {
   "codemirror_mode": {
    "name": "ipython",
    "version": 3
   },
   "file_extension": ".py",
   "mimetype": "text/x-python",
   "name": "python",
   "nbconvert_exporter": "python",
   "pygments_lexer": "ipython3",
   "version": "3.9.6"
  }
 },
 "nbformat": 4,
 "nbformat_minor": 5
}
