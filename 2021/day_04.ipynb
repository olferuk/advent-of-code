{
 "cells": [
  {
   "cell_type": "code",
   "execution_count": 4,
   "id": "d177985f-ed7f-4b31-9e47-b9446ea02bfd",
   "metadata": {
    "tags": []
   },
   "outputs": [
    {
     "name": "stdout",
     "output_type": "stream",
     "text": [
      "The lab_black extension is already loaded. To reload it, use:\n",
      "  %reload_ext lab_black\n"
     ]
    }
   ],
   "source": [
    "%load_ext lab_black\n",
    "\n",
    "from puzzles import load_puzzle\n",
    "\n",
    "s = load_puzzle(4)"
   ]
  },
  {
   "cell_type": "code",
   "execution_count": 5,
   "id": "d1d19540-b2ed-4d00-8281-2cbd96bfaeb6",
   "metadata": {},
   "outputs": [],
   "source": [
    "with open(\"data/04.txt\", \"w\") as f:\n",
    "    f.write(s)"
   ]
  },
  {
   "cell_type": "markdown",
   "id": "36d6faa4-be09-41dd-a4a3-8763165c2296",
   "metadata": {
    "tags": []
   },
   "source": [
    "# First Part"
   ]
  },
  {
   "cell_type": "code",
   "execution_count": 6,
   "id": "cb86ace8-bd09-444b-84b5-70f0858431a1",
   "metadata": {},
   "outputs": [
    {
     "data": {
      "text/plain": [
       "100"
      ]
     },
     "execution_count": 6,
     "metadata": {},
     "output_type": "execute_result"
    }
   ],
   "source": [
    "data = s.split(\"\\n\")\n",
    "\n",
    "numbers = data[0]\n",
    "\n",
    "numbers = [int(x) for x in numbers.split(\",\")]\n",
    "\n",
    "len(numbers)"
   ]
  },
  {
   "cell_type": "markdown",
   "id": "1ce3911c-d8b9-4bff-9d15-018bfd22ce3b",
   "metadata": {},
   "source": [
    "---"
   ]
  },
  {
   "cell_type": "code",
   "execution_count": 7,
   "id": "b15aace5-5e0e-4c39-b9f2-66fe033ccfb0",
   "metadata": {},
   "outputs": [],
   "source": [
    "import numpy as np\n",
    "\n",
    "\n",
    "class Ticket:\n",
    "    def __init__(self, ticket_data: list[str]):\n",
    "        self.data = np.array([[int(x) for x in line.split()] for line in ticket_data])\n",
    "\n",
    "    def get_solve_stats(self, numbers):\n",
    "        n_turns = 0\n",
    "        solving = np.ones_like(self.data, dtype=np.int32)\n",
    "\n",
    "        for n in numbers:\n",
    "            n_turns += 1\n",
    "\n",
    "            mask = self.data == n\n",
    "            if mask.sum() == 0:\n",
    "                continue\n",
    "\n",
    "            solving[mask] = 0\n",
    "\n",
    "            if (solving.sum(axis=0) == 0).any() or (solving.sum(axis=1) == 0).any():\n",
    "                ys, xs = np.where(solving)\n",
    "                s = self.data[ys, xs].sum()\n",
    "                return n_turns, n * s"
   ]
  },
  {
   "cell_type": "code",
   "execution_count": 8,
   "id": "83659044-8b4c-430a-af58-c2ea8dff106c",
   "metadata": {},
   "outputs": [],
   "source": [
    "tickets = [Ticket(data[i + 2 : i + 7]) for i in range(0, len(data[2:]), 6)]"
   ]
  },
  {
   "cell_type": "code",
   "execution_count": 9,
   "id": "eecadfa0-f003-4ec2-8ea3-29022459ce0e",
   "metadata": {},
   "outputs": [
    {
     "data": {
      "text/plain": [
       "(43, 52668)"
      ]
     },
     "execution_count": 9,
     "metadata": {},
     "output_type": "execute_result"
    }
   ],
   "source": [
    "tickets[0].get_solve_stats(numbers)"
   ]
  },
  {
   "cell_type": "code",
   "execution_count": 10,
   "id": "f1f5021b-2ea0-454d-b7d1-ec160b11fc6c",
   "metadata": {},
   "outputs": [],
   "source": [
    "n_turns, stats = zip(*[t.get_solve_stats(numbers) for t in tickets])"
   ]
  },
  {
   "cell_type": "code",
   "execution_count": 11,
   "id": "03a9aff7-2d6d-46f7-97fe-f69fbb511291",
   "metadata": {},
   "outputs": [
    {
     "data": {
      "text/plain": [
       "25023"
      ]
     },
     "execution_count": 11,
     "metadata": {},
     "output_type": "execute_result"
    }
   ],
   "source": [
    "stats[np.array(n_turns).argmin()]"
   ]
  },
  {
   "cell_type": "markdown",
   "id": "81019a8e-8b85-4b32-8fd2-1f465cb63692",
   "metadata": {
    "tags": []
   },
   "source": [
    "# Second Part"
   ]
  },
  {
   "cell_type": "code",
   "execution_count": 12,
   "id": "cf40689f-2f0e-4c74-abf4-09c5c430c70e",
   "metadata": {},
   "outputs": [
    {
     "data": {
      "text/plain": [
       "2634"
      ]
     },
     "execution_count": 12,
     "metadata": {},
     "output_type": "execute_result"
    }
   ],
   "source": [
    "stats[np.array(n_turns).argmax()]"
   ]
  }
 ],
 "metadata": {
  "kernelspec": {
   "display_name": "platy-segmentation",
   "language": "python",
   "name": "platy-segmentation"
  },
  "language_info": {
   "codemirror_mode": {
    "name": "ipython",
    "version": 3
   },
   "file_extension": ".py",
   "mimetype": "text/x-python",
   "name": "python",
   "nbconvert_exporter": "python",
   "pygments_lexer": "ipython3",
   "version": "3.9.6"
  }
 },
 "nbformat": 4,
 "nbformat_minor": 5
}
