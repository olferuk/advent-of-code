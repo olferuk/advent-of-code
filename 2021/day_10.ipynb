{
 "cells": [
  {
   "cell_type": "code",
   "execution_count": 1,
   "id": "68d72c3f-6f00-4540-9c79-2be290cdcc59",
   "metadata": {},
   "outputs": [],
   "source": [
    "%load_ext lab_black\n",
    "\n",
    "from puzzles import load_puzzle"
   ]
  },
  {
   "cell_type": "markdown",
   "id": "70b37897-1a19-471a-b029-cd3ad5854fea",
   "metadata": {},
   "source": [
    "# First part"
   ]
  },
  {
   "cell_type": "code",
   "execution_count": 2,
   "id": "a9407f21-5e21-4672-90b7-b9f2cfaad4bf",
   "metadata": {},
   "outputs": [],
   "source": [
    "pairs = {\n",
    "    \"<\": \">\",\n",
    "    \"(\": \")\",\n",
    "    \"[\": \"]\",\n",
    "    \"{\": \"}\",\n",
    "}\n",
    "\n",
    "error_scores = {\n",
    "    \")\": 3,\n",
    "    \"]\": 57,\n",
    "    \"}\": 1197,\n",
    "    \">\": 25137,\n",
    "}\n",
    "\n",
    "\n",
    "def check_line(line, pairs, error_scores):\n",
    "    stack = []\n",
    "    error_score = 0\n",
    "    for c in line:\n",
    "        if len(stack) == 0:\n",
    "            stack.append(c)\n",
    "            continue\n",
    "        if c == pairs.get(stack[-1], \"\"):\n",
    "            _ = stack.pop()\n",
    "            continue\n",
    "        if c in pairs:\n",
    "            stack.append(c)\n",
    "        else:\n",
    "            error_score = error_scores[c] if error_score == 0 else error_score\n",
    "    return error_score, stack"
   ]
  },
  {
   "cell_type": "code",
   "execution_count": 3,
   "id": "d5a4fa71-5011-4e20-8382-2cd9f24b4c9f",
   "metadata": {},
   "outputs": [
    {
     "name": "stdout",
     "output_type": "stream",
     "text": [
      "[({(<(())[]>[[{[]{<()<>> \n",
      "\n",
      "26397\n"
     ]
    }
   ],
   "source": [
    "test_data = \"\"\"[({(<(())[]>[[{[]{<()<>>\n",
    "[(()[<>])]({[<{<<[]>>(\n",
    "{([(<{}[<>[]}>{[]{[(<()>\n",
    "(((({<>}<{<{<>}{[]{[]{}\n",
    "[[<[([]))<([[{}[[()]]]\n",
    "[{[{({}]{}}([{[{{{}}([]\n",
    "{<[[]]>}<{[{[{[]{()[[[]\n",
    "[<(<(<(<{}))><([]([]()\n",
    "<{([([[(<>()){}]>(<<{{\n",
    "<{([{{}}[<[[[<>{}]]]>[]]\"\"\".split(\n",
    "    \"\\n\"\n",
    ")\n",
    "\n",
    "print(test_data[0], \"\\n\")\n",
    "\n",
    "sum_errors = 0\n",
    "for line in test_data:\n",
    "    error, stack = check_line(line, pairs, error_scores)\n",
    "    sum_errors += error\n",
    "\n",
    "print(sum_errors)"
   ]
  },
  {
   "cell_type": "code",
   "execution_count": 4,
   "id": "03e22f8e-41cf-46e7-bb34-567c2dcf920d",
   "metadata": {},
   "outputs": [
    {
     "data": {
      "text/plain": [
       "110"
      ]
     },
     "execution_count": 4,
     "metadata": {},
     "output_type": "execute_result"
    }
   ],
   "source": [
    "data = load_puzzle(10).strip().split(\"\\n\")\n",
    "\n",
    "len(data)"
   ]
  },
  {
   "cell_type": "code",
   "execution_count": 5,
   "id": "d669b144-d65d-4d81-b2b3-a4dbb39251bc",
   "metadata": {},
   "outputs": [
    {
     "name": "stdout",
     "output_type": "stream",
     "text": [
      "394647\n"
     ]
    }
   ],
   "source": [
    "sum_errors = 0\n",
    "filtered = []\n",
    "\n",
    "for line in data:\n",
    "    error, stack = check_line(line, pairs, error_scores)\n",
    "    if error == 0:\n",
    "        filtered.append(line)\n",
    "    sum_errors += error\n",
    "\n",
    "print(sum_errors)\n",
    "\n",
    "# len(filtered)"
   ]
  },
  {
   "cell_type": "markdown",
   "id": "8016180e-3e84-4cc9-b147-fdb63794d4a6",
   "metadata": {},
   "source": [
    "# Second part"
   ]
  },
  {
   "cell_type": "code",
   "execution_count": 6,
   "id": "60c97a79-0b96-47e3-92bd-ac7939a9570f",
   "metadata": {},
   "outputs": [
    {
     "data": {
      "text/plain": [
       "288957"
      ]
     },
     "execution_count": 6,
     "metadata": {},
     "output_type": "execute_result"
    }
   ],
   "source": [
    "test_data = \"\"\"\n",
    "[({(<(())[]>[[{[]{<()<>>\n",
    "[(()[<>])]({[<{<<[]>>(\n",
    "(((({<>}<{<{<>}{[]{[]{}\n",
    "{<[[]]>}<{[{[{[]{()[[[]\n",
    "<{([{{}}[<[[[<>{}]]]>[]]\n",
    "\"\"\".strip().split(\n",
    "    \"\\n\"\n",
    ")\n",
    "\n",
    "scores = []\n",
    "for line in test_data:\n",
    "    _, stack = check_line(line, pairs, error_scores)\n",
    "    closing_seq = \"\".join([pairs[x] for x in stack[::-1]])\n",
    "    nums = [\" )]}>\".index(c) for c in closing_seq]\n",
    "\n",
    "    S = 0\n",
    "    for n in nums:\n",
    "        S *= 5\n",
    "        S += n\n",
    "    scores.append(S)\n",
    "\n",
    "n = len(scores) // 2\n",
    "sorted(scores)[n]"
   ]
  },
  {
   "cell_type": "markdown",
   "id": "66b2ce37-35b5-4afb-9d6f-e17edbf8852f",
   "metadata": {},
   "source": [
    "---"
   ]
  },
  {
   "cell_type": "code",
   "execution_count": 9,
   "id": "76b61d90-d729-4143-b9ca-eb487c94b928",
   "metadata": {},
   "outputs": [
    {
     "data": {
      "text/plain": [
       "2380061249"
      ]
     },
     "execution_count": 9,
     "metadata": {},
     "output_type": "execute_result"
    }
   ],
   "source": [
    "scores = []\n",
    "for line in filtered:\n",
    "    _, stack = check_line(line, pairs, error_scores)\n",
    "    closing_seq = \"\".join([pairs[x] for x in stack[::-1]])\n",
    "    nums = [\" )]}>\".index(c) for c in closing_seq]\n",
    "    S = 0\n",
    "    for n in nums:\n",
    "        S *= 5\n",
    "        S += n\n",
    "    scores.append(S)\n",
    "\n",
    "n = len(scores) // 2\n",
    "sorted(scores)[n]"
   ]
  }
 ],
 "metadata": {
  "kernelspec": {
   "display_name": "platy-segmentation",
   "language": "python",
   "name": "platy-segmentation"
  },
  "language_info": {
   "codemirror_mode": {
    "name": "ipython",
    "version": 3
   },
   "file_extension": ".py",
   "mimetype": "text/x-python",
   "name": "python",
   "nbconvert_exporter": "python",
   "pygments_lexer": "ipython3",
   "version": "3.9.6"
  }
 },
 "nbformat": 4,
 "nbformat_minor": 5
}
