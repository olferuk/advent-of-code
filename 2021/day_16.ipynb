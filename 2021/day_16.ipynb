{
 "cells": [
  {
   "cell_type": "code",
   "execution_count": 51,
   "id": "0aac5889-eb67-4af9-a4a5-623ddc82bd5d",
   "metadata": {},
   "outputs": [],
   "source": [
    "from typing import Tuple, Any"
   ]
  },
  {
   "cell_type": "code",
   "execution_count": 71,
   "id": "b095c94a-ffa9-4cef-b745-a98deeb06941",
   "metadata": {},
   "outputs": [],
   "source": [
    "task = \"\"\"020D64AEE52E55B4C017938FBBAC2D6002A53D21F9E90C18023600B80021D0862DC1700043232C2284D3B0105007251DE33CF281802D0E7001A0958C3B6EB542D2014340010B89112E228803518E2047E0004322B4128352DFE72BFE1CC77000E226B92FF7F7F0F4899CCEB788FBA632A444019349E40A801CA941898B661ECBC40820061A78E254024C126797B31A804B27C0582B2D7D4AF02791E431531100B2458A6219D29CB6C4247F7D6DB27BCBA4065138014C05B00801CC0513280108047020106460079801000332200B60002832801C200718012801503801A800B02801723F9B90009D6600D44A87B0CC8010B89D0661F980331F20A44470076767F8EF75AA94F5E1E6E9790C9008BF801AB8002171CA2A45C100661FC508B911C8043EC00C224BB8A753A6677FDB7B8EA85932F4600BE0039138612F684AB86392889C4A201253C013100623D464834200CC1787D09E76FC78200A16603A543E6D9E695E4C74C012D004646D08CAF74391B4232BDD1E4FFEE033805B3DAB074ACF351399FCCEA5F592697E1CB802B2D1D0BCFE410C015B004E46BE17973C949C213153005A6932C0129BDF675DD2CBF3482401BE7802D37AA4DFE6F549BD4A42363A200D5F40149985FEDF2ACF35AB4BD3003004A730F74019B8803F08A0943B1007A21C2487C0002DC578BC600A497B35A8050020F24432444401415002AF07A7F7FE004DB93001A931FC33A802B37FB517A4A52254010E2374C637895BF7E5CC66F53EB0CC2F4C92080292B1E7A0DB26BE6008CE1ACC801804938F530A1227F2A6A4004349A31009F7801A900021908A18C5D100722C43C8F9312CFD4040269934949661E0096FE75092ACA4F0B6A005CD6CBE1218027258AA3F00439377F5D566E338D121C0239DD9C4942FA4E8F73DFA62656402704E523896FAE9E00B4E779DE6BF15595C56DBF0ACD391802F400FA4FEADD769FD5BAE7318FCF32AB8\"\"\""
   ]
  },
  {
   "cell_type": "code",
   "execution_count": 77,
   "id": "3998fc58-f8e5-4500-ad66-fa6c0d0ba5f6",
   "metadata": {},
   "outputs": [
    {
     "data": {
      "text/plain": [
       "1404"
      ]
     },
     "execution_count": 77,
     "metadata": {},
     "output_type": "execute_result"
    }
   ],
   "source": [
    "len(task)"
   ]
  },
  {
   "cell_type": "code",
   "execution_count": 73,
   "id": "bf3a9e3f-2ef0-46c4-a73a-dbf7510b0449",
   "metadata": {},
   "outputs": [
    {
     "data": {
      "text/plain": [
       "5616"
      ]
     },
     "execution_count": 73,
     "metadata": {},
     "output_type": "execute_result"
    }
   ],
   "source": [
    "len(task)*4"
   ]
  },
  {
   "cell_type": "code",
   "execution_count": 28,
   "id": "64c46f82-4189-4f37-b6c2-2a2d00924d8b",
   "metadata": {},
   "outputs": [],
   "source": [
    "from icecream import ic"
   ]
  },
  {
   "cell_type": "code",
   "execution_count": 34,
   "id": "4a50beac-e089-434a-a078-7496274dba7a",
   "metadata": {},
   "outputs": [
    {
     "name": "stderr",
     "output_type": "stream",
     "text": [
      "ic| s: '111000000000000110111101000101001010010001001000000000'\n",
      "ic| 'Its an operator'\n",
      "ic| result: ('111', '000')\n"
     ]
    },
    {
     "data": {
      "text/plain": [
       "('111', '000')"
      ]
     },
     "execution_count": 34,
     "metadata": {},
     "output_type": "execute_result"
    }
   ],
   "source": [
    "# packet = \"D2FE28\"\n",
    "packet = \"38006F45291200\"\n",
    "\n",
    "s = f\"{int(packet, base=16):b}\"\n",
    "ic(s)\n",
    "\n",
    "v, t, ns = s[:3], s[3:6], s[6:]\n",
    "if t == '100':\n",
    "    ic('Its a number')\n",
    "    numbers = [int(s[7+c:6+c+5], base=2) for c in range(0, len(s[6:]), 5) if len(s[6+c:6+c+5]) == 5]\n",
    "    number = sum([numbers[i] << (4*(len(numbers) - 1 - i)) for i in range(len(numbers))])\n",
    "    result = (v, t, number)\n",
    "else:\n",
    "    ic('Its an operator')\n",
    "    result = (v, t)\n",
    "ic(result)"
   ]
  },
  {
   "cell_type": "code",
   "execution_count": 74,
   "id": "b7568b56-f1b8-4390-ac0a-6d5166728884",
   "metadata": {},
   "outputs": [],
   "source": [
    "def parse(packet):\n",
    "    for s in packet:\n",
    "        for c in f\"{int(s, base=16):04b}\":\n",
    "            yield c\n",
    "\n",
    "cnt = 0\n",
    "def take(gen, n):\n",
    "    global cnt\n",
    "    cnt += 1\n",
    "    return [next(gen) for _ in range(n)]\n",
    "\n",
    "def read_as_number(gen, n):\n",
    "    return int(\"\".join(take(gen, n)), base=2)"
   ]
  },
  {
   "cell_type": "raw",
   "id": "5fc075b9-8301-4c1b-8e47-6f6162b5dd5c",
   "metadata": {},
   "source": [
    "VERSION = 0\n",
    "\n",
    "# packet = \"D2FE28\"\n",
    "# packet = \"38006F45291200\"\n",
    "# packet = \"620080001611562C8802118E34\"\n",
    "packet = task\n",
    "\n",
    "gen = parse(packet)\n",
    "\n",
    "def extract(gen) -> Tuple[int, int, Any]:\n",
    "    global VERSION\n",
    "    \n",
    "    # ic(\"====\")\n",
    "    v = read_as_number(gen, 3)\n",
    "    # VERSION += v\n",
    "    t = read_as_number(gen, 3)\n",
    "    # ic(v, t)\n",
    "    bits_read = 6\n",
    "    if t != 4:\n",
    "        ic(\"Operator\")\n",
    "        I = read_as_number(gen, 1)\n",
    "        bits_read += 1\n",
    "        length = read_as_number(gen, 15 if I == 0 else 11)\n",
    "        # ic(length)\n",
    "\n",
    "        args = []\n",
    "\n",
    "        if I == 0:\n",
    "            read = 0\n",
    "            while read < length:\n",
    "                result = extract(gen)\n",
    "                read += result[0]\n",
    "                args.append(result[1:])\n",
    "        else:\n",
    "            for _ in range(length):\n",
    "                result = extract(gen)\n",
    "                args.append(result[1:])\n",
    "\n",
    "        \n",
    "        \n",
    "        return (v, t, args)\n",
    "    else:\n",
    "        # ic(\"Literal\")\n",
    "        proceed = True\n",
    "        number = 0\n",
    "        while proceed:\n",
    "            proceed = bool(read_as_number(gen, 1))\n",
    "            bits_read += 1\n",
    "            number = number << 4\n",
    "            number += read_as_number(gen, 4)\n",
    "            bits_read += 4\n",
    "        return bits_read, v, t, number\n",
    "\n",
    "_ = extract(gen)\n",
    "VERSION"
   ]
  },
  {
   "cell_type": "code",
   "execution_count": 75,
   "id": "59ca827d-d3cd-4400-ac69-cf320d6e6ea9",
   "metadata": {},
   "outputs": [
    {
     "ename": "StopIteration",
     "evalue": "",
     "output_type": "error",
     "traceback": [
      "\u001b[0;31m---------------------------------------------------------------------------\u001b[0m",
      "\u001b[0;31mStopIteration\u001b[0m                             Traceback (most recent call last)",
      "Cell \u001b[0;32mIn[75], line 51\u001b[0m\n\u001b[1;32m     48\u001b[0m             bits_read \u001b[38;5;241m+\u001b[39m\u001b[38;5;241m=\u001b[39m \u001b[38;5;241m4\u001b[39m\n\u001b[1;32m     49\u001b[0m         \u001b[38;5;28;01mreturn\u001b[39;00m bits_read, v, t, number\n\u001b[0;32m---> 51\u001b[0m root \u001b[38;5;241m=\u001b[39m \u001b[43mextract\u001b[49m\u001b[43m(\u001b[49m\u001b[43mgen\u001b[49m\u001b[43m)\u001b[49m\n\u001b[1;32m     52\u001b[0m \u001b[38;5;66;03m# VERSION\u001b[39;00m\n",
      "Cell \u001b[0;32mIn[75], line 35\u001b[0m, in \u001b[0;36mextract\u001b[0;34m(gen)\u001b[0m\n\u001b[1;32m     33\u001b[0m \u001b[38;5;28;01melse\u001b[39;00m:\n\u001b[1;32m     34\u001b[0m     \u001b[38;5;28;01mfor\u001b[39;00m _ \u001b[38;5;129;01min\u001b[39;00m \u001b[38;5;28mrange\u001b[39m(length):\n\u001b[0;32m---> 35\u001b[0m         result \u001b[38;5;241m=\u001b[39m \u001b[43mextract\u001b[49m\u001b[43m(\u001b[49m\u001b[43mgen\u001b[49m\u001b[43m)\u001b[49m\n\u001b[1;32m     36\u001b[0m         args\u001b[38;5;241m.\u001b[39mappend(result[\u001b[38;5;241m1\u001b[39m:])                \n\u001b[1;32m     38\u001b[0m \u001b[38;5;28;01mreturn\u001b[39;00m (v, t, args)\n",
      "Cell \u001b[0;32mIn[75], line 30\u001b[0m, in \u001b[0;36mextract\u001b[0;34m(gen)\u001b[0m\n\u001b[1;32m     28\u001b[0m read \u001b[38;5;241m=\u001b[39m \u001b[38;5;241m0\u001b[39m\n\u001b[1;32m     29\u001b[0m \u001b[38;5;28;01mwhile\u001b[39;00m read \u001b[38;5;241m<\u001b[39m length:\n\u001b[0;32m---> 30\u001b[0m     result \u001b[38;5;241m=\u001b[39m \u001b[43mextract\u001b[49m\u001b[43m(\u001b[49m\u001b[43mgen\u001b[49m\u001b[43m)\u001b[49m\n\u001b[1;32m     31\u001b[0m     read \u001b[38;5;241m+\u001b[39m\u001b[38;5;241m=\u001b[39m result[\u001b[38;5;241m0\u001b[39m]\n\u001b[1;32m     32\u001b[0m     args\u001b[38;5;241m.\u001b[39mappend(result[\u001b[38;5;241m1\u001b[39m:])\n",
      "Cell \u001b[0;32mIn[75], line 30\u001b[0m, in \u001b[0;36mextract\u001b[0;34m(gen)\u001b[0m\n\u001b[1;32m     28\u001b[0m read \u001b[38;5;241m=\u001b[39m \u001b[38;5;241m0\u001b[39m\n\u001b[1;32m     29\u001b[0m \u001b[38;5;28;01mwhile\u001b[39;00m read \u001b[38;5;241m<\u001b[39m length:\n\u001b[0;32m---> 30\u001b[0m     result \u001b[38;5;241m=\u001b[39m \u001b[43mextract\u001b[49m\u001b[43m(\u001b[49m\u001b[43mgen\u001b[49m\u001b[43m)\u001b[49m\n\u001b[1;32m     31\u001b[0m     read \u001b[38;5;241m+\u001b[39m\u001b[38;5;241m=\u001b[39m result[\u001b[38;5;241m0\u001b[39m]\n\u001b[1;32m     32\u001b[0m     args\u001b[38;5;241m.\u001b[39mappend(result[\u001b[38;5;241m1\u001b[39m:])\n",
      "    \u001b[0;31m[... skipping similar frames: extract at line 30 (1 times)]\u001b[0m\n",
      "Cell \u001b[0;32mIn[75], line 35\u001b[0m, in \u001b[0;36mextract\u001b[0;34m(gen)\u001b[0m\n\u001b[1;32m     33\u001b[0m \u001b[38;5;28;01melse\u001b[39;00m:\n\u001b[1;32m     34\u001b[0m     \u001b[38;5;28;01mfor\u001b[39;00m _ \u001b[38;5;129;01min\u001b[39;00m \u001b[38;5;28mrange\u001b[39m(length):\n\u001b[0;32m---> 35\u001b[0m         result \u001b[38;5;241m=\u001b[39m \u001b[43mextract\u001b[49m\u001b[43m(\u001b[49m\u001b[43mgen\u001b[49m\u001b[43m)\u001b[49m\n\u001b[1;32m     36\u001b[0m         args\u001b[38;5;241m.\u001b[39mappend(result[\u001b[38;5;241m1\u001b[39m:])                \n\u001b[1;32m     38\u001b[0m \u001b[38;5;28;01mreturn\u001b[39;00m (v, t, args)\n",
      "    \u001b[0;31m[... skipping similar frames: extract at line 30 (16 times), extract at line 35 (8 times)]\u001b[0m\n",
      "Cell \u001b[0;32mIn[75], line 35\u001b[0m, in \u001b[0;36mextract\u001b[0;34m(gen)\u001b[0m\n\u001b[1;32m     33\u001b[0m \u001b[38;5;28;01melse\u001b[39;00m:\n\u001b[1;32m     34\u001b[0m     \u001b[38;5;28;01mfor\u001b[39;00m _ \u001b[38;5;129;01min\u001b[39;00m \u001b[38;5;28mrange\u001b[39m(length):\n\u001b[0;32m---> 35\u001b[0m         result \u001b[38;5;241m=\u001b[39m \u001b[43mextract\u001b[49m\u001b[43m(\u001b[49m\u001b[43mgen\u001b[49m\u001b[43m)\u001b[49m\n\u001b[1;32m     36\u001b[0m         args\u001b[38;5;241m.\u001b[39mappend(result[\u001b[38;5;241m1\u001b[39m:])                \n\u001b[1;32m     38\u001b[0m \u001b[38;5;28;01mreturn\u001b[39;00m (v, t, args)\n",
      "    \u001b[0;31m[... skipping similar frames: extract at line 30 (4 times)]\u001b[0m\n",
      "Cell \u001b[0;32mIn[75], line 30\u001b[0m, in \u001b[0;36mextract\u001b[0;34m(gen)\u001b[0m\n\u001b[1;32m     28\u001b[0m read \u001b[38;5;241m=\u001b[39m \u001b[38;5;241m0\u001b[39m\n\u001b[1;32m     29\u001b[0m \u001b[38;5;28;01mwhile\u001b[39;00m read \u001b[38;5;241m<\u001b[39m length:\n\u001b[0;32m---> 30\u001b[0m     result \u001b[38;5;241m=\u001b[39m \u001b[43mextract\u001b[49m\u001b[43m(\u001b[49m\u001b[43mgen\u001b[49m\u001b[43m)\u001b[49m\n\u001b[1;32m     31\u001b[0m     read \u001b[38;5;241m+\u001b[39m\u001b[38;5;241m=\u001b[39m result[\u001b[38;5;241m0\u001b[39m]\n\u001b[1;32m     32\u001b[0m     args\u001b[38;5;241m.\u001b[39mappend(result[\u001b[38;5;241m1\u001b[39m:])\n",
      "Cell \u001b[0;32mIn[75], line 13\u001b[0m, in \u001b[0;36mextract\u001b[0;34m(gen)\u001b[0m\n\u001b[1;32m     11\u001b[0m \u001b[38;5;28;01mdef\u001b[39;00m \u001b[38;5;21mextract\u001b[39m(gen) \u001b[38;5;241m-\u001b[39m\u001b[38;5;241m>\u001b[39m Tuple[\u001b[38;5;28mint\u001b[39m, \u001b[38;5;28mint\u001b[39m, Any]:\n\u001b[1;32m     12\u001b[0m     \u001b[38;5;66;03m# ic(\"====\")\u001b[39;00m\n\u001b[0;32m---> 13\u001b[0m     v \u001b[38;5;241m=\u001b[39m \u001b[43mread_as_number\u001b[49m\u001b[43m(\u001b[49m\u001b[43mgen\u001b[49m\u001b[43m,\u001b[49m\u001b[43m \u001b[49m\u001b[38;5;241;43m3\u001b[39;49m\u001b[43m)\u001b[49m\n\u001b[1;32m     14\u001b[0m     \u001b[38;5;66;03m# VERSION += v\u001b[39;00m\n\u001b[1;32m     15\u001b[0m     t \u001b[38;5;241m=\u001b[39m read_as_number(gen, \u001b[38;5;241m3\u001b[39m)\n",
      "Cell \u001b[0;32mIn[74], line 13\u001b[0m, in \u001b[0;36mread_as_number\u001b[0;34m(gen, n)\u001b[0m\n\u001b[1;32m     12\u001b[0m \u001b[38;5;28;01mdef\u001b[39;00m \u001b[38;5;21mread_as_number\u001b[39m(gen, n):\n\u001b[0;32m---> 13\u001b[0m     \u001b[38;5;28;01mreturn\u001b[39;00m \u001b[38;5;28mint\u001b[39m(\u001b[38;5;124m\"\u001b[39m\u001b[38;5;124m\"\u001b[39m\u001b[38;5;241m.\u001b[39mjoin(\u001b[43mtake\u001b[49m\u001b[43m(\u001b[49m\u001b[43mgen\u001b[49m\u001b[43m,\u001b[49m\u001b[43m \u001b[49m\u001b[43mn\u001b[49m\u001b[43m)\u001b[49m), base\u001b[38;5;241m=\u001b[39m\u001b[38;5;241m2\u001b[39m)\n",
      "Cell \u001b[0;32mIn[74], line 10\u001b[0m, in \u001b[0;36mtake\u001b[0;34m(gen, n)\u001b[0m\n\u001b[1;32m      8\u001b[0m \u001b[38;5;28;01mglobal\u001b[39;00m cnt\n\u001b[1;32m      9\u001b[0m cnt \u001b[38;5;241m+\u001b[39m\u001b[38;5;241m=\u001b[39m \u001b[38;5;241m1\u001b[39m\n\u001b[0;32m---> 10\u001b[0m \u001b[38;5;28;01mreturn\u001b[39;00m [\u001b[38;5;28mnext\u001b[39m(gen) \u001b[38;5;28;01mfor\u001b[39;00m _ \u001b[38;5;129;01min\u001b[39;00m \u001b[38;5;28mrange\u001b[39m(n)]\n",
      "Cell \u001b[0;32mIn[74], line 10\u001b[0m, in \u001b[0;36m<listcomp>\u001b[0;34m(.0)\u001b[0m\n\u001b[1;32m      8\u001b[0m \u001b[38;5;28;01mglobal\u001b[39;00m cnt\n\u001b[1;32m      9\u001b[0m cnt \u001b[38;5;241m+\u001b[39m\u001b[38;5;241m=\u001b[39m \u001b[38;5;241m1\u001b[39m\n\u001b[0;32m---> 10\u001b[0m \u001b[38;5;28;01mreturn\u001b[39;00m [\u001b[38;5;28;43mnext\u001b[39;49m\u001b[43m(\u001b[49m\u001b[43mgen\u001b[49m\u001b[43m)\u001b[49m \u001b[38;5;28;01mfor\u001b[39;00m _ \u001b[38;5;129;01min\u001b[39;00m \u001b[38;5;28mrange\u001b[39m(n)]\n",
      "\u001b[0;31mStopIteration\u001b[0m: "
     ]
    }
   ],
   "source": [
    "# VERSION = 0\n",
    "\n",
    "# packet = \"D2FE28\"\n",
    "# packet = \"38006F45291200\"\n",
    "# packet = \"620080001611562C8802118E34\"\n",
    "packet = task\n",
    "# packet = \"C200B40A82\"\n",
    "\n",
    "gen = parse(packet)\n",
    "\n",
    "def extract(gen) -> Tuple[int, int, Any]:\n",
    "    # ic(\"====\")\n",
    "    v = read_as_number(gen, 3)\n",
    "    # VERSION += v\n",
    "    t = read_as_number(gen, 3)\n",
    "    # ic(v, t)\n",
    "    bits_read = 6\n",
    "    if t != 4:\n",
    "        # ic(\"Operator\")\n",
    "        I = read_as_number(gen, 1)\n",
    "        bits_read += 1\n",
    "        length = read_as_number(gen, 15 if I == 0 else 11)\n",
    "        # ic(length)\n",
    "\n",
    "        args = []\n",
    "\n",
    "        if I == 0:\n",
    "            read = 0\n",
    "            while read < length:\n",
    "                result = extract(gen)\n",
    "                read += result[0]\n",
    "                args.append(result[1:])\n",
    "        else:\n",
    "            for _ in range(length):\n",
    "                result = extract(gen)\n",
    "                args.append(result[1:])                \n",
    "\n",
    "        return (v, t, args)\n",
    "    else:\n",
    "        # ic(\"Literal\")\n",
    "        proceed = True\n",
    "        number = 0\n",
    "        while proceed:\n",
    "            proceed = bool(read_as_number(gen, 1))\n",
    "            bits_read += 1\n",
    "            number = number << 4\n",
    "            number += read_as_number(gen, 4)\n",
    "            bits_read += 4\n",
    "        return bits_read, v, t, number\n",
    "\n",
    "root = extract(gen)\n",
    "# VERSION"
   ]
  },
  {
   "cell_type": "code",
   "execution_count": 76,
   "id": "3826ebc0-beba-44e1-ab51-63ea754d9a93",
   "metadata": {},
   "outputs": [
    {
     "data": {
      "text/plain": [
       "1787"
      ]
     },
     "execution_count": 76,
     "metadata": {},
     "output_type": "execute_result"
    }
   ],
   "source": [
    "cnt"
   ]
  },
  {
   "cell_type": "code",
   "execution_count": null,
   "id": "8cd1dcff-9389-4686-ad63-e63acd2e1289",
   "metadata": {},
   "outputs": [],
   "source": []
  }
 ],
 "metadata": {
  "kernelspec": {
   "display_name": "Python 3 (ipykernel)",
   "language": "python",
   "name": "python3"
  },
  "language_info": {
   "codemirror_mode": {
    "name": "ipython",
    "version": 3
   },
   "file_extension": ".py",
   "mimetype": "text/x-python",
   "name": "python",
   "nbconvert_exporter": "python",
   "pygments_lexer": "ipython3",
   "version": "3.10.9"
  }
 },
 "nbformat": 4,
 "nbformat_minor": 5
}
