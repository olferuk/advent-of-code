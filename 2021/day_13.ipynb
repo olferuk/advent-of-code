{
 "cells": [
  {
   "cell_type": "code",
   "execution_count": 126,
   "id": "102120c2-7929-403d-8523-ca07b87c871c",
   "metadata": {},
   "outputs": [
    {
     "name": "stdout",
     "output_type": "stream",
     "text": [
      "The lab_black extension is already loaded. To reload it, use:\n",
      "  %reload_ext lab_black\n"
     ]
    }
   ],
   "source": [
    "%load_ext lab_black\n",
    "\n",
    "from puzzles import load_puzzle\n",
    "\n",
    "import numpy as np\n",
    "\n",
    "s = load_puzzle(13).strip().split(\"\\n\")"
   ]
  },
  {
   "cell_type": "code",
   "execution_count": 127,
   "id": "c4e672c8-8faf-45f3-9415-7c294ef51cb6",
   "metadata": {},
   "outputs": [],
   "source": [
    "coords = s[: s.index(\"\")]\n",
    "coords = [[int(x) for x in c.split(\",\")] for c in coords]\n",
    "coords = np.array(coords)\n",
    "\n",
    "folds = s[s.index(\"\") + 1 :]\n",
    "folds = [l.split()[-1].split(\"=\") for l in folds]\n",
    "folds = [[t[0], int(t[1])] for t in folds]"
   ]
  },
  {
   "cell_type": "code",
   "execution_count": 128,
   "id": "0b7efb1e-9024-4e96-8a19-60d8ca6112d0",
   "metadata": {},
   "outputs": [
    {
     "data": {
      "text/plain": [
       "(863, 12)"
      ]
     },
     "execution_count": 128,
     "metadata": {},
     "output_type": "execute_result"
    }
   ],
   "source": [
    "len(coords), len(folds)"
   ]
  },
  {
   "cell_type": "code",
   "execution_count": 131,
   "id": "dcedfad2-1be4-466e-ab15-5eb3963757b9",
   "metadata": {},
   "outputs": [
    {
     "data": {
      "text/plain": [
       "863"
      ]
     },
     "execution_count": 131,
     "metadata": {},
     "output_type": "execute_result"
    }
   ],
   "source": [
    "A.sum()"
   ]
  },
  {
   "cell_type": "code",
   "execution_count": 132,
   "id": "9339d1b5-c721-4436-862e-d98c5e05585f",
   "metadata": {},
   "outputs": [
    {
     "data": {
      "text/plain": [
       "[['x', 655],\n",
       " ['y', 447],\n",
       " ['x', 327],\n",
       " ['y', 223],\n",
       " ['x', 163],\n",
       " ['y', 111],\n",
       " ['x', 81],\n",
       " ['y', 55],\n",
       " ['x', 40],\n",
       " ['y', 27],\n",
       " ['y', 13],\n",
       " ['y', 6]]"
      ]
     },
     "execution_count": 132,
     "metadata": {},
     "output_type": "execute_result"
    }
   ],
   "source": [
    "folds"
   ]
  },
  {
   "cell_type": "raw",
   "id": "83639951-e216-4895-8359-d0639bc0e9d5",
   "metadata": {},
   "source": [
    "q = np.array(\n",
    "    [\n",
    "        [3, 2, 0, 0, 0],\n",
    "        [2, 1, 0, 0, 0],\n",
    "        [0, 0, 0, 1, 2],\n",
    "        [0, 0, 0, 1, 2],\n",
    "        [0, 0, 0, 2, 3],\n",
    "    ]\n",
    ")\n",
    "\n",
    "q\n",
    "\n",
    "c, x = \"y\", 3"
   ]
  },
  {
   "cell_type": "code",
   "execution_count": 134,
   "id": "b9ed9935-97af-4993-9eba-e7f661b4b888",
   "metadata": {},
   "outputs": [],
   "source": [
    "def fold(q, c, x):\n",
    "\n",
    "    result = None\n",
    "\n",
    "    if c == \"x\":\n",
    "        left = q[:, :x]\n",
    "        right = q[:, x + 1 :][:, ::-1]\n",
    "\n",
    "        d = left.shape[1] - right.shape[1]\n",
    "        if d > 0:\n",
    "            result = left\n",
    "            result[:, d:] = result[:, d:] + right\n",
    "        elif d < 0:\n",
    "            d = abs(d)\n",
    "            result = right\n",
    "            result[:, d:] = result[:, d:] + left\n",
    "        else:\n",
    "            result = left + right\n",
    "\n",
    "    else:  # c == 'y'\n",
    "\n",
    "        top = q[:x]\n",
    "        bottom = q[x + 1 :][::-1]\n",
    "\n",
    "        d = top.shape[0] - bottom.shape[0]\n",
    "        if d > 0:\n",
    "            result = top\n",
    "            result[d:] = result[d:] + bottom\n",
    "        elif d < 0:\n",
    "            d = abs(d)\n",
    "            result = bottom\n",
    "            result[d:] = result[d:] + top\n",
    "        else:\n",
    "            result = top + bottom\n",
    "\n",
    "    return result"
   ]
  },
  {
   "cell_type": "code",
   "execution_count": 135,
   "id": "fbba5d52-3e50-4faf-8d2f-a797627ca4d7",
   "metadata": {},
   "outputs": [],
   "source": [
    "A = np.zeros(coords.max(axis=0) + 1, dtype=np.uint8)\n",
    "\n",
    "A[coords[:, 0], coords[:, 1]] = 1\n",
    "\n",
    "for fold_params in folds:\n",
    "    A = fold(A, *fold_params)"
   ]
  },
  {
   "cell_type": "code",
   "execution_count": 137,
   "id": "c2796cbe-341a-45b9-a3ff-5fea29cf2a00",
   "metadata": {},
   "outputs": [],
   "source": [
    "A = np.clip(A, 0, 1)"
   ]
  },
  {
   "cell_type": "code",
   "execution_count": 138,
   "id": "c9758150-3aac-4327-9756-2be3c2ee0c5a",
   "metadata": {},
   "outputs": [
    {
     "data": {
      "text/plain": [
       "771"
      ]
     },
     "execution_count": 138,
     "metadata": {},
     "output_type": "execute_result"
    }
   ],
   "source": [
    "A.sum()"
   ]
  },
  {
   "cell_type": "code",
   "execution_count": null,
   "id": "9cf8d95d-42e9-4e7c-b007-ee66de1f647f",
   "metadata": {},
   "outputs": [],
   "source": []
  }
 ],
 "metadata": {
  "kernelspec": {
   "display_name": "platy-segmentation",
   "language": "python",
   "name": "platy-segmentation"
  },
  "language_info": {
   "codemirror_mode": {
    "name": "ipython",
    "version": 3
   },
   "file_extension": ".py",
   "mimetype": "text/x-python",
   "name": "python",
   "nbconvert_exporter": "python",
   "pygments_lexer": "ipython3",
   "version": "3.9.6"
  }
 },
 "nbformat": 4,
 "nbformat_minor": 5
}
