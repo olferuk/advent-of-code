{
 "cells": [
  {
   "cell_type": "code",
   "execution_count": 1,
   "id": "ee84ca15-02b8-49f8-a7bd-cd05a4ac9d90",
   "metadata": {},
   "outputs": [
    {
     "ename": "<class 'KeyError'>",
     "evalue": "'interactive'",
     "output_type": "error",
     "traceback": [
      "\u001b[0;31m---------------------------------------------------------------------------\u001b[0m",
      "\u001b[0;31mKeyError\u001b[0m                                  Traceback (most recent call last)",
      "Cell \u001b[0;32mIn[1], line 1\u001b[0m\n\u001b[0;32m----> 1\u001b[0m get_ipython()\u001b[38;5;241m.\u001b[39mrun_line_magic(\u001b[38;5;124m'\u001b[39m\u001b[38;5;124mmatplotlib\u001b[39m\u001b[38;5;124m'\u001b[39m, \u001b[38;5;124m'\u001b[39m\u001b[38;5;124minteractive\u001b[39m\u001b[38;5;124m'\u001b[39m)\n\u001b[1;32m      3\u001b[0m \u001b[38;5;28;01mimport\u001b[39;00m \u001b[38;5;21;01mnumpy\u001b[39;00m \u001b[38;5;28;01mas\u001b[39;00m \u001b[38;5;21;01mnp\u001b[39;00m\n\u001b[1;32m      4\u001b[0m \u001b[38;5;28;01mimport\u001b[39;00m \u001b[38;5;21;01mmatplotlib\u001b[39;00m\u001b[38;5;21;01m.\u001b[39;00m\u001b[38;5;21;01mpyplot\u001b[39;00m \u001b[38;5;28;01mas\u001b[39;00m \u001b[38;5;21;01mplt\u001b[39;00m\n",
      "File \u001b[0;32m~/miniconda3/lib/python3.10/site-packages/IPython/core/interactiveshell.py:2369\u001b[0m, in \u001b[0;36mInteractiveShell.run_line_magic\u001b[0;34m(self, magic_name, line, _stack_depth)\u001b[0m\n\u001b[1;32m   2367\u001b[0m     kwargs[\u001b[38;5;124m'\u001b[39m\u001b[38;5;124mlocal_ns\u001b[39m\u001b[38;5;124m'\u001b[39m] \u001b[38;5;241m=\u001b[39m \u001b[38;5;28mself\u001b[39m\u001b[38;5;241m.\u001b[39mget_local_scope(stack_depth)\n\u001b[1;32m   2368\u001b[0m \u001b[38;5;28;01mwith\u001b[39;00m \u001b[38;5;28mself\u001b[39m\u001b[38;5;241m.\u001b[39mbuiltin_trap:\n\u001b[0;32m-> 2369\u001b[0m     result \u001b[38;5;241m=\u001b[39m \u001b[43mfn\u001b[49m\u001b[43m(\u001b[49m\u001b[38;5;241;43m*\u001b[39;49m\u001b[43margs\u001b[49m\u001b[43m,\u001b[49m\u001b[43m \u001b[49m\u001b[38;5;241;43m*\u001b[39;49m\u001b[38;5;241;43m*\u001b[39;49m\u001b[43mkwargs\u001b[49m\u001b[43m)\u001b[49m\n\u001b[1;32m   2371\u001b[0m \u001b[38;5;66;03m# The code below prevents the output from being displayed\u001b[39;00m\n\u001b[1;32m   2372\u001b[0m \u001b[38;5;66;03m# when using magics with decodator @output_can_be_silenced\u001b[39;00m\n\u001b[1;32m   2373\u001b[0m \u001b[38;5;66;03m# when the last Python token in the expression is a ';'.\u001b[39;00m\n\u001b[1;32m   2374\u001b[0m \u001b[38;5;28;01mif\u001b[39;00m \u001b[38;5;28mgetattr\u001b[39m(fn, magic\u001b[38;5;241m.\u001b[39mMAGIC_OUTPUT_CAN_BE_SILENCED, \u001b[38;5;28;01mFalse\u001b[39;00m):\n",
      "File \u001b[0;32m~/miniconda3/lib/python3.10/site-packages/IPython/core/magics/pylab.py:99\u001b[0m, in \u001b[0;36mPylabMagics.matplotlib\u001b[0;34m(self, line)\u001b[0m\n\u001b[1;32m     97\u001b[0m     \u001b[38;5;28mprint\u001b[39m(\u001b[38;5;124m\"\u001b[39m\u001b[38;5;124mAvailable matplotlib backends: \u001b[39m\u001b[38;5;132;01m%s\u001b[39;00m\u001b[38;5;124m\"\u001b[39m \u001b[38;5;241m%\u001b[39m backends_list)\n\u001b[1;32m     98\u001b[0m \u001b[38;5;28;01melse\u001b[39;00m:\n\u001b[0;32m---> 99\u001b[0m     gui, backend \u001b[38;5;241m=\u001b[39m \u001b[38;5;28;43mself\u001b[39;49m\u001b[38;5;241;43m.\u001b[39;49m\u001b[43mshell\u001b[49m\u001b[38;5;241;43m.\u001b[39;49m\u001b[43menable_matplotlib\u001b[49m\u001b[43m(\u001b[49m\u001b[43margs\u001b[49m\u001b[38;5;241;43m.\u001b[39;49m\u001b[43mgui\u001b[49m\u001b[38;5;241;43m.\u001b[39;49m\u001b[43mlower\u001b[49m\u001b[43m(\u001b[49m\u001b[43m)\u001b[49m\u001b[43m \u001b[49m\u001b[38;5;28;43;01mif\u001b[39;49;00m\u001b[43m \u001b[49m\u001b[38;5;28;43misinstance\u001b[39;49m\u001b[43m(\u001b[49m\u001b[43margs\u001b[49m\u001b[38;5;241;43m.\u001b[39;49m\u001b[43mgui\u001b[49m\u001b[43m,\u001b[49m\u001b[43m \u001b[49m\u001b[38;5;28;43mstr\u001b[39;49m\u001b[43m)\u001b[49m\u001b[43m \u001b[49m\u001b[38;5;28;43;01melse\u001b[39;49;00m\u001b[43m \u001b[49m\u001b[43margs\u001b[49m\u001b[38;5;241;43m.\u001b[39;49m\u001b[43mgui\u001b[49m\u001b[43m)\u001b[49m\n\u001b[1;32m    100\u001b[0m     \u001b[38;5;28mself\u001b[39m\u001b[38;5;241m.\u001b[39m_show_matplotlib_backend(args\u001b[38;5;241m.\u001b[39mgui, backend)\n",
      "File \u001b[0;32m~/miniconda3/lib/python3.10/site-packages/IPython/core/interactiveshell.py:3543\u001b[0m, in \u001b[0;36mInteractiveShell.enable_matplotlib\u001b[0;34m(self, gui)\u001b[0m\n\u001b[1;32m   3540\u001b[0m \u001b[38;5;28;01mfrom\u001b[39;00m \u001b[38;5;21;01mmatplotlib_inline\u001b[39;00m\u001b[38;5;21;01m.\u001b[39;00m\u001b[38;5;21;01mbackend_inline\u001b[39;00m \u001b[38;5;28;01mimport\u001b[39;00m configure_inline_support\n\u001b[1;32m   3542\u001b[0m \u001b[38;5;28;01mfrom\u001b[39;00m \u001b[38;5;21;01mIPython\u001b[39;00m\u001b[38;5;21;01m.\u001b[39;00m\u001b[38;5;21;01mcore\u001b[39;00m \u001b[38;5;28;01mimport\u001b[39;00m pylabtools \u001b[38;5;28;01mas\u001b[39;00m pt\n\u001b[0;32m-> 3543\u001b[0m gui, backend \u001b[38;5;241m=\u001b[39m \u001b[43mpt\u001b[49m\u001b[38;5;241;43m.\u001b[39;49m\u001b[43mfind_gui_and_backend\u001b[49m\u001b[43m(\u001b[49m\u001b[43mgui\u001b[49m\u001b[43m,\u001b[49m\u001b[43m \u001b[49m\u001b[38;5;28;43mself\u001b[39;49m\u001b[38;5;241;43m.\u001b[39;49m\u001b[43mpylab_gui_select\u001b[49m\u001b[43m)\u001b[49m\n\u001b[1;32m   3545\u001b[0m \u001b[38;5;28;01mif\u001b[39;00m gui \u001b[38;5;241m!=\u001b[39m \u001b[38;5;124m'\u001b[39m\u001b[38;5;124minline\u001b[39m\u001b[38;5;124m'\u001b[39m:\n\u001b[1;32m   3546\u001b[0m     \u001b[38;5;66;03m# If we have our first gui selection, store it\u001b[39;00m\n\u001b[1;32m   3547\u001b[0m     \u001b[38;5;28;01mif\u001b[39;00m \u001b[38;5;28mself\u001b[39m\u001b[38;5;241m.\u001b[39mpylab_gui_select \u001b[38;5;129;01mis\u001b[39;00m \u001b[38;5;28;01mNone\u001b[39;00m:\n",
      "File \u001b[0;32m~/miniconda3/lib/python3.10/site-packages/IPython/core/pylabtools.py:322\u001b[0m, in \u001b[0;36mfind_gui_and_backend\u001b[0;34m(gui, gui_select)\u001b[0m\n\u001b[1;32m    318\u001b[0m \u001b[38;5;28;01mimport\u001b[39;00m \u001b[38;5;21;01mmatplotlib\u001b[39;00m\n\u001b[1;32m    320\u001b[0m \u001b[38;5;28;01mif\u001b[39;00m gui \u001b[38;5;129;01mand\u001b[39;00m gui \u001b[38;5;241m!=\u001b[39m \u001b[38;5;124m'\u001b[39m\u001b[38;5;124mauto\u001b[39m\u001b[38;5;124m'\u001b[39m:\n\u001b[1;32m    321\u001b[0m     \u001b[38;5;66;03m# select backend based on requested gui\u001b[39;00m\n\u001b[0;32m--> 322\u001b[0m     backend \u001b[38;5;241m=\u001b[39m \u001b[43mbackends\u001b[49m\u001b[43m[\u001b[49m\u001b[43mgui\u001b[49m\u001b[43m]\u001b[49m\n\u001b[1;32m    323\u001b[0m     \u001b[38;5;28;01mif\u001b[39;00m gui \u001b[38;5;241m==\u001b[39m \u001b[38;5;124m'\u001b[39m\u001b[38;5;124magg\u001b[39m\u001b[38;5;124m'\u001b[39m:\n\u001b[1;32m    324\u001b[0m         gui \u001b[38;5;241m=\u001b[39m \u001b[38;5;28;01mNone\u001b[39;00m\n",
      "\u001b[0;31mKeyError\u001b[0m: 'interactive'"
     ]
    }
   ],
   "source": [
    "%matplotlib interactive\n",
    "\n",
    "import numpy as np\n",
    "import matplotlib.pyplot as plt\n",
    "\n",
    "A = np.zeros([15, 10], dtype=np.uint8)\n",
    "A[:1, :5] = 1\n",
    "A[4:5, 4:] = 1\n",
    "A[8:, 3] = 1\n",
    "A[8:12, 7] = 1\n",
    "A[4:5, 4:] = 1\n",
    "\n",
    "plt.imshow(A)"
   ]
  },
  {
   "cell_type": "code",
   "execution_count": 2,
   "id": "102120c2-7929-403d-8523-ca07b87c871c",
   "metadata": {
    "tags": []
   },
   "outputs": [],
   "source": [
    "%load_ext lab_black\n",
    "\n",
    "from puzzles import load_lines\n",
    "\n",
    "import numpy as np\n",
    "\n",
    "s = load_lines(13)"
   ]
  },
  {
   "cell_type": "code",
   "execution_count": 3,
   "id": "fbeb8663",
   "metadata": {},
   "outputs": [],
   "source": [
    "xs = []\n",
    "ys = []\n",
    "for i in range(s.index(\"\")):\n",
    "    x, y = s[i].split(\",\")\n",
    "    x, y = int(x), int(y)\n",
    "    xs.append(x)\n",
    "    ys.append(y)\n",
    "\n",
    "ns = []\n",
    "for i in range(s.index(\"\") + 1, len(s)):\n",
    "    k = s[i].index(\"=\")\n",
    "    xy = s[i][k - 1]\n",
    "    n = int(s[i][k + 1 :])\n",
    "    ns.append((xy, n))"
   ]
  },
  {
   "cell_type": "code",
   "execution_count": 4,
   "id": "e866b9ec",
   "metadata": {},
   "outputs": [
    {
     "data": {
      "text/plain": [
       "(863, 863, 12)"
      ]
     },
     "execution_count": 4,
     "metadata": {},
     "output_type": "execute_result"
    }
   ],
   "source": [
    "len(xs), len(ys), len(ns)"
   ]
  },
  {
   "cell_type": "code",
   "execution_count": 6,
   "id": "76f36ab5",
   "metadata": {},
   "outputs": [],
   "source": [
    "import numpy as np\n",
    "import matplotlib.pyplot as plt"
   ]
  },
  {
   "cell_type": "markdown",
   "id": "f2399f36-089d-42b4-9c64-ce2997dd65ee",
   "metadata": {},
   "source": [
    "   Available matplotlib backends: ['osx', 'qt4', 'qt5', 'gtk3', 'gtk4', 'notebook', 'wx', 'qt', 'nbagg',\n",
    "   'gtk', 'tk', 'inline']\n"
   ]
  },
  {
   "cell_type": "raw",
   "id": "3eabfd0f-524d-40a2-8b68-b6c27c72d075",
   "metadata": {},
   "source": [
    "?%matplotlib"
   ]
  },
  {
   "cell_type": "code",
   "execution_count": 7,
   "id": "04e7cd77",
   "metadata": {},
   "outputs": [
    {
     "data": {
      "text/plain": [
       "<matplotlib.image.AxesImage at 0x7fc97734c940>"
      ]
     },
     "execution_count": 7,
     "metadata": {},
     "output_type": "execute_result"
    },
    {
     "data": {
      "application/vnd.jupyter.widget-view+json": {
       "model_id": "bf76142b9c2d49bdbdc66458c4c57f3e",
       "version_major": 2,
       "version_minor": 0
      },
      "image/png": "[encoded data removed]",
      "text/html": [
       "\n",
       "            <div style=\"display: inline-block;\">\n",
       "                <div class=\"jupyter-widgets widget-label\" style=\"text-align: center;\">\n",
       "                    Figure\n",
       "                </div>\n",
       "                <img src='data:image/png;base64,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' width=640.0/>\n",
       "            </div>\n",
       "        "
      ],
      "text/plain": [
       "Canvas(toolbar=Toolbar(toolitems=[('Home', 'Reset original view', 'home', 'home'), ('Back', 'Back to previous …"
      ]
     },
     "metadata": {},
     "output_type": "display_data"
    }
   ],
   "source": [
    "# xs, ys = ([0, 1, 0, 5, 6, 5, 5, 5], [0, 0, 1, 5, 5, 6, 7, 8])\n",
    "\n",
    "A = np.zeros([15, 10], dtype=np.uint8)\n",
    "A[:1, :5] = 1\n",
    "A[4:5, 4:] = 1\n",
    "A[8:, 3] = 1\n",
    "A[8:12, 7] = 1\n",
    "A[4:5, 4:] = 1\n",
    "\n",
    "plt.imshow(A)"
   ]
  },
  {
   "cell_type": "code",
   "execution_count": 37,
   "id": "e09ba6cc-757b-4fcc-ad42-66b944d6c82d",
   "metadata": {},
   "outputs": [],
   "source": [
    "from icecream import ic"
   ]
  },
  {
   "cell_type": "code",
   "execution_count": 51,
   "id": "255d1148-8ed9-4207-b676-2c31f90bc6a4",
   "metadata": {},
   "outputs": [
    {
     "data": {
      "text/plain": [
       "((2, 10), (12, 10))"
      ]
     },
     "execution_count": 51,
     "metadata": {},
     "output_type": "execute_result"
    }
   ],
   "source": [
    "xy = \"y\"\n",
    "n = 2\n",
    "\n",
    "A[:n].shape, A[n + 1 :][::-1].shape"
   ]
  },
  {
   "cell_type": "code",
   "execution_count": null,
   "id": "e4435f2d-296d-4836-bb58-318e56adcd2c",
   "metadata": {},
   "outputs": [],
   "source": []
  },
  {
   "cell_type": "code",
   "execution_count": 52,
   "id": "7e9c7ade-6a3d-4ef1-9bbc-782c460cda4c",
   "metadata": {},
   "outputs": [],
   "source": [
    "a, b = A[:n], A[n + 1 :][::-1]"
   ]
  },
  {
   "cell_type": "code",
   "execution_count": 34,
   "id": "64e1f406-738e-456b-8fb3-176c8c9c7394",
   "metadata": {},
   "outputs": [
    {
     "data": {
      "text/plain": [
       "10"
      ]
     },
     "execution_count": 34,
     "metadata": {},
     "output_type": "execute_result"
    }
   ],
   "source": [
    "dy = b.shape[0] - a.shape[0]\n",
    "\n",
    "dy"
   ]
  },
  {
   "cell_type": "raw",
   "id": "eaccf744-3f88-4b9c-9408-803cc89d3338",
   "metadata": {},
   "source": [
    "pip install icecream"
   ]
  },
  {
   "cell_type": "code",
   "execution_count": 38,
   "id": "20ee34ad-dc78-4a9a-b34f-fd411f5aa277",
   "metadata": {},
   "outputs": [
    {
     "name": "stdout",
     "output_type": "stream",
     "text": [
      "(2, 10) (12, 10)\n"
     ]
    },
    {
     "ename": "ValueError",
     "evalue": "operands could not be broadcast together with shapes (2,10) (12,10) ",
     "output_type": "error",
     "traceback": [
      "\u001b[0;31m---------------------------------------------------------------------------\u001b[0m",
      "\u001b[0;31mValueError\u001b[0m                                Traceback (most recent call last)",
      "Cell \u001b[0;32mIn[38], line 16\u001b[0m\n\u001b[1;32m     11\u001b[0m \u001b[38;5;28mprint\u001b[39m(a\u001b[38;5;241m.\u001b[39mshape, b\u001b[38;5;241m.\u001b[39mshape)\n\u001b[1;32m     13\u001b[0m \u001b[38;5;66;03m# plt.imshow(a)\u001b[39;00m\n\u001b[1;32m     14\u001b[0m \u001b[38;5;66;03m# plt.show()\u001b[39;00m\n\u001b[1;32m     15\u001b[0m \u001b[38;5;66;03m# plt.imshow(b)\u001b[39;00m\n\u001b[0;32m---> 16\u001b[0m plt\u001b[38;5;241m.\u001b[39mimshow(\u001b[43ma\u001b[49m\u001b[43m \u001b[49m\u001b[38;5;241;43m+\u001b[39;49m\u001b[43m \u001b[49m\u001b[43mb\u001b[49m)\n\u001b[1;32m     17\u001b[0m \u001b[38;5;66;03m# plt.imshow(A[:n] + A[n + 1 :][::-1])\u001b[39;00m\n",
      "\u001b[0;31mValueError\u001b[0m: operands could not be broadcast together with shapes (2,10) (12,10) "
     ]
    }
   ],
   "source": [
    "if b.shape[0] < a.shape[0]:\n",
    "    bb = np.zeros_like(a, dtype=np.uint8)\n",
    "    bb[-b.shape[0] :] = b\n",
    "    b = bb\n",
    "elif a.shape[0] > b.shape[0]:\n",
    "    ic(\"here\")\n",
    "    aa = np.zeros_like(b, dtype=np.uint8)\n",
    "    aa[-a.shape[0]:] = a\n",
    "    a = aa\n",
    "\n",
    "print(a.shape, b.shape)\n",
    "\n",
    "# plt.imshow(a)\n",
    "# plt.show()\n",
    "# plt.imshow(b)\n",
    "plt.imshow(a + b)\n",
    "# plt.imshow(A[:n] + A[n + 1 :][::-1])"
   ]
  },
  {
   "cell_type": "code",
   "execution_count": 18,
   "id": "c0089c7a",
   "metadata": {},
   "outputs": [
    {
     "data": {
      "text/plain": [
       "10"
      ]
     },
     "execution_count": 18,
     "metadata": {},
     "output_type": "execute_result"
    }
   ],
   "source": [
    "A.shape[0]"
   ]
  },
  {
   "cell_type": "code",
   "execution_count": 16,
   "id": "4968d809",
   "metadata": {},
   "outputs": [
    {
     "data": {
      "text/plain": [
       "<matplotlib.image.AxesImage at 0x7fa924f59a80>"
      ]
     },
     "execution_count": 16,
     "metadata": {},
     "output_type": "execute_result"
    },
    {
     "data": {
      "image/png": "[encoded data removed]",
      "text/plain": [
       "<Figure size 640x480 with 1 Axes>"
      ]
     },
     "metadata": {},
     "output_type": "display_data"
    }
   ],
   "source": [
    "plt.imshow(A)\n",
    "# plt.grid(which=\"both\")"
   ]
  },
  {
   "cell_type": "code",
   "execution_count": 2,
   "id": "f3334c4b",
   "metadata": {},
   "outputs": [
    {
     "data": {
      "text/plain": [
       "['159,344', '771,626', '1140,868']"
      ]
     },
     "execution_count": 2,
     "metadata": {},
     "output_type": "execute_result"
    }
   ],
   "source": [
    "s[:3]"
   ]
  },
  {
   "cell_type": "code",
   "execution_count": 40,
   "id": "b9ed9935-97af-4993-9eba-e7f661b4b888",
   "metadata": {},
   "outputs": [],
   "source": [
    "def fold(q, c, x):\n",
    "\n",
    "    result = None\n",
    "\n",
    "    if c == \"x\":\n",
    "        left = q[:, :x]\n",
    "        right = q[:, x + 1 :][:, ::-1]\n",
    "\n",
    "        d = left.shape[1] - right.shape[1]\n",
    "        if d > 0:\n",
    "            result = left\n",
    "            result[:, d:] = result[:, d:] + right\n",
    "        elif d < 0:\n",
    "            d = abs(d)\n",
    "            result = right\n",
    "            result[:, d:] = result[:, d:] + left\n",
    "        else:\n",
    "            result = left + right\n",
    "\n",
    "    else:  # c == 'y'\n",
    "\n",
    "        top = q[:x]\n",
    "        bottom = q[x + 1 :][::-1]\n",
    "\n",
    "        d = top.shape[0] - bottom.shape[0]\n",
    "        if d > 0:\n",
    "            result = top\n",
    "            result[d:] = result[d:] + bottom\n",
    "        elif d < 0:\n",
    "            d = abs(d)\n",
    "            result = bottom\n",
    "            result[d:] = result[d:] + top\n",
    "        else:\n",
    "            result = top + bottom\n",
    "\n",
    "    return np.clip(result, 0, 1)"
   ]
  },
  {
   "cell_type": "code",
   "execution_count": null,
   "id": "5ad3aa8d-9158-4c4f-b462-cba751f11618",
   "metadata": {},
   "outputs": [],
   "source": [
    "A = \"\"\"...#..#..#.\n",
    "....#......\n",
    "...........\n",
    "#..........\n",
    "...#....#.#\n",
    "...........\n",
    "...........\n",
    "...........\n",
    "...........\n",
    "...........\n",
    ".#....#.##.\n",
    "....#......\n",
    "......#...#\n",
    "#..........\n",
    "#.#........\"\"\".split()"
   ]
  },
  {
   "cell_type": "code",
   "execution_count": 57,
   "id": "40585939-478b-46dc-a68a-a05677ad3ffc",
   "metadata": {},
   "outputs": [],
   "source": [
    "A = np.zeros(coords.max(axis=0) + 1, dtype=np.uint8)\n",
    "\n",
    "coords = s[: s.index(\"\")]\n",
    "coords = [[int(x) for x in c.split(\",\")] for c in coords]\n",
    "coords = np.array(coords)\n",
    "\n",
    "folds = s[s.index(\"\") + 1 :]\n",
    "folds = [l.split()[-1].split(\"=\") for l in folds]\n",
    "folds = [[t[0], int(t[1])] for t in folds]\n",
    "\n",
    "A[coords[:, 0], coords[:, 1]] = 1"
   ]
  },
  {
   "cell_type": "code",
   "execution_count": 58,
   "id": "d146fb7f-da88-4d63-a4f0-9cbb1ef8a3c7",
   "metadata": {},
   "outputs": [
    {
     "data": {
      "text/plain": [
       "863"
      ]
     },
     "execution_count": 58,
     "metadata": {},
     "output_type": "execute_result"
    }
   ],
   "source": [
    "A.sum()"
   ]
  },
  {
   "cell_type": "code",
   "execution_count": 42,
   "id": "f132ad4c-1a97-44fd-a701-ffa457ede4ce",
   "metadata": {},
   "outputs": [],
   "source": [
    "B = np.array(\n",
    "    [\n",
    "        [0, 1, 0, 0, 0, 0, 1],\n",
    "        [1, 0, 0, 0, 0, 0, 1],\n",
    "    ]\n",
    ")"
   ]
  },
  {
   "cell_type": "code",
   "execution_count": 43,
   "id": "6462bbc4-d954-4c99-9f35-ab2cbfd7ded4",
   "metadata": {},
   "outputs": [
    {
     "data": {
      "text/plain": [
       "array([[1, 1, 0],\n",
       "       [1, 0, 0]])"
      ]
     },
     "execution_count": 43,
     "metadata": {},
     "output_type": "execute_result"
    }
   ],
   "source": [
    "fold(B, \"x\", 3)"
   ]
  },
  {
   "cell_type": "code",
   "execution_count": 35,
   "id": "dd0989d6-0c98-42f5-adfa-d89dab0d2acd",
   "metadata": {},
   "outputs": [
    {
     "data": {
      "text/plain": [
       "863"
      ]
     },
     "execution_count": 35,
     "metadata": {},
     "output_type": "execute_result"
    }
   ],
   "source": [
    "A.sum()"
   ]
  },
  {
   "cell_type": "code",
   "execution_count": 33,
   "id": "aaae3895-1f40-43a8-b77a-0c5ff4221cd0",
   "metadata": {},
   "outputs": [],
   "source": [
    "import matplotlib.pyplot as plt"
   ]
  },
  {
   "cell_type": "code",
   "execution_count": 44,
   "id": "124e0a55-f3e8-4ece-8a21-3a9afa929a6a",
   "metadata": {},
   "outputs": [
    {
     "data": {
      "text/plain": [
       "<matplotlib.image.AxesImage at 0x7fd128c54050>"
      ]
     },
     "execution_count": 44,
     "metadata": {},
     "output_type": "execute_result"
    },
    {
     "data": {
      "image/png": "[encoded data removed]",
      "text/plain": [
       "<Figure size 432x288 with 1 Axes>"
      ]
     },
     "metadata": {
      "needs_background": "light"
     },
     "output_type": "display_data"
    }
   ],
   "source": [
    "plt.imshow(B)"
   ]
  },
  {
   "cell_type": "code",
   "execution_count": 52,
   "id": "e04b8a92-aee5-47e3-9a2f-4b4ef6b3eb26",
   "metadata": {},
   "outputs": [
    {
     "data": {
      "text/plain": [
       "<matplotlib.image.AxesImage at 0x7fd127c81710>"
      ]
     },
     "execution_count": 52,
     "metadata": {},
     "output_type": "execute_result"
    },
    {
     "data": {
      "image/png": "[encoded data removed]",
      "text/plain": [
       "<Figure size 432x288 with 1 Axes>"
      ]
     },
     "metadata": {
      "needs_background": "light"
     },
     "output_type": "display_data"
    }
   ],
   "source": [
    "plt.imshow(A)"
   ]
  },
  {
   "cell_type": "code",
   "execution_count": 53,
   "id": "04885aca-115b-41a5-8c5e-d5b82659c4bc",
   "metadata": {},
   "outputs": [
    {
     "data": {
      "text/plain": [
       "['x', 655]"
      ]
     },
     "execution_count": 53,
     "metadata": {},
     "output_type": "execute_result"
    }
   ],
   "source": [
    "folds[0]"
   ]
  },
  {
   "cell_type": "code",
   "execution_count": 49,
   "id": "34627d7e-0319-45a5-94bb-8f8e5e8d6718",
   "metadata": {},
   "outputs": [
    {
     "name": "stdout",
     "output_type": "stream",
     "text": [
      "1\n"
     ]
    }
   ],
   "source": [
    "for fold_params in folds:\n",
    "    print(\"1\")\n",
    "    A = fold(A, *fold_params)\n",
    "    break"
   ]
  },
  {
   "cell_type": "code",
   "execution_count": 50,
   "id": "c9758150-3aac-4327-9756-2be3c2ee0c5a",
   "metadata": {},
   "outputs": [
    {
     "data": {
      "text/plain": [
       "863"
      ]
     },
     "execution_count": 50,
     "metadata": {},
     "output_type": "execute_result"
    }
   ],
   "source": [
    "A.sum()"
   ]
  },
  {
   "cell_type": "code",
   "execution_count": null,
   "id": "9cf8d95d-42e9-4e7c-b007-ee66de1f647f",
   "metadata": {},
   "outputs": [],
   "source": []
  }
 ],
 "metadata": {
  "kernelspec": {
   "display_name": "Python 3.10 (XPython)",
   "language": "python",
   "name": "xpython"
  },
  "language_info": {
   "file_extension": ".py",
   "mimetype": "text/x-python",
   "name": "python",
   "version": "3.10.8"
  }
 },
 "nbformat": 4,
 "nbformat_minor": 5
}
