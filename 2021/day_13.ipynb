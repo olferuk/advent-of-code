{
 "cells": [
  {
   "cell_type": "raw",
   "id": "fd88d675-d5c4-4425-adea-7e3db2f374ee",
   "metadata": {},
   "source": [
    "!cp ../puzzles.py ."
   ]
  },
  {
   "cell_type": "code",
   "execution_count": 25,
   "id": "102120c2-7929-403d-8523-ca07b87c871c",
   "metadata": {
    "tags": []
   },
   "outputs": [
    {
     "name": "stdout",
     "output_type": "stream",
     "text": [
      "The lab_black extension is already loaded. To reload it, use:\n",
      "  %reload_ext lab_black\n"
     ]
    }
   ],
   "source": [
    "%load_ext lab_black\n",
    "\n",
    "from puzzles import load_lines\n",
    "\n",
    "import numpy as np\n",
    "\n",
    "s = load_lines(13)"
   ]
  },
  {
   "cell_type": "code",
   "execution_count": 14,
   "id": "0b7efb1e-9024-4e96-8a19-60d8ca6112d0",
   "metadata": {},
   "outputs": [
    {
     "data": {
      "text/plain": [
       "(863, 12)"
      ]
     },
     "execution_count": 14,
     "metadata": {},
     "output_type": "execute_result"
    }
   ],
   "source": [
    "len(coords), len(folds)"
   ]
  },
  {
   "cell_type": "code",
   "execution_count": 40,
   "id": "b9ed9935-97af-4993-9eba-e7f661b4b888",
   "metadata": {},
   "outputs": [],
   "source": [
    "def fold(q, c, x):\n",
    "\n",
    "    result = None\n",
    "\n",
    "    if c == \"x\":\n",
    "        left = q[:, :x]\n",
    "        right = q[:, x + 1 :][:, ::-1]\n",
    "\n",
    "        d = left.shape[1] - right.shape[1]\n",
    "        if d > 0:\n",
    "            result = left\n",
    "            result[:, d:] = result[:, d:] + right\n",
    "        elif d < 0:\n",
    "            d = abs(d)\n",
    "            result = right\n",
    "            result[:, d:] = result[:, d:] + left\n",
    "        else:\n",
    "            result = left + right\n",
    "\n",
    "    else:  # c == 'y'\n",
    "\n",
    "        top = q[:x]\n",
    "        bottom = q[x + 1 :][::-1]\n",
    "\n",
    "        d = top.shape[0] - bottom.shape[0]\n",
    "        if d > 0:\n",
    "            result = top\n",
    "            result[d:] = result[d:] + bottom\n",
    "        elif d < 0:\n",
    "            d = abs(d)\n",
    "            result = bottom\n",
    "            result[d:] = result[d:] + top\n",
    "        else:\n",
    "            result = top + bottom\n",
    "\n",
    "    return np.clip(result, 0, 1)"
   ]
  },
  {
   "cell_type": "code",
   "execution_count": null,
   "id": "5ad3aa8d-9158-4c4f-b462-cba751f11618",
   "metadata": {},
   "outputs": [],
   "source": [
    "A = \"\"\"...#..#..#.\n",
    "....#......\n",
    "...........\n",
    "#..........\n",
    "...#....#.#\n",
    "...........\n",
    "...........\n",
    "...........\n",
    "...........\n",
    "...........\n",
    ".#....#.##.\n",
    "....#......\n",
    "......#...#\n",
    "#..........\n",
    "#.#........\"\"\".split()"
   ]
  },
  {
   "cell_type": "code",
   "execution_count": 57,
   "id": "40585939-478b-46dc-a68a-a05677ad3ffc",
   "metadata": {},
   "outputs": [],
   "source": [
    "A = np.zeros(coords.max(axis=0) + 1, dtype=np.uint8)\n",
    "\n",
    "coords = s[: s.index(\"\")]\n",
    "coords = [[int(x) for x in c.split(\",\")] for c in coords]\n",
    "coords = np.array(coords)\n",
    "\n",
    "folds = s[s.index(\"\") + 1 :]\n",
    "folds = [l.split()[-1].split(\"=\") for l in folds]\n",
    "folds = [[t[0], int(t[1])] for t in folds]\n",
    "\n",
    "A[coords[:, 0], coords[:, 1]] = 1"
   ]
  },
  {
   "cell_type": "code",
   "execution_count": 58,
   "id": "d146fb7f-da88-4d63-a4f0-9cbb1ef8a3c7",
   "metadata": {},
   "outputs": [
    {
     "data": {
      "text/plain": [
       "863"
      ]
     },
     "execution_count": 58,
     "metadata": {},
     "output_type": "execute_result"
    }
   ],
   "source": [
    "A.sum()"
   ]
  },
  {
   "cell_type": "code",
   "execution_count": 42,
   "id": "f132ad4c-1a97-44fd-a701-ffa457ede4ce",
   "metadata": {},
   "outputs": [],
   "source": [
    "B = np.array(\n",
    "    [\n",
    "        [0, 1, 0, 0, 0, 0, 1],\n",
    "        [1, 0, 0, 0, 0, 0, 1],\n",
    "    ]\n",
    ")"
   ]
  },
  {
   "cell_type": "code",
   "execution_count": 43,
   "id": "6462bbc4-d954-4c99-9f35-ab2cbfd7ded4",
   "metadata": {},
   "outputs": [
    {
     "data": {
      "text/plain": [
       "array([[1, 1, 0],\n",
       "       [1, 0, 0]])"
      ]
     },
     "execution_count": 43,
     "metadata": {},
     "output_type": "execute_result"
    }
   ],
   "source": [
    "fold(B, \"x\", 3)"
   ]
  },
  {
   "cell_type": "code",
   "execution_count": 35,
   "id": "dd0989d6-0c98-42f5-adfa-d89dab0d2acd",
   "metadata": {},
   "outputs": [
    {
     "data": {
      "text/plain": [
       "863"
      ]
     },
     "execution_count": 35,
     "metadata": {},
     "output_type": "execute_result"
    }
   ],
   "source": [
    "A.sum()"
   ]
  },
  {
   "cell_type": "code",
   "execution_count": 33,
   "id": "aaae3895-1f40-43a8-b77a-0c5ff4221cd0",
   "metadata": {},
   "outputs": [],
   "source": [
    "import matplotlib.pyplot as plt"
   ]
  },
  {
   "cell_type": "code",
   "execution_count": 44,
   "id": "124e0a55-f3e8-4ece-8a21-3a9afa929a6a",
   "metadata": {},
   "outputs": [
    {
     "data": {
      "text/plain": [
       "<matplotlib.image.AxesImage at 0x7fd128c54050>"
      ]
     },
     "execution_count": 44,
     "metadata": {},
     "output_type": "execute_result"
    },
    {
     "data": {
      "image/png": "[encoded data removed]",
      "text/plain": [
       "<Figure size 432x288 with 1 Axes>"
      ]
     },
     "metadata": {
      "needs_background": "light"
     },
     "output_type": "display_data"
    }
   ],
   "source": [
    "plt.imshow(B)"
   ]
  },
  {
   "cell_type": "code",
   "execution_count": 52,
   "id": "e04b8a92-aee5-47e3-9a2f-4b4ef6b3eb26",
   "metadata": {},
   "outputs": [
    {
     "data": {
      "text/plain": [
       "<matplotlib.image.AxesImage at 0x7fd127c81710>"
      ]
     },
     "execution_count": 52,
     "metadata": {},
     "output_type": "execute_result"
    },
    {
     "data": {
      "image/png": "[encoded data removed]",
      "text/plain": [
       "<Figure size 432x288 with 1 Axes>"
      ]
     },
     "metadata": {
      "needs_background": "light"
     },
     "output_type": "display_data"
    }
   ],
   "source": [
    "plt.imshow(A)"
   ]
  },
  {
   "cell_type": "code",
   "execution_count": 53,
   "id": "04885aca-115b-41a5-8c5e-d5b82659c4bc",
   "metadata": {},
   "outputs": [
    {
     "data": {
      "text/plain": [
       "['x', 655]"
      ]
     },
     "execution_count": 53,
     "metadata": {},
     "output_type": "execute_result"
    }
   ],
   "source": [
    "folds[0]"
   ]
  },
  {
   "cell_type": "code",
   "execution_count": 49,
   "id": "34627d7e-0319-45a5-94bb-8f8e5e8d6718",
   "metadata": {},
   "outputs": [
    {
     "name": "stdout",
     "output_type": "stream",
     "text": [
      "1\n"
     ]
    }
   ],
   "source": [
    "for fold_params in folds:\n",
    "    print(\"1\")\n",
    "    A = fold(A, *fold_params)\n",
    "    break"
   ]
  },
  {
   "cell_type": "code",
   "execution_count": 50,
   "id": "c9758150-3aac-4327-9756-2be3c2ee0c5a",
   "metadata": {},
   "outputs": [
    {
     "data": {
      "text/plain": [
       "863"
      ]
     },
     "execution_count": 50,
     "metadata": {},
     "output_type": "execute_result"
    }
   ],
   "source": [
    "A.sum()"
   ]
  },
  {
   "cell_type": "code",
   "execution_count": null,
   "id": "9cf8d95d-42e9-4e7c-b007-ee66de1f647f",
   "metadata": {},
   "outputs": [],
   "source": []
  }
 ],
 "metadata": {
  "kernelspec": {
   "display_name": "Python (DE)",
   "language": "python",
   "name": "python3"
  },
  "language_info": {
   "codemirror_mode": {
    "name": "ipython",
    "version": 3
   },
   "file_extension": ".py",
   "mimetype": "text/x-python",
   "name": "python",
   "nbconvert_exporter": "python",
   "pygments_lexer": "ipython3",
   "version": "3.7.12"
  }
 },
 "nbformat": 4,
 "nbformat_minor": 5
}
