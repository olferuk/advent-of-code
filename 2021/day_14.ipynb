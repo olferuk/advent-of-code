{
 "cells": [
  {
   "cell_type": "code",
   "execution_count": 37,
   "id": "11ea68c3-e7d5-4d0a-90bb-0c102c6fe0b0",
   "metadata": {},
   "outputs": [
    {
     "name": "stdout",
     "output_type": "stream",
     "text": [
      "The lab_black extension is already loaded. To reload it, use:\n",
      "  %reload_ext lab_black\n"
     ]
    }
   ],
   "source": [
    "%load_ext lab_black\n",
    "\n",
    "from puzzles import load_lines\n",
    "\n",
    "data = load_lines(14)\n",
    "\n",
    "# text = s.strip().split(\"\\n\")"
   ]
  },
  {
   "cell_type": "code",
   "execution_count": 41,
   "id": "ec453322-5d3d-439e-9b72-c6ee8c29ba90",
   "metadata": {},
   "outputs": [],
   "source": [
    "data = \"\"\"NNCB\n",
    "\n",
    "CH -> B\n",
    "HH -> N\n",
    "CB -> H\n",
    "NH -> C\n",
    "HB -> C\n",
    "HC -> B\n",
    "HN -> C\n",
    "NN -> C\n",
    "BH -> H\n",
    "NC -> B\n",
    "NB -> B\n",
    "BN -> B\n",
    "BB -> N\n",
    "BC -> B\n",
    "CC -> N\n",
    "CN -> C\"\"\".split(\n",
    "    \"\\n\"\n",
    ")"
   ]
  },
  {
   "cell_type": "code",
   "execution_count": 73,
   "id": "989d348f-54cb-46ee-af79-d4e444655ee4",
   "metadata": {},
   "outputs": [],
   "source": [
    "def test_n(s, n):\n",
    "    poly = deque(s)\n",
    "    for step in range(n):\n",
    "        i = -1\n",
    "        for _ in range(len(poly) - 1):\n",
    "            i += 1\n",
    "            new = rules[(poly[i], poly[i + 1])]\n",
    "            poly.insert(i + 1, new)\n",
    "            i += 1\n",
    "\n",
    "    s = \"\".join(poly)\n",
    "    next_calls = Counter([s[i : i + 2] for i in range(len(s) - 1)])\n",
    "    return dict(next_calls), dict(Counter(poly).most_common()), dict(Counter(s[1:-1]))"
   ]
  },
  {
   "cell_type": "code",
   "execution_count": 71,
   "id": "ed63ba88-b575-4b74-9c6a-81c94d2ed2d0",
   "metadata": {},
   "outputs": [
    {
     "data": {
      "text/plain": [
       "defaultdict(int, {'N': 11, 'B': 23, 'C': 10, 'H': 5})"
      ]
     },
     "execution_count": 71,
     "metadata": {},
     "output_type": "execute_result"
    }
   ],
   "source": [
    "# s = \"NNCB\"\n",
    "total = defaultdict(int)\n",
    "\n",
    "calls = {\"NN\": 1, \"NC\": 1, \"CB\": 1}\n",
    "\n",
    "# for i, (a, b) in enumerate(zip(s, s[1:])):\n",
    "word = \"NN\"\n",
    "    _, cnts = test_n(word, 4)\n",
    "    for k, v in cnts.items():\n",
    "        total[k] += v\n",
    "    if i != len(s) - 2:\n",
    "        total[b] -= 1\n",
    "\n",
    "total"
   ]
  },
  {
   "cell_type": "code",
   "execution_count": 70,
   "id": "323aaa11-3191-4aee-ab95-174b1bf38ba7",
   "metadata": {},
   "outputs": [
    {
     "data": {
      "text/plain": [
       "Counter({'N': 2, 'C': 2, 'B': 2, 'H': 1})"
      ]
     },
     "execution_count": 70,
     "metadata": {},
     "output_type": "execute_result"
    }
   ],
   "source": [
    "Counter(\"NCNBCHB\")"
   ]
  },
  {
   "cell_type": "code",
   "execution_count": 72,
   "id": "587e8c1f-115a-4d5e-a33f-713bf0574791",
   "metadata": {},
   "outputs": [
    {
     "data": {
      "text/plain": [
       "Counter({'N': 11, 'B': 23, 'C': 10, 'H': 5})"
      ]
     },
     "execution_count": 72,
     "metadata": {},
     "output_type": "execute_result"
    }
   ],
   "source": [
    "Counter(\"NBBNBNBBCCNBCNCCNBBNBBNBBBNBBNBBCBHCBHHNHCBBCBHCB\")"
   ]
  },
  {
   "cell_type": "markdown",
   "id": "1dcde718-ffa1-4b43-b75a-dc1580ce1893",
   "metadata": {},
   "source": [
    "---"
   ]
  },
  {
   "cell_type": "markdown",
   "id": "45945b9f-7404-424f-af05-ae3a0671917b",
   "metadata": {
    "tags": []
   },
   "source": [
    "# 1"
   ]
  },
  {
   "cell_type": "code",
   "execution_count": 40,
   "id": "aedc97fd-1c72-4dd9-b324-231ed6509769",
   "metadata": {},
   "outputs": [],
   "source": [
    "from collections import Counter, deque\n",
    "\n",
    "from tqdm import tqdm\n",
    "\n",
    "from functools import lru_cache\n",
    "\n",
    "from collections import defaultdict"
   ]
  },
  {
   "cell_type": "code",
   "execution_count": 103,
   "id": "a9505eb0-b817-4a30-9016-8e5f605b492a",
   "metadata": {},
   "outputs": [
    {
     "name": "stderr",
     "output_type": "stream",
     "text": [
      "100%|█████████████████████████████████████████████████████████████████████████████████████████████████████████████████████████████████████████████████| 12/12 [00:01<00:00,  9.31it/s]\n"
     ]
    }
   ],
   "source": [
    "rules = {(x[0][0], x[0][1]): x[1] for x in [x.split(\" -> \") for x in data[2:]]}\n",
    "table = []\n",
    "poly = deque(data[0])\n",
    "\n",
    "for step in tqdm(range(12)):\n",
    "    i = -1\n",
    "    for _ in range(len(poly) - 1):\n",
    "        i += 1\n",
    "        new = rules[(poly[i], poly[i + 1])]\n",
    "        poly.insert(i + 1, new)\n",
    "        i += 1\n",
    "\n",
    "    df = pd.DataFrame(Counter(poly).most_common()).T\n",
    "    df.columns = df.loc[0]\n",
    "    df = df[1:].reset_index(drop=True)\n",
    "    df.index = [step]\n",
    "\n",
    "    table.append(df)\n",
    "\n",
    "df = pd.concat(table)"
   ]
  },
  {
   "cell_type": "code",
   "execution_count": 106,
   "id": "bcddcaa4-9adc-486e-b335-5c6346c7f858",
   "metadata": {},
   "outputs": [],
   "source": [
    "import matplotlib.pyplot as plt"
   ]
  },
  {
   "cell_type": "code",
   "execution_count": 117,
   "id": "b52f0aff-8fe2-459c-bdb8-0fc3d99df362",
   "metadata": {},
   "outputs": [
    {
     "data": {
      "text/plain": [
       "'H'"
      ]
     },
     "execution_count": 117,
     "metadata": {},
     "output_type": "execute_result"
    }
   ],
   "source": [
    "df.loc[11][df.loc[11] == df.loc[11].min()].index[0]"
   ]
  },
  {
   "cell_type": "code",
   "execution_count": 121,
   "id": "82cb639a-e93b-4b45-8f21-a5ce028f1056",
   "metadata": {},
   "outputs": [],
   "source": [
    "dfH = df[[\"H\"]].copy()"
   ]
  },
  {
   "cell_type": "code",
   "execution_count": 123,
   "id": "fa153e0a-d920-4aed-bf4e-fc02280968fd",
   "metadata": {},
   "outputs": [],
   "source": [
    "dfH[\"double\"] = (2 * dfH[\"H\"]).shift(1)"
   ]
  },
  {
   "cell_type": "code",
   "execution_count": 126,
   "id": "78577d7c-8d8b-43e1-9799-930f240e24b7",
   "metadata": {},
   "outputs": [],
   "source": [
    "dfH[\"rem\"] = dfH.H - dfH.double"
   ]
  },
  {
   "cell_type": "code",
   "execution_count": 129,
   "id": "a9a88d45-0d99-4ae8-85ac-8f330bff17e7",
   "metadata": {},
   "outputs": [
    {
     "data": {
      "text/plain": [
       "array([nan, 0, 1, -1, 2, -4, -9, -14, -35, -59, -106, -172], dtype=object)"
      ]
     },
     "execution_count": 129,
     "metadata": {},
     "output_type": "execute_result"
    }
   ],
   "source": [
    "dfH.rem.values"
   ]
  },
  {
   "cell_type": "code",
   "execution_count": 118,
   "id": "27c17cd2-6a2b-4a64-a70a-33396d8f04ca",
   "metadata": {},
   "outputs": [
    {
     "data": {
      "text/plain": [
       "'F'"
      ]
     },
     "execution_count": 118,
     "metadata": {},
     "output_type": "execute_result"
    }
   ],
   "source": [
    "df.loc[11][df.loc[11] == df.loc[11].max()].index[0]"
   ]
  },
  {
   "cell_type": "markdown",
   "id": "80aa2dc4-f4f5-403b-89b1-7db8ecb99d3e",
   "metadata": {},
   "source": [
    "---"
   ]
  },
  {
   "cell_type": "code",
   "execution_count": 34,
   "id": "2ad75617-64c0-4fdf-817f-97c1d9c50f20",
   "metadata": {},
   "outputs": [],
   "source": [
    "s = \"NNCB\"\n",
    "total_dict = defaultdict(int)\n",
    "\n",
    "\n",
    "calls, mc = test_n(s, 10)\n",
    "for key, coef in calls.items():\n",
    "    calls, mc = test_n(key, 10)\n",
    "    total_dict"
   ]
  },
  {
   "cell_type": "code",
   "execution_count": 35,
   "id": "4d7e9b53-7c61-45f9-8f85-c73d01a04965",
   "metadata": {},
   "outputs": [
    {
     "data": {
      "text/plain": [
       "{'NB': 796,\n",
       " 'BB': 812,\n",
       " 'BN': 735,\n",
       " 'BC': 120,\n",
       " 'CC': 60,\n",
       " 'CN': 102,\n",
       " 'NC': 42,\n",
       " 'CB': 115,\n",
       " 'BH': 81,\n",
       " 'HC': 76,\n",
       " 'HH': 32,\n",
       " 'HN': 27,\n",
       " 'NH': 27,\n",
       " 'CH': 21,\n",
       " 'HB': 26}"
      ]
     },
     "execution_count": 35,
     "metadata": {},
     "output_type": "execute_result"
    }
   ],
   "source": [
    "calls"
   ]
  },
  {
   "cell_type": "code",
   "execution_count": 36,
   "id": "46670552-79d9-45f0-9bdc-cad2d7e2cb0e",
   "metadata": {},
   "outputs": [
    {
     "data": {
      "text/plain": [
       "{'B': 1749, 'N': 865, 'C': 298, 'H': 161}"
      ]
     },
     "execution_count": 36,
     "metadata": {},
     "output_type": "execute_result"
    }
   ],
   "source": [
    "mc"
   ]
  },
  {
   "cell_type": "code",
   "execution_count": 9,
   "id": "b7d1ebc6-3499-425b-8022-587d548d3725",
   "metadata": {},
   "outputs": [],
   "source": [
    "rules = {(x[0][0], x[0][1]): x[1] for x in [x.split(\" -> \") for x in data[2:]]}\n",
    "\n",
    "s = \"NNCB\"\n",
    "total_dict = defaultdict(int)"
   ]
  },
  {
   "cell_type": "code",
   "execution_count": null,
   "id": "42873baf-946e-4135-9ff1-bc204efb2212",
   "metadata": {},
   "outputs": [],
   "source": []
  },
  {
   "cell_type": "code",
   "execution_count": 178,
   "id": "2c12acc9-6630-423a-ac23-77b5a082aa72",
   "metadata": {},
   "outputs": [
    {
     "name": "stderr",
     "output_type": "stream",
     "text": [
      " 75%|██████████████████████████████████████████████████████████████████████████████████████████████████████████████▎                                    | 3/4 [04:16<01:25, 85.61s/it]\n"
     ]
    },
    {
     "ename": "KeyboardInterrupt",
     "evalue": "",
     "output_type": "error",
     "traceback": [
      "\u001b[0;31m---------------------------------------------------------------------------\u001b[0m",
      "\u001b[0;31mKeyboardInterrupt\u001b[0m                         Traceback (most recent call last)",
      "\u001b[0;32m/var/folders/x4/t1fx1l8s0f97y033bl0gpgcr0000gn/T/ipykernel_64131/661522969.py\u001b[0m in \u001b[0;36m<module>\u001b[0;34m\u001b[0m\n\u001b[1;32m     12\u001b[0m         \u001b[0;32mfor\u001b[0m \u001b[0mk\u001b[0m\u001b[0;34m,\u001b[0m \u001b[0mv\u001b[0m \u001b[0;32min\u001b[0m \u001b[0mmc\u001b[0m\u001b[0;34m.\u001b[0m\u001b[0mitems\u001b[0m\u001b[0;34m(\u001b[0m\u001b[0;34m)\u001b[0m\u001b[0;34m:\u001b[0m\u001b[0;34m\u001b[0m\u001b[0;34m\u001b[0m\u001b[0m\n\u001b[1;32m     13\u001b[0m             \u001b[0mtotal_dict\u001b[0m\u001b[0;34m[\u001b[0m\u001b[0mk\u001b[0m\u001b[0;34m]\u001b[0m \u001b[0;34m+=\u001b[0m \u001b[0mv\u001b[0m\u001b[0;34m\u001b[0m\u001b[0;34m\u001b[0m\u001b[0m\n\u001b[0;32m---> 14\u001b[0;31m         \u001b[0ms_part\u001b[0m \u001b[0;34m=\u001b[0m \u001b[0;34m\"\"\u001b[0m\u001b[0;34m.\u001b[0m\u001b[0mjoin\u001b[0m\u001b[0;34m(\u001b[0m\u001b[0mpoly\u001b[0m\u001b[0;34m)\u001b[0m\u001b[0;34m\u001b[0m\u001b[0;34m\u001b[0m\u001b[0m\n\u001b[0m\u001b[1;32m     15\u001b[0m         \u001b[0mnew_s\u001b[0m \u001b[0;34m+=\u001b[0m \u001b[0ms_part\u001b[0m\u001b[0;34m\u001b[0m\u001b[0;34m\u001b[0m\u001b[0m\n\u001b[1;32m     16\u001b[0m \u001b[0;34m\u001b[0m\u001b[0m\n",
      "\u001b[0;31mKeyboardInterrupt\u001b[0m: "
     ]
    }
   ],
   "source": [
    "for _ in tqdm(range(4)):\n",
    "\n",
    "    new_s = \"\"\n",
    "    for i in range(0, len(s) - 1):\n",
    "        word = s[i : i + 2]\n",
    "        poly, mc = test_n(word, 10)\n",
    "        for k, v in mc.items():\n",
    "            total_dict[k] += v\n",
    "        s_part = \"\".join(poly)\n",
    "        new_s += s_part\n",
    "\n",
    "    s = new_s"
   ]
  },
  {
   "cell_type": "code",
   "execution_count": 170,
   "id": "fd83c672-a960-4d80-8ee1-40a5e9564dea",
   "metadata": {},
   "outputs": [
    {
     "data": {
      "text/plain": [
       "defaultdict(int, {'B': 1749, 'N': 866, 'C': 299, 'H': 161})"
      ]
     },
     "execution_count": 170,
     "metadata": {},
     "output_type": "execute_result"
    }
   ],
   "source": [
    "total_dict"
   ]
  },
  {
   "cell_type": "code",
   "execution_count": 171,
   "id": "0756266f-f9ec-4534-a823-dbb5c6d5a3c3",
   "metadata": {},
   "outputs": [
    {
     "data": {
      "text/plain": [
       "{'B': 1749, 'N': 865, 'C': 298, 'H': 161}"
      ]
     },
     "execution_count": 171,
     "metadata": {},
     "output_type": "execute_result"
    }
   ],
   "source": [
    "test_n(\"NNCB\", 10)[1]"
   ]
  },
  {
   "cell_type": "code",
   "execution_count": 149,
   "id": "f70120d6-8be5-4fdf-87a3-204b0fea844d",
   "metadata": {},
   "outputs": [
    {
     "name": "stderr",
     "output_type": "stream",
     "text": [
      "100%|█████████████████████████████████████████████████████████████████████████████████████████████████████████████████████████████████████████████████| 17/17 [00:03<00:00,  4.82it/s]\n"
     ]
    },
    {
     "data": {
      "text/plain": [
       "{'F': 57104,\n",
       " 'P': 29293,\n",
       " 'N': 9071,\n",
       " 'C': 7963,\n",
       " 'V': 6245,\n",
       " 'S': 5303,\n",
       " 'B': 5222,\n",
       " 'O': 4697,\n",
       " 'K': 4019,\n",
       " 'H': 2156}"
      ]
     },
     "execution_count": 149,
     "metadata": {},
     "output_type": "execute_result"
    }
   ],
   "source": [
    "poly, mc = test_n(\"KH\", 10)\n",
    "poly, mc = test_n(\"HS\", 10)\n"
   ]
  },
  {
   "cell_type": "code",
   "execution_count": null,
   "id": "87c92694-fb12-4889-9cca-c0bf2bd8d370",
   "metadata": {},
   "outputs": [],
   "source": []
  },
  {
   "cell_type": "code",
   "execution_count": null,
   "id": "d36415e3-d490-4873-8661-0e44765e5389",
   "metadata": {},
   "outputs": [],
   "source": [
    "KHSSCSKKCPFKPPBBOKVF"
   ]
  },
  {
   "cell_type": "code",
   "execution_count": 139,
   "id": "f1ae6197-476d-4b68-b9e0-d754d41f218b",
   "metadata": {},
   "outputs": [
    {
     "name": "stderr",
     "output_type": "stream",
     "text": [
      "100%|████████████████████████████████████████████████████████████████████████████████████████████████████████████████████████████████████████████████| 10/10 [00:00<00:00, 460.57it/s]\n"
     ]
    },
    {
     "data": {
      "text/plain": [
       "{'F': 411,\n",
       " 'C': 324,\n",
       " 'P': 309,\n",
       " 'N': 235,\n",
       " 'S': 182,\n",
       " 'V': 157,\n",
       " 'O': 132,\n",
       " 'B': 109,\n",
       " 'H': 104,\n",
       " 'K': 86}"
      ]
     },
     "execution_count": 139,
     "metadata": {},
     "output_type": "execute_result"
    }
   ],
   "source": [
    "test_ten(\"OSO\")"
   ]
  },
  {
   "cell_type": "code",
   "execution_count": 136,
   "id": "546cd0b9-a6d1-4193-b304-3f11cb0efbde",
   "metadata": {},
   "outputs": [
    {
     "name": "stderr",
     "output_type": "stream",
     "text": [
      "100%|███████████████████████████████████████████████████████████████████████████████████████████████████████████████████████████████████████████████| 10/10 [00:00<00:00, 2577.30it/s]\n"
     ]
    },
    {
     "data": {
      "text/plain": [
       "{'F': 170,\n",
       " 'C': 149,\n",
       " 'P': 129,\n",
       " 'N': 122,\n",
       " 'V': 87,\n",
       " 'S': 85,\n",
       " 'O': 81,\n",
       " 'B': 73,\n",
       " 'K': 66,\n",
       " 'H': 63}"
      ]
     },
     "execution_count": 136,
     "metadata": {},
     "output_type": "execute_result"
    }
   ],
   "source": [
    "test_ten(\"OS\")"
   ]
  },
  {
   "cell_type": "code",
   "execution_count": 138,
   "id": "d7bc3c43-7b08-40fd-8710-f7eba1a7ad46",
   "metadata": {},
   "outputs": [
    {
     "name": "stderr",
     "output_type": "stream",
     "text": [
      "100%|███████████████████████████████████████████████████████████████████████████████████████████████████████████████████████████████████████████████| 10/10 [00:00<00:00, 6488.71it/s]\n"
     ]
    },
    {
     "data": {
      "text/plain": [
       "{'F': 241,\n",
       " 'P': 180,\n",
       " 'C': 175,\n",
       " 'N': 113,\n",
       " 'S': 98,\n",
       " 'V': 70,\n",
       " 'O': 51,\n",
       " 'H': 41,\n",
       " 'B': 36,\n",
       " 'K': 20}"
      ]
     },
     "execution_count": 138,
     "metadata": {},
     "output_type": "execute_result"
    }
   ],
   "source": [
    "test_ten(\"SO\")"
   ]
  },
  {
   "cell_type": "code",
   "execution_count": null,
   "id": "ece6ef4d-9e45-4993-9530-b4db463a0d3b",
   "metadata": {},
   "outputs": [],
   "source": []
  },
  {
   "cell_type": "code",
   "execution_count": 131,
   "id": "a774e5c0-3982-4e2f-aef7-684e80704260",
   "metadata": {},
   "outputs": [
    {
     "data": {
      "text/plain": [
       "'N'"
      ]
     },
     "execution_count": 131,
     "metadata": {},
     "output_type": "execute_result"
    }
   ],
   "source": [
    "rules[(\"O\", \"S\")]"
   ]
  },
  {
   "cell_type": "code",
   "execution_count": 107,
   "id": "1a435c5d-742d-4f24-bd2e-02c75ab97dac",
   "metadata": {},
   "outputs": [
    {
     "data": {
      "text/plain": [
       "<matplotlib.legend.Legend at 0x7f95cf3a2a90>"
      ]
     },
     "execution_count": 107,
     "metadata": {},
     "output_type": "execute_result"
    },
    {
     "data": {
      "image/png": "[encoded data removed]",
      "text/plain": [
       "<Figure size 432x288 with 1 Axes>"
      ]
     },
     "metadata": {
      "needs_background": "light"
     },
     "output_type": "display_data"
    }
   ],
   "source": [
    "for c in df.columns:\n",
    "    df[c].plot(label=c)\n",
    "plt.legend()"
   ]
  },
  {
   "cell_type": "code",
   "execution_count": 83,
   "id": "ee4df2db-987f-452d-b43f-85911f27b156",
   "metadata": {},
   "outputs": [],
   "source": [
    "import pandas as pd"
   ]
  },
  {
   "cell_type": "code",
   "execution_count": 85,
   "id": "86009be6-497e-43f6-a07b-6d3f78d038de",
   "metadata": {},
   "outputs": [
    {
     "data": {
      "text/plain": [
       "[[('K', 7),\n",
       "  ('F', 7),\n",
       "  ('P', 6),\n",
       "  ('B', 5),\n",
       "  ('C', 4),\n",
       "  ('V', 3),\n",
       "  ('S', 3),\n",
       "  ('H', 2),\n",
       "  ('N', 1),\n",
       "  ('O', 1)],\n",
       " [('F', 13),\n",
       "  ('K', 10),\n",
       "  ('C', 10),\n",
       "  ('B', 9),\n",
       "  ('V', 9),\n",
       "  ('P', 9),\n",
       "  ('S', 5),\n",
       "  ('N', 5),\n",
       "  ('H', 4),\n",
       "  ('O', 3)],\n",
       " [('F', 31),\n",
       "  ('P', 22),\n",
       "  ('C', 19),\n",
       "  ('V', 16),\n",
       "  ('K', 14),\n",
       "  ('B', 14),\n",
       "  ('N', 11),\n",
       "  ('H', 9),\n",
       "  ('O', 9),\n",
       "  ('S', 8)],\n",
       " [('F', 64),\n",
       "  ('P', 40),\n",
       "  ('V', 36),\n",
       "  ('C', 33),\n",
       "  ('N', 29),\n",
       "  ('K', 27),\n",
       "  ('B', 26),\n",
       "  ('H', 17),\n",
       "  ('S', 17),\n",
       "  ('O', 16)],\n",
       " [('F', 140),\n",
       "  ('P', 82),\n",
       "  ('N', 67),\n",
       "  ('C', 64),\n",
       "  ('V', 59),\n",
       "  ('B', 51),\n",
       "  ('K', 40),\n",
       "  ('O', 36),\n",
       "  ('H', 36),\n",
       "  ('S', 34)],\n",
       " [('F', 305),\n",
       "  ('P', 167),\n",
       "  ('N', 135),\n",
       "  ('C', 128),\n",
       "  ('V', 117),\n",
       "  ('B', 88),\n",
       "  ('K', 75),\n",
       "  ('S', 69),\n",
       "  ('H', 68),\n",
       "  ('O', 65)],\n",
       " [('F', 663),\n",
       "  ('P', 350),\n",
       "  ('N', 273),\n",
       "  ('C', 235),\n",
       "  ('V', 212),\n",
       "  ('B', 174),\n",
       "  ('S', 143),\n",
       "  ('K', 134),\n",
       "  ('H', 127),\n",
       "  ('O', 122)],\n",
       " [('F', 1439),\n",
       "  ('P', 732),\n",
       "  ('N', 518),\n",
       "  ('C', 475),\n",
       "  ('V', 398),\n",
       "  ('B', 317),\n",
       "  ('S', 268),\n",
       "  ('H', 240),\n",
       "  ('K', 239),\n",
       "  ('O', 239)],\n",
       " [('F', 3058),\n",
       "  ('P', 1559),\n",
       "  ('N', 991),\n",
       "  ('C', 892),\n",
       "  ('V', 741),\n",
       "  ('B', 592),\n",
       "  ('S', 536),\n",
       "  ('O', 458),\n",
       "  ('K', 457),\n",
       "  ('H', 445)],\n",
       " [('F', 6487),\n",
       "  ('P', 3303),\n",
       "  ('N', 1861),\n",
       "  ('C', 1699),\n",
       "  ('V', 1385),\n",
       "  ('B', 1115),\n",
       "  ('S', 1032),\n",
       "  ('O', 884),\n",
       "  ('K', 860),\n",
       "  ('H', 831)]]"
      ]
     },
     "execution_count": 85,
     "metadata": {},
     "output_type": "execute_result"
    }
   ],
   "source": [
    "table"
   ]
  },
  {
   "cell_type": "code",
   "execution_count": 84,
   "id": "62dd518a-2b5e-4a54-bfd0-6e785a255c94",
   "metadata": {},
   "outputs": [
    {
     "data": {
      "text/html": [
       "<div>\n",
       "<style scoped>\n",
       "    .dataframe tbody tr th:only-of-type {\n",
       "        vertical-align: middle;\n",
       "    }\n",
       "\n",
       "    .dataframe tbody tr th {\n",
       "        vertical-align: top;\n",
       "    }\n",
       "\n",
       "    .dataframe thead th {\n",
       "        text-align: right;\n",
       "    }\n",
       "</style>\n",
       "<table border=\"1\" class=\"dataframe\">\n",
       "  <thead>\n",
       "    <tr style=\"text-align: right;\">\n",
       "      <th></th>\n",
       "      <th>0</th>\n",
       "      <th>1</th>\n",
       "      <th>2</th>\n",
       "      <th>3</th>\n",
       "      <th>4</th>\n",
       "      <th>5</th>\n",
       "      <th>6</th>\n",
       "      <th>7</th>\n",
       "      <th>8</th>\n",
       "      <th>9</th>\n",
       "    </tr>\n",
       "  </thead>\n",
       "  <tbody>\n",
       "    <tr>\n",
       "      <th>0</th>\n",
       "      <td>(K, 7)</td>\n",
       "      <td>(F, 7)</td>\n",
       "      <td>(P, 6)</td>\n",
       "      <td>(B, 5)</td>\n",
       "      <td>(C, 4)</td>\n",
       "      <td>(V, 3)</td>\n",
       "      <td>(S, 3)</td>\n",
       "      <td>(H, 2)</td>\n",
       "      <td>(N, 1)</td>\n",
       "      <td>(O, 1)</td>\n",
       "    </tr>\n",
       "    <tr>\n",
       "      <th>1</th>\n",
       "      <td>(F, 13)</td>\n",
       "      <td>(K, 10)</td>\n",
       "      <td>(C, 10)</td>\n",
       "      <td>(B, 9)</td>\n",
       "      <td>(V, 9)</td>\n",
       "      <td>(P, 9)</td>\n",
       "      <td>(S, 5)</td>\n",
       "      <td>(N, 5)</td>\n",
       "      <td>(H, 4)</td>\n",
       "      <td>(O, 3)</td>\n",
       "    </tr>\n",
       "    <tr>\n",
       "      <th>2</th>\n",
       "      <td>(F, 31)</td>\n",
       "      <td>(P, 22)</td>\n",
       "      <td>(C, 19)</td>\n",
       "      <td>(V, 16)</td>\n",
       "      <td>(K, 14)</td>\n",
       "      <td>(B, 14)</td>\n",
       "      <td>(N, 11)</td>\n",
       "      <td>(H, 9)</td>\n",
       "      <td>(O, 9)</td>\n",
       "      <td>(S, 8)</td>\n",
       "    </tr>\n",
       "    <tr>\n",
       "      <th>3</th>\n",
       "      <td>(F, 64)</td>\n",
       "      <td>(P, 40)</td>\n",
       "      <td>(V, 36)</td>\n",
       "      <td>(C, 33)</td>\n",
       "      <td>(N, 29)</td>\n",
       "      <td>(K, 27)</td>\n",
       "      <td>(B, 26)</td>\n",
       "      <td>(H, 17)</td>\n",
       "      <td>(S, 17)</td>\n",
       "      <td>(O, 16)</td>\n",
       "    </tr>\n",
       "    <tr>\n",
       "      <th>4</th>\n",
       "      <td>(F, 140)</td>\n",
       "      <td>(P, 82)</td>\n",
       "      <td>(N, 67)</td>\n",
       "      <td>(C, 64)</td>\n",
       "      <td>(V, 59)</td>\n",
       "      <td>(B, 51)</td>\n",
       "      <td>(K, 40)</td>\n",
       "      <td>(O, 36)</td>\n",
       "      <td>(H, 36)</td>\n",
       "      <td>(S, 34)</td>\n",
       "    </tr>\n",
       "    <tr>\n",
       "      <th>5</th>\n",
       "      <td>(F, 305)</td>\n",
       "      <td>(P, 167)</td>\n",
       "      <td>(N, 135)</td>\n",
       "      <td>(C, 128)</td>\n",
       "      <td>(V, 117)</td>\n",
       "      <td>(B, 88)</td>\n",
       "      <td>(K, 75)</td>\n",
       "      <td>(S, 69)</td>\n",
       "      <td>(H, 68)</td>\n",
       "      <td>(O, 65)</td>\n",
       "    </tr>\n",
       "    <tr>\n",
       "      <th>6</th>\n",
       "      <td>(F, 663)</td>\n",
       "      <td>(P, 350)</td>\n",
       "      <td>(N, 273)</td>\n",
       "      <td>(C, 235)</td>\n",
       "      <td>(V, 212)</td>\n",
       "      <td>(B, 174)</td>\n",
       "      <td>(S, 143)</td>\n",
       "      <td>(K, 134)</td>\n",
       "      <td>(H, 127)</td>\n",
       "      <td>(O, 122)</td>\n",
       "    </tr>\n",
       "    <tr>\n",
       "      <th>7</th>\n",
       "      <td>(F, 1439)</td>\n",
       "      <td>(P, 732)</td>\n",
       "      <td>(N, 518)</td>\n",
       "      <td>(C, 475)</td>\n",
       "      <td>(V, 398)</td>\n",
       "      <td>(B, 317)</td>\n",
       "      <td>(S, 268)</td>\n",
       "      <td>(H, 240)</td>\n",
       "      <td>(K, 239)</td>\n",
       "      <td>(O, 239)</td>\n",
       "    </tr>\n",
       "    <tr>\n",
       "      <th>8</th>\n",
       "      <td>(F, 3058)</td>\n",
       "      <td>(P, 1559)</td>\n",
       "      <td>(N, 991)</td>\n",
       "      <td>(C, 892)</td>\n",
       "      <td>(V, 741)</td>\n",
       "      <td>(B, 592)</td>\n",
       "      <td>(S, 536)</td>\n",
       "      <td>(O, 458)</td>\n",
       "      <td>(K, 457)</td>\n",
       "      <td>(H, 445)</td>\n",
       "    </tr>\n",
       "    <tr>\n",
       "      <th>9</th>\n",
       "      <td>(F, 6487)</td>\n",
       "      <td>(P, 3303)</td>\n",
       "      <td>(N, 1861)</td>\n",
       "      <td>(C, 1699)</td>\n",
       "      <td>(V, 1385)</td>\n",
       "      <td>(B, 1115)</td>\n",
       "      <td>(S, 1032)</td>\n",
       "      <td>(O, 884)</td>\n",
       "      <td>(K, 860)</td>\n",
       "      <td>(H, 831)</td>\n",
       "    </tr>\n",
       "  </tbody>\n",
       "</table>\n",
       "</div>"
      ],
      "text/plain": [
       "           0          1          2          3          4          5  \\\n",
       "0     (K, 7)     (F, 7)     (P, 6)     (B, 5)     (C, 4)     (V, 3)   \n",
       "1    (F, 13)    (K, 10)    (C, 10)     (B, 9)     (V, 9)     (P, 9)   \n",
       "2    (F, 31)    (P, 22)    (C, 19)    (V, 16)    (K, 14)    (B, 14)   \n",
       "3    (F, 64)    (P, 40)    (V, 36)    (C, 33)    (N, 29)    (K, 27)   \n",
       "4   (F, 140)    (P, 82)    (N, 67)    (C, 64)    (V, 59)    (B, 51)   \n",
       "5   (F, 305)   (P, 167)   (N, 135)   (C, 128)   (V, 117)    (B, 88)   \n",
       "6   (F, 663)   (P, 350)   (N, 273)   (C, 235)   (V, 212)   (B, 174)   \n",
       "7  (F, 1439)   (P, 732)   (N, 518)   (C, 475)   (V, 398)   (B, 317)   \n",
       "8  (F, 3058)  (P, 1559)   (N, 991)   (C, 892)   (V, 741)   (B, 592)   \n",
       "9  (F, 6487)  (P, 3303)  (N, 1861)  (C, 1699)  (V, 1385)  (B, 1115)   \n",
       "\n",
       "           6         7         8         9  \n",
       "0     (S, 3)    (H, 2)    (N, 1)    (O, 1)  \n",
       "1     (S, 5)    (N, 5)    (H, 4)    (O, 3)  \n",
       "2    (N, 11)    (H, 9)    (O, 9)    (S, 8)  \n",
       "3    (B, 26)   (H, 17)   (S, 17)   (O, 16)  \n",
       "4    (K, 40)   (O, 36)   (H, 36)   (S, 34)  \n",
       "5    (K, 75)   (S, 69)   (H, 68)   (O, 65)  \n",
       "6   (S, 143)  (K, 134)  (H, 127)  (O, 122)  \n",
       "7   (S, 268)  (H, 240)  (K, 239)  (O, 239)  \n",
       "8   (S, 536)  (O, 458)  (K, 457)  (H, 445)  \n",
       "9  (S, 1032)  (O, 884)  (K, 860)  (H, 831)  "
      ]
     },
     "execution_count": 84,
     "metadata": {},
     "output_type": "execute_result"
    }
   ],
   "source": [
    "pd.DataFrame()"
   ]
  },
  {
   "cell_type": "code",
   "execution_count": 30,
   "id": "4a221cc7-962e-4ba2-be67-94e6e92f1bed",
   "metadata": {},
   "outputs": [],
   "source": [
    "poly.insert(1, \"C\")"
   ]
  },
  {
   "cell_type": "code",
   "execution_count": 31,
   "id": "5d5dd4e8-7e21-431a-b0fc-0cde93ea2825",
   "metadata": {},
   "outputs": [
    {
     "data": {
      "text/plain": [
       "deque(['N', 'C', 'N', 'C', 'B'])"
      ]
     },
     "execution_count": 31,
     "metadata": {},
     "output_type": "execute_result"
    }
   ],
   "source": [
    "poly"
   ]
  },
  {
   "cell_type": "code",
   "execution_count": 17,
   "id": "796bbdcb-304a-456a-bf65-212a6a6335e4",
   "metadata": {
    "tags": []
   },
   "outputs": [],
   "source": [
    "def polymerize(code, gens, n_steps):\n",
    "    for _ in tqdm(range(n_steps)):\n",
    "        new_code = \"\"\n",
    "        for i in range(len(code) - 1):\n",
    "            bi = code[i : i + 2]\n",
    "            c = gens[bi]\n",
    "            new_code += f\"{bi[:1]}{c}\"\n",
    "            if i == len(code) - 2:\n",
    "                new_code += code[-1]\n",
    "        code = new_code\n",
    "    return code"
   ]
  },
  {
   "cell_type": "code",
   "execution_count": 21,
   "id": "36375586-3f6a-4b43-9fb0-5221c4da3b3c",
   "metadata": {},
   "outputs": [
    {
     "name": "stderr",
     "output_type": "stream",
     "text": [
      "100%|████████████████████████████████████████████████████████████████████████████████████████████████████████████████████████████████████████████████| 10/10 [00:00<00:00, 202.25it/s]\n"
     ]
    },
    {
     "data": {
      "text/plain": [
       "5656"
      ]
     },
     "execution_count": 21,
     "metadata": {},
     "output_type": "execute_result"
    }
   ],
   "source": [
    "code = data[0]\n",
    "rules = {x[0]: x[1] for x in [x.split(\" -> \") for x in data[2:]]}\n",
    "\n",
    "c = Counter(polymerize(code, rules, 10))\n",
    "t = c.most_common()\n",
    "t[0][1] - t[-1][1]"
   ]
  },
  {
   "cell_type": "code",
   "execution_count": null,
   "id": "875ecd00-db2b-4769-b3ec-d4df9dc1da89",
   "metadata": {},
   "outputs": [],
   "source": []
  },
  {
   "cell_type": "markdown",
   "id": "92fe79df-ed0f-4bf0-b821-e04c1dbefd7e",
   "metadata": {
    "tags": []
   },
   "source": [
    "# 2"
   ]
  },
  {
   "cell_type": "code",
   "execution_count": 11,
   "id": "7c8cb4a3-c510-4de8-bc7d-955e1dd392a3",
   "metadata": {},
   "outputs": [],
   "source": [
    "from collections import namedtuple, defaultdict, deque"
   ]
  },
  {
   "cell_type": "code",
   "execution_count": 7,
   "id": "9ededf19-53e7-436f-96f5-aa7c57d03b06",
   "metadata": {},
   "outputs": [],
   "source": [
    "Code = namedtuple(\"Code\", \"pairs remainder count\")"
   ]
  },
  {
   "cell_type": "code",
   "execution_count": 8,
   "id": "633ff42d-2fc2-444a-a4e1-356f069b615f",
   "metadata": {},
   "outputs": [],
   "source": [
    "def build_code(code_str) -> Code:\n",
    "    d = defaultdict(int)\n",
    "    for i in range(len(code_str) - 1):\n",
    "        bi = code_str[i : i + 2]\n",
    "        d[bi] += 1\n",
    "    r = code_str[-1] if len(code_str) % 2 == 1 else \"\"\n",
    "    c = dict(Counter(code_str).most_common())\n",
    "    return Code(d, r, c)"
   ]
  },
  {
   "cell_type": "code",
   "execution_count": null,
   "id": "33c43565-65ea-4e32-96cc-58a4d83cea80",
   "metadata": {},
   "outputs": [],
   "source": [
    "def step(code: Code, rules: dict) -> Code:\n",
    "    new_pairs = defaultdict(int)\n",
    "    for k, v in code.pairs.items():\n",
    "        c = rules[k]\n",
    "        code.count[c] += v\n",
    "        "
   ]
  },
  {
   "cell_type": "code",
   "execution_count": 85,
   "id": "ae8ff746-4c0f-4727-be9b-15b354b970fd",
   "metadata": {},
   "outputs": [],
   "source": [
    "cd = build_code(code)"
   ]
  },
  {
   "cell_type": "code",
   "execution_count": 86,
   "id": "3d0d02bf-f9f1-4800-9af3-fb34be67021c",
   "metadata": {},
   "outputs": [
    {
     "data": {
      "text/plain": [
       "Code(pairs=defaultdict(<class 'int'>, {'KH': 1, 'HS': 1, 'SS': 1, 'SC': 1, 'CS': 1, 'SK': 1, 'KK': 1, 'KC': 1, 'CP': 1, 'PF': 1, 'FK': 1, 'KP': 1, 'PP': 1, 'PB': 1, 'BB': 1, 'BO': 1, 'OK': 1, 'KV': 1, 'VF': 1}), remainder='', count={'K': 5, 'S': 3, 'P': 3, 'C': 2, 'F': 2, 'B': 2, 'H': 1, 'O': 1, 'V': 1})"
      ]
     },
     "execution_count": 86,
     "metadata": {},
     "output_type": "execute_result"
    }
   ],
   "source": [
    "cd"
   ]
  },
  {
   "cell_type": "code",
   "execution_count": 83,
   "id": "722047ee-fe9e-4371-937b-2fc5c1369942",
   "metadata": {},
   "outputs": [
    {
     "data": {
      "text/plain": [
       "defaultdict(int,\n",
       "            {'KH': 1,\n",
       "             'HS': 1,\n",
       "             'SS': 1,\n",
       "             'SC': 1,\n",
       "             'CS': 1,\n",
       "             'SK': 1,\n",
       "             'KK': 1,\n",
       "             'KC': 1,\n",
       "             'CP': 1,\n",
       "             'PF': 1,\n",
       "             'FK': 1,\n",
       "             'KP': 1,\n",
       "             'PP': 1,\n",
       "             'PB': 1,\n",
       "             'BB': 1,\n",
       "             'BO': 1,\n",
       "             'OK': 1,\n",
       "             'KV': 1,\n",
       "             'VF': 1})"
      ]
     },
     "execution_count": 83,
     "metadata": {},
     "output_type": "execute_result"
    }
   ],
   "source": [
    "cd.pairs"
   ]
  },
  {
   "cell_type": "code",
   "execution_count": null,
   "id": "1ec32a80-cd47-4764-b239-2f91c1c4c057",
   "metadata": {},
   "outputs": [],
   "source": [
    "def polymerize_optimal(code, gens, n_steps):\n",
    "    "
   ]
  },
  {
   "cell_type": "code",
   "execution_count": null,
   "id": "101f4a47-7ee4-4da2-9d33-2083d0e47143",
   "metadata": {},
   "outputs": [],
   "source": []
  }
 ],
 "metadata": {
  "kernelspec": {
   "display_name": "Python (DE)",
   "language": "python",
   "name": "python3"
  },
  "language_info": {
   "codemirror_mode": {
    "name": "ipython",
    "version": 3
   },
   "file_extension": ".py",
   "mimetype": "text/x-python",
   "name": "python",
   "nbconvert_exporter": "python",
   "pygments_lexer": "ipython3",
   "version": "3.7.12"
  }
 },
 "nbformat": 4,
 "nbformat_minor": 5
}
