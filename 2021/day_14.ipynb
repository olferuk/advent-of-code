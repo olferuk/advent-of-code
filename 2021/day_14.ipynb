{
 "cells": [
  {
   "cell_type": "code",
   "execution_count": 1,
   "id": "11ea68c3-e7d5-4d0a-90bb-0c102c6fe0b0",
   "metadata": {},
   "outputs": [],
   "source": [
    "%load_ext lab_black\n",
    "\n",
    "from puzzles import load_puzzle\n",
    "\n",
    "s = load_puzzle(14)\n",
    "\n",
    "text = s.strip().split(\"\\n\")"
   ]
  },
  {
   "cell_type": "markdown",
   "id": "1dcde718-ffa1-4b43-b75a-dc1580ce1893",
   "metadata": {},
   "source": [
    "---"
   ]
  },
  {
   "cell_type": "markdown",
   "id": "45945b9f-7404-424f-af05-ae3a0671917b",
   "metadata": {
    "tags": []
   },
   "source": [
    "# 1"
   ]
  },
  {
   "cell_type": "code",
   "execution_count": 2,
   "id": "4d5aff98-7edb-41b8-8946-18a1f8a7a2e5",
   "metadata": {},
   "outputs": [],
   "source": [
    "from collections import Counter"
   ]
  },
  {
   "cell_type": "code",
   "execution_count": 3,
   "id": "e72c3777-824c-411e-bbe4-de3f444cfbaf",
   "metadata": {},
   "outputs": [],
   "source": [
    "from tqdm import tqdm"
   ]
  },
  {
   "cell_type": "code",
   "execution_count": 4,
   "id": "796bbdcb-304a-456a-bf65-212a6a6335e4",
   "metadata": {
    "tags": []
   },
   "outputs": [],
   "source": [
    "def polymerize(code, gens, n_steps):\n",
    "    for _ in tqdm(range(n_steps)):\n",
    "        new_code = \"\"\n",
    "        for i in range(len(code) - 1):\n",
    "            bi = code[i : i + 2]\n",
    "            c = gens[bi]\n",
    "            new_code += f\"{bi[:1]}{c}\"\n",
    "            if i == len(code) - 2:\n",
    "                new_code += code[-1]\n",
    "        code = new_code\n",
    "    return code"
   ]
  },
  {
   "cell_type": "code",
   "execution_count": 5,
   "id": "36375586-3f6a-4b43-9fb0-5221c4da3b3c",
   "metadata": {},
   "outputs": [
    {
     "name": "stderr",
     "output_type": "stream",
     "text": [
      "100%|██████████████████████████████████████████████████████████████████████████████████████████████████████████████████████████████████████████████████████████| 10/10 [00:00<00:00, 215.00it/s]\n"
     ]
    },
    {
     "data": {
      "text/plain": [
       "5656"
      ]
     },
     "execution_count": 5,
     "metadata": {},
     "output_type": "execute_result"
    }
   ],
   "source": [
    "code = text[0]\n",
    "rules = {x[0]: x[1] for x in [x.split(\" -> \") for x in text[2:]]}\n",
    "\n",
    "c = Counter(polymerize(code, rules, 10))\n",
    "t = c.most_common()\n",
    "t[0][1] - t[-1][1]"
   ]
  },
  {
   "cell_type": "markdown",
   "id": "92fe79df-ed0f-4bf0-b821-e04c1dbefd7e",
   "metadata": {
    "tags": []
   },
   "source": [
    "# 2"
   ]
  },
  {
   "cell_type": "code",
   "execution_count": 6,
   "id": "7c8cb4a3-c510-4de8-bc7d-955e1dd392a3",
   "metadata": {},
   "outputs": [],
   "source": [
    "from collections import namedtuple, defaultdict"
   ]
  },
  {
   "cell_type": "code",
   "execution_count": 7,
   "id": "9ededf19-53e7-436f-96f5-aa7c57d03b06",
   "metadata": {},
   "outputs": [],
   "source": [
    "Code = namedtuple(\"Code\", \"pairs remainder count\")"
   ]
  },
  {
   "cell_type": "code",
   "execution_count": 8,
   "id": "633ff42d-2fc2-444a-a4e1-356f069b615f",
   "metadata": {},
   "outputs": [],
   "source": [
    "def build_code(code_str) -> Code:\n",
    "    d = defaultdict(int)\n",
    "    for i in range(len(code_str) - 1):\n",
    "        bi = code_str[i : i + 2]\n",
    "        d[bi] += 1\n",
    "    r = code_str[-1] if len(code_str) % 2 == 1 else \"\"\n",
    "    c = dict(Counter(code_str).most_common())\n",
    "    return Code(d, r, c)"
   ]
  },
  {
   "cell_type": "code",
   "execution_count": null,
   "id": "33c43565-65ea-4e32-96cc-58a4d83cea80",
   "metadata": {},
   "outputs": [],
   "source": [
    "def step(code: Code, rules: dict) -> Code:\n",
    "    new_pairs = defaultdict(int)\n",
    "    for k, v in code.pairs.items():\n",
    "        c = rules[k]\n",
    "        code.count[c] += v\n",
    "        "
   ]
  },
  {
   "cell_type": "code",
   "execution_count": 85,
   "id": "ae8ff746-4c0f-4727-be9b-15b354b970fd",
   "metadata": {},
   "outputs": [],
   "source": [
    "cd = build_code(code)"
   ]
  },
  {
   "cell_type": "code",
   "execution_count": 86,
   "id": "3d0d02bf-f9f1-4800-9af3-fb34be67021c",
   "metadata": {},
   "outputs": [
    {
     "data": {
      "text/plain": [
       "Code(pairs=defaultdict(<class 'int'>, {'KH': 1, 'HS': 1, 'SS': 1, 'SC': 1, 'CS': 1, 'SK': 1, 'KK': 1, 'KC': 1, 'CP': 1, 'PF': 1, 'FK': 1, 'KP': 1, 'PP': 1, 'PB': 1, 'BB': 1, 'BO': 1, 'OK': 1, 'KV': 1, 'VF': 1}), remainder='', count={'K': 5, 'S': 3, 'P': 3, 'C': 2, 'F': 2, 'B': 2, 'H': 1, 'O': 1, 'V': 1})"
      ]
     },
     "execution_count": 86,
     "metadata": {},
     "output_type": "execute_result"
    }
   ],
   "source": [
    "cd"
   ]
  },
  {
   "cell_type": "code",
   "execution_count": 83,
   "id": "722047ee-fe9e-4371-937b-2fc5c1369942",
   "metadata": {},
   "outputs": [
    {
     "data": {
      "text/plain": [
       "defaultdict(int,\n",
       "            {'KH': 1,\n",
       "             'HS': 1,\n",
       "             'SS': 1,\n",
       "             'SC': 1,\n",
       "             'CS': 1,\n",
       "             'SK': 1,\n",
       "             'KK': 1,\n",
       "             'KC': 1,\n",
       "             'CP': 1,\n",
       "             'PF': 1,\n",
       "             'FK': 1,\n",
       "             'KP': 1,\n",
       "             'PP': 1,\n",
       "             'PB': 1,\n",
       "             'BB': 1,\n",
       "             'BO': 1,\n",
       "             'OK': 1,\n",
       "             'KV': 1,\n",
       "             'VF': 1})"
      ]
     },
     "execution_count": 83,
     "metadata": {},
     "output_type": "execute_result"
    }
   ],
   "source": [
    "cd.pairs"
   ]
  },
  {
   "cell_type": "code",
   "execution_count": null,
   "id": "1ec32a80-cd47-4764-b239-2f91c1c4c057",
   "metadata": {},
   "outputs": [],
   "source": [
    "def polymerize_optimal(code, gens, n_steps):\n",
    "    "
   ]
  },
  {
   "cell_type": "code",
   "execution_count": null,
   "id": "101f4a47-7ee4-4da2-9d33-2083d0e47143",
   "metadata": {},
   "outputs": [],
   "source": []
  }
 ],
 "metadata": {
  "kernelspec": {
   "display_name": "platy-segmentation",
   "language": "python",
   "name": "platy-segmentation"
  },
  "language_info": {
   "codemirror_mode": {
    "name": "ipython",
    "version": 3
   },
   "file_extension": ".py",
   "mimetype": "text/x-python",
   "name": "python",
   "nbconvert_exporter": "python",
   "pygments_lexer": "ipython3",
   "version": "3.9.6"
  }
 },
 "nbformat": 4,
 "nbformat_minor": 5
}
