{
 "cells": [
  {
   "cell_type": "code",
   "execution_count": 173,
   "id": "1a4fe69c-38e7-46ea-8425-a89d77d491a1",
   "metadata": {},
   "outputs": [],
   "source": [
    "%load_ext lab_black"
   ]
  },
  {
   "cell_type": "code",
   "execution_count": 174,
   "id": "f3bdd933-257e-411d-9f75-c095507a4da0",
   "metadata": {},
   "outputs": [],
   "source": [
    "class DiracDice:\n",
    "    state = 0\n",
    "    n_times_rolled = 0\n",
    "    n_sides = 100\n",
    "\n",
    "    def roll(self):\n",
    "        self.n_times_rolled += 1\n",
    "        self.state += 1\n",
    "        if self.state > self.n_sides:\n",
    "            self.state = 1\n",
    "        return self.state"
   ]
  },
  {
   "cell_type": "code",
   "execution_count": 175,
   "id": "c0b19de0-95ed-44bf-afcd-cbc7a23a192e",
   "metadata": {},
   "outputs": [],
   "source": [
    "class DiracPlayer:\n",
    "    def __init__(self, start_position, n_total=10):\n",
    "        self.position = start_position - 1\n",
    "        self.n_total = n_total\n",
    "        self.score = 0\n",
    "\n",
    "    def move_and_score(self, roll):\n",
    "        self.position += roll\n",
    "        if self.position > self.n_total:\n",
    "            self.position = self.position % self.n_total\n",
    "        self.score += self.position + 1"
   ]
  },
  {
   "cell_type": "code",
   "execution_count": 176,
   "id": "f541e445-71f7-41f2-86b1-1caa2cf88d7c",
   "metadata": {},
   "outputs": [
    {
     "name": "stdout",
     "output_type": "stream",
     "text": [
      "930 930 864900\n"
     ]
    }
   ],
   "source": [
    "score_threshold = 1000\n",
    "\n",
    "die = DiracDice()\n",
    "\n",
    "player_a = DiracPlayer(4)\n",
    "player_b = DiracPlayer(5)\n",
    "\n",
    "turn = 1\n",
    "\n",
    "while True:\n",
    "\n",
    "    s = die.roll() + die.roll() + die.roll()\n",
    "\n",
    "    player = player_a if turn == 1 else player_b\n",
    "    turn = 1 - turn\n",
    "\n",
    "    player.move_and_score(s)\n",
    "\n",
    "    if player.score >= score_threshold:\n",
    "        player = player_a if turn == 1 else player_b\n",
    "        print(player.score, die.n_times_rolled, player.score * die.n_times_rolled)\n",
    "        break"
   ]
  },
  {
   "cell_type": "markdown",
   "id": "03f67177-f4a8-4196-a03d-30d5de73d9ac",
   "metadata": {},
   "source": [
    "---"
   ]
  },
  {
   "cell_type": "code",
   "execution_count": 177,
   "id": "0539b4c2-30e6-48a2-81ef-83ae4762a939",
   "metadata": {},
   "outputs": [],
   "source": [
    "from collections import namedtuple"
   ]
  },
  {
   "cell_type": "code",
   "execution_count": 245,
   "id": "a0be7b0a-736f-4bf2-b2b7-00fd7c98facc",
   "metadata": {},
   "outputs": [],
   "source": [
    "import numpy as np"
   ]
  },
  {
   "cell_type": "code",
   "execution_count": 297,
   "id": "2a67c079-6467-4fbc-a88f-3f48b3a6340e",
   "metadata": {},
   "outputs": [
    {
     "name": "stdout",
     "output_type": "stream",
     "text": [
      "(3, 4)\n",
      "(9, 4)\n",
      "(27, 4)\n",
      "(81, 4)\n",
      "(243, 4)\n",
      "(378, 4)\n",
      "(672, 4)\n",
      "(816, 4)\n",
      "(1173, 4)\n",
      "(207, 4)\n",
      "(45, 4)\n"
     ]
    }
   ],
   "source": [
    "state = np.array([[0, 4 - 1, 0, 5 - 1]])\n",
    "\n",
    "n_wins_a = 0\n",
    "n_wins_b = 0\n",
    "\n",
    "turn = 0\n",
    "\n",
    "# score, position, score b, position b\n",
    "\n",
    "roll_a = np.array([[0, 1, 0, 0], [0, 2, 0, 0], [0, 3, 0, 0],])\n",
    "roll_b = np.array([[0, 0, 0, 1], [0, 0, 0, 2], [0, 0, 0, 3],])\n",
    "\n",
    "while True:\n",
    "    turn = 1 - turn\n",
    "    roll = roll_a if turn == 1 else roll_b\n",
    "    shift = 0 if turn == 1 else 2\n",
    "\n",
    "    data = []\n",
    "    was_processing = False\n",
    "\n",
    "    for row in state:\n",
    "        if row[0] >= 21:\n",
    "            n_wins_a += 1\n",
    "            continue\n",
    "\n",
    "        if row[2] >= 21:\n",
    "            n_wins_b += 1\n",
    "            continue\n",
    "\n",
    "        was_processing = True\n",
    "\n",
    "        a = row.reshape(1, -1) + roll\n",
    "        a[:, shift + 1] = a[:, shift + 1] % 10\n",
    "        a[:, shift] += a[:, shift + 1] + 1\n",
    "        data.append(a)\n",
    "\n",
    "    if not was_processing:\n",
    "        break\n",
    "\n",
    "    if len(data) > 0:\n",
    "        data = np.concatenate(data)\n",
    "        del state\n",
    "        state = data\n",
    "        print(state.shape)"
   ]
  },
  {
   "cell_type": "code",
   "execution_count": 300,
   "id": "65287497-227a-404f-bc48-e85fdc6b038e",
   "metadata": {},
   "outputs": [
    {
     "data": {
      "text/plain": [
       "1666"
      ]
     },
     "execution_count": 300,
     "metadata": {},
     "output_type": "execute_result"
    }
   ],
   "source": [
    "max(n_wins_a, n_wins_b)"
   ]
  }
 ],
 "metadata": {
  "kernelspec": {
   "display_name": "platy-segmentation",
   "language": "python",
   "name": "platy-segmentation"
  },
  "language_info": {
   "codemirror_mode": {
    "name": "ipython",
    "version": 3
   },
   "file_extension": ".py",
   "mimetype": "text/x-python",
   "name": "python",
   "nbconvert_exporter": "python",
   "pygments_lexer": "ipython3",
   "version": "3.9.6"
  }
 },
 "nbformat": 4,
 "nbformat_minor": 5
}
