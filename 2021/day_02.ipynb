{
 "cells": [
  {
   "cell_type": "code",
   "execution_count": 1,
   "id": "3c155728-6a29-4505-834b-910a2312387e",
   "metadata": {},
   "outputs": [],
   "source": [
    "%load_ext lab_black\n",
    "\n",
    "from puzzles import load_puzzle\n",
    "\n",
    "s = load_puzzle(2)"
   ]
  },
  {
   "cell_type": "code",
   "execution_count": 2,
   "id": "621810a1-cee4-478f-9bbd-72b52684e0b6",
   "metadata": {},
   "outputs": [],
   "source": [
    "with open(\"data/02.txt\", \"w\") as f:\n",
    "    f.write(s)"
   ]
  },
  {
   "cell_type": "markdown",
   "id": "30f17053-535e-498b-b5a1-5948dd8b403c",
   "metadata": {},
   "source": [
    "---"
   ]
  },
  {
   "cell_type": "markdown",
   "id": "7f80b687-e1b5-479c-ab18-e444a4e7dbf0",
   "metadata": {},
   "source": [
    "# First Part"
   ]
  },
  {
   "cell_type": "code",
   "execution_count": 31,
   "id": "c3309018-402f-4c9f-bd02-a34d193bb2b4",
   "metadata": {},
   "outputs": [],
   "source": [
    "x = 0\n",
    "depth = 0\n",
    "\n",
    "for line in s.strip().split(\"\\n\"):\n",
    "    command, value = line.split()\n",
    "    value = int(value)\n",
    "    if command == \"forward\":\n",
    "        x += value\n",
    "    elif command == \"up\":\n",
    "        depth -= value\n",
    "    elif command == \"down\":\n",
    "        depth += value"
   ]
  },
  {
   "cell_type": "code",
   "execution_count": 34,
   "id": "6667f52b-93ef-4faa-84d5-cf25687f551a",
   "metadata": {},
   "outputs": [
    {
     "data": {
      "text/plain": [
       "(1850, 927, 1714950)"
      ]
     },
     "execution_count": 34,
     "metadata": {},
     "output_type": "execute_result"
    }
   ],
   "source": [
    "x, depth, x * depth"
   ]
  },
  {
   "cell_type": "markdown",
   "id": "5a4b2f38-4f04-4437-a59a-02898ec730ca",
   "metadata": {},
   "source": [
    "---"
   ]
  },
  {
   "cell_type": "code",
   "execution_count": 18,
   "id": "74233b4d-b347-4c10-84ca-b9938c064090",
   "metadata": {},
   "outputs": [],
   "source": [
    "import pandas as pd"
   ]
  },
  {
   "cell_type": "code",
   "execution_count": 15,
   "id": "6a0db915-9219-466b-a4f0-cb3f9403766f",
   "metadata": {},
   "outputs": [],
   "source": [
    "commands, values = zip(*[l.split() for l in s.strip().split(\"\\n\")])\n",
    "\n",
    "df = pd.DataFrame(data={\"command\": commands, \"value\": values})\n",
    "\n",
    "df[\"value\"] = df[\"value\"].astype(int)"
   ]
  },
  {
   "cell_type": "code",
   "execution_count": 36,
   "id": "2f554754-3319-4740-8595-51c68014220e",
   "metadata": {},
   "outputs": [
    {
     "data": {
      "text/plain": [
       "1850"
      ]
     },
     "execution_count": 36,
     "metadata": {},
     "output_type": "execute_result"
    }
   ],
   "source": [
    "df.loc[df[\"command\"] == \"forward\", \"value\"].sum()"
   ]
  },
  {
   "cell_type": "code",
   "execution_count": 37,
   "id": "9584ae06-1cbf-4cb3-b978-c68a11b86300",
   "metadata": {},
   "outputs": [
    {
     "data": {
      "text/plain": [
       "927"
      ]
     },
     "execution_count": 37,
     "metadata": {},
     "output_type": "execute_result"
    }
   ],
   "source": [
    "mask_upwards = df[\"command\"] == \"up\"\n",
    "mask_downwards = df[\"command\"] == \"down\"\n",
    "\n",
    "df.loc[mask_downwards, \"value\"].sum() - df.loc[mask_upwards, \"value\"].sum()"
   ]
  },
  {
   "cell_type": "code",
   "execution_count": 38,
   "id": "34174e45-80e5-45ab-8ecb-e59246cb4acf",
   "metadata": {},
   "outputs": [
    {
     "data": {
      "text/plain": [
       "1714950"
      ]
     },
     "execution_count": 38,
     "metadata": {},
     "output_type": "execute_result"
    }
   ],
   "source": [
    "1850 * 927"
   ]
  },
  {
   "cell_type": "markdown",
   "id": "12d72527-aa08-4585-b5fb-73f380d92e3c",
   "metadata": {},
   "source": [
    "---"
   ]
  },
  {
   "cell_type": "markdown",
   "id": "b2cb71b5-cc76-4845-8abd-8a5edc49ddfc",
   "metadata": {},
   "source": [
    "# Second Part"
   ]
  },
  {
   "cell_type": "code",
   "execution_count": 39,
   "id": "9da00480-6559-4b83-b3d2-25845967c0af",
   "metadata": {},
   "outputs": [
    {
     "data": {
      "text/plain": [
       "(1850, 692961, 1281977850)"
      ]
     },
     "execution_count": 39,
     "metadata": {},
     "output_type": "execute_result"
    }
   ],
   "source": [
    "x = 0\n",
    "depth = 0\n",
    "aim = 0\n",
    "\n",
    "for line in s.strip().split(\"\\n\"):\n",
    "    command, value = line.split()\n",
    "    value = int(value)\n",
    "    if command == \"forward\":\n",
    "        x += value\n",
    "        depth += value * aim\n",
    "    elif command == \"up\":\n",
    "        aim -= value\n",
    "    elif command == \"down\":\n",
    "        aim += value\n",
    "\n",
    "x, depth, x * depth"
   ]
  },
  {
   "cell_type": "markdown",
   "id": "3b1bfead-243b-4b2a-b192-4f8f7fbe068b",
   "metadata": {},
   "source": [
    "---"
   ]
  },
  {
   "cell_type": "code",
   "execution_count": 40,
   "id": "92b72bd6-a632-433e-81e0-f48f17835b36",
   "metadata": {},
   "outputs": [
    {
     "data": {
      "text/html": [
       "<div>\n",
       "<style scoped>\n",
       "    .dataframe tbody tr th:only-of-type {\n",
       "        vertical-align: middle;\n",
       "    }\n",
       "\n",
       "    .dataframe tbody tr th {\n",
       "        vertical-align: top;\n",
       "    }\n",
       "\n",
       "    .dataframe thead th {\n",
       "        text-align: right;\n",
       "    }\n",
       "</style>\n",
       "<table border=\"1\" class=\"dataframe\">\n",
       "  <thead>\n",
       "    <tr style=\"text-align: right;\">\n",
       "      <th></th>\n",
       "      <th>command</th>\n",
       "      <th>value</th>\n",
       "    </tr>\n",
       "  </thead>\n",
       "  <tbody>\n",
       "    <tr>\n",
       "      <th>0</th>\n",
       "      <td>forward</td>\n",
       "      <td>1</td>\n",
       "    </tr>\n",
       "    <tr>\n",
       "      <th>1</th>\n",
       "      <td>down</td>\n",
       "      <td>6</td>\n",
       "    </tr>\n",
       "    <tr>\n",
       "      <th>2</th>\n",
       "      <td>forward</td>\n",
       "      <td>8</td>\n",
       "    </tr>\n",
       "    <tr>\n",
       "      <th>3</th>\n",
       "      <td>up</td>\n",
       "      <td>3</td>\n",
       "    </tr>\n",
       "    <tr>\n",
       "      <th>4</th>\n",
       "      <td>down</td>\n",
       "      <td>1</td>\n",
       "    </tr>\n",
       "    <tr>\n",
       "      <th>...</th>\n",
       "      <td>...</td>\n",
       "      <td>...</td>\n",
       "    </tr>\n",
       "    <tr>\n",
       "      <th>995</th>\n",
       "      <td>down</td>\n",
       "      <td>2</td>\n",
       "    </tr>\n",
       "    <tr>\n",
       "      <th>996</th>\n",
       "      <td>forward</td>\n",
       "      <td>7</td>\n",
       "    </tr>\n",
       "    <tr>\n",
       "      <th>997</th>\n",
       "      <td>down</td>\n",
       "      <td>2</td>\n",
       "    </tr>\n",
       "    <tr>\n",
       "      <th>998</th>\n",
       "      <td>forward</td>\n",
       "      <td>8</td>\n",
       "    </tr>\n",
       "    <tr>\n",
       "      <th>999</th>\n",
       "      <td>forward</td>\n",
       "      <td>3</td>\n",
       "    </tr>\n",
       "  </tbody>\n",
       "</table>\n",
       "<p>1000 rows × 2 columns</p>\n",
       "</div>"
      ],
      "text/plain": [
       "     command  value\n",
       "0    forward      1\n",
       "1       down      6\n",
       "2    forward      8\n",
       "3         up      3\n",
       "4       down      1\n",
       "..       ...    ...\n",
       "995     down      2\n",
       "996  forward      7\n",
       "997     down      2\n",
       "998  forward      8\n",
       "999  forward      3\n",
       "\n",
       "[1000 rows x 2 columns]"
      ]
     },
     "execution_count": 40,
     "metadata": {},
     "output_type": "execute_result"
    }
   ],
   "source": [
    "df"
   ]
  },
  {
   "cell_type": "code",
   "execution_count": null,
   "id": "58e2cba3-e4fb-4224-975f-513050941403",
   "metadata": {},
   "outputs": [],
   "source": []
  }
 ],
 "metadata": {
  "kernelspec": {
   "display_name": "platy-segmentation",
   "language": "python",
   "name": "platy-segmentation"
  },
  "language_info": {
   "codemirror_mode": {
    "name": "ipython",
    "version": 3
   },
   "file_extension": ".py",
   "mimetype": "text/x-python",
   "name": "python",
   "nbconvert_exporter": "python",
   "pygments_lexer": "ipython3",
   "version": "3.9.6"
  }
 },
 "nbformat": 4,
 "nbformat_minor": 5
}
