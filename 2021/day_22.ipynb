{
 "cells": [
  {
   "cell_type": "code",
   "execution_count": 1,
   "id": "69ebce17-f0d5-4e64-b522-391eae3cbee0",
   "metadata": {},
   "outputs": [],
   "source": [
    "%load_ext lab_black"
   ]
  },
  {
   "cell_type": "code",
   "execution_count": 2,
   "id": "79721c8f-a1c9-4ea7-8040-aeaf34a43c36",
   "metadata": {},
   "outputs": [],
   "source": [
    "from puzzles import load_puzzle_local"
   ]
  },
  {
   "cell_type": "code",
   "execution_count": 3,
   "id": "5b7e7d2d-f399-402f-b1ad-312969ddd22e",
   "metadata": {},
   "outputs": [],
   "source": [
    "import numpy as np"
   ]
  },
  {
   "cell_type": "markdown",
   "id": "9ad02503-960c-4e4b-8926-9ff7945d8b86",
   "metadata": {},
   "source": [
    "# 1"
   ]
  },
  {
   "cell_type": "code",
   "execution_count": 55,
   "id": "fa5c0601-d772-45f9-b74d-49105160b6ea",
   "metadata": {},
   "outputs": [],
   "source": [
    "s = \"\"\"on x=-20..26,y=-36..17,z=-47..7\n",
    "on x=-20..33,y=-21..23,z=-26..28\n",
    "on x=-22..28,y=-29..23,z=-38..16\n",
    "on x=-46..7,y=-6..46,z=-50..-1\n",
    "on x=-49..1,y=-3..46,z=-24..28\n",
    "on x=2..47,y=-22..22,z=-23..27\n",
    "on x=-27..23,y=-28..26,z=-21..29\n",
    "on x=-39..5,y=-6..47,z=-3..44\n",
    "on x=-30..21,y=-8..43,z=-13..34\n",
    "on x=-22..26,y=-27..20,z=-29..19\n",
    "off x=-48..-32,y=26..41,z=-47..-37\n",
    "on x=-12..35,y=6..50,z=-50..-2\n",
    "off x=-48..-32,y=-32..-16,z=-15..-5\n",
    "on x=-18..26,y=-33..15,z=-7..46\n",
    "off x=-40..-22,y=-38..-28,z=23..41\n",
    "on x=-16..35,y=-41..10,z=-47..6\n",
    "off x=-32..-23,y=11..30,z=-14..3\n",
    "on x=-49..-5,y=-3..45,z=-29..18\n",
    "off x=18..30,y=-20..-8,z=-3..13\n",
    "on x=-41..9,y=-7..43,z=-33..15\n",
    "on x=-54112..-39298,y=-85059..-49293,z=-27449..7877\n",
    "on x=967..23432,y=45373..81175,z=27513..53682\"\"\""
   ]
  },
  {
   "cell_type": "code",
   "execution_count": 58,
   "id": "443a5c9d-a815-4236-806b-621c7b240bdc",
   "metadata": {},
   "outputs": [],
   "source": [
    "s = load_puzzle_local(22)\n",
    "\n",
    "lines = s.strip().split(\"\\n\")\n",
    "\n",
    "data = []\n",
    "for line in lines:\n",
    "    command, coords = line.split()\n",
    "    coords = np.array(\n",
    "        [int(c) + 50 for x in coords.split(\",\") for c in x.split(\"=\")[1].split(\"..\")]\n",
    "    )\n",
    "    data.append([command, coords])"
   ]
  },
  {
   "cell_type": "code",
   "execution_count": 49,
   "id": "172e4396-0452-4aa8-a7ad-be5bdb7c7892",
   "metadata": {},
   "outputs": [],
   "source": [
    "A = np.zeros([101, 101, 101], dtype=int)"
   ]
  },
  {
   "cell_type": "code",
   "execution_count": 50,
   "id": "5e9992f6-16a0-4c4c-aa44-c4b43ba662dd",
   "metadata": {},
   "outputs": [],
   "source": [
    "for cmd, cds in data:\n",
    "    fill = int(cmd == \"on\")\n",
    "    if ((cds > 100) | (cds < 0)).any():\n",
    "        continue\n",
    "    A[cds[0] : cds[1] + 1, cds[2] : cds[3] + 1, cds[4] : cds[5] + 1] = fill"
   ]
  },
  {
   "cell_type": "code",
   "execution_count": 51,
   "id": "3c833ac6-b65f-487e-8a3b-32f38974ce47",
   "metadata": {},
   "outputs": [
    {
     "data": {
      "text/plain": [
       "644257"
      ]
     },
     "execution_count": 51,
     "metadata": {},
     "output_type": "execute_result"
    }
   ],
   "source": [
    "A.sum()"
   ]
  },
  {
   "cell_type": "markdown",
   "id": "7475faeb-89d1-4823-a6a4-37d42b50293b",
   "metadata": {},
   "source": [
    "\n",
    "---"
   ]
  },
  {
   "cell_type": "markdown",
   "id": "beb582f5-d671-41cd-bc93-2959033608dc",
   "metadata": {},
   "source": [
    "# 2"
   ]
  },
  {
   "cell_type": "code",
   "execution_count": 4,
   "id": "2c16d6f0-7a01-4918-867c-1a32791eda50",
   "metadata": {
    "tags": []
   },
   "outputs": [],
   "source": [
    "s = load_puzzle_local(22)\n",
    "\n",
    "lines = s.strip().split(\"\\n\")\n",
    "\n",
    "data = []\n",
    "for line in lines:\n",
    "    command, coords = line.split()\n",
    "    coords = np.array(\n",
    "        [int(c) for x in coords.split(\",\") for c in x.split(\"=\")[1].split(\"..\")]\n",
    "    )\n",
    "    data.append([command, coords])"
   ]
  },
  {
   "cell_type": "code",
   "execution_count": 5,
   "id": "bed57a06-08b2-43f3-b6c1-e0231bdd51dc",
   "metadata": {},
   "outputs": [
    {
     "data": {
      "text/plain": [
       "(-99062, 99811)"
      ]
     },
     "execution_count": 5,
     "metadata": {},
     "output_type": "execute_result"
    }
   ],
   "source": [
    "a = np.stack([x[1] for x in data])\n",
    "a.min(), a.max()"
   ]
  },
  {
   "cell_type": "markdown",
   "id": "301829dc-1d04-46ae-87ab-930e08731a86",
   "metadata": {},
   "source": [
    "todo:"
   ]
  },
  {
   "cell_type": "markdown",
   "id": "3071c802-b497-43e8-9c06-56e5c03486b5",
   "metadata": {},
   "source": [
    "Cubes cutting & representing in sparse, \"coords only\"-format"
   ]
  }
 ],
 "metadata": {
  "kernelspec": {
   "display_name": "platy-segmentation",
   "language": "python",
   "name": "platy-segmentation"
  },
  "language_info": {
   "codemirror_mode": {
    "name": "ipython",
    "version": 3
   },
   "file_extension": ".py",
   "mimetype": "text/x-python",
   "name": "python",
   "nbconvert_exporter": "python",
   "pygments_lexer": "ipython3",
   "version": "3.9.6"
  }
 },
 "nbformat": 4,
 "nbformat_minor": 5
}
