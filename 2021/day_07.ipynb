{
 "cells": [
  {
   "cell_type": "code",
   "execution_count": 1,
   "id": "117f1fb5-c911-4770-b14b-9cdff94feb0a",
   "metadata": {},
   "outputs": [],
   "source": [
    "%load_ext lab_black\n",
    "\n",
    "from puzzles import load_puzzle\n",
    "\n",
    "s = load_puzzle(7)"
   ]
  },
  {
   "cell_type": "markdown",
   "id": "c0576865-4e74-4a42-9cd2-e790a8217a43",
   "metadata": {},
   "source": [
    "# First part"
   ]
  },
  {
   "cell_type": "raw",
   "id": "6fd3f38d-2912-44ab-8696-695f525d528f",
   "metadata": {},
   "source": [
    "coords = [16, 1, 2, 0, 4, 2, 7, 1, 2, 14]"
   ]
  },
  {
   "cell_type": "code",
   "execution_count": 2,
   "id": "c44b3ae4-34be-4733-aa10-23869b70fa79",
   "metadata": {},
   "outputs": [
    {
     "data": {
      "text/plain": [
       "1000"
      ]
     },
     "execution_count": 2,
     "metadata": {},
     "output_type": "execute_result"
    }
   ],
   "source": [
    "coords = [int(x) for x in s.strip().split(\",\")]\n",
    "\n",
    "len(coords)"
   ]
  },
  {
   "cell_type": "code",
   "execution_count": 3,
   "id": "d20e561f-58e0-42db-99e0-1769b6faccb4",
   "metadata": {},
   "outputs": [],
   "source": [
    "min_fuel = 1e10\n",
    "best_coord = -1\n",
    "\n",
    "for c in range(min(coords), max(coords) + 1):\n",
    "    fuel = 0\n",
    "    for x in coords:\n",
    "        fuel += abs(c - x)\n",
    "    if fuel < min_fuel:\n",
    "        min_fuel = fuel\n",
    "        best_coord = c"
   ]
  },
  {
   "cell_type": "code",
   "execution_count": 4,
   "id": "a8974710-27a0-4161-9610-e990291bf4b2",
   "metadata": {},
   "outputs": [
    {
     "data": {
      "text/plain": [
       "336040"
      ]
     },
     "execution_count": 4,
     "metadata": {},
     "output_type": "execute_result"
    }
   ],
   "source": [
    "min_fuel"
   ]
  },
  {
   "cell_type": "markdown",
   "id": "a23ad85b-b45a-4717-8257-784adcca40b6",
   "metadata": {},
   "source": [
    "# Second part"
   ]
  },
  {
   "cell_type": "code",
   "execution_count": 5,
   "id": "f4e58920-a8ea-47ec-a4ee-31360f2224ce",
   "metadata": {},
   "outputs": [],
   "source": [
    "import numpy as np"
   ]
  },
  {
   "cell_type": "code",
   "execution_count": 6,
   "id": "7795796a-ac57-40ed-ab99-67cf86c37b42",
   "metadata": {},
   "outputs": [
    {
     "data": {
      "text/plain": [
       "1000"
      ]
     },
     "execution_count": 6,
     "metadata": {},
     "output_type": "execute_result"
    }
   ],
   "source": [
    "coords = [int(x) for x in s.strip().split(\",\")]\n",
    "\n",
    "len(coords)"
   ]
  },
  {
   "cell_type": "code",
   "execution_count": 7,
   "id": "da4c28d4-2fe6-435b-be98-1b0fd6cf74ee",
   "metadata": {},
   "outputs": [],
   "source": [
    "min_fuel = 1e10\n",
    "best_coord = -1\n",
    "\n",
    "dists = {}\n",
    "\n",
    "for c in range(min(coords), max(coords) + 1):\n",
    "    fuel = 0\n",
    "    for x in coords:\n",
    "        dx = abs(c - x)\n",
    "        fuel_spent = dists.get(dx, None)\n",
    "        if fuel_spent is None:\n",
    "            fuel_spent = np.ones(dx, dtype=int).cumsum().sum()\n",
    "            dists[dx] = fuel_spent\n",
    "\n",
    "        fuel += fuel_spent\n",
    "\n",
    "    if fuel < min_fuel:\n",
    "        min_fuel = fuel\n",
    "        best_coord = c"
   ]
  },
  {
   "cell_type": "code",
   "execution_count": 29,
   "id": "0699ce5d-0994-4384-a182-981fc2d1565b",
   "metadata": {},
   "outputs": [
    {
     "data": {
      "text/plain": [
       "94813675"
      ]
     },
     "execution_count": 29,
     "metadata": {},
     "output_type": "execute_result"
    }
   ],
   "source": [
    "min_fuel"
   ]
  }
 ],
 "metadata": {
  "kernelspec": {
   "display_name": "platy-segmentation",
   "language": "python",
   "name": "platy-segmentation"
  },
  "language_info": {
   "codemirror_mode": {
    "name": "ipython",
    "version": 3
   },
   "file_extension": ".py",
   "mimetype": "text/x-python",
   "name": "python",
   "nbconvert_exporter": "python",
   "pygments_lexer": "ipython3",
   "version": "3.9.6"
  }
 },
 "nbformat": 4,
 "nbformat_minor": 5
}
