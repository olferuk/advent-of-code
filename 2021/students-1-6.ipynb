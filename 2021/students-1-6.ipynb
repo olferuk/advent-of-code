{
 "cells": [
  {
   "cell_type": "code",
   "execution_count": 1,
   "id": "4111725b-2f7c-449c-b045-f97719451845",
   "metadata": {},
   "outputs": [],
   "source": [
    "%load_ext lab_black\n",
    "\n",
    "from puzzles import load_puzzle_local\n",
    "\n",
    "import numpy as np\n",
    "import pandas as pd"
   ]
  },
  {
   "cell_type": "markdown",
   "id": "22258ac4-81ec-4d1a-9108-f98790743a2d",
   "metadata": {},
   "source": [
    "---"
   ]
  },
  {
   "cell_type": "markdown",
   "id": "734f2975-0e08-49d3-aea8-ca97c90f8fe3",
   "metadata": {},
   "source": [
    "# 1"
   ]
  },
  {
   "cell_type": "code",
   "execution_count": 13,
   "id": "580c3bae-f148-40c0-acbf-3fa8f426702f",
   "metadata": {},
   "outputs": [],
   "source": [
    "s = load_puzzle_local(1)"
   ]
  },
  {
   "cell_type": "code",
   "execution_count": 3,
   "id": "fb16ab76-6f53-4e2c-88f1-d2c4d190ddaa",
   "metadata": {},
   "outputs": [],
   "source": [
    "a = [int(x) for x in s.strip().split(\"\\n\")]"
   ]
  },
  {
   "cell_type": "code",
   "execution_count": 4,
   "id": "b1d6252b-00b9-4146-bfd0-d3afe8435ee1",
   "metadata": {},
   "outputs": [
    {
     "data": {
      "text/plain": [
       "2000"
      ]
     },
     "execution_count": 4,
     "metadata": {},
     "output_type": "execute_result"
    }
   ],
   "source": [
    "len(a)"
   ]
  },
  {
   "cell_type": "code",
   "execution_count": 5,
   "id": "4d614d32-1054-4959-85ef-adc8b5f0e223",
   "metadata": {},
   "outputs": [
    {
     "data": {
      "text/plain": [
       "1713"
      ]
     },
     "execution_count": 5,
     "metadata": {},
     "output_type": "execute_result"
    }
   ],
   "source": [
    "s = 0\n",
    "for i in range(1, len(a)):\n",
    "    s += int(a[i] - a[i - 1] > 0)\n",
    "s"
   ]
  },
  {
   "cell_type": "code",
   "execution_count": 6,
   "id": "afe0975f-bc70-4fa6-a1b3-452d55518c77",
   "metadata": {},
   "outputs": [
    {
     "data": {
      "text/plain": [
       "1713"
      ]
     },
     "execution_count": 6,
     "metadata": {},
     "output_type": "execute_result"
    }
   ],
   "source": [
    "s = 0\n",
    "for x, y in zip(a, a[1:]):\n",
    "    s += int(y - x > 0)\n",
    "s"
   ]
  },
  {
   "cell_type": "code",
   "execution_count": 7,
   "id": "edd1ef4a-dbff-4477-b324-318ee0f11cd3",
   "metadata": {},
   "outputs": [
    {
     "data": {
      "text/plain": [
       "1713"
      ]
     },
     "execution_count": 7,
     "metadata": {},
     "output_type": "execute_result"
    }
   ],
   "source": [
    "s = pd.Series(a)\n",
    "\n",
    "(s.diff(1).fillna(-1) > 0).sum()"
   ]
  },
  {
   "cell_type": "markdown",
   "id": "ad9aff35-b9b7-4f30-98b8-52925bd63b13",
   "metadata": {},
   "source": [
    "---"
   ]
  },
  {
   "cell_type": "code",
   "execution_count": 8,
   "id": "01c1d598-eb60-4785-ac20-27950a214d02",
   "metadata": {},
   "outputs": [
    {
     "data": {
      "text/plain": [
       "1734"
      ]
     },
     "execution_count": 8,
     "metadata": {},
     "output_type": "execute_result"
    }
   ],
   "source": [
    "(s.rolling(window=3).sum().dropna().diff(1).fillna(-1) > 0).sum()"
   ]
  },
  {
   "cell_type": "code",
   "execution_count": 12,
   "id": "deddff15-5468-48ca-9010-75378f40fd08",
   "metadata": {},
   "outputs": [
    {
     "data": {
      "text/plain": [
       "1734"
      ]
     },
     "execution_count": 12,
     "metadata": {},
     "output_type": "execute_result"
    }
   ],
   "source": [
    "na = [a[i] + a[i - 1] + a[i - 2] for i in range(2, len(a))]\n",
    "\n",
    "s = 0\n",
    "for i in range(1, len(na)):\n",
    "    s += int(na[i] - na[i - 1] > 0)\n",
    "s"
   ]
  },
  {
   "cell_type": "markdown",
   "id": "ec820f92-37d4-4b62-9ee3-925d395ed240",
   "metadata": {},
   "source": [
    "---"
   ]
  },
  {
   "cell_type": "markdown",
   "id": "6c2e20c5-d281-47e3-b82c-f10ac1a755e5",
   "metadata": {},
   "source": [
    "# 2"
   ]
  },
  {
   "cell_type": "code",
   "execution_count": 14,
   "id": "c850e22e-4280-4217-a0c9-2e56b14fe89b",
   "metadata": {},
   "outputs": [],
   "source": [
    "s = load_puzzle_local(2)"
   ]
  },
  {
   "cell_type": "code",
   "execution_count": 15,
   "id": "952e2daa-4f32-4939-86f6-1b12a5ed0d6e",
   "metadata": {},
   "outputs": [],
   "source": [
    "commands = s.strip().split(\"\\n\")"
   ]
  },
  {
   "cell_type": "code",
   "execution_count": 16,
   "id": "3c9476f8-5bad-46bd-a92b-1ff34e952caf",
   "metadata": {},
   "outputs": [],
   "source": [
    "depth = 0\n",
    "position = 0\n",
    "\n",
    "for cmd in commands:\n",
    "    word, n = cmd.split()\n",
    "    n = int(n)\n",
    "\n",
    "    if word == \"down\":\n",
    "        depth += n\n",
    "    elif word == \"up\":\n",
    "        depth -= n\n",
    "    elif word == \"forward\":\n",
    "        position += n"
   ]
  },
  {
   "cell_type": "code",
   "execution_count": 17,
   "id": "25fc8279-8243-4dfa-9c67-dd32a1162997",
   "metadata": {},
   "outputs": [
    {
     "data": {
      "text/plain": [
       "(927, 1850, 1714950)"
      ]
     },
     "execution_count": 17,
     "metadata": {},
     "output_type": "execute_result"
    }
   ],
   "source": [
    "depth, position, depth * position"
   ]
  },
  {
   "cell_type": "markdown",
   "id": "53ac7d2b-79b6-4e16-8416-379ae370c14c",
   "metadata": {},
   "source": [
    "Вторая часть унылая, решили не решать."
   ]
  },
  {
   "cell_type": "markdown",
   "id": "48ae61c1-32a4-42ae-b005-04e2ac9f7446",
   "metadata": {},
   "source": [
    "# 3"
   ]
  },
  {
   "cell_type": "code",
   "execution_count": 19,
   "id": "bb9c345b-5c7b-4ab0-aef4-48220cd98951",
   "metadata": {},
   "outputs": [],
   "source": [
    "s = load_puzzle_local(3).strip().split(\"\\n\")"
   ]
  },
  {
   "cell_type": "code",
   "execution_count": 20,
   "id": "e942e065-a581-415a-a330-2e460587d5e0",
   "metadata": {},
   "outputs": [],
   "source": [
    "df = pd.DataFrame([list(x) for x in s]).astype(int)"
   ]
  },
  {
   "cell_type": "code",
   "execution_count": 21,
   "id": "48c6c237-d82e-4041-b137-39fce4e4f413",
   "metadata": {},
   "outputs": [
    {
     "data": {
      "text/html": [
       "<div>\n",
       "<style scoped>\n",
       "    .dataframe tbody tr th:only-of-type {\n",
       "        vertical-align: middle;\n",
       "    }\n",
       "\n",
       "    .dataframe tbody tr th {\n",
       "        vertical-align: top;\n",
       "    }\n",
       "\n",
       "    .dataframe thead th {\n",
       "        text-align: right;\n",
       "    }\n",
       "</style>\n",
       "<table border=\"1\" class=\"dataframe\">\n",
       "  <thead>\n",
       "    <tr style=\"text-align: right;\">\n",
       "      <th></th>\n",
       "      <th>0</th>\n",
       "      <th>1</th>\n",
       "      <th>2</th>\n",
       "      <th>3</th>\n",
       "      <th>4</th>\n",
       "      <th>5</th>\n",
       "      <th>6</th>\n",
       "      <th>7</th>\n",
       "      <th>8</th>\n",
       "      <th>9</th>\n",
       "      <th>10</th>\n",
       "      <th>11</th>\n",
       "    </tr>\n",
       "  </thead>\n",
       "  <tbody>\n",
       "    <tr>\n",
       "      <th>0</th>\n",
       "      <td>0</td>\n",
       "      <td>0</td>\n",
       "      <td>0</td>\n",
       "      <td>0</td>\n",
       "      <td>1</td>\n",
       "      <td>1</td>\n",
       "      <td>0</td>\n",
       "      <td>1</td>\n",
       "      <td>0</td>\n",
       "      <td>0</td>\n",
       "      <td>0</td>\n",
       "      <td>1</td>\n",
       "    </tr>\n",
       "    <tr>\n",
       "      <th>1</th>\n",
       "      <td>0</td>\n",
       "      <td>0</td>\n",
       "      <td>0</td>\n",
       "      <td>0</td>\n",
       "      <td>0</td>\n",
       "      <td>1</td>\n",
       "      <td>1</td>\n",
       "      <td>1</td>\n",
       "      <td>0</td>\n",
       "      <td>1</td>\n",
       "      <td>0</td>\n",
       "      <td>0</td>\n",
       "    </tr>\n",
       "    <tr>\n",
       "      <th>2</th>\n",
       "      <td>1</td>\n",
       "      <td>1</td>\n",
       "      <td>1</td>\n",
       "      <td>1</td>\n",
       "      <td>0</td>\n",
       "      <td>0</td>\n",
       "      <td>1</td>\n",
       "      <td>0</td>\n",
       "      <td>1</td>\n",
       "      <td>0</td>\n",
       "      <td>1</td>\n",
       "      <td>0</td>\n",
       "    </tr>\n",
       "    <tr>\n",
       "      <th>3</th>\n",
       "      <td>1</td>\n",
       "      <td>1</td>\n",
       "      <td>1</td>\n",
       "      <td>0</td>\n",
       "      <td>0</td>\n",
       "      <td>1</td>\n",
       "      <td>1</td>\n",
       "      <td>0</td>\n",
       "      <td>0</td>\n",
       "      <td>1</td>\n",
       "      <td>1</td>\n",
       "      <td>1</td>\n",
       "    </tr>\n",
       "    <tr>\n",
       "      <th>4</th>\n",
       "      <td>0</td>\n",
       "      <td>0</td>\n",
       "      <td>1</td>\n",
       "      <td>0</td>\n",
       "      <td>1</td>\n",
       "      <td>0</td>\n",
       "      <td>1</td>\n",
       "      <td>0</td>\n",
       "      <td>0</td>\n",
       "      <td>1</td>\n",
       "      <td>0</td>\n",
       "      <td>0</td>\n",
       "    </tr>\n",
       "    <tr>\n",
       "      <th>...</th>\n",
       "      <td>...</td>\n",
       "      <td>...</td>\n",
       "      <td>...</td>\n",
       "      <td>...</td>\n",
       "      <td>...</td>\n",
       "      <td>...</td>\n",
       "      <td>...</td>\n",
       "      <td>...</td>\n",
       "      <td>...</td>\n",
       "      <td>...</td>\n",
       "      <td>...</td>\n",
       "      <td>...</td>\n",
       "    </tr>\n",
       "    <tr>\n",
       "      <th>995</th>\n",
       "      <td>1</td>\n",
       "      <td>1</td>\n",
       "      <td>1</td>\n",
       "      <td>0</td>\n",
       "      <td>1</td>\n",
       "      <td>0</td>\n",
       "      <td>0</td>\n",
       "      <td>1</td>\n",
       "      <td>0</td>\n",
       "      <td>1</td>\n",
       "      <td>1</td>\n",
       "      <td>0</td>\n",
       "    </tr>\n",
       "    <tr>\n",
       "      <th>996</th>\n",
       "      <td>1</td>\n",
       "      <td>0</td>\n",
       "      <td>1</td>\n",
       "      <td>0</td>\n",
       "      <td>0</td>\n",
       "      <td>0</td>\n",
       "      <td>1</td>\n",
       "      <td>0</td>\n",
       "      <td>0</td>\n",
       "      <td>0</td>\n",
       "      <td>1</td>\n",
       "      <td>1</td>\n",
       "    </tr>\n",
       "    <tr>\n",
       "      <th>997</th>\n",
       "      <td>0</td>\n",
       "      <td>1</td>\n",
       "      <td>0</td>\n",
       "      <td>0</td>\n",
       "      <td>0</td>\n",
       "      <td>0</td>\n",
       "      <td>0</td>\n",
       "      <td>1</td>\n",
       "      <td>1</td>\n",
       "      <td>0</td>\n",
       "      <td>0</td>\n",
       "      <td>0</td>\n",
       "    </tr>\n",
       "    <tr>\n",
       "      <th>998</th>\n",
       "      <td>0</td>\n",
       "      <td>0</td>\n",
       "      <td>1</td>\n",
       "      <td>0</td>\n",
       "      <td>1</td>\n",
       "      <td>1</td>\n",
       "      <td>0</td>\n",
       "      <td>0</td>\n",
       "      <td>0</td>\n",
       "      <td>1</td>\n",
       "      <td>0</td>\n",
       "      <td>0</td>\n",
       "    </tr>\n",
       "    <tr>\n",
       "      <th>999</th>\n",
       "      <td>1</td>\n",
       "      <td>1</td>\n",
       "      <td>1</td>\n",
       "      <td>0</td>\n",
       "      <td>0</td>\n",
       "      <td>1</td>\n",
       "      <td>0</td>\n",
       "      <td>1</td>\n",
       "      <td>0</td>\n",
       "      <td>0</td>\n",
       "      <td>1</td>\n",
       "      <td>0</td>\n",
       "    </tr>\n",
       "  </tbody>\n",
       "</table>\n",
       "<p>1000 rows × 12 columns</p>\n",
       "</div>"
      ],
      "text/plain": [
       "     0   1   2   3   4   5   6   7   8   9   10  11\n",
       "0     0   0   0   0   1   1   0   1   0   0   0   1\n",
       "1     0   0   0   0   0   1   1   1   0   1   0   0\n",
       "2     1   1   1   1   0   0   1   0   1   0   1   0\n",
       "3     1   1   1   0   0   1   1   0   0   1   1   1\n",
       "4     0   0   1   0   1   0   1   0   0   1   0   0\n",
       "..   ..  ..  ..  ..  ..  ..  ..  ..  ..  ..  ..  ..\n",
       "995   1   1   1   0   1   0   0   1   0   1   1   0\n",
       "996   1   0   1   0   0   0   1   0   0   0   1   1\n",
       "997   0   1   0   0   0   0   0   1   1   0   0   0\n",
       "998   0   0   1   0   1   1   0   0   0   1   0   0\n",
       "999   1   1   1   0   0   1   0   1   0   0   1   0\n",
       "\n",
       "[1000 rows x 12 columns]"
      ]
     },
     "execution_count": 21,
     "metadata": {},
     "output_type": "execute_result"
    }
   ],
   "source": [
    "df"
   ]
  },
  {
   "cell_type": "code",
   "execution_count": 22,
   "id": "ccf0a0d2-5d83-4b22-a6a3-cd898b16b3eb",
   "metadata": {},
   "outputs": [
    {
     "data": {
      "text/plain": [
       "3797"
      ]
     },
     "execution_count": 22,
     "metadata": {},
     "output_type": "execute_result"
    }
   ],
   "source": [
    "gamma = int(\"\".join((df.mean(axis=0) >= 0.5).astype(int).astype(str).values), 2)\n",
    "gamma"
   ]
  },
  {
   "cell_type": "code",
   "execution_count": 23,
   "id": "06a605ff-856d-47d2-a026-79eb5ea3edf5",
   "metadata": {},
   "outputs": [
    {
     "data": {
      "text/plain": [
       "298"
      ]
     },
     "execution_count": 23,
     "metadata": {},
     "output_type": "execute_result"
    }
   ],
   "source": [
    "epsilon = int(\"\".join((df.mean(axis=0) < 0.5).astype(int).astype(str).values), 2)\n",
    "epsilon"
   ]
  },
  {
   "cell_type": "code",
   "execution_count": 24,
   "id": "b340c61c-b652-403d-a2c8-ad6514652dde",
   "metadata": {},
   "outputs": [
    {
     "data": {
      "text/plain": [
       "1131506"
      ]
     },
     "execution_count": 24,
     "metadata": {},
     "output_type": "execute_result"
    }
   ],
   "source": [
    "298 * 3797"
   ]
  },
  {
   "cell_type": "code",
   "execution_count": 25,
   "id": "d71213cb-3bf8-4b8e-a786-e57a2e0ca65f",
   "metadata": {},
   "outputs": [
    {
     "data": {
      "text/html": [
       "<div>\n",
       "<style scoped>\n",
       "    .dataframe tbody tr th:only-of-type {\n",
       "        vertical-align: middle;\n",
       "    }\n",
       "\n",
       "    .dataframe tbody tr th {\n",
       "        vertical-align: top;\n",
       "    }\n",
       "\n",
       "    .dataframe thead th {\n",
       "        text-align: right;\n",
       "    }\n",
       "</style>\n",
       "<table border=\"1\" class=\"dataframe\">\n",
       "  <thead>\n",
       "    <tr style=\"text-align: right;\">\n",
       "      <th></th>\n",
       "      <th>0</th>\n",
       "      <th>1</th>\n",
       "      <th>2</th>\n",
       "      <th>3</th>\n",
       "      <th>4</th>\n",
       "      <th>5</th>\n",
       "      <th>6</th>\n",
       "      <th>7</th>\n",
       "      <th>8</th>\n",
       "      <th>9</th>\n",
       "      <th>10</th>\n",
       "      <th>11</th>\n",
       "    </tr>\n",
       "  </thead>\n",
       "  <tbody>\n",
       "    <tr>\n",
       "      <th>0</th>\n",
       "      <td>0</td>\n",
       "      <td>0</td>\n",
       "      <td>0</td>\n",
       "      <td>0</td>\n",
       "      <td>1</td>\n",
       "      <td>1</td>\n",
       "      <td>0</td>\n",
       "      <td>1</td>\n",
       "      <td>0</td>\n",
       "      <td>0</td>\n",
       "      <td>0</td>\n",
       "      <td>1</td>\n",
       "    </tr>\n",
       "    <tr>\n",
       "      <th>1</th>\n",
       "      <td>0</td>\n",
       "      <td>0</td>\n",
       "      <td>0</td>\n",
       "      <td>0</td>\n",
       "      <td>0</td>\n",
       "      <td>1</td>\n",
       "      <td>1</td>\n",
       "      <td>1</td>\n",
       "      <td>0</td>\n",
       "      <td>1</td>\n",
       "      <td>0</td>\n",
       "      <td>0</td>\n",
       "    </tr>\n",
       "    <tr>\n",
       "      <th>2</th>\n",
       "      <td>1</td>\n",
       "      <td>1</td>\n",
       "      <td>1</td>\n",
       "      <td>1</td>\n",
       "      <td>0</td>\n",
       "      <td>0</td>\n",
       "      <td>1</td>\n",
       "      <td>0</td>\n",
       "      <td>1</td>\n",
       "      <td>0</td>\n",
       "      <td>1</td>\n",
       "      <td>0</td>\n",
       "    </tr>\n",
       "    <tr>\n",
       "      <th>3</th>\n",
       "      <td>1</td>\n",
       "      <td>1</td>\n",
       "      <td>1</td>\n",
       "      <td>0</td>\n",
       "      <td>0</td>\n",
       "      <td>1</td>\n",
       "      <td>1</td>\n",
       "      <td>0</td>\n",
       "      <td>0</td>\n",
       "      <td>1</td>\n",
       "      <td>1</td>\n",
       "      <td>1</td>\n",
       "    </tr>\n",
       "    <tr>\n",
       "      <th>4</th>\n",
       "      <td>0</td>\n",
       "      <td>0</td>\n",
       "      <td>1</td>\n",
       "      <td>0</td>\n",
       "      <td>1</td>\n",
       "      <td>0</td>\n",
       "      <td>1</td>\n",
       "      <td>0</td>\n",
       "      <td>0</td>\n",
       "      <td>1</td>\n",
       "      <td>0</td>\n",
       "      <td>0</td>\n",
       "    </tr>\n",
       "    <tr>\n",
       "      <th>...</th>\n",
       "      <td>...</td>\n",
       "      <td>...</td>\n",
       "      <td>...</td>\n",
       "      <td>...</td>\n",
       "      <td>...</td>\n",
       "      <td>...</td>\n",
       "      <td>...</td>\n",
       "      <td>...</td>\n",
       "      <td>...</td>\n",
       "      <td>...</td>\n",
       "      <td>...</td>\n",
       "      <td>...</td>\n",
       "    </tr>\n",
       "    <tr>\n",
       "      <th>995</th>\n",
       "      <td>1</td>\n",
       "      <td>1</td>\n",
       "      <td>1</td>\n",
       "      <td>0</td>\n",
       "      <td>1</td>\n",
       "      <td>0</td>\n",
       "      <td>0</td>\n",
       "      <td>1</td>\n",
       "      <td>0</td>\n",
       "      <td>1</td>\n",
       "      <td>1</td>\n",
       "      <td>0</td>\n",
       "    </tr>\n",
       "    <tr>\n",
       "      <th>996</th>\n",
       "      <td>1</td>\n",
       "      <td>0</td>\n",
       "      <td>1</td>\n",
       "      <td>0</td>\n",
       "      <td>0</td>\n",
       "      <td>0</td>\n",
       "      <td>1</td>\n",
       "      <td>0</td>\n",
       "      <td>0</td>\n",
       "      <td>0</td>\n",
       "      <td>1</td>\n",
       "      <td>1</td>\n",
       "    </tr>\n",
       "    <tr>\n",
       "      <th>997</th>\n",
       "      <td>0</td>\n",
       "      <td>1</td>\n",
       "      <td>0</td>\n",
       "      <td>0</td>\n",
       "      <td>0</td>\n",
       "      <td>0</td>\n",
       "      <td>0</td>\n",
       "      <td>1</td>\n",
       "      <td>1</td>\n",
       "      <td>0</td>\n",
       "      <td>0</td>\n",
       "      <td>0</td>\n",
       "    </tr>\n",
       "    <tr>\n",
       "      <th>998</th>\n",
       "      <td>0</td>\n",
       "      <td>0</td>\n",
       "      <td>1</td>\n",
       "      <td>0</td>\n",
       "      <td>1</td>\n",
       "      <td>1</td>\n",
       "      <td>0</td>\n",
       "      <td>0</td>\n",
       "      <td>0</td>\n",
       "      <td>1</td>\n",
       "      <td>0</td>\n",
       "      <td>0</td>\n",
       "    </tr>\n",
       "    <tr>\n",
       "      <th>999</th>\n",
       "      <td>1</td>\n",
       "      <td>1</td>\n",
       "      <td>1</td>\n",
       "      <td>0</td>\n",
       "      <td>0</td>\n",
       "      <td>1</td>\n",
       "      <td>0</td>\n",
       "      <td>1</td>\n",
       "      <td>0</td>\n",
       "      <td>0</td>\n",
       "      <td>1</td>\n",
       "      <td>0</td>\n",
       "    </tr>\n",
       "  </tbody>\n",
       "</table>\n",
       "<p>1000 rows × 12 columns</p>\n",
       "</div>"
      ],
      "text/plain": [
       "     0   1   2   3   4   5   6   7   8   9   10  11\n",
       "0     0   0   0   0   1   1   0   1   0   0   0   1\n",
       "1     0   0   0   0   0   1   1   1   0   1   0   0\n",
       "2     1   1   1   1   0   0   1   0   1   0   1   0\n",
       "3     1   1   1   0   0   1   1   0   0   1   1   1\n",
       "4     0   0   1   0   1   0   1   0   0   1   0   0\n",
       "..   ..  ..  ..  ..  ..  ..  ..  ..  ..  ..  ..  ..\n",
       "995   1   1   1   0   1   0   0   1   0   1   1   0\n",
       "996   1   0   1   0   0   0   1   0   0   0   1   1\n",
       "997   0   1   0   0   0   0   0   1   1   0   0   0\n",
       "998   0   0   1   0   1   1   0   0   0   1   0   0\n",
       "999   1   1   1   0   0   1   0   1   0   0   1   0\n",
       "\n",
       "[1000 rows x 12 columns]"
      ]
     },
     "execution_count": 25,
     "metadata": {},
     "output_type": "execute_result"
    }
   ],
   "source": [
    "df"
   ]
  },
  {
   "cell_type": "code",
   "execution_count": 26,
   "id": "626644fc-046b-4c5d-83aa-d2fe55bf1420",
   "metadata": {},
   "outputs": [
    {
     "name": "stdout",
     "output_type": "stream",
     "text": [
      "The most commit bit in the next position is 1 and there are 504 rows left\n",
      "The most commit bit in the next position is 1 and there are 255 rows left\n",
      "The most commit bit in the next position is 1 and there are 130 rows left\n",
      "The most commit bit in the next position is 1 and there are 67 rows left\n",
      "The most commit bit in the next position is 1 and there are 37 rows left\n",
      "The most commit bit in the next position is 1 and there are 19 rows left\n",
      "The most commit bit in the next position is 1 and there are 11 rows left\n",
      "The most commit bit in the next position is 1 and there are 8 rows left\n",
      "The most commit bit in the next position is 1 and there are 5 rows left\n",
      "The most commit bit in the next position is 0 and there are 3 rows left\n",
      "The most commit bit in the next position is 0 and there are 2 rows left\n",
      "The most commit bit in the next position is 1 and there are 1 rows left\n"
     ]
    }
   ],
   "source": [
    "df_part = df\n",
    "\n",
    "for c in df_part.columns:\n",
    "    the_bit = int(df_part[c].mean() >= 0.5)\n",
    "    df_part = df_part[df_part[c] == the_bit]\n",
    "    print(\n",
    "        f\"The most commit bit in the next position is {the_bit} and there are {df_part.shape[0]} rows left\"\n",
    "    )"
   ]
  },
  {
   "cell_type": "code",
   "execution_count": 27,
   "id": "5529eb1e-db23-414f-8ee5-67feba8b7adb",
   "metadata": {},
   "outputs": [
    {
     "data": {
      "text/plain": [
       "4089"
      ]
     },
     "execution_count": 27,
     "metadata": {},
     "output_type": "execute_result"
    }
   ],
   "source": [
    "int(\"\".join(df_part.iloc[0].astype(str).values), 2)"
   ]
  },
  {
   "cell_type": "code",
   "execution_count": 28,
   "id": "c91fd1e1-5a90-4fa2-a298-7ebae2ad88f4",
   "metadata": {},
   "outputs": [
    {
     "name": "stdout",
     "output_type": "stream",
     "text": [
      "The least commit bit in the next position is 0 and there are 496 rows left\n",
      "The least commit bit in the next position is 1 and there are 247 rows left\n",
      "The least commit bit in the next position is 1 and there are 123 rows left\n",
      "The least commit bit in the next position is 1 and there are 54 rows left\n",
      "The least commit bit in the next position is 1 and there are 25 rows left\n",
      "The least commit bit in the next position is 0 and there are 12 rows left\n",
      "The least commit bit in the next position is 0 and there are 6 rows left\n",
      "The least commit bit in the next position is 0 and there are 3 rows left\n",
      "The least commit bit in the next position is 0 and there are 1 rows left\n"
     ]
    }
   ],
   "source": [
    "df_part = df\n",
    "\n",
    "for c in df_part.columns:\n",
    "    the_bit = int(df_part[c].mean() < 0.5)\n",
    "    df_part = df_part[df_part[c] == the_bit]\n",
    "    print(\n",
    "        f\"The least commit bit in the next position is {the_bit} and there are {df_part.shape[0]} rows left\"\n",
    "    )\n",
    "    if df_part.shape[0] == 1:\n",
    "        break"
   ]
  },
  {
   "cell_type": "code",
   "execution_count": 29,
   "id": "f808159f-95e8-4b51-affb-9b9320feddd8",
   "metadata": {},
   "outputs": [
    {
     "data": {
      "text/html": [
       "<div>\n",
       "<style scoped>\n",
       "    .dataframe tbody tr th:only-of-type {\n",
       "        vertical-align: middle;\n",
       "    }\n",
       "\n",
       "    .dataframe tbody tr th {\n",
       "        vertical-align: top;\n",
       "    }\n",
       "\n",
       "    .dataframe thead th {\n",
       "        text-align: right;\n",
       "    }\n",
       "</style>\n",
       "<table border=\"1\" class=\"dataframe\">\n",
       "  <thead>\n",
       "    <tr style=\"text-align: right;\">\n",
       "      <th></th>\n",
       "      <th>0</th>\n",
       "      <th>1</th>\n",
       "      <th>2</th>\n",
       "      <th>3</th>\n",
       "      <th>4</th>\n",
       "      <th>5</th>\n",
       "      <th>6</th>\n",
       "      <th>7</th>\n",
       "      <th>8</th>\n",
       "      <th>9</th>\n",
       "      <th>10</th>\n",
       "      <th>11</th>\n",
       "    </tr>\n",
       "  </thead>\n",
       "  <tbody>\n",
       "    <tr>\n",
       "      <th>230</th>\n",
       "      <td>0</td>\n",
       "      <td>1</td>\n",
       "      <td>1</td>\n",
       "      <td>1</td>\n",
       "      <td>1</td>\n",
       "      <td>0</td>\n",
       "      <td>0</td>\n",
       "      <td>0</td>\n",
       "      <td>0</td>\n",
       "      <td>0</td>\n",
       "      <td>1</td>\n",
       "      <td>1</td>\n",
       "    </tr>\n",
       "  </tbody>\n",
       "</table>\n",
       "</div>"
      ],
      "text/plain": [
       "     0   1   2   3   4   5   6   7   8   9   10  11\n",
       "230   0   1   1   1   1   0   0   0   0   0   1   1"
      ]
     },
     "execution_count": 29,
     "metadata": {},
     "output_type": "execute_result"
    }
   ],
   "source": [
    "df_part"
   ]
  },
  {
   "cell_type": "code",
   "execution_count": 30,
   "id": "14dde9e8-e244-4816-b4ba-030bd61acde6",
   "metadata": {},
   "outputs": [
    {
     "data": {
      "text/plain": [
       "1923"
      ]
     },
     "execution_count": 30,
     "metadata": {},
     "output_type": "execute_result"
    }
   ],
   "source": [
    "int(\"\".join(df_part.iloc[0].astype(str).values), 2)"
   ]
  },
  {
   "cell_type": "code",
   "execution_count": 31,
   "id": "29232aea-d69e-4d33-9494-9e32a65216de",
   "metadata": {},
   "outputs": [
    {
     "data": {
      "text/plain": [
       "7863147"
      ]
     },
     "execution_count": 31,
     "metadata": {},
     "output_type": "execute_result"
    }
   ],
   "source": [
    "4089 * 1923"
   ]
  },
  {
   "cell_type": "markdown",
   "id": "b4c828c3-881e-40ea-bc44-ee0e7f36163c",
   "metadata": {},
   "source": [
    "# 4"
   ]
  },
  {
   "cell_type": "code",
   "execution_count": 32,
   "id": "f3a2eddf-9c2b-40eb-bfe3-443bc6e5a429",
   "metadata": {},
   "outputs": [],
   "source": [
    "class Ticket:\n",
    "    def __init__(self, board):\n",
    "        self.board = np.array(board)\n",
    "        self.state = np.zeros_like(board)\n",
    "\n",
    "        self.solved = False\n",
    "        self.n = 0\n",
    "        self.win_number = None\n",
    "\n",
    "    def mark(self, number):\n",
    "        if self.solved:\n",
    "            return\n",
    "\n",
    "        self.n += 1\n",
    "\n",
    "        xs, ys = np.where(self.board == number)\n",
    "        if len(xs) == 0:\n",
    "            return\n",
    "\n",
    "        self.state[xs, ys] = 1\n",
    "\n",
    "        if not (\n",
    "            (self.state.sum(axis=0) == 5).any() or (self.state.sum(axis=1) == 5).any()\n",
    "        ):\n",
    "            return\n",
    "\n",
    "        self.solved = True\n",
    "        self.win_number = number\n",
    "\n",
    "    def score(self):\n",
    "        if self.win_number is None:\n",
    "            return\n",
    "        xs, ys = np.where(1 - self.state)\n",
    "        win_sum = self.board[xs, ys].sum()\n",
    "        return self.win_number * win_sum\n",
    "\n",
    "    def __repr__(self):\n",
    "        return f\"{self.board}\\n\\n{self.state}\""
   ]
  },
  {
   "cell_type": "code",
   "execution_count": 33,
   "id": "bd729d17-0c2c-4c9a-9452-72560617bd9a",
   "metadata": {},
   "outputs": [],
   "source": [
    "s = load_puzzle_local(4)\n",
    "\n",
    "text = s.strip().split(\"\\n\")\n",
    "\n",
    "sequence = [int(x) for x in text[0].split(\",\")]\n",
    "\n",
    "tickets = [text[1:][i + 1 : i + 6] for i in range(0, len(text[1:]), 6)]\n",
    "tickets = [np.array([x.split() for x in s]).astype(int) for s in tickets]\n",
    "tickets = [Ticket(s) for s in tickets]\n",
    "\n",
    "for s in sequence:\n",
    "    for t in tickets:\n",
    "        t.mark(s)"
   ]
  },
  {
   "cell_type": "code",
   "execution_count": 34,
   "id": "fb88c250-d7b3-4dcc-b418-fc95440ffce1",
   "metadata": {},
   "outputs": [
    {
     "data": {
      "text/plain": [
       "100"
      ]
     },
     "execution_count": 34,
     "metadata": {},
     "output_type": "execute_result"
    }
   ],
   "source": [
    "len(tickets)"
   ]
  },
  {
   "cell_type": "code",
   "execution_count": 35,
   "id": "bd2b170f-b3b0-4693-9d1b-2bc6e677f5a1",
   "metadata": {},
   "outputs": [
    {
     "data": {
      "text/plain": [
       "25023"
      ]
     },
     "execution_count": 35,
     "metadata": {},
     "output_type": "execute_result"
    }
   ],
   "source": [
    "tickets[np.argmin([x.n for x in tickets])].score()"
   ]
  },
  {
   "cell_type": "code",
   "execution_count": 36,
   "id": "87c55e78-7dda-436d-8b03-ba7c2c40c72f",
   "metadata": {},
   "outputs": [
    {
     "data": {
      "text/plain": [
       "2634"
      ]
     },
     "execution_count": 36,
     "metadata": {},
     "output_type": "execute_result"
    }
   ],
   "source": [
    "tickets[np.argmax([x.n for x in tickets])].score()"
   ]
  },
  {
   "cell_type": "markdown",
   "id": "9cba0ac7-3d65-412c-abb7-c5f1e9cfebff",
   "metadata": {},
   "source": [
    "---"
   ]
  },
  {
   "cell_type": "markdown",
   "id": "a4edae0b-9316-475b-a1f2-aa9feb4ed42f",
   "metadata": {},
   "source": [
    "# 6"
   ]
  },
  {
   "cell_type": "code",
   "execution_count": 37,
   "id": "d33de42c-627d-4ba6-8647-452576c4a60b",
   "metadata": {},
   "outputs": [],
   "source": [
    "s = load_puzzle_local(6)"
   ]
  },
  {
   "cell_type": "code",
   "execution_count": 38,
   "id": "b49999db-84e7-4028-adb8-be83a2bf79d1",
   "metadata": {},
   "outputs": [],
   "source": [
    "def day_passed(A):\n",
    "    A -= 1\n",
    "    mask = A < 0\n",
    "    A[mask] = 6\n",
    "    new_population = np.ones(mask.sum()) * 8\n",
    "    return np.concatenate([A, new_population])"
   ]
  },
  {
   "cell_type": "code",
   "execution_count": 48,
   "id": "4ddd6b95-757c-4cf6-946c-8f08e9576ef2",
   "metadata": {},
   "outputs": [],
   "source": [
    "A = np.array(s.strip().split(\",\")).astype(np.int64)\n",
    "\n",
    "lengths = [len(A)]\n",
    "\n",
    "for _ in range(80):\n",
    "    A = day_passed(A)\n",
    "    lengths.append(len(A))"
   ]
  },
  {
   "cell_type": "code",
   "execution_count": 49,
   "id": "9e6222ae-969c-4288-8bf4-cb1d840bf1a8",
   "metadata": {},
   "outputs": [],
   "source": [
    "import matplotlib.pyplot as plt"
   ]
  },
  {
   "cell_type": "code",
   "execution_count": 50,
   "id": "f958f0ee-36d9-4d05-b6cf-faa06eb61e19",
   "metadata": {},
   "outputs": [
    {
     "data": {
      "text/plain": [
       "[<matplotlib.lines.Line2D at 0x11ce7b280>]"
      ]
     },
     "execution_count": 50,
     "metadata": {},
     "output_type": "execute_result"
    },
    {
     "data": {
      "image/png": "[encoded data removed]",
      "text/plain": [
       "<Figure size 432x288 with 1 Axes>"
      ]
     },
     "metadata": {
      "needs_background": "light"
     },
     "output_type": "display_data"
    }
   ],
   "source": [
    "plt.plot(lengths)"
   ]
  },
  {
   "cell_type": "code",
   "execution_count": 51,
   "id": "9f7a4e78-d717-48b9-8f23-c4ee8d722706",
   "metadata": {},
   "outputs": [
    {
     "data": {
      "text/plain": [
       "377263"
      ]
     },
     "execution_count": 51,
     "metadata": {},
     "output_type": "execute_result"
    }
   ],
   "source": [
    "len(A)"
   ]
  },
  {
   "cell_type": "markdown",
   "id": "78bca07a-491c-44ab-87ea-57cf3b2f3549",
   "metadata": {},
   "source": [
    "---"
   ]
  },
  {
   "cell_type": "code",
   "execution_count": 52,
   "id": "8382484e-6c6a-4517-8cd7-aed4fc6f3879",
   "metadata": {},
   "outputs": [],
   "source": [
    "from collections import Counter"
   ]
  },
  {
   "cell_type": "code",
   "execution_count": 53,
   "id": "74048116-4a25-4eb1-af4a-b3d71b208599",
   "metadata": {},
   "outputs": [],
   "source": [
    "def day_passed_better(counter):\n",
    "    for i in range(0, 9):\n",
    "        counter[i - 1] = counter[i]\n",
    "    counter[8] = 0\n",
    "\n",
    "    n_to_give_birth = counter[-1]\n",
    "    if n_to_give_birth > 0:\n",
    "        counter[6] += n_to_give_birth\n",
    "        counter[8] = n_to_give_birth\n",
    "    counter[-1] = 0"
   ]
  },
  {
   "cell_type": "code",
   "execution_count": 55,
   "id": "48f62e47-3e99-4c97-a027-f02f815793fe",
   "metadata": {},
   "outputs": [
    {
     "data": {
      "text/plain": [
       "1695929023803"
      ]
     },
     "execution_count": 55,
     "metadata": {},
     "output_type": "execute_result"
    }
   ],
   "source": [
    "A = np.array(s.strip().split(\",\")).astype(np.int64)\n",
    "\n",
    "c = Counter(A)\n",
    "\n",
    "for _ in range(256):\n",
    "    day_passed_better(c)\n",
    "\n",
    "np.sum(list(c.values()))"
   ]
  },
  {
   "cell_type": "markdown",
   "id": "cca53f53-9c41-4e20-8787-422e99773f66",
   "metadata": {},
   "source": [
    "---"
   ]
  },
  {
   "cell_type": "code",
   "execution_count": null,
   "id": "6e9f5d58-edc2-4109-a88a-9d8fe45bb411",
   "metadata": {},
   "outputs": [],
   "source": []
  }
 ],
 "metadata": {
  "kernelspec": {
   "display_name": "platy-segmentation",
   "language": "python",
   "name": "platy-segmentation"
  },
  "language_info": {
   "codemirror_mode": {
    "name": "ipython",
    "version": 3
   },
   "file_extension": ".py",
   "mimetype": "text/x-python",
   "name": "python",
   "nbconvert_exporter": "python",
   "pygments_lexer": "ipython3",
   "version": "3.9.6"
  }
 },
 "nbformat": 4,
 "nbformat_minor": 5
}
