{
 "cells": [
  {
   "cell_type": "raw",
   "id": "cc1b95c7-d188-46bb-99a2-7add09a82d5b",
   "metadata": {},
   "source": [
    "!pip install nb_black"
   ]
  },
  {
   "cell_type": "code",
   "execution_count": 5,
   "id": "7949147b-bfdb-44d1-afa0-6add30ec95eb",
   "metadata": {},
   "outputs": [
    {
     "name": "stdout",
     "output_type": "stream",
     "text": [
      "The lab_black extension is already loaded. To reload it, use:\n",
      "  %reload_ext lab_black\n"
     ]
    }
   ],
   "source": [
    "%load_ext lab_black\n",
    "\n",
    "from puzzles import load"
   ]
  },
  {
   "cell_type": "markdown",
   "id": "47298f9d-b344-447e-971e-1636b36d8c6d",
   "metadata": {},
   "source": [
    "**--- Day 7: Some Assembly Required ---**\n",
    "\n",
    "This year, Santa brought little Bobby Tables a set of wires and bitwise logic gates! Unfortunately, little Bobby is a little under the recommended age range, and he needs help assembling the circuit.\n",
    "\n",
    "Each wire has an identifier (some lowercase letters) and can carry a 16-bit signal (a number from 0 to 65535). A signal is provided to each wire by a gate, another wire, or some specific value. Each wire can only get a signal from one source, but can provide its signal to multiple destinations. A gate provides no signal until all of its inputs have a signal.\n",
    "\n",
    "The included instructions booklet describes how to connect the parts together: x AND y -> z means to connect wires x and y to an AND gate, and then connect its output to wire z.\n",
    "\n",
    "For example:\n",
    "\n",
    "123 -> x means that the signal 123 is provided to wire x.\n",
    "x AND y -> z means that the bitwise AND of wire x and wire y is provided to wire z.\n",
    "p LSHIFT 2 -> q means that the value from wire p is left-shifted by 2 and then provided to wire q.\n",
    "NOT e -> f means that the bitwise complement of the value from wire e is provided to wire f.\n",
    "Other possible gates include OR (bitwise OR) and RSHIFT (right-shift). If, for some reason, you'd like to emulate the circuit instead, almost all programming languages (for example, C, JavaScript, or Python) provide operators for these gates.\n",
    "\n",
    "For example, here is a simple circuit:\n",
    "\n",
    "```\n",
    "123 -> x\n",
    "456 -> y\n",
    "x AND y -> d\n",
    "x OR y -> e\n",
    "x LSHIFT 2 -> f\n",
    "y RSHIFT 2 -> g\n",
    "NOT x -> h\n",
    "NOT y -> i\n",
    "```\n",
    "\n",
    "After it is run, these are the signals on the wires:\n",
    "\n",
    "```\n",
    "d: 72\n",
    "e: 507\n",
    "f: 492\n",
    "g: 114\n",
    "h: 65412\n",
    "i: 65079\n",
    "x: 123\n",
    "y: 456\n",
    "```\n",
    "\n",
    "In little Bobby's kit's instructions booklet (provided as your puzzle input), what signal is ultimately provided to wire a?\n",
    "\n"
   ]
  },
  {
   "cell_type": "code",
   "execution_count": 15,
   "id": "022b3616-4e09-45e2-91e5-1c0481362083",
   "metadata": {},
   "outputs": [
    {
     "data": {
      "text/plain": [
       "339"
      ]
     },
     "execution_count": 15,
     "metadata": {},
     "output_type": "execute_result"
    }
   ],
   "source": [
    "len(sorted(load(7).strip().split(\"\\n\")))"
   ]
  },
  {
   "cell_type": "code",
   "execution_count": 37,
   "id": "2916f443-1610-4f88-914d-aab34d44fa29",
   "metadata": {},
   "outputs": [
    {
     "data": {
      "text/plain": [
       "[]"
      ]
     },
     "execution_count": 37,
     "metadata": {},
     "output_type": "execute_result"
    }
   ],
   "source": [
    "to_do[:100]"
   ]
  },
  {
   "cell_type": "code",
   "execution_count": 48,
   "id": "56358850-ee6d-40d9-8ccf-9584df33112d",
   "metadata": {},
   "outputs": [],
   "source": [
    "ss = sorted(load(7).strip().split(\"\\n\"))"
   ]
  },
  {
   "cell_type": "code",
   "execution_count": 49,
   "id": "dc898af5-3c76-49c8-875b-82ba1b6e9bf0",
   "metadata": {},
   "outputs": [
    {
     "data": {
      "text/plain": [
       "['lx -> a']"
      ]
     },
     "execution_count": 49,
     "metadata": {},
     "output_type": "execute_result"
    }
   ],
   "source": [
    "[x for x in ss if x.endswith(\"-> a\")]"
   ]
  },
  {
   "cell_type": "code",
   "execution_count": 53,
   "id": "7795501f-0704-4f4a-b7ae-f99d0812bc3c",
   "metadata": {},
   "outputs": [
    {
     "data": {
      "text/plain": [
       "['lw OR lv -> lx']"
      ]
     },
     "execution_count": 53,
     "metadata": {},
     "output_type": "execute_result"
    }
   ],
   "source": [
    "[x for x in ss if x.endswith(\"-> lx\")]"
   ]
  },
  {
   "cell_type": "code",
   "execution_count": 54,
   "id": "e9fb449b-b306-4735-a674-73fcb6b59507",
   "metadata": {},
   "outputs": [
    {
     "data": {
      "text/plain": [
       "['lc LSHIFT 1 -> lw']"
      ]
     },
     "execution_count": 54,
     "metadata": {},
     "output_type": "execute_result"
    }
   ],
   "source": [
    "[x for x in ss if \"-> lw\" in x]"
   ]
  },
  {
   "cell_type": "code",
   "execution_count": 55,
   "id": "325b462a-d76b-4c77-aa24-396e298bc150",
   "metadata": {},
   "outputs": [
    {
     "data": {
      "text/plain": [
       "['1 AND lu -> lv']"
      ]
     },
     "execution_count": 55,
     "metadata": {},
     "output_type": "execute_result"
    }
   ],
   "source": [
    "[x for x in ss if \"-> lv\" in x]"
   ]
  },
  {
   "cell_type": "code",
   "execution_count": 56,
   "id": "7f4a3d4b-f4e5-46d7-b32f-6312369cb148",
   "metadata": {},
   "outputs": [
    {
     "data": {
      "text/plain": [
       "['1 AND lu -> lv']"
      ]
     },
     "execution_count": 56,
     "metadata": {},
     "output_type": "execute_result"
    }
   ],
   "source": [
    "[x for x in ss if \"-> lv\" in x]"
   ]
  },
  {
   "cell_type": "code",
   "execution_count": null,
   "id": "8821052a-9d19-473e-b6e9-c622cf6a83e1",
   "metadata": {},
   "outputs": [],
   "source": []
  },
  {
   "cell_type": "code",
   "execution_count": null,
   "id": "fdcdc9c4-5124-4317-a620-cd4158d279d6",
   "metadata": {},
   "outputs": [],
   "source": []
  },
  {
   "cell_type": "code",
   "execution_count": null,
   "id": "0ad6859b-2666-4cef-9a2e-ecd5dd4e0403",
   "metadata": {},
   "outputs": [],
   "source": [
    "ss"
   ]
  },
  {
   "cell_type": "code",
   "execution_count": 36,
   "id": "feb0a98f-6140-4161-880f-a1a47862d4f9",
   "metadata": {},
   "outputs": [
    {
     "data": {
      "text/plain": [
       "16076"
      ]
     },
     "execution_count": 36,
     "metadata": {},
     "output_type": "execute_result"
    }
   ],
   "source": [
    "funcs = {\n",
    "    \"AND\": lambda a, b: (a & b) & 65535,\n",
    "    \"OR\": lambda a, b: (a | b) & 65535,\n",
    "    \"NOT\": lambda a: a ^ 65535,\n",
    "    \"RSHIFT\": lambda a, b: (a >> b) & 65535,\n",
    "    \"LSHIFT\": lambda a, b: (a << b) & 65535,\n",
    "}\n",
    "\n",
    "wires = {}\n",
    "\n",
    "get_arg = lambda p: int(p) if p.isdecimal() else wires[p]\n",
    "\n",
    "to_do = sorted(load(7).strip().split(\"\\n\"))\n",
    "\n",
    "processed = []\n",
    "errors = []\n",
    "\n",
    "while len(to_do) > 0:\n",
    "    n_processed = 0\n",
    "\n",
    "    for line in to_do:\n",
    "        left_part, out_name = line.split(\" -> \")\n",
    "        parts = left_part.split()\n",
    "\n",
    "        try:\n",
    "            # Assignment\n",
    "            if len(parts) == 1:\n",
    "                wires[out_name] = get_arg(parts[0])\n",
    "\n",
    "            # Not\n",
    "            elif len(parts) == 2:\n",
    "                wires[out_name] = 65535 ^ wires[parts[-1]]\n",
    "\n",
    "            # And, Or, Lshift, Rshift\n",
    "            else:\n",
    "                op = parts[1]\n",
    "                arg_a = get_arg(parts[0])\n",
    "                arg_b = get_arg(parts[2])\n",
    "                wires[out_name] = 65535 & funcs[op](arg_a, arg_b)\n",
    "\n",
    "            n_processed += 1\n",
    "            processed.append(line)\n",
    "\n",
    "        except Exception:\n",
    "            errors.append(line)\n",
    "\n",
    "    to_do = errors\n",
    "    errors = []\n",
    "\n",
    "wires[\"a\"]"
   ]
  },
  {
   "cell_type": "markdown",
   "id": "8655c0ef-b385-43b3-98a8-54b5a61a0c44",
   "metadata": {},
   "source": [
    "---"
   ]
  },
  {
   "cell_type": "markdown",
   "id": "da4daab4-a2fd-40f2-8874-4feec0e86dfc",
   "metadata": {},
   "source": [
    "**--- Part Two ---**\n",
    "\n",
    "Now, take the signal you got on wire a, override wire b to that signal, and reset the other wires (including wire a). What new signal is ultimately provided to wire a?\n",
    "\n"
   ]
  },
  {
   "cell_type": "code",
   "execution_count": 32,
   "id": "1422d1b3-5b6e-4637-9b8e-7e71ad2d9f63",
   "metadata": {},
   "outputs": [
    {
     "ename": "KeyboardInterrupt",
     "evalue": "",
     "output_type": "error",
     "traceback": [
      "\u001b[0;31m---------------------------------------------------------------------------\u001b[0m",
      "\u001b[0;31mTypeError\u001b[0m                                 Traceback (most recent call last)",
      "Cell \u001b[0;32mIn[32], line 42\u001b[0m\n\u001b[1;32m     41\u001b[0m \u001b[38;5;28;01melif\u001b[39;00m \u001b[38;5;28mlen\u001b[39m(parts) \u001b[38;5;241m==\u001b[39m \u001b[38;5;241m2\u001b[39m:\n\u001b[0;32m---> 42\u001b[0m     wires[out_name] \u001b[38;5;241m=\u001b[39m \u001b[38;5;241;43m65535\u001b[39;49m\u001b[43m \u001b[49m\u001b[38;5;241;43m^\u001b[39;49m\u001b[43m \u001b[49m\u001b[43mparts\u001b[49m\u001b[43m[\u001b[49m\u001b[38;5;241;43m-\u001b[39;49m\u001b[38;5;241;43m1\u001b[39;49m\u001b[43m]\u001b[49m\n\u001b[1;32m     44\u001b[0m \u001b[38;5;66;03m# And, Or, Lshift, Rshift\u001b[39;00m\n\u001b[1;32m     45\u001b[0m \u001b[38;5;28;01melse\u001b[39;00m:\n",
      "\u001b[0;31mTypeError\u001b[0m: unsupported operand type(s) for ^: 'int' and 'str'",
      "\nDuring handling of the above exception, another exception occurred:\n",
      "\u001b[0;31mKeyboardInterrupt\u001b[0m                         Traceback (most recent call last)",
      "Cell \u001b[0;32mIn[32], line 42\u001b[0m\n\u001b[1;32m     40\u001b[0m \u001b[38;5;66;03m# Not\u001b[39;00m\n\u001b[1;32m     41\u001b[0m \u001b[38;5;28;01melif\u001b[39;00m \u001b[38;5;28mlen\u001b[39m(parts) \u001b[38;5;241m==\u001b[39m \u001b[38;5;241m2\u001b[39m:\n\u001b[0;32m---> 42\u001b[0m     wires[out_name] \u001b[38;5;241m=\u001b[39m \u001b[38;5;241;43m65535\u001b[39;49m\u001b[43m \u001b[49m\u001b[38;5;241;43m^\u001b[39;49m\u001b[43m \u001b[49m\u001b[43mparts\u001b[49m\u001b[43m[\u001b[49m\u001b[38;5;241;43m-\u001b[39;49m\u001b[38;5;241;43m1\u001b[39;49m\u001b[43m]\u001b[49m\n\u001b[1;32m     44\u001b[0m \u001b[38;5;66;03m# And, Or, Lshift, Rshift\u001b[39;00m\n\u001b[1;32m     45\u001b[0m \u001b[38;5;28;01melse\u001b[39;00m:\n\u001b[1;32m     46\u001b[0m     op \u001b[38;5;241m=\u001b[39m parts[\u001b[38;5;241m1\u001b[39m]\n",
      "\u001b[0;31mKeyboardInterrupt\u001b[0m: "
     ]
    }
   ],
   "source": [
    "wires[\"b\"] = wires[\"a\"]\n",
    "\n",
    "for k in wires:\n",
    "    if k == \"b\":\n",
    "        continue\n",
    "    wires[k] = 0\n",
    "\n",
    "funcs = {\n",
    "    \"AND\": lambda a, b: a & b,\n",
    "    \"OR\": lambda a, b: a | b,\n",
    "    \"NOT\": lambda a: a ^ 65535,\n",
    "    \"RSHIFT\": lambda a, b: a >> b,\n",
    "    \"LSHIFT\": lambda a, b: a << b,\n",
    "}\n",
    "\n",
    "wires = {\"b\": 16076}\n",
    "\n",
    "get_arg = lambda p: int(p) if p.isdecimal() else wires[p]\n",
    "\n",
    "to_do = sorted(load(7).strip().split(\"\\n\"))\n",
    "\n",
    "processed = []\n",
    "errors = []\n",
    "\n",
    "wires_a = []\n",
    "\n",
    "while len(to_do) > 0:\n",
    "    n_processed = 0\n",
    "\n",
    "    for line in to_do:\n",
    "        # print(line)\n",
    "        left_part, out_name = line.split(\" -> \")\n",
    "        parts = left_part.split()\n",
    "\n",
    "        try:\n",
    "            # Assignment\n",
    "            if len(parts) == 1:\n",
    "                wires[out_name] = get_arg(parts[0])\n",
    "\n",
    "            # Not\n",
    "            elif len(parts) == 2:\n",
    "                wires[out_name] = 65535 ^ parts[-1]\n",
    "\n",
    "            # And, Or, Lshift, Rshift\n",
    "            else:\n",
    "                op = parts[1]\n",
    "                arg_a = get_arg(parts[0])\n",
    "                arg_b = get_arg(parts[2])\n",
    "                wires[out_name] = funcs[op](arg_a, arg_b)\n",
    "\n",
    "            if wires[\"a\"] is not None:\n",
    "                wires_a.append(wires[\"a\"])\n",
    "\n",
    "            n_processed += 1\n",
    "            processed.append(line)\n",
    "\n",
    "        except Exception:\n",
    "            errors.append(line)\n",
    "\n",
    "    to_do = errors\n",
    "    errors = []\n",
    "\n"
   ]
  },
  {
   "cell_type": "code",
   "execution_count": 34,
   "id": "fb9922d9-ee82-40ad-bf00-a9dfbc11ee38",
   "metadata": {},
   "outputs": [
    {
     "ename": "IndexError",
     "evalue": "list index out of range",
     "output_type": "error",
     "traceback": [
      "\u001b[0;31m---------------------------------------------------------------------------\u001b[0m",
      "\u001b[0;31mIndexError\u001b[0m                                Traceback (most recent call last)",
      "Cell \u001b[0;32mIn[34], line 1\u001b[0m\n\u001b[0;32m----> 1\u001b[0m \u001b[43mwires_a\u001b[49m\u001b[43m[\u001b[49m\u001b[38;5;241;43m-\u001b[39;49m\u001b[38;5;241;43m1\u001b[39;49m\u001b[43m]\u001b[49m\n",
      "\u001b[0;31mIndexError\u001b[0m: list index out of range"
     ]
    }
   ],
   "source": [
    "wires_a[-1]"
   ]
  },
  {
   "cell_type": "code",
   "execution_count": 20,
   "id": "82ee0df0-011c-44bc-a9ef-f6f73b717f68",
   "metadata": {},
   "outputs": [],
   "source": [
    "import matplotlib.pyplot as plt"
   ]
  },
  {
   "cell_type": "raw",
   "id": "1fdb7c40-4616-4b81-b864-97c7209192ae",
   "metadata": {
    "scrolled": true
   },
   "source": [
    "plt.plot(wires_a)"
   ]
  },
  {
   "cell_type": "markdown",
   "id": "70aff391-805a-4cdb-b80d-f15d3c685f98",
   "metadata": {},
   "source": [
    "----"
   ]
  },
  {
   "cell_type": "code",
   "execution_count": 57,
   "id": "09afd4af-2469-4cc0-80a9-1b34e2295bd9",
   "metadata": {},
   "outputs": [
    {
     "data": {
      "text/plain": [
       "['0 -> c', '1 AND am -> an', '1 AND bh -> bi']"
      ]
     },
     "execution_count": 57,
     "metadata": {},
     "output_type": "execute_result"
    }
   ],
   "source": [
    "ss[:3]"
   ]
  },
  {
   "cell_type": "code",
   "execution_count": 241,
   "id": "0b9ca5d7-2f58-452b-aef1-8d6259c52c28",
   "metadata": {},
   "outputs": [],
   "source": [
    "def is_number(t):\n",
    "    return all([c in \"1234567890\" for c in t])\n",
    "\n",
    "\n",
    "class Node:\n",
    "    funcs = {\n",
    "        \"NOT\": lambda a: a ^ 65535,\n",
    "        \"AND\": lambda a, b: (a & b) & 65535,\n",
    "        \"OR\": lambda a, b: (a | b) & 65535,\n",
    "        \"RSHIFT\": lambda a, b: (a >> b) & 65535,\n",
    "        \"LSHIFT\": lambda a, b: (a << b) & 65535,\n",
    "    }\n",
    "\n",
    "    @staticmethod\n",
    "    def get_or_create(nodes, name):\n",
    "        if name in nodes:\n",
    "            node = nodes[name]\n",
    "        else:\n",
    "            node = Node(name)\n",
    "            nodes[name] = node\n",
    "        return node\n",
    "\n",
    "    @staticmethod\n",
    "    def build(line, nodes) -> \"Node\":\n",
    "        what_to_do, name = line.split(\" -> \")\n",
    "        tokens = what_to_do.split()\n",
    "\n",
    "        parent = Node.get_or_create(nodes, name)\n",
    "\n",
    "        if len(tokens) == 1:\n",
    "            # assign, like \"123 -> x\" or \"a -> b\"\n",
    "            parent.type = \"VALUE\"\n",
    "            if is_number(tokens[0]):\n",
    "                parent.func = lambda: int(tokens[0])\n",
    "            else:\n",
    "                parent.func = lambda: None\n",
    "                node = Node.get_or_create(nodes, tokens[0])\n",
    "                node.parents.add(parent)\n",
    "                parent.left = node\n",
    "\n",
    "        elif len(tokens) == 2:\n",
    "            # not, like \"NOT x -> y\"\n",
    "            op_not, operand = tokens\n",
    "            node = Node.get_or_create(nodes, operand)\n",
    "            node.parents.add(parent)\n",
    "            parent.type = op_not\n",
    "            parent.left = node\n",
    "\n",
    "        else:\n",
    "            # and, or, lshift, rshift, like \"ax AND by -> zq\"\n",
    "            left_part, op, right_part = tokens\n",
    "            parent.type = op\n",
    "\n",
    "            if is_number(left_part):\n",
    "                left = Node(left_part, type=\"VALUE\", func=lambda: int(left_part))\n",
    "            else:\n",
    "                left = Node.get_or_create(nodes, left_part)\n",
    "            left.parents.add(parent)\n",
    "            parent.left = left\n",
    "\n",
    "            if is_number(right_part):\n",
    "                right = Node(right_part, type=\"VALUE\", func=lambda: int(right_part))\n",
    "            else:\n",
    "                right = Node.get_or_create(nodes, right_part)\n",
    "            right.parents.add(parent)\n",
    "            parent.right = right\n",
    "\n",
    "    def __init__(self, name, type=\"VALUE\", func=None):\n",
    "        self.name = name\n",
    "        self.type = type\n",
    "        self.func = func\n",
    "\n",
    "        self.value = None\n",
    "        self.parents = set()\n",
    "        self.left = None\n",
    "        self.right = None\n",
    "\n",
    "    def reset(self):\n",
    "        self.value = None\n",
    "\n",
    "    def process(self) -> int:\n",
    "        print(f\"[{self.name}]->\", end=\"\")\n",
    "        if self.value is not None:\n",
    "            return self.value\n",
    "\n",
    "        if self.type == \"VALUE\":\n",
    "            val = self.func()\n",
    "            if val is None:\n",
    "                # \"y -> x\"\n",
    "                if self.left.value is None:\n",
    "                    self.value = self.left.process()\n",
    "                else:\n",
    "                    self.value = self.left.value\n",
    "                return self.value\n",
    "            # \"123 -> x\"\n",
    "            self.value = val\n",
    "            return self.value\n",
    "\n",
    "        f = Node.funcs[self.type]\n",
    "\n",
    "        if self.left.value is None:\n",
    "            left_value = self.left.process()\n",
    "\n",
    "        if self.type == \"NOT\":\n",
    "            self.value = f(left_value)\n",
    "            return self.value\n",
    "\n",
    "        if self.right.value is None:\n",
    "            right_value = self.right.process()\n",
    "\n",
    "        self.value = f(self.left.value, self.right.value)\n",
    "        return self.value\n",
    "\n",
    "    def __repr__(self):\n",
    "        left = f\"{self.left.name if self.left is not None else ''}\"\n",
    "        if self.type == \"VALUE\":\n",
    "            return f\"{self.func}[{self.value}]\"\n",
    "        if self.type == \"NOT\":\n",
    "            return f\"{self.type}[{left}]\"\n",
    "        right = f\"{self.right.name if self.right is not None else ''}\"\n",
    "        return f\"{self.type}[{left},{right}]\""
   ]
  },
  {
   "cell_type": "code",
   "execution_count": 242,
   "id": "6a4bf38b-365e-4455-bf13-6c7103c1bb9d",
   "metadata": {},
   "outputs": [],
   "source": [
    "lines = \"\"\"123 -> x\n",
    "x AND y -> d\n",
    "456 -> y\n",
    "NOT y -> i\n",
    "NOT x -> h\n",
    "x LSHIFT 2 -> f\n",
    "y RSHIFT 2 -> g\n",
    "x OR y -> e\"\"\".split(\n",
    "    \"\\n\"\n",
    ")"
   ]
  },
  {
   "cell_type": "code",
   "execution_count": 249,
   "id": "03e41d27-9534-4e04-9b2f-622943da0f19",
   "metadata": {},
   "outputs": [],
   "source": [
    "lines = ss"
   ]
  },
  {
   "cell_type": "code",
   "execution_count": 250,
   "id": "caac15f5-214d-4cb3-9c8e-9e6fce729a8d",
   "metadata": {},
   "outputs": [],
   "source": [
    "nodes = {}\n",
    "for i in range(len(lines)):\n",
    "    Node.build(lines[i], nodes)\n",
    "\n",
    "# nodes"
   ]
  },
  {
   "cell_type": "raw",
   "id": "da142322-0539-4f46-a8ae-aec52cdb36cd",
   "metadata": {},
   "source": [
    "nodes"
   ]
  },
  {
   "cell_type": "code",
   "execution_count": 254,
   "id": "218b0190-8636-402f-83eb-febc510db112",
   "metadata": {},
   "outputs": [],
   "source": [
    "for v in nodes.values():\n",
    "    v.reset()\n",
    "nodes[\"b\"].value = 16076"
   ]
  },
  {
   "cell_type": "code",
   "execution_count": 255,
   "id": "6ad64f84-ae2e-4700-9ace-bd3afb2f1100",
   "metadata": {},
   "outputs": [
    {
     "name": "stdout",
     "output_type": "stream",
     "text": [
      "[a]->[lx]->[lw]->[lc]->[lb]->[kh]->[kg]->[jm]->[jl]->[ir]->[iq]->[hw]->[hv]->[hb]->[ha]->[gg]->[gf]->[fl]->[fk]->[eq]->[ep]->[dv]->[du]->[da]->[cz]->[cf]->[ce]->[bk]->[bj]->[ap]->[ao]->[u]->[t]->[c]->[s]->[r]->[o]->[n]->[k]->[d]->[j]->[g]->[e]->[f]->[i]->[h]->[m]->[l]->[q]->[p]->[an]->[am]->[aj]->[x]->[v]->[w]->[ai]->[af]->[y]->[ae]->[ab]->[z]->[aa]->[ad]->[ac]->[ah]->[ag]->[al]->[ak]->[bi]->[bh]->[be]->[as]->[aq]->[ar]->[bd]->[ba]->[at]->[az]->[aw]->[au]->[av]->[ay]->[ax]->[bc]->[bb]->[bg]->[bf]->[cd]->[cc]->[bz]->[bn]->[bl]->[bm]->[by]->[bv]->[bo]->[bu]->[br]->[bp]->[bq]->[bt]->[bs]->[bx]->[bw]->[cb]->[ca]->[cy]->[cx]->[cu]->[ci]->[cg]->[ch]->[ct]->[cq]->[cj]->[cp]->[cm]->[ck]->[cl]->[co]->[cn]->[cs]->[cr]->[cw]->[cv]->[dt]->[ds]->[dp]->[dd]->[db]->[dc]->[do]->[dl]->[de]->[dk]->[dh]->[df]->[dg]->[dj]->[di]->[dn]->[dm]->[dr]->[dq]->[eo]->[en]->[ek]->[dy]->[dw]->[dx]->[ej]->[eg]->[dz]->[ef]->[ec]->[ea]->[eb]->[ee]->[ed]->[ei]->[eh]->[em]->[el]->[fj]->[fi]->[ff]->[et]->[er]->[es]->[fe]->[fb]->[eu]->[fa]->[ex]->[ev]->[ew]->[ez]->[ey]->[fd]->[fc]->[fh]->[fg]->[ge]->[gd]->[ga]->[fo]->[fm]->[fn]->[fz]->[fw]->[fp]->[fv]->[fs]->[fq]->[fr]->[fu]->[ft]->[fy]->[fx]->[gc]->[gb]->[gz]->[gy]->[gv]->[gj]->[gh]->[gi]->[gu]->[gr]->[gk]->[gq]->[gn]->[gl]->[gm]->[gp]->[go]->[gt]->[gs]->[gx]->[gw]->[hu]->[ht]->[hq]->[he]->[hc]->[hd]->[hp]->[hm]->[hf]->[hl]->[hi]->[hg]->[hh]->[hk]->[hj]->[ho]->[hn]->[hs]->[hr]->[ip]->[io]->[il]->[hz]->[hx]->[hy]->[ik]->[ih]->[ia]->[ig]->[id]->[ib]->[ic]->[if]->[ie]->[ij]->[ii]->[in]->[im]->[jk]->[jj]->[jg]->[iu]->[is]->[it]->[jf]->[jc]->[iv]->[jb]->[iy]->[iw]->[ix]->[ja]->[iz]->[je]->[jd]->[ji]->[jh]->[kf]->[ke]->[kb]->[jp]->[jn]->[jo]->[ka]->[jx]->[jq]->[jw]->[jt]->[jr]->[js]->[jv]->[ju]->[jz]->[jy]->[kd]->[kc]->[la]->[kz]->[kw]->[kk]->[ki]->[kj]->[kv]->[ks]->[kl]->[kr]->[ko]->[km]->[kn]->[kq]->[kp]->[ku]->[kt]->[ky]->[kx]->[lv]->[lu]->[lr]->[lf]->[ld]->[le]->[lq]->[ln]->[lg]->[lm]->[lj]->[lh]->[li]->[ll]->[lk]->[lp]->[lo]->[lt]->[ls]->"
     ]
    },
    {
     "data": {
      "text/plain": [
       "2797"
      ]
     },
     "execution_count": 255,
     "metadata": {},
     "output_type": "execute_result"
    }
   ],
   "source": [
    "nodes[\"a\"].process()"
   ]
  }
 ],
 "metadata": {
  "kernelspec": {
   "display_name": "Python 3 (ipykernel)",
   "language": "python",
   "name": "python3"
  },
  "language_info": {
   "codemirror_mode": {
    "name": "ipython",
    "version": 3
   },
   "file_extension": ".py",
   "mimetype": "text/x-python",
   "name": "python",
   "nbconvert_exporter": "python",
   "pygments_lexer": "ipython3",
   "version": "3.10.9"
  }
 },
 "nbformat": 4,
 "nbformat_minor": 5
}
