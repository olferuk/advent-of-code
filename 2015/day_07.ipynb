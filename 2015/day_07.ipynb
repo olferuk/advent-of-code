{
 "cells": [
  {
   "cell_type": "code",
   "execution_count": 1,
   "id": "7949147b-bfdb-44d1-afa0-6add30ec95eb",
   "metadata": {},
   "outputs": [],
   "source": [
    "%load_ext lab_black\n",
    "\n",
    "from puzzles import load"
   ]
  },
  {
   "cell_type": "markdown",
   "id": "47298f9d-b344-447e-971e-1636b36d8c6d",
   "metadata": {},
   "source": [
    "**--- Day 7: Some Assembly Required ---**\n",
    "\n",
    "This year, Santa brought little Bobby Tables a set of wires and bitwise logic gates! Unfortunately, little Bobby is a little under the recommended age range, and he needs help assembling the circuit.\n",
    "\n",
    "Each wire has an identifier (some lowercase letters) and can carry a 16-bit signal (a number from 0 to 65535). A signal is provided to each wire by a gate, another wire, or some specific value. Each wire can only get a signal from one source, but can provide its signal to multiple destinations. A gate provides no signal until all of its inputs have a signal.\n",
    "\n",
    "The included instructions booklet describes how to connect the parts together: x AND y -> z means to connect wires x and y to an AND gate, and then connect its output to wire z.\n",
    "\n",
    "For example:\n",
    "\n",
    "123 -> x means that the signal 123 is provided to wire x.\n",
    "x AND y -> z means that the bitwise AND of wire x and wire y is provided to wire z.\n",
    "p LSHIFT 2 -> q means that the value from wire p is left-shifted by 2 and then provided to wire q.\n",
    "NOT e -> f means that the bitwise complement of the value from wire e is provided to wire f.\n",
    "Other possible gates include OR (bitwise OR) and RSHIFT (right-shift). If, for some reason, you'd like to emulate the circuit instead, almost all programming languages (for example, C, JavaScript, or Python) provide operators for these gates.\n",
    "\n",
    "For example, here is a simple circuit:\n",
    "\n",
    "```\n",
    "123 -> x\n",
    "456 -> y\n",
    "x AND y -> d\n",
    "x OR y -> e\n",
    "x LSHIFT 2 -> f\n",
    "y RSHIFT 2 -> g\n",
    "NOT x -> h\n",
    "NOT y -> i\n",
    "```\n",
    "\n",
    "After it is run, these are the signals on the wires:\n",
    "\n",
    "```\n",
    "d: 72\n",
    "e: 507\n",
    "f: 492\n",
    "g: 114\n",
    "h: 65412\n",
    "i: 65079\n",
    "x: 123\n",
    "y: 456\n",
    "```\n",
    "\n",
    "In little Bobby's kit's instructions booklet (provided as your puzzle input), what signal is ultimately provided to wire a?\n",
    "\n"
   ]
  },
  {
   "cell_type": "code",
   "execution_count": 31,
   "id": "022b3616-4e09-45e2-91e5-1c0481362083",
   "metadata": {},
   "outputs": [
    {
     "data": {
      "text/plain": [
       "339"
      ]
     },
     "execution_count": 31,
     "metadata": {},
     "output_type": "execute_result"
    }
   ],
   "source": [
    "len(sorted(load(7).strip().split(\"\\n\")))"
   ]
  },
  {
   "cell_type": "code",
   "execution_count": 62,
   "id": "feb0a98f-6140-4161-880f-a1a47862d4f9",
   "metadata": {},
   "outputs": [
    {
     "data": {
      "text/plain": [
       "16076"
      ]
     },
     "execution_count": 62,
     "metadata": {},
     "output_type": "execute_result"
    }
   ],
   "source": [
    "funcs = {\n",
    "    \"AND\": lambda a, b: a & b,\n",
    "    \"OR\": lambda a, b: a | b,\n",
    "    \"NOT\": lambda a: ~a,\n",
    "    \"RSHIFT\": lambda a, b: a >> b,\n",
    "    \"LSHIFT\": lambda a, b: a << b,\n",
    "}\n",
    "\n",
    "wires = {}\n",
    "\n",
    "get_arg = lambda p: int(p) if p.isdecimal() else wires[p]\n",
    "\n",
    "to_do = sorted(load(7).strip().split(\"\\n\"))\n",
    "\n",
    "processed = []\n",
    "errors = []\n",
    "\n",
    "\n",
    "while len(to_do) > 0:\n",
    "\n",
    "    n_processed = 0\n",
    "\n",
    "    for line in to_do:\n",
    "\n",
    "        left_part, out_name = line.split(\" -> \")\n",
    "        parts = left_part.split()\n",
    "\n",
    "        try:\n",
    "            # Assignment\n",
    "            if len(parts) == 1:\n",
    "                wires[out_name] = get_arg(parts[0])\n",
    "\n",
    "            # Not\n",
    "            elif len(parts) == 2:\n",
    "                wires[out_name] = 65535 - wires[parts[-1]]\n",
    "\n",
    "            # And, Or, Lshift, Rshift\n",
    "            else:\n",
    "                op = parts[1]\n",
    "                arg_a = get_arg(parts[0])\n",
    "                arg_b = get_arg(parts[2])\n",
    "                wires[out_name] = 65535 & funcs[op](arg_a, arg_b)\n",
    "\n",
    "            n_processed += 1\n",
    "            processed.append(line)\n",
    "\n",
    "        except Exception:\n",
    "            errors.append(line)\n",
    "\n",
    "    to_do = errors\n",
    "    errors = []\n",
    "\n",
    "wires[\"a\"]"
   ]
  },
  {
   "cell_type": "markdown",
   "id": "8655c0ef-b385-43b3-98a8-54b5a61a0c44",
   "metadata": {},
   "source": [
    "---"
   ]
  },
  {
   "cell_type": "markdown",
   "id": "da4daab4-a2fd-40f2-8874-4feec0e86dfc",
   "metadata": {},
   "source": [
    "**--- Part Two ---**\n",
    "\n",
    "Now, take the signal you got on wire a, override wire b to that signal, and reset the other wires (including wire a). What new signal is ultimately provided to wire a?\n",
    "\n"
   ]
  },
  {
   "cell_type": "code",
   "execution_count": 70,
   "id": "b2b6a9f0-f67c-4f4c-a6c5-7420a7a9638a",
   "metadata": {},
   "outputs": [],
   "source": [
    "# wires[\"b\"] = wires[\"a\"]\n",
    "\n",
    "# for k in wires:\n",
    "#     if k == \"b\":\n",
    "#         continue\n",
    "#     wires[k] = 0"
   ]
  },
  {
   "cell_type": "code",
   "execution_count": 71,
   "id": "22d1439c-f471-4074-a459-679c8891dfd4",
   "metadata": {},
   "outputs": [
    {
     "data": {
      "text/plain": [
       "16076"
      ]
     },
     "execution_count": 71,
     "metadata": {},
     "output_type": "execute_result"
    }
   ],
   "source": [
    "funcs = {\n",
    "    \"AND\": lambda a, b: a & b,\n",
    "    \"OR\": lambda a, b: a | b,\n",
    "    \"NOT\": lambda a: ~a,\n",
    "    \"RSHIFT\": lambda a, b: a >> b,\n",
    "    \"LSHIFT\": lambda a, b: a << b,\n",
    "}\n",
    "\n",
    "wires = {\"b\": 16076}\n",
    "\n",
    "get_arg = lambda p: int(p) if p.isdecimal() else wires[p]\n",
    "\n",
    "to_do = sorted(load(7).strip().split(\"\\n\"))\n",
    "\n",
    "processed = []\n",
    "errors = []\n",
    "\n",
    "\n",
    "while len(to_do) > 0:\n",
    "\n",
    "    n_processed = 0\n",
    "\n",
    "    for line in to_do:\n",
    "\n",
    "        left_part, out_name = line.split(\" -> \")\n",
    "        parts = left_part.split()\n",
    "\n",
    "        try:\n",
    "            # Assignment\n",
    "            if len(parts) == 1:\n",
    "                wires[out_name] = get_arg(parts[0])\n",
    "\n",
    "            # Not\n",
    "            elif len(parts) == 2:\n",
    "                wires[out_name] = 65535 - wires[parts[-1]]\n",
    "\n",
    "            # And, Or, Lshift, Rshift\n",
    "            else:\n",
    "                op = parts[1]\n",
    "                arg_a = get_arg(parts[0])\n",
    "                arg_b = get_arg(parts[2])\n",
    "                wires[out_name] = 65535 & funcs[op](arg_a, arg_b)\n",
    "\n",
    "            n_processed += 1\n",
    "            processed.append(line)\n",
    "\n",
    "        except Exception:\n",
    "            errors.append(line)\n",
    "\n",
    "    to_do = errors\n",
    "    errors = []\n",
    "\n",
    "wires[\"a\"]"
   ]
  },
  {
   "cell_type": "code",
   "execution_count": null,
   "id": "4ad51813-f678-43eb-bcd5-4ea8f088c221",
   "metadata": {},
   "outputs": [],
   "source": []
  }
 ],
 "metadata": {
  "kernelspec": {
   "display_name": "platy-segmentation",
   "language": "python",
   "name": "platy-segmentation"
  },
  "language_info": {
   "codemirror_mode": {
    "name": "ipython",
    "version": 3
   },
   "file_extension": ".py",
   "mimetype": "text/x-python",
   "name": "python",
   "nbconvert_exporter": "python",
   "pygments_lexer": "ipython3",
   "version": "3.9.6"
  }
 },
 "nbformat": 4,
 "nbformat_minor": 5
}
