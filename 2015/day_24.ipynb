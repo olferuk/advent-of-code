{
 "cells": [
  {
   "cell_type": "code",
   "execution_count": 9,
   "id": "0e33ee8a-a911-45bb-b872-c3bec06400c5",
   "metadata": {},
   "outputs": [
    {
     "name": "stdout",
     "output_type": "stream",
     "text": [
      "The lab_black extension is already loaded. To reload it, use:\n",
      "  %reload_ext lab_black\n"
     ]
    }
   ],
   "source": [
    "%load_ext lab_black\n",
    "from puzzles import load"
   ]
  },
  {
   "cell_type": "code",
   "execution_count": 64,
   "id": "205ebde8-d545-4cc6-af40-a5a55842e54d",
   "metadata": {},
   "outputs": [],
   "source": [
    "def split_array_equal_sum(arr):\n",
    "    total_sum = sum(arr)\n",
    "    if total_sum % 3 != 0:\n",
    "        return None\n",
    "\n",
    "    target_sum = total_sum // 3\n",
    "    subarrays = [[[], 0], [[], 0], [[], 0]]\n",
    "    p_min = [float(\"infinity\"), [], int(1e4)]\n",
    "\n",
    "    def backtrack(index):\n",
    "        if index == len(arr):\n",
    "            if subarrays[0][1] == target_sum and subarrays[1][1] == target_sum:\n",
    "                split = [x[0][::] for x in subarrays]\n",
    "                smallest = sorted(split, key=lambda x: len(x))[0]\n",
    "                p = 1\n",
    "                for x in smallest:\n",
    "                    p *= x\n",
    "                if len(smallest) <= p_min[2]:\n",
    "                    p_min[0] = min(p, p_min[0])\n",
    "                    p_min[1] = smallest[::]\n",
    "                    p_min[2] = len(smallest)\n",
    "                return\n",
    "\n",
    "        for i in range(3):\n",
    "            if subarrays[i][1] + arr[index] <= target_sum:\n",
    "                subarrays[i][0].append(arr[index])\n",
    "                subarrays[i][1] += arr[index]\n",
    "\n",
    "                backtrack(index + 1)\n",
    "\n",
    "                subarrays[i][0].pop()\n",
    "                subarrays[i][1] -= arr[index]\n",
    "\n",
    "    backtrack(0)\n",
    "    return p_min"
   ]
  },
  {
   "cell_type": "code",
   "execution_count": 62,
   "id": "d8d02f28-86fe-4034-860c-754f6a2c56ed",
   "metadata": {},
   "outputs": [
    {
     "data": {
      "text/plain": [
       "[99, [11, 9], 2]"
      ]
     },
     "execution_count": 62,
     "metadata": {},
     "output_type": "execute_result"
    }
   ],
   "source": [
    "array = [11, 9, 10, 8, 2, 7, 5, 4, 3, 1]\n",
    "\n",
    "result = split_array_equal_sum(array)\n",
    "\n",
    "result"
   ]
  },
  {
   "cell_type": "code",
   "execution_count": 65,
   "id": "a3baa0e0-2d1a-447a-8f69-51f1339138c8",
   "metadata": {},
   "outputs": [
    {
     "data": {
      "text/plain": [
       "[10439961859, [101, 97, 89, 83, 79, 59], 6]"
      ]
     },
     "execution_count": 65,
     "metadata": {},
     "output_type": "execute_result"
    }
   ],
   "source": [
    "array = [int(x) for x in load(24).strip().split(\"\\n\")][::-1]\n",
    "\n",
    "result = split_array_equal_sum(array)\n",
    "\n",
    "result"
   ]
  },
  {
   "cell_type": "raw",
   "id": "fa3a9756-70cf-42d1-a19b-d5011468da91",
   "metadata": {},
   "source": [
    "10439961859"
   ]
  },
  {
   "cell_type": "markdown",
   "id": "6abb72d4-534a-45ab-8e48-260fa2d5f118",
   "metadata": {},
   "source": [
    "\n",
    "---"
   ]
  },
  {
   "cell_type": "code",
   "execution_count": null,
   "id": "a8f7d2ba-73d0-4bff-afca-a881aa78bbaa",
   "metadata": {},
   "outputs": [],
   "source": [
    "def split_array_equal_sum(arr):\n",
    "    total_sum = sum(arr)\n",
    "    if total_sum % 4 != 0:\n",
    "        return None\n",
    "\n",
    "    target_sum = total_sum // 4\n",
    "    subarrays = [[[], 0], [[], 0], [[], 0], [[], 0]]\n",
    "    p_min = [float(\"infinity\"), [], int(1e4)]\n",
    "\n",
    "    def backtrack(index):\n",
    "        if index == len(arr):\n",
    "            if subarrays[0][1] == subarrays[1][1] == subarrays[2][1] == target_sum:\n",
    "                split = [x[0][::] for x in subarrays]\n",
    "                smallest = sorted(split, key=lambda x: len(x))[0]\n",
    "                p = 1\n",
    "                for x in smallest:\n",
    "                    p *= x\n",
    "                if len(smallest) <= p_min[2]:\n",
    "                    p_min[0] = min(p, p_min[0])\n",
    "                    p_min[1] = smallest[::]\n",
    "                    p_min[2] = len(smallest)\n",
    "                return\n",
    "\n",
    "        for i in range(4):\n",
    "            if subarrays[i][1] + arr[index] <= target_sum:\n",
    "                subarrays[i][0].append(arr[index])\n",
    "                subarrays[i][1] += arr[index]\n",
    "\n",
    "                backtrack(index + 1)\n",
    "\n",
    "                subarrays[i][0].pop()\n",
    "                subarrays[i][1] -= arr[index]\n",
    "\n",
    "    backtrack(0)\n",
    "    return p_min"
   ]
  },
  {
   "cell_type": "code",
   "execution_count": null,
   "id": "c72aed7b-91a9-4bff-ac62-a463d7486b5e",
   "metadata": {},
   "outputs": [],
   "source": [
    "array = [11, 9, 10, 8, 2, 7, 5, 4, 3, 1]\n",
    "\n",
    "result = split_array_equal_sum(array)\n",
    "\n",
    "result"
   ]
  },
  {
   "cell_type": "code",
   "execution_count": null,
   "id": "bacee28d-e2e7-4009-afb0-9c6c26d5dd79",
   "metadata": {},
   "outputs": [],
   "source": [
    "array = [int(x) for x in load(24).strip().split(\"\\n\")][::-1]\n",
    "\n",
    "result = split_array_equal_sum(array)\n",
    "\n",
    "result"
   ]
  },
  {
   "cell_type": "code",
   "execution_count": null,
   "id": "a1a4dcbb-3f32-401b-8a63-5feb99074152",
   "metadata": {},
   "outputs": [],
   "source": []
  }
 ],
 "metadata": {
  "kernelspec": {
   "display_name": "Python 3 (ipykernel)",
   "language": "python",
   "name": "python3"
  },
  "language_info": {
   "codemirror_mode": {
    "name": "ipython",
    "version": 3
   },
   "file_extension": ".py",
   "mimetype": "text/x-python",
   "name": "python",
   "nbconvert_exporter": "python",
   "pygments_lexer": "ipython3",
   "version": "3.11.0"
  }
 },
 "nbformat": 4,
 "nbformat_minor": 5
}
