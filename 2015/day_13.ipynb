{
 "cells": [
  {
   "cell_type": "code",
   "execution_count": 1,
   "id": "cb20f40d-7f03-4cba-a9de-4713aff02ddd",
   "metadata": {},
   "outputs": [],
   "source": [
    "%load_ext lab_black\n",
    "\n",
    "from puzzles import load"
   ]
  },
  {
   "cell_type": "code",
   "execution_count": 17,
   "id": "e566e273-f4e8-40a6-ab77-a1c93235507b",
   "metadata": {},
   "outputs": [
    {
     "data": {
      "text/plain": [
       "[['Alice', 'lose', '2', 'Bob'],\n",
       " ['Alice', 'lose', '62', 'Carol'],\n",
       " ['Alice', 'gain', '65', 'David'],\n",
       " ['Alice', 'gain', '21', 'Eric'],\n",
       " ['Alice', 'lose', '81', 'Frank'],\n",
       " ['Alice', 'lose', '4', 'George'],\n",
       " ['Alice', 'lose', '80', 'Mallory'],\n",
       " ['Bob', 'gain', '93', 'Alice'],\n",
       " ['Bob', 'gain', '19', 'Carol'],\n",
       " ['Bob', 'gain', '5', 'David'],\n",
       " ['Bob', 'gain', '49', 'Eric'],\n",
       " ['Bob', 'gain', '68', 'Frank'],\n",
       " ['Bob', 'gain', '23', 'George'],\n",
       " ['Bob', 'gain', '29', 'Mallory'],\n",
       " ['Carol', 'lose', '54', 'Alice'],\n",
       " ['Carol', 'lose', '70', 'Bob'],\n",
       " ['Carol', 'lose', '37', 'David'],\n",
       " ['Carol', 'lose', '46', 'Eric'],\n",
       " ['Carol', 'gain', '33', 'Frank'],\n",
       " ['Carol', 'lose', '35', 'George'],\n",
       " ['Carol', 'gain', '10', 'Mallory'],\n",
       " ['David', 'gain', '43', 'Alice'],\n",
       " ['David', 'lose', '96', 'Bob'],\n",
       " ['David', 'lose', '53', 'Carol'],\n",
       " ['David', 'lose', '30', 'Eric'],\n",
       " ['David', 'lose', '12', 'Frank'],\n",
       " ['David', 'gain', '75', 'George'],\n",
       " ['David', 'lose', '20', 'Mallory'],\n",
       " ['Eric', 'gain', '8', 'Alice'],\n",
       " ['Eric', 'lose', '89', 'Bob'],\n",
       " ['Eric', 'lose', '69', 'Carol'],\n",
       " ['Eric', 'lose', '34', 'David'],\n",
       " ['Eric', 'gain', '95', 'Frank'],\n",
       " ['Eric', 'gain', '34', 'George'],\n",
       " ['Eric', 'lose', '99', 'Mallory'],\n",
       " ['Frank', 'lose', '97', 'Alice'],\n",
       " ['Frank', 'gain', '6', 'Bob'],\n",
       " ['Frank', 'lose', '9', 'Carol'],\n",
       " ['Frank', 'gain', '56', 'David'],\n",
       " ['Frank', 'lose', '17', 'Eric'],\n",
       " ['Frank', 'gain', '18', 'George'],\n",
       " ['Frank', 'lose', '56', 'Mallory'],\n",
       " ['George', 'gain', '45', 'Alice'],\n",
       " ['George', 'gain', '76', 'Bob'],\n",
       " ['George', 'gain', '63', 'Carol'],\n",
       " ['George', 'gain', '54', 'David'],\n",
       " ['George', 'gain', '54', 'Eric'],\n",
       " ['George', 'gain', '30', 'Frank'],\n",
       " ['George', 'gain', '7', 'Mallory'],\n",
       " ['Mallory', 'gain', '31', 'Alice'],\n",
       " ['Mallory', 'lose', '32', 'Bob'],\n",
       " ['Mallory', 'gain', '95', 'Carol'],\n",
       " ['Mallory', 'gain', '91', 'David'],\n",
       " ['Mallory', 'lose', '66', 'Eric'],\n",
       " ['Mallory', 'lose', '75', 'Frank'],\n",
       " ['Mallory', 'lose', '99', 'George']]"
      ]
     },
     "execution_count": 17,
     "metadata": {},
     "output_type": "execute_result"
    }
   ],
   "source": [
    "lines = load(13).strip().split(\"\\n\")\n",
    "lines = [\n",
    "    [s for i, s in enumerate(line.split()) if i in [0, 2, 3, 10]] for line in lines\n",
    "]\n",
    "lines = [[y if i != 3 else y[:-1] for i, y in enumerate(x)] for x in lines]\n",
    "lines"
   ]
  },
  {
   "cell_type": "code",
   "execution_count": 19,
   "id": "d5858aaa-075d-4ed6-8550-a270b4f9b6d2",
   "metadata": {},
   "outputs": [
    {
     "data": {
      "text/plain": [
       "['Alice', 'Bob', 'Carol', 'David', 'Eric', 'Frank', 'George', 'Mallory']"
      ]
     },
     "execution_count": 19,
     "metadata": {},
     "output_type": "execute_result"
    }
   ],
   "source": [
    "names = sorted(set([x[0] for x in lines]) | set([x[-1] for x in lines]))\n",
    "names"
   ]
  },
  {
   "cell_type": "code",
   "execution_count": 20,
   "id": "06d7c904-cfb7-488c-a534-3d879d8b23b2",
   "metadata": {},
   "outputs": [],
   "source": [
    "import numpy as np"
   ]
  },
  {
   "cell_type": "code",
   "execution_count": 32,
   "id": "c34fa50d-1f30-47d1-b867-4cc0edf86e9a",
   "metadata": {},
   "outputs": [
    {
     "data": {
      "text/plain": [
       "array([[  0,  -2, -62,  65,  21, -81,  -4, -80],\n",
       "       [ 93,   0,  19,   5,  49,  68,  23,  29],\n",
       "       [-54, -70,   0, -37, -46,  33, -35,  10],\n",
       "       [ 43, -96, -53,   0, -30, -12,  75, -20],\n",
       "       [  8, -89, -69, -34,   0,  95,  34, -99],\n",
       "       [-97,   6,  -9,  56, -17,   0,  18, -56],\n",
       "       [ 45,  76,  63,  54,  54,  30,   0,   7],\n",
       "       [ 31, -32,  95,  91, -66, -75, -99,   0]])"
      ]
     },
     "execution_count": 32,
     "metadata": {},
     "output_type": "execute_result"
    }
   ],
   "source": [
    "W = np.zeros([len(names), len(names)], dtype=int)\n",
    "\n",
    "for line in lines:\n",
    "    i, j = names.index(line[0]), names.index(line[-1])\n",
    "    w = (1 if line[1] == \"gain\" else -1) * int(line[-2])\n",
    "    W[i, j] = w\n",
    "\n",
    "W"
   ]
  },
  {
   "cell_type": "code",
   "execution_count": 24,
   "id": "d58d4f6b-2172-480f-bc11-147c0bd86d93",
   "metadata": {},
   "outputs": [],
   "source": [
    "from itertools import permutations"
   ]
  },
  {
   "cell_type": "code",
   "execution_count": 33,
   "id": "a558a322-abbe-4cd4-868c-0884620085a7",
   "metadata": {},
   "outputs": [
    {
     "data": {
      "text/plain": [
       "664"
      ]
     },
     "execution_count": 33,
     "metadata": {},
     "output_type": "execute_result"
    }
   ],
   "source": [
    "max_hap = -1e6\n",
    "for x in permutations(names):\n",
    "    nms = list(x) + [x[0]]\n",
    "    happiness = sum(\n",
    "        [\n",
    "            W[names.index(n1), names.index(n2)] + W[names.index(n2), names.index(n1)]\n",
    "            for n1, n2 in zip(nms, nms[1:])\n",
    "        ]\n",
    "    )\n",
    "    if happiness > max_hap:\n",
    "        max_hap = happiness\n",
    "max_hap"
   ]
  },
  {
   "cell_type": "markdown",
   "id": "9e8e5767-159d-47c0-91d4-4ffd932baf3a",
   "metadata": {},
   "source": [
    "---"
   ]
  },
  {
   "cell_type": "code",
   "execution_count": 35,
   "id": "fbe3a256-97b9-47e1-9880-a5c6020cc28b",
   "metadata": {},
   "outputs": [],
   "source": [
    "names.append(\"Me\")"
   ]
  },
  {
   "cell_type": "code",
   "execution_count": 36,
   "id": "f5f9aa9e-3f30-4f7e-ac6a-abb435b7b880",
   "metadata": {},
   "outputs": [
    {
     "data": {
      "text/plain": [
       "['Alice', 'Bob', 'Carol', 'David', 'Eric', 'Frank', 'George', 'Mallory', 'Me']"
      ]
     },
     "execution_count": 36,
     "metadata": {},
     "output_type": "execute_result"
    }
   ],
   "source": [
    "names"
   ]
  },
  {
   "cell_type": "code",
   "execution_count": 43,
   "id": "f2d0ced7-3e04-469f-b44d-e11e2956dcbd",
   "metadata": {},
   "outputs": [],
   "source": [
    "WN = np.zeros([9, 9], int)\n",
    "WN[:-1, :-1] = W\n",
    "W = WN"
   ]
  },
  {
   "cell_type": "code",
   "execution_count": 44,
   "id": "c56e93b3-c2c5-4c00-86a9-7a12bf328c8a",
   "metadata": {},
   "outputs": [
    {
     "data": {
      "text/plain": [
       "array([[  0,  -2, -62,  65,  21, -81,  -4, -80,   0],\n",
       "       [ 93,   0,  19,   5,  49,  68,  23,  29,   0],\n",
       "       [-54, -70,   0, -37, -46,  33, -35,  10,   0],\n",
       "       [ 43, -96, -53,   0, -30, -12,  75, -20,   0],\n",
       "       [  8, -89, -69, -34,   0,  95,  34, -99,   0],\n",
       "       [-97,   6,  -9,  56, -17,   0,  18, -56,   0],\n",
       "       [ 45,  76,  63,  54,  54,  30,   0,   7,   0],\n",
       "       [ 31, -32,  95,  91, -66, -75, -99,   0,   0],\n",
       "       [  0,   0,   0,   0,   0,   0,   0,   0,   0]])"
      ]
     },
     "execution_count": 44,
     "metadata": {},
     "output_type": "execute_result"
    }
   ],
   "source": [
    "W"
   ]
  },
  {
   "cell_type": "code",
   "execution_count": 45,
   "id": "f4b5a441-5ef4-4972-b3cd-e48746a2b8eb",
   "metadata": {},
   "outputs": [
    {
     "data": {
      "text/plain": [
       "640"
      ]
     },
     "execution_count": 45,
     "metadata": {},
     "output_type": "execute_result"
    }
   ],
   "source": [
    "max_hap = -1e6\n",
    "for x in permutations(names):\n",
    "    nms = list(x) + [x[0]]\n",
    "    happiness = sum(\n",
    "        [\n",
    "            W[names.index(n1), names.index(n2)] + W[names.index(n2), names.index(n1)]\n",
    "            for n1, n2 in zip(nms, nms[1:])\n",
    "        ]\n",
    "    )\n",
    "    if happiness > max_hap:\n",
    "        max_hap = happiness\n",
    "max_hap"
   ]
  }
 ],
 "metadata": {
  "kernelspec": {
   "display_name": "platy-segmentation",
   "language": "python",
   "name": "platy-segmentation"
  },
  "language_info": {
   "codemirror_mode": {
    "name": "ipython",
    "version": 3
   },
   "file_extension": ".py",
   "mimetype": "text/x-python",
   "name": "python",
   "nbconvert_exporter": "python",
   "pygments_lexer": "ipython3",
   "version": "3.9.6"
  }
 },
 "nbformat": 4,
 "nbformat_minor": 5
}
