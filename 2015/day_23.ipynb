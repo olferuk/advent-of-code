{
 "cells": [
  {
   "cell_type": "code",
   "execution_count": 1,
   "id": "324a32c7-51b4-4b36-8c62-0607ea7e11ae",
   "metadata": {},
   "outputs": [],
   "source": [
    "%load_ext lab_black"
   ]
  },
  {
   "cell_type": "code",
   "execution_count": 26,
   "id": "48782a9a-7414-4f67-b0b9-cbdd7e296632",
   "metadata": {},
   "outputs": [],
   "source": [
    "from puzzles import load"
   ]
  },
  {
   "cell_type": "markdown",
   "id": "2b27301c-5bc8-4a3f-88ce-8721501a2391",
   "metadata": {},
   "source": [
    "`hlf r` sets register r to half its current value, then continues with the next instruction.\n",
    "\n",
    "`tpl r` sets register r to triple its current value, then continues with the next instruction.\n",
    "\n",
    "`inc r` increments register r, adding 1 to it, then continues with the next instruction.\n",
    "\n",
    "`jmp offset` is a jump; it continues with the instruction offset away relative to itself.\n",
    "\n",
    "`jie r`, offset is like jmp, but only jumps if register r is even (\"jump if even\").\n",
    "\n",
    "`jio r`, offset is like jmp, but only jumps if register r is 1 (\"jump if one\", not odd).\n"
   ]
  },
  {
   "cell_type": "code",
   "execution_count": 35,
   "id": "1fd775c6-8ef0-4859-b024-3cd8259af5d4",
   "metadata": {},
   "outputs": [],
   "source": [
    "def inc_a(d):\n",
    "    def f():\n",
    "        d[\"a\"] += 1\n",
    "        d[\"i\"] += 1\n",
    "\n",
    "    return f\n",
    "\n",
    "\n",
    "def inc_b(d):\n",
    "    def f():\n",
    "        d[\"b\"] += 1\n",
    "        d[\"i\"] += 1\n",
    "\n",
    "    return f\n",
    "\n",
    "\n",
    "def hlf_a(d):\n",
    "    def f():\n",
    "        d[\"a\"] //= 2\n",
    "        d[\"i\"] += 1\n",
    "\n",
    "    return f\n",
    "\n",
    "\n",
    "def hlf_b(d):\n",
    "    def f():\n",
    "        d[\"b\"] //= 2\n",
    "        d[\"i\"] += 1\n",
    "\n",
    "    return f\n",
    "\n",
    "\n",
    "def tpl_a(d):\n",
    "    def f():\n",
    "        d[\"a\"] *= 3\n",
    "        d[\"i\"] += 1\n",
    "\n",
    "    return f\n",
    "\n",
    "\n",
    "def tpl_b(d):\n",
    "    def f():\n",
    "        d[\"b\"] *= 3\n",
    "        d[\"i\"] += 1\n",
    "\n",
    "    return f\n",
    "\n",
    "\n",
    "def jmp(d, offset):\n",
    "    def f():\n",
    "        d[\"i\"] += offset\n",
    "\n",
    "    return f\n",
    "\n",
    "\n",
    "def jie(d, register, offset):\n",
    "    def f():\n",
    "        if d[register] % 2 == 0:\n",
    "            d[\"i\"] += offset\n",
    "        else:\n",
    "            d[\"i\"] += 1\n",
    "\n",
    "    return f\n",
    "\n",
    "\n",
    "def jio(d, register, offset):\n",
    "    def f():\n",
    "        if d[register] == 1:\n",
    "            d[\"i\"] += offset\n",
    "        else:\n",
    "            d[\"i\"] += 1\n",
    "\n",
    "    return f"
   ]
  },
  {
   "cell_type": "code",
   "execution_count": 36,
   "id": "9e7431f1-3b2e-423b-abcd-a8160d9e18a8",
   "metadata": {},
   "outputs": [],
   "source": [
    "def parse_commands(cmds, d):\n",
    "    result = []\n",
    "    for cmd in cmds:\n",
    "        if cmd == \"inc a\":\n",
    "            result.append(inc_a(d))\n",
    "        elif cmd == \"inc b\":\n",
    "            result.append(inc_b(d))\n",
    "        elif cmd == \"tpl a\":\n",
    "            result.append(tpl_a(d))\n",
    "        elif cmd == \"tpl b\":\n",
    "            result.append(tpl_b(d))\n",
    "        elif cmd == \"hlf a\":\n",
    "            result.append(hlf_a(d))\n",
    "        elif cmd == \"hlf b\":\n",
    "            result.append(hlf_b())\n",
    "        elif cmd.startswith(\"jmp\"):\n",
    "            _, offset = cmd.split()\n",
    "            offset = int(offset)\n",
    "            result.append(jmp(d, offset))\n",
    "        elif cmd.startswith(\"jie\"):\n",
    "            _, reg, offset = cmd.split()\n",
    "            reg = reg[:-1]\n",
    "            offset = int(offset)\n",
    "            result.append(jie(d, reg, offset))\n",
    "        elif cmd.startswith(\"jio\"):\n",
    "            _, reg, offset = cmd.split()\n",
    "            reg = reg[:-1]\n",
    "            offset = int(offset)\n",
    "            result.append(jio(d, reg, offset))\n",
    "        else:\n",
    "            raise ValueError(f\"Unknown command: {cmd}\")\n",
    "    return result"
   ]
  },
  {
   "cell_type": "code",
   "execution_count": 47,
   "id": "cbb3aa58-5c07-4c39-ab70-94e7b5a27173",
   "metadata": {},
   "outputs": [
    {
     "ename": "IndexError",
     "evalue": "list index out of range",
     "output_type": "error",
     "traceback": [
      "\u001b[0;31m---------------------------------------------------------------------------\u001b[0m",
      "\u001b[0;31mIndexError\u001b[0m                                Traceback (most recent call last)",
      "Cell \u001b[0;32mIn[47], line 15\u001b[0m\n\u001b[1;32m     12\u001b[0m executor \u001b[38;5;241m=\u001b[39m parse_commands(cmds, d)\n\u001b[1;32m     14\u001b[0m \u001b[38;5;28;01mwhile\u001b[39;00m \u001b[38;5;28;01mTrue\u001b[39;00m:\n\u001b[0;32m---> 15\u001b[0m     \u001b[43mexecutor\u001b[49m\u001b[43m[\u001b[49m\u001b[43md\u001b[49m\u001b[43m[\u001b[49m\u001b[38;5;124;43m\"\u001b[39;49m\u001b[38;5;124;43mi\u001b[39;49m\u001b[38;5;124;43m\"\u001b[39;49m\u001b[43m]\u001b[49m\u001b[43m]\u001b[49m()\n",
      "\u001b[0;31mIndexError\u001b[0m: list index out of range"
     ]
    }
   ],
   "source": [
    "d = {\"a\": 1, \"b\": 0, \"i\": 0, \"as\": [], \"bs\": []}\n",
    "\n",
    "cmds = load(23).strip().split(\"\\n\")\n",
    "\n",
    "# cmds = \"\"\"inc a\n",
    "# jio a, +2\n",
    "# tpl a\n",
    "# inc a\"\"\".split(\n",
    "#     \"\\n\"\n",
    "# )\n",
    "\n",
    "executor = parse_commands(cmds, d)\n",
    "\n",
    "while True:\n",
    "    executor[d[\"i\"]]()"
   ]
  },
  {
   "cell_type": "code",
   "execution_count": 48,
   "id": "6e483fec-00e6-42b2-b301-f201cbd6382d",
   "metadata": {},
   "outputs": [],
   "source": [
    "import matplotlib.pyplot as plt"
   ]
  },
  {
   "cell_type": "code",
   "execution_count": 49,
   "id": "3e897106-cfed-47b7-bac4-fc0f4aa81654",
   "metadata": {},
   "outputs": [
    {
     "data": {
      "text/plain": [
       "[<matplotlib.lines.Line2D at 0x10a9f7df0>]"
      ]
     },
     "execution_count": 49,
     "metadata": {},
     "output_type": "execute_result"
    },
    {
     "data": {
      "image/png": "[encoded data removed]",
      "text/plain": [
       "<Figure size 640x480 with 1 Axes>"
      ]
     },
     "metadata": {},
     "output_type": "display_data"
    }
   ],
   "source": [
    "plt.plot(d[\"as\"])"
   ]
  },
  {
   "cell_type": "code",
   "execution_count": null,
   "id": "572f44da-8c33-43c5-be50-30bb35d458de",
   "metadata": {},
   "outputs": [],
   "source": []
  }
 ],
 "metadata": {
  "kernelspec": {
   "display_name": "Python 3 (ipykernel)",
   "language": "python",
   "name": "python3"
  },
  "language_info": {
   "codemirror_mode": {
    "name": "ipython",
    "version": 3
   },
   "file_extension": ".py",
   "mimetype": "text/x-python",
   "name": "python",
   "nbconvert_exporter": "python",
   "pygments_lexer": "ipython3",
   "version": "3.10.9"
  }
 },
 "nbformat": 4,
 "nbformat_minor": 5
}
