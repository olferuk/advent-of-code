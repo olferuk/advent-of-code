{
 "cells": [
  {
   "cell_type": "code",
   "execution_count": 1,
   "id": "372ffde0-f4e3-49c2-a226-b66d0ecd228d",
   "metadata": {},
   "outputs": [],
   "source": [
    "%load_ext lab_black\n",
    "\n",
    "from puzzles import load"
   ]
  },
  {
   "cell_type": "markdown",
   "id": "a6aa398e-f9f1-4681-8f33-342ffb1c13fc",
   "metadata": {},
   "source": [
    "Santa is trying to deliver presents in a large apartment building, but he can't find the right floor - the directions he got are a little confusing. He starts on the ground floor (floor 0) and then follows the instructions one character at a time.\n",
    "\n",
    "An opening parenthesis, (, means he should go up one floor, and a closing parenthesis, ), means he should go down one floor.\n",
    "\n",
    "The apartment building is very tall, and the basement is very deep; he will never find the top or bottom floors.\n",
    "\n",
    "For example:\n",
    "\n",
    "* (()) and ()() both result in floor 0.\n",
    "* ((( and (()(()( both result in floor 3.\n",
    "* ))((((( also results in floor 3.\n",
    "* ()) and ))( both result in floor -1 (the first basement level).\n",
    "* ))) and )())()) both result in floor -3.\n",
    "\n",
    "To what floor do the instructions take Santa?\n",
    "\n"
   ]
  },
  {
   "cell_type": "code",
   "execution_count": 4,
   "id": "cee62be4-2283-4c0d-ba6a-df6b83fb6489",
   "metadata": {},
   "outputs": [
    {
     "data": {
      "text/plain": [
       "280"
      ]
     },
     "execution_count": 4,
     "metadata": {},
     "output_type": "execute_result"
    }
   ],
   "source": [
    "floor = 0\n",
    "for c in load(1):\n",
    "    floor += 1 if c == \"(\" else -1\n",
    "floor"
   ]
  },
  {
   "cell_type": "markdown",
   "id": "028813fc-9ab1-4134-afd8-99b06c2fef0b",
   "metadata": {},
   "source": [
    "Now, given the same instructions, find the position of the first character that causes him to enter the basement (floor -1). The first character in the instructions has position 1, the second character has position 2, and so on.\n",
    "\n",
    "For example:\n",
    "\n",
    "* ) causes him to enter the basement at character position 1.\n",
    "* ()()) causes him to enter the basement at character position 5.\n",
    "\n",
    "What is the position of the character that causes Santa to first enter the basement?\n",
    "\n"
   ]
  },
  {
   "cell_type": "code",
   "execution_count": 5,
   "id": "0cd5e292-8730-4204-bba1-5faa81b94ebc",
   "metadata": {},
   "outputs": [
    {
     "name": "stdout",
     "output_type": "stream",
     "text": [
      "1797\n"
     ]
    }
   ],
   "source": [
    "floor = 0\n",
    "for i, c in enumerate(load(1)):\n",
    "    floor += 1 if c == \"(\" else -1\n",
    "    if floor == -1:\n",
    "        print(i + 1)\n",
    "        break"
   ]
  }
 ],
 "metadata": {
  "kernelspec": {
   "display_name": "platy-segmentation",
   "language": "python",
   "name": "platy-segmentation"
  },
  "language_info": {
   "codemirror_mode": {
    "name": "ipython",
    "version": 3
   },
   "file_extension": ".py",
   "mimetype": "text/x-python",
   "name": "python",
   "nbconvert_exporter": "python",
   "pygments_lexer": "ipython3",
   "version": "3.9.6"
  }
 },
 "nbformat": 4,
 "nbformat_minor": 5
}
