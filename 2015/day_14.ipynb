{
 "cells": [
  {
   "cell_type": "code",
   "execution_count": 10,
   "id": "fcd311ec-8b5e-45fe-9f82-739059e04a90",
   "metadata": {},
   "outputs": [
    {
     "name": "stdout",
     "output_type": "stream",
     "text": [
      "The lab_black extension is already loaded. To reload it, use:\n",
      "  %reload_ext lab_black\n"
     ]
    }
   ],
   "source": [
    "%load_ext lab_black\n",
    "\n",
    "from puzzles import load\n",
    "\n",
    "import numpy as np\n",
    "import re"
   ]
  },
  {
   "cell_type": "code",
   "execution_count": 11,
   "id": "a11e60db-4df6-4017-9412-ac0f05ee6d5b",
   "metadata": {},
   "outputs": [],
   "source": [
    "s = load(14)"
   ]
  },
  {
   "cell_type": "code",
   "execution_count": 57,
   "id": "19982d5f-fba4-465f-8260-be6d004510be",
   "metadata": {},
   "outputs": [
    {
     "data": {
      "text/plain": [
       "array([[ 22,   8, 165],\n",
       "       [  8,  17, 114],\n",
       "       [ 18,   6, 103],\n",
       "       [ 25,   6, 145],\n",
       "       [ 11,  12, 125],\n",
       "       [ 21,   6, 121],\n",
       "       [ 18,   3,  50],\n",
       "       [ 20,   4,  75],\n",
       "       [  7,  20, 119]])"
      ]
     },
     "execution_count": 57,
     "metadata": {},
     "output_type": "execute_result"
    }
   ],
   "source": [
    "deers = np.array([re.findall(r\"\\d+\", x) for x in s.strip().split(\"\\n\")]).astype(int)\n",
    "deers"
   ]
  },
  {
   "cell_type": "code",
   "execution_count": 58,
   "id": "19416378-f4ff-4204-ba0d-bd777d930138",
   "metadata": {},
   "outputs": [],
   "source": [
    "T = 2503"
   ]
  },
  {
   "cell_type": "code",
   "execution_count": 59,
   "id": "03be5a87-4ee5-4245-96be-fd7f29c49cf7",
   "metadata": {},
   "outputs": [
    {
     "data": {
      "text/plain": [
       "array([176, 136, 108, 150, 132, 126,  54,  80, 140])"
      ]
     },
     "execution_count": 59,
     "metadata": {},
     "output_type": "execute_result"
    }
   ],
   "source": [
    "S = deers[:, 1] * deers[:, 0]\n",
    "S"
   ]
  },
  {
   "cell_type": "code",
   "execution_count": 60,
   "id": "ad02ac52-f9cb-4bae-ad4e-cca1b1f5b5f7",
   "metadata": {},
   "outputs": [
    {
     "data": {
      "text/plain": [
       "array([173, 131, 109, 151, 137, 127,  53,  79, 139])"
      ]
     },
     "execution_count": 60,
     "metadata": {},
     "output_type": "execute_result"
    }
   ],
   "source": [
    "Ts = deers[:, 1] + deers[:, 2]\n",
    "Ts"
   ]
  },
  {
   "cell_type": "code",
   "execution_count": 61,
   "id": "7409b1b0-88f9-454d-8b99-288761e1978f",
   "metadata": {},
   "outputs": [
    {
     "data": {
      "text/plain": [
       "array([14, 19, 22, 16, 18, 19, 47, 31, 18])"
      ]
     },
     "execution_count": 61,
     "metadata": {},
     "output_type": "execute_result"
    }
   ],
   "source": [
    "N_ts = T // Ts\n",
    "N_ts"
   ]
  },
  {
   "cell_type": "code",
   "execution_count": 62,
   "id": "ede7a27e-e5e1-4de3-b32a-5555b421f5cb",
   "metadata": {},
   "outputs": [
    {
     "data": {
      "text/plain": [
       "2696"
      ]
     },
     "execution_count": 62,
     "metadata": {},
     "output_type": "execute_result"
    }
   ],
   "source": [
    "Rs = np.array([T - N_ts * Ts, deers[:, 1]]).min(axis=0) * deers[:, 0]\n",
    "(N_ts * S + Rs).max()"
   ]
  },
  {
   "cell_type": "markdown",
   "id": "484c6944-1ca9-4e3a-a810-dc95a0476ddf",
   "metadata": {},
   "source": [
    "---"
   ]
  },
  {
   "cell_type": "code",
   "execution_count": 65,
   "id": "f5d43fb5-cc3c-4c59-8641-4167f8f7f5a3",
   "metadata": {},
   "outputs": [],
   "source": [
    "import pandas as pd\n",
    "\n",
    "from tqdm import tqdm"
   ]
  },
  {
   "cell_type": "code",
   "execution_count": 376,
   "id": "3d673f13-1089-4e12-8299-c937c2537a57",
   "metadata": {},
   "outputs": [
    {
     "name": "stderr",
     "output_type": "stream",
     "text": [
      "100%|██████████████████████████████████████████████████████████████████████████████████████| 2503/2503 [00:18<00:00, 135.57it/s]\n"
     ]
    }
   ],
   "source": [
    "df = pd.DataFrame(deers, columns=[\"v\", \"t_run\", \"t_rest\"])\n",
    "\n",
    "df[\"is_running\"] = 1\n",
    "df[\"t_run_left\"] = df[\"t_run\"]\n",
    "df[\"t_rest_left\"] = df[\"t_rest\"]\n",
    "\n",
    "df[\"traveled\"] = 0\n",
    "df[\"score\"] = 0\n",
    "\n",
    "for t in tqdm(range(T)):\n",
    "    running = df[\"is_running\"] == 1\n",
    "    resting = df[\"is_running\"] == 0\n",
    "\n",
    "    df.loc[running, \"traveled\"] += df.loc[running, \"v\"]\n",
    "    df.loc[running, \"t_run_left\"] -= 1\n",
    "\n",
    "    tired = (df[\"t_run_left\"] == 0) & running\n",
    "    df.loc[tired, \"is_running\"] = 0\n",
    "    df.loc[tired, \"t_rest_left\"] = df.loc[tired, \"t_rest\"]\n",
    "\n",
    "    df.loc[resting, \"t_rest_left\"] -= 1\n",
    "\n",
    "    ready = (df[\"t_rest_left\"] == 0) & resting\n",
    "    df.loc[ready, \"is_running\"] = 1\n",
    "    df.loc[ready, \"t_run_left\"] = df.loc[ready, \"t_run\"]\n",
    "\n",
    "    df.loc[df[\"traveled\"] == df[\"traveled\"].max(), \"score\"] += 1"
   ]
  },
  {
   "cell_type": "code",
   "execution_count": 377,
   "id": "ff1a67d2-6bfa-46c8-becd-be94799387cf",
   "metadata": {},
   "outputs": [
    {
     "data": {
      "text/plain": [
       "1084"
      ]
     },
     "execution_count": 377,
     "metadata": {},
     "output_type": "execute_result"
    }
   ],
   "source": [
    "df[\"score\"].max()"
   ]
  }
 ],
 "metadata": {
  "kernelspec": {
   "display_name": "platy-segmentation",
   "language": "python",
   "name": "platy-segmentation"
  },
  "language_info": {
   "codemirror_mode": {
    "name": "ipython",
    "version": 3
   },
   "file_extension": ".py",
   "mimetype": "text/x-python",
   "name": "python",
   "nbconvert_exporter": "python",
   "pygments_lexer": "ipython3",
   "version": "3.9.6"
  }
 },
 "nbformat": 4,
 "nbformat_minor": 5
}
