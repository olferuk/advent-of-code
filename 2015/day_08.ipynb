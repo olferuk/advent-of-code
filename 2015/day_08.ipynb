{
 "cells": [
  {
   "cell_type": "code",
   "execution_count": 1,
   "id": "7c9c9bcb-0152-4069-a65d-d03c54382767",
   "metadata": {},
   "outputs": [],
   "source": [
    "%load_ext lab_black\n",
    "\n",
    "from puzzles import load"
   ]
  },
  {
   "cell_type": "markdown",
   "id": "4c73e248-98ea-4bb3-8540-7e7a1216c4fa",
   "metadata": {},
   "source": [
    "**--- Day 8: Matchsticks ---**\n",
    "\n",
    "Space on the sleigh is limited this year, and so Santa will be bringing his list as a digital copy. He needs to know how much space it will take up when stored.\n",
    "\n",
    "It is common in many programming languages to provide a way to escape special characters in strings. For example, C, JavaScript, Perl, Python, and even PHP handle special characters in very similar ways.\n",
    "\n",
    "However, it is important to realize the difference between the number of characters in the code representation of the string literal and the number of characters in the in-memory string itself.\n",
    "\n",
    "For example:\n",
    "\n",
    "- \"\" is 2 characters of code (the two double quotes), but the string contains zero characters.\n",
    "- \"abc\" is 5 characters of code, but 3 characters in the string data.\n",
    "- \"aaa\\\"aaa\" is 10 characters of code, but the string itself contains six \"a\" characters and a single, escaped quote character, for a total of 7 characters in the string data.\n",
    "- \"\\x27\" is 6 characters of code, but the string itself contains just one - an apostrophe ('), escaped using hexadecimal notation.\n",
    "\n",
    "Santa's list is a file that contains many double-quoted string literals, one on each line. The only escape sequences used are \\\\ (which represents a single backslash), \\\" (which represents a lone double-quote character), and \\x plus two hexadecimal characters (which represents a single character with that ASCII code).\n",
    "\n",
    "Disregarding the whitespace in the file, what is the number of characters of code for string literals minus the number of characters in memory for the values of the strings in total for the entire file?\n",
    "\n",
    "For example, given the four strings above, the total number of characters of string code (2 + 5 + 10 + 6 = 23) minus the total number of characters in memory for string values (0 + 3 + 7 + 1 = 11) is 23 - 11 = 12.\n",
    "\n"
   ]
  },
  {
   "cell_type": "code",
   "execution_count": 10,
   "id": "eccb7198-aaad-43af-8203-854cc4c64847",
   "metadata": {},
   "outputs": [],
   "source": [
    "import re"
   ]
  },
  {
   "cell_type": "code",
   "execution_count": 16,
   "id": "5a9e7e4f-e18a-46a9-ad4d-158ebea318ee",
   "metadata": {},
   "outputs": [
    {
     "data": {
      "text/plain": [
       "1333"
      ]
     },
     "execution_count": 16,
     "metadata": {},
     "output_type": "execute_result"
    }
   ],
   "source": [
    "reg = re.compile(r'(\\\\\"|\\\\\\\\|\\\\x[0-9a-f]{2})')\n",
    "\n",
    "N_total = 0\n",
    "N_data = 0\n",
    "\n",
    "for line in load(8).strip().split(\"\\n\"):\n",
    "    n_t = len(line)\n",
    "\n",
    "    n_escaped = len(reg.findall(line))\n",
    "    line_wo_escaped = reg.sub(\"\", line)\n",
    "    n_data = len(line_wo_escaped[1:-1])\n",
    "\n",
    "    N_total += n_t\n",
    "    N_data += n_data + n_escaped\n",
    "\n",
    "N_total - N_data"
   ]
  },
  {
   "cell_type": "markdown",
   "id": "b231b3e8-69ff-4732-8587-3f86935abd09",
   "metadata": {},
   "source": [
    "**--- Part Two ---**\n",
    "\n",
    "Now, let's go the other way. In addition to finding the number of characters of code, you should now encode each code representation as a new string and find the number of characters of the new encoded representation, including the surrounding double quotes.\n",
    "\n",
    "For example:\n",
    "\n",
    "- `\"\"` encodes to `\"\\\"\\\"\"`, an increase from 2 characters to 6.\n",
    "- `\"abc\"` encodes to `\"\\\"abc\\\"\"`, an increase from 5 characters to 9.\n",
    "- `\"aaa\\\"aaa\"` encodes to `\"\\\"aaa\\\\\\\"aaa\\\"\"`, an increase from 10 characters to 16.\n",
    "- `\"\\x27\"` encodes to `\"\\\"\\\\x27\\\"\"`, an increase from 6 characters to 11.\n",
    "\n",
    "Your task is to find the total number of characters to represent the newly encoded strings minus the number of characters of code in each original string literal. For example, for the strings above, the total encoded length (6 + 9 + 16 + 11 = 42) minus the characters in the original code representation (23, just like in the first part of this puzzle) is 42 - 23 = 19.\n",
    "\n"
   ]
  },
  {
   "cell_type": "code",
   "execution_count": 22,
   "id": "10aed56b-af3b-42cb-ad65-8499604347e2",
   "metadata": {},
   "outputs": [
    {
     "data": {
      "text/plain": [
       "2046"
      ]
     },
     "execution_count": 22,
     "metadata": {},
     "output_type": "execute_result"
    }
   ],
   "source": [
    "N_total = 0\n",
    "N_new = 0\n",
    "\n",
    "# \" -> \\\"\n",
    "# \\\" -> \\\\\\\"\n",
    "\n",
    "for line in load(8).strip().split(\"\\n\"):\n",
    "    N_total += len(line)\n",
    "\n",
    "    n = 0\n",
    "    for c in line:\n",
    "        if c == '\"':\n",
    "            n += 2\n",
    "        elif c == \"\\\\\":\n",
    "            n += 2\n",
    "        else:\n",
    "            n += 1\n",
    "    N_new += n + 2\n",
    "\n",
    "N_new - N_total"
   ]
  }
 ],
 "metadata": {
  "kernelspec": {
   "display_name": "platy-segmentation",
   "language": "python",
   "name": "platy-segmentation"
  },
  "language_info": {
   "codemirror_mode": {
    "name": "ipython",
    "version": 3
   },
   "file_extension": ".py",
   "mimetype": "text/x-python",
   "name": "python",
   "nbconvert_exporter": "python",
   "pygments_lexer": "ipython3",
   "version": "3.9.6"
  }
 },
 "nbformat": 4,
 "nbformat_minor": 5
}
