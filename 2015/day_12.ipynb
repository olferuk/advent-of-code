{
 "cells": [
  {
   "cell_type": "code",
   "execution_count": 1,
   "id": "948efc16-284c-4a82-a41f-f3e4930ad449",
   "metadata": {},
   "outputs": [],
   "source": [
    "%load_ext lab_black\n",
    "\n",
    "from puzzles import load"
   ]
  },
  {
   "cell_type": "code",
   "execution_count": 5,
   "id": "d509f654-de57-4912-889d-f2ddbe036a7a",
   "metadata": {},
   "outputs": [],
   "source": [
    "import json"
   ]
  },
  {
   "cell_type": "code",
   "execution_count": 28,
   "id": "e911eb91-09f2-4dd3-acf8-a38883bae42e",
   "metadata": {},
   "outputs": [],
   "source": [
    "def summate(js):\n",
    "\n",
    "    if type(js) == int:\n",
    "        return js\n",
    "\n",
    "    elif type(js) == list:\n",
    "        return sum([summate(x) for x in js])\n",
    "\n",
    "    elif type(js) == dict:\n",
    "        return sum([summate(x) for x in js.values()])\n",
    "\n",
    "    return 0"
   ]
  },
  {
   "cell_type": "code",
   "execution_count": 29,
   "id": "1873db54-63fd-49c6-977c-16f0c683aa41",
   "metadata": {},
   "outputs": [
    {
     "data": {
      "text/plain": [
       "156366"
      ]
     },
     "execution_count": 29,
     "metadata": {},
     "output_type": "execute_result"
    }
   ],
   "source": [
    "js = json.loads(load(12))\n",
    "\n",
    "sum([summate(j) for j in js])"
   ]
  },
  {
   "cell_type": "markdown",
   "id": "1f74fb55-b92e-4511-aada-5daa4f172f35",
   "metadata": {},
   "source": [
    "---"
   ]
  },
  {
   "cell_type": "code",
   "execution_count": 30,
   "id": "f98e6d61-4552-45f8-a9b9-287e2da865f4",
   "metadata": {},
   "outputs": [],
   "source": [
    "def summate_not_red(js):\n",
    "\n",
    "    if type(js) == int:\n",
    "        return js\n",
    "\n",
    "    elif type(js) == list:\n",
    "        return sum([summate_not_red(x) for x in js])\n",
    "\n",
    "    elif type(js) == dict:\n",
    "        fail = False\n",
    "        s = 0\n",
    "        for v in js.values():\n",
    "            if type(v) == str and v == \"red\":\n",
    "                fail = True\n",
    "                break\n",
    "            s += summate_not_red(v)\n",
    "        return 0 if fail else s\n",
    "\n",
    "    return 0"
   ]
  },
  {
   "cell_type": "code",
   "execution_count": 31,
   "id": "04ab7db0-a322-47a9-992e-18255b94e742",
   "metadata": {},
   "outputs": [
    {
     "data": {
      "text/plain": [
       "96852"
      ]
     },
     "execution_count": 31,
     "metadata": {},
     "output_type": "execute_result"
    }
   ],
   "source": [
    "js = json.loads(load(12))\n",
    "\n",
    "sum([summate_not_red(j) for j in js])"
   ]
  }
 ],
 "metadata": {
  "kernelspec": {
   "display_name": "platy-segmentation",
   "language": "python",
   "name": "platy-segmentation"
  },
  "language_info": {
   "codemirror_mode": {
    "name": "ipython",
    "version": 3
   },
   "file_extension": ".py",
   "mimetype": "text/x-python",
   "name": "python",
   "nbconvert_exporter": "python",
   "pygments_lexer": "ipython3",
   "version": "3.9.6"
  }
 },
 "nbformat": 4,
 "nbformat_minor": 5
}
