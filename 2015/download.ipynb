{
 "cells": [
  {
   "cell_type": "code",
   "execution_count": 1,
   "id": "23509825-7075-4de3-88a5-45fc7f3b189b",
   "metadata": {},
   "outputs": [],
   "source": [
    "!cp ../puzzles.py ."
   ]
  },
  {
   "cell_type": "code",
   "execution_count": 2,
   "id": "ba816ef4-574e-4e1b-a8c2-6b987f3bfaa9",
   "metadata": {},
   "outputs": [],
   "source": [
    "from puzzles import download_puzzle"
   ]
  },
  {
   "cell_type": "code",
   "execution_count": 4,
   "id": "e702ccc9-0c0f-40df-8f17-e1d020315bdb",
   "metadata": {},
   "outputs": [],
   "source": [
    "!mkdir data"
   ]
  },
  {
   "cell_type": "code",
   "execution_count": 5,
   "id": "2aa0c822-f41b-47ca-b6d8-30fc5307fa4a",
   "metadata": {},
   "outputs": [],
   "source": [
    "for n in range(1, 26):\n",
    "    text = download_puzzle(n, year=2015)\n",
    "    with open(f'data/{n:02d}.txt', 'w') as f:\n",
    "        f.write(text)\n",
    "    "
   ]
  }
 ],
 "metadata": {
  "kernelspec": {
   "display_name": "platy-segmentation",
   "language": "python",
   "name": "platy-segmentation"
  },
  "language_info": {
   "codemirror_mode": {
    "name": "ipython",
    "version": 3
   },
   "file_extension": ".py",
   "mimetype": "text/x-python",
   "name": "python",
   "nbconvert_exporter": "python",
   "pygments_lexer": "ipython3",
   "version": "3.9.6"
  }
 },
 "nbformat": 4,
 "nbformat_minor": 5
}
