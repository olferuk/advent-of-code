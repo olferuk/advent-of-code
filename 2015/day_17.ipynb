{
 "cells": [
  {
   "cell_type": "code",
   "execution_count": 2,
   "id": "af62eb43-b7ec-4b81-bd54-d11b58e5584e",
   "metadata": {},
   "outputs": [
    {
     "name": "stdout",
     "output_type": "stream",
     "text": [
      "The lab_black extension is already loaded. To reload it, use:\n",
      "  %reload_ext lab_black\n"
     ]
    }
   ],
   "source": [
    "%load_ext lab_black\n",
    "\n",
    "from puzzles import load"
   ]
  },
  {
   "cell_type": "code",
   "execution_count": 85,
   "id": "6b1a4bc1-2b03-4b65-8dd7-dc897b8eb67a",
   "metadata": {},
   "outputs": [
    {
     "data": {
      "text/plain": [
       "[1, 6, 13, 13, 14, 16, 18, 18, 20, 24, 30, 33, 35, 35, 41, 42, 44, 45, 48, 50]"
      ]
     },
     "execution_count": 85,
     "metadata": {},
     "output_type": "execute_result"
    }
   ],
   "source": [
    "buckets = sorted(np.array(load(17).strip().split(\"\\n\")).astype(int))\n",
    "buckets"
   ]
  },
  {
   "cell_type": "code",
   "execution_count": 86,
   "id": "6d7ab4c2-753a-4adc-afc0-5f656067b810",
   "metadata": {},
   "outputs": [],
   "source": [
    "from dataclasses import dataclass"
   ]
  },
  {
   "cell_type": "code",
   "execution_count": 88,
   "id": "ab303387-6046-4f39-9d88-dbc404f3c97f",
   "metadata": {},
   "outputs": [],
   "source": [
    "@dataclass(frozen=True)\n",
    "class Bucket:\n",
    "    value: int\n",
    "    letter: str\n",
    "    "
   ]
  },
  {
   "cell_type": "code",
   "execution_count": 89,
   "id": "60c1b5c6-8578-4bc3-a428-e8509174b798",
   "metadata": {},
   "outputs": [
    {
     "data": {
      "text/plain": [
       "'A'"
      ]
     },
     "execution_count": 89,
     "metadata": {},
     "output_type": "execute_result"
    }
   ],
   "source": [
    "chr(65)"
   ]
  },
  {
   "cell_type": "code",
   "execution_count": 91,
   "id": "562807dd-47ee-4d9f-9324-8fc88c9fa491",
   "metadata": {},
   "outputs": [],
   "source": [
    "bs = [Bucket(x, chr(l)) for x, l in zip(buckets, range(65, 255))]"
   ]
  },
  {
   "cell_type": "code",
   "execution_count": 97,
   "id": "4ed4e0af-929b-405a-82c2-ca3dc9c6c974",
   "metadata": {},
   "outputs": [
    {
     "data": {
      "text/plain": [
       "False"
      ]
     },
     "execution_count": 97,
     "metadata": {},
     "output_type": "execute_result"
    }
   ],
   "source": [
    "bs[2] == bs[3]"
   ]
  },
  {
   "cell_type": "code",
   "execution_count": 101,
   "id": "b0471224-2c4c-4b6b-9b7e-180601922c11",
   "metadata": {},
   "outputs": [
    {
     "data": {
      "text/plain": [
       "True"
      ]
     },
     "execution_count": 101,
     "metadata": {},
     "output_type": "execute_result"
    }
   ],
   "source": [
    "bs[2] == Bucket(13, \"C\")"
   ]
  },
  {
   "cell_type": "code",
   "execution_count": 7,
   "id": "d41f6dd3-6eb3-43ae-90e4-9939f4b420bd",
   "metadata": {},
   "outputs": [],
   "source": [
    "V = 150"
   ]
  },
  {
   "cell_type": "code",
   "execution_count": 8,
   "id": "150bc334-e1fc-41c9-8bb6-328bc8783602",
   "metadata": {},
   "outputs": [],
   "source": [
    "from functools import lru_cache"
   ]
  },
  {
   "cell_type": "code",
   "execution_count": 9,
   "id": "ee7e724b-a92c-4098-8769-8aa4938b2b06",
   "metadata": {},
   "outputs": [],
   "source": [
    "test_buckets = [20, 15, 10, 5, 5]\n",
    "V = 25"
   ]
  },
  {
   "cell_type": "code",
   "execution_count": 166,
   "id": "e9663810-5ce8-49bb-a2da-42f3bf58256c",
   "metadata": {},
   "outputs": [],
   "source": [
    "def ways(V, buckets, paths, level=1):\n",
    "    \n",
    "    if V == 0:\n",
    "        return paths\n",
    "    \n",
    "    for b in buckets:\n",
    "        if V - b.value < 0:\n",
    "            continue\n",
    "        \n",
    "        Vnew = V - b.value\n",
    "        \n",
    "        \n",
    "    \n",
    "    # s = \"\\t\" * (level - 1)\n",
    "    # print(s, V, buckets, paths)\n",
    "\n",
    "    # if V == 0:\n",
    "    #     return paths\n",
    "    \n",
    "    \n",
    "    \n",
    "\n",
    "    # new_paths = []\n",
    "\n",
    "#     for b in buckets:\n",
    "\n",
    "#         print(s, b.value, V - b.value)\n",
    "\n",
    "#         if V - b.value < 0:\n",
    "#             continue\n",
    "\n",
    "#         if paths is None or len(paths) == 0:\n",
    "#             # print(s, \"then\")\n",
    "#             new_paths = ways(\n",
    "#                 V - b.value,\n",
    "#                 [x for x in buckets if x != b],\n",
    "#                 [[b.value]],\n",
    "#                 level=level + 1,\n",
    "#             )\n",
    "#             print(f\"{s}{new_paths=}\")\n",
    "#         # else:\n",
    "#             # print(s, \"else\")\n",
    "#             for path in paths:\n",
    "#                 new_paths.append(\n",
    "#                     ways(\n",
    "#                         V - b.value,\n",
    "#                         [x for x in buckets if x != b],\n",
    "#                         path + [b.value],\n",
    "#                         level=level + 1,\n",
    "#                     )\n",
    "#                 )\n",
    "#             print(f\"{s}{new_paths=}\")\n",
    "\n",
    "#     return new_paths"
   ]
  },
  {
   "cell_type": "code",
   "execution_count": 167,
   "id": "099feb9d-376b-4a8c-9c91-a4e4ba225af5",
   "metadata": {},
   "outputs": [
    {
     "name": "stdout",
     "output_type": "stream",
     "text": [
      " 5 [Bucket(value=5, letter='A'), Bucket(value=5, letter='B')] []\n",
      " 5 0\n",
      " then\n",
      "\t 0 [Bucket(value=5, letter='B')] [[5]]\n",
      "new_paths=[[5]]\n",
      " 5 0\n",
      " then\n",
      "\t 0 [Bucket(value=5, letter='A')] [[5]]\n",
      "new_paths=[[5]]\n"
     ]
    },
    {
     "data": {
      "text/plain": [
       "[[5]]"
      ]
     },
     "execution_count": 167,
     "metadata": {},
     "output_type": "execute_result"
    }
   ],
   "source": [
    "ways(5, [Bucket(5, \"A\"), Bucket(5, \"B\"),], [])"
   ]
  },
  {
   "cell_type": "code",
   "execution_count": 156,
   "id": "9dfd5c1a-d6aa-4b71-864a-aea2b2aef394",
   "metadata": {},
   "outputs": [
    {
     "name": "stdout",
     "output_type": "stream",
     "text": [
      " 3 [Bucket(value=1, letter='A'), Bucket(value=2, letter='B')] []\n",
      " 1 2\n",
      "\t 2 [Bucket(value=2, letter='B')] [[1]]\n",
      "\t 2 0\n",
      "\t\t 0 [] [1, 2]\n",
      " 2 1\n",
      "\t 1 [Bucket(value=1, letter='A')] [[2]]\n",
      "\t 1 0\n",
      "\t\t 0 [] [2, 1]\n"
     ]
    },
    {
     "data": {
      "text/plain": [
       "[[2, 1]]"
      ]
     },
     "execution_count": 156,
     "metadata": {},
     "output_type": "execute_result"
    }
   ],
   "source": [
    "ways(3, [Bucket(1, \"A\"), Bucket(2, \"B\")], [])"
   ]
  },
  {
   "cell_type": "code",
   "execution_count": 144,
   "id": "b84b1736-4d73-43a5-b799-680f6511dacd",
   "metadata": {},
   "outputs": [
    {
     "data": {
      "text/plain": [
       "[[2, 1]]"
      ]
     },
     "execution_count": 144,
     "metadata": {},
     "output_type": "execute_result"
    }
   ],
   "source": [
    "a"
   ]
  },
  {
   "cell_type": "code",
   "execution_count": 131,
   "id": "21b2aa0d-fe88-4bc4-b694-47fca4ae8ce3",
   "metadata": {},
   "outputs": [
    {
     "data": {
      "text/plain": [
       "1"
      ]
     },
     "execution_count": 131,
     "metadata": {},
     "output_type": "execute_result"
    }
   ],
   "source": [
    "len(a[0][0][0])"
   ]
  },
  {
   "cell_type": "code",
   "execution_count": null,
   "id": "a6d815a4-d3a1-45f2-aa26-645c618ccddf",
   "metadata": {},
   "outputs": [],
   "source": []
  },
  {
   "cell_type": "code",
   "execution_count": null,
   "id": "7428e0aa-1b31-4e0e-99b3-85ff2773a8ce",
   "metadata": {},
   "outputs": [],
   "source": []
  }
 ],
 "metadata": {
  "kernelspec": {
   "display_name": "platy-segmentation",
   "language": "python",
   "name": "platy-segmentation"
  },
  "language_info": {
   "codemirror_mode": {
    "name": "ipython",
    "version": 3
   },
   "file_extension": ".py",
   "mimetype": "text/x-python",
   "name": "python",
   "nbconvert_exporter": "python",
   "pygments_lexer": "ipython3",
   "version": "3.9.6"
  }
 },
 "nbformat": 4,
 "nbformat_minor": 5
}
