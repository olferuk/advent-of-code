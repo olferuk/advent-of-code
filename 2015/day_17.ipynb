{
 "cells": [
  {
   "cell_type": "code",
   "execution_count": 1,
   "id": "d84d5250-c70a-47dd-a84c-339f6478f558",
   "metadata": {},
   "outputs": [],
   "source": [
    "%load_ext lab_black\n",
    "\n",
    "from puzzles import load\n",
    "\n",
    "from itertools import combinations\n",
    "\n",
    "from collections import Counter\n",
    "\n",
    "from tqdm import tqdm\n",
    "\n",
    "import numpy as np"
   ]
  },
  {
   "cell_type": "code",
   "execution_count": 23,
   "id": "6b1a4bc1-2b03-4b65-8dd7-dc897b8eb67a",
   "metadata": {},
   "outputs": [
    {
     "data": {
      "text/plain": [
       "[1, 6, 13, 13, 14, 16, 18, 18, 20, 24, 30, 33, 35, 35, 41, 42, 44, 45, 48, 50]"
      ]
     },
     "execution_count": 23,
     "metadata": {},
     "output_type": "execute_result"
    }
   ],
   "source": [
    "buckets = sorted(np.array(load(17).strip().split(\"\\n\")).astype(int))\n",
    "buckets"
   ]
  },
  {
   "cell_type": "code",
   "execution_count": 18,
   "id": "5455c3d0-cf76-461d-bb9c-bfe3d6e5dc4c",
   "metadata": {
    "tags": []
   },
   "outputs": [
    {
     "name": "stderr",
     "output_type": "stream",
     "text": [
      "100%|███████████████████████████████████████████| 12/12 [00:01<00:00,  9.53it/s]\n"
     ]
    }
   ],
   "source": [
    "successes = []\n",
    "for N in tqdm(range(4, 16)):\n",
    "    for P in combinations(buckets, N):\n",
    "        if sum(P) == 150:\n",
    "            successes.append(N)"
   ]
  },
  {
   "cell_type": "code",
   "execution_count": 21,
   "id": "30c903d4-ce4e-42ae-a7f5-4de58dcefe76",
   "metadata": {},
   "outputs": [
    {
     "data": {
      "text/plain": [
       "1304"
      ]
     },
     "execution_count": 21,
     "metadata": {},
     "output_type": "execute_result"
    }
   ],
   "source": [
    "len(successes)"
   ]
  },
  {
   "cell_type": "code",
   "execution_count": 20,
   "id": "2bf944d0-d567-4443-99fe-c83f4fba810a",
   "metadata": {},
   "outputs": [
    {
     "data": {
      "text/plain": [
       "Counter({4: 18, 5: 180, 6: 459, 7: 433, 8: 195, 9: 19})"
      ]
     },
     "execution_count": 20,
     "metadata": {},
     "output_type": "execute_result"
    }
   ],
   "source": [
    "Counter(successes)"
   ]
  }
 ],
 "metadata": {
  "kernelspec": {
   "display_name": "Python (DE)",
   "language": "python",
   "name": "python3"
  },
  "language_info": {
   "codemirror_mode": {
    "name": "ipython",
    "version": 3
   },
   "file_extension": ".py",
   "mimetype": "text/x-python",
   "name": "python",
   "nbconvert_exporter": "python",
   "pygments_lexer": "ipython3",
   "version": "3.7.12"
  }
 },
 "nbformat": 4,
 "nbformat_minor": 5
}
