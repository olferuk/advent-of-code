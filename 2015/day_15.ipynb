{
 "cells": [
  {
   "cell_type": "code",
   "execution_count": 1,
   "id": "589d9672-420b-445c-b769-753f8e75906c",
   "metadata": {},
   "outputs": [],
   "source": [
    "%load_ext lab_black\n",
    "\n",
    "from puzzles import load\n",
    "\n",
    "import re\n",
    "\n",
    "import numpy as np\n",
    "\n",
    "from tqdm import tqdm\n",
    "\n",
    "import time"
   ]
  },
  {
   "cell_type": "code",
   "execution_count": 2,
   "id": "d7611f5f-91ed-42f0-ad79-b7bfdeabc606",
   "metadata": {},
   "outputs": [],
   "source": [
    "ingr = np.array(\n",
    "    [re.findall(r\"\\-?\\d+\", x) for x in load(15).strip().split(\"\\n\")]\n",
    ").astype(int)"
   ]
  },
  {
   "cell_type": "code",
   "execution_count": 3,
   "id": "b2bda71b-00cb-4e03-b5a3-3f90a437959a",
   "metadata": {},
   "outputs": [
    {
     "data": {
      "text/plain": [
       "array([[ 4, -2,  0,  0],\n",
       "       [ 0,  5, -1,  0],\n",
       "       [-1,  0,  5,  0],\n",
       "       [ 0,  0, -2,  2]])"
      ]
     },
     "execution_count": 3,
     "metadata": {},
     "output_type": "execute_result"
    }
   ],
   "source": [
    "part1 = ingr[:, :-1]\n",
    "part1"
   ]
  },
  {
   "cell_type": "code",
   "execution_count": 4,
   "id": "ee830a1d-b1e8-4947-be8f-56beb41f8d53",
   "metadata": {},
   "outputs": [],
   "source": [
    "def get_score(x):\n",
    "    ns = np.reshape([*x, 100 - x.sum()], (4, 1)).astype(int)\n",
    "    a = (part1 * ns).sum(0)\n",
    "    a[a < 0] = 0\n",
    "    return a.prod()"
   ]
  },
  {
   "cell_type": "code",
   "execution_count": 26,
   "id": "dcbd58bb-3f4f-4c77-8003-8190f46a693d",
   "metadata": {},
   "outputs": [
    {
     "name": "stderr",
     "output_type": "stream",
     "text": [
      "100%|█████████████████████████████████████████████████████████████████████████████████████████| 100/100 [00:05<00:00, 17.56it/s]"
     ]
    },
    {
     "name": "stdout",
     "output_type": "stream",
     "text": [
      "Time taken: 5.70150899887085 s\n"
     ]
    },
    {
     "name": "stderr",
     "output_type": "stream",
     "text": [
      "\n"
     ]
    },
    {
     "data": {
      "text/plain": [
       "(18965440, [24, 29, 31])"
      ]
     },
     "execution_count": 26,
     "metadata": {},
     "output_type": "execute_result"
    }
   ],
   "source": [
    "start = time.time()\n",
    "\n",
    "best_score = -1e9\n",
    "for i in tqdm(range(100)):\n",
    "    for j in range(100):\n",
    "        for k in range(100):\n",
    "            l = 100 - (i + j + k)\n",
    "            if l < 0:\n",
    "                continue\n",
    "            score = get_score(x=np.array([i, j, k]))\n",
    "            if score > best_score:\n",
    "                best_parts = [i, j, k]\n",
    "                best_score = score\n",
    "\n",
    "print(f\"Time taken: {time.time() - start} s\")\n",
    "\n",
    "best_score, best_parts"
   ]
  },
  {
   "cell_type": "markdown",
   "id": "69bbbce8-5be8-4ac4-b7e0-a9bcac384e65",
   "metadata": {},
   "source": [
    "---"
   ]
  },
  {
   "cell_type": "code",
   "execution_count": 27,
   "id": "d77b1d74-ff51-42a7-a808-115657949cf5",
   "metadata": {},
   "outputs": [
    {
     "data": {
      "text/plain": [
       "array([[ 4, -2,  0,  0,  5],\n",
       "       [ 0,  5, -1,  0,  8],\n",
       "       [-1,  0,  5,  0,  6],\n",
       "       [ 0,  0, -2,  2,  1]])"
      ]
     },
     "execution_count": 27,
     "metadata": {},
     "output_type": "execute_result"
    }
   ],
   "source": [
    "part2 = ingr\n",
    "part2"
   ]
  },
  {
   "cell_type": "code",
   "execution_count": 34,
   "id": "2cc3c44d-28f2-45d9-9484-3f9134e529cf",
   "metadata": {},
   "outputs": [],
   "source": [
    "def get_score_and_calories(x):\n",
    "    ns = np.reshape([*x, 100 - x.sum()], (4, 1)).astype(int)\n",
    "    a = (part2[:, :-1] * ns).sum(0)\n",
    "    a[a < 0] = 0\n",
    "    return a.prod(), (part2[:, -1:] * ns).sum()"
   ]
  },
  {
   "cell_type": "code",
   "execution_count": 29,
   "id": "44cd603a-efd9-4f41-b419-36125051fc20",
   "metadata": {},
   "outputs": [
    {
     "name": "stderr",
     "output_type": "stream",
     "text": [
      "100%|█████████████████████████████████████████████████████████████████████████████████████████| 100/100 [00:07<00:00, 13.41it/s]"
     ]
    },
    {
     "name": "stdout",
     "output_type": "stream",
     "text": [
      "Time taken: 7.4651939868927 s\n"
     ]
    },
    {
     "name": "stderr",
     "output_type": "stream",
     "text": [
      "\n"
     ]
    },
    {
     "data": {
      "text/plain": [
       "(15862900, [21, 23, 31])"
      ]
     },
     "execution_count": 29,
     "metadata": {},
     "output_type": "execute_result"
    }
   ],
   "source": [
    "start = time.time()\n",
    "\n",
    "best_score = -1e9\n",
    "for i in tqdm(range(100)):\n",
    "    for j in range(100):\n",
    "        for k in range(100):\n",
    "            l = 100 - (i + j + k)\n",
    "            if l < 0:\n",
    "                continue\n",
    "            score, calories = get_score_and_calories(x=np.array([i, j, k]))\n",
    "            if calories != 500:\n",
    "                continue\n",
    "            if score > best_score:\n",
    "                best_parts = [i, j, k]\n",
    "                best_score = score\n",
    "\n",
    "print(f\"Time taken: {time.time() - start} s\")\n",
    "\n",
    "best_score, best_parts"
   ]
  },
  {
   "cell_type": "markdown",
   "id": "d2a33bca-3047-43f0-b379-509ccd1024ff",
   "metadata": {},
   "source": [
    "---"
   ]
  },
  {
   "cell_type": "markdown",
   "id": "720aa7c5-a710-4016-a39f-2b12e7664933",
   "metadata": {},
   "source": [
    "https://habr.com/ru/company/ods/blog/448054/"
   ]
  },
  {
   "cell_type": "code",
   "execution_count": 8,
   "id": "2e1635a6-0c33-4434-8d0d-50bd77bcf92d",
   "metadata": {},
   "outputs": [
    {
     "name": "stdout",
     "output_type": "stream",
     "text": [
      "Optimization terminated successfully.\n",
      "         Current function value: -18157568.000000\n",
      "         Iterations: 5\n",
      "         Function evaluations: 698\n",
      "[23.19616322 30.0764372  30.00000091]\n",
      "[23 30 30]\n",
      "\n",
      "Time taken: 0.230 s\n"
     ]
    },
    {
     "data": {
      "text/plain": [
       "(18965440, [24, 29, 31])"
      ]
     },
     "execution_count": 8,
     "metadata": {},
     "output_type": "execute_result"
    }
   ],
   "source": [
    "from scipy.optimize import minimize\n",
    "\n",
    "\n",
    "def neg_score(x):\n",
    "    s = get_score(x)\n",
    "    return -s\n",
    "\n",
    "\n",
    "start = time.time()\n",
    "\n",
    "res = minimize(\n",
    "    neg_score,\n",
    "    x0=np.array([25, 25, 25]),\n",
    "    method=\"powell\",\n",
    "    options={\"xtol\": 1e-9, \"disp\": True},\n",
    ")\n",
    "\n",
    "print(res.x)\n",
    "\n",
    "near = res.x.astype(int)\n",
    "print(near)\n",
    "\n",
    "best_score = 1e-9\n",
    "\n",
    "for i in range(near[0] - 5, near[0] + 6):\n",
    "    for j in range(near[1] - 5, near[1] + 6):\n",
    "        for k in range(near[2] - 5, near[2] + 6):\n",
    "            l = 100 - (i + j + k)\n",
    "            score = get_score(x=np.array([i, j, k]))\n",
    "            if score > best_score:\n",
    "                best_parts = [i, j, k]\n",
    "                best_score = score\n",
    "\n",
    "print()\n",
    "print(f\"Time taken: {time.time() - start:.3f} s\")\n",
    "\n",
    "best_score, best_parts"
   ]
  },
  {
   "cell_type": "code",
   "execution_count": 7,
   "id": "21f2e312-6f1e-46f4-b99c-acd045add39c",
   "metadata": {},
   "outputs": [
    {
     "name": "stdout",
     "output_type": "stream",
     "text": [
      "Optimization terminated successfully.\n",
      "         Current function value: 0.000000\n",
      "         Iterations: 1\n",
      "         Function evaluations: 109\n",
      "[27.61803372  7.61803372 62.61803372]\n",
      "[27  7 62]\n",
      "\n",
      "Time taken: 0.101 s\n"
     ]
    },
    {
     "data": {
      "text/plain": [
       "(2276640, [22, 12, 57])"
      ]
     },
     "execution_count": 7,
     "metadata": {},
     "output_type": "execute_result"
    }
   ],
   "source": [
    "from scipy.optimize import minimize\n",
    "\n",
    "\n",
    "def neg_score(x):\n",
    "    s = get_score(x)\n",
    "    return -s\n",
    "\n",
    "\n",
    "start = time.time()\n",
    "\n",
    "res = minimize(\n",
    "    neg_score,\n",
    "    x0=np.array([25, 5, 60]),\n",
    "    method=\"powell\",\n",
    "    options={\"xtol\": 1e-9, \"disp\": True},\n",
    ")\n",
    "\n",
    "print(res.x)\n",
    "\n",
    "near = res.x.astype(int)\n",
    "print(near)\n",
    "\n",
    "best_score = 1e-9\n",
    "\n",
    "for i in range(near[0] - 5, near[0] + 6):\n",
    "    for j in range(near[1] - 5, near[1] + 6):\n",
    "        for k in range(near[2] - 5, near[2] + 6):\n",
    "            l = 100 - (i + j + k)\n",
    "            score = get_score(x=np.array([i, j, k]))\n",
    "            if score > best_score:\n",
    "                best_parts = [i, j, k]\n",
    "                best_score = score\n",
    "\n",
    "print()\n",
    "print(f\"Time taken: {time.time() - start:.3f} s\")\n",
    "\n",
    "best_score, best_parts"
   ]
  },
  {
   "cell_type": "code",
   "execution_count": null,
   "id": "bb64052d-fd2b-4575-b3e8-3356cd1a3e59",
   "metadata": {},
   "outputs": [],
   "source": []
  }
 ],
 "metadata": {
  "kernelspec": {
   "display_name": "platy-segmentation",
   "language": "python",
   "name": "platy-segmentation"
  },
  "language_info": {
   "codemirror_mode": {
    "name": "ipython",
    "version": 3
   },
   "file_extension": ".py",
   "mimetype": "text/x-python",
   "name": "python",
   "nbconvert_exporter": "python",
   "pygments_lexer": "ipython3",
   "version": "3.9.6"
  }
 },
 "nbformat": 4,
 "nbformat_minor": 5
}
