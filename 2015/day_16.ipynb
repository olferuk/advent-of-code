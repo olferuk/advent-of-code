{
 "cells": [
  {
   "cell_type": "code",
   "execution_count": 31,
   "id": "0823d506-eec8-4847-bdc2-fd27b3d461af",
   "metadata": {},
   "outputs": [
    {
     "name": "stdout",
     "output_type": "stream",
     "text": [
      "The lab_black extension is already loaded. To reload it, use:\n",
      "  %reload_ext lab_black\n"
     ]
    }
   ],
   "source": [
    "%load_ext lab_black\n",
    "\n",
    "from puzzles import load"
   ]
  },
  {
   "cell_type": "code",
   "execution_count": 32,
   "id": "fc2a2f86-fd4c-49b8-a5df-3227c8ba956c",
   "metadata": {},
   "outputs": [],
   "source": [
    "def get_tuple(s):\n",
    "    k, v = s.split(\": \")\n",
    "    v = int(v)\n",
    "    k = k.strip()\n",
    "    return k, v"
   ]
  },
  {
   "cell_type": "code",
   "execution_count": 33,
   "id": "a950b00c-5092-4fcf-a4bd-7ee024794a94",
   "metadata": {},
   "outputs": [],
   "source": [
    "d = {\n",
    "    \"children\": 3,\n",
    "    \"cats\": 7,\n",
    "    \"samoyeds\": 2,\n",
    "    \"pomeranians\": 3,\n",
    "    \"akitas\": 0,\n",
    "    \"vizslas\": 0,\n",
    "    \"goldfish\": 5,\n",
    "    \"trees\": 3,\n",
    "    \"cars\": 2,\n",
    "    \"perfumes\": 1,\n",
    "}"
   ]
  },
  {
   "cell_type": "code",
   "execution_count": 34,
   "id": "7f9aa448-d25a-4d9e-b8c6-3e7a2f76e431",
   "metadata": {},
   "outputs": [
    {
     "name": "stdout",
     "output_type": "stream",
     "text": [
      "373\n"
     ]
    }
   ],
   "source": [
    "for i, sue in enumerate(load(16).strip().split(\"\\n\")):\n",
    "    x1, x2, x3 = sue.split(\",\")\n",
    "    pairs = get_tuple(x1[x1.index(\":\") + 2 :]), get_tuple(x2), get_tuple(x3)\n",
    "    is_sue = all([d.get(k, -1) == v for k, v in pairs])\n",
    "    if is_sue:\n",
    "        print(i + 1)"
   ]
  },
  {
   "cell_type": "markdown",
   "id": "2e0eae3e-388a-41fc-8259-3a95e34133ed",
   "metadata": {},
   "source": [
    "---"
   ]
  },
  {
   "cell_type": "code",
   "execution_count": 35,
   "id": "74d534fb-9531-4a65-97de-ec0c2c58f857",
   "metadata": {},
   "outputs": [
    {
     "name": "stdout",
     "output_type": "stream",
     "text": [
      "260\n"
     ]
    }
   ],
   "source": [
    "for i, sue in enumerate(load(16).strip().split(\"\\n\")):\n",
    "    x1, x2, x3 = sue.split(\",\")\n",
    "    pairs = get_tuple(x1[x1.index(\":\") + 2 :]), get_tuple(x2), get_tuple(x3)\n",
    "\n",
    "    oks = []\n",
    "    for k, v in pairs:\n",
    "        if k in [\"cats\", \"trees\"]:\n",
    "            oks.append(v > d[k])\n",
    "        elif k in [\"pomeranians\", \"goldfish\"]:\n",
    "            oks.append(v < d[k])\n",
    "        else:\n",
    "            oks.append(v == d[k])\n",
    "    if all(oks):\n",
    "        print(i + 1)"
   ]
  }
 ],
 "metadata": {
  "kernelspec": {
   "display_name": "platy-segmentation",
   "language": "python",
   "name": "platy-segmentation"
  },
  "language_info": {
   "codemirror_mode": {
    "name": "ipython",
    "version": 3
   },
   "file_extension": ".py",
   "mimetype": "text/x-python",
   "name": "python",
   "nbconvert_exporter": "python",
   "pygments_lexer": "ipython3",
   "version": "3.9.6"
  }
 },
 "nbformat": 4,
 "nbformat_minor": 5
}
