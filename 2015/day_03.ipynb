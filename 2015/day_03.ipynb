{
 "cells": [
  {
   "cell_type": "code",
   "execution_count": 1,
   "id": "6ada70a4-6970-4bcb-aea0-9979c7ce2d77",
   "metadata": {},
   "outputs": [],
   "source": [
    "%load_ext lab_black\n",
    "\n",
    "from puzzles import load"
   ]
  },
  {
   "cell_type": "markdown",
   "id": "513b85e3-b2e4-4c1f-b600-79ca36ed56d8",
   "metadata": {},
   "source": [
    "---"
   ]
  },
  {
   "cell_type": "markdown",
   "id": "3b1432c9-cc61-4810-840e-20511012d019",
   "metadata": {},
   "source": [
    "Santa is delivering presents to an infinite two-dimensional grid of houses.\n",
    "\n",
    "He begins by delivering a present to the house at his starting location, and then an elf at the North Pole calls him via radio and tells him where to move next. Moves are always exactly one house to the north (^), south (v), east (>), or west (<). After each move, he delivers another present to the house at his new location.\n",
    "\n",
    "However, the elf back at the north pole has had a little too much eggnog, and so his directions are a little off, and Santa ends up visiting some houses more than once. How many houses receive at least one present?\n",
    "\n",
    "For example:\n",
    "\n",
    "* `>` delivers presents to 2 houses: one at the starting location, and one to the east.\n",
    "* `^>v<` delivers presents to 4 houses in a square, including twice to the house at his starting/ending location.\n",
    "* `^v^v^v^v^v` delivers a bunch of presents to some very lucky children at only 2 houses.\n"
   ]
  },
  {
   "cell_type": "code",
   "execution_count": 17,
   "id": "85cb1d2b-3d82-47aa-8ac0-eca18cb91f4f",
   "metadata": {},
   "outputs": [
    {
     "data": {
      "text/plain": [
       "2572"
      ]
     },
     "execution_count": 17,
     "metadata": {},
     "output_type": "execute_result"
    }
   ],
   "source": [
    "houses = {(0, 0)}\n",
    "current = (0, 0)\n",
    "shifts = {\n",
    "    \"v\": (0, -1),\n",
    "    \"^\": (0, 1),\n",
    "    \">\": (1, 0),\n",
    "    \"<\": (-1, 0),\n",
    "}\n",
    "for c in load(3):\n",
    "    d = shifts[c]\n",
    "    current = (current[0] + d[0], current[1] + d[1])\n",
    "    houses.add((current))\n",
    "len(houses)"
   ]
  },
  {
   "cell_type": "markdown",
   "id": "3a5ee903-b315-44e7-8e00-62635b94eb2b",
   "metadata": {},
   "source": [
    "---"
   ]
  },
  {
   "cell_type": "markdown",
   "id": "b5effa0f-ebab-494a-b963-ac169b6dd37f",
   "metadata": {},
   "source": [
    "The next year, to speed up the process, Santa creates a robot version of himself, Robo-Santa, to deliver presents with him.\n",
    "\n",
    "Santa and Robo-Santa start at the same location (delivering two presents to the same starting house), then take turns moving based on instructions from the elf, who is eggnoggedly reading from the same script as the previous year.\n",
    "\n",
    "This year, how many houses receive at least one present?\n",
    "\n",
    "For example:\n",
    "\n",
    "* `^v` delivers presents to 3 houses, because Santa goes north, and then Robo-Santa goes south.\n",
    "* `^>v<` now delivers presents to 3 houses, and Santa and Robo-Santa end up back where they started.\n",
    "* `^v^v^v^v^v` now delivers presents to 11 houses, with Santa going one direction and Robo-Santa going the other.\n"
   ]
  },
  {
   "cell_type": "code",
   "execution_count": 30,
   "id": "3bb613f2-3e0a-4c11-b1fe-57a1a53a92a3",
   "metadata": {},
   "outputs": [],
   "source": [
    "class Santa:\n",
    "    houses = {(0, 0)}\n",
    "    current = (0, 0)\n",
    "\n",
    "    def move(self, c, shifts):\n",
    "        d = shifts[c]\n",
    "        self.current = (self.current[0] + d[0], self.current[1] + d[1])\n",
    "        self.houses.add((self.current))"
   ]
  },
  {
   "cell_type": "code",
   "execution_count": 32,
   "id": "22670c43-399e-43ad-897c-d3714bdf83ec",
   "metadata": {},
   "outputs": [],
   "source": [
    "santa = Santa()\n",
    "robot = Santa()\n",
    "\n",
    "shifts = {\n",
    "    \"v\": (0, -1),\n",
    "    \"^\": (0, 1),\n",
    "    \">\": (1, 0),\n",
    "    \"<\": (-1, 0),\n",
    "}\n",
    "\n",
    "for i, c in enumerate(load(3)):\n",
    "    snt = santa if i % 2 == 0 else robot\n",
    "    snt.move(c, shifts)"
   ]
  },
  {
   "cell_type": "code",
   "execution_count": 33,
   "id": "2387d271-3402-464d-b517-3d355f903063",
   "metadata": {},
   "outputs": [
    {
     "data": {
      "text/plain": [
       "2631"
      ]
     },
     "execution_count": 33,
     "metadata": {},
     "output_type": "execute_result"
    }
   ],
   "source": [
    "len(santa.houses | robot.houses)"
   ]
  }
 ],
 "metadata": {
  "kernelspec": {
   "display_name": "platy-segmentation",
   "language": "python",
   "name": "platy-segmentation"
  },
  "language_info": {
   "codemirror_mode": {
    "name": "ipython",
    "version": 3
   },
   "file_extension": ".py",
   "mimetype": "text/x-python",
   "name": "python",
   "nbconvert_exporter": "python",
   "pygments_lexer": "ipython3",
   "version": "3.9.6"
  }
 },
 "nbformat": 4,
 "nbformat_minor": 5
}
