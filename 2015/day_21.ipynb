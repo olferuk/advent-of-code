{
 "cells": [
  {
   "cell_type": "code",
   "execution_count": 93,
   "id": "42919e27-c3bf-4145-878c-a7c5cfef3786",
   "metadata": {},
   "outputs": [
    {
     "name": "stdout",
     "output_type": "stream",
     "text": [
      "The lab_black extension is already loaded. To reload it, use:\n",
      "  %reload_ext lab_black\n"
     ]
    }
   ],
   "source": [
    "%load_ext lab_black"
   ]
  },
  {
   "cell_type": "code",
   "execution_count": 94,
   "id": "fd50fd21-2bad-48a3-90bd-50a64af328e8",
   "metadata": {},
   "outputs": [],
   "source": [
    "from dataclasses import dataclass\n",
    "\n",
    "from itertools import product"
   ]
  },
  {
   "cell_type": "markdown",
   "id": "6733f682-c058-4b90-957c-0aa6031ad461",
   "metadata": {},
   "source": [
    "```python\n",
    "Weapons:    Cost  Damage  Armor\n",
    "Dagger        8     4       0\n",
    "Shortsword   10     5       0\n",
    "Warhammer    25     6       0\n",
    "Longsword    40     7       0\n",
    "Greataxe     74     8       0\n",
    "\n",
    "Armor:      Cost  Damage  Armor\n",
    "Leather      13     0       1\n",
    "Chainmail    31     0       2\n",
    "Splintmail   53     0       3\n",
    "Bandedmail   75     0       4\n",
    "Platemail   102     0       5\n",
    "\n",
    "Rings:      Cost  Damage  Armor\n",
    "Damage +1    25     1       0\n",
    "Damage +2    50     2       0\n",
    "Damage +3   100     3       0\n",
    "Defense +1   20     0       1\n",
    "Defense +2   40     0       2\n",
    "Defense +3   80     0       3\n",
    "```"
   ]
  },
  {
   "cell_type": "code",
   "execution_count": 95,
   "id": "69704991-3258-4f86-ace7-8a773e365092",
   "metadata": {},
   "outputs": [],
   "source": [
    "WEAPONS = [\n",
    "    [8, 4],\n",
    "    [10, 5],\n",
    "    [25, 6],\n",
    "    [40, 7],\n",
    "    [74, 8],\n",
    "]\n",
    "\n",
    "ARMOR = [\n",
    "    [0, 0],\n",
    "    [13, 1],\n",
    "    [31, 2],\n",
    "    [53, 3],\n",
    "    [75, 4],\n",
    "    [102, 5],\n",
    "]\n",
    "\n",
    "RINGS = [\n",
    "    [0, 0, 0],\n",
    "    [0, 0, 0],\n",
    "    [25, 1, 0],\n",
    "    [50, 2, 0],\n",
    "    [100, 3, 0],\n",
    "    [20, 0, 1],\n",
    "    [40, 0, 2],\n",
    "    [80, 0, 3],\n",
    "]"
   ]
  },
  {
   "cell_type": "code",
   "execution_count": 96,
   "id": "eac59fa5-b0bc-4b96-944c-bafe3728d8b9",
   "metadata": {},
   "outputs": [],
   "source": [
    "def build_char(wpn_i, arm_i, rings_ids):\n",
    "    gw, dmg = WEAPONS[wpn_i]\n",
    "    ga, armor = ARMOR[arm_i]\n",
    "    gold_spent = gw + ga\n",
    "\n",
    "    for rid in rings_ids:\n",
    "        gr, dmg_add, armor_add = RINGS[rid]\n",
    "        gold_spent += gr\n",
    "        dmg += dmg_add\n",
    "        armor += armor_add\n",
    "\n",
    "    return gold_spent, Character(hp=100, max_hp=100, armor=armor, damage=dmg)"
   ]
  },
  {
   "cell_type": "code",
   "execution_count": 97,
   "id": "db4911cc-b777-4625-9cd5-016187c375e8",
   "metadata": {},
   "outputs": [],
   "source": [
    "@dataclass\n",
    "class Character:\n",
    "    hp: int\n",
    "    max_hp: int\n",
    "    damage: int\n",
    "    armor: int"
   ]
  },
  {
   "cell_type": "code",
   "execution_count": 98,
   "id": "c8231e24-5243-45d6-8a22-fc72c7b2fc9d",
   "metadata": {},
   "outputs": [],
   "source": [
    "def battle_succeeds(player, boss):\n",
    "    while True:\n",
    "        boss.hp -= max(player.damage - boss.armor, 1)\n",
    "        if boss.hp <= 0:\n",
    "            boss.hp = boss.max_hp\n",
    "            player.hp = player.max_hp\n",
    "            return True\n",
    "\n",
    "        player.hp -= max(boss.damage - player.armor, 1)\n",
    "        if player.hp <= 0:\n",
    "            boss.hp = boss.max_hp\n",
    "            player.hp = player.max_hp\n",
    "            return False"
   ]
  },
  {
   "cell_type": "code",
   "execution_count": 99,
   "id": "5c17e9da-638a-43ff-8782-56d89e1fa33f",
   "metadata": {},
   "outputs": [],
   "source": [
    "boss = Character(hp=103, max_hp=103, damage=9, armor=2)"
   ]
  },
  {
   "cell_type": "code",
   "execution_count": 100,
   "id": "f0bf5e90-937e-41b2-85bb-d5badc3b460f",
   "metadata": {},
   "outputs": [
    {
     "data": {
      "text/plain": [
       "121"
      ]
     },
     "execution_count": 100,
     "metadata": {},
     "output_type": "execute_result"
    }
   ],
   "source": [
    "min_gold_spent = 1e5\n",
    "\n",
    "for wpn_id, arm_id, rid1, rid2 in product(\n",
    "    range(len(WEAPONS)), range(len(ARMOR)), range(len(RINGS)), range(len(RINGS))\n",
    "):\n",
    "    if rid1 == rid2:\n",
    "        continue\n",
    "    gold, player = build_char(wpn_id, arm_id, [rid1, rid2])\n",
    "    if battle_succeeds(player, boss) and gold < min_gold_spent:\n",
    "        min_gold_spent = gold\n",
    "        best_params = [wpn_id, arm_id, rid1, rid2]\n",
    "\n",
    "min_gold_spent"
   ]
  },
  {
   "cell_type": "markdown",
   "id": "1d5653ec-0504-45e9-bcc6-bc3aef612144",
   "metadata": {},
   "source": [
    "---"
   ]
  },
  {
   "cell_type": "code",
   "execution_count": 101,
   "id": "d935c59a-f528-43c2-97ca-cdef77db4b3d",
   "metadata": {},
   "outputs": [],
   "source": [
    "boss = Character(hp=103, max_hp=103, damage=9, armor=2)"
   ]
  },
  {
   "cell_type": "code",
   "execution_count": 102,
   "id": "ac2bceac-9df0-4659-8c01-0f5e955864d8",
   "metadata": {},
   "outputs": [
    {
     "data": {
      "text/plain": [
       "201"
      ]
     },
     "execution_count": 102,
     "metadata": {},
     "output_type": "execute_result"
    }
   ],
   "source": [
    "max_gold_spent = -1\n",
    "\n",
    "for wpn_id, arm_id, rid1, rid2 in product(\n",
    "    range(len(WEAPONS)), range(len(ARMOR)), range(len(RINGS)), range(len(RINGS))\n",
    "):\n",
    "    if rid1 == rid2:\n",
    "        continue\n",
    "    gold, player = build_char(wpn_id, arm_id, [rid1, rid2])\n",
    "    if not battle_succeeds(player, boss) and gold > max_gold_spent:\n",
    "        max_gold_spent = gold\n",
    "        best_params = [wpn_id, arm_id, rid1, rid2]\n",
    "\n",
    "max_gold_spent"
   ]
  }
 ],
 "metadata": {
  "kernelspec": {
   "display_name": "platy-segmentation",
   "language": "python",
   "name": "platy-segmentation"
  },
  "language_info": {
   "codemirror_mode": {
    "name": "ipython",
    "version": 3
   },
   "file_extension": ".py",
   "mimetype": "text/x-python",
   "name": "python",
   "nbconvert_exporter": "python",
   "pygments_lexer": "ipython3",
   "version": "3.9.6"
  }
 },
 "nbformat": 4,
 "nbformat_minor": 5
}
