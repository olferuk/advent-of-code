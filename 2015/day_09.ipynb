{
 "cells": [
  {
   "cell_type": "code",
   "execution_count": 1,
   "id": "d0ad73c0-5611-4d67-be93-f7577e3e626c",
   "metadata": {},
   "outputs": [],
   "source": [
    "%load_ext lab_black\n",
    "\n",
    "from puzzles import load"
   ]
  },
  {
   "cell_type": "code",
   "execution_count": 8,
   "id": "85e7a39a-3d78-433e-880d-4a338bb6b67e",
   "metadata": {},
   "outputs": [
    {
     "data": {
      "text/plain": [
       "['AlphaCentauri',\n",
       " 'Arbre',\n",
       " 'Faerun',\n",
       " 'Norrath',\n",
       " 'Snowdin',\n",
       " 'Straylight',\n",
       " 'Tambi',\n",
       " 'Tristram']"
      ]
     },
     "execution_count": 8,
     "metadata": {},
     "output_type": "execute_result"
    }
   ],
   "source": [
    "lines = load(9).strip().split(\"\\n\")\n",
    "cities = sorted(\n",
    "    set([y for x in lines for y in x.split() if y.isalpha() and y != \"=\" and y != \"to\"])\n",
    ")\n",
    "cities"
   ]
  },
  {
   "cell_type": "code",
   "execution_count": 11,
   "id": "3a78eca7-137c-44a6-a1e5-2325e911e14b",
   "metadata": {},
   "outputs": [],
   "source": [
    "import numpy as np"
   ]
  },
  {
   "cell_type": "code",
   "execution_count": 23,
   "id": "7574f816-a339-404a-8032-b626804ded5b",
   "metadata": {},
   "outputs": [],
   "source": [
    "D = np.ones([len(cities), len(cities)], dtype=np.int32) * 9999\n",
    "\n",
    "for line in lines:\n",
    "    a, _, b, _, t = line.split()\n",
    "    t = int(t)\n",
    "\n",
    "    ai, bi = cities.index(a), cities.index(b)\n",
    "    D[ai, bi] = t\n",
    "    D[bi, ai] = t"
   ]
  },
  {
   "cell_type": "code",
   "execution_count": 28,
   "id": "10ede5c7-4b3f-4fa7-9237-1145f69aa628",
   "metadata": {},
   "outputs": [],
   "source": [
    "from itertools import product, permutations"
   ]
  },
  {
   "cell_type": "code",
   "execution_count": 34,
   "id": "c0f56dce-2fb1-4114-abaf-382da43aae4e",
   "metadata": {},
   "outputs": [
    {
     "data": {
      "text/plain": [
       "141"
      ]
     },
     "execution_count": 34,
     "metadata": {},
     "output_type": "execute_result"
    }
   ],
   "source": [
    "min_dist = 1e9\n",
    "best_route = None\n",
    "\n",
    "for cs in list(permutations(cities)):\n",
    "\n",
    "    cost = 0\n",
    "    for a, b in zip(cs, cs[1:]):\n",
    "        ai, bi = cities.index(a), cities.index(b)\n",
    "        cost += D[ai, bi]\n",
    "\n",
    "    if cost < min_dist:\n",
    "        min_dist = cost\n",
    "        best_route = cs\n",
    "\n",
    "min_dist"
   ]
  },
  {
   "cell_type": "markdown",
   "id": "4231b0bc-cf00-4c17-a2c5-44e2054a653e",
   "metadata": {},
   "source": [
    "**--- Part Two ---**\n",
    "\n",
    "The next year, just to show off, Santa decides to take the route with the longest distance instead.\n",
    "\n",
    "He can still start and end at any two (different) locations he wants, and he still must visit each location exactly once.\n",
    "\n",
    "For example, given the distances above, the longest route would be 982 via (for example) Dublin -> London -> Belfast.\n",
    "\n",
    "What is the distance of the longest route?\n",
    "\n"
   ]
  },
  {
   "cell_type": "code",
   "execution_count": 35,
   "id": "7f44fead-4c1c-4174-b52d-8468c17153e8",
   "metadata": {},
   "outputs": [
    {
     "data": {
      "text/plain": [
       "736"
      ]
     },
     "execution_count": 35,
     "metadata": {},
     "output_type": "execute_result"
    }
   ],
   "source": [
    "max_dist = -1\n",
    "best_route = None\n",
    "\n",
    "for cs in list(permutations(cities)):\n",
    "\n",
    "    cost = 0\n",
    "    for a, b in zip(cs, cs[1:]):\n",
    "        ai, bi = cities.index(a), cities.index(b)\n",
    "        cost += D[ai, bi]\n",
    "\n",
    "    if cost > max_dist:\n",
    "        max_dist = cost\n",
    "        best_route = cs\n",
    "\n",
    "max_dist"
   ]
  }
 ],
 "metadata": {
  "kernelspec": {
   "display_name": "platy-segmentation",
   "language": "python",
   "name": "platy-segmentation"
  },
  "language_info": {
   "codemirror_mode": {
    "name": "ipython",
    "version": 3
   },
   "file_extension": ".py",
   "mimetype": "text/x-python",
   "name": "python",
   "nbconvert_exporter": "python",
   "pygments_lexer": "ipython3",
   "version": "3.9.6"
  }
 },
 "nbformat": 4,
 "nbformat_minor": 5
}
