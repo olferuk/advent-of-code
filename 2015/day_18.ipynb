{
 "cells": [
  {
   "cell_type": "code",
   "execution_count": 42,
   "id": "25cf488a-e341-498d-8b29-579ee70b3acd",
   "metadata": {},
   "outputs": [
    {
     "name": "stdout",
     "output_type": "stream",
     "text": [
      "The lab_black extension is already loaded. To reload it, use:\n",
      "  %reload_ext lab_black\n"
     ]
    }
   ],
   "source": [
    "%load_ext lab_black\n",
    "\n",
    "from puzzles import load\n",
    "\n",
    "import numpy as np\n",
    "\n",
    "import matplotlib.pyplot as plt"
   ]
  },
  {
   "cell_type": "code",
   "execution_count": 43,
   "id": "d69e628b-e42c-4605-ba7f-653ccb6fbfb1",
   "metadata": {},
   "outputs": [],
   "source": [
    "s = load(18)\n",
    "A = np.array(\n",
    "    [[\".#\".index(c) for c in l] for l in s.strip().split(\"\\n\")], dtype=np.uint8\n",
    ")"
   ]
  },
  {
   "cell_type": "code",
   "execution_count": 44,
   "id": "9cacc1e6-5e5d-4249-9c8a-87a9c5a19078",
   "metadata": {},
   "outputs": [],
   "source": [
    "def conv(k):\n",
    "    if k[1, 1] == 1:\n",
    "        return int(k.sum() - 1 in [2, 3])\n",
    "    if k[1, 1] == 0:\n",
    "        return int(k.sum() == 3)"
   ]
  },
  {
   "cell_type": "code",
   "execution_count": 45,
   "id": "6109c8ed-51ea-4540-8af2-057aa454056e",
   "metadata": {},
   "outputs": [],
   "source": [
    "from tqdm import tqdm"
   ]
  },
  {
   "cell_type": "code",
   "execution_count": 46,
   "id": "9ffc37ac-eb4d-412d-8fe8-b25f29bb34ab",
   "metadata": {},
   "outputs": [],
   "source": [
    "for _ in tqdm(range(100)):\n",
    "    buffer = np.zeros_like(A, dtype=A.dtype)\n",
    "    A = np.pad(A, 1)\n",
    "    for i in range(1, len(A) - 1):\n",
    "        for j in range(1, len(A[0]) - 1):\n",
    "            buffer[i - 1, j - 1] = conv(A[i - 1 : i + 2, j - 1 : j + 2])\n",
    "    A = buffer\n",
    "\n",
    "A.sum()"
   ]
  },
  {
   "cell_type": "markdown",
   "id": "dae43668-060c-4709-ae99-253fac51bea4",
   "metadata": {},
   "source": [
    "---"
   ]
  },
  {
   "cell_type": "code",
   "execution_count": 69,
   "id": "81269e3e-acb9-4e1c-ba53-61cf7d1585db",
   "metadata": {},
   "outputs": [],
   "source": [
    "from PIL import Image\n",
    "import cv2\n",
    "import numpy as np\n",
    "from glob import glob\n",
    "\n",
    "\n",
    "s = load(18)\n",
    "A = np.array(\n",
    "    [[\".#\".index(c) for c in l] for l in s.strip().split(\"\\n\")], dtype=np.uint8\n",
    ")\n",
    "\n",
    "for N in tqdm(range(100)):\n",
    "\n",
    "    buffer = np.zeros_like(A, dtype=A.dtype)\n",
    "    A = np.pad(A, 1)\n",
    "    for i in range(1, len(A) - 1):\n",
    "        for j in range(1, len(A[0]) - 1):\n",
    "            buffer[i - 1, j - 1] = conv(A[i - 1 : i + 2, j - 1 : j + 2])\n",
    "    A = buffer\n",
    "\n",
    "    Image.fromarray(np.dstack([A * 200, A * 200, A * 127])).resize(\n",
    "        [400, 400], Image.NEAREST\n",
    "    ).save(f\"automata/{N:03d}.jpg\")\n",
    "\n",
    "imgs = sorted(glob(\"automata/*.jpg\"))\n",
    "h, w = cv2.imread(imgs[0]).shape[:2]\n",
    "out = cv2.VideoWriter(\"automata.mp4\", cv2.VideoWriter_fourcc(*\"DIVX\"), 5, (w, h))\n",
    "\n",
    "for filename in imgs:\n",
    "    img = cv2.imread(filename)\n",
    "    out.write(img)\n",
    "\n",
    "out.release()"
   ]
  },
  {
   "cell_type": "markdown",
   "id": "c766e47b-af64-4b71-b5d0-661fd8d2f9ec",
   "metadata": {},
   "source": [
    "---"
   ]
  },
  {
   "cell_type": "code",
   "execution_count": 89,
   "id": "5b85bc0c-b205-48cc-a1eb-6031badd9cc1",
   "metadata": {},
   "outputs": [],
   "source": [
    "def turn_corners_on(A):\n",
    "    A[0, 0] = 1\n",
    "    A[-1, 0] = 1\n",
    "    A[0, -1] = 1\n",
    "    A[-1, -1] = 1"
   ]
  },
  {
   "cell_type": "code",
   "execution_count": 90,
   "id": "1a90206b-3ebe-46de-9dae-71f28cef8ddb",
   "metadata": {},
   "outputs": [
    {
     "name": "stderr",
     "output_type": "stream",
     "text": [
      "100%|█████████████████████████████████████████| 100/100 [00:15<00:00,  6.54it/s]\n"
     ]
    },
    {
     "data": {
      "text/plain": [
       "924"
      ]
     },
     "execution_count": 90,
     "metadata": {},
     "output_type": "execute_result"
    }
   ],
   "source": [
    "s = load(18)\n",
    "A = np.array(\n",
    "    [[\".#\".index(c) for c in l] for l in s.strip().split(\"\\n\")], dtype=np.uint8\n",
    ")\n",
    "turn_corners_on(A)\n",
    "\n",
    "for _ in tqdm(range(100)):\n",
    "    buffer = np.zeros_like(A, dtype=A.dtype)\n",
    "    A = np.pad(A, 1)\n",
    "    for i in range(1, len(A) - 1):\n",
    "        for j in range(1, len(A[0]) - 1):\n",
    "            buffer[i - 1, j - 1] = conv(A[i - 1 : i + 2, j - 1 : j + 2])\n",
    "    A = buffer\n",
    "    turn_corners_on(A)\n",
    "\n",
    "A.sum()"
   ]
  },
  {
   "cell_type": "code",
   "execution_count": 93,
   "id": "0b5312fb-c5f6-4352-a78f-a561cbe09895",
   "metadata": {},
   "outputs": [
    {
     "name": "stderr",
     "output_type": "stream",
     "text": [
      "100%|███████████████████████████████████████| 1000/1000 [03:21<00:00,  4.96it/s]\n",
      "OpenCV: FFMPEG: tag 0x58564944/'DIVX' is not supported with codec id 12 and format 'mp4 / MP4 (MPEG-4 Part 14)'\n",
      "OpenCV: FFMPEG: fallback to use tag 0x7634706d/'mp4v'\n"
     ]
    }
   ],
   "source": [
    "from PIL import Image\n",
    "import cv2\n",
    "import numpy as np\n",
    "from glob import glob\n",
    "\n",
    "\n",
    "s = load(18)\n",
    "A = np.array(\n",
    "    [[\".#\".index(c) for c in l] for l in s.strip().split(\"\\n\")], dtype=np.uint8\n",
    ")\n",
    "turn_corners_on(A)\n",
    "\n",
    "for N in tqdm(range(1000)):\n",
    "\n",
    "    buffer = np.zeros_like(A, dtype=A.dtype)\n",
    "    A = np.pad(A, 1)\n",
    "    for i in range(1, len(A) - 1):\n",
    "        for j in range(1, len(A[0]) - 1):\n",
    "            buffer[i - 1, j - 1] = conv(A[i - 1 : i + 2, j - 1 : j + 2])\n",
    "    A = buffer\n",
    "    turn_corners_on(A)\n",
    "\n",
    "    Image.fromarray(np.dstack([A * 245, A * 180, A * 65])).resize(\n",
    "        [400, 400], Image.NEAREST\n",
    "    ).save(f\"automata/{N:03d}.jpg\")\n",
    "\n",
    "imgs = sorted(glob(\"automata/*.jpg\"))\n",
    "h, w = cv2.imread(imgs[0]).shape[:2]\n",
    "out = cv2.VideoWriter(\n",
    "    \"automata_with_corners.mp4\", cv2.VideoWriter_fourcc(*\"DIVX\"), 5, (w, h)\n",
    ")\n",
    "\n",
    "for filename in imgs:\n",
    "    img = cv2.imread(filename)\n",
    "    out.write(img)\n",
    "\n",
    "out.release()"
   ]
  },
  {
   "cell_type": "code",
   "execution_count": 94,
   "id": "fb6e0746-b7f6-4a27-9031-79330918d821",
   "metadata": {},
   "outputs": [],
   "source": [
    "!rm -rf automata/*.jpg"
   ]
  },
  {
   "cell_type": "code",
   "execution_count": null,
   "id": "ff1f3382-fd05-4b4e-9553-60aad2fe6fcd",
   "metadata": {},
   "outputs": [],
   "source": []
  }
 ],
 "metadata": {
  "kernelspec": {
   "display_name": "platy-segmentation",
   "language": "python",
   "name": "platy-segmentation"
  },
  "language_info": {
   "codemirror_mode": {
    "name": "ipython",
    "version": 3
   },
   "file_extension": ".py",
   "mimetype": "text/x-python",
   "name": "python",
   "nbconvert_exporter": "python",
   "pygments_lexer": "ipython3",
   "version": "3.9.6"
  }
 },
 "nbformat": 4,
 "nbformat_minor": 5
}
