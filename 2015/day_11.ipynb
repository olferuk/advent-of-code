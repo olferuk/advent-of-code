{
 "cells": [
  {
   "cell_type": "code",
   "execution_count": 4,
   "id": "a83129f1-d2e0-41e6-9f01-4c285d3e7ffa",
   "metadata": {},
   "outputs": [
    {
     "name": "stdout",
     "output_type": "stream",
     "text": [
      "The lab_black extension is already loaded. To reload it, use:\n",
      "  %reload_ext lab_black\n"
     ]
    }
   ],
   "source": [
    "%load_ext lab_black"
   ]
  },
  {
   "cell_type": "code",
   "execution_count": 114,
   "id": "e3cf17eb-d9c6-4ff0-b36d-ff0a004778a8",
   "metadata": {},
   "outputs": [],
   "source": [
    "import numpy as np"
   ]
  },
  {
   "cell_type": "code",
   "execution_count": 115,
   "id": "94eabca4-f7c8-4d9d-9f11-6db2223ece1e",
   "metadata": {},
   "outputs": [],
   "source": [
    "def rule_1(s):\n",
    "    x = (np.roll(s, -1) - s)[:-1]\n",
    "    for c1, c2 in zip(x, x[1:]):\n",
    "        if c1 == c2 == 1:\n",
    "            return True\n",
    "    return False"
   ]
  },
  {
   "cell_type": "code",
   "execution_count": 116,
   "id": "8cc2abbb-3ea9-46f4-bc32-d5ce650b5932",
   "metadata": {},
   "outputs": [],
   "source": [
    "def rule_2(s):\n",
    "    for x in [8, 11, 14]:\n",
    "        if x in s:\n",
    "            return False\n",
    "    return True"
   ]
  },
  {
   "cell_type": "code",
   "execution_count": 109,
   "id": "c86b2ee3-2438-4321-9e72-e8fbc24faea2",
   "metadata": {},
   "outputs": [],
   "source": [
    "def rule_3(s):\n",
    "    x = (np.roll(s, -1) - s)[:-1]\n",
    "    iss = [i for i, d in enumerate(x) if d == 0]\n",
    "    if len(iss) < 2:\n",
    "        return False\n",
    "    return len(set([s[i] for i in iss])) >= 2"
   ]
  },
  {
   "cell_type": "code",
   "execution_count": 110,
   "id": "d7d3de11-7ad3-416e-9d27-39155a67cb10",
   "metadata": {},
   "outputs": [],
   "source": [
    "def add_one(s):\n",
    "    for k in range(len(s) - 1, -1, -1):\n",
    "        s[k] += 1\n",
    "        if s[k] == 25:\n",
    "            s[k] = 0\n",
    "        else:\n",
    "            break\n",
    "    return s"
   ]
  },
  {
   "cell_type": "code",
   "execution_count": 111,
   "id": "362642a3-e4ab-4d6d-9357-0f3a0dfd57b4",
   "metadata": {},
   "outputs": [
    {
     "name": "stdout",
     "output_type": "stream",
     "text": [
      "found\n"
     ]
    }
   ],
   "source": [
    "s = \"vzbxkghb\"\n",
    "s = np.array([ord(c) - ord(\"a\") for c in s])\n",
    "\n",
    "while True:\n",
    "    if rule_1(s) and rule_2(s) and rule_3(s):\n",
    "        print(\"found\")\n",
    "        break\n",
    "    s = add_one(s)"
   ]
  },
  {
   "cell_type": "code",
   "execution_count": 112,
   "id": "5c44951a-ed07-4a70-b83e-8eb21c4f496a",
   "metadata": {},
   "outputs": [
    {
     "data": {
      "text/plain": [
       "array([21, 25,  2,  0,  0,  1,  2,  2])"
      ]
     },
     "execution_count": 112,
     "metadata": {},
     "output_type": "execute_result"
    }
   ],
   "source": [
    "s"
   ]
  },
  {
   "cell_type": "code",
   "execution_count": 113,
   "id": "abc8c467-98b3-4d47-8ad1-e9e2980fee28",
   "metadata": {},
   "outputs": [
    {
     "data": {
      "text/plain": [
       "'vzcaabcc'"
      ]
     },
     "execution_count": 113,
     "metadata": {},
     "output_type": "execute_result"
    }
   ],
   "source": [
    "\"\".join([chr(x + ord(\"a\")) for x in s])"
   ]
  },
  {
   "cell_type": "markdown",
   "id": "20c0ccd3-4b89-4bea-85bd-8ab6ed988f01",
   "metadata": {},
   "source": [
    "---"
   ]
  },
  {
   "cell_type": "code",
   "execution_count": 11,
   "id": "809602a4-b3a7-468e-bae9-87798152a69a",
   "metadata": {},
   "outputs": [
    {
     "data": {
      "text/plain": [
       "3"
      ]
     },
     "execution_count": 11,
     "metadata": {},
     "output_type": "execute_result"
    }
   ],
   "source": [
    "ord(\"d\") - ord(\"a\")"
   ]
  },
  {
   "cell_type": "code",
   "execution_count": 12,
   "id": "ba4c9baa-fb57-45b0-be88-8ef9bedbbfca",
   "metadata": {},
   "outputs": [],
   "source": [
    "s = \"vzbxkghb\""
   ]
  },
  {
   "cell_type": "code",
   "execution_count": 73,
   "id": "49ee332e-ced8-42ee-8913-3e0a556d5560",
   "metadata": {},
   "outputs": [],
   "source": [
    "import pandas as pd"
   ]
  },
  {
   "cell_type": "code",
   "execution_count": 74,
   "id": "5b988797-289e-490f-99b7-dd0e98abf520",
   "metadata": {},
   "outputs": [
    {
     "data": {
      "text/plain": [
       "0    21\n",
       "1    25\n",
       "2     1\n",
       "3    23\n",
       "4    10\n",
       "5     6\n",
       "6     7\n",
       "7     1\n",
       "dtype: int64"
      ]
     },
     "execution_count": 74,
     "metadata": {},
     "output_type": "execute_result"
    }
   ],
   "source": [
    "pswd = pd.Series([ord(x) - ord(\"a\") for x in \"vzbxkghb\"])\n",
    "pswd"
   ]
  },
  {
   "cell_type": "code",
   "execution_count": 75,
   "id": "de387bea-117e-46e7-8250-dfbf0775edfa",
   "metadata": {},
   "outputs": [],
   "source": [
    "def next_password(pswd):\n",
    "    for i in range(len(pswd) - 1, -1, -1):\n",
    "        pswd[i] += 1\n",
    "        if pswd[i] == 26:\n",
    "            pswd[i] = 0\n",
    "        else:\n",
    "            break"
   ]
  },
  {
   "cell_type": "code",
   "execution_count": 147,
   "id": "88967c90-09da-44ce-a3cd-50c2e14be7de",
   "metadata": {},
   "outputs": [
    {
     "data": {
      "text/plain": [
       "0    21\n",
       "1    25\n",
       "2     1\n",
       "3    23\n",
       "4    10\n",
       "5     6\n",
       "6     8\n",
       "7     8\n",
       "dtype: int64"
      ]
     },
     "execution_count": 147,
     "metadata": {},
     "output_type": "execute_result"
    }
   ],
   "source": [
    "next_password(pswd)\n",
    "pswd"
   ]
  },
  {
   "cell_type": "markdown",
   "id": "62da9b7b-6cda-42b4-bb04-135b012671c1",
   "metadata": {},
   "source": [
    "* Passwords must include one increasing straight of at least three letters, like abc, bcd, cde, and so on, up to xyz. They cannot skip letters; abd doesn't count.\n",
    "* Passwords may not contain the letters i, o, or l, as these letters can be mistaken for other characters and are therefore confusing.\n",
    "* Passwords must contain at least two different, non-overlapping pairs of letters, like aa, bb, or zz.\n"
   ]
  },
  {
   "cell_type": "code",
   "execution_count": 151,
   "id": "2ec999c1-9ead-4b01-8f94-4110c884914a",
   "metadata": {},
   "outputs": [
    {
     "data": {
      "text/plain": [
       "False"
      ]
     },
     "execution_count": 151,
     "metadata": {},
     "output_type": "execute_result"
    }
   ],
   "source": [
    "rule1 = (pswd.diff().rolling(window=2).agg(lambda s: (s == 1).all()) == 1).any()\n",
    "rule1"
   ]
  },
  {
   "cell_type": "code",
   "execution_count": 152,
   "id": "db094953-7738-4c9c-856c-ae083f69487d",
   "metadata": {},
   "outputs": [
    {
     "data": {
      "text/plain": [
       "False"
      ]
     },
     "execution_count": 152,
     "metadata": {},
     "output_type": "execute_result"
    }
   ],
   "source": [
    "rule2 = not pswd.isin([8, 11, 14]).any()\n",
    "rule2"
   ]
  },
  {
   "cell_type": "code",
   "execution_count": 153,
   "id": "ee6bbe44-e61b-4f03-b682-928eaebd071b",
   "metadata": {},
   "outputs": [
    {
     "data": {
      "text/plain": [
       "False"
      ]
     },
     "execution_count": 153,
     "metadata": {},
     "output_type": "execute_result"
    }
   ],
   "source": [
    "rule3 = len(set([a for a, b in zip(pswd, pswd[1:]) if a == b])) >= 2\n",
    "rule3"
   ]
  },
  {
   "cell_type": "code",
   "execution_count": 154,
   "id": "b88fa017-295a-485a-84b3-6bbe8091d73a",
   "metadata": {},
   "outputs": [
    {
     "name": "stdout",
     "output_type": "stream",
     "text": [
      "found\n"
     ]
    }
   ],
   "source": [
    "pswd = pd.Series([ord(x) - ord(\"a\") for x in \"vzbxkghb\"])\n",
    "while True:\n",
    "    rule1 = (pswd.diff().rolling(window=2).agg(lambda s: (s == 1).all()) == 1).any()\n",
    "    rule2 = not pswd.isin([8, 11, 14]).any()\n",
    "    rule3 = len(set([a for a, b in zip(pswd, pswd[1:]) if a == b])) >= 2\n",
    "    if rule1 and rule2 and rule3:\n",
    "        print(\"found\")\n",
    "        break\n",
    "    next_password(pswd)"
   ]
  },
  {
   "cell_type": "code",
   "execution_count": 155,
   "id": "d92ae7c3-8e3f-4520-a983-3f466ed46d33",
   "metadata": {},
   "outputs": [
    {
     "data": {
      "text/plain": [
       "'vzbxxyzz'"
      ]
     },
     "execution_count": 155,
     "metadata": {},
     "output_type": "execute_result"
    }
   ],
   "source": [
    "\"\".join([chr(x + ord(\"a\")) for x in pswd])"
   ]
  },
  {
   "cell_type": "code",
   "execution_count": 188,
   "id": "0cc0498a-ea72-4dc6-a832-a5cfd2c9a403",
   "metadata": {},
   "outputs": [],
   "source": [
    "def next_password(pswd):\n",
    "    def check_for_n(n):\n",
    "        i = pswd.index[(n == pswd)]\n",
    "        if len(i) == 0:\n",
    "            return\n",
    "        i = i[0]\n",
    "        pswd[i] = n + 1\n",
    "        pswd[i + 1 :] = 0\n",
    "\n",
    "    for i in range(len(pswd) - 1, -1, -1):\n",
    "        pswd[i] += 1\n",
    "        if pswd[i] == 26:\n",
    "            pswd[i] = 0\n",
    "        else:\n",
    "            break\n",
    "\n",
    "    check_for_n(8)\n",
    "    check_for_n(11)\n",
    "    check_for_n(14)"
   ]
  },
  {
   "cell_type": "code",
   "execution_count": 192,
   "id": "e0ef5cb1-5faa-4d77-b7fc-ff9881aaaa10",
   "metadata": {},
   "outputs": [
    {
     "name": "stdout",
     "output_type": "stream",
     "text": [
      "found\n"
     ]
    },
    {
     "data": {
      "text/plain": [
       "'vzcaabcc'"
      ]
     },
     "execution_count": 192,
     "metadata": {},
     "output_type": "execute_result"
    }
   ],
   "source": [
    "pswd = pd.Series([ord(x) - ord(\"a\") for x in \"vzbxxyzz\"])\n",
    "next_password(pswd)\n",
    "while True:\n",
    "    rule1 = (pswd.diff().rolling(window=2).agg(lambda s: (s == 1).all()) == 1).any()\n",
    "    rule2 = not pswd.isin([8, 11, 14]).any()\n",
    "    rule3 = len(set([a for a, b in zip(pswd, pswd[1:]) if a == b])) >= 2\n",
    "    if rule1 and rule2 and rule3:\n",
    "        print(\"found\")\n",
    "        break\n",
    "    next_password(pswd)\n",
    "\"\".join([chr(x + ord(\"a\")) for x in pswd])"
   ]
  },
  {
   "cell_type": "code",
   "execution_count": null,
   "id": "4e1a9f61-120f-4a3e-88ae-ec1585278e61",
   "metadata": {},
   "outputs": [],
   "source": []
  }
 ],
 "metadata": {
  "kernelspec": {
   "display_name": "Python (DE)",
   "language": "python",
   "name": "python3"
  },
  "language_info": {
   "codemirror_mode": {
    "name": "ipython",
    "version": 3
   },
   "file_extension": ".py",
   "mimetype": "text/x-python",
   "name": "python",
   "nbconvert_exporter": "python",
   "pygments_lexer": "ipython3",
   "version": "3.7.12"
  }
 },
 "nbformat": 4,
 "nbformat_minor": 5
}
