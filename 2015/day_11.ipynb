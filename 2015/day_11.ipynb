{
 "cells": [
  {
   "cell_type": "code",
   "execution_count": 1,
   "id": "a83129f1-d2e0-41e6-9f01-4c285d3e7ffa",
   "metadata": {},
   "outputs": [],
   "source": [
    "%load_ext lab_black"
   ]
  },
  {
   "cell_type": "code",
   "execution_count": 2,
   "id": "e3cf17eb-d9c6-4ff0-b36d-ff0a004778a8",
   "metadata": {},
   "outputs": [],
   "source": [
    "import numpy as np"
   ]
  },
  {
   "cell_type": "code",
   "execution_count": 3,
   "id": "94eabca4-f7c8-4d9d-9f11-6db2223ece1e",
   "metadata": {},
   "outputs": [],
   "source": [
    "def rule_1(s):\n",
    "    x = (np.roll(s, -1) - s)[:-1]\n",
    "    for c1, c2 in zip(x, x[1:]):\n",
    "        if c1 == c2 == 1:\n",
    "            return True\n",
    "    return False"
   ]
  },
  {
   "cell_type": "code",
   "execution_count": 4,
   "id": "8cc2abbb-3ea9-46f4-bc32-d5ce650b5932",
   "metadata": {},
   "outputs": [],
   "source": [
    "def rule_2(s):\n",
    "    for x in [105, 108, 111]:\n",
    "        if x in s:\n",
    "            return False\n",
    "    return True"
   ]
  },
  {
   "cell_type": "code",
   "execution_count": 5,
   "id": "c86b2ee3-2438-4321-9e72-e8fbc24faea2",
   "metadata": {},
   "outputs": [],
   "source": [
    "def rule_3(s):\n",
    "    x = (np.roll(s, -1) - s)[:-1]\n",
    "    iss = [i for i, d in enumerate(x) if d == 0]\n",
    "    if len(iss) < 2:\n",
    "        return False\n",
    "    return len(set([s[i] for i in iss])) >= 2"
   ]
  },
  {
   "cell_type": "code",
   "execution_count": 6,
   "id": "d7d3de11-7ad3-416e-9d27-39155a67cb10",
   "metadata": {},
   "outputs": [],
   "source": [
    "def add_one(s):\n",
    "    for k in range(len(s) - 1, -1, -1):\n",
    "        s[k] += 1\n",
    "        if s[k] == 25:\n",
    "            s[k] = 0\n",
    "        else:\n",
    "            break\n",
    "    return s"
   ]
  },
  {
   "cell_type": "code",
   "execution_count": 8,
   "id": "362642a3-e4ab-4d6d-9357-0f3a0dfd57b4",
   "metadata": {},
   "outputs": [
    {
     "name": "stdout",
     "output_type": "stream",
     "text": [
      "found\n"
     ]
    }
   ],
   "source": [
    "s = \"vzbxkghb\"\n",
    "s = np.array([ord(c) - ord(\"a\") for c in s])\n",
    "\n",
    "while True:\n",
    "    if rule_1(s) and rule_2(s) and rule_3(s):\n",
    "        print(\"found\")\n",
    "        break\n",
    "    s = add_one(s)"
   ]
  },
  {
   "cell_type": "code",
   "execution_count": 9,
   "id": "5c44951a-ed07-4a70-b83e-8eb21c4f496a",
   "metadata": {},
   "outputs": [
    {
     "data": {
      "text/plain": [
       "array([21, 25,  2,  0,  0,  1,  2,  2])"
      ]
     },
     "execution_count": 9,
     "metadata": {},
     "output_type": "execute_result"
    }
   ],
   "source": [
    "s"
   ]
  },
  {
   "cell_type": "code",
   "execution_count": 11,
   "id": "abc8c467-98b3-4d47-8ad1-e9e2980fee28",
   "metadata": {},
   "outputs": [
    {
     "data": {
      "text/plain": [
       "'vzcaabcc'"
      ]
     },
     "execution_count": 11,
     "metadata": {},
     "output_type": "execute_result"
    }
   ],
   "source": [
    "\"\".join([chr(x + ord(\"a\")) for x in s])"
   ]
  },
  {
   "cell_type": "code",
   "execution_count": null,
   "id": "809602a4-b3a7-468e-bae9-87798152a69a",
   "metadata": {},
   "outputs": [],
   "source": []
  }
 ],
 "metadata": {
  "kernelspec": {
   "display_name": "platy-segmentation",
   "language": "python",
   "name": "platy-segmentation"
  },
  "language_info": {
   "codemirror_mode": {
    "name": "ipython",
    "version": 3
   },
   "file_extension": ".py",
   "mimetype": "text/x-python",
   "name": "python",
   "nbconvert_exporter": "python",
   "pygments_lexer": "ipython3",
   "version": "3.9.6"
  }
 },
 "nbformat": 4,
 "nbformat_minor": 5
}
