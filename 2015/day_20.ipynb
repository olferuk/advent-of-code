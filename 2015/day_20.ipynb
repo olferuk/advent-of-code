{
 "cells": [
  {
   "cell_type": "code",
   "execution_count": 87,
   "id": "154c93d0-b042-4626-9e09-eac96211dcc2",
   "metadata": {},
   "outputs": [
    {
     "name": "stdout",
     "output_type": "stream",
     "text": [
      "The lab_black extension is already loaded. To reload it, use:\n",
      "  %reload_ext lab_black\n"
     ]
    }
   ],
   "source": [
    "%load_ext lab_black"
   ]
  },
  {
   "cell_type": "code",
   "execution_count": 89,
   "id": "a8d424cf-306b-4061-9304-3e28c8780113",
   "metadata": {},
   "outputs": [],
   "source": [
    "x = 3310000"
   ]
  },
  {
   "cell_type": "code",
   "execution_count": 6,
   "id": "cb2f9cc9-fea5-4052-bab1-491957cb5644",
   "metadata": {},
   "outputs": [],
   "source": [
    "x = 13"
   ]
  },
  {
   "cell_type": "code",
   "execution_count": 7,
   "id": "14826b76-7ac2-457f-94e1-319f2c44021c",
   "metadata": {},
   "outputs": [],
   "source": [
    "import numpy as np"
   ]
  },
  {
   "cell_type": "code",
   "execution_count": 90,
   "id": "b901661c-389b-42e1-975b-c10d793f6372",
   "metadata": {},
   "outputs": [],
   "source": [
    "def all_prods(n):\n",
    "    s = []\n",
    "    for k in range(1, n + 1):\n",
    "        if (n // k) * k == n:\n",
    "            s.append(k)\n",
    "    return np.array(s)"
   ]
  },
  {
   "cell_type": "code",
   "execution_count": 93,
   "id": "f1079504-743d-4e8d-98df-ce49ad229674",
   "metadata": {},
   "outputs": [
    {
     "name": "stdout",
     "output_type": "stream",
     "text": [
      "House 1 got 10 presents\t([1])\n",
      "House 2 got 30 presents\t([1 2])\n",
      "House 3 got 40 presents\t([1 3])\n",
      "House 4 got 70 presents\t([1 2 4])\n",
      "House 5 got 60 presents\t([1 5])\n",
      "House 6 got 120 presents\t([1 2 3 6])\n",
      "House 7 got 80 presents\t([1 7])\n",
      "House 8 got 150 presents\t([1 2 4 8])\n",
      "House 9 got 130 presents\t([1 3 9])\n",
      "House 10 got 180 presents\t([ 1  2  5 10])\n",
      "House 11 got 120 presents\t([ 1 11])\n",
      "House 12 got 280 presents\t([ 1  2  3  4  6 12])\n",
      "House 13 got 140 presents\t([ 1 13])\n",
      "House 14 got 240 presents\t([ 1  2  7 14])\n"
     ]
    }
   ],
   "source": [
    "for n in range(1, 15):\n",
    "    s = all_prods(n)\n",
    "    print(f\"House {n} got {sum(s)*10} presents\\t({s})\")"
   ]
  },
  {
   "cell_type": "code",
   "execution_count": 47,
   "id": "448d47ad-b340-49cb-a215-60d1d1378d16",
   "metadata": {},
   "outputs": [],
   "source": []
  },
  {
   "cell_type": "code",
   "execution_count": null,
   "id": "9ddf9970-f32b-416e-aba4-ea26c4fa4923",
   "metadata": {},
   "outputs": [],
   "source": [
    "all_prods(x).sum() * 10"
   ]
  },
  {
   "cell_type": "code",
   "execution_count": 48,
   "id": "3aab0239-d97e-4a5b-929a-97710cd4cfb9",
   "metadata": {},
   "outputs": [],
   "source": [
    "from tqdm import tqdm"
   ]
  },
  {
   "cell_type": "code",
   "execution_count": 81,
   "id": "45fb32dc-bf35-49a9-ac15-8f53767a481e",
   "metadata": {},
   "outputs": [
    {
     "data": {
      "text/plain": [
       "True"
      ]
     },
     "execution_count": 81,
     "metadata": {},
     "output_type": "execute_result"
    }
   ],
   "source": [
    "all_prods(1918458).sum() * 10 > target"
   ]
  },
  {
   "cell_type": "code",
   "execution_count": 82,
   "id": "8d7a2dd5-2448-4972-af58-98c372703f4d",
   "metadata": {},
   "outputs": [],
   "source": [
    "target = 33_100_000\n",
    "a, b = (1, 9999999)\n",
    "\n",
    "while True:\n",
    "    c = (a + b) // 2\n",
    "    if all_prods(c).sum() * 10 >= target:\n",
    "        if (a, c) == (a, b):\n",
    "            break\n",
    "        a, b = a, c\n",
    "    else:\n",
    "        if (c, b) == (a, b):\n",
    "            break\n",
    "        a, b = c, b"
   ]
  },
  {
   "cell_type": "code",
   "execution_count": 85,
   "id": "538524d9-00db-4200-b11f-bfb19a705547",
   "metadata": {},
   "outputs": [
    {
     "data": {
      "text/plain": [
       "14038080"
      ]
     },
     "execution_count": 85,
     "metadata": {},
     "output_type": "execute_result"
    }
   ],
   "source": [
    "all_prods(1403807).sum() * 10"
   ]
  },
  {
   "cell_type": "code",
   "execution_count": 86,
   "id": "beb7f52b-ad70-46e3-b1a4-a2bbd8fe0cb7",
   "metadata": {},
   "outputs": [
    {
     "data": {
      "text/plain": [
       "42134400"
      ]
     },
     "execution_count": 86,
     "metadata": {},
     "output_type": "execute_result"
    }
   ],
   "source": [
    "all_prods(1403808).sum() * 10"
   ]
  },
  {
   "cell_type": "code",
   "execution_count": 83,
   "id": "13cd5a14-7a11-435b-b76f-14a4dcb36ee2",
   "metadata": {},
   "outputs": [
    {
     "data": {
      "text/plain": [
       "(1403807, 1403808)"
      ]
     },
     "execution_count": 83,
     "metadata": {},
     "output_type": "execute_result"
    }
   ],
   "source": [
    "a, b"
   ]
  },
  {
   "cell_type": "code",
   "execution_count": 74,
   "id": "09bca8ad-82c6-4997-aeae-665525b7c8eb",
   "metadata": {},
   "outputs": [
    {
     "data": {
      "text/plain": [
       "(1998047, 2000000)"
      ]
     },
     "execution_count": 74,
     "metadata": {},
     "output_type": "execute_result"
    }
   ],
   "source": [
    "a, b"
   ]
  },
  {
   "cell_type": "code",
   "execution_count": 71,
   "id": "abf103c9-8a20-4ab0-8f46-16e0c463b22a",
   "metadata": {},
   "outputs": [
    {
     "data": {
      "text/plain": [
       "(4980405, True)"
      ]
     },
     "execution_count": 71,
     "metadata": {},
     "output_type": "execute_result"
    }
   ],
   "source": [
    "x = all_prods(2000000).sum()\n",
    "x, x * 10 >= 33100000"
   ]
  },
  {
   "cell_type": "code",
   "execution_count": 44,
   "id": "922a621c-153d-4a33-9395-b9688c6beba8",
   "metadata": {},
   "outputs": [
    {
     "name": "stderr",
     "output_type": "stream",
     "text": [
      "  0%|                                     | 80/200000 [00:10<7:26:13,  7.47it/s]"
     ]
    },
    {
     "name": "stdout",
     "output_type": "stream",
     "text": [
      "1000080\n"
     ]
    },
    {
     "name": "stderr",
     "output_type": "stream",
     "text": [
      "\n"
     ]
    }
   ],
   "source": [
    "for x in tqdm(range(1000000, 1200000)):\n",
    "    if all_prods(x).sum() * 10 >= target:\n",
    "        print(x)\n",
    "        break"
   ]
  },
  {
   "cell_type": "code",
   "execution_count": 56,
   "id": "253d6715-0fdc-4198-80a5-2257ca9211e0",
   "metadata": {},
   "outputs": [
    {
     "name": "stdout",
     "output_type": "stream",
     "text": [
      "24804370\n",
      "33100000\n"
     ]
    }
   ],
   "source": [
    "x = 1000000\n",
    "print(f\"{all_prods(x).sum() * 10}\\n{33100000}\")"
   ]
  },
  {
   "cell_type": "code",
   "execution_count": null,
   "id": "47c18308-3238-4e33-8d7f-051980b13a12",
   "metadata": {},
   "outputs": [],
   "source": [
    "for _ in range(10):\n",
    "    "
   ]
  }
 ],
 "metadata": {
  "kernelspec": {
   "display_name": "Python (DE)",
   "language": "python",
   "name": "python3"
  },
  "language_info": {
   "codemirror_mode": {
    "name": "ipython",
    "version": 3
   },
   "file_extension": ".py",
   "mimetype": "text/x-python",
   "name": "python",
   "nbconvert_exporter": "python",
   "pygments_lexer": "ipython3",
   "version": "3.7.12"
  }
 },
 "nbformat": 4,
 "nbformat_minor": 5
}
