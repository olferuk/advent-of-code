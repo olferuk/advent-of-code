{
 "cells": [
  {
   "cell_type": "code",
   "execution_count": 1,
   "id": "2f8f9795-01a5-4ca1-bb0c-afd1445d3fb2",
   "metadata": {},
   "outputs": [],
   "source": [
    "%load_ext lab_black\n",
    "\n",
    "from puzzles import load"
   ]
  },
  {
   "cell_type": "code",
   "execution_count": 4,
   "id": "7ae2534b-eb52-45d3-9ce9-5333ed18894a",
   "metadata": {},
   "outputs": [],
   "source": [
    "def encode_message(message):\n",
    "    encoded_string = \"\"\n",
    "    i = 0\n",
    "    while i <= len(message) - 1:\n",
    "        count = 1\n",
    "        ch = message[i]\n",
    "        j = i\n",
    "        while j < len(message) - 1:\n",
    "            if message[j] == message[j + 1]:\n",
    "                count = count + 1\n",
    "                j = j + 1\n",
    "            else:\n",
    "                break\n",
    "        encoded_string = encoded_string + str(count) + ch\n",
    "        i = j + 1\n",
    "    return encoded_string"
   ]
  },
  {
   "cell_type": "code",
   "execution_count": 6,
   "id": "cb9cdc01-796a-471d-9584-0b493a6f8030",
   "metadata": {},
   "outputs": [],
   "source": [
    "s = load(10).strip()\n",
    "\n",
    "for _ in range(40):\n",
    "    s = encode_message(s)\n",
    "\n",
    "len(s)"
   ]
  },
  {
   "cell_type": "markdown",
   "id": "0cd844ef-41ee-446d-b99f-5358a12792e2",
   "metadata": {},
   "source": [
    "---"
   ]
  },
  {
   "cell_type": "code",
   "execution_count": 8,
   "id": "b7a29ba3-804e-47fd-a7c9-b40c876fb595",
   "metadata": {},
   "outputs": [],
   "source": [
    "from tqdm import tqdm"
   ]
  },
  {
   "cell_type": "code",
   "execution_count": 9,
   "id": "9bef8b1f-3e5c-4f22-a921-4e1fb80a9e6a",
   "metadata": {},
   "outputs": [
    {
     "name": "stderr",
     "output_type": "stream",
     "text": [
      "100%|█████████████████████████████████████████████████████████████████████████████████████████████████████████████████████████████████████████████████████████| 50/50 [1:16:44<00:00, 92.10s/it]\n"
     ]
    },
    {
     "data": {
      "text/plain": [
       "5103798"
      ]
     },
     "execution_count": 9,
     "metadata": {},
     "output_type": "execute_result"
    }
   ],
   "source": [
    "s = load(10).strip()\n",
    "\n",
    "for _ in tqdm(range(50)):\n",
    "    s = encode_message(s)\n",
    "\n",
    "len(s)"
   ]
  }
 ],
 "metadata": {
  "kernelspec": {
   "display_name": "platy-segmentation",
   "language": "python",
   "name": "platy-segmentation"
  },
  "language_info": {
   "codemirror_mode": {
    "name": "ipython",
    "version": 3
   },
   "file_extension": ".py",
   "mimetype": "text/x-python",
   "name": "python",
   "nbconvert_exporter": "python",
   "pygments_lexer": "ipython3",
   "version": "3.9.6"
  }
 },
 "nbformat": 4,
 "nbformat_minor": 5
}
