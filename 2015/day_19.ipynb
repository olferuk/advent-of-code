{
 "cells": [
  {
   "cell_type": "code",
   "execution_count": 51,
   "id": "41a17d5d-87f7-4b6e-bf91-c03d45cac8ac",
   "metadata": {},
   "outputs": [
    {
     "name": "stdout",
     "output_type": "stream",
     "text": [
      "The lab_black extension is already loaded. To reload it, use:\n",
      "  %reload_ext lab_black\n"
     ]
    }
   ],
   "source": [
    "%load_ext lab_black\n",
    "\n",
    "from puzzles import load\n",
    "\n",
    "import re"
   ]
  },
  {
   "cell_type": "code",
   "execution_count": 52,
   "id": "f8e97e8b-23c7-4d83-99ef-547687843aa9",
   "metadata": {},
   "outputs": [],
   "source": [
    "lines = load(19).strip().split(\"\\n\")\n",
    "rules, molecule = lines[:-2], lines[-1]\n",
    "rules = [tuple(s.split(\" => \")) for s in rules]"
   ]
  },
  {
   "cell_type": "code",
   "execution_count": 53,
   "id": "d1985a0a-6e65-43fc-b29e-2cb66f376120",
   "metadata": {},
   "outputs": [
    {
     "data": {
      "text/plain": [
       "576"
      ]
     },
     "execution_count": 53,
     "metadata": {},
     "output_type": "execute_result"
    }
   ],
   "source": [
    "mols = set()\n",
    "for k, v in rules:\n",
    "    for m in re.finditer(k, molecule):\n",
    "        s = molecule[::]\n",
    "        s = s[: m.start()] + v + s[m.start() + len(k) :]\n",
    "        mols.add(s)\n",
    "\n",
    "len(mols)"
   ]
  },
  {
   "cell_type": "code",
   "execution_count": 54,
   "id": "1e192178-2bd4-483f-b6f3-382aa405bf06",
   "metadata": {},
   "outputs": [],
   "source": [
    "start = \"e\""
   ]
  },
  {
   "cell_type": "code",
   "execution_count": 57,
   "id": "6a08410d-3bd1-41a3-aa0b-ff7b9f23bce2",
   "metadata": {},
   "outputs": [],
   "source": [
    "rules = sorted(rules, key=lambda t: -len(t[1]))"
   ]
  },
  {
   "cell_type": "code",
   "execution_count": 66,
   "id": "1afb204d-47b2-411a-89bc-57a913d8d4c2",
   "metadata": {},
   "outputs": [],
   "source": [
    "def get_n(s, token):\n",
    "    return len(list(re.finditer(token, molecule)))"
   ]
  },
  {
   "cell_type": "raw",
   "id": "a1cdb2d5-7467-40f3-b75c-c1de6e43d267",
   "metadata": {},
   "source": [
    "a = np.arange(len(rules))\n",
    "np.random.shuffle(a)"
   ]
  },
  {
   "cell_type": "code",
   "execution_count": 91,
   "id": "5947c68d-571f-47e6-818e-54ccddcba8e7",
   "metadata": {},
   "outputs": [
    {
     "name": "stderr",
     "output_type": "stream",
     "text": [
      "100%|██████████████████████████████████| 500000/500000 [18:42<00:00, 445.54it/s]\n"
     ]
    },
    {
     "data": {
      "text/plain": [
       "272"
      ]
     },
     "execution_count": 91,
     "metadata": {},
     "output_type": "execute_result"
    }
   ],
   "source": [
    "from tqdm import tqdm\n",
    "\n",
    "best_steps = 272\n",
    "\n",
    "for _ in tqdm(range(500000)):\n",
    "\n",
    "    s = molecule[::]\n",
    "    n_steps = 0\n",
    "    s_old = \"e\"\n",
    "\n",
    "    while s_old != s:\n",
    "        s_old = s\n",
    "\n",
    "        a = np.arange(len(rules))\n",
    "        np.random.shuffle(a)\n",
    "\n",
    "        for a, b in [rules[i] for i in a]:\n",
    "            if b in s:\n",
    "                n_steps += get_n(s, b)\n",
    "                s = s.replace(b, a)\n",
    "                break\n",
    "\n",
    "    if s == \"e\" and n_steps < best_steps:\n",
    "        best_steps = n_steps\n",
    "\n",
    "best_steps"
   ]
  },
  {
   "cell_type": "code",
   "execution_count": null,
   "id": "1a4d4056-656a-416f-a213-9fe2afa31003",
   "metadata": {},
   "outputs": [],
   "source": []
  }
 ],
 "metadata": {
  "kernelspec": {
   "display_name": "Python (DE)",
   "language": "python",
   "name": "python3"
  },
  "language_info": {
   "codemirror_mode": {
    "name": "ipython",
    "version": 3
   },
   "file_extension": ".py",
   "mimetype": "text/x-python",
   "name": "python",
   "nbconvert_exporter": "python",
   "pygments_lexer": "ipython3",
   "version": "3.7.12"
  }
 },
 "nbformat": 4,
 "nbformat_minor": 5
}
