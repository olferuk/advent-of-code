{
 "cells": [
  {
   "cell_type": "code",
   "execution_count": 1,
   "id": "8041fc4d-9a5b-4952-85c5-cfb369feaf8e",
   "metadata": {},
   "outputs": [],
   "source": [
    "%load_ext lab_black"
   ]
  },
  {
   "cell_type": "raw",
   "id": "7342bf18-1f37-437b-a917-d4a3e12dda3b",
   "metadata": {},
   "source": [
    "To continue, please consult the code grid in the manual.  Enter the code at row 2978, column 3083."
   ]
  },
  {
   "cell_type": "code",
   "execution_count": 3,
   "id": "8933483c-87a6-4f3e-a8e1-39b54c7c2998",
   "metadata": {},
   "outputs": [],
   "source": []
  },
  {
   "cell_type": "code",
   "execution_count": 4,
   "id": "015c6f00-05c6-4b7d-888a-62f2d9ffa620",
   "metadata": {},
   "outputs": [
    {
     "data": {
      "text/plain": [
       "31916031"
      ]
     },
     "execution_count": 4,
     "metadata": {},
     "output_type": "execute_result"
    }
   ],
   "source": [
    "x * k % m"
   ]
  },
  {
   "cell_type": "raw",
   "id": "1b8a2ac2-dec5-4a36-8964-a86c95c6e1fa",
   "metadata": {},
   "source": [
    "   | 1   2   3   4   5   6  \n",
    "---+---+---+---+---+---+---+\n",
    " 1 |  1   3   6  10  15  21\n",
    " 2 |  2   5   9  14  20\n",
    " 3 |  4   8  13  19\n",
    " 4 |  7  12  18\n",
    " 5 | 11  17\n",
    " 6 | 16"
   ]
  },
  {
   "cell_type": "code",
   "execution_count": 43,
   "id": "f1512c61-e35e-43f8-b3ce-ec7f7d68e2ed",
   "metadata": {},
   "outputs": [
    {
     "name": "stdout",
     "output_type": "stream",
     "text": [
      "16 7 1 4432754\n"
     ]
    },
    {
     "data": {
      "text/plain": [
       "(10, 18, 18361853)"
      ]
     },
     "execution_count": 43,
     "metadata": {},
     "output_type": "execute_result"
    }
   ],
   "source": [
    "def get_row_start(k):\n",
    "    x = 1\n",
    "    dx = 1\n",
    "    for k in range(k - 1):\n",
    "        x += dx\n",
    "        dx += 1\n",
    "    return x\n",
    "\n",
    "\n",
    "print(get_row_start(6), get_row_start(4), get_row_start(1), get_row_start(2978))\n",
    "\n",
    "\n",
    "def get_col_number(x, dx, col):\n",
    "    for _ in range(col - 1):\n",
    "        x += dx\n",
    "        dx += 1\n",
    "    return x\n",
    "\n",
    "\n",
    "get_col_number(1, 2, 4), get_col_number(7, 5, 3), get_col_number(4432754, 2979, 3083)"
   ]
  },
  {
   "cell_type": "markdown",
   "id": "135d574d-a73a-4401-b2b8-aeb67ab2d652",
   "metadata": {},
   "source": [
    "18361853"
   ]
  },
  {
   "cell_type": "raw",
   "id": "d318addd-2f81-40a2-a545-ff2402f753f2",
   "metadata": {},
   "source": [
    "   |    1         2         3         4         5         6\n",
    "---+---------+---------+---------+---------+---------+---------+\n",
    " 1 | 20151125  18749137  17289845  30943339  10071777  33511524\n",
    " 2 | 31916031  21629792  16929656   7726640  15514188   4041754\n",
    " 3 | 16080970   8057251   1601130   7981243  11661866  16474243\n",
    " 4 | 24592653  32451966  21345942   9380097  10600672  31527494\n",
    " 5 |    77061  17552253  28094349   6899651   9250759  31663883\n",
    " 6 | 33071741   6796745  25397450  24659492   1534922  27995004"
   ]
  },
  {
   "cell_type": "code",
   "execution_count": 45,
   "id": "0172f4dc-4a6a-4ec2-a255-2bf42a81aa8d",
   "metadata": {},
   "outputs": [],
   "source": [
    "from tqdm import tqdm"
   ]
  },
  {
   "cell_type": "code",
   "execution_count": 48,
   "id": "4a5560aa-e2de-407e-b2e3-d004e8695912",
   "metadata": {},
   "outputs": [
    {
     "name": "stderr",
     "output_type": "stream",
     "text": [
      "100%|███████████████████████████| 18361852/18361852 [00:02<00:00, 6933657.92it/s]\n"
     ]
    }
   ],
   "source": [
    "x = 20151125\n",
    "k = 252533\n",
    "m = 33554393\n",
    "\n",
    "for _ in tqdm(range(18361853 - 1)):\n",
    "    x = x * k % m"
   ]
  },
  {
   "cell_type": "code",
   "execution_count": 49,
   "id": "3da81645-ca18-48b0-8448-9b4f3e283f34",
   "metadata": {},
   "outputs": [
    {
     "data": {
      "text/plain": [
       "2650453"
      ]
     },
     "execution_count": 49,
     "metadata": {},
     "output_type": "execute_result"
    }
   ],
   "source": [
    "x"
   ]
  },
  {
   "cell_type": "code",
   "execution_count": null,
   "id": "97f02537-a801-4c3e-8c5b-a19459314ee8",
   "metadata": {},
   "outputs": [],
   "source": []
  }
 ],
 "metadata": {
  "kernelspec": {
   "display_name": "Python 3 (ipykernel)",
   "language": "python",
   "name": "python3"
  },
  "language_info": {
   "codemirror_mode": {
    "name": "ipython",
    "version": 3
   },
   "file_extension": ".py",
   "mimetype": "text/x-python",
   "name": "python",
   "nbconvert_exporter": "python",
   "pygments_lexer": "ipython3",
   "version": "3.10.9"
  }
 },
 "nbformat": 4,
 "nbformat_minor": 5
}
