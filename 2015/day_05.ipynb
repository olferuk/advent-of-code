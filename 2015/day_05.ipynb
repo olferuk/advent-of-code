{
 "cells": [
  {
   "cell_type": "code",
   "execution_count": 1,
   "id": "f91cdfcc-52be-49c6-8f88-0701cf791898",
   "metadata": {},
   "outputs": [],
   "source": [
    "%load_ext lab_black\n",
    "\n",
    "from puzzles import load"
   ]
  },
  {
   "cell_type": "markdown",
   "id": "fdcb79ab-f32d-4af5-84b7-796d7d2788c2",
   "metadata": {},
   "source": [
    "---"
   ]
  },
  {
   "cell_type": "markdown",
   "id": "33158042-5bb6-4720-b779-83e6f8139a41",
   "metadata": {},
   "source": [
    "**--- Day 5: Doesn't He Have Intern-Elves For This? ---**\n",
    "\n",
    "Santa needs help figuring out which strings in his text file are naughty or nice.\n",
    "\n",
    "A nice string is one with all of the following properties:\n",
    "\n",
    "* It contains at least three vowels (`aeiou` only), like `aei`, `xazegov`, or `aeiouaeiouaeiou`.\n",
    "* It contains at least one letter that appears twice in a row, like xx, abcdde (dd), or aabbccdd (aa, bb, cc, or dd).\n",
    "* It does not contain the strings `ab`, `cd`, `pq`, or `xy`, even if they are part of one of the other requirements.\n",
    "\n",
    "For example:\n",
    "\n",
    "* ugknbfddgicrmopn is nice because it has at least three vowels (u...i...o...), a double letter (...dd...), and none of the disallowed substrings.\n",
    "* aaa is nice because it has at least three vowels and a double letter, even though the letters used by different rules overlap.\n",
    "* jchzalrnumimnmhp is naughty because it has no double letter.\n",
    "* haegwjzuvuyypxyu is naughty because it contains the string xy.\n",
    "* dvszwmarrgswjxmb is naughty because it contains only one vowel.\n",
    "\n",
    "How many strings are nice?"
   ]
  },
  {
   "cell_type": "code",
   "execution_count": 49,
   "id": "57c31257-75c8-4299-a41f-8e17cc56e45c",
   "metadata": {},
   "outputs": [
    {
     "data": {
      "text/plain": [
       "255"
      ]
     },
     "execution_count": 49,
     "metadata": {},
     "output_type": "execute_result"
    }
   ],
   "source": [
    "vowels = set(\"aeiou\")\n",
    "\n",
    "n_nice = 0\n",
    "\n",
    "for line in load(5).strip().split(\"\\n\"):\n",
    "\n",
    "    if sum([1 for c in line if c in vowels]) < 3:\n",
    "        continue\n",
    "\n",
    "    fail = False\n",
    "    for dis in [\"ab\", \"cd\", \"pq\", \"xy\"]:\n",
    "        if dis in line:\n",
    "            fail = True\n",
    "            break\n",
    "    if fail:\n",
    "        continue\n",
    "\n",
    "    if not any([a == b for a, b in zip(line, line[1:])]):\n",
    "        continue\n",
    "\n",
    "    n_nice += 1\n",
    "\n",
    "n_nice"
   ]
  },
  {
   "cell_type": "markdown",
   "id": "ba626552-98f7-4efe-af97-d4da3ebe9e2e",
   "metadata": {},
   "source": [
    "---"
   ]
  },
  {
   "cell_type": "markdown",
   "id": "412e2db6-d136-49d0-a9d9-4a3ece452461",
   "metadata": {},
   "source": [
    "**--- Part Two ---**\n",
    "\n",
    "Realizing the error of his ways, Santa has switched to a better model of determining whether a string is naughty or nice. None of the old rules apply, as they are all clearly ridiculous.\n",
    "\n",
    "Now, a nice string is one with all of the following properties:\n",
    "\n",
    "* It contains a pair of any two letters that appears at least twice in the string without overlapping, like xyxy (xy) or aabcdefgaa (aa), but not like aaa (aa, but it overlaps).\n",
    "* It contains at least one letter which repeats with exactly one letter between them, like xyx, abcdefeghi (efe), or even aaa.\n",
    "\n",
    "For example:\n",
    "\n",
    "* \"qjhvhtzxzqqjkmpb\" is nice because is has a pair that appears twice (qj) and a letter that repeats with exactly one letter between them (zxz).\n",
    "* \"xxyxx\" is nice because it has a pair that appears twice and a letter that repeats with one between, even though the letters used by each rule overlap.\n",
    "* \"uurcxstgmygtbstg\" is naughty because it has a pair (tg) but no repeat with a single letter between them.\n",
    "* \"ieodomkazucvgmuy\" is naughty because it has a repeating letter with one between (odo), but no pair that appears twice.\n",
    "\n",
    "How many strings are nice under these new rules?\n",
    "\n"
   ]
  },
  {
   "cell_type": "code",
   "execution_count": 54,
   "id": "4c72787c-0e2b-48c1-83ff-f68cc0625a78",
   "metadata": {},
   "outputs": [
    {
     "data": {
      "text/plain": [
       "77"
      ]
     },
     "execution_count": 54,
     "metadata": {},
     "output_type": "execute_result"
    }
   ],
   "source": [
    "n_nice = 0\n",
    "\n",
    "for line in load(5).strip().split(\"\\n\"):\n",
    "\n",
    "    success = False\n",
    "    for i in range(len(line) - 1):\n",
    "        bi1 = line[i : i + 2]\n",
    "        for j in range(len(line) - 1):\n",
    "            if j == i or j == i + 1:\n",
    "                continue\n",
    "            bi2 = line[j : j + 2]\n",
    "            if bi1 == bi2:\n",
    "                success = True\n",
    "                break\n",
    "        if success:\n",
    "            break\n",
    "    if not success:\n",
    "        continue\n",
    "\n",
    "    success = False\n",
    "    for i in range(len(line) - 2):\n",
    "        if line[i] == line[i + 2]:\n",
    "            success = True\n",
    "            break\n",
    "    if not success:\n",
    "        continue\n",
    "\n",
    "    n_nice += 1\n",
    "\n",
    "n_nice"
   ]
  },
  {
   "cell_type": "code",
   "execution_count": null,
   "id": "9c0ce6d2-1e00-4ba5-bfa5-feafcf55c298",
   "metadata": {},
   "outputs": [],
   "source": []
  }
 ],
 "metadata": {
  "kernelspec": {
   "display_name": "platy-segmentation",
   "language": "python",
   "name": "platy-segmentation"
  },
  "language_info": {
   "codemirror_mode": {
    "name": "ipython",
    "version": 3
   },
   "file_extension": ".py",
   "mimetype": "text/x-python",
   "name": "python",
   "nbconvert_exporter": "python",
   "pygments_lexer": "ipython3",
   "version": "3.9.6"
  }
 },
 "nbformat": 4,
 "nbformat_minor": 5
}
