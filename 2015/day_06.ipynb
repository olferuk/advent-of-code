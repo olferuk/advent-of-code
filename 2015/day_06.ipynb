{
 "cells": [
  {
   "cell_type": "code",
   "execution_count": 1,
   "id": "9b3f7e54-9284-4e64-a32c-c7618aeba118",
   "metadata": {},
   "outputs": [],
   "source": [
    "%load_ext lab_black\n",
    "\n",
    "from puzzles import load"
   ]
  },
  {
   "cell_type": "markdown",
   "id": "c25ac32b-32d8-4425-bd66-5299ab9723fa",
   "metadata": {},
   "source": [
    "---"
   ]
  },
  {
   "cell_type": "markdown",
   "id": "79dc8b87-f588-47d6-8067-a2954b353d57",
   "metadata": {},
   "source": [
    "**--- Day 6: Probably a Fire Hazard ---**\n",
    "\n",
    "Because your neighbors keep defeating you in the holiday house decorating contest year after year, you've decided to deploy one million lights in a 1000x1000 grid.\n",
    "\n",
    "Furthermore, because you've been especially nice this year, Santa has mailed you instructions on how to display the ideal lighting configuration.\n",
    "\n",
    "Lights in your grid are numbered from 0 to 999 in each direction; the lights at each corner are at 0,0, 0,999, 999,999, and 999,0. The instructions include whether to turn on, turn off, or toggle various inclusive ranges given as coordinate pairs. Each coordinate pair represents opposite corners of a rectangle, inclusive; a coordinate pair like 0,0 through 2,2 therefore refers to 9 lights in a 3x3 square. The lights all start turned off.\n",
    "\n",
    "To defeat your neighbors this year, all you have to do is set up your lights by doing the instructions Santa sent you in order.\n",
    "\n",
    "For example:\n",
    "\n",
    "* turn on 0,0 through 999,999 would turn on (or leave on) every light.\n",
    "* toggle 0,0 through 999,0 would toggle the first line of 1000 lights, turning off the ones that were on, and turning on the ones that were off.\n",
    "* turn off 499,499 through 500,500 would turn off (or leave off) the middle four lights.\n",
    "\n",
    "After following the instructions, how many lights are lit?\n",
    "\n"
   ]
  },
  {
   "cell_type": "code",
   "execution_count": 4,
   "id": "3d511ae9-7197-483d-ad7a-779fe9bf6037",
   "metadata": {},
   "outputs": [],
   "source": [
    "import numpy as np"
   ]
  },
  {
   "cell_type": "code",
   "execution_count": 14,
   "id": "74e65523-a8dc-49cc-977c-1938ab3b5a17",
   "metadata": {},
   "outputs": [
    {
     "data": {
      "text/plain": [
       "377891"
      ]
     },
     "execution_count": 14,
     "metadata": {},
     "output_type": "execute_result"
    }
   ],
   "source": [
    "A = np.zeros([1000, 1000], dtype=np.uint8)\n",
    "\n",
    "for line in load(6).strip().split(\"\\n\"):\n",
    "    cmd, cds2 = line.split(\" through \")\n",
    "    cds2 = [int(x) for x in cds2.split(\",\")]\n",
    "    *cmd, cds1 = cmd.split()\n",
    "    cds1 = [int(x) for x in cds1.split(\",\")]\n",
    "    cmd = cmd[-1]\n",
    "\n",
    "    if cmd == \"on\":\n",
    "        A[cds1[0] : cds2[0] + 1, cds1[1] : cds2[1] + 1] = 1\n",
    "    elif cmd == \"off\":\n",
    "        A[cds1[0] : cds2[0] + 1, cds1[1] : cds2[1] + 1] = 0\n",
    "    elif cmd == \"toggle\":\n",
    "        A[cds1[0] : cds2[0] + 1, cds1[1] : cds2[1] + 1] = (\n",
    "            1 - A[cds1[0] : cds2[0] + 1, cds1[1] : cds2[1] + 1]\n",
    "        )\n",
    "\n",
    "A.sum()"
   ]
  },
  {
   "cell_type": "markdown",
   "id": "d13da474-cc82-4fbc-abbb-6eaf5a83d9b4",
   "metadata": {},
   "source": [
    "**--- Part Two ---**\n",
    "\n",
    "You just finish implementing your winning light pattern when you realize you mistranslated Santa's message from Ancient Nordic Elvish.\n",
    "\n",
    "The light grid you bought actually has individual brightness controls; each light can have a brightness of zero or more. The lights all start at zero.\n",
    "\n",
    "The phrase turn on actually means that you should increase the brightness of those lights by 1.\n",
    "\n",
    "The phrase turn off actually means that you should decrease the brightness of those lights by 1, to a minimum of zero.\n",
    "\n",
    "The phrase toggle actually means that you should increase the brightness of those lights by 2.\n",
    "\n",
    "What is the total brightness of all lights combined after following Santa's instructions?\n",
    "\n",
    "For example:\n",
    "\n",
    "- turn on 0,0 through 0,0 would increase the total brightness by 1.\n",
    "- toggle 0,0 through 999,999 would increase the total brightness by 2000000.\n"
   ]
  },
  {
   "cell_type": "code",
   "execution_count": 15,
   "id": "a73ed322-01ef-49de-9ec2-13b6303a2aaa",
   "metadata": {},
   "outputs": [
    {
     "data": {
      "text/plain": [
       "14110788"
      ]
     },
     "execution_count": 15,
     "metadata": {},
     "output_type": "execute_result"
    }
   ],
   "source": [
    "A = np.zeros([1000, 1000], dtype=int)\n",
    "\n",
    "for line in load(6).strip().split(\"\\n\"):\n",
    "    cmd, cds2 = line.split(\" through \")\n",
    "    cds2 = [int(x) for x in cds2.split(\",\")]\n",
    "    *cmd, cds1 = cmd.split()\n",
    "    cds1 = [int(x) for x in cds1.split(\",\")]\n",
    "    cmd = cmd[-1]\n",
    "\n",
    "    if cmd == \"on\":\n",
    "        A[cds1[0] : cds2[0] + 1, cds1[1] : cds2[1] + 1] = (\n",
    "            A[cds1[0] : cds2[0] + 1, cds1[1] : cds2[1] + 1] + 1\n",
    "        )\n",
    "    elif cmd == \"off\":\n",
    "        A[cds1[0] : cds2[0] + 1, cds1[1] : cds2[1] + 1] = np.clip(\n",
    "            A[cds1[0] : cds2[0] + 1, cds1[1] : cds2[1] + 1] - 1, 0, None\n",
    "        )\n",
    "    elif cmd == \"toggle\":\n",
    "        A[cds1[0] : cds2[0] + 1, cds1[1] : cds2[1] + 1] = (\n",
    "            A[cds1[0] : cds2[0] + 1, cds1[1] : cds2[1] + 1] + 2\n",
    "        )\n",
    "\n",
    "A.sum()"
   ]
  }
 ],
 "metadata": {
  "kernelspec": {
   "display_name": "platy-segmentation",
   "language": "python",
   "name": "platy-segmentation"
  },
  "language_info": {
   "codemirror_mode": {
    "name": "ipython",
    "version": 3
   },
   "file_extension": ".py",
   "mimetype": "text/x-python",
   "name": "python",
   "nbconvert_exporter": "python",
   "pygments_lexer": "ipython3",
   "version": "3.9.6"
  }
 },
 "nbformat": 4,
 "nbformat_minor": 5
}
