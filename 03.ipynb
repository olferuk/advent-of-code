{
 "cells": [
  {
   "cell_type": "code",
   "execution_count": 1,
   "id": "80521f57-4705-4d36-a0e0-ebbc138af4da",
   "metadata": {},
   "outputs": [
    {
     "name": "stdout",
     "output_type": "stream",
     "text": [
      "--2022-02-14 00:34:44--  https://raw.githubusercontent.com/dwyl/english-words/master/words.txt\n",
      "Resolving raw.githubusercontent.com (raw.githubusercontent.com)... 185.199.108.133, 185.199.111.133, 185.199.110.133, ...\n",
      "Connecting to raw.githubusercontent.com (raw.githubusercontent.com)|185.199.108.133|:443... connected.\n",
      "HTTP request sent, awaiting response... 200 OK\n",
      "Length: 4862992 (4,6M) [text/plain]\n",
      "Saving to: ‘words.txt’\n",
      "\n",
      "words.txt           100%[===================>]   4,64M  2,50MB/s    in 1,9s    \n",
      "\n",
      "2022-02-14 00:34:46 (2,50 MB/s) - ‘words.txt’ saved [4862992/4862992]\n",
      "\n"
     ]
    }
   ],
   "source": [
    "!wget https://raw.githubusercontent.com/dwyl/english-words/master/words.txt"
   ]
  },
  {
   "cell_type": "code",
   "execution_count": 4,
   "id": "6331500e-4b57-41ce-8cfe-8813cbc1003a",
   "metadata": {},
   "outputs": [],
   "source": [
    "lines = open('words.txt').read().split('\\n')"
   ]
  },
  {
   "cell_type": "code",
   "execution_count": 6,
   "id": "806f3f1a-fa35-431e-bedf-7056ae3221b5",
   "metadata": {},
   "outputs": [],
   "source": [
    "lines = [x for x in lines if len(x) == 5]"
   ]
  },
  {
   "cell_type": "code",
   "execution_count": 8,
   "id": "22f0aff7-2dc8-4a96-82a6-e026d05364a5",
   "metadata": {},
   "outputs": [],
   "source": [
    "lines = [x for x in lines if x[1] == 'y' and x[-2:] == 'ic']"
   ]
  },
  {
   "cell_type": "code",
   "execution_count": 9,
   "id": "b9ed1e18-2fd0-485b-8e6d-1c48a38fcbe2",
   "metadata": {},
   "outputs": [
    {
     "data": {
      "text/plain": [
       "11"
      ]
     },
     "execution_count": 9,
     "metadata": {},
     "output_type": "execute_result"
    }
   ],
   "source": [
    "len(lines)"
   ]
  },
  {
   "cell_type": "code",
   "execution_count": 10,
   "id": "949c286a-c429-400d-a848-78dc9645ed24",
   "metadata": {},
   "outputs": [
    {
     "data": {
      "text/plain": [
       "['Cynic',\n",
       " 'gynic',\n",
       " 'gyric',\n",
       " 'hylic',\n",
       " 'lyric',\n",
       " 'lytic',\n",
       " 'pylic',\n",
       " 'pyric',\n",
       " 'typic',\n",
       " 'xylic',\n",
       " 'zymic']"
      ]
     },
     "execution_count": 10,
     "metadata": {},
     "output_type": "execute_result"
    }
   ],
   "source": [
    "lines"
   ]
  },
  {
   "cell_type": "code",
   "execution_count": 5,
   "id": "0f8c47ce-465b-44a2-9567-da6681c65998",
   "metadata": {},
   "outputs": [
    {
     "name": "stdout",
     "output_type": "stream",
     "text": [
      "import requests\n",
      "import numpy as np\n",
      "\n",
      "\n",
      "def download_puzzle(day: int, year: int = 2015) -> str:\n",
      "    headers = {\n",
      "        \"cookie\": (\n",
      "            'session=53616c7465645f5f59ee1a2b43d34f4327c8c09d04478ed9e8acd1782d780899f0d695b78b0f53d303783ae43df6384c'\n",
      "        )\n",
      "    }\n",
      "    response = requests.get(\n",
      "        f\"https://adventofcode.com/{year}/day/{day}/input\", headers=headers\n",
      "    )\n",
      "    return response.text\n",
      "\n",
      "\n",
      "def load(day: int) -> str:\n",
      "    with open(f'data/{day:02d}.txt') as f:\n",
      "        data = f.read()\n",
      "    return data\n",
      "\n",
      "def load_lines(day: int) -> str:\n",
      "    data = load(day)\n",
      "    return data.strip().split('\\n')\n",
      "\n",
      "def load_tokens(day: int, sep: str='\\n') -> str:\n",
      "    data = load(day)\n",
      "    return data.strip().split(sep)\n",
      "\n",
      "def load_array(day: int) -> str:\n",
      "    data = load(day)\n",
      "    return np.array([line.split() for line in data.strip().split('\\n')])\n",
      "\n"
     ]
    }
   ],
   "source": [
    "print(open(\"puzzles.py\").read())"
   ]
  },
  {
   "cell_type": "code",
   "execution_count": null,
   "id": "1defdd54-bd87-4f36-a313-70726295f205",
   "metadata": {},
   "outputs": [],
   "source": [
    "df = pd.read_csv('/datasets/houses.csv')"
   ]
  },
  {
   "cell_type": "code",
   "execution_count": 1,
   "id": "6ceb0cb4-b421-4227-a7fe-e0848ccfaa48",
   "metadata": {},
   "outputs": [],
   "source": [
    "%load_ext lab_black"
   ]
  },
  {
   "cell_type": "markdown",
   "id": "63fad036-d69d-40d8-b98c-7c166c7ad9bf",
   "metadata": {},
   "source": [
    "# Title\n",
    "\n",
    "A text.\n",
    "\n",
    "[Funny video!](https://youtube.com/abdbahs)\n",
    "\n",
    "---\n",
    "\n",
    "## Subtitle"
   ]
  },
  {
   "cell_type": "markdown",
   "id": "10d658dc-b421-405c-8e8e-92aa10a5757e",
   "metadata": {},
   "source": [
    "A cat and a dog"
   ]
  },
  {
   "cell_type": "markdown",
   "id": "bb500751-067a-43bb-b2ab-baccc972559b",
   "metadata": {},
   "source": [
    "```python\n",
    "def f(x):\n",
    "    print(x)\n",
    "```"
   ]
  },
  {
   "cell_type": "code",
   "execution_count": 2,
   "id": "45ac5bd1-62ad-4340-b73f-100c758cd219",
   "metadata": {},
   "outputs": [],
   "source": [
    "# Была собака\n",
    "def f():\n",
    "    q = [\n",
    "        x ** 2 + 123 + u + v\n",
    "        for x in range(100)\n",
    "        for u in range(12)\n",
    "        for v in range(10)\n",
    "        for b in range(10)\n",
    "    ]\n",
    "    print(2 + 2)"
   ]
  },
  {
   "cell_type": "code",
   "execution_count": 21,
   "id": "0a7974d3-7255-43c4-9f68-1ecefdf08d27",
   "metadata": {},
   "outputs": [
    {
     "data": {
      "text/plain": [
       "{'a1': 1, 'a2': 4, 'a3': 5, 'a4': 6, 'a5': 7}"
      ]
     },
     "execution_count": 21,
     "metadata": {},
     "output_type": "execute_result"
    }
   ],
   "source": [
    "{\n",
    "    \"a1\": 1,\n",
    "    \"a2\": 4,\n",
    "    \"a3\": 5,\n",
    "    \"a4\": 6,\n",
    "    \"a5\": 7,\n",
    "}"
   ]
  },
  {
   "cell_type": "code",
   "execution_count": 17,
   "id": "fb557795-56e3-433e-b2c4-aa85afc4345f",
   "metadata": {},
   "outputs": [],
   "source": [
    "import pandas as pd"
   ]
  },
  {
   "cell_type": "code",
   "execution_count": null,
   "id": "39a61db2-8de5-4901-95d8-bdce929152eb",
   "metadata": {},
   "outputs": [],
   "source": []
  },
  {
   "cell_type": "code",
   "execution_count": null,
   "id": "c3a14f73-ef73-4001-bd9f-056ea8a93229",
   "metadata": {},
   "outputs": [],
   "source": []
  },
  {
   "cell_type": "code",
   "execution_count": null,
   "id": "02c91c7b-c3bc-4977-aaee-7d6bf68c3c95",
   "metadata": {},
   "outputs": [],
   "source": []
  },
  {
   "cell_type": "code",
   "execution_count": null,
   "id": "2a436865-e4d7-4a77-85af-979770491c73",
   "metadata": {},
   "outputs": [],
   "source": []
  },
  {
   "cell_type": "code",
   "execution_count": null,
   "id": "8a0f2bf0-1c09-4022-a60a-56d111246ee9",
   "metadata": {},
   "outputs": [],
   "source": []
  },
  {
   "cell_type": "code",
   "execution_count": null,
   "id": "49288ee1-cab2-46a8-8a20-255b1da94ac9",
   "metadata": {},
   "outputs": [],
   "source": []
  },
  {
   "cell_type": "code",
   "execution_count": null,
   "id": "1f9956f4-3d87-4136-802e-12a54475c949",
   "metadata": {},
   "outputs": [],
   "source": []
  },
  {
   "cell_type": "code",
   "execution_count": null,
   "id": "ae3a0832-a941-4d69-87ed-312ef92aba9b",
   "metadata": {},
   "outputs": [],
   "source": []
  },
  {
   "cell_type": "code",
   "execution_count": null,
   "id": "c273aa12-b6ca-46f0-af77-e3ccd0283cd3",
   "metadata": {},
   "outputs": [],
   "source": []
  },
  {
   "cell_type": "code",
   "execution_count": null,
   "id": "b8897ffd-a3c3-4925-b69b-c9bf8fe6eec2",
   "metadata": {},
   "outputs": [],
   "source": []
  },
  {
   "cell_type": "code",
   "execution_count": null,
   "id": "629f0d77-71d6-4ebe-97f3-fa122125ba89",
   "metadata": {},
   "outputs": [],
   "source": []
  },
  {
   "cell_type": "code",
   "execution_count": 1,
   "id": "4100cf6d-7298-43c8-85d6-6319031b1633",
   "metadata": {},
   "outputs": [],
   "source": [
    "%load_ext lab_black"
   ]
  },
  {
   "cell_type": "code",
   "execution_count": 2,
   "id": "1dccf615-fe0c-413a-8fe7-06abbbdad43d",
   "metadata": {},
   "outputs": [],
   "source": [
    "import numpy as np\n",
    "import pandas as pd\n",
    "import matplotlib.pyplot as plt"
   ]
  },
  {
   "cell_type": "code",
   "execution_count": 14,
   "id": "0ab1755c-ed3e-47ed-8f6a-f2713f8c668b",
   "metadata": {},
   "outputs": [
    {
     "ename": "AttributeError",
     "evalue": "'list' object has no attribute 'apend'",
     "output_type": "error",
     "traceback": [
      "\u001b[0;31m---------------------------------------------------------------------------\u001b[0m",
      "\u001b[0;31mAttributeError\u001b[0m                            Traceback (most recent call last)",
      "\u001b[0;32m/var/folders/x4/t1fx1l8s0f97y033bl0gpgcr0000gn/T/ipykernel_29755/3057232200.py\u001b[0m in \u001b[0;36m<module>\u001b[0;34m\u001b[0m\n\u001b[1;32m      1\u001b[0m \u001b[0mmy_list\u001b[0m \u001b[0;34m=\u001b[0m \u001b[0;34m[\u001b[0m\u001b[0;34m]\u001b[0m\u001b[0;34m\u001b[0m\u001b[0;34m\u001b[0m\u001b[0m\n\u001b[1;32m      2\u001b[0m \u001b[0;32mfor\u001b[0m \u001b[0mi\u001b[0m \u001b[0;32min\u001b[0m \u001b[0mrange\u001b[0m\u001b[0;34m(\u001b[0m\u001b[0;36m20\u001b[0m\u001b[0;34m)\u001b[0m\u001b[0;34m:\u001b[0m\u001b[0;34m\u001b[0m\u001b[0;34m\u001b[0m\u001b[0m\n\u001b[0;32m----> 3\u001b[0;31m     \u001b[0mmy_list\u001b[0m\u001b[0;34m.\u001b[0m\u001b[0mapend\u001b[0m\u001b[0;34m(\u001b[0m\u001b[0mi\u001b[0m\u001b[0;34m)\u001b[0m\u001b[0;34m\u001b[0m\u001b[0;34m\u001b[0m\u001b[0m\n\u001b[0m",
      "\u001b[0;31mAttributeError\u001b[0m: 'list' object has no attribute 'apend'"
     ]
    }
   ],
   "source": [
    "my_list = []\n",
    "for i in range(20):\n",
    "    my_list.apend(i)"
   ]
  },
  {
   "cell_type": "code",
   "execution_count": 3,
   "id": "93b4c4c6-f7ce-45b8-b95c-46ca01f5bb5c",
   "metadata": {},
   "outputs": [
    {
     "name": "stdout",
     "output_type": "stream",
     "text": [
      "a\n",
      "b\n"
     ]
    }
   ],
   "source": [
    "print(\"a\\nb\")"
   ]
  },
  {
   "cell_type": "code",
   "execution_count": 4,
   "id": "374db374-5c09-4f37-97af-104634492216",
   "metadata": {},
   "outputs": [
    {
     "name": "stdout",
     "output_type": "stream",
     "text": [
      "a\n",
      "b\n"
     ]
    }
   ],
   "source": [
    "print(\n",
    "    \"\"\"a\n",
    "b\"\"\"\n",
    ")"
   ]
  },
  {
   "cell_type": "markdown",
   "id": "7747ac4f-4ce1-477b-8098-a438b9f45cfb",
   "metadata": {
    "tags": []
   },
   "source": [
    "# [Задача 1](https://adventofcode.com/2020/day/1)"
   ]
  },
  {
   "cell_type": "code",
   "execution_count": 8,
   "id": "4fc5e068-478e-4d5c-b325-3664289b4032",
   "metadata": {},
   "outputs": [],
   "source": [
    "s = \"\"\"1788\n",
    "1627\n",
    "1883\n",
    "1828\n",
    "1924\n",
    "1993\n",
    "972\n",
    "1840\n",
    "1866\n",
    "1762\n",
    "1781\n",
    "1782\n",
    "1520\n",
    "1971\n",
    "1660\n",
    "1857\n",
    "1867\n",
    "1564\n",
    "1983\n",
    "1391\n",
    "2002\n",
    "494\n",
    "1500\n",
    "1967\n",
    "1702\n",
    "1958\n",
    "1886\n",
    "1910\n",
    "1838\n",
    "1985\n",
    "1836\n",
    "2009\n",
    "2005\n",
    "1602\n",
    "1939\n",
    "1945\n",
    "1609\n",
    "1582\n",
    "1647\n",
    "1737\n",
    "1982\n",
    "1931\n",
    "790\n",
    "745\n",
    "1598\n",
    "1586\n",
    "1547\n",
    "1951\n",
    "1264\n",
    "1382\n",
    "1776\n",
    "1499\n",
    "1977\n",
    "1766\n",
    "1360\n",
    "1807\n",
    "1991\n",
    "1981\n",
    "1693\n",
    "634\n",
    "1847\n",
    "1774\n",
    "1990\n",
    "1409\n",
    "1410\n",
    "1974\n",
    "1862\n",
    "1744\n",
    "1827\n",
    "1978\n",
    "1980\n",
    "2003\n",
    "1491\n",
    "1595\n",
    "1640\n",
    "1576\n",
    "1887\n",
    "1746\n",
    "1617\n",
    "1923\n",
    "1706\n",
    "1964\n",
    "60\n",
    "1620\n",
    "1959\n",
    "257\n",
    "1395\n",
    "1854\n",
    "1843\n",
    "1682\n",
    "1667\n",
    "1639\n",
    "279\n",
    "1911\n",
    "1986\n",
    "1575\n",
    "1232\n",
    "1919\n",
    "1852\n",
    "1509\n",
    "1976\n",
    "1465\n",
    "2008\n",
    "1953\n",
    "1518\n",
    "1795\n",
    "1912\n",
    "1269\n",
    "1835\n",
    "1984\n",
    "1538\n",
    "2001\n",
    "1954\n",
    "1365\n",
    "1569\n",
    "1418\n",
    "1844\n",
    "1580\n",
    "1875\n",
    "1551\n",
    "1861\n",
    "1946\n",
    "1810\n",
    "1655\n",
    "1987\n",
    "1549\n",
    "1301\n",
    "1859\n",
    "1929\n",
    "1254\n",
    "1604\n",
    "1933\n",
    "1998\n",
    "1661\n",
    "1899\n",
    "1411\n",
    "1975\n",
    "1707\n",
    "1966\n",
    "1601\n",
    "1936\n",
    "1440\n",
    "1942\n",
    "1937\n",
    "1851\n",
    "1731\n",
    "1257\n",
    "1533\n",
    "1405\n",
    "1890\n",
    "1600\n",
    "1970\n",
    "1626\n",
    "1824\n",
    "1442\n",
    "2006\n",
    "1796\n",
    "1658\n",
    "1930\n",
    "646\n",
    "1904\n",
    "1489\n",
    "2004\n",
    "1922\n",
    "1424\n",
    "1802\n",
    "1623\n",
    "1870\n",
    "1242\n",
    "1591\n",
    "1338\n",
    "754\n",
    "1826\n",
    "1305\n",
    "1825\n",
    "1872\n",
    "1741\n",
    "1979\n",
    "107\n",
    "1833\n",
    "1856\n",
    "1793\n",
    "1952\n",
    "1791\n",
    "1728\n",
    "2010\n",
    "1965\n",
    "1646\n",
    "1522\n",
    "1671\n",
    "1624\n",
    "1876\n",
    "1537\n",
    "1759\n",
    "1962\n",
    "1773\n",
    "1907\n",
    "1573\n",
    "1908\n",
    "1903\"\"\""
   ]
  },
  {
   "cell_type": "code",
   "execution_count": 11,
   "id": "d78b60fb-73d3-496d-aea4-ed350fe6290a",
   "metadata": {},
   "outputs": [
    {
     "data": {
      "text/plain": [
       "200"
      ]
     },
     "execution_count": 11,
     "metadata": {},
     "output_type": "execute_result"
    }
   ],
   "source": [
    "a = [int(x) for x in s.split(\"\\n\")]\n",
    "\n",
    "len(a)"
   ]
  },
  {
   "cell_type": "code",
   "execution_count": 14,
   "id": "b688f858-90a3-45f0-bc41-42891dc5ae0a",
   "metadata": {},
   "outputs": [
    {
     "name": "stdout",
     "output_type": "stream",
     "text": [
      "485739\n"
     ]
    }
   ],
   "source": [
    "found = False\n",
    "for i in range(len(a)):\n",
    "    for j in range(1, len(a)):\n",
    "        if i == j:\n",
    "            continue\n",
    "        if a[i] + a[j] == 2020:\n",
    "            print(a[i] * a[j])\n",
    "            found = True\n",
    "            break\n",
    "    if found:\n",
    "        break"
   ]
  },
  {
   "cell_type": "code",
   "execution_count": 16,
   "id": "e2e38ad0-d31e-4ddc-be84-5997aedcd639",
   "metadata": {},
   "outputs": [
    {
     "name": "stdout",
     "output_type": "stream",
     "text": [
      "485739\n"
     ]
    }
   ],
   "source": [
    "a_sorted = sorted(a)\n",
    "\n",
    "s = set()\n",
    "\n",
    "for x in a:\n",
    "    if 2020 - x in s:\n",
    "        print((2020 - x) * x)\n",
    "        break\n",
    "    s.add(x)"
   ]
  },
  {
   "cell_type": "code",
   "execution_count": 17,
   "id": "9eb9dafc-59d6-45c6-ab59-313d3a21b663",
   "metadata": {},
   "outputs": [
    {
     "name": "stdout",
     "output_type": "stream",
     "text": [
      "161109702\n"
     ]
    }
   ],
   "source": [
    "a_sorted = sorted(a)\n",
    "\n",
    "s = set()\n",
    "\n",
    "found = False\n",
    "for i in range(len(a)):\n",
    "    s.add(a[i])\n",
    "\n",
    "    for j in range(len(a)):\n",
    "        if i == j:\n",
    "            continue\n",
    "\n",
    "        if 2020 - a[i] - a[j] in s:\n",
    "            print((2020 - a[i] - a[j]) * a[i] * a[j])\n",
    "            found = True\n",
    "            break\n",
    "\n",
    "        s.add(a[j])\n",
    "\n",
    "    if found:\n",
    "        break"
   ]
  },
  {
   "cell_type": "markdown",
   "id": "786829bb-519c-448a-b5ee-9f0ad30d6990",
   "metadata": {},
   "source": [
    "----"
   ]
  },
  {
   "cell_type": "markdown",
   "id": "443df0db-bb6a-40a3-94fb-b8933bdea010",
   "metadata": {},
   "source": [
    "# [Задача 2](https://adventofcode.com/2016/day/1)"
   ]
  },
  {
   "cell_type": "code",
   "execution_count": 18,
   "id": "d42eb7b3-acef-4a6e-a1c7-0cac61e78190",
   "metadata": {},
   "outputs": [],
   "source": [
    "s = \"\"\"R3, R1, R4, L4, R3, R1, R1, L3, L5, L5, L3, R1, R4, L2, L1, R3, L3, R2, R1, R1, L5, L2, L1, R2, L4, R1, L2, L4, R2, R2, L2, L4, L3, R1, R4, R3, L1, R1, L5, R4, L2, R185, L2, R4, R49, L3, L4, R5, R1, R1, L1, L1, R2, L1, L4, R4, R5, R4, L3, L5, R1, R71, L1, R1, R186, L5, L2, R5, R4, R1, L5, L2, R3, R2, R5, R5, R4, R1, R4, R2, L1, R4, L1, L4, L5, L4, R4, R5, R1, L2, L4, L1, L5, L3, L5, R2, L5, R4, L4, R3, R3, R1, R4, L1, L2, R2, L1, R4, R2, R2, R5, R2, R5, L1, R1, L4, R5, R4, R2, R4, L5, R3, R2, R5, R3, L3, L5, L4, L3, L2, L2, R3, R2, L1, L1, L5, R1, L3, R3, R4, R5, L3, L5, R1, L3, L5, L5, L2, R1, L3, L1, L3, R4, L1, R3, L2, L2, R3, R3, R4, R4, R1, L4, R1, L5\"\"\""
   ]
  },
  {
   "cell_type": "code",
   "execution_count": 19,
   "id": "ad1b860e-a0e7-4699-8c5f-4feef7fab8e9",
   "metadata": {},
   "outputs": [],
   "source": [
    "cmds = s.split(\", \")"
   ]
  },
  {
   "cell_type": "code",
   "execution_count": 20,
   "id": "6fc0e07c-504c-450f-82e8-0be3145b20b1",
   "metadata": {},
   "outputs": [
    {
     "data": {
      "text/plain": [
       "165"
      ]
     },
     "execution_count": 20,
     "metadata": {},
     "output_type": "execute_result"
    }
   ],
   "source": [
    "len(cmds)"
   ]
  },
  {
   "cell_type": "code",
   "execution_count": 21,
   "id": "d582379a-7433-4d5f-a854-41bd42790b27",
   "metadata": {},
   "outputs": [],
   "source": [
    "import numpy as np"
   ]
  },
  {
   "cell_type": "code",
   "execution_count": 22,
   "id": "66e5e34c-227d-4019-a106-3c6314ba3591",
   "metadata": {},
   "outputs": [],
   "source": [
    "coords = np.array([0, 0])\n",
    "\n",
    "current_direction = 0\n",
    "\n",
    "shifts = np.array([[0, 1], [1, 0], [0, -1], [-1, 0]])\n",
    "\n",
    "history = []\n",
    "\n",
    "for cmd in cmds:\n",
    "    direction, distance = cmd[0], cmd[1:]\n",
    "    distance = int(distance)\n",
    "\n",
    "    current_direction += 1 if direction == \"R\" else -1\n",
    "    current_direction = current_direction % len(shifts)\n",
    "\n",
    "    coords += distance * shifts[current_direction]\n",
    "\n",
    "    history.append(tuple(coords))\n",
    "\n",
    "history = np.stack(history)"
   ]
  },
  {
   "cell_type": "code",
   "execution_count": 23,
   "id": "ed33309b-2b2d-4d3a-a87f-fc5ea0f1970b",
   "metadata": {},
   "outputs": [
    {
     "data": {
      "text/plain": [
       "[<matplotlib.lines.Line2D at 0x11fc3e4c0>]"
      ]
     },
     "execution_count": 23,
     "metadata": {},
     "output_type": "execute_result"
    },
    {
     "data": {
      "image/png": "[encoded data removed]",
      "text/plain": [
       "<Figure size 432x288 with 1 Axes>"
      ]
     },
     "metadata": {
      "needs_background": "light"
     },
     "output_type": "display_data"
    }
   ],
   "source": [
    "plt.plot(history[:, 0], history[:, 1])"
   ]
  },
  {
   "cell_type": "code",
   "execution_count": 24,
   "id": "7223e501-91af-4e6a-ac21-b51a8a313438",
   "metadata": {},
   "outputs": [],
   "source": [
    "coords = np.array([0, 0])\n",
    "\n",
    "current_direction = 0\n",
    "shifts = np.array([[0, 1], [1, 0], [0, -1], [-1, 0]])\n",
    "\n",
    "history = set()\n",
    "\n",
    "found = False\n",
    "for cmd in cmds:\n",
    "    direction, distance = cmd[0], cmd[1:]\n",
    "    distance = int(distance)\n",
    "\n",
    "    current_direction += 1 if direction == \"R\" else -1\n",
    "    current_direction = current_direction % len(shifts)\n",
    "\n",
    "    for _ in range(distance):\n",
    "        coords += shifts[current_direction]\n",
    "\n",
    "        if tuple(coords) in history:\n",
    "            found = True\n",
    "            break\n",
    "\n",
    "        history.add(tuple(coords))\n",
    "\n",
    "    if found:\n",
    "        break"
   ]
  },
  {
   "cell_type": "code",
   "execution_count": 25,
   "id": "d285a1bb-64b1-475b-8d86-082538dda9c1",
   "metadata": {},
   "outputs": [
    {
     "data": {
      "text/plain": [
       "159"
      ]
     },
     "execution_count": 25,
     "metadata": {},
     "output_type": "execute_result"
    }
   ],
   "source": [
    "np.abs(coords).sum()"
   ]
  },
  {
   "cell_type": "markdown",
   "id": "13e8cb5c-87da-4e69-a4d5-503012b9716a",
   "metadata": {},
   "source": [
    "---"
   ]
  },
  {
   "cell_type": "markdown",
   "id": "bd8d1d8f-6313-4991-a351-9531d7615b84",
   "metadata": {},
   "source": [
    "# Задачка от Саши"
   ]
  },
  {
   "cell_type": "code",
   "execution_count": 26,
   "id": "1dc62549-01a2-441f-b6f8-fb79f40317fa",
   "metadata": {},
   "outputs": [],
   "source": [
    "def f():\n",
    "    for x in range(1, 11):\n",
    "        yield x"
   ]
  },
  {
   "cell_type": "code",
   "execution_count": 27,
   "id": "c656aacc-635c-4699-9a98-310093eeacd3",
   "metadata": {},
   "outputs": [],
   "source": [
    "gen = f()"
   ]
  },
  {
   "cell_type": "code",
   "execution_count": 28,
   "id": "ae693393-a3f2-49db-b577-4781fd3e982a",
   "metadata": {},
   "outputs": [
    {
     "name": "stdout",
     "output_type": "stream",
     "text": [
      "1\n",
      "2\n",
      "3\n",
      "4\n",
      "5\n",
      "6\n",
      "7\n",
      "8\n",
      "9\n",
      "10\n"
     ]
    }
   ],
   "source": [
    "for x in gen:\n",
    "    print(x)"
   ]
  },
  {
   "cell_type": "code",
   "execution_count": 30,
   "id": "a2430503-cb4b-4f96-ad8e-3208c2707c7d",
   "metadata": {},
   "outputs": [],
   "source": [
    "def flatten_everything(*args):\n",
    "    def _enum(generator, k=None):\n",
    "        if type(generator) == dict:\n",
    "            for k, v in generator.items():\n",
    "                yield from _enum(v, k)\n",
    "            return\n",
    "\n",
    "        for x in generator:\n",
    "            if hasattr(x, \"__len__\"):\n",
    "                yield from _enum(x)\n",
    "            else:\n",
    "                yield x if k is None else (k, x)\n",
    "\n",
    "    for generator in args:\n",
    "        yield from _enum(generator)"
   ]
  },
  {
   "cell_type": "code",
   "execution_count": 32,
   "id": "e2eba552-6b4c-4193-b1df-305311081c5e",
   "metadata": {},
   "outputs": [
    {
     "data": {
      "text/plain": [
       "[1, 2, 3, 4, 5, 6, 7]"
      ]
     },
     "execution_count": 32,
     "metadata": {},
     "output_type": "execute_result"
    }
   ],
   "source": [
    "gen = flatten_everything([[1, 2, 3], 4, 5], [6, 7])\n",
    "[x for x in gen]"
   ]
  },
  {
   "cell_type": "code",
   "execution_count": 34,
   "id": "999fec47-fbb6-4c6f-ab83-56c38a6218be",
   "metadata": {},
   "outputs": [
    {
     "data": {
      "text/plain": [
       "[('a', 1), ('b', 2), ('b', 3)]"
      ]
     },
     "execution_count": 34,
     "metadata": {},
     "output_type": "execute_result"
    }
   ],
   "source": [
    "[x for x in flatten_everything({\"a\": [1], \"b\": [2, 3], \"c\": []})]"
   ]
  },
  {
   "cell_type": "code",
   "execution_count": 36,
   "id": "e5873e57-9da9-4e3c-b354-d147216f0766",
   "metadata": {},
   "outputs": [
    {
     "data": {
      "text/plain": [
       "[1.0,\n",
       " 0.0,\n",
       " 0.0,\n",
       " 0.0,\n",
       " 1.0,\n",
       " 0.0,\n",
       " 0.0,\n",
       " 0.0,\n",
       " 1.0,\n",
       " 5.0,\n",
       " 0.0,\n",
       " 0.0,\n",
       " 0.0,\n",
       " 5.0,\n",
       " 0.0,\n",
       " 0.0,\n",
       " 0.0,\n",
       " 5.0]"
      ]
     },
     "execution_count": 36,
     "metadata": {},
     "output_type": "execute_result"
    }
   ],
   "source": [
    "[x for x in flatten_everything(np.eye(3), 5 * np.eye(3))]"
   ]
  },
  {
   "cell_type": "code",
   "execution_count": 38,
   "id": "cb085985-1e4a-481f-b31d-8d3c7b70fddb",
   "metadata": {},
   "outputs": [
    {
     "data": {
      "text/plain": [
       "[1, 2, 3, 4, 5, 6, 7, 8, 9, 10, -2, -5, -8, -11, -14]"
      ]
     },
     "execution_count": 38,
     "metadata": {},
     "output_type": "execute_result"
    }
   ],
   "source": [
    "def f():\n",
    "    for x in range(1, 11):\n",
    "        yield x\n",
    "\n",
    "\n",
    "def g():\n",
    "    for x in range(-2, -15, -3):\n",
    "        yield x\n",
    "\n",
    "\n",
    "[x for x in flatten_everything(f(), g())]"
   ]
  }
 ],
 "metadata": {
  "kernelspec": {
   "display_name": "platy-segmentation",
   "language": "python",
   "name": "platy-segmentation"
  },
  "language_info": {
   "codemirror_mode": {
    "name": "ipython",
    "version": 3
   },
   "file_extension": ".py",
   "mimetype": "text/x-python",
   "name": "python",
   "nbconvert_exporter": "python",
   "pygments_lexer": "ipython3",
   "version": "3.9.6"
  }
 },
 "nbformat": 4,
 "nbformat_minor": 5
}
